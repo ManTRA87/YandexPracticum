{
 "cells": [
  {
   "cell_type": "markdown",
   "metadata": {},
   "source": [
    "Привет, меня зовут Артем Хуршудов. Сегодня я проверю твой проект.\n",
    "<br> Дальнейшее общение будет происходить на \"ты\" если это не вызывает никаких проблем.\n",
    "<br> Желательно реагировать на каждый мой комментарий ('исправил', 'не понятно как исправить ошибку', ...)\n",
    "<br> Пожалуйста, не удаляй комментарии ревьюера, так как они повышают качество повторного ревью.\n",
    "\n",
    "Комментарии будут в <font color='green'>зеленой</font>, <font color='blue'>синей</font> или <font color='red'>красной</font> рамках:\n",
    "\n",
    "<div class=\"alert alert-block alert-success\">\n",
    "<b>Успех:</b> Если все сделано отлично\n",
    "</div>\n",
    "\n",
    "<div class=\"alert alert-block alert-info\">\n",
    "<b>Совет: </b> Если можно немного улучшить\n",
    "</div>\n",
    "\n",
    "<div class=\"alert alert-block alert-danger\">\n",
    "<b>Ошибка:</b> Если требуются исправления. Работа не может быть принята с красными комментариями.\n",
    "</div>\n",
    "\n",
    "-------------------\n",
    "\n",
    "Будет очень хорошо, если ты будешь помечать свои действия следующим образом:\n",
    "<div class=\"alert alert-block alert-warning\">\n",
    "<b>Комментарий студента:</b> ...\n",
    "</div>\n",
    "\n",
    "<div class=\"alert alert-block alert-warning\">\n",
    "<b>Изменения:</b> Были внесены следующие изменения ...\n",
    "</div>\n",
    "\n",
    "<font color='green'><b>Полезные (и просто интересные) материалы:</b></font> \\\n",
    "Для работы с текстами используют и другие подходы. Например, сейчас активно используются RNN (LSTM) и трансформеры (BERT и другие с улицы Сезам, например, ELMO). НО! Они не являются панацеей, не всегда они нужны, так как и TF-IDF или Word2Vec + модели из классического ML тоже могут справляться. \\\n",
    "BERT тяжелый, существует много его вариаций для разных задач, есть готовые модели, есть надстройки над библиотекой transformers. Если, обучать BERT на GPU (можно в Google Colab или Kaggle), то должно быть побыстрее.\\\n",
    "https://huggingface.co/transformers/model_doc/bert.html \\\n",
    "https://t.me/renat_alimbekov \\\n",
    "https://colah.github.io/posts/2015-08-Understanding-LSTMs/ - Про LSTM \\\n",
    "https://web.stanford.edu/~jurafsky/slp3/10.pdf - про энкодер-декодер модели, этеншены\\\n",
    "https://pytorch.org/tutorials/beginner/transformer_tutorial.html - официальный гайд\n",
    "по трансформеру от создателей pytorch\\\n",
    "https://transformer.huggingface.co/ - поболтать с трансформером \\\n",
    "Библиотеки: allennlp, fairseq, transformers, tensorflow-text — множествореализованных\n",
    "методов для трансформеров методов NLP \\\n",
    "Word2Vec https://radimrehurek.com/gensim/models/word2vec.html \n",
    "\n",
    "<font color='green'>Пример BERT с GPU:\n",
    "```python\n",
    "%%time\n",
    "from tqdm import notebook\n",
    "batch_size = 2 # для примера возьмем такой батч, где будет всего две строки датасета\n",
    "embeddings = [] \n",
    "for i in notebook.tqdm(range(input_ids.shape[0] // batch_size)):\n",
    "        batch = torch.LongTensor(input_ids[batch_size*i:batch_size*(i+1)]).cuda() # закидываем тензор на GPU\n",
    "        attention_mask_batch = torch.LongTensor(attention_mask[batch_size*i:batch_size*(i+1)]).cuda()\n",
    "        \n",
    "        with torch.no_grad():\n",
    "            model.cuda()\n",
    "            batch_embeddings = model(batch, attention_mask=attention_mask_batch)\n",
    "        \n",
    "        embeddings.append(batch_embeddings[0][:,0,:].cpu().numpy()) # перевод обратно на проц, чтобы в нумпай кинуть\n",
    "        del batch\n",
    "        del attention_mask_batch\n",
    "        del batch_embeddings\n",
    "        \n",
    "features = np.concatenate(embeddings) \n",
    "```\n",
    "Можно сделать предварительную проверку на наличие GPU.\\\n",
    "Например, так: ```device = torch.device(\"cuda:0\") if torch.cuda.is_available() else torch.device(\"cpu\")```\\\n",
    "Тогда вместо .cuda() нужно писать .to(device)\n",
    "\n",
    "Если понравилась работа с текстами, то можешь посмотреть очень интересный (но очень-очень сложный) курс лекций: https://github.com/yandexdataschool/nlp_course .\n",
    "</font>\n",
    "\n",
    "### <font color='orange'>Общее впечатление</font>\n",
    "* Большое спасибо за проделанную работу. Видно, что приложено много усилий.\n",
    "* Радует, что ноутбук хорошо структурирован. Приятно проверять такие работы.\n",
    "* Отлично, что стоп-слова были исключены при векторизации!\n",
    "* Работа получилась отличной, тебе удалось добиться достаточно хорошего качества. Поздравляю!\n",
    "* Проект может быть зачтен, но я его отправлю назад, чтобы у тебя была возможность задать вопросы и внести правки, при желании. Однако, ты можешь просто вернуть проект в таком же виде и я его зачту."
   ]
  },
  {
   "cell_type": "markdown",
   "metadata": {
    "toc": true
   },
   "source": [
    "<h1>Содержание<span class=\"tocSkip\"></span></h1>\n",
    "<div class=\"toc\"><ul class=\"toc-item\"><li><ul class=\"toc-item\"><li><span><a href=\"#Общее-впечатление\" data-toc-modified-id=\"Общее-впечатление-0.1\"><span class=\"toc-item-num\">0.1&nbsp;&nbsp;</span><font color=\"orange\">Общее впечатление</font></a></span></li></ul></li><li><span><a href=\"#Подготовка\" data-toc-modified-id=\"Подготовка-1\"><span class=\"toc-item-num\">1&nbsp;&nbsp;</span>Подготовка</a></span></li><li><span><a href=\"#Обучение\" data-toc-modified-id=\"Обучение-2\"><span class=\"toc-item-num\">2&nbsp;&nbsp;</span>Обучение</a></span></li><li><span><a href=\"#Выводы\" data-toc-modified-id=\"Выводы-3\"><span class=\"toc-item-num\">3&nbsp;&nbsp;</span>Выводы</a></span></li><li><span><a href=\"#Чек-лист-проверки\" data-toc-modified-id=\"Чек-лист-проверки-4\"><span class=\"toc-item-num\">4&nbsp;&nbsp;</span>Чек-лист проверки</a></span></li></ul></div>"
   ]
  },
  {
   "cell_type": "markdown",
   "metadata": {},
   "source": [
    "# Проект для «Викишоп»"
   ]
  },
  {
   "cell_type": "markdown",
   "metadata": {},
   "source": [
    "Интернет-магазин «Викишоп» запускает новый сервис. Теперь пользователи могут редактировать и дополнять описания товаров, как в вики-сообществах. То есть клиенты предлагают свои правки и комментируют изменения других. Магазину нужен инструмент, который будет искать токсичные комментарии и отправлять их на модерацию. \n",
    "\n",
    "Обучите модель классифицировать комментарии на позитивные и негативные. В вашем распоряжении набор данных с разметкой о токсичности правок.\n",
    "\n",
    "Постройте модель со значением метрики качества *F1* не меньше 0.75. \n",
    "\n",
    "**Инструкция по выполнению проекта**\n",
    "\n",
    "1. Загрузите и подготовьте данные.\n",
    "2. Обучите разные модели. \n",
    "3. Сделайте выводы.\n",
    "\n",
    "Для выполнения проекта применять *BERT* необязательно, но вы можете попробовать.\n",
    "\n",
    "**Описание данных**\n",
    "\n",
    "Данные находятся в файле `toxic_comments.csv`. Столбец *text* в нём содержит текст комментария, а *toxic* — целевой признак."
   ]
  },
  {
   "cell_type": "markdown",
   "metadata": {},
   "source": [
    "## Подготовка"
   ]
  },
  {
   "cell_type": "code",
   "execution_count": 1,
   "metadata": {},
   "outputs": [
    {
     "name": "stdout",
     "output_type": "stream",
     "text": [
      "Defaulting to user installation because normal site-packages is not writeable\n",
      "Requirement already satisfied: nltk in /opt/conda/lib/python3.7/site-packages (3.4.1)\n",
      "Requirement already satisfied: six in /opt/conda/lib/python3.7/site-packages (from nltk) (1.15.0)\n",
      "Note: you may need to restart the kernel to use updated packages.\n"
     ]
    }
   ],
   "source": [
    "pip install nltk"
   ]
  },
  {
   "cell_type": "code",
   "execution_count": 2,
   "metadata": {},
   "outputs": [],
   "source": [
    "import pandas as pd\n",
    "import nltk\n",
    "import re\n",
    "import numpy as np\n",
    "from nltk.corpus import stopwords as nltk_stopwords\n",
    "from sklearn.feature_extraction.text import TfidfVectorizer\n",
    "from sklearn.linear_model import LogisticRegression\n",
    "from sklearn.ensemble import RandomForestClassifier\n",
    "from sklearn.tree import DecisionTreeClassifier\n",
    "from lightgbm import LGBMModel,LGBMClassifier\n",
    "from sklearn.svm import LinearSVC\n",
    "from sklearn.metrics import f1_score\n",
    "from sklearn.model_selection import train_test_split, GridSearchCV\n",
    "from sklearn.model_selection import cross_val_score\n",
    "from pymystem3 import Mystem\n",
    "from nltk.stem import WordNetLemmatizer\n",
    "from sklearn.metrics import mean_squared_error\n",
    "import warnings\n",
    "warnings.filterwarnings(\"ignore\")"
   ]
  },
  {
   "cell_type": "markdown",
   "metadata": {},
   "source": [
    "<div class=\"alert alert-block alert-success\">\n",
    "<b>Успех:</b> Отлично, что все импорты собраны в первой ячейке ноутбука! Если у того, кто будет запускать твой ноутбук будут отсутствовать некоторые библиотеки, то он это увидит сразу, а не в процессе!\n",
    "</div>"
   ]
  },
  {
   "cell_type": "code",
   "execution_count": 3,
   "metadata": {},
   "outputs": [],
   "source": [
    "df = pd.read_csv('/datasets/toxic_comments.csv')"
   ]
  },
  {
   "cell_type": "code",
   "execution_count": 4,
   "metadata": {},
   "outputs": [
    {
     "data": {
      "text/html": [
       "<div>\n",
       "<style scoped>\n",
       "    .dataframe tbody tr th:only-of-type {\n",
       "        vertical-align: middle;\n",
       "    }\n",
       "\n",
       "    .dataframe tbody tr th {\n",
       "        vertical-align: top;\n",
       "    }\n",
       "\n",
       "    .dataframe thead th {\n",
       "        text-align: right;\n",
       "    }\n",
       "</style>\n",
       "<table border=\"1\" class=\"dataframe\">\n",
       "  <thead>\n",
       "    <tr style=\"text-align: right;\">\n",
       "      <th></th>\n",
       "      <th>text</th>\n",
       "      <th>toxic</th>\n",
       "    </tr>\n",
       "  </thead>\n",
       "  <tbody>\n",
       "    <tr>\n",
       "      <td>0</td>\n",
       "      <td>Explanation\\nWhy the edits made under my usern...</td>\n",
       "      <td>0</td>\n",
       "    </tr>\n",
       "    <tr>\n",
       "      <td>1</td>\n",
       "      <td>D'aww! He matches this background colour I'm s...</td>\n",
       "      <td>0</td>\n",
       "    </tr>\n",
       "    <tr>\n",
       "      <td>2</td>\n",
       "      <td>Hey man, I'm really not trying to edit war. It...</td>\n",
       "      <td>0</td>\n",
       "    </tr>\n",
       "    <tr>\n",
       "      <td>3</td>\n",
       "      <td>\"\\nMore\\nI can't make any real suggestions on ...</td>\n",
       "      <td>0</td>\n",
       "    </tr>\n",
       "    <tr>\n",
       "      <td>4</td>\n",
       "      <td>You, sir, are my hero. Any chance you remember...</td>\n",
       "      <td>0</td>\n",
       "    </tr>\n",
       "  </tbody>\n",
       "</table>\n",
       "</div>"
      ],
      "text/plain": [
       "                                                text  toxic\n",
       "0  Explanation\\nWhy the edits made under my usern...      0\n",
       "1  D'aww! He matches this background colour I'm s...      0\n",
       "2  Hey man, I'm really not trying to edit war. It...      0\n",
       "3  \"\\nMore\\nI can't make any real suggestions on ...      0\n",
       "4  You, sir, are my hero. Any chance you remember...      0"
      ]
     },
     "execution_count": 4,
     "metadata": {},
     "output_type": "execute_result"
    }
   ],
   "source": [
    "df.head()"
   ]
  },
  {
   "cell_type": "code",
   "execution_count": 5,
   "metadata": {},
   "outputs": [
    {
     "name": "stdout",
     "output_type": "stream",
     "text": [
      "<class 'pandas.core.frame.DataFrame'>\n",
      "RangeIndex: 159571 entries, 0 to 159570\n",
      "Data columns (total 2 columns):\n",
      "text     159571 non-null object\n",
      "toxic    159571 non-null int64\n",
      "dtypes: int64(1), object(1)\n",
      "memory usage: 2.4+ MB\n"
     ]
    }
   ],
   "source": [
    "df.info()"
   ]
  },
  {
   "cell_type": "code",
   "execution_count": 6,
   "metadata": {},
   "outputs": [
    {
     "data": {
      "text/plain": [
       "0"
      ]
     },
     "execution_count": 6,
     "metadata": {},
     "output_type": "execute_result"
    }
   ],
   "source": [
    "df.duplicated().sum()"
   ]
  },
  {
   "cell_type": "markdown",
   "metadata": {},
   "source": [
    "<div class=\"alert alert-block alert-success\">\n",
    "<b>Успех:</b> Данные загружены корректно, первичный осмотр проведен.\n",
    "</div>"
   ]
  },
  {
   "cell_type": "markdown",
   "metadata": {},
   "source": [
    "Напишем функцию лемматизации текста:"
   ]
  },
  {
   "cell_type": "code",
   "execution_count": 7,
   "metadata": {},
   "outputs": [],
   "source": [
    "lemmatizer = WordNetLemmatizer()"
   ]
  },
  {
   "cell_type": "code",
   "execution_count": 8,
   "metadata": {},
   "outputs": [],
   "source": [
    "def lemmatize(text):\n",
    "    words = nltk.word_tokenize(text)\n",
    "    lemmatized_output = ' '.join([lemmatizer.lemmatize(w) for w in words])\n",
    "    \n",
    "    return lemmatized_output"
   ]
  },
  {
   "cell_type": "markdown",
   "metadata": {},
   "source": [
    "Напишем функцию очистки текста от лишних символов:"
   ]
  },
  {
   "cell_type": "code",
   "execution_count": 9,
   "metadata": {},
   "outputs": [],
   "source": [
    "def clear_text(text):\n",
    "    text = re.sub(r'[^a-zA-Z ]', ' ', text)\n",
    "    \n",
    "    return \" \".join(text.split())"
   ]
  },
  {
   "cell_type": "markdown",
   "metadata": {},
   "source": [
    "Приведем текст к кодировке Unicode:"
   ]
  },
  {
   "cell_type": "code",
   "execution_count": 10,
   "metadata": {},
   "outputs": [],
   "source": [
    "corpus = df['text'].values.astype('U')"
   ]
  },
  {
   "cell_type": "markdown",
   "metadata": {},
   "source": [
    "Проведем лемматизацию и очистку текста:"
   ]
  },
  {
   "cell_type": "code",
   "execution_count": 11,
   "metadata": {},
   "outputs": [],
   "source": [
    "corpus_lemm = [lemmatize(clear_text(corpus[i])) for i in range(len(corpus))]"
   ]
  },
  {
   "cell_type": "markdown",
   "metadata": {},
   "source": [
    "<div class=\"alert alert-block alert-success\">\n",
    "<b>Успех:</b> Очистка и лемматизация были сделаны правильно. Радует, что ты их применил именно в таком порядке.\n",
    "</div>"
   ]
  },
  {
   "cell_type": "markdown",
   "metadata": {},
   "source": [
    "<div class=\"alert alert-block alert-info\">\n",
    "<b>Совет: </b> Можно было напечатать несколько примеров до/после.\n",
    "</div>"
   ]
  },
  {
   "cell_type": "markdown",
   "metadata": {},
   "source": [
    "Загрузим стоп-слова:"
   ]
  },
  {
   "cell_type": "code",
   "execution_count": 12,
   "metadata": {},
   "outputs": [
    {
     "name": "stderr",
     "output_type": "stream",
     "text": [
      "[nltk_data] Downloading package stopwords to /home/jovyan/nltk_data...\n",
      "[nltk_data]   Package stopwords is already up-to-date!\n"
     ]
    }
   ],
   "source": [
    "nltk.download('stopwords')\n",
    "stopwords = set(nltk_stopwords.words('english'))"
   ]
  },
  {
   "cell_type": "markdown",
   "metadata": {},
   "source": [
    "Разобъем данные на выборки и очистим их от стоп-слов:"
   ]
  },
  {
   "cell_type": "code",
   "execution_count": 13,
   "metadata": {},
   "outputs": [],
   "source": [
    "X_train, X_test, y_train, y_test = train_test_split(corpus_lemm, df['toxic'],\n",
    "                                                    train_size=0.8,\n",
    "                                                    test_size=0.2,\n",
    "                                                    random_state=123)"
   ]
  },
  {
   "cell_type": "markdown",
   "metadata": {},
   "source": [
    "Применим TF-IDF:"
   ]
  },
  {
   "cell_type": "code",
   "execution_count": 14,
   "metadata": {},
   "outputs": [],
   "source": [
    "tf_idf_model = TfidfVectorizer(stop_words=stopwords)\n",
    "tf_idf_model.fit_transform(X_train)\n",
    "res_test = tf_idf_model.transform(X_test)\n",
    "res_train = tf_idf_model.transform(X_train)"
   ]
  },
  {
   "cell_type": "markdown",
   "metadata": {},
   "source": [
    "<b>Вывод</b>"
   ]
  },
  {
   "cell_type": "markdown",
   "metadata": {},
   "source": [
    "Данные содержат 159571 строк и 2 столбца: комментарий и признак его токсичности. Дубликатов в данных не обнаружено.  \n",
    "Для того, чтобы получить корректные результаты, выполнена подготовка текста: выделены леммы каждого слова, текст очищен от лишних символов и приведен к кодировке Unicode.  \n",
    "Выполнено разбиение данных на обучающую и тестовую выборку, создана матрица cо значениями TF-IDF по корпусу комментариев."
   ]
  },
  {
   "cell_type": "markdown",
   "metadata": {},
   "source": [
    "<div class=\"alert alert-block alert-success\">\n",
    "<b>Успех:</b> Отлично, что векторизатор был обучен только на тренировочной части данных. Это уменьшает переобучение.\n",
    "</div>"
   ]
  },
  {
   "cell_type": "markdown",
   "metadata": {},
   "source": [
    "## Обучение"
   ]
  },
  {
   "cell_type": "markdown",
   "metadata": {},
   "source": [
    "<b>Логистическая регрессия</b>"
   ]
  },
  {
   "cell_type": "code",
   "execution_count": 15,
   "metadata": {},
   "outputs": [
    {
     "name": "stdout",
     "output_type": "stream",
     "text": [
      "Наилучшая оценка f1: 0.766\n"
     ]
    }
   ],
   "source": [
    "parameters = {'C': np.linspace(10, 20, num = 11, endpoint = True),\n",
    "             'max_iter': [1000]}\n",
    "lrm = LogisticRegression()\n",
    "gscv_lrm = GridSearchCV(lrm, parameters,\n",
    "                  cv=5,\n",
    "                  scoring='f1')\n",
    "gscv_lrm.fit(res_train, y_train)\n",
    "\n",
    "print(f\"Наилучшая оценка f1: {gscv_lrm.best_score_:.3f}\")"
   ]
  },
  {
   "cell_type": "markdown",
   "metadata": {},
   "source": [
    "<div class=\"alert alert-block alert-info\">\n",
    "<b>Совет: </b> Напомню, что внутри кросс-валидации происходих разбиение выборки на треин и валидацию. Однако, в таком случае векторизатор обучен на всей выборке, а это не совсем корректно. Для избежания такого эффекта можно использовать <a href=\"https://scikit-learn.org/stable/modules/generated/sklearn.pipeline.Pipeline.html\">пайплайн</a>.\n",
    "</div>"
   ]
  },
  {
   "cell_type": "markdown",
   "metadata": {},
   "source": [
    "<b>Дерево решений</b>"
   ]
  },
  {
   "cell_type": "code",
   "execution_count": 16,
   "metadata": {},
   "outputs": [
    {
     "name": "stdout",
     "output_type": "stream",
     "text": [
      "Наилучшая оценка f1: 0.617\n"
     ]
    }
   ],
   "source": [
    "parameters = {'max_depth': [5, 10, 15]}\n",
    "dt = DecisionTreeClassifier()\n",
    "gscv_dt = GridSearchCV(dt, parameters, cv=5, scoring='f1')\n",
    "gscv_dt.fit(res_train, y_train)\n",
    "\n",
    "print(f\"Наилучшая оценка f1: {gscv_dt.best_score_:.3f}\")"
   ]
  },
  {
   "cell_type": "markdown",
   "metadata": {},
   "source": [
    "<b>LinearSVC</b>"
   ]
  },
  {
   "cell_type": "code",
   "execution_count": 18,
   "metadata": {},
   "outputs": [
    {
     "name": "stdout",
     "output_type": "stream",
     "text": [
      "Наилучшая оценка f1: 0.771\n"
     ]
    }
   ],
   "source": [
    "parameters = {'C': np.linspace(1, 31, num = 7, endpoint = True)}\n",
    "lsvcm = LinearSVC(max_iter = 1000)\n",
    "gscv_lsvc = GridSearchCV(lsvcm, parameters,\n",
    "                  cv=5,\n",
    "                  scoring='f1')\n",
    "gscv_lsvc.fit(res_train, y_train)\n",
    "\n",
    "print(f\"Наилучшая оценка f1: {gscv_lsvc.best_score_:.3f}\")"
   ]
  },
  {
   "cell_type": "markdown",
   "metadata": {},
   "source": [
    "<b>Вывод</b>"
   ]
  },
  {
   "cell_type": "markdown",
   "metadata": {},
   "source": [
    "Наилучшие результаты показала модель LinearSVC, проверим ее на тестовой выборке:"
   ]
  },
  {
   "cell_type": "code",
   "execution_count": 20,
   "metadata": {},
   "outputs": [
    {
     "name": "stdout",
     "output_type": "stream",
     "text": [
      "f1 наилучшей модеди на тестовой выборке:  0.7748856841364755\n"
     ]
    }
   ],
   "source": [
    "best_model = gscv_lsvc.best_estimator_\n",
    "predict = best_model.predict(res_test)\n",
    "f1_lsvc = f1_score(y_test, predict)\n",
    "print('f1 наилучшей модеди на тестовой выборке: ', f1_lsvc)"
   ]
  },
  {
   "cell_type": "markdown",
   "metadata": {},
   "source": [
    "<div class=\"alert alert-block alert-success\">\n",
    "<b>Успех:</b> Молодец, что попробовал несколько разных моделей!\n",
    "</div>"
   ]
  },
  {
   "cell_type": "markdown",
   "metadata": {},
   "source": [
    "## Выводы"
   ]
  },
  {
   "cell_type": "markdown",
   "metadata": {},
   "source": [
    "Осуществлена обработка данных, содержащих токсичные комментарии:\n",
    "- выполнена лемматизация,\n",
    "- удалены лишние знаки,\n",
    "- удалены стоп-словаСтоп слова.\n",
    "Векторизация корпуса выполнена с помощью TfidfVectorizer.\n",
    "Были обучены следующие виды моделей: LogisticRegression, DecisionTreeClassifier и LinearSVC. \n",
    "Наибольшую метрику f1 удалось получить на LinearSVC. На тестовых данных f1 составила 0.77, что удовлетворяет требованию технического задания."
   ]
  },
  {
   "cell_type": "markdown",
   "metadata": {},
   "source": [
    "<div class=\"alert alert-block alert-success\">\n",
    "<b>Успех:</b> Приятно видеть хорошо структурированынй вывод в конце проекта!\n",
    "</div>"
   ]
  },
  {
   "cell_type": "markdown",
   "metadata": {},
   "source": [
    "## Чек-лист проверки"
   ]
  },
  {
   "cell_type": "markdown",
   "metadata": {},
   "source": [
    "- [x]  Jupyter Notebook открыт\n",
    "- [x]  Весь код выполняется без ошибок\n",
    "- [x]  Ячейки с кодом расположены в порядке исполнения\n",
    "- [x]  Данные загружены и подготовлены\n",
    "- [x]  Модели обучены\n",
    "- [x]  Значение метрики *F1* не меньше 0.75\n",
    "- [x]  Выводы написаны"
   ]
  },
  {
   "cell_type": "code",
   "execution_count": null,
   "metadata": {},
   "outputs": [],
   "source": [
    "\n"
   ]
  }
 ],
 "metadata": {
  "ExecuteTimeLog": [
   {
    "duration": 3667,
    "start_time": "2021-09-21T06:22:29.078Z"
   },
   {
    "duration": 1573,
    "start_time": "2021-09-21T06:22:55.236Z"
   },
   {
    "duration": 777,
    "start_time": "2021-09-21T06:23:51.075Z"
   },
   {
    "duration": 21,
    "start_time": "2021-09-21T06:24:04.155Z"
   },
   {
    "duration": 32,
    "start_time": "2021-09-21T06:24:16.218Z"
   },
   {
    "duration": 302,
    "start_time": "2021-09-21T06:25:30.466Z"
   },
   {
    "duration": 140,
    "start_time": "2021-09-21T06:30:02.156Z"
   },
   {
    "duration": 4,
    "start_time": "2021-09-21T06:30:25.375Z"
   },
   {
    "duration": 6,
    "start_time": "2021-09-21T06:30:25.386Z"
   },
   {
    "duration": 895,
    "start_time": "2021-09-21T06:30:25.395Z"
   },
   {
    "duration": 9,
    "start_time": "2021-09-21T06:30:26.293Z"
   },
   {
    "duration": 46,
    "start_time": "2021-09-21T06:30:26.305Z"
   },
   {
    "duration": 305,
    "start_time": "2021-09-21T06:30:26.354Z"
   },
   {
    "duration": 7,
    "start_time": "2021-09-21T06:30:26.662Z"
   },
   {
    "duration": 3795,
    "start_time": "2021-09-21T06:30:35.177Z"
   },
   {
    "duration": 7,
    "start_time": "2021-09-21T06:30:38.975Z"
   },
   {
    "duration": 800,
    "start_time": "2021-09-21T06:30:38.987Z"
   },
   {
    "duration": 13,
    "start_time": "2021-09-21T06:30:39.790Z"
   },
   {
    "duration": 36,
    "start_time": "2021-09-21T06:30:39.805Z"
   },
   {
    "duration": 327,
    "start_time": "2021-09-21T06:30:39.844Z"
   },
   {
    "duration": 12,
    "start_time": "2021-09-21T06:30:40.173Z"
   },
   {
    "duration": 783,
    "start_time": "2021-09-21T06:32:43.945Z"
   },
   {
    "duration": 4,
    "start_time": "2021-09-21T06:33:17.358Z"
   },
   {
    "duration": 17,
    "start_time": "2021-09-21T06:33:20.694Z"
   },
   {
    "duration": 24,
    "start_time": "2021-09-21T06:34:23.824Z"
   },
   {
    "duration": 4,
    "start_time": "2021-09-21T06:35:25.325Z"
   },
   {
    "duration": 2896,
    "start_time": "2021-09-21T06:35:33.320Z"
   },
   {
    "duration": 1253,
    "start_time": "2021-09-21T06:35:57.286Z"
   },
   {
    "duration": 3948,
    "start_time": "2021-09-21T06:40:25.605Z"
   },
   {
    "duration": 5,
    "start_time": "2021-09-21T06:40:29.557Z"
   },
   {
    "duration": 1873,
    "start_time": "2021-09-21T06:40:29.565Z"
   },
   {
    "duration": 10,
    "start_time": "2021-09-21T06:40:31.441Z"
   },
   {
    "duration": 167,
    "start_time": "2021-09-21T06:40:31.453Z"
   },
   {
    "duration": 348,
    "start_time": "2021-09-21T06:40:31.623Z"
   },
   {
    "duration": 8,
    "start_time": "2021-09-21T06:40:59.326Z"
   },
   {
    "duration": 13,
    "start_time": "2021-09-21T06:41:26.216Z"
   },
   {
    "duration": 7,
    "start_time": "2021-09-21T06:43:31.419Z"
   },
   {
    "duration": 8,
    "start_time": "2021-09-21T06:43:38.345Z"
   },
   {
    "duration": 3908,
    "start_time": "2021-09-21T06:43:46.480Z"
   },
   {
    "duration": 5,
    "start_time": "2021-09-21T06:43:50.391Z"
   },
   {
    "duration": 4059,
    "start_time": "2021-09-21T06:43:50.399Z"
   },
   {
    "duration": 14,
    "start_time": "2021-09-21T06:43:54.462Z"
   },
   {
    "duration": 43,
    "start_time": "2021-09-21T06:43:54.483Z"
   },
   {
    "duration": 302,
    "start_time": "2021-09-21T06:43:54.529Z"
   },
   {
    "duration": 12,
    "start_time": "2021-09-21T06:43:54.834Z"
   },
   {
    "duration": 3627,
    "start_time": "2021-09-21T06:44:21.208Z"
   },
   {
    "duration": 1514,
    "start_time": "2021-09-21T06:44:24.838Z"
   },
   {
    "duration": 788,
    "start_time": "2021-09-21T06:44:26.355Z"
   },
   {
    "duration": 20,
    "start_time": "2021-09-21T06:44:27.146Z"
   },
   {
    "duration": 32,
    "start_time": "2021-09-21T06:44:27.183Z"
   },
   {
    "duration": 310,
    "start_time": "2021-09-21T06:44:27.217Z"
   },
   {
    "duration": 7,
    "start_time": "2021-09-21T06:44:27.529Z"
   },
   {
    "duration": 3414,
    "start_time": "2021-09-21T06:44:59.104Z"
   },
   {
    "duration": 1518,
    "start_time": "2021-09-21T06:45:02.521Z"
   },
   {
    "duration": 771,
    "start_time": "2021-09-21T06:45:04.043Z"
   },
   {
    "duration": 19,
    "start_time": "2021-09-21T06:45:04.817Z"
   },
   {
    "duration": 52,
    "start_time": "2021-09-21T06:45:04.839Z"
   },
   {
    "duration": 292,
    "start_time": "2021-09-21T06:45:04.894Z"
   },
   {
    "duration": 7,
    "start_time": "2021-09-21T06:45:05.189Z"
   },
   {
    "duration": 12,
    "start_time": "2021-09-21T06:45:05.200Z"
   },
   {
    "duration": 2961,
    "start_time": "2021-09-21T06:45:05.215Z"
   },
   {
    "duration": 1093,
    "start_time": "2021-09-21T06:45:08.179Z"
   },
   {
    "duration": 158,
    "start_time": "2021-09-21T06:45:09.275Z"
   },
   {
    "duration": 43,
    "start_time": "2021-09-21T06:45:09.436Z"
   },
   {
    "duration": 10,
    "start_time": "2021-09-21T06:45:16.981Z"
   },
   {
    "duration": 6,
    "start_time": "2021-09-21T06:45:55.580Z"
   },
   {
    "duration": 5,
    "start_time": "2021-09-21T06:48:25.590Z"
   },
   {
    "duration": 3932,
    "start_time": "2021-09-21T06:48:36.171Z"
   },
   {
    "duration": 5,
    "start_time": "2021-09-21T06:48:40.107Z"
   },
   {
    "duration": 826,
    "start_time": "2021-09-21T06:48:40.115Z"
   },
   {
    "duration": 11,
    "start_time": "2021-09-21T06:48:40.944Z"
   },
   {
    "duration": 53,
    "start_time": "2021-09-21T06:48:40.958Z"
   },
   {
    "duration": 299,
    "start_time": "2021-09-21T06:48:41.014Z"
   },
   {
    "duration": 9,
    "start_time": "2021-09-21T06:48:41.316Z"
   },
   {
    "duration": 295,
    "start_time": "2021-09-21T06:48:41.329Z"
   },
   {
    "duration": 40,
    "start_time": "2021-09-21T06:48:41.627Z"
   },
   {
    "duration": 1638,
    "start_time": "2021-09-21T07:59:32.997Z"
   },
   {
    "duration": 4,
    "start_time": "2021-09-21T08:00:41.401Z"
   },
   {
    "duration": 3275,
    "start_time": "2021-09-21T08:01:01.528Z"
   },
   {
    "duration": 1530,
    "start_time": "2021-09-21T08:01:04.805Z"
   },
   {
    "duration": 792,
    "start_time": "2021-09-21T08:01:06.338Z"
   },
   {
    "duration": 20,
    "start_time": "2021-09-21T08:01:07.132Z"
   },
   {
    "duration": 50,
    "start_time": "2021-09-21T08:01:07.155Z"
   },
   {
    "duration": 308,
    "start_time": "2021-09-21T08:01:07.208Z"
   },
   {
    "duration": 4,
    "start_time": "2021-09-21T08:01:07.518Z"
   },
   {
    "duration": 8,
    "start_time": "2021-09-21T08:01:07.524Z"
   },
   {
    "duration": 10,
    "start_time": "2021-09-21T08:01:07.535Z"
   },
   {
    "duration": 183,
    "start_time": "2021-09-21T08:01:07.548Z"
   },
   {
    "duration": 27,
    "start_time": "2021-09-21T08:01:07.734Z"
   },
   {
    "duration": 4,
    "start_time": "2021-09-21T08:30:52.111Z"
   },
   {
    "duration": 621,
    "start_time": "2021-09-21T08:31:43.050Z"
   },
   {
    "duration": 2888,
    "start_time": "2021-09-21T08:31:49.721Z"
   },
   {
    "duration": 1023,
    "start_time": "2021-09-21T08:33:15.268Z"
   },
   {
    "duration": 5,
    "start_time": "2021-09-21T08:33:40.361Z"
   },
   {
    "duration": 3367,
    "start_time": "2021-09-21T08:34:45.034Z"
   },
   {
    "duration": 1537,
    "start_time": "2021-09-21T08:34:48.404Z"
   },
   {
    "duration": 803,
    "start_time": "2021-09-21T08:34:49.944Z"
   },
   {
    "duration": 20,
    "start_time": "2021-09-21T08:34:50.749Z"
   },
   {
    "duration": 47,
    "start_time": "2021-09-21T08:34:50.771Z"
   },
   {
    "duration": 317,
    "start_time": "2021-09-21T08:34:50.821Z"
   },
   {
    "duration": 3,
    "start_time": "2021-09-21T08:34:51.141Z"
   },
   {
    "duration": 17,
    "start_time": "2021-09-21T08:34:51.147Z"
   },
   {
    "duration": 17,
    "start_time": "2021-09-21T08:34:51.166Z"
   },
   {
    "duration": 2972,
    "start_time": "2021-09-21T08:34:51.186Z"
   },
   {
    "duration": 3563,
    "start_time": "2021-09-21T08:37:19.541Z"
   },
   {
    "duration": 5,
    "start_time": "2021-09-21T08:37:23.107Z"
   },
   {
    "duration": 799,
    "start_time": "2021-09-21T08:37:23.114Z"
   },
   {
    "duration": 9,
    "start_time": "2021-09-21T08:37:23.916Z"
   },
   {
    "duration": 35,
    "start_time": "2021-09-21T08:37:23.928Z"
   },
   {
    "duration": 300,
    "start_time": "2021-09-21T08:37:23.984Z"
   },
   {
    "duration": 4,
    "start_time": "2021-09-21T08:37:24.287Z"
   },
   {
    "duration": 9,
    "start_time": "2021-09-21T08:37:24.295Z"
   },
   {
    "duration": 16,
    "start_time": "2021-09-21T08:37:24.307Z"
   },
   {
    "duration": 3617,
    "start_time": "2021-09-21T08:39:25.735Z"
   },
   {
    "duration": 1967,
    "start_time": "2021-09-21T08:39:29.355Z"
   },
   {
    "duration": 1093,
    "start_time": "2021-09-21T08:39:31.326Z"
   },
   {
    "duration": 30,
    "start_time": "2021-09-21T08:39:32.423Z"
   },
   {
    "duration": 66,
    "start_time": "2021-09-21T08:39:32.456Z"
   },
   {
    "duration": 320,
    "start_time": "2021-09-21T08:39:32.525Z"
   },
   {
    "duration": 4,
    "start_time": "2021-09-21T08:39:32.847Z"
   },
   {
    "duration": 18,
    "start_time": "2021-09-21T08:39:32.853Z"
   },
   {
    "duration": 11,
    "start_time": "2021-09-21T08:39:32.874Z"
   },
   {
    "duration": 3011,
    "start_time": "2021-09-21T08:39:32.888Z"
   },
   {
    "duration": 147239,
    "start_time": "2021-09-21T08:39:35.901Z"
   },
   {
    "duration": 142,
    "start_time": "2021-09-21T08:42:03.143Z"
   },
   {
    "duration": 23,
    "start_time": "2021-09-21T08:42:03.288Z"
   },
   {
    "duration": 31,
    "start_time": "2021-09-21T08:42:38.838Z"
   },
   {
    "duration": 87,
    "start_time": "2021-09-21T08:44:50.206Z"
   },
   {
    "duration": 17193,
    "start_time": "2021-09-21T08:52:30.139Z"
   },
   {
    "duration": 4,
    "start_time": "2021-09-21T08:55:45.750Z"
   },
   {
    "duration": 3414,
    "start_time": "2021-09-21T09:09:08.265Z"
   },
   {
    "duration": 1659,
    "start_time": "2021-09-21T09:09:11.682Z"
   },
   {
    "duration": 911,
    "start_time": "2021-09-21T09:09:13.344Z"
   },
   {
    "duration": 29,
    "start_time": "2021-09-21T09:09:14.258Z"
   },
   {
    "duration": 41,
    "start_time": "2021-09-21T09:09:14.290Z"
   },
   {
    "duration": 313,
    "start_time": "2021-09-21T09:09:14.334Z"
   },
   {
    "duration": 4,
    "start_time": "2021-09-21T09:09:14.650Z"
   },
   {
    "duration": 28,
    "start_time": "2021-09-21T09:09:14.657Z"
   },
   {
    "duration": 10,
    "start_time": "2021-09-21T09:09:14.689Z"
   },
   {
    "duration": 2911,
    "start_time": "2021-09-21T09:09:14.702Z"
   },
   {
    "duration": 144279,
    "start_time": "2021-09-21T09:09:17.616Z"
   },
   {
    "duration": 115,
    "start_time": "2021-09-21T09:11:41.898Z"
   },
   {
    "duration": 127,
    "start_time": "2021-09-21T09:11:42.016Z"
   },
   {
    "duration": 26184,
    "start_time": "2021-09-21T09:11:42.146Z"
   },
   {
    "duration": 3,
    "start_time": "2021-09-21T09:12:08.333Z"
   },
   {
    "duration": 7661,
    "start_time": "2021-09-21T09:12:08.338Z"
   },
   {
    "duration": 4038,
    "start_time": "2021-09-21T11:28:42.120Z"
   },
   {
    "duration": 1681,
    "start_time": "2021-09-21T11:28:46.161Z"
   },
   {
    "duration": 805,
    "start_time": "2021-09-21T11:28:47.845Z"
   },
   {
    "duration": 23,
    "start_time": "2021-09-21T11:28:48.661Z"
   },
   {
    "duration": 33,
    "start_time": "2021-09-21T11:28:48.686Z"
   },
   {
    "duration": 328,
    "start_time": "2021-09-21T11:28:48.722Z"
   },
   {
    "duration": 9,
    "start_time": "2021-09-21T11:28:49.053Z"
   },
   {
    "duration": 8,
    "start_time": "2021-09-21T11:28:49.066Z"
   },
   {
    "duration": 16,
    "start_time": "2021-09-21T11:28:49.077Z"
   },
   {
    "duration": 2999,
    "start_time": "2021-09-21T11:28:49.096Z"
   },
   {
    "duration": 146574,
    "start_time": "2021-09-21T11:28:52.097Z"
   },
   {
    "duration": 378,
    "start_time": "2021-09-21T11:31:18.676Z"
   },
   {
    "duration": 96,
    "start_time": "2021-09-21T11:31:19.057Z"
   },
   {
    "duration": 17722,
    "start_time": "2021-09-21T11:31:19.156Z"
   },
   {
    "duration": 4,
    "start_time": "2021-09-21T11:31:36.881Z"
   },
   {
    "duration": 8931,
    "start_time": "2021-09-21T11:31:36.888Z"
   },
   {
    "duration": 20,
    "start_time": "2021-09-21T11:34:08.471Z"
   },
   {
    "duration": 33,
    "start_time": "2021-09-21T11:34:57.821Z"
   },
   {
    "duration": 4027,
    "start_time": "2021-09-21T11:35:36.935Z"
   },
   {
    "duration": 2093,
    "start_time": "2021-09-21T11:35:40.965Z"
   },
   {
    "duration": 848,
    "start_time": "2021-09-21T11:35:43.061Z"
   },
   {
    "duration": 20,
    "start_time": "2021-09-21T11:35:43.912Z"
   },
   {
    "duration": 58,
    "start_time": "2021-09-21T11:35:43.934Z"
   },
   {
    "duration": 326,
    "start_time": "2021-09-21T11:35:43.994Z"
   },
   {
    "duration": 3,
    "start_time": "2021-09-21T11:35:44.323Z"
   },
   {
    "duration": 9,
    "start_time": "2021-09-21T11:35:44.329Z"
   },
   {
    "duration": 22,
    "start_time": "2021-09-21T11:35:44.342Z"
   },
   {
    "duration": 2879,
    "start_time": "2021-09-21T11:35:44.368Z"
   },
   {
    "duration": 146821,
    "start_time": "2021-09-21T11:35:47.250Z"
   },
   {
    "duration": 222,
    "start_time": "2021-09-21T11:38:14.073Z"
   },
   {
    "duration": 87,
    "start_time": "2021-09-21T11:38:14.297Z"
   },
   {
    "duration": 21670,
    "start_time": "2021-09-21T11:38:14.386Z"
   },
   {
    "duration": 5,
    "start_time": "2021-09-21T11:38:36.062Z"
   },
   {
    "duration": 12379,
    "start_time": "2021-09-21T11:38:36.070Z"
   },
   {
    "duration": 14,
    "start_time": "2021-09-21T11:38:48.451Z"
   },
   {
    "duration": 21,
    "start_time": "2021-09-21T11:38:48.475Z"
   },
   {
    "duration": 3529,
    "start_time": "2021-09-21T11:39:41.958Z"
   },
   {
    "duration": 1841,
    "start_time": "2021-09-21T11:39:45.490Z"
   },
   {
    "duration": 817,
    "start_time": "2021-09-21T11:39:47.334Z"
   },
   {
    "duration": 26,
    "start_time": "2021-09-21T11:39:48.154Z"
   },
   {
    "duration": 46,
    "start_time": "2021-09-21T11:39:48.182Z"
   },
   {
    "duration": 308,
    "start_time": "2021-09-21T11:39:48.231Z"
   },
   {
    "duration": 4,
    "start_time": "2021-09-21T11:39:48.541Z"
   },
   {
    "duration": 19,
    "start_time": "2021-09-21T11:39:48.548Z"
   },
   {
    "duration": 8,
    "start_time": "2021-09-21T11:39:48.570Z"
   },
   {
    "duration": 3232,
    "start_time": "2021-09-21T11:39:48.581Z"
   },
   {
    "duration": 146270,
    "start_time": "2021-09-21T11:39:51.816Z"
   },
   {
    "duration": 226,
    "start_time": "2021-09-21T11:42:18.089Z"
   },
   {
    "duration": 84,
    "start_time": "2021-09-21T11:42:18.317Z"
   },
   {
    "duration": 24040,
    "start_time": "2021-09-21T11:42:18.403Z"
   },
   {
    "duration": 3,
    "start_time": "2021-09-21T11:42:42.446Z"
   },
   {
    "duration": 12390,
    "start_time": "2021-09-21T11:42:42.463Z"
   },
   {
    "duration": 13,
    "start_time": "2021-09-21T11:42:54.856Z"
   },
   {
    "duration": 17,
    "start_time": "2021-09-21T11:42:54.879Z"
   },
   {
    "duration": 644,
    "start_time": "2021-09-21T11:48:07.480Z"
   },
   {
    "duration": 41,
    "start_time": "2021-09-21T11:48:27.393Z"
   },
   {
    "duration": 108167,
    "start_time": "2021-09-21T11:48:35.379Z"
   },
   {
    "duration": 5,
    "start_time": "2021-09-21T11:51:40.828Z"
   },
   {
    "duration": 120736,
    "start_time": "2021-09-21T11:51:45.490Z"
   },
   {
    "duration": 495,
    "start_time": "2021-09-21T13:13:17.723Z"
   },
   {
    "duration": 494,
    "start_time": "2021-09-21T13:13:17.728Z"
   },
   {
    "duration": 493,
    "start_time": "2021-09-21T13:13:17.731Z"
   },
   {
    "duration": 491,
    "start_time": "2021-09-21T13:13:17.734Z"
   },
   {
    "duration": 489,
    "start_time": "2021-09-21T13:13:17.738Z"
   },
   {
    "duration": 488,
    "start_time": "2021-09-21T13:13:17.740Z"
   },
   {
    "duration": 488,
    "start_time": "2021-09-21T13:13:17.742Z"
   },
   {
    "duration": 487,
    "start_time": "2021-09-21T13:13:17.744Z"
   },
   {
    "duration": 487,
    "start_time": "2021-09-21T13:13:17.746Z"
   },
   {
    "duration": 481,
    "start_time": "2021-09-21T13:13:17.754Z"
   },
   {
    "duration": 482,
    "start_time": "2021-09-21T13:13:17.756Z"
   },
   {
    "duration": 481,
    "start_time": "2021-09-21T13:13:17.758Z"
   },
   {
    "duration": 470,
    "start_time": "2021-09-21T13:13:17.771Z"
   },
   {
    "duration": 468,
    "start_time": "2021-09-21T13:13:17.774Z"
   },
   {
    "duration": 467,
    "start_time": "2021-09-21T13:13:17.776Z"
   },
   {
    "duration": 465,
    "start_time": "2021-09-21T13:13:17.779Z"
   },
   {
    "duration": 481,
    "start_time": "2021-09-21T13:13:17.781Z"
   },
   {
    "duration": 480,
    "start_time": "2021-09-21T13:13:17.783Z"
   },
   {
    "duration": 480,
    "start_time": "2021-09-21T13:13:17.785Z"
   },
   {
    "duration": 3424,
    "start_time": "2021-09-21T13:15:18.107Z"
   },
   {
    "duration": 1719,
    "start_time": "2021-09-21T13:15:21.534Z"
   },
   {
    "duration": 792,
    "start_time": "2021-09-21T13:15:23.256Z"
   },
   {
    "duration": 23,
    "start_time": "2021-09-21T13:15:24.051Z"
   },
   {
    "duration": 33,
    "start_time": "2021-09-21T13:15:24.078Z"
   },
   {
    "duration": 337,
    "start_time": "2021-09-21T13:15:24.114Z"
   },
   {
    "duration": 10,
    "start_time": "2021-09-21T13:15:24.453Z"
   },
   {
    "duration": 8,
    "start_time": "2021-09-21T13:15:24.465Z"
   },
   {
    "duration": 14,
    "start_time": "2021-09-21T13:15:24.477Z"
   },
   {
    "duration": 3383,
    "start_time": "2021-09-21T13:15:24.494Z"
   },
   {
    "duration": 153269,
    "start_time": "2021-09-21T13:15:27.880Z"
   },
   {
    "duration": 241,
    "start_time": "2021-09-21T13:18:01.151Z"
   },
   {
    "duration": 132,
    "start_time": "2021-09-21T13:18:01.395Z"
   },
   {
    "duration": 24282,
    "start_time": "2021-09-21T13:18:01.530Z"
   },
   {
    "duration": 4,
    "start_time": "2021-09-21T13:18:25.815Z"
   },
   {
    "duration": 11718,
    "start_time": "2021-09-21T13:18:25.822Z"
   },
   {
    "duration": 7,
    "start_time": "2021-09-21T13:18:37.542Z"
   },
   {
    "duration": 20,
    "start_time": "2021-09-21T13:18:37.562Z"
   },
   {
    "duration": 4963068,
    "start_time": "2021-09-21T13:18:37.585Z"
   },
   {
    "duration": 2557,
    "start_time": "2021-09-22T05:56:23.270Z"
   },
   {
    "duration": 1222,
    "start_time": "2021-09-22T05:56:25.830Z"
   },
   {
    "duration": 652,
    "start_time": "2021-09-22T05:56:27.055Z"
   },
   {
    "duration": 16,
    "start_time": "2021-09-22T05:56:27.709Z"
   },
   {
    "duration": 41,
    "start_time": "2021-09-22T05:56:27.726Z"
   },
   {
    "duration": 226,
    "start_time": "2021-09-22T05:56:27.769Z"
   },
   {
    "duration": 3,
    "start_time": "2021-09-22T05:56:27.997Z"
   },
   {
    "duration": 15,
    "start_time": "2021-09-22T05:56:28.003Z"
   },
   {
    "duration": 21,
    "start_time": "2021-09-22T05:56:28.020Z"
   },
   {
    "duration": 2244,
    "start_time": "2021-09-22T05:56:28.042Z"
   },
   {
    "duration": 2410,
    "start_time": "2021-09-22T05:57:46.547Z"
   },
   {
    "duration": 1208,
    "start_time": "2021-09-22T05:57:48.959Z"
   },
   {
    "duration": 623,
    "start_time": "2021-09-22T05:57:50.169Z"
   },
   {
    "duration": 14,
    "start_time": "2021-09-22T05:57:50.794Z"
   },
   {
    "duration": 26,
    "start_time": "2021-09-22T05:57:50.810Z"
   },
   {
    "duration": 239,
    "start_time": "2021-09-22T05:57:50.838Z"
   },
   {
    "duration": 3,
    "start_time": "2021-09-22T05:57:51.078Z"
   },
   {
    "duration": 7,
    "start_time": "2021-09-22T05:57:51.083Z"
   },
   {
    "duration": 10,
    "start_time": "2021-09-22T05:57:51.092Z"
   },
   {
    "duration": 2256,
    "start_time": "2021-09-22T05:57:51.103Z"
   },
   {
    "duration": 310,
    "start_time": "2021-09-22T05:59:31.199Z"
   },
   {
    "duration": 306,
    "start_time": "2021-09-22T05:59:31.205Z"
   },
   {
    "duration": 304,
    "start_time": "2021-09-22T05:59:31.208Z"
   },
   {
    "duration": 303,
    "start_time": "2021-09-22T05:59:31.210Z"
   },
   {
    "duration": 302,
    "start_time": "2021-09-22T05:59:31.212Z"
   },
   {
    "duration": 300,
    "start_time": "2021-09-22T05:59:31.215Z"
   },
   {
    "duration": 298,
    "start_time": "2021-09-22T05:59:31.218Z"
   },
   {
    "duration": 296,
    "start_time": "2021-09-22T05:59:31.221Z"
   },
   {
    "duration": 295,
    "start_time": "2021-09-22T05:59:31.223Z"
   },
   {
    "duration": 243,
    "start_time": "2021-09-22T05:59:31.276Z"
   },
   {
    "duration": 241,
    "start_time": "2021-09-22T05:59:31.279Z"
   },
   {
    "duration": 239,
    "start_time": "2021-09-22T05:59:31.282Z"
   },
   {
    "duration": 239,
    "start_time": "2021-09-22T05:59:31.284Z"
   },
   {
    "duration": 237,
    "start_time": "2021-09-22T05:59:31.287Z"
   },
   {
    "duration": 234,
    "start_time": "2021-09-22T05:59:31.290Z"
   },
   {
    "duration": 233,
    "start_time": "2021-09-22T05:59:31.292Z"
   },
   {
    "duration": 233,
    "start_time": "2021-09-22T05:59:31.293Z"
   },
   {
    "duration": 232,
    "start_time": "2021-09-22T05:59:31.295Z"
   },
   {
    "duration": 224,
    "start_time": "2021-09-22T05:59:31.304Z"
   },
   {
    "duration": 2233,
    "start_time": "2021-09-22T06:00:03.875Z"
   },
   {
    "duration": 1261,
    "start_time": "2021-09-22T06:00:06.110Z"
   },
   {
    "duration": 622,
    "start_time": "2021-09-22T06:00:07.374Z"
   },
   {
    "duration": 14,
    "start_time": "2021-09-22T06:00:07.998Z"
   },
   {
    "duration": 25,
    "start_time": "2021-09-22T06:00:08.014Z"
   },
   {
    "duration": 240,
    "start_time": "2021-09-22T06:00:08.041Z"
   },
   {
    "duration": 3,
    "start_time": "2021-09-22T06:00:08.282Z"
   },
   {
    "duration": 8,
    "start_time": "2021-09-22T06:00:08.286Z"
   },
   {
    "duration": 5,
    "start_time": "2021-09-22T06:00:08.296Z"
   },
   {
    "duration": 2238,
    "start_time": "2021-09-22T06:00:08.303Z"
   },
   {
    "duration": 82236,
    "start_time": "2021-09-22T06:00:10.542Z"
   },
   {
    "duration": 244,
    "start_time": "2021-09-22T06:01:32.780Z"
   },
   {
    "duration": 60,
    "start_time": "2021-09-22T06:01:33.026Z"
   },
   {
    "duration": 13107,
    "start_time": "2021-09-22T06:01:33.088Z"
   },
   {
    "duration": 403,
    "start_time": "2021-09-22T06:01:46.196Z"
   },
   {
    "duration": 77,
    "start_time": "2021-09-22T06:01:46.524Z"
   },
   {
    "duration": 73,
    "start_time": "2021-09-22T06:01:46.529Z"
   },
   {
    "duration": 67,
    "start_time": "2021-09-22T06:01:46.536Z"
   },
   {
    "duration": 65,
    "start_time": "2021-09-22T06:01:46.539Z"
   },
   {
    "duration": 4,
    "start_time": "2021-09-22T06:02:35.460Z"
   },
   {
    "duration": 3,
    "start_time": "2021-09-22T06:02:40.675Z"
   },
   {
    "duration": 5,
    "start_time": "2021-09-22T06:07:02.369Z"
   },
   {
    "duration": 3,
    "start_time": "2021-09-22T06:07:20.915Z"
   },
   {
    "duration": 314,
    "start_time": "2021-09-22T06:08:29.628Z"
   },
   {
    "duration": 4,
    "start_time": "2021-09-22T06:09:30.214Z"
   },
   {
    "duration": 297,
    "start_time": "2021-09-22T06:09:37.189Z"
   },
   {
    "duration": 3,
    "start_time": "2021-09-22T06:10:04.609Z"
   },
   {
    "duration": 3,
    "start_time": "2021-09-22T06:11:44.913Z"
   },
   {
    "duration": 4,
    "start_time": "2021-09-22T06:12:21.241Z"
   },
   {
    "duration": 4,
    "start_time": "2021-09-22T06:13:35.128Z"
   },
   {
    "duration": 2278,
    "start_time": "2021-09-22T06:19:00.284Z"
   },
   {
    "duration": 1204,
    "start_time": "2021-09-22T06:19:02.564Z"
   },
   {
    "duration": 624,
    "start_time": "2021-09-22T06:19:03.770Z"
   },
   {
    "duration": 12,
    "start_time": "2021-09-22T06:19:04.396Z"
   },
   {
    "duration": 28,
    "start_time": "2021-09-22T06:19:04.410Z"
   },
   {
    "duration": 240,
    "start_time": "2021-09-22T06:19:04.440Z"
   },
   {
    "duration": 2,
    "start_time": "2021-09-22T06:19:04.682Z"
   },
   {
    "duration": 6,
    "start_time": "2021-09-22T06:19:04.687Z"
   },
   {
    "duration": 5,
    "start_time": "2021-09-22T06:19:04.695Z"
   },
   {
    "duration": 2219,
    "start_time": "2021-09-22T06:19:04.702Z"
   },
   {
    "duration": 82349,
    "start_time": "2021-09-22T06:19:06.923Z"
   },
   {
    "duration": 246,
    "start_time": "2021-09-22T06:20:29.273Z"
   },
   {
    "duration": 61,
    "start_time": "2021-09-22T06:20:29.521Z"
   },
   {
    "duration": 13078,
    "start_time": "2021-09-22T06:20:29.583Z"
   },
   {
    "duration": 3,
    "start_time": "2021-09-22T06:20:42.663Z"
   },
   {
    "duration": 17,
    "start_time": "2021-09-22T06:20:42.668Z"
   },
   {
    "duration": 6,
    "start_time": "2021-09-22T06:20:42.687Z"
   },
   {
    "duration": 20,
    "start_time": "2021-09-22T06:20:42.695Z"
   },
   {
    "duration": 253408,
    "start_time": "2021-09-22T06:20:42.717Z"
   },
   {
    "duration": 115,
    "start_time": "2021-09-22T06:24:56.012Z"
   },
   {
    "duration": 113,
    "start_time": "2021-09-22T06:24:56.015Z"
   },
   {
    "duration": 112,
    "start_time": "2021-09-22T06:24:56.017Z"
   },
   {
    "duration": 111,
    "start_time": "2021-09-22T06:24:56.019Z"
   },
   {
    "duration": 3771,
    "start_time": "2021-09-22T13:21:04.632Z"
   },
   {
    "duration": 1584,
    "start_time": "2021-09-22T13:21:08.406Z"
   },
   {
    "duration": 777,
    "start_time": "2021-09-22T13:21:09.993Z"
   },
   {
    "duration": 19,
    "start_time": "2021-09-22T13:21:10.773Z"
   },
   {
    "duration": 48,
    "start_time": "2021-09-22T13:21:10.794Z"
   },
   {
    "duration": 291,
    "start_time": "2021-09-22T13:21:10.844Z"
   },
   {
    "duration": 4,
    "start_time": "2021-09-22T13:21:11.137Z"
   },
   {
    "duration": 5,
    "start_time": "2021-09-22T13:21:11.143Z"
   },
   {
    "duration": 4,
    "start_time": "2021-09-22T13:21:11.152Z"
   },
   {
    "duration": 2789,
    "start_time": "2021-09-22T13:21:11.158Z"
   },
   {
    "duration": 135729,
    "start_time": "2021-09-22T13:21:13.950Z"
   },
   {
    "duration": 259,
    "start_time": "2021-09-22T13:23:29.681Z"
   },
   {
    "duration": 77,
    "start_time": "2021-09-22T13:23:29.942Z"
   },
   {
    "duration": 20508,
    "start_time": "2021-09-22T13:23:30.021Z"
   },
   {
    "duration": 83885,
    "start_time": "2021-09-22T13:23:50.531Z"
   },
   {
    "duration": 1115,
    "start_time": "2021-09-22T13:27:17.674Z"
   },
   {
    "duration": 14688,
    "start_time": "2021-09-22T13:29:02.811Z"
   },
   {
    "duration": 3752,
    "start_time": "2021-09-22T13:29:37.712Z"
   },
   {
    "duration": 7,
    "start_time": "2021-09-22T13:29:41.467Z"
   },
   {
    "duration": 763,
    "start_time": "2021-09-22T13:29:41.477Z"
   },
   {
    "duration": 10,
    "start_time": "2021-09-22T13:29:42.243Z"
   },
   {
    "duration": 40,
    "start_time": "2021-09-22T13:29:42.256Z"
   },
   {
    "duration": 288,
    "start_time": "2021-09-22T13:29:42.298Z"
   },
   {
    "duration": 3,
    "start_time": "2021-09-22T13:29:42.588Z"
   },
   {
    "duration": 22,
    "start_time": "2021-09-22T13:29:42.594Z"
   },
   {
    "duration": 16,
    "start_time": "2021-09-22T13:29:42.619Z"
   },
   {
    "duration": 3223,
    "start_time": "2021-09-22T13:29:56.613Z"
   },
   {
    "duration": 1549,
    "start_time": "2021-09-22T13:29:59.839Z"
   },
   {
    "duration": 777,
    "start_time": "2021-09-22T13:30:01.391Z"
   },
   {
    "duration": 20,
    "start_time": "2021-09-22T13:30:02.171Z"
   },
   {
    "duration": 55,
    "start_time": "2021-09-22T13:30:02.193Z"
   },
   {
    "duration": 301,
    "start_time": "2021-09-22T13:30:02.250Z"
   },
   {
    "duration": 3,
    "start_time": "2021-09-22T13:30:02.554Z"
   },
   {
    "duration": 57,
    "start_time": "2021-09-22T13:30:02.560Z"
   },
   {
    "duration": 20,
    "start_time": "2021-09-22T13:30:02.620Z"
   },
   {
    "duration": 2899,
    "start_time": "2021-09-22T13:30:02.643Z"
   },
   {
    "duration": 140679,
    "start_time": "2021-09-22T13:30:05.545Z"
   },
   {
    "duration": 258,
    "start_time": "2021-09-22T13:32:26.227Z"
   },
   {
    "duration": 78,
    "start_time": "2021-09-22T13:32:26.488Z"
   },
   {
    "duration": 20084,
    "start_time": "2021-09-22T13:32:26.569Z"
   },
   {
    "duration": 79985,
    "start_time": "2021-09-22T13:32:46.656Z"
   },
   {
    "duration": 1699,
    "start_time": "2021-09-22T13:34:06.643Z"
   },
   {
    "duration": 14957,
    "start_time": "2021-09-22T13:34:08.345Z"
   },
   {
    "duration": 14613,
    "start_time": "2021-09-22T13:38:23.683Z"
   },
   {
    "duration": 3484,
    "start_time": "2021-09-22T13:40:51.739Z"
   },
   {
    "duration": 1564,
    "start_time": "2021-09-22T13:40:55.227Z"
   },
   {
    "duration": 769,
    "start_time": "2021-09-22T13:40:56.795Z"
   },
   {
    "duration": 20,
    "start_time": "2021-09-22T13:40:57.567Z"
   },
   {
    "duration": 49,
    "start_time": "2021-09-22T13:40:57.589Z"
   },
   {
    "duration": 293,
    "start_time": "2021-09-22T13:40:57.641Z"
   },
   {
    "duration": 4,
    "start_time": "2021-09-22T13:40:57.936Z"
   },
   {
    "duration": 6,
    "start_time": "2021-09-22T13:40:57.943Z"
   },
   {
    "duration": 8,
    "start_time": "2021-09-22T13:40:57.952Z"
   },
   {
    "duration": 2789,
    "start_time": "2021-09-22T13:40:57.962Z"
   },
   {
    "duration": 137601,
    "start_time": "2021-09-22T13:41:00.754Z"
   },
   {
    "duration": 253,
    "start_time": "2021-09-22T13:43:18.357Z"
   },
   {
    "duration": 89,
    "start_time": "2021-09-22T13:43:18.612Z"
   },
   {
    "duration": 19272,
    "start_time": "2021-09-22T13:43:18.703Z"
   },
   {
    "duration": 79639,
    "start_time": "2021-09-22T13:43:37.977Z"
   },
   {
    "duration": 1330,
    "start_time": "2021-09-22T13:44:57.618Z"
   },
   {
    "duration": 14049,
    "start_time": "2021-09-22T13:44:58.951Z"
   },
   {
    "duration": 16996,
    "start_time": "2021-09-22T13:49:01.497Z"
   },
   {
    "duration": 268923,
    "start_time": "2021-09-22T14:03:55.285Z"
   },
   {
    "duration": 80,
    "start_time": "2021-09-22T14:08:24.211Z"
   },
   {
    "duration": 64250,
    "start_time": "2021-09-22T14:09:41.397Z"
   },
   {
    "duration": 3751,
    "start_time": "2021-09-22T14:10:57.549Z"
   },
   {
    "duration": 8,
    "start_time": "2021-09-22T14:11:01.303Z"
   },
   {
    "duration": 791,
    "start_time": "2021-09-22T14:11:01.315Z"
   },
   {
    "duration": 15,
    "start_time": "2021-09-22T14:11:02.108Z"
   },
   {
    "duration": 58,
    "start_time": "2021-09-22T14:11:02.126Z"
   },
   {
    "duration": 315,
    "start_time": "2021-09-22T14:11:02.188Z"
   },
   {
    "duration": 11,
    "start_time": "2021-09-22T14:11:02.506Z"
   },
   {
    "duration": 9,
    "start_time": "2021-09-22T14:11:02.522Z"
   },
   {
    "duration": 11,
    "start_time": "2021-09-22T14:11:02.533Z"
   },
   {
    "duration": 3258,
    "start_time": "2021-09-22T14:11:17.153Z"
   },
   {
    "duration": 1628,
    "start_time": "2021-09-22T14:11:20.414Z"
   },
   {
    "duration": 779,
    "start_time": "2021-09-22T14:11:22.045Z"
   },
   {
    "duration": 21,
    "start_time": "2021-09-22T14:11:22.827Z"
   },
   {
    "duration": 36,
    "start_time": "2021-09-22T14:11:22.851Z"
   },
   {
    "duration": 314,
    "start_time": "2021-09-22T14:11:22.890Z"
   },
   {
    "duration": 10,
    "start_time": "2021-09-22T14:11:23.206Z"
   },
   {
    "duration": 5,
    "start_time": "2021-09-22T14:11:23.218Z"
   },
   {
    "duration": 4,
    "start_time": "2021-09-22T14:11:23.226Z"
   },
   {
    "duration": 2906,
    "start_time": "2021-09-22T14:11:23.233Z"
   },
   {
    "duration": 135144,
    "start_time": "2021-09-22T14:11:26.141Z"
   },
   {
    "duration": 301,
    "start_time": "2021-09-22T14:13:41.287Z"
   },
   {
    "duration": 82,
    "start_time": "2021-09-22T14:13:41.591Z"
   },
   {
    "duration": 19152,
    "start_time": "2021-09-22T14:13:41.676Z"
   },
   {
    "duration": 920156,
    "start_time": "2021-09-22T14:14:00.831Z"
   },
   {
    "duration": 17117,
    "start_time": "2021-09-22T14:29:20.989Z"
   },
   {
    "duration": 83400,
    "start_time": "2021-09-22T14:29:38.109Z"
   },
   {
    "duration": 1406,
    "start_time": "2021-09-22T14:31:01.512Z"
   },
   {
    "duration": 18622,
    "start_time": "2021-09-22T14:32:26.381Z"
   },
   {
    "duration": 1554361,
    "start_time": "2021-09-22T14:35:41.559Z"
   },
   {
    "duration": 3157,
    "start_time": "2021-09-22T16:04:35.334Z"
   },
   {
    "duration": 1659,
    "start_time": "2021-09-22T16:04:38.494Z"
   },
   {
    "duration": 797,
    "start_time": "2021-09-22T16:04:40.157Z"
   },
   {
    "duration": 19,
    "start_time": "2021-09-22T16:04:40.957Z"
   },
   {
    "duration": 48,
    "start_time": "2021-09-22T16:04:40.978Z"
   },
   {
    "duration": 310,
    "start_time": "2021-09-22T16:04:41.029Z"
   },
   {
    "duration": 4,
    "start_time": "2021-09-22T16:04:41.342Z"
   },
   {
    "duration": 18,
    "start_time": "2021-09-22T16:04:41.352Z"
   },
   {
    "duration": 11,
    "start_time": "2021-09-22T16:04:41.373Z"
   },
   {
    "duration": 2876,
    "start_time": "2021-09-22T16:04:41.387Z"
   },
   {
    "duration": 136438,
    "start_time": "2021-09-22T16:04:44.265Z"
   },
   {
    "duration": 270,
    "start_time": "2021-09-22T16:07:00.706Z"
   },
   {
    "duration": 82,
    "start_time": "2021-09-22T16:07:00.980Z"
   },
   {
    "duration": 19014,
    "start_time": "2021-09-22T16:07:01.065Z"
   },
   {
    "duration": 1459871,
    "start_time": "2021-09-22T16:07:20.081Z"
   },
   {
    "duration": 937720,
    "start_time": "2021-09-22T16:31:39.954Z"
   },
   {
    "duration": 18536,
    "start_time": "2021-09-22T16:47:17.676Z"
   },
   {
    "duration": 80810,
    "start_time": "2021-09-22T16:47:36.214Z"
   },
   {
    "duration": 2049,
    "start_time": "2021-09-22T16:48:57.028Z"
   },
   {
    "duration": 46372,
    "start_time": "2021-09-22T16:52:55.494Z"
   },
   {
    "duration": 295358,
    "start_time": "2021-09-22T17:04:10.470Z"
   },
   {
    "duration": 3782,
    "start_time": "2021-09-22T17:20:40.628Z"
   },
   {
    "duration": 4928,
    "start_time": "2021-09-22T17:22:42.119Z"
   },
   {
    "duration": 6399,
    "start_time": "2021-09-22T17:23:39.533Z"
   },
   {
    "duration": 4880,
    "start_time": "2021-09-22T17:26:14.211Z"
   },
   {
    "duration": 3448,
    "start_time": "2021-09-22T17:36:02.160Z"
   },
   {
    "duration": 1577,
    "start_time": "2021-09-22T17:36:05.611Z"
   },
   {
    "duration": 793,
    "start_time": "2021-09-22T17:36:07.192Z"
   },
   {
    "duration": 28,
    "start_time": "2021-09-22T17:36:07.988Z"
   },
   {
    "duration": 34,
    "start_time": "2021-09-22T17:36:08.019Z"
   },
   {
    "duration": 320,
    "start_time": "2021-09-22T17:36:08.056Z"
   },
   {
    "duration": 4,
    "start_time": "2021-09-22T17:36:08.378Z"
   },
   {
    "duration": 11,
    "start_time": "2021-09-22T17:36:08.386Z"
   },
   {
    "duration": 25,
    "start_time": "2021-09-22T17:36:08.400Z"
   },
   {
    "duration": 2970,
    "start_time": "2021-09-22T17:36:08.427Z"
   },
   {
    "duration": 134521,
    "start_time": "2021-09-22T17:36:11.399Z"
   },
   {
    "duration": 262,
    "start_time": "2021-09-22T17:38:25.923Z"
   },
   {
    "duration": 87,
    "start_time": "2021-09-22T17:38:26.187Z"
   },
   {
    "duration": 18541,
    "start_time": "2021-09-22T17:38:26.277Z"
   },
   {
    "duration": 1451558,
    "start_time": "2021-09-22T17:38:44.821Z"
   },
   {
    "duration": 3174,
    "start_time": "2021-09-22T18:05:37.541Z"
   },
   {
    "duration": 1552,
    "start_time": "2021-09-22T18:05:40.718Z"
   },
   {
    "duration": 781,
    "start_time": "2021-09-22T18:05:42.273Z"
   },
   {
    "duration": 19,
    "start_time": "2021-09-22T18:05:43.058Z"
   },
   {
    "duration": 55,
    "start_time": "2021-09-22T18:05:43.080Z"
   },
   {
    "duration": 300,
    "start_time": "2021-09-22T18:05:43.137Z"
   },
   {
    "duration": 3,
    "start_time": "2021-09-22T18:05:43.440Z"
   },
   {
    "duration": 5,
    "start_time": "2021-09-22T18:05:43.449Z"
   },
   {
    "duration": 7,
    "start_time": "2021-09-22T18:05:43.457Z"
   },
   {
    "duration": 2886,
    "start_time": "2021-09-22T18:05:43.466Z"
   },
   {
    "duration": 165841,
    "start_time": "2021-09-22T18:05:46.354Z"
   },
   {
    "duration": 250,
    "start_time": "2021-09-22T18:08:32.198Z"
   },
   {
    "duration": 83,
    "start_time": "2021-09-22T18:08:32.450Z"
   },
   {
    "duration": 19328,
    "start_time": "2021-09-22T18:08:32.535Z"
   },
   {
    "duration": 1445503,
    "start_time": "2021-09-22T18:08:51.866Z"
   },
   {
    "duration": 6,
    "start_time": "2021-09-22T18:32:57.372Z"
   },
   {
    "duration": 471,
    "start_time": "2021-09-22T18:33:49.250Z"
   },
   {
    "duration": 3597,
    "start_time": "2021-09-22T18:37:53.446Z"
   },
   {
    "duration": 1631,
    "start_time": "2021-09-22T18:37:57.047Z"
   },
   {
    "duration": 793,
    "start_time": "2021-09-22T18:37:58.681Z"
   },
   {
    "duration": 21,
    "start_time": "2021-09-22T18:37:59.477Z"
   },
   {
    "duration": 46,
    "start_time": "2021-09-22T18:37:59.500Z"
   },
   {
    "duration": 302,
    "start_time": "2021-09-22T18:37:59.548Z"
   },
   {
    "duration": 3,
    "start_time": "2021-09-22T18:37:59.853Z"
   },
   {
    "duration": 8,
    "start_time": "2021-09-22T18:37:59.861Z"
   },
   {
    "duration": 10,
    "start_time": "2021-09-22T18:37:59.872Z"
   },
   {
    "duration": 3024,
    "start_time": "2021-09-22T18:37:59.885Z"
   },
   {
    "duration": 138042,
    "start_time": "2021-09-22T18:38:02.917Z"
   },
   {
    "duration": 518,
    "start_time": "2021-09-22T18:40:20.961Z"
   },
   {
    "duration": 87,
    "start_time": "2021-09-22T18:40:21.482Z"
   },
   {
    "duration": 19218,
    "start_time": "2021-09-22T18:40:21.572Z"
   },
   {
    "duration": 1571851,
    "start_time": "2021-09-22T18:40:40.792Z"
   },
   {
    "duration": -100317,
    "start_time": "2021-09-22T19:08:32.963Z"
   },
   {
    "duration": -100345,
    "start_time": "2021-09-22T19:08:32.992Z"
   },
   {
    "duration": -100348,
    "start_time": "2021-09-22T19:08:32.997Z"
   },
   {
    "duration": -100351,
    "start_time": "2021-09-22T19:08:33.001Z"
   },
   {
    "duration": -100352,
    "start_time": "2021-09-22T19:08:33.004Z"
   },
   {
    "duration": 3602,
    "start_time": "2021-09-23T03:08:25.800Z"
   },
   {
    "duration": 6,
    "start_time": "2021-09-23T03:08:29.406Z"
   },
   {
    "duration": 774,
    "start_time": "2021-09-23T03:08:29.415Z"
   },
   {
    "duration": 11,
    "start_time": "2021-09-23T03:08:30.191Z"
   },
   {
    "duration": 40,
    "start_time": "2021-09-23T03:08:30.218Z"
   },
   {
    "duration": 305,
    "start_time": "2021-09-23T03:08:30.261Z"
   },
   {
    "duration": 5,
    "start_time": "2021-09-23T03:08:30.569Z"
   },
   {
    "duration": 20,
    "start_time": "2021-09-23T03:08:30.578Z"
   },
   {
    "duration": 21,
    "start_time": "2021-09-23T03:08:30.601Z"
   },
   {
    "duration": 3351,
    "start_time": "2021-09-23T03:08:52.003Z"
   },
   {
    "duration": 1543,
    "start_time": "2021-09-23T03:08:55.358Z"
   },
   {
    "duration": 813,
    "start_time": "2021-09-23T03:08:56.904Z"
   },
   {
    "duration": 24,
    "start_time": "2021-09-23T03:08:57.721Z"
   },
   {
    "duration": 34,
    "start_time": "2021-09-23T03:08:57.748Z"
   },
   {
    "duration": 357,
    "start_time": "2021-09-23T03:08:57.785Z"
   },
   {
    "duration": 3,
    "start_time": "2021-09-23T03:08:58.144Z"
   },
   {
    "duration": 8,
    "start_time": "2021-09-23T03:08:58.149Z"
   },
   {
    "duration": 8,
    "start_time": "2021-09-23T03:08:58.160Z"
   },
   {
    "duration": 3099,
    "start_time": "2021-09-23T03:08:58.170Z"
   },
   {
    "duration": 139132,
    "start_time": "2021-09-23T03:09:01.271Z"
   },
   {
    "duration": 246,
    "start_time": "2021-09-23T03:11:20.405Z"
   },
   {
    "duration": 90,
    "start_time": "2021-09-23T03:11:20.654Z"
   },
   {
    "duration": 20002,
    "start_time": "2021-09-23T03:11:20.747Z"
   },
   {
    "duration": 291983,
    "start_time": "2021-09-23T03:14:05.746Z"
   },
   {
    "duration": 4,
    "start_time": "2021-09-23T03:19:28.072Z"
   },
   {
    "duration": 5,
    "start_time": "2021-09-23T03:22:24.417Z"
   },
   {
    "duration": 3557,
    "start_time": "2021-09-23T03:22:53.705Z"
   },
   {
    "duration": 1534,
    "start_time": "2021-09-23T03:22:57.265Z"
   },
   {
    "duration": 809,
    "start_time": "2021-09-23T03:22:58.803Z"
   },
   {
    "duration": 25,
    "start_time": "2021-09-23T03:22:59.617Z"
   },
   {
    "duration": 41,
    "start_time": "2021-09-23T03:22:59.645Z"
   },
   {
    "duration": 316,
    "start_time": "2021-09-23T03:22:59.688Z"
   },
   {
    "duration": 11,
    "start_time": "2021-09-23T03:23:00.008Z"
   },
   {
    "duration": 14,
    "start_time": "2021-09-23T03:23:00.021Z"
   },
   {
    "duration": 17,
    "start_time": "2021-09-23T03:23:00.038Z"
   },
   {
    "duration": 2997,
    "start_time": "2021-09-23T03:23:00.058Z"
   },
   {
    "duration": 137292,
    "start_time": "2021-09-23T03:23:03.058Z"
   },
   {
    "duration": 258,
    "start_time": "2021-09-23T03:25:20.353Z"
   },
   {
    "duration": 84,
    "start_time": "2021-09-23T03:25:20.613Z"
   },
   {
    "duration": 19412,
    "start_time": "2021-09-23T03:25:20.700Z"
   },
   {
    "duration": 281086,
    "start_time": "2021-09-23T03:26:58.265Z"
   },
   {
    "duration": 3,
    "start_time": "2021-09-23T03:31:39.354Z"
   },
   {
    "duration": 7,
    "start_time": "2021-09-23T03:39:26.699Z"
   },
   {
    "duration": 1462682,
    "start_time": "2021-09-23T03:40:10.236Z"
   },
   {
    "duration": 909698,
    "start_time": "2021-09-23T04:06:40.869Z"
   },
   {
    "duration": 4,
    "start_time": "2021-09-23T05:18:02.132Z"
   },
   {
    "duration": 6,
    "start_time": "2021-09-23T05:18:08.009Z"
   },
   {
    "duration": 4,
    "start_time": "2021-09-23T05:19:11.822Z"
   },
   {
    "duration": 1412666,
    "start_time": "2021-09-23T05:20:09.142Z"
   },
   {
    "duration": 25,
    "start_time": "2021-09-23T05:52:36.627Z"
   },
   {
    "duration": 3165,
    "start_time": "2021-09-23T05:55:41.065Z"
   },
   {
    "duration": 1561,
    "start_time": "2021-09-23T05:55:44.233Z"
   },
   {
    "duration": 766,
    "start_time": "2021-09-23T05:55:45.797Z"
   },
   {
    "duration": 19,
    "start_time": "2021-09-23T05:55:46.566Z"
   },
   {
    "duration": 50,
    "start_time": "2021-09-23T05:55:46.588Z"
   },
   {
    "duration": 299,
    "start_time": "2021-09-23T05:55:46.640Z"
   },
   {
    "duration": 3,
    "start_time": "2021-09-23T05:55:46.941Z"
   },
   {
    "duration": 13,
    "start_time": "2021-09-23T05:55:46.947Z"
   },
   {
    "duration": 16,
    "start_time": "2021-09-23T05:55:46.962Z"
   },
   {
    "duration": 2923,
    "start_time": "2021-09-23T05:55:46.980Z"
   },
   {
    "duration": 3344,
    "start_time": "2021-09-23T05:58:23.222Z"
   },
   {
    "duration": 6,
    "start_time": "2021-09-23T05:58:26.569Z"
   },
   {
    "duration": 731,
    "start_time": "2021-09-23T05:58:26.578Z"
   },
   {
    "duration": 10,
    "start_time": "2021-09-23T05:58:27.312Z"
   },
   {
    "duration": 30,
    "start_time": "2021-09-23T05:58:27.324Z"
   },
   {
    "duration": 308,
    "start_time": "2021-09-23T05:58:27.356Z"
   },
   {
    "duration": 4,
    "start_time": "2021-09-23T05:58:27.666Z"
   },
   {
    "duration": 9,
    "start_time": "2021-09-23T05:58:27.672Z"
   },
   {
    "duration": 14,
    "start_time": "2021-09-23T05:58:27.683Z"
   },
   {
    "duration": 3648,
    "start_time": "2021-09-23T05:58:55.346Z"
   },
   {
    "duration": 1724,
    "start_time": "2021-09-23T05:58:58.997Z"
   },
   {
    "duration": 785,
    "start_time": "2021-09-23T05:59:00.724Z"
   },
   {
    "duration": 24,
    "start_time": "2021-09-23T05:59:01.512Z"
   },
   {
    "duration": 35,
    "start_time": "2021-09-23T05:59:01.539Z"
   },
   {
    "duration": 339,
    "start_time": "2021-09-23T05:59:01.577Z"
   },
   {
    "duration": 4,
    "start_time": "2021-09-23T05:59:01.919Z"
   },
   {
    "duration": 8,
    "start_time": "2021-09-23T05:59:01.926Z"
   },
   {
    "duration": 28,
    "start_time": "2021-09-23T05:59:01.938Z"
   },
   {
    "duration": 2987,
    "start_time": "2021-09-23T05:59:01.969Z"
   },
   {
    "duration": 133664,
    "start_time": "2021-09-23T05:59:04.959Z"
   },
   {
    "duration": 255,
    "start_time": "2021-09-23T06:01:18.625Z"
   },
   {
    "duration": 82,
    "start_time": "2021-09-23T06:01:18.882Z"
   },
   {
    "duration": 18513,
    "start_time": "2021-09-23T06:01:18.967Z"
   },
   {
    "duration": 359,
    "start_time": "2021-09-23T06:03:45.539Z"
   },
   {
    "duration": 4561,
    "start_time": "2021-09-23T06:04:27.105Z"
   },
   {
    "duration": 1532,
    "start_time": "2021-09-23T06:04:31.669Z"
   },
   {
    "duration": 777,
    "start_time": "2021-09-23T06:04:33.204Z"
   },
   {
    "duration": 19,
    "start_time": "2021-09-23T06:04:33.984Z"
   },
   {
    "duration": 41,
    "start_time": "2021-09-23T06:04:34.005Z"
   },
   {
    "duration": 304,
    "start_time": "2021-09-23T06:04:34.048Z"
   },
   {
    "duration": 3,
    "start_time": "2021-09-23T06:04:34.355Z"
   },
   {
    "duration": 6,
    "start_time": "2021-09-23T06:04:34.361Z"
   },
   {
    "duration": 6,
    "start_time": "2021-09-23T06:04:34.369Z"
   },
   {
    "duration": 2975,
    "start_time": "2021-09-23T06:04:34.378Z"
   },
   {
    "duration": 3597,
    "start_time": "2021-09-23T06:06:28.384Z"
   },
   {
    "duration": 2822,
    "start_time": "2021-09-23T06:06:31.984Z"
   },
   {
    "duration": 789,
    "start_time": "2021-09-23T06:06:34.809Z"
   },
   {
    "duration": 27,
    "start_time": "2021-09-23T06:06:35.601Z"
   },
   {
    "duration": 45,
    "start_time": "2021-09-23T06:06:35.631Z"
   },
   {
    "duration": 307,
    "start_time": "2021-09-23T06:06:35.678Z"
   },
   {
    "duration": 4,
    "start_time": "2021-09-23T06:06:35.987Z"
   },
   {
    "duration": 23,
    "start_time": "2021-09-23T06:06:35.993Z"
   },
   {
    "duration": 8,
    "start_time": "2021-09-23T06:06:36.020Z"
   },
   {
    "duration": 3075,
    "start_time": "2021-09-23T06:06:36.030Z"
   },
   {
    "duration": 137044,
    "start_time": "2021-09-23T06:06:39.107Z"
   },
   {
    "duration": 265,
    "start_time": "2021-09-23T06:08:56.153Z"
   },
   {
    "duration": 97,
    "start_time": "2021-09-23T06:08:56.420Z"
   },
   {
    "duration": 18918,
    "start_time": "2021-09-23T06:08:56.519Z"
   },
   {
    "duration": 503,
    "start_time": "2021-09-23T06:09:56.753Z"
   },
   {
    "duration": 384,
    "start_time": "2021-09-23T06:19:07.103Z"
   },
   {
    "duration": 3257,
    "start_time": "2021-09-23T06:19:19.277Z"
   },
   {
    "duration": 1565,
    "start_time": "2021-09-23T06:19:22.536Z"
   },
   {
    "duration": 782,
    "start_time": "2021-09-23T06:19:24.103Z"
   },
   {
    "duration": 19,
    "start_time": "2021-09-23T06:19:24.888Z"
   },
   {
    "duration": 32,
    "start_time": "2021-09-23T06:19:24.916Z"
   },
   {
    "duration": 325,
    "start_time": "2021-09-23T06:19:24.950Z"
   },
   {
    "duration": 3,
    "start_time": "2021-09-23T06:19:25.278Z"
   },
   {
    "duration": 6,
    "start_time": "2021-09-23T06:19:25.284Z"
   },
   {
    "duration": 6,
    "start_time": "2021-09-23T06:19:25.293Z"
   },
   {
    "duration": 2895,
    "start_time": "2021-09-23T06:19:25.301Z"
   },
   {
    "duration": 132926,
    "start_time": "2021-09-23T06:19:28.198Z"
   },
   {
    "duration": 228,
    "start_time": "2021-09-23T06:21:41.126Z"
   },
   {
    "duration": 91,
    "start_time": "2021-09-23T06:21:41.358Z"
   },
   {
    "duration": 18336,
    "start_time": "2021-09-23T06:21:41.452Z"
   },
   {
    "duration": 386,
    "start_time": "2021-09-23T06:32:05.757Z"
   },
   {
    "duration": 3314,
    "start_time": "2021-09-23T06:32:28.689Z"
   },
   {
    "duration": 1710,
    "start_time": "2021-09-23T06:32:32.006Z"
   },
   {
    "duration": 836,
    "start_time": "2021-09-23T06:32:33.720Z"
   },
   {
    "duration": 27,
    "start_time": "2021-09-23T06:32:34.560Z"
   },
   {
    "duration": 49,
    "start_time": "2021-09-23T06:32:34.590Z"
   },
   {
    "duration": 321,
    "start_time": "2021-09-23T06:32:34.642Z"
   },
   {
    "duration": 4,
    "start_time": "2021-09-23T06:32:34.965Z"
   },
   {
    "duration": 19,
    "start_time": "2021-09-23T06:32:34.971Z"
   },
   {
    "duration": 17,
    "start_time": "2021-09-23T06:32:34.993Z"
   },
   {
    "duration": 2919,
    "start_time": "2021-09-23T06:32:35.013Z"
   },
   {
    "duration": 132086,
    "start_time": "2021-09-23T06:32:37.935Z"
   },
   {
    "duration": 272,
    "start_time": "2021-09-23T06:34:50.023Z"
   },
   {
    "duration": 83,
    "start_time": "2021-09-23T06:34:50.297Z"
   },
   {
    "duration": 18707,
    "start_time": "2021-09-23T06:34:50.382Z"
   },
   {
    "duration": 685,
    "start_time": "2021-09-23T06:35:20.192Z"
   },
   {
    "duration": 6,
    "start_time": "2021-09-23T06:36:21.185Z"
   },
   {
    "duration": 178502,
    "start_time": "2021-09-23T06:36:26.246Z"
   },
   {
    "duration": 5,
    "start_time": "2021-09-23T06:53:04.377Z"
   },
   {
    "duration": 7,
    "start_time": "2021-09-23T06:53:10.554Z"
   },
   {
    "duration": 21,
    "start_time": "2021-09-23T06:54:24.251Z"
   },
   {
    "duration": 322,
    "start_time": "2021-09-23T06:59:21.230Z"
   },
   {
    "duration": 1448477,
    "start_time": "2021-09-23T06:59:39.057Z"
   },
   {
    "duration": 121285,
    "start_time": "2021-09-23T07:28:20.872Z"
   },
   {
    "duration": 1391,
    "start_time": "2021-09-23T08:04:51.474Z"
   },
   {
    "duration": 1389,
    "start_time": "2021-09-23T08:04:51.478Z"
   },
   {
    "duration": 1379,
    "start_time": "2021-09-23T08:04:51.492Z"
   },
   {
    "duration": 1380,
    "start_time": "2021-09-23T08:04:51.494Z"
   },
   {
    "duration": 1377,
    "start_time": "2021-09-23T08:04:51.500Z"
   },
   {
    "duration": 1377,
    "start_time": "2021-09-23T08:04:51.503Z"
   },
   {
    "duration": 1375,
    "start_time": "2021-09-23T08:04:51.507Z"
   },
   {
    "duration": 1372,
    "start_time": "2021-09-23T08:04:51.513Z"
   },
   {
    "duration": 1373,
    "start_time": "2021-09-23T08:04:51.515Z"
   },
   {
    "duration": 1373,
    "start_time": "2021-09-23T08:04:51.518Z"
   },
   {
    "duration": 1397,
    "start_time": "2021-09-23T08:04:51.521Z"
   },
   {
    "duration": 1395,
    "start_time": "2021-09-23T08:04:51.526Z"
   },
   {
    "duration": 1303,
    "start_time": "2021-09-23T08:04:51.626Z"
   },
   {
    "duration": 1303,
    "start_time": "2021-09-23T08:04:51.628Z"
   },
   {
    "duration": 1303,
    "start_time": "2021-09-23T08:04:51.630Z"
   },
   {
    "duration": 1302,
    "start_time": "2021-09-23T08:04:51.632Z"
   },
   {
    "duration": 1301,
    "start_time": "2021-09-23T08:04:51.635Z"
   },
   {
    "duration": 1300,
    "start_time": "2021-09-23T08:04:51.637Z"
   },
   {
    "duration": 3329,
    "start_time": "2021-09-23T08:23:03.348Z"
   },
   {
    "duration": 1604,
    "start_time": "2021-09-23T08:23:06.681Z"
   },
   {
    "duration": 768,
    "start_time": "2021-09-23T08:23:08.288Z"
   },
   {
    "duration": 20,
    "start_time": "2021-09-23T08:23:09.059Z"
   },
   {
    "duration": 53,
    "start_time": "2021-09-23T08:23:09.082Z"
   },
   {
    "duration": 288,
    "start_time": "2021-09-23T08:23:09.137Z"
   },
   {
    "duration": 4,
    "start_time": "2021-09-23T08:23:09.427Z"
   },
   {
    "duration": 5,
    "start_time": "2021-09-23T08:23:09.436Z"
   },
   {
    "duration": 6,
    "start_time": "2021-09-23T08:23:09.443Z"
   },
   {
    "duration": 2968,
    "start_time": "2021-09-23T08:23:09.452Z"
   },
   {
    "duration": 133822,
    "start_time": "2021-09-23T08:23:12.423Z"
   },
   {
    "duration": 255,
    "start_time": "2021-09-23T08:25:26.248Z"
   },
   {
    "duration": 87,
    "start_time": "2021-09-23T08:25:26.505Z"
   },
   {
    "duration": 18799,
    "start_time": "2021-09-23T08:25:26.595Z"
   },
   {
    "duration": 917182,
    "start_time": "2021-09-23T08:25:45.396Z"
   },
   {
    "duration": 275815,
    "start_time": "2021-09-23T08:41:02.582Z"
   },
   {
    "duration": 173294,
    "start_time": "2021-09-23T08:45:38.400Z"
   },
   {
    "duration": 1151,
    "start_time": "2021-09-23T08:48:30.546Z"
   },
   {
    "duration": 205079,
    "start_time": "2021-09-23T08:48:38.910Z"
   },
   {
    "duration": 110,
    "start_time": "2021-09-23T08:52:28.696Z"
   },
   {
    "duration": 21,
    "start_time": "2021-09-23T08:52:39.428Z"
   }
  ],
  "kernelspec": {
   "display_name": "Python 3",
   "language": "python",
   "name": "python3"
  },
  "language_info": {
   "codemirror_mode": {
    "name": "ipython",
    "version": 3
   },
   "file_extension": ".py",
   "mimetype": "text/x-python",
   "name": "python",
   "nbconvert_exporter": "python",
   "pygments_lexer": "ipython3",
   "version": "3.7.8"
  },
  "toc": {
   "base_numbering": 1,
   "nav_menu": {},
   "number_sections": true,
   "sideBar": true,
   "skip_h1_title": true,
   "title_cell": "Содержание",
   "title_sidebar": "Contents",
   "toc_cell": true,
   "toc_position": {
    "height": "calc(100% - 180px)",
    "left": "10px",
    "top": "150px",
    "width": "165px"
   },
   "toc_section_display": true,
   "toc_window_display": false
  }
 },
 "nbformat": 4,
 "nbformat_minor": 2
}
