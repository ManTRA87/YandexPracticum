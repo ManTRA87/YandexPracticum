{
 "cells": [
  {
   "cell_type": "markdown",
   "metadata": {
    "toc": true
   },
   "source": [
    "<h1>Содержание<span class=\"tocSkip\"></span></h1>\n",
    "<div class=\"toc\"><ul class=\"toc-item\"><li><span><a href=\"#Подготовка-данных\" data-toc-modified-id=\"Подготовка-данных-1\"><span class=\"toc-item-num\">1&nbsp;&nbsp;</span>Подготовка данных</a></span></li><li><span><a href=\"#Анализ-данных\" data-toc-modified-id=\"Анализ-данных-2\"><span class=\"toc-item-num\">2&nbsp;&nbsp;</span>Анализ данных</a></span></li><li><span><a href=\"#Модель\" data-toc-modified-id=\"Модель-3\"><span class=\"toc-item-num\">3&nbsp;&nbsp;</span>Модель</a></span></li><li><span><a href=\"#Чек-лист-готовности-проекта\" data-toc-modified-id=\"Чек-лист-готовности-проекта-4\"><span class=\"toc-item-num\">4&nbsp;&nbsp;</span>Чек-лист готовности проекта</a></span></li></ul></div>"
   ]
  },
  {
   "cell_type": "markdown",
   "metadata": {},
   "source": [
    "# Восстановление золота из руды"
   ]
  },
  {
   "cell_type": "markdown",
   "metadata": {},
   "source": [
    "**Цель:** - Подготовить модель машинного обучения для предскаазания коэффициента восстановления золота из золотосодержащей руды. Доступны данные с параметрами добычи и очистки. Модель необходима для оптимизации производства.\n",
    "\n",
    "**Задачи:**\n",
    "\n",
    "1. Подготовить данные;\n",
    "2. Провести исследовательский анализ данных;\n",
    "3. Построить и обучить модель.\n",
    "\n",
    "### Описание данных\n",
    "\n",
    "- Наименование признаков:\n",
    "  - `[этап].[тип_параметра].[название_параметра]`\n",
    "    **Пример:** `rougher.input.feed_ag`\n",
    "- Возможные значения для блока [этап]:\n",
    "  - rougher — флотация\n",
    "  - primary_cleaner — первичная очистка\n",
    "  - secondary_cleaner — вторичная очистка\n",
    "  - final — финальные характеристики\n",
    "- Возможные значения для блока [тип_параметра]:\n",
    "  - input — параметры сырья\n",
    "  - output — параметры продукта\n",
    "  - state — параметры, характеризующие текущее состояние этапа\n",
    "  - calculation — расчётные характеристики\n",
    "- Параметры этапов:\n",
    "  - air amount — объём воздуха\n",
    "  - fluid levels — уровень жидкости\n",
    "  - feed size — размер гранул сырья\n",
    "  - feed rate — скорость подачи\n",
    "\n",
    "**План выполнения работы:**\n",
    "\n",
    "- Подготовка Данных\n",
    "     - Изучение данных\n",
    "     - Проверка расчётов эффективности обогащения\n",
    "     - Анализ признаков, недоступных в тестовой выборке\n",
    "     - Предобработка данных\n",
    "- Анализ данных\n",
    "     - Анализ изменения концентрации металлов (Au, Ag, Pb)\n",
    "     - Сравнение распределений размеров гранул сырья\n",
    "     - Исследование суммарных концентраций веществ\n",
    "- Модель\n",
    "     - Функция итоговой sMAPE\n",
    "     - Обучение и оценка качества моделей\n",
    "     - Тестирование модели\n",
    "- Общий вывод"
   ]
  },
  {
   "cell_type": "markdown",
   "metadata": {},
   "source": [
    "## Подготовка данных"
   ]
  },
  {
   "cell_type": "code",
   "execution_count": 1,
   "metadata": {},
   "outputs": [],
   "source": [
    "import pandas as pd\n",
    "import numpy as np\n",
    "import matplotlib.pyplot as plt\n",
    "import seaborn as sns\n",
    "from sklearn.model_selection import train_test_split\n",
    "from sklearn.tree import DecisionTreeRegressor\n",
    "from sklearn.ensemble import RandomForestRegressor\n",
    "from sklearn.linear_model import LinearRegression\n",
    "from sklearn.dummy import DummyRegressor\n",
    "from sklearn.metrics import mean_squared_error\n",
    "from sklearn.metrics import mean_absolute_error\n",
    "from sklearn.model_selection import cross_val_score\n",
    "from sklearn.preprocessing import StandardScaler\n",
    "from sklearn.metrics.scorer import make_scorer"
   ]
  },
  {
   "cell_type": "code",
   "execution_count": 2,
   "metadata": {},
   "outputs": [],
   "source": [
    "df_train = pd.read_csv('/datasets/gold_recovery_train_new.csv')\n",
    "df_test = pd.read_csv('/datasets/gold_recovery_test_new.csv')\n",
    "df_full = pd.read_csv('/datasets/gold_recovery_full_new.csv')"
   ]
  },
  {
   "cell_type": "markdown",
   "metadata": {},
   "source": [
    "<b>Определение эффективности рассчета признака обогащения на обучающей выборке</b>"
   ]
  },
  {
   "cell_type": "markdown",
   "metadata": {},
   "source": [
    "<i>Создание функции рассчета эффективности обогащения</i>"
   ]
  },
  {
   "cell_type": "code",
   "execution_count": 3,
   "metadata": {},
   "outputs": [],
   "source": [
    "def recovery(C, F, T):\n",
    "    recovery = (C * (F - T)) / (F * (C - T))\n",
    "    return recovery"
   ]
  },
  {
   "cell_type": "code",
   "execution_count": 4,
   "metadata": {},
   "outputs": [],
   "source": [
    "C = df_train['rougher.output.concentrate_au']\n",
    "F = df_train['rougher.input.feed_au']\n",
    "T = df_train['rougher.output.tail_au']"
   ]
  },
  {
   "cell_type": "code",
   "execution_count": 5,
   "metadata": {},
   "outputs": [],
   "source": [
    "recovery = recovery(C, F, T) * 100"
   ]
  },
  {
   "cell_type": "markdown",
   "metadata": {},
   "source": [
    "<i>Нахождение MAE</i>"
   ]
  },
  {
   "cell_type": "code",
   "execution_count": 6,
   "metadata": {},
   "outputs": [
    {
     "data": {
      "text/plain": [
       "9.682896147825551e-15"
      ]
     },
     "execution_count": 6,
     "metadata": {},
     "output_type": "execute_result"
    }
   ],
   "source": [
    "mean_absolute_error(df_train['rougher.output.recovery'], recovery)"
   ]
  },
  {
   "cell_type": "markdown",
   "metadata": {},
   "source": [
    "<b>Вывод</b>"
   ]
  },
  {
   "cell_type": "markdown",
   "metadata": {},
   "source": [
    "Значение MAE предельно мало, поэтому можно сделать вывод, что рассчет признака обогащения в обучающей выборке достаточно точен."
   ]
  },
  {
   "cell_type": "markdown",
   "metadata": {},
   "source": [
    "<b>Анализ признаков, не доступных в тестовой выборке</b>"
   ]
  },
  {
   "cell_type": "code",
   "execution_count": 7,
   "metadata": {},
   "outputs": [
    {
     "name": "stdout",
     "output_type": "stream",
     "text": [
      "['final.output.concentrate_ag', 'final.output.concentrate_pb', 'final.output.concentrate_sol', 'final.output.concentrate_au', 'final.output.recovery', 'final.output.tail_ag', 'final.output.tail_pb', 'final.output.tail_sol', 'final.output.tail_au', 'primary_cleaner.output.concentrate_ag', 'primary_cleaner.output.concentrate_pb', 'primary_cleaner.output.concentrate_sol', 'primary_cleaner.output.concentrate_au', 'primary_cleaner.output.tail_ag', 'primary_cleaner.output.tail_pb', 'primary_cleaner.output.tail_sol', 'primary_cleaner.output.tail_au', 'rougher.calculation.sulfate_to_au_concentrate', 'rougher.calculation.floatbank10_sulfate_to_au_feed', 'rougher.calculation.floatbank11_sulfate_to_au_feed', 'rougher.calculation.au_pb_ratio', 'rougher.output.concentrate_ag', 'rougher.output.concentrate_pb', 'rougher.output.concentrate_sol', 'rougher.output.concentrate_au', 'rougher.output.recovery', 'rougher.output.tail_ag', 'rougher.output.tail_pb', 'rougher.output.tail_sol', 'rougher.output.tail_au', 'secondary_cleaner.output.tail_ag', 'secondary_cleaner.output.tail_pb', 'secondary_cleaner.output.tail_sol', 'secondary_cleaner.output.tail_au']\n",
      "\n",
      "Всего отсутствует параметров в тестовой выборке:  34\n"
     ]
    }
   ],
   "source": [
    "non_columns_df_test = []\n",
    "count = 0\n",
    "for item in df_train.columns:\n",
    "    if item not in df_test.columns:\n",
    "        non_columns_df_test.append(item)\n",
    "        count += 1\n",
    "print(non_columns_df_test)\n",
    "print()\n",
    "print('Всего отсутствует параметров в тестовой выборке: ', count)"
   ]
  },
  {
   "cell_type": "markdown",
   "metadata": {},
   "source": [
    "<b>Вывод</b>"
   ]
  },
  {
   "cell_type": "markdown",
   "metadata": {},
   "source": [
    "В тестовой выборке отсутсвует 34 параметра с типом \"параметры продукта\" и \"расчётные характеристики\". Также в тестовой выборке нет целевых признаков rougher.output.recovery и final.output.recovery. Данные параметры отсутствуют в тестовой выборке, так как вычисляются позднее."
   ]
  },
  {
   "cell_type": "markdown",
   "metadata": {},
   "source": [
    "<b>Предобработка данных</b>"
   ]
  },
  {
   "cell_type": "markdown",
   "metadata": {},
   "source": [
    "<i>Просмотр информации из файлов и поиск дубликатов</i>"
   ]
  },
  {
   "cell_type": "code",
   "execution_count": 8,
   "metadata": {},
   "outputs": [],
   "source": [
    "data_dict = {'train': df_train, \n",
    "             'test': df_test, \n",
    "             'full': df_full}"
   ]
  },
  {
   "cell_type": "code",
   "execution_count": 9,
   "metadata": {},
   "outputs": [
    {
     "name": "stdout",
     "output_type": "stream",
     "text": [
      "<class 'pandas.core.frame.DataFrame'>\n",
      "RangeIndex: 14149 entries, 0 to 14148\n",
      "Data columns (total 87 columns):\n",
      "date                                                  14149 non-null object\n",
      "final.output.concentrate_ag                           14148 non-null float64\n",
      "final.output.concentrate_pb                           14148 non-null float64\n",
      "final.output.concentrate_sol                          13938 non-null float64\n",
      "final.output.concentrate_au                           14149 non-null float64\n",
      "final.output.recovery                                 14149 non-null float64\n",
      "final.output.tail_ag                                  14149 non-null float64\n",
      "final.output.tail_pb                                  14049 non-null float64\n",
      "final.output.tail_sol                                 14144 non-null float64\n",
      "final.output.tail_au                                  14149 non-null float64\n",
      "primary_cleaner.input.sulfate                         14129 non-null float64\n",
      "primary_cleaner.input.depressant                      14117 non-null float64\n",
      "primary_cleaner.input.feed_size                       14149 non-null float64\n",
      "primary_cleaner.input.xanthate                        14049 non-null float64\n",
      "primary_cleaner.output.concentrate_ag                 14149 non-null float64\n",
      "primary_cleaner.output.concentrate_pb                 14063 non-null float64\n",
      "primary_cleaner.output.concentrate_sol                13863 non-null float64\n",
      "primary_cleaner.output.concentrate_au                 14149 non-null float64\n",
      "primary_cleaner.output.tail_ag                        14148 non-null float64\n",
      "primary_cleaner.output.tail_pb                        14134 non-null float64\n",
      "primary_cleaner.output.tail_sol                       14103 non-null float64\n",
      "primary_cleaner.output.tail_au                        14149 non-null float64\n",
      "primary_cleaner.state.floatbank8_a_air                14145 non-null float64\n",
      "primary_cleaner.state.floatbank8_a_level              14148 non-null float64\n",
      "primary_cleaner.state.floatbank8_b_air                14145 non-null float64\n",
      "primary_cleaner.state.floatbank8_b_level              14148 non-null float64\n",
      "primary_cleaner.state.floatbank8_c_air                14147 non-null float64\n",
      "primary_cleaner.state.floatbank8_c_level              14148 non-null float64\n",
      "primary_cleaner.state.floatbank8_d_air                14146 non-null float64\n",
      "primary_cleaner.state.floatbank8_d_level              14148 non-null float64\n",
      "rougher.calculation.sulfate_to_au_concentrate         14148 non-null float64\n",
      "rougher.calculation.floatbank10_sulfate_to_au_feed    14148 non-null float64\n",
      "rougher.calculation.floatbank11_sulfate_to_au_feed    14148 non-null float64\n",
      "rougher.calculation.au_pb_ratio                       14149 non-null float64\n",
      "rougher.input.feed_ag                                 14149 non-null float64\n",
      "rougher.input.feed_pb                                 14049 non-null float64\n",
      "rougher.input.feed_rate                               14141 non-null float64\n",
      "rougher.input.feed_size                               14005 non-null float64\n",
      "rougher.input.feed_sol                                14071 non-null float64\n",
      "rougher.input.feed_au                                 14149 non-null float64\n",
      "rougher.input.floatbank10_sulfate                     14120 non-null float64\n",
      "rougher.input.floatbank10_xanthate                    14141 non-null float64\n",
      "rougher.input.floatbank11_sulfate                     14113 non-null float64\n",
      "rougher.input.floatbank11_xanthate                    13721 non-null float64\n",
      "rougher.output.concentrate_ag                         14149 non-null float64\n",
      "rougher.output.concentrate_pb                         14149 non-null float64\n",
      "rougher.output.concentrate_sol                        14127 non-null float64\n",
      "rougher.output.concentrate_au                         14149 non-null float64\n",
      "rougher.output.recovery                               14149 non-null float64\n",
      "rougher.output.tail_ag                                14148 non-null float64\n",
      "rougher.output.tail_pb                                14149 non-null float64\n",
      "rougher.output.tail_sol                               14149 non-null float64\n",
      "rougher.output.tail_au                                14149 non-null float64\n",
      "rougher.state.floatbank10_a_air                       14148 non-null float64\n",
      "rougher.state.floatbank10_a_level                     14148 non-null float64\n",
      "rougher.state.floatbank10_b_air                       14148 non-null float64\n",
      "rougher.state.floatbank10_b_level                     14148 non-null float64\n",
      "rougher.state.floatbank10_c_air                       14148 non-null float64\n",
      "rougher.state.floatbank10_c_level                     14148 non-null float64\n",
      "rougher.state.floatbank10_d_air                       14149 non-null float64\n",
      "rougher.state.floatbank10_d_level                     14149 non-null float64\n",
      "rougher.state.floatbank10_e_air                       13713 non-null float64\n",
      "rougher.state.floatbank10_e_level                     14149 non-null float64\n",
      "rougher.state.floatbank10_f_air                       14149 non-null float64\n",
      "rougher.state.floatbank10_f_level                     14149 non-null float64\n",
      "secondary_cleaner.output.tail_ag                      14147 non-null float64\n",
      "secondary_cleaner.output.tail_pb                      14139 non-null float64\n",
      "secondary_cleaner.output.tail_sol                     12544 non-null float64\n",
      "secondary_cleaner.output.tail_au                      14149 non-null float64\n",
      "secondary_cleaner.state.floatbank2_a_air              13932 non-null float64\n",
      "secondary_cleaner.state.floatbank2_a_level            14148 non-null float64\n",
      "secondary_cleaner.state.floatbank2_b_air              14128 non-null float64\n",
      "secondary_cleaner.state.floatbank2_b_level            14148 non-null float64\n",
      "secondary_cleaner.state.floatbank3_a_air              14145 non-null float64\n",
      "secondary_cleaner.state.floatbank3_a_level            14148 non-null float64\n",
      "secondary_cleaner.state.floatbank3_b_air              14148 non-null float64\n",
      "secondary_cleaner.state.floatbank3_b_level            14148 non-null float64\n",
      "secondary_cleaner.state.floatbank4_a_air              14143 non-null float64\n",
      "secondary_cleaner.state.floatbank4_a_level            14148 non-null float64\n",
      "secondary_cleaner.state.floatbank4_b_air              14148 non-null float64\n",
      "secondary_cleaner.state.floatbank4_b_level            14148 non-null float64\n",
      "secondary_cleaner.state.floatbank5_a_air              14148 non-null float64\n",
      "secondary_cleaner.state.floatbank5_a_level            14148 non-null float64\n",
      "secondary_cleaner.state.floatbank5_b_air              14148 non-null float64\n",
      "secondary_cleaner.state.floatbank5_b_level            14148 non-null float64\n",
      "secondary_cleaner.state.floatbank6_a_air              14147 non-null float64\n",
      "secondary_cleaner.state.floatbank6_a_level            14148 non-null float64\n",
      "dtypes: float64(86), object(1)\n",
      "memory usage: 9.4+ MB\n",
      "Количество дубликатов:  0\n",
      "\n",
      "\n",
      "<class 'pandas.core.frame.DataFrame'>\n",
      "RangeIndex: 5290 entries, 0 to 5289\n",
      "Data columns (total 53 columns):\n",
      "date                                          5290 non-null object\n",
      "primary_cleaner.input.sulfate                 5286 non-null float64\n",
      "primary_cleaner.input.depressant              5285 non-null float64\n",
      "primary_cleaner.input.feed_size               5290 non-null float64\n",
      "primary_cleaner.input.xanthate                5286 non-null float64\n",
      "primary_cleaner.state.floatbank8_a_air        5290 non-null float64\n",
      "primary_cleaner.state.floatbank8_a_level      5290 non-null float64\n",
      "primary_cleaner.state.floatbank8_b_air        5290 non-null float64\n",
      "primary_cleaner.state.floatbank8_b_level      5290 non-null float64\n",
      "primary_cleaner.state.floatbank8_c_air        5290 non-null float64\n",
      "primary_cleaner.state.floatbank8_c_level      5290 non-null float64\n",
      "primary_cleaner.state.floatbank8_d_air        5290 non-null float64\n",
      "primary_cleaner.state.floatbank8_d_level      5290 non-null float64\n",
      "rougher.input.feed_ag                         5290 non-null float64\n",
      "rougher.input.feed_pb                         5290 non-null float64\n",
      "rougher.input.feed_rate                       5287 non-null float64\n",
      "rougher.input.feed_size                       5289 non-null float64\n",
      "rougher.input.feed_sol                        5269 non-null float64\n",
      "rougher.input.feed_au                         5290 non-null float64\n",
      "rougher.input.floatbank10_sulfate             5285 non-null float64\n",
      "rougher.input.floatbank10_xanthate            5290 non-null float64\n",
      "rougher.input.floatbank11_sulfate             5282 non-null float64\n",
      "rougher.input.floatbank11_xanthate            5265 non-null float64\n",
      "rougher.state.floatbank10_a_air               5290 non-null float64\n",
      "rougher.state.floatbank10_a_level             5290 non-null float64\n",
      "rougher.state.floatbank10_b_air               5290 non-null float64\n",
      "rougher.state.floatbank10_b_level             5290 non-null float64\n",
      "rougher.state.floatbank10_c_air               5290 non-null float64\n",
      "rougher.state.floatbank10_c_level             5290 non-null float64\n",
      "rougher.state.floatbank10_d_air               5290 non-null float64\n",
      "rougher.state.floatbank10_d_level             5290 non-null float64\n",
      "rougher.state.floatbank10_e_air               5290 non-null float64\n",
      "rougher.state.floatbank10_e_level             5290 non-null float64\n",
      "rougher.state.floatbank10_f_air               5290 non-null float64\n",
      "rougher.state.floatbank10_f_level             5290 non-null float64\n",
      "secondary_cleaner.state.floatbank2_a_air      5287 non-null float64\n",
      "secondary_cleaner.state.floatbank2_a_level    5290 non-null float64\n",
      "secondary_cleaner.state.floatbank2_b_air      5288 non-null float64\n",
      "secondary_cleaner.state.floatbank2_b_level    5290 non-null float64\n",
      "secondary_cleaner.state.floatbank3_a_air      5281 non-null float64\n",
      "secondary_cleaner.state.floatbank3_a_level    5290 non-null float64\n",
      "secondary_cleaner.state.floatbank3_b_air      5290 non-null float64\n",
      "secondary_cleaner.state.floatbank3_b_level    5290 non-null float64\n",
      "secondary_cleaner.state.floatbank4_a_air      5290 non-null float64\n",
      "secondary_cleaner.state.floatbank4_a_level    5290 non-null float64\n",
      "secondary_cleaner.state.floatbank4_b_air      5290 non-null float64\n",
      "secondary_cleaner.state.floatbank4_b_level    5290 non-null float64\n",
      "secondary_cleaner.state.floatbank5_a_air      5290 non-null float64\n",
      "secondary_cleaner.state.floatbank5_a_level    5290 non-null float64\n",
      "secondary_cleaner.state.floatbank5_b_air      5290 non-null float64\n",
      "secondary_cleaner.state.floatbank5_b_level    5290 non-null float64\n",
      "secondary_cleaner.state.floatbank6_a_air      5290 non-null float64\n",
      "secondary_cleaner.state.floatbank6_a_level    5290 non-null float64\n",
      "dtypes: float64(52), object(1)\n",
      "memory usage: 2.1+ MB\n",
      "Количество дубликатов:  0\n",
      "\n",
      "\n",
      "<class 'pandas.core.frame.DataFrame'>\n",
      "RangeIndex: 19439 entries, 0 to 19438\n",
      "Data columns (total 87 columns):\n",
      "date                                                  19439 non-null object\n",
      "final.output.concentrate_ag                           19438 non-null float64\n",
      "final.output.concentrate_pb                           19438 non-null float64\n",
      "final.output.concentrate_sol                          19228 non-null float64\n",
      "final.output.concentrate_au                           19439 non-null float64\n",
      "final.output.recovery                                 19439 non-null float64\n",
      "final.output.tail_ag                                  19438 non-null float64\n",
      "final.output.tail_pb                                  19338 non-null float64\n",
      "final.output.tail_sol                                 19433 non-null float64\n",
      "final.output.tail_au                                  19439 non-null float64\n",
      "primary_cleaner.input.sulfate                         19415 non-null float64\n",
      "primary_cleaner.input.depressant                      19402 non-null float64\n",
      "primary_cleaner.input.feed_size                       19439 non-null float64\n",
      "primary_cleaner.input.xanthate                        19335 non-null float64\n",
      "primary_cleaner.output.concentrate_ag                 19439 non-null float64\n",
      "primary_cleaner.output.concentrate_pb                 19323 non-null float64\n",
      "primary_cleaner.output.concentrate_sol                19069 non-null float64\n",
      "primary_cleaner.output.concentrate_au                 19439 non-null float64\n",
      "primary_cleaner.output.tail_ag                        19435 non-null float64\n",
      "primary_cleaner.output.tail_pb                        19418 non-null float64\n",
      "primary_cleaner.output.tail_sol                       19377 non-null float64\n",
      "primary_cleaner.output.tail_au                        19439 non-null float64\n",
      "primary_cleaner.state.floatbank8_a_air                19435 non-null float64\n",
      "primary_cleaner.state.floatbank8_a_level              19438 non-null float64\n",
      "primary_cleaner.state.floatbank8_b_air                19435 non-null float64\n",
      "primary_cleaner.state.floatbank8_b_level              19438 non-null float64\n",
      "primary_cleaner.state.floatbank8_c_air                19437 non-null float64\n",
      "primary_cleaner.state.floatbank8_c_level              19438 non-null float64\n",
      "primary_cleaner.state.floatbank8_d_air                19436 non-null float64\n",
      "primary_cleaner.state.floatbank8_d_level              19438 non-null float64\n",
      "rougher.calculation.sulfate_to_au_concentrate         19437 non-null float64\n",
      "rougher.calculation.floatbank10_sulfate_to_au_feed    19437 non-null float64\n",
      "rougher.calculation.floatbank11_sulfate_to_au_feed    19437 non-null float64\n",
      "rougher.calculation.au_pb_ratio                       19439 non-null float64\n",
      "rougher.input.feed_ag                                 19439 non-null float64\n",
      "rougher.input.feed_pb                                 19339 non-null float64\n",
      "rougher.input.feed_rate                               19428 non-null float64\n",
      "rougher.input.feed_size                               19294 non-null float64\n",
      "rougher.input.feed_sol                                19340 non-null float64\n",
      "rougher.input.feed_au                                 19439 non-null float64\n",
      "rougher.input.floatbank10_sulfate                     19405 non-null float64\n",
      "rougher.input.floatbank10_xanthate                    19431 non-null float64\n",
      "rougher.input.floatbank11_sulfate                     19395 non-null float64\n",
      "rougher.input.floatbank11_xanthate                    18986 non-null float64\n",
      "rougher.output.concentrate_ag                         19439 non-null float64\n",
      "rougher.output.concentrate_pb                         19439 non-null float64\n",
      "rougher.output.concentrate_sol                        19416 non-null float64\n",
      "rougher.output.concentrate_au                         19439 non-null float64\n",
      "rougher.output.recovery                               19439 non-null float64\n",
      "rougher.output.tail_ag                                19438 non-null float64\n",
      "rougher.output.tail_pb                                19439 non-null float64\n",
      "rougher.output.tail_sol                               19439 non-null float64\n",
      "rougher.output.tail_au                                19439 non-null float64\n",
      "rougher.state.floatbank10_a_air                       19438 non-null float64\n",
      "rougher.state.floatbank10_a_level                     19438 non-null float64\n",
      "rougher.state.floatbank10_b_air                       19438 non-null float64\n",
      "rougher.state.floatbank10_b_level                     19438 non-null float64\n",
      "rougher.state.floatbank10_c_air                       19438 non-null float64\n",
      "rougher.state.floatbank10_c_level                     19438 non-null float64\n",
      "rougher.state.floatbank10_d_air                       19439 non-null float64\n",
      "rougher.state.floatbank10_d_level                     19439 non-null float64\n",
      "rougher.state.floatbank10_e_air                       19003 non-null float64\n",
      "rougher.state.floatbank10_e_level                     19439 non-null float64\n",
      "rougher.state.floatbank10_f_air                       19439 non-null float64\n",
      "rougher.state.floatbank10_f_level                     19439 non-null float64\n",
      "secondary_cleaner.output.tail_ag                      19437 non-null float64\n",
      "secondary_cleaner.output.tail_pb                      19427 non-null float64\n",
      "secondary_cleaner.output.tail_sol                     17691 non-null float64\n",
      "secondary_cleaner.output.tail_au                      19439 non-null float64\n",
      "secondary_cleaner.state.floatbank2_a_air              19219 non-null float64\n",
      "secondary_cleaner.state.floatbank2_a_level            19438 non-null float64\n",
      "secondary_cleaner.state.floatbank2_b_air              19416 non-null float64\n",
      "secondary_cleaner.state.floatbank2_b_level            19438 non-null float64\n",
      "secondary_cleaner.state.floatbank3_a_air              19426 non-null float64\n",
      "secondary_cleaner.state.floatbank3_a_level            19438 non-null float64\n",
      "secondary_cleaner.state.floatbank3_b_air              19438 non-null float64\n",
      "secondary_cleaner.state.floatbank3_b_level            19438 non-null float64\n",
      "secondary_cleaner.state.floatbank4_a_air              19433 non-null float64\n",
      "secondary_cleaner.state.floatbank4_a_level            19438 non-null float64\n",
      "secondary_cleaner.state.floatbank4_b_air              19438 non-null float64\n",
      "secondary_cleaner.state.floatbank4_b_level            19438 non-null float64\n",
      "secondary_cleaner.state.floatbank5_a_air              19438 non-null float64\n",
      "secondary_cleaner.state.floatbank5_a_level            19438 non-null float64\n",
      "secondary_cleaner.state.floatbank5_b_air              19438 non-null float64\n",
      "secondary_cleaner.state.floatbank5_b_level            19438 non-null float64\n",
      "secondary_cleaner.state.floatbank6_a_air              19437 non-null float64\n",
      "secondary_cleaner.state.floatbank6_a_level            19438 non-null float64\n",
      "dtypes: float64(86), object(1)\n",
      "memory usage: 12.9+ MB\n",
      "Количество дубликатов:  0\n",
      "\n",
      "\n"
     ]
    }
   ],
   "source": [
    "for key, value in data_dict.items():\n",
    "    value.info()\n",
    "    print('Количество дубликатов: ', value.duplicated().sum())\n",
    "    print('\\n')"
   ]
  },
  {
   "cell_type": "markdown",
   "metadata": {},
   "source": [
    "<i>Изменение размеров тренивочной и тестовой выборок</i>"
   ]
  },
  {
   "cell_type": "code",
   "execution_count": 10,
   "metadata": {},
   "outputs": [],
   "source": [
    "df_train = df_train.drop(['final.output.concentrate_ag', 'final.output.concentrate_pb', 'final.output.concentrate_sol', 'final.output.concentrate_au', 'final.output.tail_ag', 'final.output.tail_pb', 'final.output.tail_sol', 'final.output.tail_au', 'primary_cleaner.output.concentrate_ag', 'primary_cleaner.output.concentrate_pb', 'primary_cleaner.output.concentrate_sol', 'primary_cleaner.output.concentrate_au', 'primary_cleaner.output.tail_ag', 'primary_cleaner.output.tail_pb', 'primary_cleaner.output.tail_sol', 'primary_cleaner.output.tail_au', 'rougher.calculation.sulfate_to_au_concentrate', 'rougher.calculation.floatbank10_sulfate_to_au_feed', 'rougher.calculation.floatbank11_sulfate_to_au_feed', 'rougher.calculation.au_pb_ratio', 'rougher.output.concentrate_ag', 'rougher.output.concentrate_pb', 'rougher.output.concentrate_sol', 'rougher.output.concentrate_au', 'rougher.output.tail_ag', 'rougher.output.tail_pb', 'rougher.output.tail_sol', 'rougher.output.tail_au', 'secondary_cleaner.output.tail_ag', 'secondary_cleaner.output.tail_pb', 'secondary_cleaner.output.tail_sol', 'secondary_cleaner.output.tail_au'], axis=1)"
   ]
  },
  {
   "cell_type": "code",
   "execution_count": 11,
   "metadata": {},
   "outputs": [],
   "source": [
    "df_test = df_test.merge(df_full[['date', 'rougher.output.recovery', 'final.output.recovery']], how = 'left', on = 'date')"
   ]
  },
  {
   "cell_type": "code",
   "execution_count": 12,
   "metadata": {},
   "outputs": [
    {
     "data": {
      "text/plain": [
       "((14149, 55), (5290, 55))"
      ]
     },
     "execution_count": 12,
     "metadata": {},
     "output_type": "execute_result"
    }
   ],
   "source": [
    "df_train.shape, df_test.shape"
   ]
  },
  {
   "cell_type": "markdown",
   "metadata": {},
   "source": [
    "<div class=\"alert alert-block alert-info\">Обработка пропущенных значений</div>"
   ]
  },
  {
   "cell_type": "code",
   "execution_count": 13,
   "metadata": {},
   "outputs": [],
   "source": [
    "df_full.dropna(inplace = True)\n",
    "df_train.dropna(inplace = True)\n",
    "df_test.dropna(inplace = True)"
   ]
  },
  {
   "cell_type": "markdown",
   "metadata": {},
   "source": [
    "<b>Вывод</b>"
   ]
  },
  {
   "cell_type": "markdown",
   "metadata": {},
   "source": [
    "Дублткаты в данных отсутствуют, но есть пропущенные значения. Возможная причина пропущенных значений - отсутствие концентрата металла, флотационных реагентов в технологическом процессе. Для того, чтобы в дальнейшем не исказить результат работы модели, строки с пропущенными значениями были удалены.  \n",
    "Для возможности моделирования тренировочная и тестовые выборки были приведены к одному размеру: из тренировочной удалены признаки, отсутствующие в тестовой выборке, а в тестовую выборку из исходных данных добавлены целевые признаки."
   ]
  },
  {
   "cell_type": "markdown",
   "metadata": {},
   "source": [
    "## Анализ данных"
   ]
  },
  {
   "cell_type": "markdown",
   "metadata": {},
   "source": [
    "<b>Анализ изменения концентрации металлов (Au, Ag, Pb) на различных этапах очистки</b>"
   ]
  },
  {
   "cell_type": "code",
   "execution_count": 15,
   "metadata": {},
   "outputs": [],
   "source": [
    "metal = ['Au', 'Ag', 'Pb']"
   ]
  },
  {
   "cell_type": "code",
   "execution_count": 16,
   "metadata": {},
   "outputs": [
    {
     "data": {
      "image/png": "[encoded data removed]",
      "text/plain": [
       "<Figure size 432x288 with 1 Axes>"
      ]
     },
     "metadata": {
      "needs_background": "light"
     },
     "output_type": "display_data"
    }
   ],
   "source": [
    "for item in ['rougher.output.concentrate_au', 'rougher.output.concentrate_ag', 'rougher.output.concentrate_pb']:\n",
    "    sns.distplot(df_full[item])\n",
    "    plt.title('Изменение концентрации металлов на этапе флотации')\n",
    "    plt.xlabel('Концентрация')\n",
    "    plt.legend(metal)"
   ]
  },
  {
   "cell_type": "code",
   "execution_count": 17,
   "metadata": {},
   "outputs": [
    {
     "data": {
      "image/png": "[encoded data removed]",
      "text/plain": [
       "<Figure size 432x288 with 1 Axes>"
      ]
     },
     "metadata": {
      "needs_background": "light"
     },
     "output_type": "display_data"
    }
   ],
   "source": [
    "for item in ['primary_cleaner.output.concentrate_au', 'primary_cleaner.output.concentrate_ag', 'primary_cleaner.output.concentrate_pb']:\n",
    "    sns.distplot(df_full[item])\n",
    "    plt.title('Изменение концентрации металлов на первичном этапе очистки')\n",
    "    plt.xlabel('Концентрация')\n",
    "    plt.legend(metal)"
   ]
  },
  {
   "cell_type": "code",
   "execution_count": 18,
   "metadata": {},
   "outputs": [
    {
     "data": {
      "image/png": "[encoded data removed]",
      "text/plain": [
       "<Figure size 432x288 with 1 Axes>"
      ]
     },
     "metadata": {
      "needs_background": "light"
     },
     "output_type": "display_data"
    }
   ],
   "source": [
    "for item in ['final.output.concentrate_au', 'final.output.concentrate_ag', 'final.output.concentrate_pb']:\n",
    "    sns.distplot(df_full[item])\n",
    "    plt.title('Изменение концентрации металлов на финальном этапе очистки')\n",
    "    plt.xlabel('Концентрация')\n",
    "    plt.legend(metal)"
   ]
  },
  {
   "cell_type": "markdown",
   "metadata": {},
   "source": [
    "<b>Вывод</b>"
   ]
  },
  {
   "cell_type": "markdown",
   "metadata": {},
   "source": [
    "Концентрация золота увеличивается после каждого этапа очискти, концентрация серебра, наоборот, снижается. Концентрация свинца увеличивается после флотация, но после первичной очистки существенно не меняется."
   ]
  },
  {
   "cell_type": "markdown",
   "metadata": {},
   "source": [
    "<b>Сравнение распределения размеров гранул сырья на обучающей и тестовой выборках</b>"
   ]
  },
  {
   "cell_type": "code",
   "execution_count": 19,
   "metadata": {},
   "outputs": [
    {
     "data": {
      "image/png": "[encoded data removed]",
      "text/plain": [
       "<Figure size 432x288 with 1 Axes>"
      ]
     },
     "metadata": {
      "needs_background": "light"
     },
     "output_type": "display_data"
    }
   ],
   "source": [
    "sns.distplot(df_train['rougher.input.feed_size'], label='Обучающая выборка')\n",
    "sns.distplot(df_test['rougher.input.feed_size'], label='Тестовая выборка')\n",
    "plt.title('Распределение размера гранул сырья')\n",
    "plt.xlabel('Распределение')\n",
    "plt.ylabel('Размер гранул')\n",
    "plt.legend()\n",
    "plt.show()"
   ]
  },
  {
   "cell_type": "markdown",
   "metadata": {},
   "source": [
    "<b>Вывод</b>"
   ]
  },
  {
   "cell_type": "markdown",
   "metadata": {},
   "source": [
    "Распределение размеров гранул сырья на обучающей и тестовых выборках достаточно близки."
   ]
  },
  {
   "cell_type": "markdown",
   "metadata": {},
   "source": [
    "<b>Исследование суммарной концентрации всех веществ на разных стадиях: в сырье, в черновом и финальном концентратах</b>"
   ]
  },
  {
   "cell_type": "code",
   "execution_count": 20,
   "metadata": {},
   "outputs": [],
   "source": [
    "rougher_input_feed_sum = df_full['rougher.input.feed_ag']+df_full['rougher.input.feed_pb']+df_full['rougher.input.feed_sol']+df_full['rougher.input.feed_au']\n",
    "rougher_output_concentrate = df_full['rougher.output.concentrate_ag']+df_full['rougher.output.concentrate_pb']+df_full['rougher.output.concentrate_sol']+df_full['rougher.output.concentrate_au']\n",
    "final_output_concentrate = df_full['final.output.concentrate_ag']+df_full['final.output.concentrate_pb']+df_full['final.output.concentrate_sol']+df_full['final.output.concentrate_au']\n"
   ]
  },
  {
   "cell_type": "code",
   "execution_count": 21,
   "metadata": {
    "scrolled": false
   },
   "outputs": [
    {
     "data": {
      "image/png": "[encoded data removed]",
      "text/plain": [
       "<Figure size 432x288 with 1 Axes>"
      ]
     },
     "metadata": {
      "needs_background": "light"
     },
     "output_type": "display_data"
    }
   ],
   "source": [
    "sns.distplot(rougher_input_feed_sum, label='В сырье')\n",
    "sns.distplot(rougher_output_concentrate, label='В черновом концентрате')\n",
    "sns.distplot(final_output_concentrate, label='В финальном концентрате')\n",
    "plt.title('Суммарная концентрация всех веществ на разных стадиях')\n",
    "plt.xlabel('Распределение')\n",
    "plt.ylabel('Концентрация')\n",
    "plt.legend()\n",
    "plt.show()"
   ]
  },
  {
   "cell_type": "code",
   "execution_count": 22,
   "metadata": {},
   "outputs": [],
   "source": [
    "df_full_copy = df_full"
   ]
  },
  {
   "cell_type": "code",
   "execution_count": 23,
   "metadata": {},
   "outputs": [],
   "source": [
    "df_full_copy['rougher_input_feed_sum'] = rougher_input_feed_sum\n",
    "df_full_copy['rougher_output_concentrate'] = rougher_output_concentrate\n",
    "df_full_copy['final_output_concentrate'] = final_output_concentrate"
   ]
  },
  {
   "cell_type": "code",
   "execution_count": 24,
   "metadata": {},
   "outputs": [
    {
     "data": {
      "image/png": "[encoded data removed]",
      "text/plain": [
       "<Figure size 360x360 with 1 Axes>"
      ]
     },
     "metadata": {
      "needs_background": "light"
     },
     "output_type": "display_data"
    },
    {
     "data": {
      "image/png": "[encoded data removed]",
      "text/plain": [
       "<Figure size 360x360 with 1 Axes>"
      ]
     },
     "metadata": {
      "needs_background": "light"
     },
     "output_type": "display_data"
    },
    {
     "data": {
      "image/png": "[encoded data removed]",
      "text/plain": [
       "<Figure size 360x360 with 1 Axes>"
      ]
     },
     "metadata": {
      "needs_background": "light"
     },
     "output_type": "display_data"
    }
   ],
   "source": [
    "for item in ['rougher_input_feed_sum', 'rougher_output_concentrate', 'final_output_concentrate']:\n",
    "    sns.catplot(x = item, kind = 'box', data = df_full_copy)"
   ]
  },
  {
   "cell_type": "markdown",
   "metadata": {},
   "source": [
    "<div class=\"alert alert-block alert-info\">На диаграммах, представленных выше, видим, что в выборке присутствуют нулевые суммарные концентрации, являющиеся выбросами (аномальными значениями), избавимся от них, дабы не исказить в дальнейшем работу модели.</div>"
   ]
  },
  {
   "cell_type": "markdown",
   "metadata": {},
   "source": [
    "<b>Избавление от аномальных значений</b>"
   ]
  },
  {
   "cell_type": "code",
   "execution_count": 25,
   "metadata": {},
   "outputs": [],
   "source": [
    "df_full = df_full[\n",
    "    (df_full['rougher.input.feed_ag'] + \n",
    "    df_full['rougher.input.feed_pb'] + \n",
    "    df_full['rougher.input.feed_sol'] + \n",
    "    df_full['rougher.input.feed_au']) > 0\n",
    "] \n",
    "\n",
    "df_full = df_full[\n",
    "    (df_full['rougher.output.concentrate_ag'] + \n",
    "    df_full['rougher.output.concentrate_pb'] + \n",
    "    df_full['rougher.output.concentrate_sol'] + \n",
    "    df_full['rougher.output.concentrate_au']) > 0\n",
    "]\n",
    "\n",
    "df_full = df_full[\n",
    "    (df_full['final.output.concentrate_ag'] + \n",
    "    df_full['final.output.concentrate_pb'] + \n",
    "    df_full['final.output.concentrate_sol'] + \n",
    "    df_full['final.output.concentrate_au']) > 0\n",
    "]"
   ]
  },
  {
   "cell_type": "code",
   "execution_count": 26,
   "metadata": {},
   "outputs": [],
   "source": [
    "rougher_input_feed_sum_clean = df_full['rougher.input.feed_ag']+df_full['rougher.input.feed_pb']+df_full['rougher.input.feed_sol']+df_full['rougher.input.feed_au']\n",
    "rougher_output_concentrate_clean = df_full['rougher.output.concentrate_ag']+df_full['rougher.output.concentrate_pb']+df_full['rougher.output.concentrate_sol']+df_full['rougher.output.concentrate_au']\n",
    "final_output_concentrate_clean = df_full['final.output.concentrate_ag']+df_full['final.output.concentrate_pb']+df_full['final.output.concentrate_sol']+df_full['final.output.concentrate_au']\n"
   ]
  },
  {
   "cell_type": "code",
   "execution_count": 27,
   "metadata": {},
   "outputs": [
    {
     "data": {
      "image/png": "[encoded data removed]",
      "text/plain": [
       "<Figure size 432x288 with 1 Axes>"
      ]
     },
     "metadata": {
      "needs_background": "light"
     },
     "output_type": "display_data"
    }
   ],
   "source": [
    "sns.distplot(rougher_input_feed_sum_clean, label='В сырье')\n",
    "sns.distplot(rougher_output_concentrate_clean, label='В черновом концентрате')\n",
    "sns.distplot(final_output_concentrate_clean, label='В финальном концентрате')\n",
    "plt.title('Суммарная концентрация всех веществ на разных стадиях')\n",
    "plt.xlabel('Распределение')\n",
    "plt.ylabel('Концентрация')\n",
    "plt.legend()\n",
    "plt.show()"
   ]
  },
  {
   "cell_type": "markdown",
   "metadata": {},
   "source": [
    "<b>Вывод</b>"
   ]
  },
  {
   "cell_type": "markdown",
   "metadata": {},
   "source": [
    "Для показателя суммарной концентрации всех веществ исключены нулевые суммарные концентрации."
   ]
  },
  {
   "cell_type": "markdown",
   "metadata": {},
   "source": [
    "## Модель"
   ]
  },
  {
   "cell_type": "markdown",
   "metadata": {},
   "source": [
    "<b>Функция для вычисления итоговой sMAPE</b>"
   ]
  },
  {
   "cell_type": "code",
   "execution_count": 28,
   "metadata": {},
   "outputs": [],
   "source": [
    "def sMAPE(y_target, y_pred):\n",
    "    return ((1/len(y_target))*np.sum(2*np.abs(y_target-y_pred)/(np.abs(y_target)+np.abs(y_pred))))*100"
   ]
  },
  {
   "cell_type": "code",
   "execution_count": 29,
   "metadata": {},
   "outputs": [],
   "source": [
    "def sMAPE_final(sMAPE_rougher, sMAPE_final):\n",
    "    return (0.25*sMAPE_rougher + 0.75*sMAPE_final)"
   ]
  },
  {
   "cell_type": "markdown",
   "metadata": {},
   "source": [
    "<b>Обучение моделей и оценка их качества кросс-валидацией</b>"
   ]
  },
  {
   "cell_type": "code",
   "execution_count": 30,
   "metadata": {},
   "outputs": [],
   "source": [
    "state=np.random.RandomState(12345)"
   ]
  },
  {
   "cell_type": "code",
   "execution_count": 31,
   "metadata": {},
   "outputs": [],
   "source": [
    "target_rougher_train = df_train['rougher.output.recovery']\n",
    "target_final_train = df_train['final.output.recovery']\n",
    "features_train = df_train.drop(['date', 'rougher.output.recovery', 'final.output.recovery'], axis=1)\n",
    "\n",
    "target_rougher_test = df_test['rougher.output.recovery']\n",
    "target_final_test = df_test['final.output.recovery']\n",
    "features_test = df_test.drop(['date', 'rougher.output.recovery', 'final.output.recovery'], axis=1)"
   ]
  },
  {
   "cell_type": "code",
   "execution_count": 32,
   "metadata": {},
   "outputs": [
    {
     "data": {
      "text/plain": [
       "((12679, 52), (5229, 52))"
      ]
     },
     "execution_count": 32,
     "metadata": {},
     "output_type": "execute_result"
    }
   ],
   "source": [
    "features_train.shape, features_test.shape"
   ]
  },
  {
   "cell_type": "code",
   "execution_count": 33,
   "metadata": {},
   "outputs": [],
   "source": [
    "numeric = features_train.columns\n",
    "scaler = StandardScaler()\n",
    "scaler.fit(features_train[numeric])\n",
    "\n",
    "features_train[numeric] = scaler.transform(features_train[numeric])\n",
    "features_test[numeric] = scaler.transform(features_test[numeric])"
   ]
  },
  {
   "cell_type": "code",
   "execution_count": 34,
   "metadata": {},
   "outputs": [],
   "source": [
    "cv = 5"
   ]
  },
  {
   "cell_type": "code",
   "execution_count": 35,
   "metadata": {},
   "outputs": [],
   "source": [
    "models = [DecisionTreeRegressor(random_state = state), \n",
    "          RandomForestRegressor(random_state = state, n_estimators = 20, max_depth = 5), \n",
    "          LinearRegression()]"
   ]
  },
  {
   "cell_type": "code",
   "execution_count": 36,
   "metadata": {},
   "outputs": [
    {
     "data": {
      "text/html": [
       "<div>\n",
       "<style scoped>\n",
       "    .dataframe tbody tr th:only-of-type {\n",
       "        vertical-align: middle;\n",
       "    }\n",
       "\n",
       "    .dataframe tbody tr th {\n",
       "        vertical-align: top;\n",
       "    }\n",
       "\n",
       "    .dataframe thead th {\n",
       "        text-align: right;\n",
       "    }\n",
       "</style>\n",
       "<table border=\"1\" class=\"dataframe\">\n",
       "  <thead>\n",
       "    <tr style=\"text-align: right;\">\n",
       "      <th></th>\n",
       "      <th>model name</th>\n",
       "      <th>cross_val_score_rougher</th>\n",
       "      <th>cross_val_score_final</th>\n",
       "    </tr>\n",
       "  </thead>\n",
       "  <tbody>\n",
       "    <tr>\n",
       "      <td>0</td>\n",
       "      <td>DecisionTreeRegressor</td>\n",
       "      <td>-22.247380</td>\n",
       "      <td>-21.823533</td>\n",
       "    </tr>\n",
       "    <tr>\n",
       "      <td>1</td>\n",
       "      <td>RandomForestRegressor</td>\n",
       "      <td>-10.497059</td>\n",
       "      <td>-9.455540</td>\n",
       "    </tr>\n",
       "    <tr>\n",
       "      <td>2</td>\n",
       "      <td>LinearRegression</td>\n",
       "      <td>-10.849083</td>\n",
       "      <td>-10.960082</td>\n",
       "    </tr>\n",
       "  </tbody>\n",
       "</table>\n",
       "</div>"
      ],
      "text/plain": [
       "              model name  cross_val_score_rougher  cross_val_score_final\n",
       "0  DecisionTreeRegressor               -22.247380             -21.823533\n",
       "1  RandomForestRegressor               -10.497059              -9.455540\n",
       "2       LinearRegression               -10.849083             -10.960082"
      ]
     },
     "execution_count": 36,
     "metadata": {},
     "output_type": "execute_result"
    }
   ],
   "source": [
    "cross_val_result = []\n",
    "\n",
    "for model in models:     \n",
    "    scorer = make_scorer(sMAPE, greater_is_better=False)     \n",
    "    cross_val_score_rougher = cross_val_score(model, features_train, target_rougher_train, cv=cv, scoring=scorer).mean()\n",
    "    cross_val_score_final = cross_val_score(model, features_train, target_final_train, cv=cv, scoring=scorer).mean()\n",
    "    cross_val_result.append({'model name': model.__class__.__name__, \n",
    "                              'cross_val_score_rougher': cross_val_score_rougher, \n",
    "                              'cross_val_score_final': cross_val_score_final}) \n",
    "              \n",
    "pd.DataFrame(cross_val_result)"
   ]
  },
  {
   "cell_type": "markdown",
   "metadata": {},
   "source": [
    "Наилучшее качество показала модель Случайного леса. Обучим ее и протестируем."
   ]
  },
  {
   "cell_type": "code",
   "execution_count": 37,
   "metadata": {},
   "outputs": [
    {
     "data": {
      "text/plain": [
       "RandomForestRegressor(bootstrap=True, criterion='mse', max_depth=5,\n",
       "                      max_features='auto', max_leaf_nodes=None,\n",
       "                      min_impurity_decrease=0.0, min_impurity_split=None,\n",
       "                      min_samples_leaf=1, min_samples_split=2,\n",
       "                      min_weight_fraction_leaf=0.0, n_estimators=20,\n",
       "                      n_jobs=None, oob_score=False,\n",
       "                      random_state=RandomState(MT19937) at 0x7FDB1D2117C0,\n",
       "                      verbose=0, warm_start=False)"
      ]
     },
     "execution_count": 37,
     "metadata": {},
     "output_type": "execute_result"
    }
   ],
   "source": [
    "model_forest_rougher = RandomForestRegressor(random_state=state, n_estimators=20, max_depth=5)\n",
    "model_forest_rougher.fit(features_train, target_rougher_train)\n",
    "\n",
    "model_forest_final = RandomForestRegressor(random_state=state, n_estimators=20, max_depth=5)\n",
    "model_forest_final.fit(features_train, target_final_train)"
   ]
  },
  {
   "cell_type": "markdown",
   "metadata": {},
   "source": [
    "<b>Проверка модели на тестовой выборке</b>"
   ]
  },
  {
   "cell_type": "code",
   "execution_count": 38,
   "metadata": {},
   "outputs": [],
   "source": [
    "predict_rougher = model_forest_rougher.predict(features_test)\n",
    "predict_final = model_forest_final.predict(features_test)"
   ]
  },
  {
   "cell_type": "code",
   "execution_count": 39,
   "metadata": {},
   "outputs": [
    {
     "name": "stdout",
     "output_type": "stream",
     "text": [
      "Итоговое sMAPE: 9.560699989215792\n"
     ]
    }
   ],
   "source": [
    "smape_rougher = sMAPE(target_rougher_test, predict_rougher)\n",
    "smape_final = sMAPE(target_final_test, predict_final)\n",
    "\n",
    "print('Итоговое sMAPE:', sMAPE_final(smape_rougher, smape_final))"
   ]
  },
  {
   "cell_type": "markdown",
   "metadata": {},
   "source": [
    "<b>Оценка модели на адекватность</b>"
   ]
  },
  {
   "cell_type": "code",
   "execution_count": 40,
   "metadata": {},
   "outputs": [
    {
     "name": "stdout",
     "output_type": "stream",
     "text": [
      "Итоговое sMAPE 9.744788079141177\n"
     ]
    }
   ],
   "source": [
    "dummy_reg = DummyRegressor(strategy='mean')\n",
    "\n",
    "dummy_reg.fit(features_train, target_rougher_train)\n",
    "predictions_rougher_dr = dummy_reg.predict(features_test)\n",
    "\n",
    "dummy_reg.fit(features_train, target_final_train)\n",
    "predictions_final_dr = dummy_reg.predict(features_test)\n",
    "\n",
    "smape_rougher_dr = sMAPE(target_rougher_test, predictions_rougher_dr)\n",
    "smape_final_dr = sMAPE(target_final_test, predictions_final_dr)\n",
    "\n",
    "print('Итоговое sMAPE', sMAPE_final(smape_rougher_dr, smape_final_dr))"
   ]
  },
  {
   "cell_type": "markdown",
   "metadata": {},
   "source": [
    "Ошибка обученной модели меньше, чем ошибка константной модели, поэтому, можно сдлеать вывод, что модель прошла тест на адекватность. "
   ]
  },
  {
   "cell_type": "markdown",
   "metadata": {},
   "source": [
    "<b>Вывод</b>"
   ]
  },
  {
   "cell_type": "markdown",
   "metadata": {},
   "source": [
    "В ходе анализа данных осуществлена работа по проверке правильности рассчета эффективности обогащения: значение МАЕ между рассчетами на обучающей выборке и значением признака  rougher.output.recovery (эффективность обогащения чернового концентрата) предельно мало, что говорит о точности значений данного признака.  \n",
    "Выполнен анализ признаков, недоступных в тестовой выборке: в тестовой выборке отсутсвуют признаки с параметрами продуктов (output) и расчетными характеристиками (calculation). Их отсутствие связно с тем, что данные параметры вычисляются значительно позже.  \n",
    "Выполнена предобработка данных: обработаны пропущенные значения, скорректированы размеры обучающей и тестовой выборок.  \n",
    "В ходе анализ данных определны следующие закономерности:\n",
    "- концентрация золота увеличивается после каждого этапа очискти, концентрация серебра, наоборот, снижается; концентрация свинца увеличивается после флотация, но после первичной очистки существенно не меняется;\n",
    "- наибольшая суммарная концентрация всех веществ получается на финальной стадии очистки сырья;\n",
    "- распределение размеров гранул сырья на обучающей и тестовых выборках достаточно близки.\n",
    "\n",
    "Создана функция для рассчета итоговой sMAPE, обучено несколько моделей. Наилучшше качество путем использования кросс-валидации показала работа модели Случайного леса. Итоговая sMAPE обученной модели ниже, чем у константной, что свидетельствует об адекватности обученной модели."
   ]
  }
 ],
 "metadata": {
  "ExecuteTimeLog": [
   {
    "duration": 1938,
    "start_time": "2021-07-23T08:53:55.608Z"
   },
   {
    "duration": 3126,
    "start_time": "2021-07-23T08:55:50.551Z"
   },
   {
    "duration": 6,
    "start_time": "2021-07-23T08:56:44.778Z"
   },
   {
    "duration": 2846,
    "start_time": "2021-07-23T08:56:44.787Z"
   },
   {
    "duration": 2292,
    "start_time": "2021-07-23T08:57:02.469Z"
   },
   {
    "duration": 1503,
    "start_time": "2021-07-26T09:13:56.081Z"
   },
   {
    "duration": 3026,
    "start_time": "2021-07-26T09:13:59.861Z"
   },
   {
    "duration": 322,
    "start_time": "2021-07-26T09:15:29.261Z"
   },
   {
    "duration": 330,
    "start_time": "2021-07-26T09:15:37.182Z"
   },
   {
    "duration": 394,
    "start_time": "2021-07-26T09:15:43.477Z"
   },
   {
    "duration": 3483,
    "start_time": "2021-07-26T09:15:47.142Z"
   },
   {
    "duration": 1038,
    "start_time": "2021-07-26T09:16:29.269Z"
   },
   {
    "duration": 6,
    "start_time": "2021-07-26T09:44:26.436Z"
   },
   {
    "duration": 326,
    "start_time": "2021-07-26T09:58:21.179Z"
   },
   {
    "duration": 935,
    "start_time": "2021-07-26T09:58:25.985Z"
   },
   {
    "duration": 18,
    "start_time": "2021-07-26T09:58:27.267Z"
   },
   {
    "duration": 7,
    "start_time": "2021-07-26T09:58:47.659Z"
   },
   {
    "duration": 850,
    "start_time": "2021-07-26T11:17:22.517Z"
   },
   {
    "duration": 837,
    "start_time": "2021-07-26T11:17:38.152Z"
   },
   {
    "duration": 1521,
    "start_time": "2021-07-27T07:15:42.221Z"
   },
   {
    "duration": 874,
    "start_time": "2021-07-27T07:15:43.745Z"
   },
   {
    "duration": 4,
    "start_time": "2021-07-27T07:15:44.622Z"
   },
   {
    "duration": 24,
    "start_time": "2021-07-27T07:15:58.027Z"
   },
   {
    "duration": 10,
    "start_time": "2021-07-27T07:17:29.105Z"
   },
   {
    "duration": 19,
    "start_time": "2021-07-27T07:17:50.419Z"
   },
   {
    "duration": 4,
    "start_time": "2021-07-27T07:21:16.865Z"
   },
   {
    "duration": 660,
    "start_time": "2021-07-27T07:23:06.853Z"
   },
   {
    "duration": 4,
    "start_time": "2021-07-27T07:23:17.004Z"
   },
   {
    "duration": 13,
    "start_time": "2021-07-27T07:23:31.424Z"
   },
   {
    "duration": 8,
    "start_time": "2021-07-27T07:23:48.798Z"
   },
   {
    "duration": 6,
    "start_time": "2021-07-27T07:30:48.192Z"
   },
   {
    "duration": 7,
    "start_time": "2021-07-27T07:34:07.080Z"
   },
   {
    "duration": 7,
    "start_time": "2021-07-27T07:35:36.878Z"
   },
   {
    "duration": 8,
    "start_time": "2021-07-27T07:35:46.766Z"
   },
   {
    "duration": 6,
    "start_time": "2021-07-27T07:36:02.126Z"
   },
   {
    "duration": 7,
    "start_time": "2021-07-27T07:36:04.638Z"
   },
   {
    "duration": 9,
    "start_time": "2021-07-27T07:36:06.936Z"
   },
   {
    "duration": 34,
    "start_time": "2021-07-27T07:40:47.289Z"
   },
   {
    "duration": 31,
    "start_time": "2021-07-27T07:41:08.266Z"
   },
   {
    "duration": 19,
    "start_time": "2021-07-27T07:41:17.505Z"
   },
   {
    "duration": 5,
    "start_time": "2021-07-27T07:41:22.566Z"
   },
   {
    "duration": 13,
    "start_time": "2021-07-27T07:41:25.775Z"
   },
   {
    "duration": 6,
    "start_time": "2021-07-27T07:44:43.006Z"
   },
   {
    "duration": 377,
    "start_time": "2021-07-27T07:45:05.506Z"
   },
   {
    "duration": 119,
    "start_time": "2021-07-27T07:45:19.414Z"
   },
   {
    "duration": 5,
    "start_time": "2021-07-27T07:45:53.942Z"
   },
   {
    "duration": 413,
    "start_time": "2021-07-27T07:46:01.846Z"
   },
   {
    "duration": 396,
    "start_time": "2021-07-27T07:46:12.078Z"
   },
   {
    "duration": 411,
    "start_time": "2021-07-27T07:49:42.326Z"
   },
   {
    "duration": 6,
    "start_time": "2021-07-27T07:49:52.465Z"
   },
   {
    "duration": 5,
    "start_time": "2021-07-27T07:50:04.306Z"
   },
   {
    "duration": 6,
    "start_time": "2021-07-27T07:50:27.934Z"
   },
   {
    "duration": 8,
    "start_time": "2021-07-27T07:51:19.656Z"
   },
   {
    "duration": 20,
    "start_time": "2021-07-27T07:51:31.134Z"
   },
   {
    "duration": 18,
    "start_time": "2021-07-27T07:51:31.655Z"
   },
   {
    "duration": 6,
    "start_time": "2021-07-27T07:51:33.157Z"
   },
   {
    "duration": 5,
    "start_time": "2021-07-27T07:51:37.484Z"
   },
   {
    "duration": 434,
    "start_time": "2021-07-27T07:51:43.358Z"
   },
   {
    "duration": 6,
    "start_time": "2021-07-27T07:52:15.768Z"
   },
   {
    "duration": 7,
    "start_time": "2021-07-27T07:52:24.005Z"
   },
   {
    "duration": 7,
    "start_time": "2021-07-27T07:52:38.075Z"
   },
   {
    "duration": 1283,
    "start_time": "2021-07-27T07:52:38.084Z"
   },
   {
    "duration": 4,
    "start_time": "2021-07-27T07:52:39.370Z"
   },
   {
    "duration": 8,
    "start_time": "2021-07-27T07:52:39.378Z"
   },
   {
    "duration": 12,
    "start_time": "2021-07-27T07:52:39.388Z"
   },
   {
    "duration": 12,
    "start_time": "2021-07-27T07:52:39.403Z"
   },
   {
    "duration": 57,
    "start_time": "2021-07-27T07:52:39.418Z"
   },
   {
    "duration": 18,
    "start_time": "2021-07-27T07:52:39.478Z"
   },
   {
    "duration": 5,
    "start_time": "2021-07-27T07:52:39.501Z"
   },
   {
    "duration": 184,
    "start_time": "2021-07-27T07:53:22.750Z"
   },
   {
    "duration": 5,
    "start_time": "2021-07-27T07:53:30.367Z"
   },
   {
    "duration": 6,
    "start_time": "2021-07-27T07:54:06.904Z"
   },
   {
    "duration": 390,
    "start_time": "2021-07-27T07:54:31.828Z"
   },
   {
    "duration": 7,
    "start_time": "2021-07-27T07:54:36.079Z"
   },
   {
    "duration": 22,
    "start_time": "2021-07-27T07:54:55.255Z"
   },
   {
    "duration": 10,
    "start_time": "2021-07-27T07:55:04.101Z"
   },
   {
    "duration": 6,
    "start_time": "2021-07-27T07:55:08.954Z"
   },
   {
    "duration": 6,
    "start_time": "2021-07-27T07:55:57.222Z"
   },
   {
    "duration": 7,
    "start_time": "2021-07-27T07:56:25.283Z"
   },
   {
    "duration": 6,
    "start_time": "2021-07-27T07:56:37.044Z"
   },
   {
    "duration": 6,
    "start_time": "2021-07-27T07:56:42.074Z"
   },
   {
    "duration": 4,
    "start_time": "2021-07-27T08:02:49.834Z"
   },
   {
    "duration": 400,
    "start_time": "2021-07-27T08:03:10.293Z"
   },
   {
    "duration": 7,
    "start_time": "2021-07-27T08:42:08.885Z"
   },
   {
    "duration": 940,
    "start_time": "2021-07-27T08:42:08.894Z"
   },
   {
    "duration": 4,
    "start_time": "2021-07-27T08:42:09.836Z"
   },
   {
    "duration": 6,
    "start_time": "2021-07-27T08:42:09.843Z"
   },
   {
    "duration": 18,
    "start_time": "2021-07-27T08:42:09.852Z"
   },
   {
    "duration": 12,
    "start_time": "2021-07-27T08:42:09.872Z"
   },
   {
    "duration": 7,
    "start_time": "2021-07-27T08:42:09.887Z"
   },
   {
    "duration": 6,
    "start_time": "2021-07-27T08:42:09.897Z"
   },
   {
    "duration": 446,
    "start_time": "2021-07-27T08:42:09.906Z"
   },
   {
    "duration": 492,
    "start_time": "2021-07-27T08:54:22.293Z"
   },
   {
    "duration": 132,
    "start_time": "2021-07-27T08:55:10.613Z"
   },
   {
    "duration": 451,
    "start_time": "2021-07-27T08:55:17.206Z"
   },
   {
    "duration": 909,
    "start_time": "2021-07-27T08:55:38.189Z"
   },
   {
    "duration": 446,
    "start_time": "2021-07-27T08:55:46.668Z"
   },
   {
    "duration": 429,
    "start_time": "2021-07-27T08:55:56.054Z"
   },
   {
    "duration": 736,
    "start_time": "2021-07-27T08:56:07.891Z"
   },
   {
    "duration": 837,
    "start_time": "2021-07-27T08:56:23.021Z"
   },
   {
    "duration": 778,
    "start_time": "2021-07-27T08:59:07.557Z"
   },
   {
    "duration": 865,
    "start_time": "2021-07-27T08:59:33.145Z"
   },
   {
    "duration": 1017,
    "start_time": "2021-07-27T09:00:04.072Z"
   },
   {
    "duration": 389,
    "start_time": "2021-07-27T09:03:49.996Z"
   },
   {
    "duration": 118,
    "start_time": "2021-07-27T09:06:49.676Z"
   },
   {
    "duration": 5391,
    "start_time": "2021-07-27T09:06:56.206Z"
   },
   {
    "duration": 864,
    "start_time": "2021-07-27T09:07:40.167Z"
   },
   {
    "duration": 880,
    "start_time": "2021-07-27T09:08:45.587Z"
   },
   {
    "duration": 953,
    "start_time": "2021-07-27T09:09:07.317Z"
   },
   {
    "duration": 996,
    "start_time": "2021-07-27T09:09:17.352Z"
   },
   {
    "duration": 1053,
    "start_time": "2021-07-27T09:09:26.465Z"
   },
   {
    "duration": 876,
    "start_time": "2021-07-27T09:09:29.106Z"
   },
   {
    "duration": 421,
    "start_time": "2021-07-27T09:12:04.676Z"
   },
   {
    "duration": 573,
    "start_time": "2021-07-27T09:12:20.736Z"
   },
   {
    "duration": 849,
    "start_time": "2021-07-27T09:12:34.167Z"
   },
   {
    "duration": 140,
    "start_time": "2021-07-27T09:13:14.327Z"
   },
   {
    "duration": 767,
    "start_time": "2021-07-27T09:13:21.038Z"
   },
   {
    "duration": 797,
    "start_time": "2021-07-27T09:13:34.779Z"
   },
   {
    "duration": 851,
    "start_time": "2021-07-27T09:13:40.986Z"
   },
   {
    "duration": 897,
    "start_time": "2021-07-27T09:14:06.607Z"
   },
   {
    "duration": 1086,
    "start_time": "2021-07-27T09:15:06.284Z"
   },
   {
    "duration": 856,
    "start_time": "2021-07-27T09:15:18.396Z"
   },
   {
    "duration": 953,
    "start_time": "2021-07-27T09:15:27.644Z"
   },
   {
    "duration": 863,
    "start_time": "2021-07-27T09:15:37.129Z"
   },
   {
    "duration": 889,
    "start_time": "2021-07-27T09:15:51.582Z"
   },
   {
    "duration": 398,
    "start_time": "2021-07-27T09:16:11.036Z"
   },
   {
    "duration": 134,
    "start_time": "2021-07-27T09:16:21.755Z"
   },
   {
    "duration": 349,
    "start_time": "2021-07-27T09:16:23.866Z"
   },
   {
    "duration": 1009,
    "start_time": "2021-07-27T09:16:30.520Z"
   },
   {
    "duration": 629,
    "start_time": "2021-07-27T09:16:37.087Z"
   },
   {
    "duration": 747,
    "start_time": "2021-07-27T09:16:45.126Z"
   },
   {
    "duration": 1018,
    "start_time": "2021-07-27T09:18:44.566Z"
   },
   {
    "duration": 903,
    "start_time": "2021-07-27T09:19:22.237Z"
   },
   {
    "duration": 871,
    "start_time": "2021-07-27T09:19:47.457Z"
   },
   {
    "duration": 770,
    "start_time": "2021-07-27T09:20:25.058Z"
   },
   {
    "duration": 2028,
    "start_time": "2021-07-27T09:21:41.226Z"
   },
   {
    "duration": 2240,
    "start_time": "2021-07-27T09:21:53.272Z"
   },
   {
    "duration": 128,
    "start_time": "2021-07-27T09:22:11.576Z"
   },
   {
    "duration": 747,
    "start_time": "2021-07-27T09:22:20.696Z"
   },
   {
    "duration": 857,
    "start_time": "2021-07-27T09:23:14.076Z"
   },
   {
    "duration": 356,
    "start_time": "2021-07-27T09:23:35.287Z"
   },
   {
    "duration": 868,
    "start_time": "2021-07-27T09:23:43.056Z"
   },
   {
    "duration": 1018,
    "start_time": "2021-07-27T09:24:13.005Z"
   },
   {
    "duration": 1004,
    "start_time": "2021-07-27T09:24:42.166Z"
   },
   {
    "duration": 1081,
    "start_time": "2021-07-27T09:26:59.651Z"
   },
   {
    "duration": 375,
    "start_time": "2021-07-27T09:30:54.513Z"
   },
   {
    "duration": 425,
    "start_time": "2021-07-27T09:31:00.026Z"
   },
   {
    "duration": 409,
    "start_time": "2021-07-27T09:31:08.454Z"
   },
   {
    "duration": 406,
    "start_time": "2021-07-27T09:31:15.945Z"
   },
   {
    "duration": 4,
    "start_time": "2021-07-27T09:31:21.890Z"
   },
   {
    "duration": 21,
    "start_time": "2021-07-27T09:31:42.005Z"
   },
   {
    "duration": 4,
    "start_time": "2021-07-27T09:31:49.427Z"
   },
   {
    "duration": 4,
    "start_time": "2021-07-27T09:32:07.209Z"
   },
   {
    "duration": 21,
    "start_time": "2021-07-27T09:32:10.406Z"
   },
   {
    "duration": 4,
    "start_time": "2021-07-27T09:32:21.474Z"
   },
   {
    "duration": 20,
    "start_time": "2021-07-27T09:32:24.427Z"
   },
   {
    "duration": 4,
    "start_time": "2021-07-27T09:32:28.707Z"
   },
   {
    "duration": 21,
    "start_time": "2021-07-27T09:32:29.418Z"
   },
   {
    "duration": 636,
    "start_time": "2021-07-27T09:32:54.557Z"
   },
   {
    "duration": 940,
    "start_time": "2021-07-27T09:33:05.776Z"
   },
   {
    "duration": 412,
    "start_time": "2021-07-27T09:33:30.166Z"
   },
   {
    "duration": 4,
    "start_time": "2021-07-27T09:33:40.926Z"
   },
   {
    "duration": 6,
    "start_time": "2021-07-27T09:33:50.836Z"
   },
   {
    "duration": 898,
    "start_time": "2021-07-27T09:33:50.845Z"
   },
   {
    "duration": 5,
    "start_time": "2021-07-27T09:33:51.747Z"
   },
   {
    "duration": 4,
    "start_time": "2021-07-27T09:33:51.767Z"
   },
   {
    "duration": 11,
    "start_time": "2021-07-27T09:33:51.773Z"
   },
   {
    "duration": 9,
    "start_time": "2021-07-27T09:33:51.788Z"
   },
   {
    "duration": 12,
    "start_time": "2021-07-27T09:33:51.800Z"
   },
   {
    "duration": 15,
    "start_time": "2021-07-27T09:33:51.814Z"
   },
   {
    "duration": 462,
    "start_time": "2021-07-27T09:33:51.833Z"
   },
   {
    "duration": 4,
    "start_time": "2021-07-27T09:33:52.298Z"
   },
   {
    "duration": 27,
    "start_time": "2021-07-27T09:33:52.304Z"
   },
   {
    "duration": 904,
    "start_time": "2021-07-27T09:33:52.333Z"
   },
   {
    "duration": 1696,
    "start_time": "2021-07-27T09:33:53.240Z"
   },
   {
    "duration": 4,
    "start_time": "2021-07-27T09:34:47.583Z"
   },
   {
    "duration": 772,
    "start_time": "2021-07-27T09:34:49.577Z"
   },
   {
    "duration": 47,
    "start_time": "2021-07-27T09:35:12.063Z"
   },
   {
    "duration": 45,
    "start_time": "2021-07-27T09:35:12.067Z"
   },
   {
    "duration": 39,
    "start_time": "2021-07-27T09:35:12.074Z"
   },
   {
    "duration": 36,
    "start_time": "2021-07-27T09:35:12.078Z"
   },
   {
    "duration": 34,
    "start_time": "2021-07-27T09:35:12.082Z"
   },
   {
    "duration": 28,
    "start_time": "2021-07-27T09:35:12.089Z"
   },
   {
    "duration": 25,
    "start_time": "2021-07-27T09:35:12.093Z"
   },
   {
    "duration": 24,
    "start_time": "2021-07-27T09:35:12.096Z"
   },
   {
    "duration": 21,
    "start_time": "2021-07-27T09:35:12.100Z"
   },
   {
    "duration": 20,
    "start_time": "2021-07-27T09:35:12.103Z"
   },
   {
    "duration": 13,
    "start_time": "2021-07-27T09:35:12.111Z"
   },
   {
    "duration": 12,
    "start_time": "2021-07-27T09:35:12.114Z"
   },
   {
    "duration": 10,
    "start_time": "2021-07-27T09:35:12.117Z"
   },
   {
    "duration": 10,
    "start_time": "2021-07-27T09:35:12.119Z"
   },
   {
    "duration": 71,
    "start_time": "2021-07-27T09:35:41.852Z"
   },
   {
    "duration": 63,
    "start_time": "2021-07-27T09:35:41.861Z"
   },
   {
    "duration": 61,
    "start_time": "2021-07-27T09:35:41.865Z"
   },
   {
    "duration": 59,
    "start_time": "2021-07-27T09:35:41.868Z"
   },
   {
    "duration": 53,
    "start_time": "2021-07-27T09:35:41.875Z"
   },
   {
    "duration": 52,
    "start_time": "2021-07-27T09:35:41.878Z"
   },
   {
    "duration": 50,
    "start_time": "2021-07-27T09:35:41.881Z"
   },
   {
    "duration": 49,
    "start_time": "2021-07-27T09:35:41.884Z"
   },
   {
    "duration": 47,
    "start_time": "2021-07-27T09:35:41.887Z"
   },
   {
    "duration": 46,
    "start_time": "2021-07-27T09:35:41.890Z"
   },
   {
    "duration": 45,
    "start_time": "2021-07-27T09:35:41.892Z"
   },
   {
    "duration": 73,
    "start_time": "2021-07-27T09:35:41.894Z"
   },
   {
    "duration": 67,
    "start_time": "2021-07-27T09:35:41.902Z"
   },
   {
    "duration": 67,
    "start_time": "2021-07-27T09:35:41.904Z"
   },
   {
    "duration": 8,
    "start_time": "2021-07-27T09:36:17.979Z"
   },
   {
    "duration": 880,
    "start_time": "2021-07-27T09:36:17.991Z"
   },
   {
    "duration": 3,
    "start_time": "2021-07-27T09:36:18.874Z"
   },
   {
    "duration": 7,
    "start_time": "2021-07-27T09:36:18.880Z"
   },
   {
    "duration": 8,
    "start_time": "2021-07-27T09:36:18.889Z"
   },
   {
    "duration": 7,
    "start_time": "2021-07-27T09:36:18.900Z"
   },
   {
    "duration": 115,
    "start_time": "2021-07-27T09:36:18.909Z"
   },
   {
    "duration": 12,
    "start_time": "2021-07-27T09:36:19.026Z"
   },
   {
    "duration": 442,
    "start_time": "2021-07-27T09:36:19.041Z"
   },
   {
    "duration": 4,
    "start_time": "2021-07-27T09:36:19.485Z"
   },
   {
    "duration": 7,
    "start_time": "2021-07-27T09:36:19.491Z"
   },
   {
    "duration": 28,
    "start_time": "2021-07-27T09:36:19.500Z"
   },
   {
    "duration": 908,
    "start_time": "2021-07-27T09:36:19.531Z"
   },
   {
    "duration": 1140,
    "start_time": "2021-07-27T09:36:20.441Z"
   },
   {
    "duration": 21,
    "start_time": "2021-07-27T10:09:38.283Z"
   },
   {
    "duration": 3,
    "start_time": "2021-07-27T10:09:47.893Z"
   },
   {
    "duration": 21,
    "start_time": "2021-07-27T10:09:48.982Z"
   },
   {
    "duration": 7,
    "start_time": "2021-07-27T10:10:49.620Z"
   },
   {
    "duration": 914,
    "start_time": "2021-07-27T10:10:49.639Z"
   },
   {
    "duration": 4,
    "start_time": "2021-07-27T10:10:50.555Z"
   },
   {
    "duration": 9,
    "start_time": "2021-07-27T10:10:50.569Z"
   },
   {
    "duration": 9,
    "start_time": "2021-07-27T10:10:50.581Z"
   },
   {
    "duration": 8,
    "start_time": "2021-07-27T10:10:50.593Z"
   },
   {
    "duration": 17,
    "start_time": "2021-07-27T10:10:50.604Z"
   },
   {
    "duration": 46,
    "start_time": "2021-07-27T10:10:50.624Z"
   },
   {
    "duration": 473,
    "start_time": "2021-07-27T10:10:50.674Z"
   },
   {
    "duration": 18,
    "start_time": "2021-07-27T10:10:51.151Z"
   },
   {
    "duration": 9,
    "start_time": "2021-07-27T10:10:51.171Z"
   },
   {
    "duration": 32,
    "start_time": "2021-07-27T10:10:51.182Z"
   },
   {
    "duration": 899,
    "start_time": "2021-07-27T10:10:51.216Z"
   },
   {
    "duration": 1091,
    "start_time": "2021-07-27T10:10:52.117Z"
   },
   {
    "duration": 390,
    "start_time": "2021-07-27T10:11:27.349Z"
   },
   {
    "duration": 10327,
    "start_time": "2021-07-27T10:12:36.188Z"
   },
   {
    "duration": -1269,
    "start_time": "2021-07-27T10:12:47.786Z"
   },
   {
    "duration": 9541,
    "start_time": "2021-07-27T10:13:01.860Z"
   },
   {
    "duration": 145,
    "start_time": "2021-07-27T10:13:11.260Z"
   },
   {
    "duration": 17873,
    "start_time": "2021-07-27T10:13:45.406Z"
   },
   {
    "duration": 20334,
    "start_time": "2021-07-27T10:14:48.456Z"
   },
   {
    "duration": 442,
    "start_time": "2021-07-27T10:15:50.173Z"
   },
   {
    "duration": 71,
    "start_time": "2021-07-27T10:16:16.812Z"
   },
   {
    "duration": 51,
    "start_time": "2021-07-27T10:16:32.882Z"
   },
   {
    "duration": 7,
    "start_time": "2021-07-27T10:17:45.253Z"
   },
   {
    "duration": 878,
    "start_time": "2021-07-27T10:17:45.263Z"
   },
   {
    "duration": 3,
    "start_time": "2021-07-27T10:17:46.144Z"
   },
   {
    "duration": 17,
    "start_time": "2021-07-27T10:17:46.150Z"
   },
   {
    "duration": 11,
    "start_time": "2021-07-27T10:17:46.170Z"
   },
   {
    "duration": 10,
    "start_time": "2021-07-27T10:17:46.183Z"
   },
   {
    "duration": 6,
    "start_time": "2021-07-27T10:17:46.195Z"
   },
   {
    "duration": 7,
    "start_time": "2021-07-27T10:17:46.204Z"
   },
   {
    "duration": 465,
    "start_time": "2021-07-27T10:17:46.214Z"
   },
   {
    "duration": 49,
    "start_time": "2021-07-27T10:17:46.682Z"
   },
   {
    "duration": 1014,
    "start_time": "2021-07-27T10:17:46.733Z"
   },
   {
    "duration": 912,
    "start_time": "2021-07-27T10:17:47.749Z"
   },
   {
    "duration": 1016,
    "start_time": "2021-07-27T10:22:46.441Z"
   },
   {
    "duration": 1560,
    "start_time": "2021-07-28T07:38:29.144Z"
   },
   {
    "duration": 884,
    "start_time": "2021-07-28T07:38:30.707Z"
   },
   {
    "duration": 3,
    "start_time": "2021-07-28T07:38:31.594Z"
   },
   {
    "duration": 27,
    "start_time": "2021-07-28T07:38:31.600Z"
   },
   {
    "duration": 36,
    "start_time": "2021-07-28T07:38:31.630Z"
   },
   {
    "duration": 31,
    "start_time": "2021-07-28T07:38:31.669Z"
   },
   {
    "duration": 24,
    "start_time": "2021-07-28T07:38:31.703Z"
   },
   {
    "duration": 29,
    "start_time": "2021-07-28T07:38:31.730Z"
   },
   {
    "duration": 461,
    "start_time": "2021-07-28T07:38:31.762Z"
   },
   {
    "duration": 69,
    "start_time": "2021-07-28T07:38:32.226Z"
   },
   {
    "duration": 3,
    "start_time": "2021-07-28T07:38:32.298Z"
   },
   {
    "duration": 856,
    "start_time": "2021-07-28T07:38:32.303Z"
   },
   {
    "duration": 825,
    "start_time": "2021-07-28T07:38:33.162Z"
   },
   {
    "duration": 951,
    "start_time": "2021-07-28T07:38:33.989Z"
   },
   {
    "duration": 653,
    "start_time": "2021-07-28T07:57:19.209Z"
   },
   {
    "duration": 4,
    "start_time": "2021-07-28T08:00:51.268Z"
   },
   {
    "duration": 46,
    "start_time": "2021-07-28T08:01:11.090Z"
   },
   {
    "duration": 112,
    "start_time": "2021-07-28T08:01:25.484Z"
   },
   {
    "duration": 6,
    "start_time": "2021-07-28T08:01:28.222Z"
   },
   {
    "duration": 1071,
    "start_time": "2021-07-28T08:01:28.232Z"
   },
   {
    "duration": 4,
    "start_time": "2021-07-28T08:01:29.306Z"
   },
   {
    "duration": 19,
    "start_time": "2021-07-28T08:01:29.313Z"
   },
   {
    "duration": 9,
    "start_time": "2021-07-28T08:01:29.335Z"
   },
   {
    "duration": 20,
    "start_time": "2021-07-28T08:01:29.346Z"
   },
   {
    "duration": 10,
    "start_time": "2021-07-28T08:01:29.369Z"
   },
   {
    "duration": 6,
    "start_time": "2021-07-28T08:01:29.383Z"
   },
   {
    "duration": 562,
    "start_time": "2021-07-28T08:01:29.392Z"
   },
   {
    "duration": 4,
    "start_time": "2021-07-28T08:01:29.956Z"
   },
   {
    "duration": 133,
    "start_time": "2021-07-28T08:01:29.963Z"
   },
   {
    "duration": 2,
    "start_time": "2021-07-28T08:01:30.099Z"
   },
   {
    "duration": 15,
    "start_time": "2021-07-28T08:01:30.104Z"
   },
   {
    "duration": 880,
    "start_time": "2021-07-28T08:01:30.121Z"
   },
   {
    "duration": 826,
    "start_time": "2021-07-28T08:01:31.003Z"
   },
   {
    "duration": 942,
    "start_time": "2021-07-28T08:01:31.832Z"
   },
   {
    "duration": 579,
    "start_time": "2021-07-28T08:01:32.776Z"
   },
   {
    "duration": 552,
    "start_time": "2021-07-28T08:03:06.719Z"
   },
   {
    "duration": 646,
    "start_time": "2021-07-28T08:04:43.548Z"
   },
   {
    "duration": 701,
    "start_time": "2021-07-28T08:05:04.326Z"
   },
   {
    "duration": 744,
    "start_time": "2021-07-28T08:06:05.630Z"
   },
   {
    "duration": 646,
    "start_time": "2021-07-28T08:06:40.203Z"
   },
   {
    "duration": 631,
    "start_time": "2021-07-28T08:07:10.575Z"
   },
   {
    "duration": 638,
    "start_time": "2021-07-28T08:07:37.949Z"
   },
   {
    "duration": 271,
    "start_time": "2021-07-28T08:09:09.279Z"
   },
   {
    "duration": 742,
    "start_time": "2021-07-28T08:09:27.489Z"
   },
   {
    "duration": 652,
    "start_time": "2021-07-28T08:09:38.778Z"
   },
   {
    "duration": 755,
    "start_time": "2021-07-28T08:10:05.299Z"
   },
   {
    "duration": 641,
    "start_time": "2021-07-28T08:10:52.808Z"
   },
   {
    "duration": 4,
    "start_time": "2021-07-28T08:26:41.039Z"
   },
   {
    "duration": 4,
    "start_time": "2021-07-28T08:26:54.151Z"
   },
   {
    "duration": 8,
    "start_time": "2021-07-28T08:27:03.184Z"
   },
   {
    "duration": 96,
    "start_time": "2021-07-28T08:27:27.674Z"
   },
   {
    "duration": 6,
    "start_time": "2021-07-28T08:27:37.863Z"
   },
   {
    "duration": 8,
    "start_time": "2021-07-28T08:27:39.744Z"
   },
   {
    "duration": 6,
    "start_time": "2021-07-28T08:27:50.414Z"
   },
   {
    "duration": 7,
    "start_time": "2021-07-28T08:27:52.354Z"
   },
   {
    "duration": 6,
    "start_time": "2021-07-28T08:29:48.443Z"
   },
   {
    "duration": 8,
    "start_time": "2021-07-28T08:29:58.964Z"
   },
   {
    "duration": 8,
    "start_time": "2021-07-28T08:31:00.454Z"
   },
   {
    "duration": 7,
    "start_time": "2021-07-28T08:31:05.654Z"
   },
   {
    "duration": 580,
    "start_time": "2021-07-28T08:32:19.364Z"
   },
   {
    "duration": 827,
    "start_time": "2021-07-28T08:32:35.635Z"
   },
   {
    "duration": 855,
    "start_time": "2021-07-28T08:32:55.243Z"
   },
   {
    "duration": 954,
    "start_time": "2021-07-28T08:33:02.415Z"
   },
   {
    "duration": 868,
    "start_time": "2021-07-28T08:35:14.840Z"
   },
   {
    "duration": 6,
    "start_time": "2021-07-28T09:48:19.239Z"
   },
   {
    "duration": 981,
    "start_time": "2021-07-28T09:48:19.248Z"
   },
   {
    "duration": 4,
    "start_time": "2021-07-28T09:48:20.232Z"
   },
   {
    "duration": 17,
    "start_time": "2021-07-28T09:48:20.238Z"
   },
   {
    "duration": 11,
    "start_time": "2021-07-28T09:48:20.258Z"
   },
   {
    "duration": 10,
    "start_time": "2021-07-28T09:48:20.272Z"
   },
   {
    "duration": 9,
    "start_time": "2021-07-28T09:48:20.285Z"
   },
   {
    "duration": 12,
    "start_time": "2021-07-28T09:48:20.298Z"
   },
   {
    "duration": 454,
    "start_time": "2021-07-28T09:48:20.313Z"
   },
   {
    "duration": 4,
    "start_time": "2021-07-28T09:48:20.770Z"
   },
   {
    "duration": 132,
    "start_time": "2021-07-28T09:48:20.776Z"
   },
   {
    "duration": 4,
    "start_time": "2021-07-28T09:48:20.910Z"
   },
   {
    "duration": 963,
    "start_time": "2021-07-28T09:48:20.917Z"
   },
   {
    "duration": 842,
    "start_time": "2021-07-28T09:48:21.882Z"
   },
   {
    "duration": 974,
    "start_time": "2021-07-28T09:48:22.727Z"
   },
   {
    "duration": 753,
    "start_time": "2021-07-28T09:48:23.704Z"
   },
   {
    "duration": 9,
    "start_time": "2021-07-28T09:48:24.460Z"
   },
   {
    "duration": 894,
    "start_time": "2021-07-28T09:48:24.471Z"
   },
   {
    "duration": 6,
    "start_time": "2021-07-28T09:50:22.442Z"
   },
   {
    "duration": 5,
    "start_time": "2021-07-28T09:57:50.058Z"
   },
   {
    "duration": 1760,
    "start_time": "2021-07-29T07:38:52.100Z"
   },
   {
    "duration": 873,
    "start_time": "2021-07-29T07:38:53.863Z"
   },
   {
    "duration": 4,
    "start_time": "2021-07-29T07:38:54.740Z"
   },
   {
    "duration": 12,
    "start_time": "2021-07-29T07:38:54.754Z"
   },
   {
    "duration": 32,
    "start_time": "2021-07-29T07:38:54.769Z"
   },
   {
    "duration": 20,
    "start_time": "2021-07-29T07:38:54.804Z"
   },
   {
    "duration": 22,
    "start_time": "2021-07-29T07:38:54.827Z"
   },
   {
    "duration": 16,
    "start_time": "2021-07-29T07:38:54.853Z"
   },
   {
    "duration": 598,
    "start_time": "2021-07-29T07:38:54.872Z"
   },
   {
    "duration": 3,
    "start_time": "2021-07-29T07:38:55.473Z"
   },
   {
    "duration": 139,
    "start_time": "2021-07-29T07:38:55.480Z"
   },
   {
    "duration": 4,
    "start_time": "2021-07-29T07:38:55.621Z"
   },
   {
    "duration": 897,
    "start_time": "2021-07-29T07:38:55.627Z"
   },
   {
    "duration": 999,
    "start_time": "2021-07-29T07:38:56.527Z"
   },
   {
    "duration": 1059,
    "start_time": "2021-07-29T07:38:57.528Z"
   },
   {
    "duration": 677,
    "start_time": "2021-07-29T07:38:58.589Z"
   },
   {
    "duration": 10,
    "start_time": "2021-07-29T07:38:59.270Z"
   },
   {
    "duration": 906,
    "start_time": "2021-07-29T07:38:59.283Z"
   },
   {
    "duration": 6,
    "start_time": "2021-07-29T07:39:00.192Z"
   },
   {
    "duration": 6,
    "start_time": "2021-07-29T07:40:02.355Z"
   },
   {
    "duration": 667,
    "start_time": "2021-07-29T07:43:29.101Z"
   },
   {
    "duration": 7,
    "start_time": "2021-07-29T07:43:54.071Z"
   },
   {
    "duration": 493,
    "start_time": "2021-07-29T07:43:55.567Z"
   },
   {
    "duration": 5,
    "start_time": "2021-07-29T07:44:33.913Z"
   },
   {
    "duration": 590,
    "start_time": "2021-07-29T07:44:34.603Z"
   },
   {
    "duration": 5,
    "start_time": "2021-07-29T07:44:58.844Z"
   },
   {
    "duration": 521,
    "start_time": "2021-07-29T07:45:00.140Z"
   },
   {
    "duration": 4,
    "start_time": "2021-07-29T07:46:57.573Z"
   },
   {
    "duration": 5,
    "start_time": "2021-07-29T07:56:08.198Z"
   },
   {
    "duration": 10,
    "start_time": "2021-07-29T08:47:17.892Z"
   },
   {
    "duration": 5,
    "start_time": "2021-07-29T08:49:01.340Z"
   },
   {
    "duration": 266,
    "start_time": "2021-07-29T08:49:40.002Z"
   },
   {
    "duration": 11,
    "start_time": "2021-07-29T08:50:18.181Z"
   },
   {
    "duration": 15,
    "start_time": "2021-07-29T08:50:19.073Z"
   },
   {
    "duration": 14,
    "start_time": "2021-07-29T08:52:26.991Z"
   },
   {
    "duration": 23,
    "start_time": "2021-07-29T08:52:27.353Z"
   },
   {
    "duration": 13,
    "start_time": "2021-07-29T08:52:53.967Z"
   },
   {
    "duration": 24,
    "start_time": "2021-07-29T08:52:54.402Z"
   },
   {
    "duration": 4,
    "start_time": "2021-07-29T08:54:01.234Z"
   },
   {
    "duration": 13,
    "start_time": "2021-07-29T08:54:01.701Z"
   },
   {
    "duration": 23,
    "start_time": "2021-07-29T08:54:02.162Z"
   },
   {
    "duration": 1154,
    "start_time": "2021-07-29T08:54:29.703Z"
   },
   {
    "duration": 9,
    "start_time": "2021-07-29T08:57:24.959Z"
   },
   {
    "duration": 12,
    "start_time": "2021-07-29T08:57:25.572Z"
   },
   {
    "duration": 20,
    "start_time": "2021-07-29T08:57:26.492Z"
   },
   {
    "duration": 2457,
    "start_time": "2021-07-29T08:57:28.812Z"
   },
   {
    "duration": 2433,
    "start_time": "2021-07-29T08:58:57.722Z"
   },
   {
    "duration": 9,
    "start_time": "2021-07-29T08:59:04.801Z"
   },
   {
    "duration": 961,
    "start_time": "2021-07-29T08:59:04.814Z"
   },
   {
    "duration": 4,
    "start_time": "2021-07-29T08:59:05.778Z"
   },
   {
    "duration": 8,
    "start_time": "2021-07-29T08:59:05.786Z"
   },
   {
    "duration": 9,
    "start_time": "2021-07-29T08:59:05.796Z"
   },
   {
    "duration": 10,
    "start_time": "2021-07-29T08:59:05.808Z"
   },
   {
    "duration": 11,
    "start_time": "2021-07-29T08:59:05.820Z"
   },
   {
    "duration": 18,
    "start_time": "2021-07-29T08:59:05.855Z"
   },
   {
    "duration": 437,
    "start_time": "2021-07-29T08:59:05.877Z"
   },
   {
    "duration": 5,
    "start_time": "2021-07-29T08:59:06.318Z"
   },
   {
    "duration": 147,
    "start_time": "2021-07-29T08:59:06.326Z"
   },
   {
    "duration": 5,
    "start_time": "2021-07-29T08:59:06.475Z"
   },
   {
    "duration": 907,
    "start_time": "2021-07-29T08:59:06.483Z"
   },
   {
    "duration": 1019,
    "start_time": "2021-07-29T08:59:07.393Z"
   },
   {
    "duration": 921,
    "start_time": "2021-07-29T08:59:08.414Z"
   },
   {
    "duration": 689,
    "start_time": "2021-07-29T08:59:09.337Z"
   },
   {
    "duration": 8,
    "start_time": "2021-07-29T08:59:10.029Z"
   },
   {
    "duration": 974,
    "start_time": "2021-07-29T08:59:10.039Z"
   },
   {
    "duration": 5,
    "start_time": "2021-07-29T08:59:11.015Z"
   },
   {
    "duration": 19,
    "start_time": "2021-07-29T08:59:11.023Z"
   },
   {
    "duration": 25,
    "start_time": "2021-07-29T08:59:11.045Z"
   },
   {
    "duration": 32,
    "start_time": "2021-07-29T08:59:11.073Z"
   },
   {
    "duration": 37,
    "start_time": "2021-07-29T08:59:11.108Z"
   },
   {
    "duration": 2644,
    "start_time": "2021-07-29T08:59:11.148Z"
   },
   {
    "duration": 2511,
    "start_time": "2021-07-29T08:59:19.199Z"
   },
   {
    "duration": 6,
    "start_time": "2021-07-29T09:07:23.362Z"
   },
   {
    "duration": 1472,
    "start_time": "2021-07-29T09:12:26.163Z"
   },
   {
    "duration": 1244,
    "start_time": "2021-07-29T09:13:16.171Z"
   },
   {
    "duration": 4940,
    "start_time": "2021-07-29T09:14:22.560Z"
   },
   {
    "duration": 1454,
    "start_time": "2021-07-29T09:15:32.172Z"
   },
   {
    "duration": 1373,
    "start_time": "2021-07-29T09:15:57.011Z"
   },
   {
    "duration": 5119,
    "start_time": "2021-07-29T09:16:36.939Z"
   },
   {
    "duration": 4841,
    "start_time": "2021-07-29T09:16:49.834Z"
   },
   {
    "duration": 16,
    "start_time": "2021-07-29T09:18:23.101Z"
   },
   {
    "duration": 5,
    "start_time": "2021-07-29T09:18:59.797Z"
   },
   {
    "duration": 5,
    "start_time": "2021-07-29T09:19:24.303Z"
   },
   {
    "duration": 1546,
    "start_time": "2021-07-29T09:32:58.253Z"
   },
   {
    "duration": 858,
    "start_time": "2021-07-29T09:32:59.801Z"
   },
   {
    "duration": 4,
    "start_time": "2021-07-29T09:33:00.662Z"
   },
   {
    "duration": 25,
    "start_time": "2021-07-29T09:33:00.668Z"
   },
   {
    "duration": 33,
    "start_time": "2021-07-29T09:33:00.696Z"
   },
   {
    "duration": 23,
    "start_time": "2021-07-29T09:33:00.731Z"
   },
   {
    "duration": 33,
    "start_time": "2021-07-29T09:33:00.756Z"
   },
   {
    "duration": 17,
    "start_time": "2021-07-29T09:33:00.791Z"
   },
   {
    "duration": 469,
    "start_time": "2021-07-29T09:33:00.813Z"
   },
   {
    "duration": 4,
    "start_time": "2021-07-29T09:33:01.285Z"
   },
   {
    "duration": 128,
    "start_time": "2021-07-29T09:33:01.291Z"
   },
   {
    "duration": 3,
    "start_time": "2021-07-29T09:33:01.422Z"
   },
   {
    "duration": 879,
    "start_time": "2021-07-29T09:33:01.427Z"
   },
   {
    "duration": 860,
    "start_time": "2021-07-29T09:33:02.308Z"
   },
   {
    "duration": 958,
    "start_time": "2021-07-29T09:33:03.171Z"
   },
   {
    "duration": 760,
    "start_time": "2021-07-29T09:33:04.131Z"
   },
   {
    "duration": 8,
    "start_time": "2021-07-29T09:33:04.893Z"
   },
   {
    "duration": 907,
    "start_time": "2021-07-29T09:33:04.903Z"
   },
   {
    "duration": 4,
    "start_time": "2021-07-29T09:33:05.813Z"
   },
   {
    "duration": 25,
    "start_time": "2021-07-29T09:33:05.820Z"
   },
   {
    "duration": 41,
    "start_time": "2021-07-29T09:33:05.847Z"
   },
   {
    "duration": 36,
    "start_time": "2021-07-29T09:33:05.890Z"
   },
   {
    "duration": 42,
    "start_time": "2021-07-29T09:33:05.928Z"
   },
   {
    "duration": 5050,
    "start_time": "2021-07-29T09:33:05.973Z"
   },
   {
    "duration": 1462,
    "start_time": "2021-07-29T09:33:11.025Z"
   },
   {
    "duration": 5,
    "start_time": "2021-07-29T09:33:25.530Z"
   },
   {
    "duration": 764984,
    "start_time": "2021-07-29T09:33:32.093Z"
   },
   {
    "duration": 1565,
    "start_time": "2021-07-29T09:54:28.435Z"
   },
   {
    "duration": 864,
    "start_time": "2021-07-29T09:54:30.003Z"
   },
   {
    "duration": 4,
    "start_time": "2021-07-29T09:54:30.870Z"
   },
   {
    "duration": 20,
    "start_time": "2021-07-29T09:54:30.877Z"
   },
   {
    "duration": 26,
    "start_time": "2021-07-29T09:54:30.899Z"
   },
   {
    "duration": 12,
    "start_time": "2021-07-29T09:54:30.928Z"
   },
   {
    "duration": 25,
    "start_time": "2021-07-29T09:54:30.942Z"
   },
   {
    "duration": 25,
    "start_time": "2021-07-29T09:54:30.969Z"
   },
   {
    "duration": 480,
    "start_time": "2021-07-29T09:54:30.998Z"
   },
   {
    "duration": 4,
    "start_time": "2021-07-29T09:54:31.481Z"
   },
   {
    "duration": 128,
    "start_time": "2021-07-29T09:54:31.487Z"
   },
   {
    "duration": 4,
    "start_time": "2021-07-29T09:54:31.617Z"
   },
   {
    "duration": 883,
    "start_time": "2021-07-29T09:54:31.623Z"
   },
   {
    "duration": 901,
    "start_time": "2021-07-29T09:54:32.508Z"
   },
   {
    "duration": 1043,
    "start_time": "2021-07-29T09:54:33.411Z"
   },
   {
    "duration": 665,
    "start_time": "2021-07-29T09:54:34.457Z"
   },
   {
    "duration": 8,
    "start_time": "2021-07-29T09:54:35.125Z"
   },
   {
    "duration": 907,
    "start_time": "2021-07-29T09:54:35.135Z"
   },
   {
    "duration": 10,
    "start_time": "2021-07-29T09:54:36.045Z"
   },
   {
    "duration": 15,
    "start_time": "2021-07-29T09:54:36.057Z"
   },
   {
    "duration": 24,
    "start_time": "2021-07-29T09:54:36.075Z"
   },
   {
    "duration": 36,
    "start_time": "2021-07-29T09:54:36.101Z"
   },
   {
    "duration": 37,
    "start_time": "2021-07-29T09:54:36.139Z"
   },
   {
    "duration": 5162,
    "start_time": "2021-07-29T09:54:36.178Z"
   },
   {
    "duration": 295213,
    "start_time": "2021-07-29T09:54:41.342Z"
   },
   {
    "duration": 724,
    "start_time": "2021-07-29T10:03:07.256Z"
   },
   {
    "duration": 5,
    "start_time": "2021-07-29T10:03:47.967Z"
   },
   {
    "duration": 3512,
    "start_time": "2021-07-29T10:03:54.844Z"
   },
   {
    "duration": 20,
    "start_time": "2021-07-29T10:13:24.647Z"
   },
   {
    "duration": 275,
    "start_time": "2021-07-29T10:14:40.706Z"
   },
   {
    "duration": 17,
    "start_time": "2021-07-29T10:14:51.695Z"
   },
   {
    "duration": 35,
    "start_time": "2021-07-29T10:14:52.406Z"
   },
   {
    "duration": 10093,
    "start_time": "2021-07-29T10:15:45.277Z"
   },
   {
    "duration": 5,
    "start_time": "2021-07-29T10:16:17.093Z"
   },
   {
    "duration": 849,
    "start_time": "2021-07-29T10:16:17.112Z"
   },
   {
    "duration": 4,
    "start_time": "2021-07-29T10:16:17.964Z"
   },
   {
    "duration": 22,
    "start_time": "2021-07-29T10:16:17.971Z"
   },
   {
    "duration": 20,
    "start_time": "2021-07-29T10:16:17.995Z"
   },
   {
    "duration": 12,
    "start_time": "2021-07-29T10:16:18.018Z"
   },
   {
    "duration": 13,
    "start_time": "2021-07-29T10:16:18.035Z"
   },
   {
    "duration": 6,
    "start_time": "2021-07-29T10:16:18.055Z"
   },
   {
    "duration": 438,
    "start_time": "2021-07-29T10:16:18.064Z"
   },
   {
    "duration": 4,
    "start_time": "2021-07-29T10:16:18.508Z"
   },
   {
    "duration": 138,
    "start_time": "2021-07-29T10:16:18.516Z"
   },
   {
    "duration": 4,
    "start_time": "2021-07-29T10:16:18.657Z"
   },
   {
    "duration": 875,
    "start_time": "2021-07-29T10:16:18.664Z"
   },
   {
    "duration": 965,
    "start_time": "2021-07-29T10:16:19.542Z"
   },
   {
    "duration": 864,
    "start_time": "2021-07-29T10:16:20.511Z"
   },
   {
    "duration": 660,
    "start_time": "2021-07-29T10:16:21.377Z"
   },
   {
    "duration": 18,
    "start_time": "2021-07-29T10:16:22.039Z"
   },
   {
    "duration": 868,
    "start_time": "2021-07-29T10:16:22.060Z"
   },
   {
    "duration": 5,
    "start_time": "2021-07-29T10:16:22.930Z"
   },
   {
    "duration": 20,
    "start_time": "2021-07-29T10:16:22.937Z"
   },
   {
    "duration": 23,
    "start_time": "2021-07-29T10:16:22.960Z"
   },
   {
    "duration": 40,
    "start_time": "2021-07-29T10:16:22.986Z"
   },
   {
    "duration": 42,
    "start_time": "2021-07-29T10:16:23.028Z"
   },
   {
    "duration": 5244,
    "start_time": "2021-07-29T10:16:23.073Z"
   },
   {
    "duration": 5149,
    "start_time": "2021-07-29T10:16:28.319Z"
   },
   {
    "duration": 1545,
    "start_time": "2021-07-29T10:17:04.216Z"
   },
   {
    "duration": 849,
    "start_time": "2021-07-29T10:17:05.763Z"
   },
   {
    "duration": 3,
    "start_time": "2021-07-29T10:17:06.616Z"
   },
   {
    "duration": 22,
    "start_time": "2021-07-29T10:17:06.622Z"
   },
   {
    "duration": 19,
    "start_time": "2021-07-29T10:17:06.647Z"
   },
   {
    "duration": 17,
    "start_time": "2021-07-29T10:17:06.668Z"
   },
   {
    "duration": 21,
    "start_time": "2021-07-29T10:17:06.687Z"
   },
   {
    "duration": 9,
    "start_time": "2021-07-29T10:17:06.710Z"
   },
   {
    "duration": 440,
    "start_time": "2021-07-29T10:17:06.723Z"
   },
   {
    "duration": 3,
    "start_time": "2021-07-29T10:17:07.166Z"
   },
   {
    "duration": 135,
    "start_time": "2021-07-29T10:17:07.171Z"
   },
   {
    "duration": 4,
    "start_time": "2021-07-29T10:17:07.308Z"
   },
   {
    "duration": 884,
    "start_time": "2021-07-29T10:17:07.314Z"
   },
   {
    "duration": 831,
    "start_time": "2021-07-29T10:17:08.200Z"
   },
   {
    "duration": 960,
    "start_time": "2021-07-29T10:17:09.034Z"
   },
   {
    "duration": 664,
    "start_time": "2021-07-29T10:17:09.997Z"
   },
   {
    "duration": 7,
    "start_time": "2021-07-29T10:17:10.664Z"
   },
   {
    "duration": 887,
    "start_time": "2021-07-29T10:17:10.674Z"
   },
   {
    "duration": 5,
    "start_time": "2021-07-29T10:17:11.563Z"
   },
   {
    "duration": 18,
    "start_time": "2021-07-29T10:17:11.570Z"
   },
   {
    "duration": 19,
    "start_time": "2021-07-29T10:17:11.591Z"
   },
   {
    "duration": 26,
    "start_time": "2021-07-29T10:17:11.613Z"
   },
   {
    "duration": 54,
    "start_time": "2021-07-29T10:17:11.641Z"
   },
   {
    "duration": 5090,
    "start_time": "2021-07-29T10:17:11.697Z"
   },
   {
    "duration": 5101,
    "start_time": "2021-07-29T10:17:16.790Z"
   },
   {
    "duration": 3,
    "start_time": "2021-07-29T10:17:21.893Z"
   },
   {
    "duration": 3354,
    "start_time": "2021-07-29T10:17:21.900Z"
   },
   {
    "duration": 6,
    "start_time": "2021-07-29T10:19:19.825Z"
   },
   {
    "duration": 875,
    "start_time": "2021-07-29T10:19:19.833Z"
   },
   {
    "duration": 4,
    "start_time": "2021-07-29T10:19:20.711Z"
   },
   {
    "duration": 12,
    "start_time": "2021-07-29T10:19:20.717Z"
   },
   {
    "duration": 12,
    "start_time": "2021-07-29T10:19:20.731Z"
   },
   {
    "duration": 6,
    "start_time": "2021-07-29T10:19:20.754Z"
   },
   {
    "duration": 26,
    "start_time": "2021-07-29T10:19:20.762Z"
   },
   {
    "duration": 19,
    "start_time": "2021-07-29T10:19:20.792Z"
   },
   {
    "duration": 440,
    "start_time": "2021-07-29T10:19:20.814Z"
   },
   {
    "duration": 4,
    "start_time": "2021-07-29T10:19:21.257Z"
   },
   {
    "duration": 130,
    "start_time": "2021-07-29T10:19:21.263Z"
   },
   {
    "duration": 4,
    "start_time": "2021-07-29T10:19:21.395Z"
   },
   {
    "duration": 891,
    "start_time": "2021-07-29T10:19:21.402Z"
   },
   {
    "duration": 933,
    "start_time": "2021-07-29T10:19:22.296Z"
   },
   {
    "duration": 1061,
    "start_time": "2021-07-29T10:19:23.231Z"
   },
   {
    "duration": 664,
    "start_time": "2021-07-29T10:19:24.295Z"
   },
   {
    "duration": 8,
    "start_time": "2021-07-29T10:19:24.961Z"
   },
   {
    "duration": 874,
    "start_time": "2021-07-29T10:19:24.972Z"
   },
   {
    "duration": 9,
    "start_time": "2021-07-29T10:19:25.848Z"
   },
   {
    "duration": 16,
    "start_time": "2021-07-29T10:19:25.859Z"
   },
   {
    "duration": 27,
    "start_time": "2021-07-29T10:19:25.877Z"
   },
   {
    "duration": 35,
    "start_time": "2021-07-29T10:19:25.906Z"
   },
   {
    "duration": 51,
    "start_time": "2021-07-29T10:19:25.946Z"
   },
   {
    "duration": 5190,
    "start_time": "2021-07-29T10:19:25.999Z"
   },
   {
    "duration": 5091,
    "start_time": "2021-07-29T10:19:31.192Z"
   },
   {
    "duration": 3,
    "start_time": "2021-07-29T10:19:36.286Z"
   },
   {
    "duration": 2966,
    "start_time": "2021-07-29T10:19:36.292Z"
   },
   {
    "duration": 4947,
    "start_time": "2021-07-29T10:44:17.595Z"
   },
   {
    "duration": 5137,
    "start_time": "2021-07-29T10:44:24.280Z"
   },
   {
    "duration": 1669,
    "start_time": "2021-07-29T10:44:48.395Z"
   },
   {
    "duration": 1056,
    "start_time": "2021-07-29T10:44:50.068Z"
   },
   {
    "duration": 3,
    "start_time": "2021-07-29T10:44:51.127Z"
   },
   {
    "duration": 21,
    "start_time": "2021-07-29T10:44:51.133Z"
   },
   {
    "duration": 26,
    "start_time": "2021-07-29T10:44:51.157Z"
   },
   {
    "duration": 17,
    "start_time": "2021-07-29T10:44:51.185Z"
   },
   {
    "duration": 9,
    "start_time": "2021-07-29T10:44:51.205Z"
   },
   {
    "duration": 21,
    "start_time": "2021-07-29T10:44:51.218Z"
   },
   {
    "duration": 444,
    "start_time": "2021-07-29T10:44:51.243Z"
   },
   {
    "duration": 5,
    "start_time": "2021-07-29T10:44:51.690Z"
   },
   {
    "duration": 142,
    "start_time": "2021-07-29T10:44:51.698Z"
   },
   {
    "duration": 3,
    "start_time": "2021-07-29T10:44:51.842Z"
   },
   {
    "duration": 1259,
    "start_time": "2021-07-29T10:44:51.848Z"
   },
   {
    "duration": 856,
    "start_time": "2021-07-29T10:44:53.109Z"
   },
   {
    "duration": 1117,
    "start_time": "2021-07-29T10:44:53.968Z"
   },
   {
    "duration": 662,
    "start_time": "2021-07-29T10:44:55.088Z"
   },
   {
    "duration": 8,
    "start_time": "2021-07-29T10:44:55.755Z"
   },
   {
    "duration": 922,
    "start_time": "2021-07-29T10:44:55.766Z"
   },
   {
    "duration": 5,
    "start_time": "2021-07-29T10:44:56.691Z"
   },
   {
    "duration": 23,
    "start_time": "2021-07-29T10:44:56.698Z"
   },
   {
    "duration": 14,
    "start_time": "2021-07-29T10:44:56.726Z"
   },
   {
    "duration": 31,
    "start_time": "2021-07-29T10:44:56.743Z"
   },
   {
    "duration": 51,
    "start_time": "2021-07-29T10:44:56.778Z"
   },
   {
    "duration": 5150,
    "start_time": "2021-07-29T10:44:56.832Z"
   },
   {
    "duration": 5076,
    "start_time": "2021-07-29T10:45:01.985Z"
   },
   {
    "duration": 5,
    "start_time": "2021-07-29T10:45:07.064Z"
   },
   {
    "duration": 4593,
    "start_time": "2021-07-29T10:45:07.072Z"
   },
   {
    "duration": 1614,
    "start_time": "2021-07-29T11:06:53.587Z"
   },
   {
    "duration": 889,
    "start_time": "2021-07-29T11:06:55.204Z"
   },
   {
    "duration": 3,
    "start_time": "2021-07-29T11:06:56.096Z"
   },
   {
    "duration": 8,
    "start_time": "2021-07-29T11:06:56.103Z"
   },
   {
    "duration": 21,
    "start_time": "2021-07-29T11:06:56.114Z"
   },
   {
    "duration": 24,
    "start_time": "2021-07-29T11:06:56.138Z"
   },
   {
    "duration": 13,
    "start_time": "2021-07-29T11:06:56.164Z"
   },
   {
    "duration": 6,
    "start_time": "2021-07-29T11:06:56.181Z"
   },
   {
    "duration": 496,
    "start_time": "2021-07-29T11:06:56.190Z"
   },
   {
    "duration": 4,
    "start_time": "2021-07-29T11:06:56.688Z"
   },
   {
    "duration": 136,
    "start_time": "2021-07-29T11:06:56.694Z"
   },
   {
    "duration": 3,
    "start_time": "2021-07-29T11:06:56.833Z"
   },
   {
    "duration": 931,
    "start_time": "2021-07-29T11:06:56.838Z"
   },
   {
    "duration": 894,
    "start_time": "2021-07-29T11:06:57.771Z"
   },
   {
    "duration": 950,
    "start_time": "2021-07-29T11:06:58.668Z"
   },
   {
    "duration": 716,
    "start_time": "2021-07-29T11:06:59.621Z"
   },
   {
    "duration": 15,
    "start_time": "2021-07-29T11:07:00.340Z"
   },
   {
    "duration": 967,
    "start_time": "2021-07-29T11:07:00.358Z"
   },
   {
    "duration": 4,
    "start_time": "2021-07-29T11:07:01.328Z"
   },
   {
    "duration": 40,
    "start_time": "2021-07-29T11:07:01.334Z"
   },
   {
    "duration": 34,
    "start_time": "2021-07-29T11:07:01.376Z"
   },
   {
    "duration": 52,
    "start_time": "2021-07-29T11:07:01.412Z"
   },
   {
    "duration": 67,
    "start_time": "2021-07-29T11:07:01.468Z"
   },
   {
    "duration": 5030,
    "start_time": "2021-07-29T11:07:01.538Z"
   },
   {
    "duration": 3,
    "start_time": "2021-07-29T11:07:06.570Z"
   },
   {
    "duration": 27,
    "start_time": "2021-07-29T11:07:06.576Z"
   },
   {
    "duration": 3450,
    "start_time": "2021-07-29T11:07:06.606Z"
   },
   {
    "duration": 276274,
    "start_time": "2021-07-29T11:08:02.760Z"
   },
   {
    "duration": 1567,
    "start_time": "2021-07-29T11:49:13.229Z"
   },
   {
    "duration": 864,
    "start_time": "2021-07-29T11:49:14.798Z"
   },
   {
    "duration": 4,
    "start_time": "2021-07-29T11:49:15.665Z"
   },
   {
    "duration": 23,
    "start_time": "2021-07-29T11:49:15.672Z"
   },
   {
    "duration": 22,
    "start_time": "2021-07-29T11:49:15.697Z"
   },
   {
    "duration": 30,
    "start_time": "2021-07-29T11:49:15.722Z"
   },
   {
    "duration": 26,
    "start_time": "2021-07-29T11:49:15.755Z"
   },
   {
    "duration": 23,
    "start_time": "2021-07-29T11:49:15.783Z"
   },
   {
    "duration": 457,
    "start_time": "2021-07-29T11:49:15.810Z"
   },
   {
    "duration": 4,
    "start_time": "2021-07-29T11:49:16.270Z"
   },
   {
    "duration": 135,
    "start_time": "2021-07-29T11:49:16.277Z"
   },
   {
    "duration": 4,
    "start_time": "2021-07-29T11:49:16.414Z"
   },
   {
    "duration": 866,
    "start_time": "2021-07-29T11:49:16.420Z"
   },
   {
    "duration": 848,
    "start_time": "2021-07-29T11:49:17.289Z"
   },
   {
    "duration": 946,
    "start_time": "2021-07-29T11:49:18.140Z"
   },
   {
    "duration": 759,
    "start_time": "2021-07-29T11:49:19.089Z"
   },
   {
    "duration": 8,
    "start_time": "2021-07-29T11:49:19.854Z"
   },
   {
    "duration": 893,
    "start_time": "2021-07-29T11:49:19.864Z"
   },
   {
    "duration": 4,
    "start_time": "2021-07-29T11:49:20.760Z"
   },
   {
    "duration": 33,
    "start_time": "2021-07-29T11:49:20.766Z"
   },
   {
    "duration": 36,
    "start_time": "2021-07-29T11:49:20.801Z"
   },
   {
    "duration": 34,
    "start_time": "2021-07-29T11:49:20.839Z"
   },
   {
    "duration": 113,
    "start_time": "2021-07-29T11:49:20.876Z"
   },
   {
    "duration": -16563,
    "start_time": "2021-07-29T11:49:37.554Z"
   },
   {
    "duration": -16900,
    "start_time": "2021-07-29T11:49:37.892Z"
   },
   {
    "duration": -16934,
    "start_time": "2021-07-29T11:49:37.928Z"
   },
   {
    "duration": -16975,
    "start_time": "2021-07-29T11:49:37.971Z"
   },
   {
    "duration": 22,
    "start_time": "2021-07-29T11:49:58.099Z"
   },
   {
    "duration": 5663,
    "start_time": "2021-07-29T11:50:05.826Z"
   },
   {
    "duration": 5,
    "start_time": "2021-07-29T11:54:22.819Z"
   },
   {
    "duration": 1212,
    "start_time": "2021-07-29T11:54:22.827Z"
   },
   {
    "duration": 12,
    "start_time": "2021-07-29T11:54:24.043Z"
   },
   {
    "duration": 13,
    "start_time": "2021-07-29T11:54:24.058Z"
   },
   {
    "duration": 20,
    "start_time": "2021-07-29T11:54:24.074Z"
   },
   {
    "duration": 30,
    "start_time": "2021-07-29T11:54:24.098Z"
   },
   {
    "duration": 16,
    "start_time": "2021-07-29T11:54:24.131Z"
   },
   {
    "duration": 15,
    "start_time": "2021-07-29T11:54:24.153Z"
   },
   {
    "duration": 465,
    "start_time": "2021-07-29T11:54:24.172Z"
   },
   {
    "duration": 14,
    "start_time": "2021-07-29T11:54:24.640Z"
   },
   {
    "duration": 139,
    "start_time": "2021-07-29T11:54:24.658Z"
   },
   {
    "duration": 3,
    "start_time": "2021-07-29T11:54:24.800Z"
   },
   {
    "duration": 883,
    "start_time": "2021-07-29T11:54:24.806Z"
   },
   {
    "duration": 946,
    "start_time": "2021-07-29T11:54:25.692Z"
   },
   {
    "duration": 881,
    "start_time": "2021-07-29T11:54:26.640Z"
   },
   {
    "duration": 683,
    "start_time": "2021-07-29T11:54:27.523Z"
   },
   {
    "duration": 9,
    "start_time": "2021-07-29T11:54:28.209Z"
   },
   {
    "duration": 906,
    "start_time": "2021-07-29T11:54:28.220Z"
   },
   {
    "duration": 5,
    "start_time": "2021-07-29T11:54:29.129Z"
   },
   {
    "duration": 34,
    "start_time": "2021-07-29T11:54:29.136Z"
   },
   {
    "duration": 34,
    "start_time": "2021-07-29T11:54:29.173Z"
   },
   {
    "duration": 43,
    "start_time": "2021-07-29T11:54:29.209Z"
   },
   {
    "duration": 37,
    "start_time": "2021-07-29T11:54:29.256Z"
   },
   {
    "duration": 5058,
    "start_time": "2021-07-29T11:54:29.296Z"
   },
   {
    "duration": 3,
    "start_time": "2021-07-29T11:54:34.357Z"
   },
   {
    "duration": 315553,
    "start_time": "2021-07-29T11:54:34.362Z"
   },
   {
    "duration": 3940,
    "start_time": "2021-07-29T11:59:49.917Z"
   },
   {
    "duration": 6,
    "start_time": "2021-07-29T12:01:56.617Z"
   },
   {
    "duration": 861,
    "start_time": "2021-07-29T12:01:56.626Z"
   },
   {
    "duration": 4,
    "start_time": "2021-07-29T12:01:57.491Z"
   },
   {
    "duration": 14,
    "start_time": "2021-07-29T12:01:57.498Z"
   },
   {
    "duration": 14,
    "start_time": "2021-07-29T12:01:57.514Z"
   },
   {
    "duration": 26,
    "start_time": "2021-07-29T12:01:57.530Z"
   },
   {
    "duration": 9,
    "start_time": "2021-07-29T12:01:57.558Z"
   },
   {
    "duration": 7,
    "start_time": "2021-07-29T12:01:57.569Z"
   },
   {
    "duration": 450,
    "start_time": "2021-07-29T12:01:57.580Z"
   },
   {
    "duration": 4,
    "start_time": "2021-07-29T12:01:58.034Z"
   },
   {
    "duration": 126,
    "start_time": "2021-07-29T12:01:58.054Z"
   },
   {
    "duration": 3,
    "start_time": "2021-07-29T12:01:58.182Z"
   },
   {
    "duration": 994,
    "start_time": "2021-07-29T12:01:58.188Z"
   },
   {
    "duration": 904,
    "start_time": "2021-07-29T12:01:59.185Z"
   },
   {
    "duration": 883,
    "start_time": "2021-07-29T12:02:00.093Z"
   },
   {
    "duration": 770,
    "start_time": "2021-07-29T12:02:00.980Z"
   },
   {
    "duration": 11,
    "start_time": "2021-07-29T12:02:01.755Z"
   },
   {
    "duration": 1141,
    "start_time": "2021-07-29T12:02:01.769Z"
   },
   {
    "duration": 6,
    "start_time": "2021-07-29T12:02:02.913Z"
   },
   {
    "duration": 11,
    "start_time": "2021-07-29T12:02:02.922Z"
   },
   {
    "duration": 28,
    "start_time": "2021-07-29T12:02:02.936Z"
   },
   {
    "duration": 16,
    "start_time": "2021-07-29T12:02:02.966Z"
   },
   {
    "duration": 31,
    "start_time": "2021-07-29T12:02:02.985Z"
   },
   {
    "duration": 4985,
    "start_time": "2021-07-29T12:02:03.020Z"
   },
   {
    "duration": 3,
    "start_time": "2021-07-29T12:02:08.007Z"
   },
   {
    "duration": 25,
    "start_time": "2021-07-29T12:02:08.013Z"
   },
   {
    "duration": 6020,
    "start_time": "2021-07-29T12:02:08.043Z"
   },
   {
    "duration": 440,
    "start_time": "2021-07-29T12:02:24.231Z"
   },
   {
    "duration": 14,
    "start_time": "2021-07-29T12:02:45.859Z"
   },
   {
    "duration": 29,
    "start_time": "2021-07-29T12:02:46.914Z"
   },
   {
    "duration": 7,
    "start_time": "2021-07-29T12:02:51.386Z"
   },
   {
    "duration": 929,
    "start_time": "2021-07-29T12:02:51.396Z"
   },
   {
    "duration": 4,
    "start_time": "2021-07-29T12:02:52.328Z"
   },
   {
    "duration": 19,
    "start_time": "2021-07-29T12:02:52.335Z"
   },
   {
    "duration": 9,
    "start_time": "2021-07-29T12:02:52.358Z"
   },
   {
    "duration": 10,
    "start_time": "2021-07-29T12:02:52.370Z"
   },
   {
    "duration": 9,
    "start_time": "2021-07-29T12:02:52.383Z"
   },
   {
    "duration": 5,
    "start_time": "2021-07-29T12:02:52.395Z"
   },
   {
    "duration": 477,
    "start_time": "2021-07-29T12:02:52.405Z"
   },
   {
    "duration": 4,
    "start_time": "2021-07-29T12:02:52.885Z"
   },
   {
    "duration": 137,
    "start_time": "2021-07-29T12:02:52.891Z"
   },
   {
    "duration": 4,
    "start_time": "2021-07-29T12:02:53.030Z"
   },
   {
    "duration": 1021,
    "start_time": "2021-07-29T12:02:53.036Z"
   },
   {
    "duration": 1018,
    "start_time": "2021-07-29T12:02:54.059Z"
   },
   {
    "duration": 1607,
    "start_time": "2021-07-29T12:02:55.080Z"
   },
   {
    "duration": 1297,
    "start_time": "2021-07-29T12:02:56.690Z"
   },
   {
    "duration": 11,
    "start_time": "2021-07-29T12:02:57.990Z"
   },
   {
    "duration": 1551,
    "start_time": "2021-07-29T12:02:58.004Z"
   },
   {
    "duration": 9,
    "start_time": "2021-07-29T12:02:59.558Z"
   },
   {
    "duration": 17,
    "start_time": "2021-07-29T12:02:59.570Z"
   },
   {
    "duration": 23,
    "start_time": "2021-07-29T12:02:59.589Z"
   },
   {
    "duration": 24,
    "start_time": "2021-07-29T12:02:59.615Z"
   },
   {
    "duration": 43,
    "start_time": "2021-07-29T12:02:59.642Z"
   },
   {
    "duration": 5168,
    "start_time": "2021-07-29T12:02:59.688Z"
   },
   {
    "duration": 5437,
    "start_time": "2021-07-29T12:03:04.859Z"
   },
   {
    "duration": 4,
    "start_time": "2021-07-29T12:03:10.299Z"
   },
   {
    "duration": 5052,
    "start_time": "2021-07-29T12:03:10.307Z"
   },
   {
    "duration": 5,
    "start_time": "2021-07-29T12:04:07.300Z"
   },
   {
    "duration": 997,
    "start_time": "2021-07-29T12:04:07.307Z"
   },
   {
    "duration": 4,
    "start_time": "2021-07-29T12:04:08.307Z"
   },
   {
    "duration": 22,
    "start_time": "2021-07-29T12:04:08.314Z"
   },
   {
    "duration": 18,
    "start_time": "2021-07-29T12:04:08.338Z"
   },
   {
    "duration": 28,
    "start_time": "2021-07-29T12:04:08.359Z"
   },
   {
    "duration": 23,
    "start_time": "2021-07-29T12:04:08.391Z"
   },
   {
    "duration": 19,
    "start_time": "2021-07-29T12:04:08.417Z"
   },
   {
    "duration": 429,
    "start_time": "2021-07-29T12:04:08.440Z"
   },
   {
    "duration": 4,
    "start_time": "2021-07-29T12:04:08.873Z"
   },
   {
    "duration": 148,
    "start_time": "2021-07-29T12:04:08.880Z"
   },
   {
    "duration": 4,
    "start_time": "2021-07-29T12:04:09.030Z"
   },
   {
    "duration": 930,
    "start_time": "2021-07-29T12:04:09.036Z"
   },
   {
    "duration": 867,
    "start_time": "2021-07-29T12:04:09.969Z"
   },
   {
    "duration": 977,
    "start_time": "2021-07-29T12:04:10.839Z"
   },
   {
    "duration": 824,
    "start_time": "2021-07-29T12:04:11.819Z"
   },
   {
    "duration": 13,
    "start_time": "2021-07-29T12:04:12.646Z"
   },
   {
    "duration": 1164,
    "start_time": "2021-07-29T12:04:12.661Z"
   },
   {
    "duration": 4,
    "start_time": "2021-07-29T12:04:13.828Z"
   },
   {
    "duration": 22,
    "start_time": "2021-07-29T12:04:13.835Z"
   },
   {
    "duration": 13,
    "start_time": "2021-07-29T12:04:13.859Z"
   },
   {
    "duration": 19,
    "start_time": "2021-07-29T12:04:13.876Z"
   },
   {
    "duration": 55,
    "start_time": "2021-07-29T12:04:13.899Z"
   },
   {
    "duration": 5009,
    "start_time": "2021-07-29T12:04:13.957Z"
   },
   {
    "duration": 5041,
    "start_time": "2021-07-29T12:04:18.969Z"
   },
   {
    "duration": 3,
    "start_time": "2021-07-29T12:04:24.012Z"
   },
   {
    "duration": 4151,
    "start_time": "2021-07-29T12:04:24.019Z"
   },
   {
    "duration": 4663,
    "start_time": "2021-07-29T12:04:40.310Z"
   },
   {
    "duration": 5178,
    "start_time": "2021-07-29T12:04:49.114Z"
   },
   {
    "duration": 5865,
    "start_time": "2021-07-29T12:04:58.543Z"
   },
   {
    "duration": 7644,
    "start_time": "2021-07-29T12:05:11.896Z"
   },
   {
    "duration": 11657,
    "start_time": "2021-07-29T12:05:22.785Z"
   },
   {
    "duration": 10603,
    "start_time": "2021-07-29T12:05:38.894Z"
   },
   {
    "duration": 13445,
    "start_time": "2021-07-29T12:05:56.332Z"
   },
   {
    "duration": 12708,
    "start_time": "2021-07-29T12:06:53.718Z"
   },
   {
    "duration": 12820,
    "start_time": "2021-07-29T12:07:11.262Z"
   },
   {
    "duration": 11744,
    "start_time": "2021-07-29T12:07:30.274Z"
   },
   {
    "duration": 280538,
    "start_time": "2021-07-29T12:09:02.866Z"
   },
   {
    "duration": 282643,
    "start_time": "2021-07-29T12:18:40.566Z"
   },
   {
    "duration": 3294,
    "start_time": "2021-07-29T12:26:41.367Z"
   },
   {
    "duration": 335,
    "start_time": "2021-07-29T12:36:07.870Z"
   },
   {
    "duration": 19,
    "start_time": "2021-07-29T12:36:20.971Z"
   },
   {
    "duration": 1153,
    "start_time": "2021-07-30T07:49:41.233Z"
   },
   {
    "duration": 675,
    "start_time": "2021-07-30T07:49:42.388Z"
   },
   {
    "duration": 2,
    "start_time": "2021-07-30T07:49:43.065Z"
   },
   {
    "duration": 11,
    "start_time": "2021-07-30T07:49:43.069Z"
   },
   {
    "duration": 20,
    "start_time": "2021-07-30T07:49:43.081Z"
   },
   {
    "duration": 13,
    "start_time": "2021-07-30T07:49:43.102Z"
   },
   {
    "duration": 10,
    "start_time": "2021-07-30T07:49:43.117Z"
   },
   {
    "duration": 42,
    "start_time": "2021-07-30T07:49:43.128Z"
   },
   {
    "duration": 227,
    "start_time": "2021-07-30T07:49:43.173Z"
   },
   {
    "duration": 2,
    "start_time": "2021-07-30T07:49:43.402Z"
   },
   {
    "duration": 70,
    "start_time": "2021-07-30T07:49:43.406Z"
   },
   {
    "duration": 3,
    "start_time": "2021-07-30T07:49:43.477Z"
   },
   {
    "duration": 485,
    "start_time": "2021-07-30T07:49:43.481Z"
   },
   {
    "duration": 460,
    "start_time": "2021-07-30T07:49:43.967Z"
   },
   {
    "duration": 555,
    "start_time": "2021-07-30T07:49:44.429Z"
   },
   {
    "duration": 373,
    "start_time": "2021-07-30T07:49:44.986Z"
   },
   {
    "duration": 7,
    "start_time": "2021-07-30T07:49:45.361Z"
   },
   {
    "duration": 489,
    "start_time": "2021-07-30T07:49:45.370Z"
   },
   {
    "duration": 2,
    "start_time": "2021-07-30T07:49:45.861Z"
   },
   {
    "duration": 6,
    "start_time": "2021-07-30T07:49:45.865Z"
   },
   {
    "duration": 9,
    "start_time": "2021-07-30T07:49:45.873Z"
   },
   {
    "duration": 22,
    "start_time": "2021-07-30T07:49:45.884Z"
   },
   {
    "duration": 48,
    "start_time": "2021-07-30T07:49:45.908Z"
   },
   {
    "duration": 8214,
    "start_time": "2021-07-30T07:49:45.957Z"
   },
   {
    "duration": 8940,
    "start_time": "2021-07-30T07:49:54.173Z"
   },
   {
    "duration": 2,
    "start_time": "2021-07-30T07:50:03.114Z"
   },
   {
    "duration": 14,
    "start_time": "2021-07-30T07:50:03.120Z"
   },
   {
    "duration": 2511,
    "start_time": "2021-07-30T07:50:03.135Z"
   },
   {
    "duration": 2593,
    "start_time": "2021-07-30T07:50:05.651Z"
   },
   {
    "duration": 420,
    "start_time": "2021-07-30T07:50:08.246Z"
   },
   {
    "duration": 3,
    "start_time": "2021-07-30T07:50:55.955Z"
   },
   {
    "duration": 7,
    "start_time": "2021-07-30T08:20:17.683Z"
   },
   {
    "duration": 13,
    "start_time": "2021-07-30T08:22:35.365Z"
   },
   {
    "duration": 421,
    "start_time": "2021-07-30T08:23:02.024Z"
   },
   {
    "duration": 255,
    "start_time": "2021-07-30T08:23:09.573Z"
   },
   {
    "duration": 3,
    "start_time": "2021-07-30T08:23:18.315Z"
   },
   {
    "duration": 691,
    "start_time": "2021-07-30T08:23:18.325Z"
   },
   {
    "duration": 4,
    "start_time": "2021-07-30T08:23:19.018Z"
   },
   {
    "duration": 17,
    "start_time": "2021-07-30T08:23:19.024Z"
   },
   {
    "duration": 5,
    "start_time": "2021-07-30T08:23:19.043Z"
   },
   {
    "duration": 10,
    "start_time": "2021-07-30T08:23:19.049Z"
   },
   {
    "duration": 5,
    "start_time": "2021-07-30T08:23:19.061Z"
   },
   {
    "duration": 10,
    "start_time": "2021-07-30T08:23:19.068Z"
   },
   {
    "duration": 232,
    "start_time": "2021-07-30T08:23:19.079Z"
   },
   {
    "duration": 3,
    "start_time": "2021-07-30T08:23:19.314Z"
   },
   {
    "duration": 80,
    "start_time": "2021-07-30T08:23:19.319Z"
   },
   {
    "duration": 3,
    "start_time": "2021-07-30T08:23:19.400Z"
   },
   {
    "duration": 483,
    "start_time": "2021-07-30T08:23:19.404Z"
   },
   {
    "duration": 556,
    "start_time": "2021-07-30T08:23:19.888Z"
   },
   {
    "duration": 487,
    "start_time": "2021-07-30T08:23:20.445Z"
   },
   {
    "duration": 374,
    "start_time": "2021-07-30T08:23:20.933Z"
   },
   {
    "duration": 6,
    "start_time": "2021-07-30T08:23:21.309Z"
   },
   {
    "duration": 490,
    "start_time": "2021-07-30T08:23:21.316Z"
   },
   {
    "duration": 3,
    "start_time": "2021-07-30T08:23:21.808Z"
   },
   {
    "duration": 9,
    "start_time": "2021-07-30T08:23:21.812Z"
   },
   {
    "duration": 7,
    "start_time": "2021-07-30T08:23:21.822Z"
   },
   {
    "duration": 16,
    "start_time": "2021-07-30T08:23:21.831Z"
   },
   {
    "duration": 35,
    "start_time": "2021-07-30T08:23:21.848Z"
   },
   {
    "duration": 33,
    "start_time": "2021-07-30T08:23:21.885Z"
   },
   {
    "duration": 8337,
    "start_time": "2021-07-30T08:23:21.920Z"
   },
   {
    "duration": 8838,
    "start_time": "2021-07-30T08:23:30.259Z"
   },
   {
    "duration": 2,
    "start_time": "2021-07-30T08:23:39.099Z"
   },
   {
    "duration": 6,
    "start_time": "2021-07-30T08:23:39.104Z"
   },
   {
    "duration": 2635,
    "start_time": "2021-07-30T08:23:39.112Z"
   },
   {
    "duration": 2796,
    "start_time": "2021-07-30T08:23:41.749Z"
   },
   {
    "duration": 103,
    "start_time": "2021-07-30T08:23:44.548Z"
   },
   {
    "duration": 245,
    "start_time": "2021-07-30T08:23:44.653Z"
   },
   {
    "duration": 251,
    "start_time": "2021-07-30T08:24:57.963Z"
   },
   {
    "duration": 5,
    "start_time": "2021-07-30T08:25:03.061Z"
   },
   {
    "duration": 4,
    "start_time": "2021-07-30T08:27:18.141Z"
   },
   {
    "duration": 666,
    "start_time": "2021-07-30T08:27:18.147Z"
   },
   {
    "duration": 2,
    "start_time": "2021-07-30T08:27:18.815Z"
   },
   {
    "duration": 7,
    "start_time": "2021-07-30T08:27:18.819Z"
   },
   {
    "duration": 12,
    "start_time": "2021-07-30T08:27:18.828Z"
   },
   {
    "duration": 5,
    "start_time": "2021-07-30T08:27:18.842Z"
   },
   {
    "duration": 9,
    "start_time": "2021-07-30T08:27:18.848Z"
   },
   {
    "duration": 6,
    "start_time": "2021-07-30T08:27:18.858Z"
   },
   {
    "duration": 234,
    "start_time": "2021-07-30T08:27:18.867Z"
   },
   {
    "duration": 3,
    "start_time": "2021-07-30T08:27:19.103Z"
   },
   {
    "duration": 82,
    "start_time": "2021-07-30T08:27:19.108Z"
   },
   {
    "duration": 3,
    "start_time": "2021-07-30T08:27:19.191Z"
   },
   {
    "duration": 589,
    "start_time": "2021-07-30T08:27:19.195Z"
   },
   {
    "duration": 494,
    "start_time": "2021-07-30T08:27:19.786Z"
   },
   {
    "duration": 495,
    "start_time": "2021-07-30T08:27:20.282Z"
   },
   {
    "duration": 376,
    "start_time": "2021-07-30T08:27:20.779Z"
   },
   {
    "duration": 6,
    "start_time": "2021-07-30T08:27:21.156Z"
   },
   {
    "duration": 574,
    "start_time": "2021-07-30T08:27:21.163Z"
   },
   {
    "duration": 3,
    "start_time": "2021-07-30T08:27:21.740Z"
   },
   {
    "duration": 16,
    "start_time": "2021-07-30T08:27:21.745Z"
   },
   {
    "duration": 23,
    "start_time": "2021-07-30T08:27:21.762Z"
   },
   {
    "duration": 24,
    "start_time": "2021-07-30T08:27:21.786Z"
   },
   {
    "duration": 31,
    "start_time": "2021-07-30T08:27:21.811Z"
   },
   {
    "duration": 37,
    "start_time": "2021-07-30T08:27:21.844Z"
   },
   {
    "duration": 2,
    "start_time": "2021-07-30T08:27:21.882Z"
   },
   {
    "duration": 8935,
    "start_time": "2021-07-30T08:27:21.885Z"
   },
   {
    "duration": 2,
    "start_time": "2021-07-30T08:27:30.823Z"
   },
   {
    "duration": 13,
    "start_time": "2021-07-30T08:27:30.827Z"
   },
   {
    "duration": 2998,
    "start_time": "2021-07-30T08:27:30.843Z"
   },
   {
    "duration": 2801,
    "start_time": "2021-07-30T08:27:33.843Z"
   },
   {
    "duration": 100,
    "start_time": "2021-07-30T08:27:36.647Z"
   },
   {
    "duration": 93,
    "start_time": "2021-07-30T08:27:36.750Z"
   },
   {
    "duration": 1390,
    "start_time": "2021-07-30T08:27:36.845Z"
   },
   {
    "duration": 243,
    "start_time": "2021-07-30T08:27:38.236Z"
   },
   {
    "duration": 1439,
    "start_time": "2021-07-30T08:27:58.193Z"
   },
   {
    "duration": 7199,
    "start_time": "2021-07-30T08:28:45.971Z"
   },
   {
    "duration": 6920,
    "start_time": "2021-07-30T08:29:37.461Z"
   },
   {
    "duration": 6734,
    "start_time": "2021-07-30T08:32:42.769Z"
   },
   {
    "duration": 5649,
    "start_time": "2021-07-30T08:33:11.969Z"
   },
   {
    "duration": 1375,
    "start_time": "2021-07-30T08:34:20.747Z"
   },
   {
    "duration": 5340,
    "start_time": "2021-07-30T08:34:22.265Z"
   },
   {
    "duration": 1361,
    "start_time": "2021-07-30T08:34:40.529Z"
   },
   {
    "duration": 2818,
    "start_time": "2021-07-30T08:35:35.375Z"
   },
   {
    "duration": 10800,
    "start_time": "2021-07-30T08:36:57.877Z"
   },
   {
    "duration": 3,
    "start_time": "2021-07-30T08:37:23.483Z"
   },
   {
    "duration": 637,
    "start_time": "2021-07-30T08:37:23.488Z"
   },
   {
    "duration": 3,
    "start_time": "2021-07-30T08:37:24.127Z"
   },
   {
    "duration": 7,
    "start_time": "2021-07-30T08:37:24.131Z"
   },
   {
    "duration": 5,
    "start_time": "2021-07-30T08:37:24.141Z"
   },
   {
    "duration": 8,
    "start_time": "2021-07-30T08:37:24.147Z"
   },
   {
    "duration": 4,
    "start_time": "2021-07-30T08:37:24.157Z"
   },
   {
    "duration": 5,
    "start_time": "2021-07-30T08:37:24.163Z"
   },
   {
    "duration": 230,
    "start_time": "2021-07-30T08:37:24.169Z"
   },
   {
    "duration": 2,
    "start_time": "2021-07-30T08:37:24.401Z"
   },
   {
    "duration": 83,
    "start_time": "2021-07-30T08:37:24.405Z"
   },
   {
    "duration": 2,
    "start_time": "2021-07-30T08:37:24.490Z"
   },
   {
    "duration": 470,
    "start_time": "2021-07-30T08:37:24.493Z"
   },
   {
    "duration": 463,
    "start_time": "2021-07-30T08:37:24.964Z"
   },
   {
    "duration": 479,
    "start_time": "2021-07-30T08:37:25.429Z"
   },
   {
    "duration": 474,
    "start_time": "2021-07-30T08:37:25.910Z"
   },
   {
    "duration": 5,
    "start_time": "2021-07-30T08:37:26.386Z"
   },
   {
    "duration": 495,
    "start_time": "2021-07-30T08:37:26.393Z"
   },
   {
    "duration": 2,
    "start_time": "2021-07-30T08:37:26.890Z"
   },
   {
    "duration": 9,
    "start_time": "2021-07-30T08:37:26.894Z"
   },
   {
    "duration": 12,
    "start_time": "2021-07-30T08:37:26.905Z"
   },
   {
    "duration": 11,
    "start_time": "2021-07-30T08:37:26.920Z"
   },
   {
    "duration": 18,
    "start_time": "2021-07-30T08:37:26.933Z"
   },
   {
    "duration": 26,
    "start_time": "2021-07-30T08:37:26.953Z"
   },
   {
    "duration": 2,
    "start_time": "2021-07-30T08:37:26.981Z"
   },
   {
    "duration": 12,
    "start_time": "2021-07-30T08:37:26.984Z"
   },
   {
    "duration": 5,
    "start_time": "2021-07-30T08:37:26.997Z"
   },
   {
    "duration": 12,
    "start_time": "2021-07-30T08:37:27.004Z"
   },
   {
    "duration": 2231,
    "start_time": "2021-07-30T08:37:27.017Z"
   },
   {
    "duration": 2593,
    "start_time": "2021-07-30T08:37:29.250Z"
   },
   {
    "duration": 16,
    "start_time": "2021-07-30T08:37:31.845Z"
   },
   {
    "duration": 2780,
    "start_time": "2021-07-30T08:37:31.863Z"
   },
   {
    "duration": 10699,
    "start_time": "2021-07-30T08:37:34.645Z"
   },
   {
    "duration": 367,
    "start_time": "2021-07-30T08:37:45.346Z"
   },
   {
    "duration": 34096,
    "start_time": "2021-07-30T08:43:58.356Z"
   },
   {
    "duration": 124171,
    "start_time": "2021-07-30T08:45:12.066Z"
   },
   {
    "duration": 6,
    "start_time": "2021-07-30T09:02:21.426Z"
   },
   {
    "duration": 252,
    "start_time": "2021-07-30T09:02:22.075Z"
   },
   {
    "duration": 246,
    "start_time": "2021-07-30T09:02:22.588Z"
   },
   {
    "duration": 8216,
    "start_time": "2021-07-30T09:05:15.596Z"
   },
   {
    "duration": 240,
    "start_time": "2021-07-30T09:06:56.215Z"
   },
   {
    "duration": 255,
    "start_time": "2021-07-30T09:10:50.999Z"
   },
   {
    "duration": 255,
    "start_time": "2021-07-30T09:10:57.955Z"
   },
   {
    "duration": 5,
    "start_time": "2021-07-30T09:11:33.688Z"
   },
   {
    "duration": 287,
    "start_time": "2021-07-30T09:11:58.717Z"
   },
   {
    "duration": 4,
    "start_time": "2021-07-30T09:12:13.597Z"
   },
   {
    "duration": 650,
    "start_time": "2021-07-30T09:12:13.602Z"
   },
   {
    "duration": 2,
    "start_time": "2021-07-30T09:12:14.254Z"
   },
   {
    "duration": 7,
    "start_time": "2021-07-30T09:12:14.258Z"
   },
   {
    "duration": 6,
    "start_time": "2021-07-30T09:12:14.267Z"
   },
   {
    "duration": 14,
    "start_time": "2021-07-30T09:12:14.274Z"
   },
   {
    "duration": 5,
    "start_time": "2021-07-30T09:12:14.289Z"
   },
   {
    "duration": 8,
    "start_time": "2021-07-30T09:12:14.296Z"
   },
   {
    "duration": 4,
    "start_time": "2021-07-30T09:12:14.306Z"
   },
   {
    "duration": 200,
    "start_time": "2021-07-30T09:12:14.312Z"
   },
   {
    "duration": 3,
    "start_time": "2021-07-30T09:12:14.513Z"
   },
   {
    "duration": 73,
    "start_time": "2021-07-30T09:12:14.518Z"
   },
   {
    "duration": 3,
    "start_time": "2021-07-30T09:12:14.592Z"
   },
   {
    "duration": 488,
    "start_time": "2021-07-30T09:12:14.596Z"
   },
   {
    "duration": 491,
    "start_time": "2021-07-30T09:12:15.086Z"
   },
   {
    "duration": 584,
    "start_time": "2021-07-30T09:12:15.579Z"
   },
   {
    "duration": 367,
    "start_time": "2021-07-30T09:12:16.165Z"
   },
   {
    "duration": 11,
    "start_time": "2021-07-30T09:12:16.534Z"
   },
   {
    "duration": 498,
    "start_time": "2021-07-30T09:12:16.547Z"
   },
   {
    "duration": 4,
    "start_time": "2021-07-30T09:12:17.047Z"
   },
   {
    "duration": 22,
    "start_time": "2021-07-30T09:12:17.052Z"
   },
   {
    "duration": 14,
    "start_time": "2021-07-30T09:12:17.076Z"
   },
   {
    "duration": 24,
    "start_time": "2021-07-30T09:12:17.093Z"
   },
   {
    "duration": 264,
    "start_time": "2021-07-30T09:12:17.119Z"
   },
   {
    "duration": -232,
    "start_time": "2021-07-30T09:12:17.617Z"
   },
   {
    "duration": -238,
    "start_time": "2021-07-30T09:12:17.624Z"
   },
   {
    "duration": -243,
    "start_time": "2021-07-30T09:12:17.630Z"
   },
   {
    "duration": -246,
    "start_time": "2021-07-30T09:12:17.634Z"
   },
   {
    "duration": -251,
    "start_time": "2021-07-30T09:12:17.639Z"
   },
   {
    "duration": -256,
    "start_time": "2021-07-30T09:12:17.645Z"
   },
   {
    "duration": -260,
    "start_time": "2021-07-30T09:12:17.650Z"
   },
   {
    "duration": -263,
    "start_time": "2021-07-30T09:12:17.654Z"
   },
   {
    "duration": -269,
    "start_time": "2021-07-30T09:12:17.661Z"
   },
   {
    "duration": -290,
    "start_time": "2021-07-30T09:12:17.683Z"
   },
   {
    "duration": -295,
    "start_time": "2021-07-30T09:12:17.689Z"
   },
   {
    "duration": -298,
    "start_time": "2021-07-30T09:12:17.693Z"
   },
   {
    "duration": -302,
    "start_time": "2021-07-30T09:12:17.698Z"
   },
   {
    "duration": -307,
    "start_time": "2021-07-30T09:12:17.703Z"
   },
   {
    "duration": -311,
    "start_time": "2021-07-30T09:12:17.708Z"
   },
   {
    "duration": 4,
    "start_time": "2021-07-30T09:16:09.946Z"
   },
   {
    "duration": 657,
    "start_time": "2021-07-30T09:16:09.952Z"
   },
   {
    "duration": 2,
    "start_time": "2021-07-30T09:16:10.611Z"
   },
   {
    "duration": 9,
    "start_time": "2021-07-30T09:16:10.615Z"
   },
   {
    "duration": 6,
    "start_time": "2021-07-30T09:16:10.625Z"
   },
   {
    "duration": 12,
    "start_time": "2021-07-30T09:16:10.632Z"
   },
   {
    "duration": 7,
    "start_time": "2021-07-30T09:16:10.646Z"
   },
   {
    "duration": 7,
    "start_time": "2021-07-30T09:16:10.656Z"
   },
   {
    "duration": 9,
    "start_time": "2021-07-30T09:16:10.665Z"
   },
   {
    "duration": 190,
    "start_time": "2021-07-30T09:16:10.676Z"
   },
   {
    "duration": 3,
    "start_time": "2021-07-30T09:16:10.867Z"
   },
   {
    "duration": 70,
    "start_time": "2021-07-30T09:16:10.871Z"
   },
   {
    "duration": 2,
    "start_time": "2021-07-30T09:16:10.942Z"
   },
   {
    "duration": 472,
    "start_time": "2021-07-30T09:16:10.946Z"
   },
   {
    "duration": 550,
    "start_time": "2021-07-30T09:16:11.419Z"
   },
   {
    "duration": 483,
    "start_time": "2021-07-30T09:16:11.971Z"
   },
   {
    "duration": 369,
    "start_time": "2021-07-30T09:16:12.456Z"
   },
   {
    "duration": 14,
    "start_time": "2021-07-30T09:16:12.827Z"
   },
   {
    "duration": 474,
    "start_time": "2021-07-30T09:16:12.843Z"
   },
   {
    "duration": 3,
    "start_time": "2021-07-30T09:16:13.318Z"
   },
   {
    "duration": 6,
    "start_time": "2021-07-30T09:16:13.322Z"
   },
   {
    "duration": 12,
    "start_time": "2021-07-30T09:16:13.329Z"
   },
   {
    "duration": 10,
    "start_time": "2021-07-30T09:16:13.343Z"
   },
   {
    "duration": 6,
    "start_time": "2021-07-30T09:16:13.355Z"
   },
   {
    "duration": 7,
    "start_time": "2021-07-30T09:16:13.362Z"
   },
   {
    "duration": 8,
    "start_time": "2021-07-30T09:16:13.370Z"
   },
   {
    "duration": 4,
    "start_time": "2021-07-30T09:16:13.380Z"
   },
   {
    "duration": 5,
    "start_time": "2021-07-30T09:16:13.386Z"
   },
   {
    "duration": 7,
    "start_time": "2021-07-30T09:16:13.392Z"
   },
   {
    "duration": 5,
    "start_time": "2021-07-30T09:16:13.400Z"
   },
   {
    "duration": 5,
    "start_time": "2021-07-30T09:16:13.407Z"
   },
   {
    "duration": 278,
    "start_time": "2021-07-30T09:16:32.016Z"
   },
   {
    "duration": 7,
    "start_time": "2021-07-30T09:17:39.893Z"
   },
   {
    "duration": 4,
    "start_time": "2021-07-30T09:17:57.428Z"
   },
   {
    "duration": 4134,
    "start_time": "2021-07-30T09:23:18.026Z"
   },
   {
    "duration": 8890,
    "start_time": "2021-07-30T09:26:19.898Z"
   },
   {
    "duration": 252,
    "start_time": "2021-07-30T09:27:42.798Z"
   },
   {
    "duration": 297,
    "start_time": "2021-07-30T09:28:10.404Z"
   },
   {
    "duration": 4,
    "start_time": "2021-07-30T09:28:17.538Z"
   },
   {
    "duration": 4,
    "start_time": "2021-07-30T09:28:23.475Z"
   },
   {
    "duration": 243,
    "start_time": "2021-07-30T09:29:50.529Z"
   },
   {
    "duration": 7,
    "start_time": "2021-07-30T09:29:54.451Z"
   },
   {
    "duration": 357,
    "start_time": "2021-07-30T09:30:21.970Z"
   },
   {
    "duration": 6,
    "start_time": "2021-07-30T09:31:15.701Z"
   },
   {
    "duration": 273,
    "start_time": "2021-07-30T09:31:28.250Z"
   },
   {
    "duration": 15,
    "start_time": "2021-07-30T09:32:17.491Z"
   },
   {
    "duration": 250,
    "start_time": "2021-07-30T09:32:39.710Z"
   },
   {
    "duration": 248,
    "start_time": "2021-07-30T09:33:11.140Z"
   },
   {
    "duration": 393,
    "start_time": "2021-07-30T09:33:20.920Z"
   },
   {
    "duration": 259,
    "start_time": "2021-07-30T09:47:53.817Z"
   },
   {
    "duration": 239,
    "start_time": "2021-07-30T09:48:47.137Z"
   },
   {
    "duration": 249,
    "start_time": "2021-07-30T09:51:13.740Z"
   },
   {
    "duration": 4,
    "start_time": "2021-07-30T09:51:33.694Z"
   },
   {
    "duration": 10,
    "start_time": "2021-07-30T09:51:33.699Z"
   },
   {
    "duration": 656,
    "start_time": "2021-07-30T09:51:33.789Z"
   },
   {
    "duration": 3,
    "start_time": "2021-07-30T09:51:34.447Z"
   },
   {
    "duration": 6,
    "start_time": "2021-07-30T09:51:34.452Z"
   },
   {
    "duration": 6,
    "start_time": "2021-07-30T09:51:34.460Z"
   },
   {
    "duration": 7,
    "start_time": "2021-07-30T09:51:34.467Z"
   },
   {
    "duration": 5,
    "start_time": "2021-07-30T09:51:34.475Z"
   },
   {
    "duration": 8,
    "start_time": "2021-07-30T09:51:34.481Z"
   },
   {
    "duration": 7,
    "start_time": "2021-07-30T09:51:34.491Z"
   },
   {
    "duration": 209,
    "start_time": "2021-07-30T09:51:34.501Z"
   },
   {
    "duration": 3,
    "start_time": "2021-07-30T09:51:34.712Z"
   },
   {
    "duration": 78,
    "start_time": "2021-07-30T09:51:34.716Z"
   },
   {
    "duration": 2,
    "start_time": "2021-07-30T09:51:34.796Z"
   },
   {
    "duration": 517,
    "start_time": "2021-07-30T09:51:34.800Z"
   },
   {
    "duration": 490,
    "start_time": "2021-07-30T09:51:35.319Z"
   },
   {
    "duration": 510,
    "start_time": "2021-07-30T09:51:35.811Z"
   },
   {
    "duration": 396,
    "start_time": "2021-07-30T09:51:36.323Z"
   },
   {
    "duration": 5,
    "start_time": "2021-07-30T09:51:36.720Z"
   },
   {
    "duration": 834,
    "start_time": "2021-07-30T09:51:36.727Z"
   },
   {
    "duration": 4,
    "start_time": "2021-07-30T09:51:37.564Z"
   },
   {
    "duration": 6,
    "start_time": "2021-07-30T09:51:37.569Z"
   },
   {
    "duration": 6,
    "start_time": "2021-07-30T09:51:37.576Z"
   },
   {
    "duration": 7,
    "start_time": "2021-07-30T09:51:37.584Z"
   },
   {
    "duration": 59,
    "start_time": "2021-07-30T09:51:37.593Z"
   },
   {
    "duration": 12,
    "start_time": "2021-07-30T09:51:37.654Z"
   },
   {
    "duration": 9,
    "start_time": "2021-07-30T09:51:37.668Z"
   },
   {
    "duration": 254,
    "start_time": "2021-07-30T09:51:37.678Z"
   },
   {
    "duration": -82,
    "start_time": "2021-07-30T09:51:38.016Z"
   },
   {
    "duration": -85,
    "start_time": "2021-07-30T09:51:38.020Z"
   },
   {
    "duration": -90,
    "start_time": "2021-07-30T09:51:38.026Z"
   },
   {
    "duration": -93,
    "start_time": "2021-07-30T09:51:38.030Z"
   },
   {
    "duration": -159,
    "start_time": "2021-07-30T09:51:38.097Z"
   },
   {
    "duration": -163,
    "start_time": "2021-07-30T09:51:38.102Z"
   },
   {
    "duration": -172,
    "start_time": "2021-07-30T09:51:38.112Z"
   },
   {
    "duration": -179,
    "start_time": "2021-07-30T09:51:38.120Z"
   },
   {
    "duration": -183,
    "start_time": "2021-07-30T09:51:38.125Z"
   },
   {
    "duration": -184,
    "start_time": "2021-07-30T09:51:38.128Z"
   },
   {
    "duration": 3,
    "start_time": "2021-07-30T09:52:03.437Z"
   },
   {
    "duration": 4,
    "start_time": "2021-07-30T09:52:35.988Z"
   },
   {
    "duration": 82,
    "start_time": "2021-07-30T09:55:40.567Z"
   },
   {
    "duration": 290,
    "start_time": "2021-07-30T10:00:10.725Z"
   },
   {
    "duration": 1750,
    "start_time": "2021-07-30T10:00:24.253Z"
   },
   {
    "duration": 268,
    "start_time": "2021-07-30T10:02:03.361Z"
   },
   {
    "duration": 4,
    "start_time": "2021-07-30T10:02:22.075Z"
   },
   {
    "duration": 9,
    "start_time": "2021-07-30T10:02:22.084Z"
   },
   {
    "duration": 648,
    "start_time": "2021-07-30T10:02:22.154Z"
   },
   {
    "duration": 3,
    "start_time": "2021-07-30T10:02:22.803Z"
   },
   {
    "duration": 6,
    "start_time": "2021-07-30T10:02:22.808Z"
   },
   {
    "duration": 6,
    "start_time": "2021-07-30T10:02:22.816Z"
   },
   {
    "duration": 20,
    "start_time": "2021-07-30T10:02:22.823Z"
   },
   {
    "duration": 8,
    "start_time": "2021-07-30T10:02:22.844Z"
   },
   {
    "duration": 9,
    "start_time": "2021-07-30T10:02:22.855Z"
   },
   {
    "duration": 9,
    "start_time": "2021-07-30T10:02:22.866Z"
   },
   {
    "duration": 4,
    "start_time": "2021-07-30T10:02:22.878Z"
   },
   {
    "duration": 222,
    "start_time": "2021-07-30T10:02:22.884Z"
   },
   {
    "duration": 3,
    "start_time": "2021-07-30T10:02:23.107Z"
   },
   {
    "duration": 76,
    "start_time": "2021-07-30T10:02:23.111Z"
   },
   {
    "duration": 2,
    "start_time": "2021-07-30T10:02:23.189Z"
   },
   {
    "duration": 520,
    "start_time": "2021-07-30T10:02:23.192Z"
   },
   {
    "duration": 506,
    "start_time": "2021-07-30T10:02:23.714Z"
   },
   {
    "duration": 517,
    "start_time": "2021-07-30T10:02:24.222Z"
   },
   {
    "duration": 487,
    "start_time": "2021-07-30T10:02:24.741Z"
   },
   {
    "duration": 14,
    "start_time": "2021-07-30T10:02:25.229Z"
   },
   {
    "duration": 527,
    "start_time": "2021-07-30T10:02:25.245Z"
   },
   {
    "duration": 3,
    "start_time": "2021-07-30T10:02:25.774Z"
   },
   {
    "duration": 5,
    "start_time": "2021-07-30T10:02:25.779Z"
   },
   {
    "duration": 277,
    "start_time": "2021-07-30T10:02:25.786Z"
   },
   {
    "duration": -484,
    "start_time": "2021-07-30T10:02:26.549Z"
   },
   {
    "duration": -492,
    "start_time": "2021-07-30T10:02:26.558Z"
   },
   {
    "duration": -497,
    "start_time": "2021-07-30T10:02:26.564Z"
   },
   {
    "duration": -500,
    "start_time": "2021-07-30T10:02:26.568Z"
   },
   {
    "duration": -506,
    "start_time": "2021-07-30T10:02:26.575Z"
   },
   {
    "duration": -511,
    "start_time": "2021-07-30T10:02:26.580Z"
   },
   {
    "duration": -515,
    "start_time": "2021-07-30T10:02:26.585Z"
   },
   {
    "duration": -521,
    "start_time": "2021-07-30T10:02:26.592Z"
   },
   {
    "duration": -550,
    "start_time": "2021-07-30T10:02:26.622Z"
   },
   {
    "duration": -557,
    "start_time": "2021-07-30T10:02:26.630Z"
   },
   {
    "duration": -560,
    "start_time": "2021-07-30T10:02:26.634Z"
   },
   {
    "duration": -565,
    "start_time": "2021-07-30T10:02:26.640Z"
   },
   {
    "duration": -567,
    "start_time": "2021-07-30T10:02:26.643Z"
   },
   {
    "duration": -572,
    "start_time": "2021-07-30T10:02:26.649Z"
   },
   {
    "duration": -577,
    "start_time": "2021-07-30T10:02:26.655Z"
   },
   {
    "duration": 315,
    "start_time": "2021-07-30T10:03:00.101Z"
   },
   {
    "duration": 262,
    "start_time": "2021-07-30T10:05:06.150Z"
   },
   {
    "duration": 4,
    "start_time": "2021-07-30T10:05:14.425Z"
   },
   {
    "duration": 9,
    "start_time": "2021-07-30T10:05:14.431Z"
   },
   {
    "duration": 697,
    "start_time": "2021-07-30T10:05:14.513Z"
   },
   {
    "duration": 3,
    "start_time": "2021-07-30T10:05:15.212Z"
   },
   {
    "duration": 6,
    "start_time": "2021-07-30T10:05:15.216Z"
   },
   {
    "duration": 6,
    "start_time": "2021-07-30T10:05:15.223Z"
   },
   {
    "duration": 13,
    "start_time": "2021-07-30T10:05:15.231Z"
   },
   {
    "duration": 10,
    "start_time": "2021-07-30T10:05:15.246Z"
   },
   {
    "duration": 7,
    "start_time": "2021-07-30T10:05:15.258Z"
   },
   {
    "duration": 8,
    "start_time": "2021-07-30T10:05:15.267Z"
   },
   {
    "duration": 5,
    "start_time": "2021-07-30T10:05:15.279Z"
   },
   {
    "duration": 215,
    "start_time": "2021-07-30T10:05:15.286Z"
   },
   {
    "duration": 3,
    "start_time": "2021-07-30T10:05:15.503Z"
   },
   {
    "duration": 86,
    "start_time": "2021-07-30T10:05:15.508Z"
   },
   {
    "duration": 2,
    "start_time": "2021-07-30T10:05:15.596Z"
   },
   {
    "duration": 553,
    "start_time": "2021-07-30T10:05:15.600Z"
   },
   {
    "duration": 536,
    "start_time": "2021-07-30T10:05:16.154Z"
   },
   {
    "duration": 911,
    "start_time": "2021-07-30T10:05:16.692Z"
   },
   {
    "duration": 420,
    "start_time": "2021-07-30T10:05:17.604Z"
   },
   {
    "duration": 20,
    "start_time": "2021-07-30T10:05:18.026Z"
   },
   {
    "duration": 532,
    "start_time": "2021-07-30T10:05:18.048Z"
   },
   {
    "duration": 4,
    "start_time": "2021-07-30T10:05:18.582Z"
   },
   {
    "duration": 12,
    "start_time": "2021-07-30T10:05:18.588Z"
   },
   {
    "duration": 5,
    "start_time": "2021-07-30T10:05:18.602Z"
   },
   {
    "duration": 15,
    "start_time": "2021-07-30T10:05:18.608Z"
   },
   {
    "duration": 22,
    "start_time": "2021-07-30T10:05:18.625Z"
   },
   {
    "duration": 6,
    "start_time": "2021-07-30T10:05:18.649Z"
   },
   {
    "duration": 20,
    "start_time": "2021-07-30T10:05:18.656Z"
   },
   {
    "duration": 4467,
    "start_time": "2021-07-30T10:05:18.679Z"
   },
   {
    "duration": 277,
    "start_time": "2021-07-30T10:05:23.148Z"
   },
   {
    "duration": 1,
    "start_time": "2021-07-30T10:05:23.426Z"
   },
   {
    "duration": -4,
    "start_time": "2021-07-30T10:05:23.432Z"
   },
   {
    "duration": -9,
    "start_time": "2021-07-30T10:05:23.438Z"
   },
   {
    "duration": -21,
    "start_time": "2021-07-30T10:05:23.451Z"
   },
   {
    "duration": -34,
    "start_time": "2021-07-30T10:05:23.464Z"
   },
   {
    "duration": -39,
    "start_time": "2021-07-30T10:05:23.470Z"
   },
   {
    "duration": -56,
    "start_time": "2021-07-30T10:05:23.488Z"
   },
   {
    "duration": -68,
    "start_time": "2021-07-30T10:05:23.502Z"
   },
   {
    "duration": 251,
    "start_time": "2021-07-30T10:06:05.542Z"
   },
   {
    "duration": 4,
    "start_time": "2021-07-30T10:06:08.959Z"
   },
   {
    "duration": 23,
    "start_time": "2021-07-30T10:06:08.965Z"
   },
   {
    "duration": 654,
    "start_time": "2021-07-30T10:06:09.040Z"
   },
   {
    "duration": 3,
    "start_time": "2021-07-30T10:06:09.695Z"
   },
   {
    "duration": 20,
    "start_time": "2021-07-30T10:06:09.700Z"
   },
   {
    "duration": 19,
    "start_time": "2021-07-30T10:06:09.722Z"
   },
   {
    "duration": 17,
    "start_time": "2021-07-30T10:06:09.743Z"
   },
   {
    "duration": 13,
    "start_time": "2021-07-30T10:06:09.762Z"
   },
   {
    "duration": 21,
    "start_time": "2021-07-30T10:06:09.776Z"
   },
   {
    "duration": 25,
    "start_time": "2021-07-30T10:06:09.799Z"
   },
   {
    "duration": 18,
    "start_time": "2021-07-30T10:06:09.827Z"
   },
   {
    "duration": 202,
    "start_time": "2021-07-30T10:06:09.847Z"
   },
   {
    "duration": 3,
    "start_time": "2021-07-30T10:06:10.051Z"
   },
   {
    "duration": 78,
    "start_time": "2021-07-30T10:06:10.056Z"
   },
   {
    "duration": 3,
    "start_time": "2021-07-30T10:06:10.135Z"
   },
   {
    "duration": 490,
    "start_time": "2021-07-30T10:06:10.141Z"
   },
   {
    "duration": 647,
    "start_time": "2021-07-30T10:06:10.632Z"
   },
   {
    "duration": 601,
    "start_time": "2021-07-30T10:06:11.280Z"
   },
   {
    "duration": 363,
    "start_time": "2021-07-30T10:06:11.883Z"
   },
   {
    "duration": 5,
    "start_time": "2021-07-30T10:06:12.248Z"
   },
   {
    "duration": 490,
    "start_time": "2021-07-30T10:06:12.255Z"
   },
   {
    "duration": 3,
    "start_time": "2021-07-30T10:06:12.746Z"
   },
   {
    "duration": 21,
    "start_time": "2021-07-30T10:06:12.751Z"
   },
   {
    "duration": 9,
    "start_time": "2021-07-30T10:06:12.774Z"
   },
   {
    "duration": 29,
    "start_time": "2021-07-30T10:06:12.784Z"
   },
   {
    "duration": 26,
    "start_time": "2021-07-30T10:06:12.814Z"
   },
   {
    "duration": 17,
    "start_time": "2021-07-30T10:06:12.842Z"
   },
   {
    "duration": 250,
    "start_time": "2021-07-30T10:06:12.861Z"
   },
   {
    "duration": 109,
    "start_time": "2021-07-30T10:06:13.089Z"
   },
   {
    "duration": 97,
    "start_time": "2021-07-30T10:06:13.102Z"
   },
   {
    "duration": 79,
    "start_time": "2021-07-30T10:06:13.121Z"
   },
   {
    "duration": 76,
    "start_time": "2021-07-30T10:06:13.125Z"
   },
   {
    "duration": 73,
    "start_time": "2021-07-30T10:06:13.129Z"
   },
   {
    "duration": 70,
    "start_time": "2021-07-30T10:06:13.133Z"
   },
   {
    "duration": 65,
    "start_time": "2021-07-30T10:06:13.139Z"
   },
   {
    "duration": 63,
    "start_time": "2021-07-30T10:06:13.142Z"
   },
   {
    "duration": 58,
    "start_time": "2021-07-30T10:06:13.148Z"
   },
   {
    "duration": 55,
    "start_time": "2021-07-30T10:06:13.152Z"
   },
   {
    "duration": 3,
    "start_time": "2021-07-30T10:07:27.203Z"
   },
   {
    "duration": 4286,
    "start_time": "2021-07-30T10:08:53.605Z"
   },
   {
    "duration": 334,
    "start_time": "2021-07-30T10:09:02.552Z"
   },
   {
    "duration": 266,
    "start_time": "2021-07-30T10:09:09.792Z"
   },
   {
    "duration": 4,
    "start_time": "2021-07-30T10:09:18.220Z"
   },
   {
    "duration": 6092,
    "start_time": "2021-07-30T10:10:28.149Z"
   },
   {
    "duration": 4296,
    "start_time": "2021-07-30T10:10:39.165Z"
   },
   {
    "duration": 257,
    "start_time": "2021-07-30T10:12:17.165Z"
   },
   {
    "duration": 7,
    "start_time": "2021-07-30T10:12:27.945Z"
   },
   {
    "duration": 94479,
    "start_time": "2021-07-30T10:16:44.187Z"
   },
   {
    "duration": 1737,
    "start_time": "2021-07-30T10:39:24.874Z"
   },
   {
    "duration": 5849,
    "start_time": "2021-07-30T10:39:37.122Z"
   },
   {
    "duration": 6220,
    "start_time": "2021-07-30T10:39:48.740Z"
   },
   {
    "duration": 5627,
    "start_time": "2021-07-30T10:40:18.540Z"
   },
   {
    "duration": 1730,
    "start_time": "2021-07-30T10:41:28.113Z"
   },
   {
    "duration": 253,
    "start_time": "2021-07-30T10:44:10.054Z"
   },
   {
    "duration": 280,
    "start_time": "2021-07-30T10:44:12.862Z"
   },
   {
    "duration": 9,
    "start_time": "2021-07-30T10:44:24.494Z"
   },
   {
    "duration": 11,
    "start_time": "2021-07-30T10:44:48.551Z"
   },
   {
    "duration": 5143,
    "start_time": "2021-07-30T10:45:00.755Z"
   },
   {
    "duration": 95480,
    "start_time": "2021-07-30T10:45:12.607Z"
   },
   {
    "duration": 1470,
    "start_time": "2021-07-30T10:46:48.089Z"
   },
   {
    "duration": 4500,
    "start_time": "2021-07-30T10:48:00.872Z"
   },
   {
    "duration": -128,
    "start_time": "2021-07-30T10:48:05.502Z"
   },
   {
    "duration": 4,
    "start_time": "2021-07-30T10:48:26.655Z"
   },
   {
    "duration": 23,
    "start_time": "2021-07-30T10:48:26.661Z"
   },
   {
    "duration": 704,
    "start_time": "2021-07-30T10:48:26.686Z"
   },
   {
    "duration": 2,
    "start_time": "2021-07-30T10:48:27.392Z"
   },
   {
    "duration": 21,
    "start_time": "2021-07-30T10:48:27.396Z"
   },
   {
    "duration": 7,
    "start_time": "2021-07-30T10:48:27.419Z"
   },
   {
    "duration": 24,
    "start_time": "2021-07-30T10:48:27.428Z"
   },
   {
    "duration": 8,
    "start_time": "2021-07-30T10:48:27.455Z"
   },
   {
    "duration": 14,
    "start_time": "2021-07-30T10:48:27.466Z"
   },
   {
    "duration": 11,
    "start_time": "2021-07-30T10:48:27.482Z"
   },
   {
    "duration": 18,
    "start_time": "2021-07-30T10:48:27.495Z"
   },
   {
    "duration": 217,
    "start_time": "2021-07-30T10:48:27.514Z"
   },
   {
    "duration": 4,
    "start_time": "2021-07-30T10:48:27.741Z"
   },
   {
    "duration": 74,
    "start_time": "2021-07-30T10:48:27.747Z"
   },
   {
    "duration": 3,
    "start_time": "2021-07-30T10:48:27.822Z"
   },
   {
    "duration": 528,
    "start_time": "2021-07-30T10:48:27.827Z"
   },
   {
    "duration": 524,
    "start_time": "2021-07-30T10:48:28.358Z"
   },
   {
    "duration": 639,
    "start_time": "2021-07-30T10:48:28.884Z"
   },
   {
    "duration": 386,
    "start_time": "2021-07-30T10:48:29.525Z"
   },
   {
    "duration": 6,
    "start_time": "2021-07-30T10:48:29.913Z"
   },
   {
    "duration": 700,
    "start_time": "2021-07-30T10:48:29.921Z"
   },
   {
    "duration": 2,
    "start_time": "2021-07-30T10:48:30.623Z"
   },
   {
    "duration": 12,
    "start_time": "2021-07-30T10:48:30.629Z"
   },
   {
    "duration": 16,
    "start_time": "2021-07-30T10:48:30.643Z"
   },
   {
    "duration": 19,
    "start_time": "2021-07-30T10:48:30.660Z"
   },
   {
    "duration": 5231,
    "start_time": "2021-07-30T10:48:30.681Z"
   },
   {
    "duration": -462,
    "start_time": "2021-07-30T10:48:36.376Z"
   },
   {
    "duration": -467,
    "start_time": "2021-07-30T10:48:36.382Z"
   },
   {
    "duration": -473,
    "start_time": "2021-07-30T10:48:36.389Z"
   },
   {
    "duration": -477,
    "start_time": "2021-07-30T10:48:36.394Z"
   },
   {
    "duration": -480,
    "start_time": "2021-07-30T10:48:36.398Z"
   },
   {
    "duration": -484,
    "start_time": "2021-07-30T10:48:36.403Z"
   },
   {
    "duration": -486,
    "start_time": "2021-07-30T10:48:36.406Z"
   },
   {
    "duration": -491,
    "start_time": "2021-07-30T10:48:36.412Z"
   },
   {
    "duration": -494,
    "start_time": "2021-07-30T10:48:36.416Z"
   },
   {
    "duration": -498,
    "start_time": "2021-07-30T10:48:36.421Z"
   },
   {
    "duration": -501,
    "start_time": "2021-07-30T10:48:36.425Z"
   },
   {
    "duration": -505,
    "start_time": "2021-07-30T10:48:36.430Z"
   },
   {
    "duration": -508,
    "start_time": "2021-07-30T10:48:36.434Z"
   },
   {
    "duration": -512,
    "start_time": "2021-07-30T10:48:36.439Z"
   },
   {
    "duration": 8,
    "start_time": "2021-07-30T10:49:29.039Z"
   },
   {
    "duration": 15044,
    "start_time": "2021-07-30T10:52:11.521Z"
   },
   {
    "duration": 16028,
    "start_time": "2021-07-30T10:55:01.049Z"
   },
   {
    "duration": 15403,
    "start_time": "2021-07-30T10:58:52.457Z"
   },
   {
    "duration": 15624,
    "start_time": "2021-07-30T10:59:16.227Z"
   },
   {
    "duration": 15395,
    "start_time": "2021-07-30T10:59:43.426Z"
   },
   {
    "duration": 3,
    "start_time": "2021-07-30T11:00:16.054Z"
   },
   {
    "duration": 4,
    "start_time": "2021-07-30T11:00:16.065Z"
   },
   {
    "duration": 687,
    "start_time": "2021-07-30T11:00:16.071Z"
   },
   {
    "duration": 3,
    "start_time": "2021-07-30T11:00:16.759Z"
   },
   {
    "duration": 6,
    "start_time": "2021-07-30T11:00:16.764Z"
   },
   {
    "duration": 7,
    "start_time": "2021-07-30T11:00:16.771Z"
   },
   {
    "duration": 7,
    "start_time": "2021-07-30T11:00:16.780Z"
   },
   {
    "duration": 5,
    "start_time": "2021-07-30T11:00:16.789Z"
   },
   {
    "duration": 8,
    "start_time": "2021-07-30T11:00:16.796Z"
   },
   {
    "duration": 8,
    "start_time": "2021-07-30T11:00:16.806Z"
   },
   {
    "duration": 26,
    "start_time": "2021-07-30T11:00:16.815Z"
   },
   {
    "duration": 184,
    "start_time": "2021-07-30T11:00:16.843Z"
   },
   {
    "duration": 12,
    "start_time": "2021-07-30T11:00:17.029Z"
   },
   {
    "duration": 60,
    "start_time": "2021-07-30T11:00:17.043Z"
   },
   {
    "duration": 3,
    "start_time": "2021-07-30T11:00:17.104Z"
   },
   {
    "duration": 488,
    "start_time": "2021-07-30T11:00:17.108Z"
   },
   {
    "duration": 466,
    "start_time": "2021-07-30T11:00:17.598Z"
   },
   {
    "duration": 562,
    "start_time": "2021-07-30T11:00:18.065Z"
   },
   {
    "duration": 388,
    "start_time": "2021-07-30T11:00:18.628Z"
   },
   {
    "duration": 6,
    "start_time": "2021-07-30T11:00:19.018Z"
   },
   {
    "duration": 518,
    "start_time": "2021-07-30T11:00:19.026Z"
   },
   {
    "duration": 3,
    "start_time": "2021-07-30T11:00:19.545Z"
   },
   {
    "duration": 15,
    "start_time": "2021-07-30T11:00:19.549Z"
   },
   {
    "duration": 27,
    "start_time": "2021-07-30T11:00:19.567Z"
   },
   {
    "duration": 24,
    "start_time": "2021-07-30T11:00:19.596Z"
   },
   {
    "duration": 29,
    "start_time": "2021-07-30T11:00:19.622Z"
   },
   {
    "duration": 16038,
    "start_time": "2021-07-30T11:00:19.652Z"
   },
   {
    "duration": 94134,
    "start_time": "2021-07-30T11:00:35.692Z"
   },
   {
    "duration": 1617,
    "start_time": "2021-07-30T11:02:09.828Z"
   },
   {
    "duration": 94,
    "start_time": "2021-07-30T11:02:11.447Z"
   },
   {
    "duration": 2,
    "start_time": "2021-07-30T11:02:11.543Z"
   },
   {
    "duration": 6,
    "start_time": "2021-07-30T11:02:11.547Z"
   },
   {
    "duration": 10,
    "start_time": "2021-07-30T11:02:11.554Z"
   },
   {
    "duration": 5,
    "start_time": "2021-07-30T11:02:11.566Z"
   },
   {
    "duration": 5,
    "start_time": "2021-07-30T11:02:11.573Z"
   },
   {
    "duration": 8,
    "start_time": "2021-07-30T11:02:11.579Z"
   },
   {
    "duration": 5,
    "start_time": "2021-07-30T11:02:11.588Z"
   },
   {
    "duration": 5,
    "start_time": "2021-07-30T11:02:11.595Z"
   },
   {
    "duration": 53135,
    "start_time": "2021-07-30T11:02:11.642Z"
   },
   {
    "duration": 4899,
    "start_time": "2021-07-30T11:12:49.384Z"
   },
   {
    "duration": 84,
    "start_time": "2021-07-30T11:13:20.665Z"
   },
   {
    "duration": 2373,
    "start_time": "2021-07-30T11:13:24.003Z"
   },
   {
    "duration": 5244,
    "start_time": "2021-07-30T11:13:35.632Z"
   },
   {
    "duration": 5,
    "start_time": "2021-07-30T11:13:53.953Z"
   },
   {
    "duration": 20,
    "start_time": "2021-07-30T11:13:53.962Z"
   },
   {
    "duration": 704,
    "start_time": "2021-07-30T11:13:53.984Z"
   },
   {
    "duration": 3,
    "start_time": "2021-07-30T11:13:54.689Z"
   },
   {
    "duration": 26,
    "start_time": "2021-07-30T11:13:54.694Z"
   },
   {
    "duration": 24,
    "start_time": "2021-07-30T11:13:54.721Z"
   },
   {
    "duration": 21,
    "start_time": "2021-07-30T11:13:54.747Z"
   },
   {
    "duration": 17,
    "start_time": "2021-07-30T11:13:54.771Z"
   },
   {
    "duration": 28,
    "start_time": "2021-07-30T11:13:54.790Z"
   },
   {
    "duration": 34,
    "start_time": "2021-07-30T11:13:54.820Z"
   },
   {
    "duration": 13,
    "start_time": "2021-07-30T11:13:54.856Z"
   },
   {
    "duration": 197,
    "start_time": "2021-07-30T11:13:54.870Z"
   },
   {
    "duration": 3,
    "start_time": "2021-07-30T11:13:55.068Z"
   },
   {
    "duration": 69,
    "start_time": "2021-07-30T11:13:55.073Z"
   },
   {
    "duration": 3,
    "start_time": "2021-07-30T11:13:55.144Z"
   },
   {
    "duration": 516,
    "start_time": "2021-07-30T11:13:55.148Z"
   },
   {
    "duration": 505,
    "start_time": "2021-07-30T11:13:55.666Z"
   },
   {
    "duration": 607,
    "start_time": "2021-07-30T11:13:56.172Z"
   },
   {
    "duration": 388,
    "start_time": "2021-07-30T11:13:56.781Z"
   },
   {
    "duration": 6,
    "start_time": "2021-07-30T11:13:57.172Z"
   },
   {
    "duration": 515,
    "start_time": "2021-07-30T11:13:57.180Z"
   },
   {
    "duration": 3,
    "start_time": "2021-07-30T11:13:57.697Z"
   },
   {
    "duration": 6,
    "start_time": "2021-07-30T11:13:57.702Z"
   },
   {
    "duration": 18,
    "start_time": "2021-07-30T11:13:57.709Z"
   },
   {
    "duration": 18,
    "start_time": "2021-07-30T11:13:57.729Z"
   },
   {
    "duration": 21,
    "start_time": "2021-07-30T11:13:57.749Z"
   },
   {
    "duration": 5322,
    "start_time": "2021-07-30T11:13:57.772Z"
   },
   {
    "duration": 98293,
    "start_time": "2021-07-30T11:14:03.095Z"
   },
   {
    "duration": 1751,
    "start_time": "2021-07-30T11:15:41.390Z"
   },
   {
    "duration": 7,
    "start_time": "2021-07-30T11:15:43.144Z"
   },
   {
    "duration": 87,
    "start_time": "2021-07-30T11:15:43.154Z"
   },
   {
    "duration": 7,
    "start_time": "2021-07-30T11:15:43.244Z"
   },
   {
    "duration": 8,
    "start_time": "2021-07-30T11:15:43.253Z"
   },
   {
    "duration": 15,
    "start_time": "2021-07-30T11:15:43.263Z"
   },
   {
    "duration": 7,
    "start_time": "2021-07-30T11:15:43.279Z"
   },
   {
    "duration": 7,
    "start_time": "2021-07-30T11:15:43.288Z"
   },
   {
    "duration": 7,
    "start_time": "2021-07-30T11:15:43.297Z"
   },
   {
    "duration": 4,
    "start_time": "2021-07-30T11:15:43.305Z"
   },
   {
    "duration": 5685,
    "start_time": "2021-07-30T11:15:43.313Z"
   },
   {
    "duration": 1102,
    "start_time": "2021-08-02T07:52:13.805Z"
   },
   {
    "duration": 6,
    "start_time": "2021-08-02T07:52:14.909Z"
   },
   {
    "duration": 651,
    "start_time": "2021-08-02T07:52:14.917Z"
   },
   {
    "duration": 2,
    "start_time": "2021-08-02T07:52:15.570Z"
   },
   {
    "duration": 7,
    "start_time": "2021-08-02T07:52:15.574Z"
   },
   {
    "duration": 9,
    "start_time": "2021-08-02T07:52:15.582Z"
   },
   {
    "duration": 6,
    "start_time": "2021-08-02T07:52:15.592Z"
   },
   {
    "duration": 4,
    "start_time": "2021-08-02T07:52:15.600Z"
   },
   {
    "duration": 8,
    "start_time": "2021-08-02T07:52:15.606Z"
   },
   {
    "duration": 8,
    "start_time": "2021-08-02T07:52:15.615Z"
   },
   {
    "duration": 7,
    "start_time": "2021-08-02T07:52:15.624Z"
   },
   {
    "duration": 194,
    "start_time": "2021-08-02T07:52:15.633Z"
   },
   {
    "duration": 2,
    "start_time": "2021-08-02T07:52:15.829Z"
   },
   {
    "duration": 68,
    "start_time": "2021-08-02T07:52:15.833Z"
   },
   {
    "duration": 2,
    "start_time": "2021-08-02T07:52:15.903Z"
   },
   {
    "duration": 560,
    "start_time": "2021-08-02T07:52:15.907Z"
   },
   {
    "duration": 440,
    "start_time": "2021-08-02T07:52:16.468Z"
   },
   {
    "duration": 521,
    "start_time": "2021-08-02T07:52:16.910Z"
   },
   {
    "duration": 342,
    "start_time": "2021-08-02T07:52:17.433Z"
   },
   {
    "duration": 14,
    "start_time": "2021-08-02T07:52:17.777Z"
   },
   {
    "duration": 455,
    "start_time": "2021-08-02T07:52:17.792Z"
   },
   {
    "duration": 3,
    "start_time": "2021-08-02T07:52:18.249Z"
   },
   {
    "duration": 3,
    "start_time": "2021-08-02T07:52:18.255Z"
   },
   {
    "duration": 6,
    "start_time": "2021-08-02T07:52:18.260Z"
   },
   {
    "duration": 29,
    "start_time": "2021-08-02T07:52:18.267Z"
   },
   {
    "duration": 12,
    "start_time": "2021-08-02T07:52:18.297Z"
   },
   {
    "duration": 8491,
    "start_time": "2021-08-02T07:52:18.311Z"
   },
   {
    "duration": 90536,
    "start_time": "2021-08-02T07:52:26.804Z"
   },
   {
    "duration": 2250,
    "start_time": "2021-08-02T07:53:57.341Z"
   },
   {
    "duration": 5,
    "start_time": "2021-08-02T07:53:59.593Z"
   },
   {
    "duration": 4,
    "start_time": "2021-08-02T07:53:59.601Z"
   },
   {
    "duration": 5,
    "start_time": "2021-08-02T07:53:59.607Z"
   },
   {
    "duration": 7,
    "start_time": "2021-08-02T07:53:59.613Z"
   },
   {
    "duration": 5,
    "start_time": "2021-08-02T07:53:59.621Z"
   },
   {
    "duration": 5,
    "start_time": "2021-08-02T07:53:59.628Z"
   },
   {
    "duration": 57,
    "start_time": "2021-08-02T07:53:59.635Z"
   },
   {
    "duration": 2,
    "start_time": "2021-08-02T07:53:59.694Z"
   },
   {
    "duration": 7,
    "start_time": "2021-08-02T07:53:59.698Z"
   },
   {
    "duration": 1003,
    "start_time": "2021-08-02T08:04:43.135Z"
   },
   {
    "duration": 3,
    "start_time": "2021-08-02T08:05:08.880Z"
   },
   {
    "duration": 6,
    "start_time": "2021-08-02T08:05:08.885Z"
   },
   {
    "duration": 947,
    "start_time": "2021-08-02T08:05:08.892Z"
   },
   {
    "duration": 3,
    "start_time": "2021-08-02T08:05:09.842Z"
   },
   {
    "duration": 7,
    "start_time": "2021-08-02T08:05:09.846Z"
   },
   {
    "duration": 7,
    "start_time": "2021-08-02T08:05:09.854Z"
   },
   {
    "duration": 7,
    "start_time": "2021-08-02T08:05:09.862Z"
   },
   {
    "duration": 5,
    "start_time": "2021-08-02T08:05:09.870Z"
   },
   {
    "duration": 20,
    "start_time": "2021-08-02T08:05:09.878Z"
   },
   {
    "duration": 8,
    "start_time": "2021-08-02T08:05:09.900Z"
   },
   {
    "duration": 7,
    "start_time": "2021-08-02T08:05:09.910Z"
   },
   {
    "duration": 250,
    "start_time": "2021-08-02T08:05:09.919Z"
   },
   {
    "duration": 2,
    "start_time": "2021-08-02T08:05:10.171Z"
   },
   {
    "duration": 68,
    "start_time": "2021-08-02T08:05:10.175Z"
   },
   {
    "duration": 3,
    "start_time": "2021-08-02T08:05:10.245Z"
   },
   {
    "duration": 458,
    "start_time": "2021-08-02T08:05:10.250Z"
   },
   {
    "duration": 541,
    "start_time": "2021-08-02T08:05:10.710Z"
   },
   {
    "duration": 467,
    "start_time": "2021-08-02T08:05:11.253Z"
   },
   {
    "duration": 343,
    "start_time": "2021-08-02T08:05:11.722Z"
   },
   {
    "duration": 7,
    "start_time": "2021-08-02T08:05:12.067Z"
   },
   {
    "duration": 454,
    "start_time": "2021-08-02T08:05:12.075Z"
   },
   {
    "duration": 3,
    "start_time": "2021-08-02T08:05:12.531Z"
   },
   {
    "duration": 6,
    "start_time": "2021-08-02T08:05:12.536Z"
   },
   {
    "duration": 4,
    "start_time": "2021-08-02T08:05:12.544Z"
   },
   {
    "duration": 17,
    "start_time": "2021-08-02T08:05:12.550Z"
   },
   {
    "duration": 29,
    "start_time": "2021-08-02T08:05:12.569Z"
   },
   {
    "duration": 8330,
    "start_time": "2021-08-02T08:05:12.602Z"
   },
   {
    "duration": 2,
    "start_time": "2021-08-02T08:05:20.934Z"
   },
   {
    "duration": 1953,
    "start_time": "2021-08-02T08:05:20.937Z"
   },
   {
    "duration": 222,
    "start_time": "2021-08-02T08:05:22.892Z"
   },
   {
    "duration": 273,
    "start_time": "2021-08-02T08:05:22.843Z"
   },
   {
    "duration": 260,
    "start_time": "2021-08-02T08:05:22.857Z"
   },
   {
    "duration": 257,
    "start_time": "2021-08-02T08:05:22.862Z"
   },
   {
    "duration": 250,
    "start_time": "2021-08-02T08:05:22.870Z"
   },
   {
    "duration": 241,
    "start_time": "2021-08-02T08:05:22.880Z"
   },
   {
    "duration": 237,
    "start_time": "2021-08-02T08:05:22.885Z"
   },
   {
    "duration": 227,
    "start_time": "2021-08-02T08:05:22.896Z"
   },
   {
    "duration": 221,
    "start_time": "2021-08-02T08:05:22.903Z"
   },
   {
    "duration": 236,
    "start_time": "2021-08-02T08:06:21.896Z"
   },
   {
    "duration": 5,
    "start_time": "2021-08-02T08:06:30.468Z"
   },
   {
    "duration": 8,
    "start_time": "2021-08-02T08:06:30.478Z"
   },
   {
    "duration": 764,
    "start_time": "2021-08-02T08:06:30.488Z"
   },
   {
    "duration": 3,
    "start_time": "2021-08-02T08:06:31.254Z"
   },
   {
    "duration": 12,
    "start_time": "2021-08-02T08:06:31.259Z"
   },
   {
    "duration": 12,
    "start_time": "2021-08-02T08:06:31.272Z"
   },
   {
    "duration": 10,
    "start_time": "2021-08-02T08:06:31.285Z"
   },
   {
    "duration": 89,
    "start_time": "2021-08-02T08:06:31.297Z"
   },
   {
    "duration": 6,
    "start_time": "2021-08-02T08:06:31.392Z"
   },
   {
    "duration": 18,
    "start_time": "2021-08-02T08:06:31.400Z"
   },
   {
    "duration": 4,
    "start_time": "2021-08-02T08:06:31.419Z"
   },
   {
    "duration": 11,
    "start_time": "2021-08-02T08:06:31.424Z"
   },
   {
    "duration": 184,
    "start_time": "2021-08-02T08:06:31.436Z"
   },
   {
    "duration": 3,
    "start_time": "2021-08-02T08:06:31.622Z"
   },
   {
    "duration": 69,
    "start_time": "2021-08-02T08:06:31.626Z"
   },
   {
    "duration": 3,
    "start_time": "2021-08-02T08:06:31.696Z"
   },
   {
    "duration": 459,
    "start_time": "2021-08-02T08:06:31.700Z"
   },
   {
    "duration": 543,
    "start_time": "2021-08-02T08:06:32.161Z"
   },
   {
    "duration": 442,
    "start_time": "2021-08-02T08:06:32.706Z"
   },
   {
    "duration": 345,
    "start_time": "2021-08-02T08:06:33.150Z"
   },
   {
    "duration": 6,
    "start_time": "2021-08-02T08:06:33.496Z"
   },
   {
    "duration": 548,
    "start_time": "2021-08-02T08:06:33.503Z"
   },
   {
    "duration": 3,
    "start_time": "2021-08-02T08:06:34.053Z"
   },
   {
    "duration": 4,
    "start_time": "2021-08-02T08:06:34.060Z"
   },
   {
    "duration": 5,
    "start_time": "2021-08-02T08:06:34.065Z"
   },
   {
    "duration": 24,
    "start_time": "2021-08-02T08:06:34.072Z"
   },
   {
    "duration": 12,
    "start_time": "2021-08-02T08:06:34.097Z"
   },
   {
    "duration": 8580,
    "start_time": "2021-08-02T08:06:34.111Z"
   },
   {
    "duration": 3,
    "start_time": "2021-08-02T08:06:42.692Z"
   },
   {
    "duration": 1399,
    "start_time": "2021-08-02T08:06:42.696Z"
   },
   {
    "duration": 5,
    "start_time": "2021-08-02T08:06:44.097Z"
   },
   {
    "duration": 7,
    "start_time": "2021-08-02T08:06:44.192Z"
   },
   {
    "duration": 19,
    "start_time": "2021-08-02T08:06:44.201Z"
   },
   {
    "duration": 18,
    "start_time": "2021-08-02T08:06:44.222Z"
   },
   {
    "duration": 12,
    "start_time": "2021-08-02T08:06:44.242Z"
   },
   {
    "duration": 15,
    "start_time": "2021-08-02T08:06:44.256Z"
   },
   {
    "duration": 13,
    "start_time": "2021-08-02T08:06:44.272Z"
   },
   {
    "duration": 9,
    "start_time": "2021-08-02T08:06:44.287Z"
   },
   {
    "duration": 13,
    "start_time": "2021-08-02T08:06:44.297Z"
   },
   {
    "duration": 232,
    "start_time": "2021-08-02T08:09:45.220Z"
   },
   {
    "duration": 3,
    "start_time": "2021-08-02T08:09:59.967Z"
   },
   {
    "duration": 7,
    "start_time": "2021-08-02T08:09:59.972Z"
   },
   {
    "duration": 690,
    "start_time": "2021-08-02T08:09:59.981Z"
   },
   {
    "duration": 3,
    "start_time": "2021-08-02T08:10:00.673Z"
   },
   {
    "duration": 7,
    "start_time": "2021-08-02T08:10:00.678Z"
   },
   {
    "duration": 15,
    "start_time": "2021-08-02T08:10:00.691Z"
   },
   {
    "duration": 18,
    "start_time": "2021-08-02T08:10:00.708Z"
   },
   {
    "duration": 25,
    "start_time": "2021-08-02T08:10:00.728Z"
   },
   {
    "duration": 22,
    "start_time": "2021-08-02T08:10:00.755Z"
   },
   {
    "duration": 41,
    "start_time": "2021-08-02T08:10:00.779Z"
   },
   {
    "duration": 4,
    "start_time": "2021-08-02T08:10:00.823Z"
   },
   {
    "duration": 17,
    "start_time": "2021-08-02T08:10:00.829Z"
   },
   {
    "duration": 291,
    "start_time": "2021-08-02T08:10:00.848Z"
   },
   {
    "duration": 3,
    "start_time": "2021-08-02T08:10:01.142Z"
   },
   {
    "duration": 79,
    "start_time": "2021-08-02T08:10:01.147Z"
   },
   {
    "duration": 2,
    "start_time": "2021-08-02T08:10:01.228Z"
   },
   {
    "duration": 479,
    "start_time": "2021-08-02T08:10:01.232Z"
   },
   {
    "duration": 454,
    "start_time": "2021-08-02T08:10:01.713Z"
   },
   {
    "duration": 459,
    "start_time": "2021-08-02T08:10:02.169Z"
   },
   {
    "duration": 448,
    "start_time": "2021-08-02T08:10:02.630Z"
   },
   {
    "duration": 11,
    "start_time": "2021-08-02T08:10:03.080Z"
   },
   {
    "duration": 685,
    "start_time": "2021-08-02T08:10:03.092Z"
   },
   {
    "duration": 2,
    "start_time": "2021-08-02T08:10:03.779Z"
   },
   {
    "duration": 16,
    "start_time": "2021-08-02T08:10:03.783Z"
   },
   {
    "duration": 25,
    "start_time": "2021-08-02T08:10:03.800Z"
   },
   {
    "duration": 20,
    "start_time": "2021-08-02T08:10:03.827Z"
   },
   {
    "duration": 15,
    "start_time": "2021-08-02T08:10:03.848Z"
   },
   {
    "duration": 10,
    "start_time": "2021-08-02T08:10:03.864Z"
   },
   {
    "duration": 8588,
    "start_time": "2021-08-02T08:10:03.875Z"
   },
   {
    "duration": 3,
    "start_time": "2021-08-02T08:10:12.464Z"
   },
   {
    "duration": 1729,
    "start_time": "2021-08-02T08:10:12.468Z"
   },
   {
    "duration": 92,
    "start_time": "2021-08-02T08:10:14.200Z"
   },
   {
    "duration": 5,
    "start_time": "2021-08-02T08:10:14.294Z"
   },
   {
    "duration": 8,
    "start_time": "2021-08-02T08:10:14.301Z"
   },
   {
    "duration": 6,
    "start_time": "2021-08-02T08:10:14.310Z"
   },
   {
    "duration": 74,
    "start_time": "2021-08-02T08:10:14.318Z"
   },
   {
    "duration": 7,
    "start_time": "2021-08-02T08:10:14.393Z"
   },
   {
    "duration": 10,
    "start_time": "2021-08-02T08:10:14.403Z"
   },
   {
    "duration": 4,
    "start_time": "2021-08-02T08:10:14.415Z"
   },
   {
    "duration": 21,
    "start_time": "2021-08-02T08:10:14.420Z"
   },
   {
    "duration": 4,
    "start_time": "2021-08-02T08:10:29.004Z"
   },
   {
    "duration": 29,
    "start_time": "2021-08-02T08:10:51.566Z"
   },
   {
    "duration": 18,
    "start_time": "2021-08-02T08:11:17.844Z"
   },
   {
    "duration": 5372,
    "start_time": "2021-08-02T08:14:52.991Z"
   },
   {
    "duration": 4715,
    "start_time": "2021-08-02T08:16:22.324Z"
   },
   {
    "duration": 125250,
    "start_time": "2021-08-02T08:17:11.820Z"
   },
   {
    "duration": 89679,
    "start_time": "2021-08-02T08:20:36.612Z"
   },
   {
    "duration": 1810,
    "start_time": "2021-08-02T08:32:34.584Z"
   },
   {
    "duration": 5446,
    "start_time": "2021-08-02T08:33:09.032Z"
   },
   {
    "duration": 19787,
    "start_time": "2021-08-02T08:33:26.357Z"
   },
   {
    "duration": 5624,
    "start_time": "2021-08-02T08:39:01.567Z"
   },
   {
    "duration": 19540,
    "start_time": "2021-08-02T08:40:21.188Z"
   },
   {
    "duration": 3,
    "start_time": "2021-08-02T08:41:15.765Z"
   },
   {
    "duration": 10,
    "start_time": "2021-08-02T08:41:15.770Z"
   },
   {
    "duration": 603,
    "start_time": "2021-08-02T08:41:15.846Z"
   },
   {
    "duration": 2,
    "start_time": "2021-08-02T08:41:16.451Z"
   },
   {
    "duration": 13,
    "start_time": "2021-08-02T08:41:16.455Z"
   },
   {
    "duration": 9,
    "start_time": "2021-08-02T08:41:16.469Z"
   },
   {
    "duration": 10,
    "start_time": "2021-08-02T08:41:16.479Z"
   },
   {
    "duration": 5,
    "start_time": "2021-08-02T08:41:16.491Z"
   },
   {
    "duration": 8,
    "start_time": "2021-08-02T08:41:16.497Z"
   },
   {
    "duration": 18,
    "start_time": "2021-08-02T08:41:16.507Z"
   },
   {
    "duration": 3,
    "start_time": "2021-08-02T08:41:16.528Z"
   },
   {
    "duration": 8,
    "start_time": "2021-08-02T08:41:16.533Z"
   },
   {
    "duration": 190,
    "start_time": "2021-08-02T08:41:16.542Z"
   },
   {
    "duration": 3,
    "start_time": "2021-08-02T08:41:16.734Z"
   },
   {
    "duration": 76,
    "start_time": "2021-08-02T08:41:16.738Z"
   },
   {
    "duration": 2,
    "start_time": "2021-08-02T08:41:16.816Z"
   },
   {
    "duration": 453,
    "start_time": "2021-08-02T08:41:16.820Z"
   },
   {
    "duration": 435,
    "start_time": "2021-08-02T08:41:17.274Z"
   },
   {
    "duration": 547,
    "start_time": "2021-08-02T08:41:17.710Z"
   },
   {
    "duration": 349,
    "start_time": "2021-08-02T08:41:18.258Z"
   },
   {
    "duration": 6,
    "start_time": "2021-08-02T08:41:18.608Z"
   },
   {
    "duration": 460,
    "start_time": "2021-08-02T08:41:18.615Z"
   },
   {
    "duration": 3,
    "start_time": "2021-08-02T08:41:19.076Z"
   },
   {
    "duration": 2,
    "start_time": "2021-08-02T08:41:19.091Z"
   },
   {
    "duration": 8,
    "start_time": "2021-08-02T08:41:19.094Z"
   },
   {
    "duration": 9,
    "start_time": "2021-08-02T08:41:19.103Z"
   },
   {
    "duration": 6,
    "start_time": "2021-08-02T08:41:19.113Z"
   },
   {
    "duration": 29,
    "start_time": "2021-08-02T08:41:19.121Z"
   },
   {
    "duration": 16,
    "start_time": "2021-08-02T08:41:19.153Z"
   },
   {
    "duration": 5464,
    "start_time": "2021-08-02T08:41:19.192Z"
   },
   {
    "duration": 5648,
    "start_time": "2021-08-02T08:41:24.658Z"
   },
   {
    "duration": 19644,
    "start_time": "2021-08-02T08:41:30.308Z"
   },
   {
    "duration": 19520,
    "start_time": "2021-08-02T08:41:49.954Z"
   },
   {
    "duration": 1526,
    "start_time": "2021-08-02T08:42:09.475Z"
   },
   {
    "duration": 242,
    "start_time": "2021-08-02T08:42:11.004Z"
   },
   {
    "duration": 1776,
    "start_time": "2021-08-02T08:45:42.126Z"
   },
   {
    "duration": 8,
    "start_time": "2021-08-02T08:48:27.914Z"
   },
   {
    "duration": 11,
    "start_time": "2021-08-02T08:49:01.575Z"
   },
   {
    "duration": 339,
    "start_time": "2021-08-02T08:51:18.317Z"
   },
   {
    "duration": 6,
    "start_time": "2021-08-02T08:51:45.148Z"
   },
   {
    "duration": 249,
    "start_time": "2021-08-02T08:55:00.635Z"
   },
   {
    "duration": 4,
    "start_time": "2021-08-02T08:55:56.592Z"
   },
   {
    "duration": 4,
    "start_time": "2021-08-02T08:56:05.566Z"
   },
   {
    "duration": 622,
    "start_time": "2021-08-02T08:56:05.572Z"
   },
   {
    "duration": 3,
    "start_time": "2021-08-02T08:56:06.196Z"
   },
   {
    "duration": 7,
    "start_time": "2021-08-02T08:56:06.201Z"
   },
   {
    "duration": 8,
    "start_time": "2021-08-02T08:56:06.209Z"
   },
   {
    "duration": 8,
    "start_time": "2021-08-02T08:56:06.218Z"
   },
   {
    "duration": 7,
    "start_time": "2021-08-02T08:56:06.228Z"
   },
   {
    "duration": 16,
    "start_time": "2021-08-02T08:56:06.237Z"
   },
   {
    "duration": 17,
    "start_time": "2021-08-02T08:56:06.255Z"
   },
   {
    "duration": 17,
    "start_time": "2021-08-02T08:56:06.274Z"
   },
   {
    "duration": 2,
    "start_time": "2021-08-02T08:56:06.293Z"
   },
   {
    "duration": 195,
    "start_time": "2021-08-02T08:56:06.297Z"
   },
   {
    "duration": 3,
    "start_time": "2021-08-02T08:56:06.494Z"
   },
   {
    "duration": 59,
    "start_time": "2021-08-02T08:56:06.499Z"
   },
   {
    "duration": 2,
    "start_time": "2021-08-02T08:56:06.560Z"
   },
   {
    "duration": 455,
    "start_time": "2021-08-02T08:56:06.564Z"
   },
   {
    "duration": 540,
    "start_time": "2021-08-02T08:56:07.021Z"
   },
   {
    "duration": 474,
    "start_time": "2021-08-02T08:56:07.563Z"
   },
   {
    "duration": 350,
    "start_time": "2021-08-02T08:56:08.039Z"
   },
   {
    "duration": 6,
    "start_time": "2021-08-02T08:56:08.390Z"
   },
   {
    "duration": 564,
    "start_time": "2021-08-02T08:56:08.397Z"
   },
   {
    "duration": 3,
    "start_time": "2021-08-02T08:56:08.963Z"
   },
   {
    "duration": 7,
    "start_time": "2021-08-02T08:56:08.967Z"
   },
   {
    "duration": 6,
    "start_time": "2021-08-02T08:56:08.975Z"
   },
   {
    "duration": 17,
    "start_time": "2021-08-02T08:56:08.982Z"
   },
   {
    "duration": 6,
    "start_time": "2021-08-02T08:56:09.001Z"
   },
   {
    "duration": 29,
    "start_time": "2021-08-02T08:56:09.010Z"
   },
   {
    "duration": 5699,
    "start_time": "2021-08-02T08:56:09.041Z"
   },
   {
    "duration": 5655,
    "start_time": "2021-08-02T08:56:14.741Z"
   },
   {
    "duration": 20511,
    "start_time": "2021-08-02T08:56:20.398Z"
   },
   {
    "duration": 19450,
    "start_time": "2021-08-02T08:56:40.911Z"
   },
   {
    "duration": 2834,
    "start_time": "2021-08-02T08:57:00.363Z"
   },
   {
    "duration": 1699,
    "start_time": "2021-08-02T08:57:03.200Z"
   },
   {
    "duration": 96,
    "start_time": "2021-08-02T08:57:04.901Z"
   },
   {
    "duration": 8,
    "start_time": "2021-08-02T08:57:04.999Z"
   },
   {
    "duration": 13,
    "start_time": "2021-08-02T08:57:05.008Z"
   },
   {
    "duration": 8,
    "start_time": "2021-08-02T08:59:02.306Z"
   },
   {
    "duration": 264,
    "start_time": "2021-08-02T10:00:42.536Z"
   },
   {
    "duration": 5,
    "start_time": "2021-08-02T10:00:55.682Z"
   },
   {
    "duration": 3,
    "start_time": "2021-08-02T10:01:00.587Z"
   },
   {
    "duration": 873,
    "start_time": "2021-08-02T10:01:00.593Z"
   },
   {
    "duration": 3,
    "start_time": "2021-08-02T10:01:01.468Z"
   },
   {
    "duration": 11,
    "start_time": "2021-08-02T10:01:01.473Z"
   },
   {
    "duration": 8,
    "start_time": "2021-08-02T10:01:01.485Z"
   },
   {
    "duration": 12,
    "start_time": "2021-08-02T10:01:01.494Z"
   },
   {
    "duration": 9,
    "start_time": "2021-08-02T10:01:01.508Z"
   },
   {
    "duration": 14,
    "start_time": "2021-08-02T10:01:01.519Z"
   },
   {
    "duration": 30,
    "start_time": "2021-08-02T10:01:01.536Z"
   },
   {
    "duration": 17,
    "start_time": "2021-08-02T10:01:01.568Z"
   },
   {
    "duration": 12,
    "start_time": "2021-08-02T10:01:01.586Z"
   },
   {
    "duration": 191,
    "start_time": "2021-08-02T10:01:01.600Z"
   },
   {
    "duration": 2,
    "start_time": "2021-08-02T10:01:01.793Z"
   },
   {
    "duration": 69,
    "start_time": "2021-08-02T10:01:01.797Z"
   },
   {
    "duration": 2,
    "start_time": "2021-08-02T10:01:01.868Z"
   },
   {
    "duration": 465,
    "start_time": "2021-08-02T10:01:01.872Z"
   },
   {
    "duration": 445,
    "start_time": "2021-08-02T10:01:02.338Z"
   },
   {
    "duration": 449,
    "start_time": "2021-08-02T10:01:02.785Z"
   },
   {
    "duration": 341,
    "start_time": "2021-08-02T10:01:03.236Z"
   },
   {
    "duration": 12,
    "start_time": "2021-08-02T10:01:03.579Z"
   },
   {
    "duration": 547,
    "start_time": "2021-08-02T10:01:03.592Z"
   },
   {
    "duration": 3,
    "start_time": "2021-08-02T10:01:04.140Z"
   },
   {
    "duration": 4,
    "start_time": "2021-08-02T10:01:04.146Z"
   },
   {
    "duration": 5,
    "start_time": "2021-08-02T10:01:04.152Z"
   },
   {
    "duration": 9,
    "start_time": "2021-08-02T10:01:04.158Z"
   },
   {
    "duration": 5,
    "start_time": "2021-08-02T10:01:04.169Z"
   },
   {
    "duration": 26,
    "start_time": "2021-08-02T10:01:04.191Z"
   },
   {
    "duration": 5814,
    "start_time": "2021-08-02T10:01:04.219Z"
   },
   {
    "duration": 5641,
    "start_time": "2021-08-02T10:01:10.035Z"
   },
   {
    "duration": 19763,
    "start_time": "2021-08-02T10:01:15.678Z"
   },
   {
    "duration": 19752,
    "start_time": "2021-08-02T10:01:35.443Z"
   },
   {
    "duration": 1831,
    "start_time": "2021-08-02T10:01:55.197Z"
   },
   {
    "duration": 2367,
    "start_time": "2021-08-02T10:01:57.030Z"
   },
   {
    "duration": 99,
    "start_time": "2021-08-02T10:01:59.399Z"
   },
   {
    "duration": 7,
    "start_time": "2021-08-02T10:01:59.500Z"
   },
   {
    "duration": 8,
    "start_time": "2021-08-02T10:01:59.509Z"
   },
   {
    "duration": 16,
    "start_time": "2021-08-02T10:13:09.277Z"
   },
   {
    "duration": 4,
    "start_time": "2021-08-02T10:13:13.771Z"
   },
   {
    "duration": 612,
    "start_time": "2021-08-02T10:13:13.777Z"
   },
   {
    "duration": 2,
    "start_time": "2021-08-02T10:13:14.392Z"
   },
   {
    "duration": 17,
    "start_time": "2021-08-02T10:13:14.396Z"
   },
   {
    "duration": 16,
    "start_time": "2021-08-02T10:13:14.415Z"
   },
   {
    "duration": 7,
    "start_time": "2021-08-02T10:13:14.432Z"
   },
   {
    "duration": 15,
    "start_time": "2021-08-02T10:13:14.441Z"
   },
   {
    "duration": 15,
    "start_time": "2021-08-02T10:13:14.458Z"
   },
   {
    "duration": 225,
    "start_time": "2021-08-02T10:13:14.475Z"
   },
   {
    "duration": 17,
    "start_time": "2021-08-02T10:13:14.702Z"
   },
   {
    "duration": 3,
    "start_time": "2021-08-02T10:13:14.721Z"
   },
   {
    "duration": 18,
    "start_time": "2021-08-02T10:13:14.725Z"
   },
   {
    "duration": 15,
    "start_time": "2021-08-02T10:13:14.744Z"
   },
   {
    "duration": 29,
    "start_time": "2021-08-02T10:13:14.760Z"
   },
   {
    "duration": 4,
    "start_time": "2021-08-02T10:13:14.790Z"
   },
   {
    "duration": 11,
    "start_time": "2021-08-02T10:13:14.796Z"
   },
   {
    "duration": 465,
    "start_time": "2021-08-02T10:13:14.809Z"
   },
   {
    "duration": 784,
    "start_time": "2021-08-02T10:13:15.276Z"
   },
   {
    "duration": -104,
    "start_time": "2021-08-02T10:13:16.166Z"
   },
   {
    "duration": -132,
    "start_time": "2021-08-02T10:13:16.195Z"
   },
   {
    "duration": -171,
    "start_time": "2021-08-02T10:13:16.235Z"
   },
   {
    "duration": -206,
    "start_time": "2021-08-02T10:13:16.271Z"
   },
   {
    "duration": -232,
    "start_time": "2021-08-02T10:13:16.299Z"
   },
   {
    "duration": -304,
    "start_time": "2021-08-02T10:13:16.372Z"
   },
   {
    "duration": -318,
    "start_time": "2021-08-02T10:13:16.387Z"
   },
   {
    "duration": -321,
    "start_time": "2021-08-02T10:13:16.391Z"
   },
   {
    "duration": -326,
    "start_time": "2021-08-02T10:13:16.396Z"
   },
   {
    "duration": -348,
    "start_time": "2021-08-02T10:13:16.420Z"
   },
   {
    "duration": -350,
    "start_time": "2021-08-02T10:13:16.423Z"
   },
   {
    "duration": -353,
    "start_time": "2021-08-02T10:13:16.427Z"
   },
   {
    "duration": -346,
    "start_time": "2021-08-02T10:13:16.437Z"
   },
   {
    "duration": -360,
    "start_time": "2021-08-02T10:13:16.452Z"
   },
   {
    "duration": -362,
    "start_time": "2021-08-02T10:13:16.455Z"
   },
   {
    "duration": -364,
    "start_time": "2021-08-02T10:13:16.459Z"
   },
   {
    "duration": -367,
    "start_time": "2021-08-02T10:13:16.463Z"
   },
   {
    "duration": -369,
    "start_time": "2021-08-02T10:13:16.466Z"
   },
   {
    "duration": -371,
    "start_time": "2021-08-02T10:13:16.469Z"
   },
   {
    "duration": 284,
    "start_time": "2021-08-02T10:13:35.735Z"
   },
   {
    "duration": 13,
    "start_time": "2021-08-02T10:14:03.126Z"
   },
   {
    "duration": 18,
    "start_time": "2021-08-02T10:14:24.617Z"
   },
   {
    "duration": 15,
    "start_time": "2021-08-02T10:14:27.766Z"
   },
   {
    "duration": 2,
    "start_time": "2021-08-02T10:15:09.495Z"
   },
   {
    "duration": 57,
    "start_time": "2021-08-02T10:15:10.155Z"
   },
   {
    "duration": 20,
    "start_time": "2021-08-02T10:15:11.286Z"
   },
   {
    "duration": 4,
    "start_time": "2021-08-02T10:16:25.497Z"
   },
   {
    "duration": 679,
    "start_time": "2021-08-02T10:16:25.503Z"
   },
   {
    "duration": 3,
    "start_time": "2021-08-02T10:16:26.185Z"
   },
   {
    "duration": 7,
    "start_time": "2021-08-02T10:16:26.189Z"
   },
   {
    "duration": 7,
    "start_time": "2021-08-02T10:16:26.197Z"
   },
   {
    "duration": 6,
    "start_time": "2021-08-02T10:16:26.205Z"
   },
   {
    "duration": 5,
    "start_time": "2021-08-02T10:16:26.212Z"
   },
   {
    "duration": 5,
    "start_time": "2021-08-02T10:16:26.219Z"
   },
   {
    "duration": 231,
    "start_time": "2021-08-02T10:16:26.227Z"
   },
   {
    "duration": 2,
    "start_time": "2021-08-02T10:16:26.461Z"
   },
   {
    "duration": 81,
    "start_time": "2021-08-02T10:16:26.465Z"
   },
   {
    "duration": 6,
    "start_time": "2021-08-02T10:16:26.547Z"
   },
   {
    "duration": 17,
    "start_time": "2021-08-02T10:16:26.555Z"
   },
   {
    "duration": 3,
    "start_time": "2021-08-02T10:16:26.574Z"
   },
   {
    "duration": 12,
    "start_time": "2021-08-02T10:16:26.579Z"
   },
   {
    "duration": 449,
    "start_time": "2021-08-02T10:16:26.593Z"
   },
   {
    "duration": 529,
    "start_time": "2021-08-02T10:16:27.044Z"
   },
   {
    "duration": 448,
    "start_time": "2021-08-02T10:16:27.574Z"
   },
   {
    "duration": 352,
    "start_time": "2021-08-02T10:16:28.024Z"
   },
   {
    "duration": 14,
    "start_time": "2021-08-02T10:16:28.378Z"
   },
   {
    "duration": 473,
    "start_time": "2021-08-02T10:16:28.393Z"
   },
   {
    "duration": 3,
    "start_time": "2021-08-02T10:16:28.868Z"
   },
   {
    "duration": 7,
    "start_time": "2021-08-02T10:16:28.872Z"
   },
   {
    "duration": 12,
    "start_time": "2021-08-02T10:16:28.880Z"
   },
   {
    "duration": 14,
    "start_time": "2021-08-02T10:16:28.893Z"
   },
   {
    "duration": 8,
    "start_time": "2021-08-02T10:16:28.908Z"
   },
   {
    "duration": 28,
    "start_time": "2021-08-02T10:16:28.919Z"
   },
   {
    "duration": 5786,
    "start_time": "2021-08-02T10:16:28.949Z"
   },
   {
    "duration": 5633,
    "start_time": "2021-08-02T10:16:34.737Z"
   },
   {
    "duration": 20076,
    "start_time": "2021-08-02T10:16:40.372Z"
   },
   {
    "duration": 19547,
    "start_time": "2021-08-02T10:17:00.450Z"
   },
   {
    "duration": 2297,
    "start_time": "2021-08-02T10:17:19.998Z"
   },
   {
    "duration": 1698,
    "start_time": "2021-08-02T10:17:22.297Z"
   },
   {
    "duration": 93,
    "start_time": "2021-08-02T10:17:23.998Z"
   },
   {
    "duration": 8,
    "start_time": "2021-08-02T10:17:24.095Z"
   },
   {
    "duration": 14,
    "start_time": "2021-08-02T10:17:24.105Z"
   },
   {
    "duration": 271,
    "start_time": "2021-08-02T10:17:24.122Z"
   },
   {
    "duration": 1133,
    "start_time": "2021-08-02T10:51:52.932Z"
   },
   {
    "duration": 664,
    "start_time": "2021-08-02T10:51:54.067Z"
   },
   {
    "duration": 3,
    "start_time": "2021-08-02T10:51:54.733Z"
   },
   {
    "duration": 11,
    "start_time": "2021-08-02T10:51:54.738Z"
   },
   {
    "duration": 7,
    "start_time": "2021-08-02T10:51:54.751Z"
   },
   {
    "duration": 6,
    "start_time": "2021-08-02T10:51:54.760Z"
   },
   {
    "duration": 24,
    "start_time": "2021-08-02T10:51:54.768Z"
   },
   {
    "duration": 4,
    "start_time": "2021-08-02T10:51:54.795Z"
   },
   {
    "duration": 332,
    "start_time": "2021-08-02T10:51:54.801Z"
   },
   {
    "duration": 3,
    "start_time": "2021-08-02T10:51:55.135Z"
   },
   {
    "duration": 74,
    "start_time": "2021-08-02T10:51:55.140Z"
   },
   {
    "duration": 7,
    "start_time": "2021-08-02T10:51:55.216Z"
   },
   {
    "duration": 17,
    "start_time": "2021-08-02T10:51:55.225Z"
   },
   {
    "duration": 4,
    "start_time": "2021-08-02T10:51:55.244Z"
   },
   {
    "duration": 3,
    "start_time": "2021-08-02T10:51:55.250Z"
   },
   {
    "duration": 475,
    "start_time": "2021-08-02T10:51:55.255Z"
   },
   {
    "duration": 453,
    "start_time": "2021-08-02T10:51:55.732Z"
   },
   {
    "duration": 559,
    "start_time": "2021-08-02T10:51:56.191Z"
   },
   {
    "duration": 534,
    "start_time": "2021-08-02T10:51:56.752Z"
   },
   {
    "duration": 9,
    "start_time": "2021-08-02T10:51:57.288Z"
   },
   {
    "duration": 799,
    "start_time": "2021-08-02T10:51:57.299Z"
   },
   {
    "duration": 3,
    "start_time": "2021-08-02T10:51:58.100Z"
   },
   {
    "duration": 6,
    "start_time": "2021-08-02T10:51:58.106Z"
   },
   {
    "duration": 5,
    "start_time": "2021-08-02T10:51:58.114Z"
   },
   {
    "duration": 17,
    "start_time": "2021-08-02T10:51:58.120Z"
   },
   {
    "duration": 7,
    "start_time": "2021-08-02T10:51:58.139Z"
   },
   {
    "duration": 314,
    "start_time": "2021-08-02T10:51:58.148Z"
   },
   {
    "duration": -25,
    "start_time": "2021-08-02T10:51:58.489Z"
   },
   {
    "duration": -31,
    "start_time": "2021-08-02T10:51:58.495Z"
   },
   {
    "duration": -47,
    "start_time": "2021-08-02T10:51:58.512Z"
   },
   {
    "duration": -50,
    "start_time": "2021-08-02T10:51:58.516Z"
   },
   {
    "duration": -55,
    "start_time": "2021-08-02T10:51:58.522Z"
   },
   {
    "duration": -59,
    "start_time": "2021-08-02T10:51:58.527Z"
   },
   {
    "duration": -64,
    "start_time": "2021-08-02T10:51:58.533Z"
   },
   {
    "duration": -66,
    "start_time": "2021-08-02T10:51:58.537Z"
   },
   {
    "duration": -70,
    "start_time": "2021-08-02T10:51:58.542Z"
   },
   {
    "duration": 6,
    "start_time": "2021-08-02T10:53:34.890Z"
   },
   {
    "duration": 44,
    "start_time": "2021-08-02T10:53:42.690Z"
   },
   {
    "duration": 8175,
    "start_time": "2021-08-02T10:53:47.922Z"
   },
   {
    "duration": 6562,
    "start_time": "2021-08-02T10:53:56.100Z"
   },
   {
    "duration": 21546,
    "start_time": "2021-08-02T10:54:02.665Z"
   },
   {
    "duration": 20407,
    "start_time": "2021-08-02T10:54:24.213Z"
   },
   {
    "duration": 2170,
    "start_time": "2021-08-02T10:54:44.622Z"
   },
   {
    "duration": 2807,
    "start_time": "2021-08-02T10:54:46.795Z"
   },
   {
    "duration": 87,
    "start_time": "2021-08-02T10:54:49.605Z"
   },
   {
    "duration": 7,
    "start_time": "2021-08-02T10:54:49.694Z"
   },
   {
    "duration": 8,
    "start_time": "2021-08-02T10:54:49.704Z"
   },
   {
    "duration": 1629,
    "start_time": "2021-08-03T03:38:35.502Z"
   },
   {
    "duration": 914,
    "start_time": "2021-08-03T03:38:37.134Z"
   },
   {
    "duration": 4,
    "start_time": "2021-08-03T03:39:27.868Z"
   },
   {
    "duration": 4,
    "start_time": "2021-08-03T03:39:27.879Z"
   },
   {
    "duration": 11,
    "start_time": "2021-08-03T03:39:27.904Z"
   },
   {
    "duration": 10,
    "start_time": "2021-08-03T03:39:28.435Z"
   },
   {
    "duration": 6,
    "start_time": "2021-08-03T03:41:20.612Z"
   },
   {
    "duration": 4,
    "start_time": "2021-08-03T03:42:18.875Z"
   },
   {
    "duration": 435,
    "start_time": "2021-08-03T03:42:21.817Z"
   },
   {
    "duration": 4,
    "start_time": "2021-08-03T03:42:22.739Z"
   },
   {
    "duration": 113,
    "start_time": "2021-08-03T03:42:30.881Z"
   },
   {
    "duration": 11,
    "start_time": "2021-08-03T03:42:32.562Z"
   },
   {
    "duration": 20,
    "start_time": "2021-08-03T03:42:33.033Z"
   },
   {
    "duration": 5,
    "start_time": "2021-08-03T03:42:33.291Z"
   },
   {
    "duration": 4,
    "start_time": "2021-08-03T03:50:36.320Z"
   },
   {
    "duration": 869,
    "start_time": "2021-08-03T03:50:36.853Z"
   },
   {
    "duration": 862,
    "start_time": "2021-08-03T03:50:37.725Z"
   },
   {
    "duration": 951,
    "start_time": "2021-08-03T03:50:38.591Z"
   },
   {
    "duration": 634,
    "start_time": "2021-08-03T03:55:33.793Z"
   },
   {
    "duration": 8,
    "start_time": "2021-08-03T03:55:56.796Z"
   },
   {
    "duration": 911,
    "start_time": "2021-08-03T03:55:57.043Z"
   },
   {
    "duration": 5,
    "start_time": "2021-08-03T04:01:15.341Z"
   },
   {
    "duration": 4,
    "start_time": "2021-08-03T04:01:17.009Z"
   },
   {
    "duration": 4,
    "start_time": "2021-08-03T04:01:32.027Z"
   },
   {
    "duration": 22,
    "start_time": "2021-08-03T04:01:33.024Z"
   },
   {
    "duration": 7,
    "start_time": "2021-08-03T04:01:35.097Z"
   },
   {
    "duration": 58,
    "start_time": "2021-08-03T04:01:36.173Z"
   },
   {
    "duration": 7497,
    "start_time": "2021-08-03T04:02:20.266Z"
   },
   {
    "duration": 7876,
    "start_time": "2021-08-03T04:02:35.076Z"
   },
   {
    "duration": 27413,
    "start_time": "2021-08-03T04:02:42.954Z"
   },
   {
    "duration": 27109,
    "start_time": "2021-08-03T04:03:10.370Z"
   },
   {
    "duration": 1788,
    "start_time": "2021-08-03T04:03:37.482Z"
   },
   {
    "duration": 1607,
    "start_time": "2021-08-03T04:03:39.364Z"
   },
   {
    "duration": 28,
    "start_time": "2021-08-03T04:04:45.441Z"
   },
   {
    "duration": 12,
    "start_time": "2021-08-03T04:04:45.997Z"
   },
   {
    "duration": 15,
    "start_time": "2021-08-03T04:04:47.243Z"
   },
   {
    "duration": 222,
    "start_time": "2021-08-03T04:59:51.495Z"
   },
   {
    "duration": 1155,
    "start_time": "2021-08-03T05:00:00.853Z"
   },
   {
    "duration": 728,
    "start_time": "2021-08-03T05:00:02.010Z"
   },
   {
    "duration": 3,
    "start_time": "2021-08-03T05:00:02.740Z"
   },
   {
    "duration": 5,
    "start_time": "2021-08-03T05:00:02.745Z"
   },
   {
    "duration": 7,
    "start_time": "2021-08-03T05:00:02.752Z"
   },
   {
    "duration": 8,
    "start_time": "2021-08-03T05:00:02.760Z"
   },
   {
    "duration": 18,
    "start_time": "2021-08-03T05:00:02.769Z"
   },
   {
    "duration": 9,
    "start_time": "2021-08-03T05:00:02.790Z"
   },
   {
    "duration": 248,
    "start_time": "2021-08-03T05:00:02.800Z"
   },
   {
    "duration": 1141,
    "start_time": "2021-08-03T05:00:23.249Z"
   },
   {
    "duration": 719,
    "start_time": "2021-08-03T05:00:24.392Z"
   },
   {
    "duration": 3,
    "start_time": "2021-08-03T05:00:25.113Z"
   },
   {
    "duration": 5,
    "start_time": "2021-08-03T05:00:25.118Z"
   },
   {
    "duration": 7,
    "start_time": "2021-08-03T05:00:25.124Z"
   },
   {
    "duration": 6,
    "start_time": "2021-08-03T05:00:25.132Z"
   },
   {
    "duration": 5,
    "start_time": "2021-08-03T05:00:25.139Z"
   },
   {
    "duration": 4,
    "start_time": "2021-08-03T05:00:25.146Z"
   },
   {
    "duration": 263,
    "start_time": "2021-08-03T05:00:25.152Z"
   },
   {
    "duration": 11,
    "start_time": "2021-08-03T05:00:25.417Z"
   },
   {
    "duration": 2,
    "start_time": "2021-08-03T05:00:25.429Z"
   },
   {
    "duration": 5,
    "start_time": "2021-08-03T05:00:25.433Z"
   },
   {
    "duration": 9,
    "start_time": "2021-08-03T05:00:25.439Z"
   },
   {
    "duration": 35,
    "start_time": "2021-08-03T05:00:25.450Z"
   },
   {
    "duration": 4,
    "start_time": "2021-08-03T05:00:25.487Z"
   },
   {
    "duration": 4,
    "start_time": "2021-08-03T05:00:25.492Z"
   },
   {
    "duration": 522,
    "start_time": "2021-08-03T05:00:25.497Z"
   },
   {
    "duration": 689,
    "start_time": "2021-08-03T05:00:26.021Z"
   },
   {
    "duration": -473,
    "start_time": "2021-08-03T05:00:27.185Z"
   },
   {
    "duration": -477,
    "start_time": "2021-08-03T05:00:27.190Z"
   },
   {
    "duration": -482,
    "start_time": "2021-08-03T05:00:27.196Z"
   },
   {
    "duration": -487,
    "start_time": "2021-08-03T05:00:27.202Z"
   },
   {
    "duration": -491,
    "start_time": "2021-08-03T05:00:27.207Z"
   },
   {
    "duration": -494,
    "start_time": "2021-08-03T05:00:27.211Z"
   },
   {
    "duration": -498,
    "start_time": "2021-08-03T05:00:27.215Z"
   },
   {
    "duration": -502,
    "start_time": "2021-08-03T05:00:27.220Z"
   },
   {
    "duration": -507,
    "start_time": "2021-08-03T05:00:27.226Z"
   },
   {
    "duration": -510,
    "start_time": "2021-08-03T05:00:27.230Z"
   },
   {
    "duration": -513,
    "start_time": "2021-08-03T05:00:27.234Z"
   },
   {
    "duration": -523,
    "start_time": "2021-08-03T05:00:27.245Z"
   },
   {
    "duration": -644,
    "start_time": "2021-08-03T05:00:27.367Z"
   },
   {
    "duration": -655,
    "start_time": "2021-08-03T05:00:27.379Z"
   },
   {
    "duration": -664,
    "start_time": "2021-08-03T05:00:27.389Z"
   },
   {
    "duration": -683,
    "start_time": "2021-08-03T05:00:27.409Z"
   },
   {
    "duration": -697,
    "start_time": "2021-08-03T05:00:27.424Z"
   },
   {
    "duration": -724,
    "start_time": "2021-08-03T05:00:27.451Z"
   },
   {
    "duration": -734,
    "start_time": "2021-08-03T05:00:27.462Z"
   },
   {
    "duration": 184,
    "start_time": "2021-08-03T06:11:56.578Z"
   },
   {
    "duration": 188,
    "start_time": "2021-08-03T06:12:18.978Z"
   },
   {
    "duration": 177,
    "start_time": "2021-08-03T06:12:29.536Z"
   },
   {
    "duration": 9,
    "start_time": "2021-08-03T06:13:44.586Z"
   },
   {
    "duration": 785,
    "start_time": "2021-08-03T06:13:44.597Z"
   },
   {
    "duration": 3,
    "start_time": "2021-08-03T06:13:45.387Z"
   },
   {
    "duration": 12,
    "start_time": "2021-08-03T06:13:45.392Z"
   },
   {
    "duration": 7,
    "start_time": "2021-08-03T06:13:45.412Z"
   },
   {
    "duration": 7,
    "start_time": "2021-08-03T06:13:45.420Z"
   },
   {
    "duration": 91,
    "start_time": "2021-08-03T06:13:45.429Z"
   },
   {
    "duration": 4,
    "start_time": "2021-08-03T06:13:45.523Z"
   },
   {
    "duration": 247,
    "start_time": "2021-08-03T06:13:45.529Z"
   },
   {
    "duration": 13,
    "start_time": "2021-08-03T06:13:45.784Z"
   },
   {
    "duration": 10,
    "start_time": "2021-08-03T06:13:45.800Z"
   },
   {
    "duration": 7,
    "start_time": "2021-08-03T06:13:45.812Z"
   },
   {
    "duration": 16,
    "start_time": "2021-08-03T06:13:45.820Z"
   },
   {
    "duration": 3,
    "start_time": "2021-08-03T06:13:45.838Z"
   },
   {
    "duration": 188,
    "start_time": "2021-08-03T06:14:31.818Z"
   },
   {
    "duration": 183,
    "start_time": "2021-08-03T06:15:03.114Z"
   },
   {
    "duration": 22,
    "start_time": "2021-08-03T06:16:17.255Z"
   },
   {
    "duration": 2,
    "start_time": "2021-08-03T06:16:45.356Z"
   },
   {
    "duration": 20,
    "start_time": "2021-08-03T06:16:47.048Z"
   },
   {
    "duration": 3,
    "start_time": "2021-08-03T06:17:11.449Z"
   },
   {
    "duration": 793,
    "start_time": "2021-08-03T06:17:11.454Z"
   },
   {
    "duration": 3,
    "start_time": "2021-08-03T06:17:12.249Z"
   },
   {
    "duration": 5,
    "start_time": "2021-08-03T06:17:12.254Z"
   },
   {
    "duration": 6,
    "start_time": "2021-08-03T06:17:12.261Z"
   },
   {
    "duration": 26,
    "start_time": "2021-08-03T06:17:12.268Z"
   },
   {
    "duration": 7,
    "start_time": "2021-08-03T06:17:12.296Z"
   },
   {
    "duration": 3,
    "start_time": "2021-08-03T06:17:12.306Z"
   },
   {
    "duration": 250,
    "start_time": "2021-08-03T06:17:12.312Z"
   },
   {
    "duration": 2,
    "start_time": "2021-08-03T06:17:12.564Z"
   },
   {
    "duration": 6,
    "start_time": "2021-08-03T06:17:12.567Z"
   },
   {
    "duration": 8,
    "start_time": "2021-08-03T06:17:12.584Z"
   },
   {
    "duration": 22,
    "start_time": "2021-08-03T06:17:12.594Z"
   },
   {
    "duration": 3,
    "start_time": "2021-08-03T06:17:12.617Z"
   },
   {
    "duration": 4,
    "start_time": "2021-08-03T06:17:12.622Z"
   },
   {
    "duration": 22,
    "start_time": "2021-08-03T06:17:12.627Z"
   },
   {
    "duration": 3,
    "start_time": "2021-08-03T06:17:12.650Z"
   },
   {
    "duration": 608,
    "start_time": "2021-08-03T06:17:12.654Z"
   },
   {
    "duration": 672,
    "start_time": "2021-08-03T06:17:13.264Z"
   },
   {
    "duration": -160,
    "start_time": "2021-08-03T06:17:14.098Z"
   },
   {
    "duration": -165,
    "start_time": "2021-08-03T06:17:14.104Z"
   },
   {
    "duration": -168,
    "start_time": "2021-08-03T06:17:14.108Z"
   },
   {
    "duration": -171,
    "start_time": "2021-08-03T06:17:14.113Z"
   },
   {
    "duration": -177,
    "start_time": "2021-08-03T06:17:14.119Z"
   },
   {
    "duration": -328,
    "start_time": "2021-08-03T06:17:14.272Z"
   },
   {
    "duration": -342,
    "start_time": "2021-08-03T06:17:14.286Z"
   },
   {
    "duration": -347,
    "start_time": "2021-08-03T06:17:14.292Z"
   },
   {
    "duration": -352,
    "start_time": "2021-08-03T06:17:14.298Z"
   },
   {
    "duration": -356,
    "start_time": "2021-08-03T06:17:14.303Z"
   },
   {
    "duration": -359,
    "start_time": "2021-08-03T06:17:14.307Z"
   },
   {
    "duration": -364,
    "start_time": "2021-08-03T06:17:14.313Z"
   },
   {
    "duration": -367,
    "start_time": "2021-08-03T06:17:14.317Z"
   },
   {
    "duration": -371,
    "start_time": "2021-08-03T06:17:14.322Z"
   },
   {
    "duration": -374,
    "start_time": "2021-08-03T06:17:14.326Z"
   },
   {
    "duration": -377,
    "start_time": "2021-08-03T06:17:14.331Z"
   },
   {
    "duration": -381,
    "start_time": "2021-08-03T06:17:14.335Z"
   },
   {
    "duration": -385,
    "start_time": "2021-08-03T06:17:14.340Z"
   },
   {
    "duration": -387,
    "start_time": "2021-08-03T06:17:14.343Z"
   },
   {
    "duration": 582,
    "start_time": "2021-08-03T06:22:30.076Z"
   },
   {
    "duration": 1175,
    "start_time": "2021-08-03T06:25:03.418Z"
   },
   {
    "duration": 791,
    "start_time": "2021-08-03T06:25:04.595Z"
   },
   {
    "duration": 3,
    "start_time": "2021-08-03T06:25:05.389Z"
   },
   {
    "duration": 15,
    "start_time": "2021-08-03T06:25:05.396Z"
   },
   {
    "duration": 6,
    "start_time": "2021-08-03T06:25:05.413Z"
   },
   {
    "duration": 6,
    "start_time": "2021-08-03T06:25:05.421Z"
   },
   {
    "duration": 4,
    "start_time": "2021-08-03T06:25:05.429Z"
   },
   {
    "duration": 8,
    "start_time": "2021-08-03T06:25:05.435Z"
   },
   {
    "duration": 274,
    "start_time": "2021-08-03T06:25:05.446Z"
   },
   {
    "duration": 586,
    "start_time": "2021-08-03T06:25:05.723Z"
   },
   {
    "duration": 2,
    "start_time": "2021-08-03T06:25:06.311Z"
   },
   {
    "duration": 5,
    "start_time": "2021-08-03T06:25:06.315Z"
   },
   {
    "duration": 12,
    "start_time": "2021-08-03T06:25:06.322Z"
   },
   {
    "duration": 15,
    "start_time": "2021-08-03T06:25:06.336Z"
   },
   {
    "duration": 4,
    "start_time": "2021-08-03T06:25:06.353Z"
   },
   {
    "duration": 5,
    "start_time": "2021-08-03T06:25:06.358Z"
   },
   {
    "duration": 41,
    "start_time": "2021-08-03T06:25:06.364Z"
   },
   {
    "duration": 3,
    "start_time": "2021-08-03T06:25:06.407Z"
   },
   {
    "duration": 587,
    "start_time": "2021-08-03T06:25:06.413Z"
   },
   {
    "duration": 824,
    "start_time": "2021-08-03T06:25:07.002Z"
   },
   {
    "duration": -127,
    "start_time": "2021-08-03T06:25:07.955Z"
   },
   {
    "duration": -138,
    "start_time": "2021-08-03T06:25:07.968Z"
   },
   {
    "duration": -144,
    "start_time": "2021-08-03T06:25:07.975Z"
   },
   {
    "duration": -158,
    "start_time": "2021-08-03T06:25:07.990Z"
   },
   {
    "duration": -163,
    "start_time": "2021-08-03T06:25:07.996Z"
   },
   {
    "duration": -172,
    "start_time": "2021-08-03T06:25:08.005Z"
   },
   {
    "duration": -187,
    "start_time": "2021-08-03T06:25:08.021Z"
   },
   {
    "duration": -192,
    "start_time": "2021-08-03T06:25:08.027Z"
   },
   {
    "duration": -197,
    "start_time": "2021-08-03T06:25:08.033Z"
   },
   {
    "duration": -206,
    "start_time": "2021-08-03T06:25:08.043Z"
   },
   {
    "duration": -236,
    "start_time": "2021-08-03T06:25:08.074Z"
   },
   {
    "duration": -242,
    "start_time": "2021-08-03T06:25:08.081Z"
   },
   {
    "duration": -250,
    "start_time": "2021-08-03T06:25:08.090Z"
   },
   {
    "duration": -256,
    "start_time": "2021-08-03T06:25:08.097Z"
   },
   {
    "duration": -261,
    "start_time": "2021-08-03T06:25:08.102Z"
   },
   {
    "duration": -265,
    "start_time": "2021-08-03T06:25:08.107Z"
   },
   {
    "duration": -269,
    "start_time": "2021-08-03T06:25:08.112Z"
   },
   {
    "duration": -274,
    "start_time": "2021-08-03T06:25:08.118Z"
   },
   {
    "duration": -280,
    "start_time": "2021-08-03T06:25:08.125Z"
   },
   {
    "duration": 245,
    "start_time": "2021-08-03T06:26:07.319Z"
   },
   {
    "duration": 585,
    "start_time": "2021-08-03T06:26:19.460Z"
   },
   {
    "duration": 556,
    "start_time": "2021-08-03T06:26:31.019Z"
   },
   {
    "duration": 253,
    "start_time": "2021-08-03T06:27:07.809Z"
   },
   {
    "duration": 384,
    "start_time": "2021-08-03T06:28:10.579Z"
   },
   {
    "duration": 242,
    "start_time": "2021-08-03T06:28:18.497Z"
   },
   {
    "duration": 159,
    "start_time": "2021-08-03T06:28:24.218Z"
   },
   {
    "duration": 41,
    "start_time": "2021-08-03T06:37:31.754Z"
   },
   {
    "duration": 16,
    "start_time": "2021-08-03T06:37:48.114Z"
   },
   {
    "duration": 4,
    "start_time": "2021-08-03T06:37:56.475Z"
   },
   {
    "duration": 779,
    "start_time": "2021-08-03T06:37:56.481Z"
   },
   {
    "duration": 3,
    "start_time": "2021-08-03T06:37:57.262Z"
   },
   {
    "duration": 5,
    "start_time": "2021-08-03T06:37:57.267Z"
   },
   {
    "duration": 16,
    "start_time": "2021-08-03T06:37:57.274Z"
   },
   {
    "duration": 5,
    "start_time": "2021-08-03T06:37:57.293Z"
   },
   {
    "duration": 5,
    "start_time": "2021-08-03T06:37:57.301Z"
   },
   {
    "duration": 6,
    "start_time": "2021-08-03T06:37:57.308Z"
   },
   {
    "duration": 256,
    "start_time": "2021-08-03T06:37:57.317Z"
   },
   {
    "duration": 269,
    "start_time": "2021-08-03T06:37:57.575Z"
   },
   {
    "duration": 241,
    "start_time": "2021-08-03T06:37:57.846Z"
   },
   {
    "duration": 3,
    "start_time": "2021-08-03T06:37:58.089Z"
   },
   {
    "duration": 4,
    "start_time": "2021-08-03T06:37:58.097Z"
   },
   {
    "duration": 8,
    "start_time": "2021-08-03T06:37:58.103Z"
   },
   {
    "duration": 18,
    "start_time": "2021-08-03T06:37:58.113Z"
   },
   {
    "duration": 3,
    "start_time": "2021-08-03T06:37:58.133Z"
   },
   {
    "duration": 3,
    "start_time": "2021-08-03T06:37:58.138Z"
   },
   {
    "duration": 71,
    "start_time": "2021-08-03T06:37:58.143Z"
   },
   {
    "duration": 12,
    "start_time": "2021-08-03T06:37:58.216Z"
   },
   {
    "duration": 2,
    "start_time": "2021-08-03T06:37:58.230Z"
   },
   {
    "duration": 4,
    "start_time": "2021-08-03T06:37:58.234Z"
   },
   {
    "duration": 582,
    "start_time": "2021-08-03T06:37:58.239Z"
   },
   {
    "duration": 652,
    "start_time": "2021-08-03T06:37:58.823Z"
   },
   {
    "duration": 87,
    "start_time": "2021-08-03T06:37:59.391Z"
   },
   {
    "duration": 82,
    "start_time": "2021-08-03T06:37:59.397Z"
   },
   {
    "duration": 75,
    "start_time": "2021-08-03T06:37:59.404Z"
   },
   {
    "duration": 69,
    "start_time": "2021-08-03T06:37:59.411Z"
   },
   {
    "duration": 67,
    "start_time": "2021-08-03T06:37:59.417Z"
   },
   {
    "duration": 58,
    "start_time": "2021-08-03T06:37:59.427Z"
   },
   {
    "duration": 49,
    "start_time": "2021-08-03T06:37:59.437Z"
   },
   {
    "duration": 44,
    "start_time": "2021-08-03T06:37:59.443Z"
   },
   {
    "duration": 43,
    "start_time": "2021-08-03T06:37:59.448Z"
   },
   {
    "duration": 28,
    "start_time": "2021-08-03T06:37:59.464Z"
   },
   {
    "duration": 24,
    "start_time": "2021-08-03T06:37:59.470Z"
   },
   {
    "duration": 22,
    "start_time": "2021-08-03T06:37:59.476Z"
   },
   {
    "duration": 19,
    "start_time": "2021-08-03T06:37:59.481Z"
   },
   {
    "duration": 15,
    "start_time": "2021-08-03T06:37:59.486Z"
   },
   {
    "duration": 10,
    "start_time": "2021-08-03T06:37:59.493Z"
   },
   {
    "duration": 7,
    "start_time": "2021-08-03T06:37:59.498Z"
   },
   {
    "duration": 7,
    "start_time": "2021-08-03T06:37:59.502Z"
   },
   {
    "duration": 2,
    "start_time": "2021-08-03T06:37:59.508Z"
   },
   {
    "duration": -1,
    "start_time": "2021-08-03T06:37:59.513Z"
   },
   {
    "duration": 37,
    "start_time": "2021-08-03T06:46:55.808Z"
   },
   {
    "duration": 14,
    "start_time": "2021-08-03T06:47:55.496Z"
   },
   {
    "duration": 22,
    "start_time": "2021-08-03T06:56:21.958Z"
   },
   {
    "duration": 24,
    "start_time": "2021-08-03T06:59:01.792Z"
   },
   {
    "duration": 16,
    "start_time": "2021-08-03T06:59:24.442Z"
   },
   {
    "duration": 12,
    "start_time": "2021-08-03T06:59:33.341Z"
   },
   {
    "duration": 10,
    "start_time": "2021-08-03T06:59:56.602Z"
   },
   {
    "duration": 4,
    "start_time": "2021-08-03T07:00:06.122Z"
   },
   {
    "duration": 721,
    "start_time": "2021-08-03T07:00:06.128Z"
   },
   {
    "duration": 3,
    "start_time": "2021-08-03T07:00:06.852Z"
   },
   {
    "duration": 5,
    "start_time": "2021-08-03T07:00:06.857Z"
   },
   {
    "duration": 5,
    "start_time": "2021-08-03T07:00:06.863Z"
   },
   {
    "duration": 19,
    "start_time": "2021-08-03T07:00:06.869Z"
   },
   {
    "duration": 4,
    "start_time": "2021-08-03T07:00:06.889Z"
   },
   {
    "duration": 7,
    "start_time": "2021-08-03T07:00:06.894Z"
   },
   {
    "duration": 246,
    "start_time": "2021-08-03T07:00:06.903Z"
   },
   {
    "duration": 6,
    "start_time": "2021-08-03T07:00:07.151Z"
   },
   {
    "duration": 16,
    "start_time": "2021-08-03T07:00:07.158Z"
   },
   {
    "duration": 11,
    "start_time": "2021-08-03T07:00:07.187Z"
   },
   {
    "duration": 18,
    "start_time": "2021-08-03T07:00:07.199Z"
   },
   {
    "duration": 19,
    "start_time": "2021-08-03T07:00:07.219Z"
   },
   {
    "duration": 10,
    "start_time": "2021-08-03T07:00:07.240Z"
   },
   {
    "duration": 3,
    "start_time": "2021-08-03T07:00:07.251Z"
   },
   {
    "duration": 645,
    "start_time": "2021-08-03T07:00:07.255Z"
   },
   {
    "duration": 559,
    "start_time": "2021-08-03T07:00:07.901Z"
   },
   {
    "duration": 817,
    "start_time": "2021-08-03T07:00:08.461Z"
   },
   {
    "duration": 349,
    "start_time": "2021-08-03T07:00:09.279Z"
   },
   {
    "duration": 31,
    "start_time": "2021-08-03T07:00:09.599Z"
   },
   {
    "duration": 18,
    "start_time": "2021-08-03T07:00:09.613Z"
   },
   {
    "duration": 2,
    "start_time": "2021-08-03T07:00:09.630Z"
   },
   {
    "duration": -7,
    "start_time": "2021-08-03T07:00:09.640Z"
   },
   {
    "duration": -14,
    "start_time": "2021-08-03T07:00:09.648Z"
   },
   {
    "duration": -23,
    "start_time": "2021-08-03T07:00:09.658Z"
   },
   {
    "duration": -29,
    "start_time": "2021-08-03T07:00:09.665Z"
   },
   {
    "duration": -36,
    "start_time": "2021-08-03T07:00:09.673Z"
   },
   {
    "duration": -42,
    "start_time": "2021-08-03T07:00:09.680Z"
   },
   {
    "duration": -50,
    "start_time": "2021-08-03T07:00:09.688Z"
   },
   {
    "duration": -56,
    "start_time": "2021-08-03T07:00:09.695Z"
   },
   {
    "duration": -61,
    "start_time": "2021-08-03T07:00:09.701Z"
   },
   {
    "duration": -67,
    "start_time": "2021-08-03T07:00:09.708Z"
   },
   {
    "duration": -71,
    "start_time": "2021-08-03T07:00:09.713Z"
   },
   {
    "duration": -79,
    "start_time": "2021-08-03T07:00:09.722Z"
   },
   {
    "duration": -84,
    "start_time": "2021-08-03T07:00:09.728Z"
   },
   {
    "duration": -93,
    "start_time": "2021-08-03T07:00:09.738Z"
   },
   {
    "duration": 6,
    "start_time": "2021-08-03T07:01:23.292Z"
   },
   {
    "duration": 12,
    "start_time": "2021-08-03T07:01:26.602Z"
   },
   {
    "duration": 3,
    "start_time": "2021-08-03T07:02:08.461Z"
   },
   {
    "duration": 731,
    "start_time": "2021-08-03T07:02:08.466Z"
   },
   {
    "duration": 3,
    "start_time": "2021-08-03T07:02:09.199Z"
   },
   {
    "duration": 8,
    "start_time": "2021-08-03T07:02:09.203Z"
   },
   {
    "duration": 14,
    "start_time": "2021-08-03T07:02:09.212Z"
   },
   {
    "duration": 12,
    "start_time": "2021-08-03T07:02:09.227Z"
   },
   {
    "duration": 6,
    "start_time": "2021-08-03T07:02:09.240Z"
   },
   {
    "duration": 7,
    "start_time": "2021-08-03T07:02:09.249Z"
   },
   {
    "duration": 245,
    "start_time": "2021-08-03T07:02:09.258Z"
   },
   {
    "duration": 7,
    "start_time": "2021-08-03T07:02:09.505Z"
   },
   {
    "duration": 24,
    "start_time": "2021-08-03T07:02:09.514Z"
   },
   {
    "duration": 6,
    "start_time": "2021-08-03T07:02:09.539Z"
   },
   {
    "duration": 26,
    "start_time": "2021-08-03T07:02:09.547Z"
   },
   {
    "duration": 19,
    "start_time": "2021-08-03T07:02:09.575Z"
   },
   {
    "duration": 11,
    "start_time": "2021-08-03T07:02:09.598Z"
   },
   {
    "duration": 2,
    "start_time": "2021-08-03T07:02:09.610Z"
   },
   {
    "duration": 587,
    "start_time": "2021-08-03T07:02:09.614Z"
   },
   {
    "duration": 627,
    "start_time": "2021-08-03T07:02:10.203Z"
   },
   {
    "duration": 589,
    "start_time": "2021-08-03T07:02:10.832Z"
   },
   {
    "duration": 650,
    "start_time": "2021-08-03T07:02:11.422Z"
   },
   {
    "duration": 13,
    "start_time": "2021-08-03T07:02:12.073Z"
   },
   {
    "duration": 541,
    "start_time": "2021-08-03T07:02:12.088Z"
   },
   {
    "duration": 3,
    "start_time": "2021-08-03T07:02:12.632Z"
   },
   {
    "duration": 4,
    "start_time": "2021-08-03T07:02:12.637Z"
   },
   {
    "duration": 5,
    "start_time": "2021-08-03T07:02:12.643Z"
   },
   {
    "duration": 10,
    "start_time": "2021-08-03T07:02:12.650Z"
   },
   {
    "duration": 31,
    "start_time": "2021-08-03T07:02:12.662Z"
   },
   {
    "duration": 29,
    "start_time": "2021-08-03T07:02:12.695Z"
   },
   {
    "duration": 6023,
    "start_time": "2021-08-03T07:02:12.726Z"
   },
   {
    "duration": 6348,
    "start_time": "2021-08-03T07:02:18.750Z"
   },
   {
    "duration": 21600,
    "start_time": "2021-08-03T07:02:25.100Z"
   },
   {
    "duration": 21139,
    "start_time": "2021-08-03T07:02:46.702Z"
   },
   {
    "duration": 2344,
    "start_time": "2021-08-03T07:03:07.842Z"
   },
   {
    "duration": 2103,
    "start_time": "2021-08-03T07:03:10.188Z"
   },
   {
    "duration": 17,
    "start_time": "2021-08-03T07:03:12.384Z"
   },
   {
    "duration": 7,
    "start_time": "2021-08-03T07:03:12.403Z"
   },
   {
    "duration": 8,
    "start_time": "2021-08-03T07:03:12.411Z"
   },
   {
    "duration": 12,
    "start_time": "2021-08-03T07:03:12.422Z"
   },
   {
    "duration": 1223,
    "start_time": "2021-08-03T07:26:34.401Z"
   },
   {
    "duration": 820,
    "start_time": "2021-08-03T07:26:35.628Z"
   },
   {
    "duration": 3,
    "start_time": "2021-08-03T07:26:36.450Z"
   },
   {
    "duration": 8,
    "start_time": "2021-08-03T07:26:36.454Z"
   },
   {
    "duration": 7,
    "start_time": "2021-08-03T07:26:36.463Z"
   },
   {
    "duration": 13,
    "start_time": "2021-08-03T07:26:36.472Z"
   },
   {
    "duration": 8,
    "start_time": "2021-08-03T07:26:36.487Z"
   },
   {
    "duration": 3,
    "start_time": "2021-08-03T07:26:36.498Z"
   },
   {
    "duration": 274,
    "start_time": "2021-08-03T07:26:36.503Z"
   },
   {
    "duration": 14,
    "start_time": "2021-08-03T07:26:36.778Z"
   },
   {
    "duration": 18,
    "start_time": "2021-08-03T07:26:36.795Z"
   },
   {
    "duration": 4,
    "start_time": "2021-08-03T07:26:36.815Z"
   },
   {
    "duration": 25,
    "start_time": "2021-08-03T07:26:36.821Z"
   },
   {
    "duration": 42,
    "start_time": "2021-08-03T07:26:36.848Z"
   },
   {
    "duration": 2,
    "start_time": "2021-08-03T07:26:36.895Z"
   },
   {
    "duration": 604,
    "start_time": "2021-08-03T07:26:36.900Z"
   },
   {
    "duration": 590,
    "start_time": "2021-08-03T07:26:37.507Z"
   },
   {
    "duration": 677,
    "start_time": "2021-08-03T07:26:38.101Z"
   },
   {
    "duration": 463,
    "start_time": "2021-08-03T07:26:38.780Z"
   },
   {
    "duration": 8,
    "start_time": "2021-08-03T07:26:39.245Z"
   },
   {
    "duration": 644,
    "start_time": "2021-08-03T07:26:39.255Z"
   },
   {
    "duration": 4,
    "start_time": "2021-08-03T07:26:39.900Z"
   },
   {
    "duration": 8,
    "start_time": "2021-08-03T07:26:39.910Z"
   },
   {
    "duration": 3,
    "start_time": "2021-08-03T07:26:39.925Z"
   },
   {
    "duration": 11,
    "start_time": "2021-08-03T07:26:39.930Z"
   },
   {
    "duration": 6,
    "start_time": "2021-08-03T07:26:39.943Z"
   },
   {
    "duration": 49,
    "start_time": "2021-08-03T07:26:39.950Z"
   },
   {
    "duration": 6627,
    "start_time": "2021-08-03T07:26:40.001Z"
   },
   {
    "duration": 6912,
    "start_time": "2021-08-03T07:26:46.630Z"
   },
   {
    "duration": 23653,
    "start_time": "2021-08-03T07:26:53.544Z"
   },
   {
    "duration": 23671,
    "start_time": "2021-08-03T07:27:17.199Z"
   },
   {
    "duration": 5330,
    "start_time": "2021-08-03T07:27:40.872Z"
   },
   {
    "duration": 5888,
    "start_time": "2021-08-03T07:27:46.211Z"
   },
   {
    "duration": 80,
    "start_time": "2021-08-03T07:27:52.108Z"
   },
   {
    "duration": 17,
    "start_time": "2021-08-03T07:27:52.191Z"
   },
   {
    "duration": 14,
    "start_time": "2021-08-03T07:27:52.210Z"
   },
   {
    "duration": 3,
    "start_time": "2021-08-03T07:33:23.044Z"
   },
   {
    "duration": 864,
    "start_time": "2021-08-03T07:33:23.049Z"
   },
   {
    "duration": 4,
    "start_time": "2021-08-03T07:33:23.916Z"
   },
   {
    "duration": 9,
    "start_time": "2021-08-03T07:33:23.922Z"
   },
   {
    "duration": 7,
    "start_time": "2021-08-03T07:33:23.932Z"
   },
   {
    "duration": 7,
    "start_time": "2021-08-03T07:33:23.940Z"
   },
   {
    "duration": 5,
    "start_time": "2021-08-03T07:33:23.948Z"
   },
   {
    "duration": 5,
    "start_time": "2021-08-03T07:33:23.954Z"
   },
   {
    "duration": 291,
    "start_time": "2021-08-03T07:33:23.961Z"
   },
   {
    "duration": 7,
    "start_time": "2021-08-03T07:33:24.255Z"
   },
   {
    "duration": 37,
    "start_time": "2021-08-03T07:33:24.263Z"
   },
   {
    "duration": 6,
    "start_time": "2021-08-03T07:33:24.312Z"
   },
   {
    "duration": 24,
    "start_time": "2021-08-03T07:33:24.321Z"
   },
   {
    "duration": 3,
    "start_time": "2021-08-03T07:33:24.346Z"
   },
   {
    "duration": 629,
    "start_time": "2021-08-03T07:33:24.351Z"
   },
   {
    "duration": 709,
    "start_time": "2021-08-03T07:33:24.982Z"
   },
   {
    "duration": 616,
    "start_time": "2021-08-03T07:33:25.696Z"
   },
   {
    "duration": 457,
    "start_time": "2021-08-03T07:33:26.316Z"
   },
   {
    "duration": 24,
    "start_time": "2021-08-03T07:33:26.775Z"
   },
   {
    "duration": 638,
    "start_time": "2021-08-03T07:33:26.805Z"
   },
   {
    "duration": 4,
    "start_time": "2021-08-03T07:33:27.445Z"
   },
   {
    "duration": 5,
    "start_time": "2021-08-03T07:33:27.451Z"
   },
   {
    "duration": 6,
    "start_time": "2021-08-03T07:33:27.457Z"
   },
   {
    "duration": 28,
    "start_time": "2021-08-03T07:33:27.465Z"
   },
   {
    "duration": 6,
    "start_time": "2021-08-03T07:33:27.499Z"
   },
   {
    "duration": 34,
    "start_time": "2021-08-03T07:33:27.506Z"
   },
   {
    "duration": 6919,
    "start_time": "2021-08-03T07:33:27.543Z"
   },
   {
    "duration": 6890,
    "start_time": "2021-08-03T07:33:34.464Z"
   },
   {
    "duration": 23877,
    "start_time": "2021-08-03T07:33:41.355Z"
   },
   {
    "duration": 23424,
    "start_time": "2021-08-03T07:34:05.234Z"
   },
   {
    "duration": 3865,
    "start_time": "2021-08-03T07:34:28.661Z"
   },
   {
    "duration": 4988,
    "start_time": "2021-08-03T07:34:32.528Z"
   },
   {
    "duration": 32,
    "start_time": "2021-08-03T07:34:37.589Z"
   },
   {
    "duration": 9,
    "start_time": "2021-08-03T07:34:37.625Z"
   },
   {
    "duration": 8,
    "start_time": "2021-08-03T07:34:37.636Z"
   },
   {
    "duration": 17,
    "start_time": "2021-08-03T07:54:29.266Z"
   },
   {
    "duration": 3,
    "start_time": "2021-08-03T07:54:33.336Z"
   },
   {
    "duration": 794,
    "start_time": "2021-08-03T07:54:33.341Z"
   },
   {
    "duration": 2,
    "start_time": "2021-08-03T07:54:34.137Z"
   },
   {
    "duration": 23,
    "start_time": "2021-08-03T07:54:34.141Z"
   },
   {
    "duration": 27,
    "start_time": "2021-08-03T07:54:34.166Z"
   },
   {
    "duration": 23,
    "start_time": "2021-08-03T07:54:34.197Z"
   },
   {
    "duration": 9,
    "start_time": "2021-08-03T07:54:34.222Z"
   },
   {
    "duration": 19,
    "start_time": "2021-08-03T07:54:34.232Z"
   },
   {
    "duration": 268,
    "start_time": "2021-08-03T07:54:34.254Z"
   },
   {
    "duration": 10,
    "start_time": "2021-08-03T07:54:34.527Z"
   },
   {
    "duration": 29,
    "start_time": "2021-08-03T07:54:34.539Z"
   },
   {
    "duration": 4,
    "start_time": "2021-08-03T07:54:34.570Z"
   },
   {
    "duration": 52,
    "start_time": "2021-08-03T07:54:34.575Z"
   },
   {
    "duration": 2,
    "start_time": "2021-08-03T07:54:34.629Z"
   },
   {
    "duration": 28,
    "start_time": "2021-08-03T07:54:34.632Z"
   },
   {
    "duration": 13,
    "start_time": "2021-08-03T07:54:34.661Z"
   },
   {
    "duration": 631,
    "start_time": "2021-08-03T07:54:34.675Z"
   },
   {
    "duration": 571,
    "start_time": "2021-08-03T07:54:35.308Z"
   },
   {
    "duration": 605,
    "start_time": "2021-08-03T07:54:35.880Z"
   },
   {
    "duration": 699,
    "start_time": "2021-08-03T07:54:36.489Z"
   },
   {
    "duration": 13,
    "start_time": "2021-08-03T07:54:37.194Z"
   },
   {
    "duration": 793,
    "start_time": "2021-08-03T07:54:37.209Z"
   },
   {
    "duration": 8,
    "start_time": "2021-08-03T07:54:38.005Z"
   },
   {
    "duration": 4,
    "start_time": "2021-08-03T07:54:38.015Z"
   },
   {
    "duration": 13,
    "start_time": "2021-08-03T07:54:38.021Z"
   },
   {
    "duration": 16,
    "start_time": "2021-08-03T07:54:38.036Z"
   },
   {
    "duration": 7,
    "start_time": "2021-08-03T07:54:38.055Z"
   },
   {
    "duration": 51,
    "start_time": "2021-08-03T07:54:38.064Z"
   },
   {
    "duration": 5553,
    "start_time": "2021-08-03T07:54:38.116Z"
   },
   {
    "duration": 6011,
    "start_time": "2021-08-03T07:54:43.671Z"
   },
   {
    "duration": 21052,
    "start_time": "2021-08-03T07:54:49.692Z"
   },
   {
    "duration": 20573,
    "start_time": "2021-08-03T07:55:10.746Z"
   },
   {
    "duration": 4304,
    "start_time": "2021-08-03T07:55:31.321Z"
   },
   {
    "duration": 3273,
    "start_time": "2021-08-03T07:55:35.630Z"
   },
   {
    "duration": 105,
    "start_time": "2021-08-03T07:55:38.905Z"
   },
   {
    "duration": 11,
    "start_time": "2021-08-03T07:55:39.020Z"
   },
   {
    "duration": 8,
    "start_time": "2021-08-03T07:55:39.033Z"
   },
   {
    "duration": 54,
    "start_time": "2021-08-03T07:55:39.044Z"
   },
   {
    "duration": 11,
    "start_time": "2021-08-03T07:55:54.832Z"
   },
   {
    "duration": 294,
    "start_time": "2021-08-03T08:06:32.371Z"
   },
   {
    "duration": 187,
    "start_time": "2021-08-03T08:07:52.289Z"
   },
   {
    "duration": 574,
    "start_time": "2021-08-03T08:08:07.902Z"
   },
   {
    "duration": 194,
    "start_time": "2021-08-03T08:09:51.406Z"
   },
   {
    "duration": 4556,
    "start_time": "2021-08-03T08:09:58.934Z"
   },
   {
    "duration": 362,
    "start_time": "2021-08-03T08:10:32.116Z"
   },
   {
    "duration": 188,
    "start_time": "2021-08-03T08:10:50.129Z"
   },
   {
    "duration": 465,
    "start_time": "2021-08-03T08:11:47.690Z"
   },
   {
    "duration": 149,
    "start_time": "2021-08-03T08:13:17.504Z"
   },
   {
    "duration": 164,
    "start_time": "2021-08-03T08:13:56.381Z"
   },
   {
    "duration": 3,
    "start_time": "2021-08-03T08:14:31.753Z"
   },
   {
    "duration": 4,
    "start_time": "2021-08-03T08:14:59.872Z"
   },
   {
    "duration": 5,
    "start_time": "2021-08-03T08:15:19.924Z"
   },
   {
    "duration": 182,
    "start_time": "2021-08-03T08:16:09.465Z"
   },
   {
    "duration": 1221,
    "start_time": "2021-08-03T08:16:17.985Z"
   },
   {
    "duration": 1324,
    "start_time": "2021-08-03T08:16:49.582Z"
   },
   {
    "duration": 179,
    "start_time": "2021-08-03T08:19:11.615Z"
   },
   {
    "duration": 187,
    "start_time": "2021-08-03T08:19:41.407Z"
   },
   {
    "duration": 178,
    "start_time": "2021-08-03T08:19:47.290Z"
   },
   {
    "duration": 174,
    "start_time": "2021-08-03T08:19:56.640Z"
   },
   {
    "duration": 1184,
    "start_time": "2021-08-03T08:21:54.784Z"
   },
   {
    "duration": 562,
    "start_time": "2021-08-03T08:22:59.488Z"
   },
   {
    "duration": 1240,
    "start_time": "2021-08-03T08:23:09.353Z"
   },
   {
    "duration": 1292,
    "start_time": "2021-08-03T08:23:52.944Z"
   },
   {
    "duration": 1135,
    "start_time": "2021-08-03T08:23:57.625Z"
   },
   {
    "duration": 1210,
    "start_time": "2021-08-03T08:24:15.259Z"
   },
   {
    "duration": 1201,
    "start_time": "2021-08-03T08:24:40.790Z"
   },
   {
    "duration": 1312,
    "start_time": "2021-08-03T08:24:48.367Z"
   },
   {
    "duration": 1160,
    "start_time": "2021-08-03T08:25:21.814Z"
   },
   {
    "duration": 591,
    "start_time": "2021-08-03T08:25:35.354Z"
   },
   {
    "duration": 570,
    "start_time": "2021-08-03T08:25:47.905Z"
   },
   {
    "duration": 745,
    "start_time": "2021-08-03T08:26:15.229Z"
   },
   {
    "duration": 551,
    "start_time": "2021-08-03T08:26:21.514Z"
   },
   {
    "duration": 1244,
    "start_time": "2021-08-03T08:26:41.350Z"
   },
   {
    "duration": 650,
    "start_time": "2021-08-03T08:26:58.546Z"
   },
   {
    "duration": 1360,
    "start_time": "2021-08-03T08:27:09.346Z"
   },
   {
    "duration": 176,
    "start_time": "2021-08-03T08:43:18.194Z"
   },
   {
    "duration": 181,
    "start_time": "2021-08-03T08:43:24.594Z"
   },
   {
    "duration": 205,
    "start_time": "2021-08-03T08:43:45.814Z"
   },
   {
    "duration": 227,
    "start_time": "2021-08-03T08:43:57.384Z"
   },
   {
    "duration": 7,
    "start_time": "2021-08-03T08:46:29.404Z"
   },
   {
    "duration": 203,
    "start_time": "2021-08-03T08:47:41.910Z"
   },
   {
    "duration": 223,
    "start_time": "2021-08-03T08:47:57.012Z"
   },
   {
    "duration": 179,
    "start_time": "2021-08-03T08:48:04.330Z"
   },
   {
    "duration": 10,
    "start_time": "2021-08-03T08:50:31.846Z"
   },
   {
    "duration": 66,
    "start_time": "2021-08-03T08:52:43.241Z"
   },
   {
    "duration": 8,
    "start_time": "2021-08-03T08:52:50.624Z"
   },
   {
    "duration": 1159,
    "start_time": "2021-08-03T08:53:14.145Z"
   },
   {
    "duration": 9,
    "start_time": "2021-08-03T08:53:24.186Z"
   },
   {
    "duration": 1095,
    "start_time": "2021-08-03T08:53:31.450Z"
   },
   {
    "duration": 1056,
    "start_time": "2021-08-03T08:54:32.495Z"
   },
   {
    "duration": 4,
    "start_time": "2021-08-03T08:54:43.039Z"
   },
   {
    "duration": 667,
    "start_time": "2021-08-03T08:54:43.045Z"
   },
   {
    "duration": 2,
    "start_time": "2021-08-03T08:54:43.714Z"
   },
   {
    "duration": 6,
    "start_time": "2021-08-03T08:54:43.718Z"
   },
   {
    "duration": 6,
    "start_time": "2021-08-03T08:54:43.725Z"
   },
   {
    "duration": 6,
    "start_time": "2021-08-03T08:54:43.733Z"
   },
   {
    "duration": 7,
    "start_time": "2021-08-03T08:54:43.740Z"
   },
   {
    "duration": 4,
    "start_time": "2021-08-03T08:54:43.750Z"
   },
   {
    "duration": 236,
    "start_time": "2021-08-03T08:54:43.756Z"
   },
   {
    "duration": 7,
    "start_time": "2021-08-03T08:54:43.993Z"
   },
   {
    "duration": 18,
    "start_time": "2021-08-03T08:54:44.002Z"
   },
   {
    "duration": 4,
    "start_time": "2021-08-03T08:54:44.021Z"
   },
   {
    "duration": 26,
    "start_time": "2021-08-03T08:54:44.027Z"
   },
   {
    "duration": 2,
    "start_time": "2021-08-03T08:54:44.054Z"
   },
   {
    "duration": 28,
    "start_time": "2021-08-03T08:54:44.058Z"
   },
   {
    "duration": 528,
    "start_time": "2021-08-03T08:54:44.087Z"
   },
   {
    "duration": 639,
    "start_time": "2021-08-03T08:54:44.617Z"
   },
   {
    "duration": 521,
    "start_time": "2021-08-03T08:54:45.258Z"
   },
   {
    "duration": 415,
    "start_time": "2021-08-03T08:54:45.780Z"
   },
   {
    "duration": 5,
    "start_time": "2021-08-03T08:54:46.197Z"
   },
   {
    "duration": 536,
    "start_time": "2021-08-03T08:54:46.203Z"
   },
   {
    "duration": 5,
    "start_time": "2021-08-03T08:54:46.740Z"
   },
   {
    "duration": 1219,
    "start_time": "2021-08-03T08:54:46.748Z"
   },
   {
    "duration": 2,
    "start_time": "2021-08-03T08:54:47.969Z"
   },
   {
    "duration": 27,
    "start_time": "2021-08-03T08:54:47.972Z"
   },
   {
    "duration": 195,
    "start_time": "2021-08-03T08:54:48.001Z"
   },
   {
    "duration": 397,
    "start_time": "2021-08-03T08:54:47.801Z"
   },
   {
    "duration": 392,
    "start_time": "2021-08-03T08:54:47.807Z"
   },
   {
    "duration": 387,
    "start_time": "2021-08-03T08:54:47.813Z"
   },
   {
    "duration": 196,
    "start_time": "2021-08-03T08:54:48.005Z"
   },
   {
    "duration": 191,
    "start_time": "2021-08-03T08:54:48.011Z"
   },
   {
    "duration": 182,
    "start_time": "2021-08-03T08:54:48.021Z"
   },
   {
    "duration": 175,
    "start_time": "2021-08-03T08:54:48.029Z"
   },
   {
    "duration": 165,
    "start_time": "2021-08-03T08:54:48.040Z"
   },
   {
    "duration": 154,
    "start_time": "2021-08-03T08:54:48.052Z"
   },
   {
    "duration": 149,
    "start_time": "2021-08-03T08:54:48.058Z"
   },
   {
    "duration": 144,
    "start_time": "2021-08-03T08:54:48.064Z"
   },
   {
    "duration": 140,
    "start_time": "2021-08-03T08:54:48.069Z"
   },
   {
    "duration": 135,
    "start_time": "2021-08-03T08:54:48.075Z"
   },
   {
    "duration": 130,
    "start_time": "2021-08-03T08:54:48.081Z"
   },
   {
    "duration": 123,
    "start_time": "2021-08-03T08:54:48.089Z"
   },
   {
    "duration": 5,
    "start_time": "2021-08-03T09:07:38.690Z"
   },
   {
    "duration": 1174,
    "start_time": "2021-08-03T09:08:17.229Z"
   },
   {
    "duration": 6,
    "start_time": "2021-08-03T09:08:33.139Z"
   },
   {
    "duration": 1162,
    "start_time": "2021-08-03T09:08:45.445Z"
   },
   {
    "duration": 538,
    "start_time": "2021-08-03T09:09:32.869Z"
   },
   {
    "duration": 9,
    "start_time": "2021-08-03T09:10:41.936Z"
   },
   {
    "duration": 4,
    "start_time": "2021-08-03T09:10:51.980Z"
   },
   {
    "duration": 559,
    "start_time": "2021-08-03T09:10:58.849Z"
   },
   {
    "duration": 4493,
    "start_time": "2021-08-03T09:11:53.445Z"
   },
   {
    "duration": 4786,
    "start_time": "2021-08-03T09:12:30.220Z"
   },
   {
    "duration": 18,
    "start_time": "2021-08-03T09:13:24.290Z"
   },
   {
    "duration": 6,
    "start_time": "2021-08-03T09:13:50.180Z"
   },
   {
    "duration": 650,
    "start_time": "2021-08-03T09:14:10.600Z"
   },
   {
    "duration": 5,
    "start_time": "2021-08-03T09:14:13.190Z"
   },
   {
    "duration": 1126,
    "start_time": "2021-08-03T09:14:15.890Z"
   },
   {
    "duration": 563,
    "start_time": "2021-08-03T09:14:39.214Z"
   },
   {
    "duration": 19,
    "start_time": "2021-08-03T09:16:02.314Z"
   },
   {
    "duration": 18,
    "start_time": "2021-08-03T09:16:49.876Z"
   },
   {
    "duration": 7,
    "start_time": "2021-08-03T09:16:50.595Z"
   },
   {
    "duration": 558,
    "start_time": "2021-08-03T09:16:58.842Z"
   },
   {
    "duration": 18,
    "start_time": "2021-08-03T09:17:57.040Z"
   },
   {
    "duration": 6,
    "start_time": "2021-08-03T09:17:57.625Z"
   },
   {
    "duration": 536,
    "start_time": "2021-08-03T09:17:58.321Z"
   },
   {
    "duration": 17,
    "start_time": "2021-08-03T09:18:08.974Z"
   },
   {
    "duration": 7,
    "start_time": "2021-08-03T09:18:09.439Z"
   },
   {
    "duration": 680,
    "start_time": "2021-08-03T09:18:09.955Z"
   },
   {
    "duration": 5,
    "start_time": "2021-08-03T09:18:23.094Z"
   },
   {
    "duration": 707,
    "start_time": "2021-08-03T09:18:23.101Z"
   },
   {
    "duration": 4,
    "start_time": "2021-08-03T09:18:23.810Z"
   },
   {
    "duration": 5,
    "start_time": "2021-08-03T09:18:23.817Z"
   },
   {
    "duration": 8,
    "start_time": "2021-08-03T09:18:23.824Z"
   },
   {
    "duration": 7,
    "start_time": "2021-08-03T09:18:23.834Z"
   },
   {
    "duration": 5,
    "start_time": "2021-08-03T09:18:23.843Z"
   },
   {
    "duration": 5,
    "start_time": "2021-08-03T09:18:23.851Z"
   },
   {
    "duration": 274,
    "start_time": "2021-08-03T09:18:23.858Z"
   },
   {
    "duration": 7,
    "start_time": "2021-08-03T09:18:24.134Z"
   },
   {
    "duration": 21,
    "start_time": "2021-08-03T09:18:24.143Z"
   },
   {
    "duration": 21,
    "start_time": "2021-08-03T09:18:24.166Z"
   },
   {
    "duration": 28,
    "start_time": "2021-08-03T09:18:24.189Z"
   },
   {
    "duration": 3,
    "start_time": "2021-08-03T09:18:24.220Z"
   },
   {
    "duration": 9,
    "start_time": "2021-08-03T09:18:24.225Z"
   },
   {
    "duration": 595,
    "start_time": "2021-08-03T09:18:24.235Z"
   },
   {
    "duration": 575,
    "start_time": "2021-08-03T09:18:24.832Z"
   },
   {
    "duration": 671,
    "start_time": "2021-08-03T09:18:25.409Z"
   },
   {
    "duration": 464,
    "start_time": "2021-08-03T09:18:26.082Z"
   },
   {
    "duration": 6,
    "start_time": "2021-08-03T09:18:26.548Z"
   },
   {
    "duration": 587,
    "start_time": "2021-08-03T09:18:26.556Z"
   },
   {
    "duration": 5,
    "start_time": "2021-08-03T09:18:27.144Z"
   },
   {
    "duration": 1135,
    "start_time": "2021-08-03T09:18:27.153Z"
   },
   {
    "duration": 19,
    "start_time": "2021-08-03T09:18:28.290Z"
   },
   {
    "duration": 9,
    "start_time": "2021-08-03T09:18:28.310Z"
   },
   {
    "duration": 581,
    "start_time": "2021-08-03T09:18:28.321Z"
   },
   {
    "duration": 4,
    "start_time": "2021-08-03T09:18:28.904Z"
   },
   {
    "duration": 6,
    "start_time": "2021-08-03T09:18:28.910Z"
   },
   {
    "duration": 5,
    "start_time": "2021-08-03T09:18:28.918Z"
   },
   {
    "duration": 9,
    "start_time": "2021-08-03T09:18:28.924Z"
   },
   {
    "duration": 6,
    "start_time": "2021-08-03T09:18:28.935Z"
   },
   {
    "duration": 59,
    "start_time": "2021-08-03T09:18:28.943Z"
   },
   {
    "duration": 5483,
    "start_time": "2021-08-03T09:18:29.004Z"
   },
   {
    "duration": 5368,
    "start_time": "2021-08-03T09:18:34.489Z"
   },
   {
    "duration": 18968,
    "start_time": "2021-08-03T09:18:39.860Z"
   },
   {
    "duration": 18558,
    "start_time": "2021-08-03T09:18:58.830Z"
   },
   {
    "duration": 1799,
    "start_time": "2021-08-03T09:19:17.390Z"
   },
   {
    "duration": 1897,
    "start_time": "2021-08-03T09:19:19.191Z"
   },
   {
    "duration": 101,
    "start_time": "2021-08-03T09:19:21.090Z"
   },
   {
    "duration": 10,
    "start_time": "2021-08-03T09:19:21.194Z"
   },
   {
    "duration": 83,
    "start_time": "2021-08-03T09:19:21.208Z"
   },
   {
    "duration": 73,
    "start_time": "2021-08-03T09:21:27.113Z"
   },
   {
    "duration": 66,
    "start_time": "2021-08-03T09:21:41.446Z"
   },
   {
    "duration": 61,
    "start_time": "2021-08-03T09:22:03.705Z"
   },
   {
    "duration": 53,
    "start_time": "2021-08-03T09:22:14.206Z"
   },
   {
    "duration": 82,
    "start_time": "2021-08-03T09:23:02.000Z"
   },
   {
    "duration": 58,
    "start_time": "2021-08-03T09:23:06.885Z"
   },
   {
    "duration": 64,
    "start_time": "2021-08-03T09:23:13.537Z"
   },
   {
    "duration": 61,
    "start_time": "2021-08-03T09:23:29.764Z"
   },
   {
    "duration": 57,
    "start_time": "2021-08-03T09:23:59.005Z"
   },
   {
    "duration": 3,
    "start_time": "2021-08-03T09:29:23.174Z"
   },
   {
    "duration": 692,
    "start_time": "2021-08-03T09:29:23.240Z"
   },
   {
    "duration": 2,
    "start_time": "2021-08-03T09:29:23.934Z"
   },
   {
    "duration": 9,
    "start_time": "2021-08-03T09:29:23.939Z"
   },
   {
    "duration": 5,
    "start_time": "2021-08-03T09:29:23.950Z"
   },
   {
    "duration": 8,
    "start_time": "2021-08-03T09:29:23.956Z"
   },
   {
    "duration": 5,
    "start_time": "2021-08-03T09:29:23.966Z"
   },
   {
    "duration": 6,
    "start_time": "2021-08-03T09:29:23.985Z"
   },
   {
    "duration": 255,
    "start_time": "2021-08-03T09:29:23.993Z"
   },
   {
    "duration": 7,
    "start_time": "2021-08-03T09:29:24.252Z"
   },
   {
    "duration": 31,
    "start_time": "2021-08-03T09:29:24.262Z"
   },
   {
    "duration": 11,
    "start_time": "2021-08-03T09:29:24.295Z"
   },
   {
    "duration": 26,
    "start_time": "2021-08-03T09:29:24.308Z"
   },
   {
    "duration": 2,
    "start_time": "2021-08-03T09:29:24.335Z"
   },
   {
    "duration": 8,
    "start_time": "2021-08-03T09:29:24.339Z"
   },
   {
    "duration": 590,
    "start_time": "2021-08-03T09:29:24.349Z"
   },
   {
    "duration": 560,
    "start_time": "2021-08-03T09:29:24.940Z"
   },
   {
    "duration": 542,
    "start_time": "2021-08-03T09:29:25.502Z"
   },
   {
    "duration": 434,
    "start_time": "2021-08-03T09:29:26.046Z"
   },
   {
    "duration": 7,
    "start_time": "2021-08-03T09:29:26.482Z"
   },
   {
    "duration": 678,
    "start_time": "2021-08-03T09:29:26.491Z"
   },
   {
    "duration": 4,
    "start_time": "2021-08-03T09:29:27.170Z"
   },
   {
    "duration": 1192,
    "start_time": "2021-08-03T09:29:27.185Z"
   },
   {
    "duration": 20,
    "start_time": "2021-08-03T09:29:28.379Z"
   },
   {
    "duration": 5,
    "start_time": "2021-08-03T09:29:28.401Z"
   },
   {
    "duration": 567,
    "start_time": "2021-08-03T09:29:28.408Z"
   },
   {
    "duration": 9,
    "start_time": "2021-08-03T09:29:28.976Z"
   },
   {
    "duration": 5,
    "start_time": "2021-08-03T09:29:28.988Z"
   },
   {
    "duration": 7,
    "start_time": "2021-08-03T09:29:28.994Z"
   },
   {
    "duration": 10,
    "start_time": "2021-08-03T09:29:29.003Z"
   },
   {
    "duration": 8,
    "start_time": "2021-08-03T09:29:29.014Z"
   },
   {
    "duration": 29,
    "start_time": "2021-08-03T09:29:29.023Z"
   },
   {
    "duration": 4915,
    "start_time": "2021-08-03T09:29:29.054Z"
   },
   {
    "duration": 5220,
    "start_time": "2021-08-03T09:29:33.971Z"
   },
   {
    "duration": 18612,
    "start_time": "2021-08-03T09:29:39.194Z"
   },
   {
    "duration": 18436,
    "start_time": "2021-08-03T09:29:57.809Z"
   },
   {
    "duration": 1642,
    "start_time": "2021-08-03T09:30:16.247Z"
   },
   {
    "duration": 1697,
    "start_time": "2021-08-03T09:30:17.891Z"
   },
   {
    "duration": 95,
    "start_time": "2021-08-03T09:30:19.590Z"
   },
   {
    "duration": 8,
    "start_time": "2021-08-03T09:30:19.687Z"
   },
   {
    "duration": 93,
    "start_time": "2021-08-03T09:30:19.697Z"
   },
   {
    "duration": 3,
    "start_time": "2021-08-03T09:49:51.992Z"
   },
   {
    "duration": 642,
    "start_time": "2021-08-03T09:49:51.997Z"
   },
   {
    "duration": 3,
    "start_time": "2021-08-03T09:49:52.641Z"
   },
   {
    "duration": 3,
    "start_time": "2021-08-03T09:49:53.245Z"
   },
   {
    "duration": 14,
    "start_time": "2021-08-03T09:49:53.250Z"
   },
   {
    "duration": 7,
    "start_time": "2021-08-03T09:49:53.284Z"
   },
   {
    "duration": 14,
    "start_time": "2021-08-03T09:49:53.293Z"
   },
   {
    "duration": 9,
    "start_time": "2021-08-03T09:49:53.310Z"
   },
   {
    "duration": 244,
    "start_time": "2021-08-03T09:49:53.321Z"
   },
   {
    "duration": 6,
    "start_time": "2021-08-03T09:49:53.566Z"
   },
   {
    "duration": 32,
    "start_time": "2021-08-03T09:49:53.574Z"
   },
   {
    "duration": 4,
    "start_time": "2021-08-03T09:49:53.607Z"
   },
   {
    "duration": 33,
    "start_time": "2021-08-03T09:49:53.612Z"
   },
   {
    "duration": 2,
    "start_time": "2021-08-03T09:49:53.648Z"
   },
   {
    "duration": 11,
    "start_time": "2021-08-03T09:49:53.653Z"
   },
   {
    "duration": 544,
    "start_time": "2021-08-03T09:49:53.666Z"
   },
   {
    "duration": 895,
    "start_time": "2021-08-03T09:49:54.212Z"
   },
   {
    "duration": 534,
    "start_time": "2021-08-03T09:49:55.109Z"
   },
   {
    "duration": 417,
    "start_time": "2021-08-03T09:49:55.645Z"
   },
   {
    "duration": 6,
    "start_time": "2021-08-03T09:49:56.064Z"
   },
   {
    "duration": 546,
    "start_time": "2021-08-03T09:49:56.071Z"
   },
   {
    "duration": 4,
    "start_time": "2021-08-03T09:49:56.618Z"
   },
   {
    "duration": 1180,
    "start_time": "2021-08-03T09:49:56.624Z"
   },
   {
    "duration": 15,
    "start_time": "2021-08-03T09:49:57.806Z"
   },
   {
    "duration": 5,
    "start_time": "2021-08-03T09:49:57.823Z"
   },
   {
    "duration": 542,
    "start_time": "2021-08-03T09:49:57.830Z"
   },
   {
    "duration": 3,
    "start_time": "2021-08-03T09:49:58.374Z"
   },
   {
    "duration": 12,
    "start_time": "2021-08-03T09:49:58.384Z"
   },
   {
    "duration": 8,
    "start_time": "2021-08-03T09:49:58.397Z"
   },
   {
    "duration": 16,
    "start_time": "2021-08-03T09:49:58.406Z"
   },
   {
    "duration": 10,
    "start_time": "2021-08-03T09:49:58.424Z"
   },
   {
    "duration": 36,
    "start_time": "2021-08-03T09:49:58.437Z"
   },
   {
    "duration": 5034,
    "start_time": "2021-08-03T09:49:58.475Z"
   },
   {
    "duration": 450,
    "start_time": "2021-08-03T09:50:03.061Z"
   },
   {
    "duration": 355,
    "start_time": "2021-08-03T09:50:03.157Z"
   },
   {
    "duration": 346,
    "start_time": "2021-08-03T09:50:03.167Z"
   },
   {
    "duration": 323,
    "start_time": "2021-08-03T09:50:03.191Z"
   },
   {
    "duration": 305,
    "start_time": "2021-08-03T09:50:03.209Z"
   },
   {
    "duration": 294,
    "start_time": "2021-08-03T09:50:03.222Z"
   },
   {
    "duration": 284,
    "start_time": "2021-08-03T09:50:03.233Z"
   },
   {
    "duration": 273,
    "start_time": "2021-08-03T09:50:03.245Z"
   },
   {
    "duration": 3,
    "start_time": "2021-08-03T09:50:48.516Z"
   },
   {
    "duration": 5188,
    "start_time": "2021-08-03T09:50:55.635Z"
   },
   {
    "duration": 4922,
    "start_time": "2021-08-03T09:51:13.249Z"
   },
   {
    "duration": 4833,
    "start_time": "2021-08-03T09:51:34.424Z"
   },
   {
    "duration": 3,
    "start_time": "2021-08-03T09:54:06.876Z"
   },
   {
    "duration": 174,
    "start_time": "2021-08-03T09:54:33.734Z"
   },
   {
    "duration": 3,
    "start_time": "2021-08-03T09:54:38.331Z"
   },
   {
    "duration": 170,
    "start_time": "2021-08-03T10:02:44.497Z"
   },
   {
    "duration": 752,
    "start_time": "2021-08-03T10:02:56.160Z"
   },
   {
    "duration": 3,
    "start_time": "2021-08-03T10:02:59.238Z"
   },
   {
    "duration": 173,
    "start_time": "2021-08-03T10:03:00.691Z"
   },
   {
    "duration": 2,
    "start_time": "2021-08-03T10:03:17.034Z"
   },
   {
    "duration": 172,
    "start_time": "2021-08-03T10:03:20.132Z"
   },
   {
    "duration": 56888,
    "start_time": "2021-08-03T10:03:28.198Z"
   },
   {
    "duration": 4,
    "start_time": "2021-08-03T11:26:11.696Z"
   },
   {
    "duration": 647,
    "start_time": "2021-08-03T11:26:11.704Z"
   },
   {
    "duration": 3,
    "start_time": "2021-08-03T11:26:12.353Z"
   },
   {
    "duration": 6,
    "start_time": "2021-08-03T11:26:12.359Z"
   },
   {
    "duration": 20,
    "start_time": "2021-08-03T11:26:12.367Z"
   },
   {
    "duration": 8,
    "start_time": "2021-08-03T11:26:12.389Z"
   },
   {
    "duration": 6,
    "start_time": "2021-08-03T11:26:12.399Z"
   },
   {
    "duration": 8,
    "start_time": "2021-08-03T11:26:12.407Z"
   },
   {
    "duration": 250,
    "start_time": "2021-08-03T11:26:12.419Z"
   },
   {
    "duration": 16,
    "start_time": "2021-08-03T11:26:12.672Z"
   },
   {
    "duration": 17,
    "start_time": "2021-08-03T11:26:12.690Z"
   },
   {
    "duration": 5,
    "start_time": "2021-08-03T11:26:12.709Z"
   },
   {
    "duration": 25,
    "start_time": "2021-08-03T11:26:12.716Z"
   },
   {
    "duration": 3,
    "start_time": "2021-08-03T11:26:12.743Z"
   },
   {
    "duration": 6,
    "start_time": "2021-08-03T11:26:12.748Z"
   },
   {
    "duration": 569,
    "start_time": "2021-08-03T11:26:12.785Z"
   },
   {
    "duration": 555,
    "start_time": "2021-08-03T11:26:13.356Z"
   },
   {
    "duration": 679,
    "start_time": "2021-08-03T11:26:13.914Z"
   },
   {
    "duration": 445,
    "start_time": "2021-08-03T11:26:14.595Z"
   },
   {
    "duration": 9,
    "start_time": "2021-08-03T11:26:15.042Z"
   },
   {
    "duration": 596,
    "start_time": "2021-08-03T11:26:15.053Z"
   },
   {
    "duration": 5,
    "start_time": "2021-08-03T11:26:15.652Z"
   },
   {
    "duration": 1179,
    "start_time": "2021-08-03T11:26:15.659Z"
   },
   {
    "duration": 18,
    "start_time": "2021-08-03T11:26:16.843Z"
   },
   {
    "duration": 21,
    "start_time": "2021-08-03T11:26:16.864Z"
   },
   {
    "duration": 721,
    "start_time": "2021-08-03T11:26:16.887Z"
   },
   {
    "duration": 4,
    "start_time": "2021-08-03T11:26:17.611Z"
   },
   {
    "duration": 5,
    "start_time": "2021-08-03T11:26:17.617Z"
   },
   {
    "duration": 6,
    "start_time": "2021-08-03T11:26:17.624Z"
   },
   {
    "duration": 10,
    "start_time": "2021-08-03T11:26:17.632Z"
   },
   {
    "duration": 7,
    "start_time": "2021-08-03T11:26:17.643Z"
   },
   {
    "duration": 56,
    "start_time": "2021-08-03T11:26:17.651Z"
   },
   {
    "duration": 2,
    "start_time": "2021-08-03T11:26:17.709Z"
   },
   {
    "duration": 5,
    "start_time": "2021-08-03T11:26:17.713Z"
   },
   {
    "duration": 57976,
    "start_time": "2021-08-03T11:26:17.720Z"
   },
   {
    "duration": 3,
    "start_time": "2021-08-03T11:27:15.698Z"
   },
   {
    "duration": 5,
    "start_time": "2021-08-03T11:27:15.703Z"
   },
   {
    "duration": 6,
    "start_time": "2021-08-03T11:27:15.710Z"
   },
   {
    "duration": 9,
    "start_time": "2021-08-03T11:27:15.718Z"
   },
   {
    "duration": 4,
    "start_time": "2021-08-03T11:27:15.729Z"
   },
   {
    "duration": 4,
    "start_time": "2021-08-03T11:27:15.735Z"
   },
   {
    "duration": 6,
    "start_time": "2021-08-03T11:27:15.786Z"
   },
   {
    "duration": 12,
    "start_time": "2021-08-03T11:27:15.794Z"
   },
   {
    "duration": 19,
    "start_time": "2021-08-03T11:27:15.807Z"
   },
   {
    "duration": 6,
    "start_time": "2021-08-03T11:27:15.827Z"
   },
   {
    "duration": 8,
    "start_time": "2021-08-03T11:27:15.835Z"
   },
   {
    "duration": 58465,
    "start_time": "2021-08-03T11:28:34.520Z"
   },
   {
    "duration": 3,
    "start_time": "2021-08-03T11:30:15.222Z"
   },
   {
    "duration": 40756,
    "start_time": "2021-08-03T11:30:17.730Z"
   },
   {
    "duration": 40422,
    "start_time": "2021-08-03T11:31:15.771Z"
   },
   {
    "duration": 40180,
    "start_time": "2021-08-03T11:34:26.508Z"
   },
   {
    "duration": 39802,
    "start_time": "2021-08-03T11:37:22.487Z"
   },
   {
    "duration": 7692,
    "start_time": "2021-08-03T11:43:19.886Z"
   },
   {
    "duration": 7480,
    "start_time": "2021-08-03T11:44:25.852Z"
   },
   {
    "duration": 7518,
    "start_time": "2021-08-03T11:45:41.937Z"
   },
   {
    "duration": 7782,
    "start_time": "2021-08-03T11:45:58.944Z"
   },
   {
    "duration": 43,
    "start_time": "2021-08-03T11:46:32.244Z"
   },
   {
    "duration": 7892,
    "start_time": "2021-08-03T11:50:15.203Z"
   },
   {
    "duration": 7696,
    "start_time": "2021-08-03T11:50:28.734Z"
   },
   {
    "duration": 7617,
    "start_time": "2021-08-03T11:50:55.915Z"
   },
   {
    "duration": 14,
    "start_time": "2021-08-03T11:51:07.733Z"
   },
   {
    "duration": 7,
    "start_time": "2021-08-03T11:51:14.101Z"
   },
   {
    "duration": 9,
    "start_time": "2021-08-03T11:51:18.435Z"
   },
   {
    "duration": 1114,
    "start_time": "2021-08-03T11:59:09.179Z"
   },
   {
    "duration": 711,
    "start_time": "2021-08-03T11:59:10.295Z"
   },
   {
    "duration": 3,
    "start_time": "2021-08-03T11:59:11.008Z"
   },
   {
    "duration": 8,
    "start_time": "2021-08-03T11:59:11.013Z"
   },
   {
    "duration": 7,
    "start_time": "2021-08-03T11:59:11.023Z"
   },
   {
    "duration": 8,
    "start_time": "2021-08-03T11:59:11.031Z"
   },
   {
    "duration": 4,
    "start_time": "2021-08-03T11:59:11.040Z"
   },
   {
    "duration": 4,
    "start_time": "2021-08-03T11:59:11.046Z"
   },
   {
    "duration": 268,
    "start_time": "2021-08-03T11:59:11.052Z"
   },
   {
    "duration": 7,
    "start_time": "2021-08-03T11:59:11.322Z"
   },
   {
    "duration": 17,
    "start_time": "2021-08-03T11:59:11.331Z"
   },
   {
    "duration": 4,
    "start_time": "2021-08-03T11:59:11.350Z"
   },
   {
    "duration": 42,
    "start_time": "2021-08-03T11:59:11.355Z"
   },
   {
    "duration": 2,
    "start_time": "2021-08-03T11:59:11.399Z"
   },
   {
    "duration": 6,
    "start_time": "2021-08-03T11:59:11.402Z"
   },
   {
    "duration": 547,
    "start_time": "2021-08-03T11:59:11.409Z"
   },
   {
    "duration": 609,
    "start_time": "2021-08-03T11:59:11.958Z"
   },
   {
    "duration": 544,
    "start_time": "2021-08-03T11:59:12.569Z"
   },
   {
    "duration": 426,
    "start_time": "2021-08-03T11:59:13.115Z"
   },
   {
    "duration": 7,
    "start_time": "2021-08-03T11:59:13.543Z"
   },
   {
    "duration": 567,
    "start_time": "2021-08-03T11:59:13.551Z"
   },
   {
    "duration": 274,
    "start_time": "2021-08-03T11:59:14.120Z"
   },
   {
    "duration": -27,
    "start_time": "2021-08-03T11:59:14.423Z"
   },
   {
    "duration": -32,
    "start_time": "2021-08-03T11:59:14.430Z"
   },
   {
    "duration": -36,
    "start_time": "2021-08-03T11:59:14.436Z"
   },
   {
    "duration": -43,
    "start_time": "2021-08-03T11:59:14.444Z"
   },
   {
    "duration": -47,
    "start_time": "2021-08-03T11:59:14.450Z"
   },
   {
    "duration": -51,
    "start_time": "2021-08-03T11:59:14.455Z"
   },
   {
    "duration": -66,
    "start_time": "2021-08-03T11:59:14.471Z"
   },
   {
    "duration": -71,
    "start_time": "2021-08-03T11:59:14.478Z"
   },
   {
    "duration": -77,
    "start_time": "2021-08-03T11:59:14.485Z"
   },
   {
    "duration": -81,
    "start_time": "2021-08-03T11:59:14.491Z"
   },
   {
    "duration": -85,
    "start_time": "2021-08-03T11:59:14.496Z"
   },
   {
    "duration": -89,
    "start_time": "2021-08-03T11:59:14.501Z"
   },
   {
    "duration": -94,
    "start_time": "2021-08-03T11:59:14.508Z"
   },
   {
    "duration": -98,
    "start_time": "2021-08-03T11:59:14.513Z"
   },
   {
    "duration": -101,
    "start_time": "2021-08-03T11:59:14.518Z"
   },
   {
    "duration": -124,
    "start_time": "2021-08-03T11:59:14.542Z"
   },
   {
    "duration": -150,
    "start_time": "2021-08-03T11:59:14.569Z"
   },
   {
    "duration": 1129,
    "start_time": "2021-08-03T12:00:54.843Z"
   },
   {
    "duration": 740,
    "start_time": "2021-08-03T12:00:55.974Z"
   },
   {
    "duration": 3,
    "start_time": "2021-08-03T12:00:56.716Z"
   },
   {
    "duration": 7,
    "start_time": "2021-08-03T12:00:56.720Z"
   },
   {
    "duration": 6,
    "start_time": "2021-08-03T12:00:56.728Z"
   },
   {
    "duration": 6,
    "start_time": "2021-08-03T12:00:56.736Z"
   },
   {
    "duration": 4,
    "start_time": "2021-08-03T12:00:56.743Z"
   },
   {
    "duration": 6,
    "start_time": "2021-08-03T12:00:56.749Z"
   },
   {
    "duration": 264,
    "start_time": "2021-08-03T12:00:56.757Z"
   },
   {
    "duration": 7,
    "start_time": "2021-08-03T12:00:57.023Z"
   },
   {
    "duration": 15,
    "start_time": "2021-08-03T12:00:57.032Z"
   },
   {
    "duration": 3,
    "start_time": "2021-08-03T12:00:57.049Z"
   },
   {
    "duration": 48,
    "start_time": "2021-08-03T12:00:57.054Z"
   },
   {
    "duration": 3,
    "start_time": "2021-08-03T12:00:57.103Z"
   },
   {
    "duration": 8,
    "start_time": "2021-08-03T12:00:57.107Z"
   },
   {
    "duration": 543,
    "start_time": "2021-08-03T12:00:57.116Z"
   },
   {
    "duration": 594,
    "start_time": "2021-08-03T12:00:57.661Z"
   },
   {
    "duration": 531,
    "start_time": "2021-08-03T12:00:58.257Z"
   },
   {
    "duration": 411,
    "start_time": "2021-08-03T12:00:58.790Z"
   },
   {
    "duration": 5,
    "start_time": "2021-08-03T12:00:59.203Z"
   },
   {
    "duration": 561,
    "start_time": "2021-08-03T12:00:59.209Z"
   },
   {
    "duration": 2,
    "start_time": "2021-08-03T12:00:59.772Z"
   },
   {
    "duration": 11,
    "start_time": "2021-08-03T12:00:59.777Z"
   },
   {
    "duration": 1185,
    "start_time": "2021-08-03T12:00:59.790Z"
   },
   {
    "duration": 27,
    "start_time": "2021-08-03T12:01:00.977Z"
   },
   {
    "duration": 5,
    "start_time": "2021-08-03T12:01:01.006Z"
   },
   {
    "duration": 662,
    "start_time": "2021-08-03T12:01:01.013Z"
   },
   {
    "duration": 3,
    "start_time": "2021-08-03T12:01:01.676Z"
   },
   {
    "duration": 12,
    "start_time": "2021-08-03T12:01:01.685Z"
   },
   {
    "duration": 15,
    "start_time": "2021-08-03T12:01:01.698Z"
   },
   {
    "duration": 10,
    "start_time": "2021-08-03T12:01:01.714Z"
   },
   {
    "duration": 16,
    "start_time": "2021-08-03T12:01:01.726Z"
   },
   {
    "duration": 44,
    "start_time": "2021-08-03T12:01:01.743Z"
   },
   {
    "duration": 2,
    "start_time": "2021-08-03T12:01:01.789Z"
   },
   {
    "duration": 22,
    "start_time": "2021-08-03T12:01:01.793Z"
   },
   {
    "duration": 40778,
    "start_time": "2021-08-03T12:01:01.816Z"
   },
   {
    "duration": 7577,
    "start_time": "2021-08-03T12:01:42.596Z"
   },
   {
    "duration": 272,
    "start_time": "2021-08-03T12:01:50.174Z"
   },
   {
    "duration": 27,
    "start_time": "2021-08-03T12:01:50.421Z"
   },
   {
    "duration": 22,
    "start_time": "2021-08-03T12:01:50.427Z"
   },
   {
    "duration": 1141,
    "start_time": "2021-08-03T12:02:28.944Z"
   },
   {
    "duration": 732,
    "start_time": "2021-08-03T12:02:30.087Z"
   },
   {
    "duration": 3,
    "start_time": "2021-08-03T12:02:30.821Z"
   },
   {
    "duration": 30,
    "start_time": "2021-08-03T12:02:30.826Z"
   },
   {
    "duration": 25,
    "start_time": "2021-08-03T12:02:30.857Z"
   },
   {
    "duration": 34,
    "start_time": "2021-08-03T12:02:30.884Z"
   },
   {
    "duration": 19,
    "start_time": "2021-08-03T12:02:30.920Z"
   },
   {
    "duration": 30,
    "start_time": "2021-08-03T12:02:30.942Z"
   },
   {
    "duration": 268,
    "start_time": "2021-08-03T12:02:30.974Z"
   },
   {
    "duration": 8,
    "start_time": "2021-08-03T12:02:31.243Z"
   },
   {
    "duration": 55,
    "start_time": "2021-08-03T12:02:31.253Z"
   },
   {
    "duration": 19,
    "start_time": "2021-08-03T12:02:31.309Z"
   },
   {
    "duration": 53,
    "start_time": "2021-08-03T12:02:31.329Z"
   },
   {
    "duration": 2,
    "start_time": "2021-08-03T12:02:31.384Z"
   },
   {
    "duration": 22,
    "start_time": "2021-08-03T12:02:31.388Z"
   },
   {
    "duration": 556,
    "start_time": "2021-08-03T12:02:31.411Z"
   },
   {
    "duration": 601,
    "start_time": "2021-08-03T12:02:31.969Z"
   },
   {
    "duration": 548,
    "start_time": "2021-08-03T12:02:32.572Z"
   },
   {
    "duration": 418,
    "start_time": "2021-08-03T12:02:33.122Z"
   },
   {
    "duration": 6,
    "start_time": "2021-08-03T12:02:33.542Z"
   },
   {
    "duration": 791,
    "start_time": "2021-08-03T12:02:33.549Z"
   },
   {
    "duration": 3,
    "start_time": "2021-08-03T12:02:34.342Z"
   },
   {
    "duration": 12,
    "start_time": "2021-08-03T12:02:34.348Z"
   },
   {
    "duration": 1224,
    "start_time": "2021-08-03T12:02:34.362Z"
   },
   {
    "duration": 23,
    "start_time": "2021-08-03T12:02:35.588Z"
   },
   {
    "duration": 6,
    "start_time": "2021-08-03T12:02:35.612Z"
   },
   {
    "duration": 679,
    "start_time": "2021-08-03T12:02:35.620Z"
   },
   {
    "duration": 3,
    "start_time": "2021-08-03T12:02:36.300Z"
   },
   {
    "duration": 24,
    "start_time": "2021-08-03T12:02:36.305Z"
   },
   {
    "duration": 17,
    "start_time": "2021-08-03T12:02:36.331Z"
   },
   {
    "duration": 31,
    "start_time": "2021-08-03T12:02:36.349Z"
   },
   {
    "duration": 27,
    "start_time": "2021-08-03T12:02:36.382Z"
   },
   {
    "duration": 48,
    "start_time": "2021-08-03T12:02:36.410Z"
   },
   {
    "duration": 6,
    "start_time": "2021-08-03T12:02:36.460Z"
   },
   {
    "duration": 20,
    "start_time": "2021-08-03T12:02:36.467Z"
   },
   {
    "duration": 39703,
    "start_time": "2021-08-03T12:02:36.488Z"
   },
   {
    "duration": 7549,
    "start_time": "2021-08-03T12:03:16.193Z"
   },
   {
    "duration": 13,
    "start_time": "2021-08-03T12:03:23.744Z"
   },
   {
    "duration": 7,
    "start_time": "2021-08-03T12:03:23.758Z"
   },
   {
    "duration": 25,
    "start_time": "2021-08-03T12:03:23.767Z"
   }
  ],
  "kernelspec": {
   "display_name": "Python 3",
   "language": "python",
   "name": "python3"
  },
  "language_info": {
   "codemirror_mode": {
    "name": "ipython",
    "version": 3
   },
   "file_extension": ".py",
   "mimetype": "text/x-python",
   "name": "python",
   "nbconvert_exporter": "python",
   "pygments_lexer": "ipython3",
   "version": "3.8.8"
  },
  "toc": {
   "base_numbering": 1,
   "nav_menu": {},
   "number_sections": true,
   "sideBar": true,
   "skip_h1_title": true,
   "title_cell": "Содержание",
   "title_sidebar": "Contents",
   "toc_cell": true,
   "toc_position": {
    "height": "calc(100% - 180px)",
    "left": "10px",
    "top": "150px",
    "width": "165px"
   },
   "toc_section_display": true,
   "toc_window_display": true
  }
 },
 "nbformat": 4,
 "nbformat_minor": 2
}
