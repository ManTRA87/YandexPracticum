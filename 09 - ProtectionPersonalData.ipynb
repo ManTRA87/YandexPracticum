{
 "cells": [
  {
   "cell_type": "markdown",
   "metadata": {},
   "source": [
    "<div style=\"background: #cceeaa; padding: 5px; border: 1px solid green; border-radius: 5px;\">\n",
    "    <font color='green'> <b><u>КОММЕНТАРИЙ РЕВЬЮЕРА</u></b>\n",
    "\n",
    "Юлия, доброго дня! рад приветствовать тебя вновь) <br />\n",
    "(А дальше - шаблонная часть, как ты заметила по другим спринтам)<br>\n",
    "<br />\n",
    "Меня зовут Николай Шавлюго. <br />И на этом этапе твоего движения к новой профессии от меня будут комментарии по написанному коду. <br />Чтобы меньше \"мусорить эфир\" и чтобы максимально наглядно отделяться от основного кода, есть предложение условиться в некоторых обозначениях:<br /> <br />\n",
    "<u><b>ТАКОЙ ШРИФТ</b></u> - всегда начало комментария <br />\n",
    "<font color='green'>такой шрифт</font> - комментарии о том, что всё ОК <br/>\n",
    "<font color='orange'>такой шрифт</font> - комментарии о том, что всё ОК по результату,<br> однако есть на что обратить внимание в плане применения техник, или есть способы сделать более короткий или быстрый код <br/>\n",
    "<font color='red'>такой шрифт</font> - комментарии о том, что есть критичный момент, влияющий на бизнес-результат проекта.<br/>\n",
    "</font><br /><br />\n",
    "<font color='green'>Моей целью является не \"уличить\" в не знании, а просто высказать сверху твоих знаний - свой опыт, что бы ты мог использовать его для своего дальнейшего успеха) И очень здорово будет, если тебе удастся задавать вопросы, да и вообще - всячески доставать меня, если я по каким-то причинам не приму проект:) При этом, из своего опыта скажу, хорошо и важно, когда переписка ревьюера и студента - сохраняется на следующие проекты и даже на будущую практическую деятельность.<br>\n",
    "<BR> В ПУТЬ!<br>"
   ]
  },
  {
   "cell_type": "markdown",
   "metadata": {
    "toc": true
   },
   "source": [
    "<h1>Содержание<span class=\"tocSkip\"></span></h1>\n",
    "<div class=\"toc\"><ul class=\"toc-item\"><li><span><a href=\"#Загрузка-данных\" data-toc-modified-id=\"Загрузка-данных-1\"><span class=\"toc-item-num\">1&nbsp;&nbsp;</span>Загрузка данных</a></span></li><li><span><a href=\"#Умножение-матриц\" data-toc-modified-id=\"Умножение-матриц-2\"><span class=\"toc-item-num\">2&nbsp;&nbsp;</span>Умножение матриц</a></span></li><li><span><a href=\"#Алгоритм-преобразования\" data-toc-modified-id=\"Алгоритм-преобразования-3\"><span class=\"toc-item-num\">3&nbsp;&nbsp;</span>Алгоритм преобразования</a></span></li><li><span><a href=\"#Проверка-алгоритма\" data-toc-modified-id=\"Проверка-алгоритма-4\"><span class=\"toc-item-num\">4&nbsp;&nbsp;</span>Проверка алгоритма</a></span></li><li><span><a href=\"#Чек-лист-проверки\" data-toc-modified-id=\"Чек-лист-проверки-5\"><span class=\"toc-item-num\">5&nbsp;&nbsp;</span>Чек-лист проверки</a></span></li></ul></div>"
   ]
  },
  {
   "cell_type": "markdown",
   "metadata": {},
   "source": [
    "# Защита персональных данных клиентов"
   ]
  },
  {
   "cell_type": "markdown",
   "metadata": {},
   "source": [
    "Вам нужно защитить данные клиентов страховой компании «Хоть потоп». Разработайте такой метод преобразования данных, чтобы по ним было сложно восстановить персональную информацию. Обоснуйте корректность его работы.\n",
    "\n",
    "Нужно защитить данные, чтобы при преобразовании качество моделей машинного обучения не ухудшилось. Подбирать наилучшую модель не требуется."
   ]
  },
  {
   "cell_type": "markdown",
   "metadata": {},
   "source": [
    "## Загрузка данных"
   ]
  },
  {
   "cell_type": "code",
   "execution_count": 8,
   "metadata": {},
   "outputs": [],
   "source": [
    "import pandas as pd\n",
    "import numpy as np\n",
    "from sklearn.model_selection import train_test_split\n",
    "from sklearn.linear_model import LinearRegression\n",
    "from sklearn.metrics import r2_score"
   ]
  },
  {
   "cell_type": "code",
   "execution_count": 9,
   "metadata": {},
   "outputs": [],
   "source": [
    "df = pd.read_csv('/datasets/insurance.csv')"
   ]
  },
  {
   "cell_type": "code",
   "execution_count": 10,
   "metadata": {},
   "outputs": [
    {
     "data": {
      "text/html": [
       "<div>\n",
       "<style scoped>\n",
       "    .dataframe tbody tr th:only-of-type {\n",
       "        vertical-align: middle;\n",
       "    }\n",
       "\n",
       "    .dataframe tbody tr th {\n",
       "        vertical-align: top;\n",
       "    }\n",
       "\n",
       "    .dataframe thead th {\n",
       "        text-align: right;\n",
       "    }\n",
       "</style>\n",
       "<table border=\"1\" class=\"dataframe\">\n",
       "  <thead>\n",
       "    <tr style=\"text-align: right;\">\n",
       "      <th></th>\n",
       "      <th>Пол</th>\n",
       "      <th>Возраст</th>\n",
       "      <th>Зарплата</th>\n",
       "      <th>Члены семьи</th>\n",
       "      <th>Страховые выплаты</th>\n",
       "    </tr>\n",
       "  </thead>\n",
       "  <tbody>\n",
       "    <tr>\n",
       "      <td>0</td>\n",
       "      <td>1</td>\n",
       "      <td>41.0</td>\n",
       "      <td>49600.0</td>\n",
       "      <td>1</td>\n",
       "      <td>0</td>\n",
       "    </tr>\n",
       "    <tr>\n",
       "      <td>1</td>\n",
       "      <td>0</td>\n",
       "      <td>46.0</td>\n",
       "      <td>38000.0</td>\n",
       "      <td>1</td>\n",
       "      <td>1</td>\n",
       "    </tr>\n",
       "    <tr>\n",
       "      <td>2</td>\n",
       "      <td>0</td>\n",
       "      <td>29.0</td>\n",
       "      <td>21000.0</td>\n",
       "      <td>0</td>\n",
       "      <td>0</td>\n",
       "    </tr>\n",
       "    <tr>\n",
       "      <td>3</td>\n",
       "      <td>0</td>\n",
       "      <td>21.0</td>\n",
       "      <td>41700.0</td>\n",
       "      <td>2</td>\n",
       "      <td>0</td>\n",
       "    </tr>\n",
       "    <tr>\n",
       "      <td>4</td>\n",
       "      <td>1</td>\n",
       "      <td>28.0</td>\n",
       "      <td>26100.0</td>\n",
       "      <td>0</td>\n",
       "      <td>0</td>\n",
       "    </tr>\n",
       "  </tbody>\n",
       "</table>\n",
       "</div>"
      ],
      "text/plain": [
       "   Пол  Возраст  Зарплата  Члены семьи  Страховые выплаты\n",
       "0    1     41.0   49600.0            1                  0\n",
       "1    0     46.0   38000.0            1                  1\n",
       "2    0     29.0   21000.0            0                  0\n",
       "3    0     21.0   41700.0            2                  0\n",
       "4    1     28.0   26100.0            0                  0"
      ]
     },
     "execution_count": 10,
     "metadata": {},
     "output_type": "execute_result"
    }
   ],
   "source": [
    "df.head()"
   ]
  },
  {
   "cell_type": "code",
   "execution_count": 11,
   "metadata": {},
   "outputs": [
    {
     "name": "stdout",
     "output_type": "stream",
     "text": [
      "<class 'pandas.core.frame.DataFrame'>\n",
      "RangeIndex: 5000 entries, 0 to 4999\n",
      "Data columns (total 5 columns):\n",
      "Пол                  5000 non-null int64\n",
      "Возраст              5000 non-null float64\n",
      "Зарплата             5000 non-null float64\n",
      "Члены семьи          5000 non-null int64\n",
      "Страховые выплаты    5000 non-null int64\n",
      "dtypes: float64(2), int64(3)\n",
      "memory usage: 195.4 KB\n"
     ]
    }
   ],
   "source": [
    "df.info()"
   ]
  },
  {
   "cell_type": "code",
   "execution_count": 12,
   "metadata": {},
   "outputs": [
    {
     "data": {
      "text/html": [
       "<div>\n",
       "<style scoped>\n",
       "    .dataframe tbody tr th:only-of-type {\n",
       "        vertical-align: middle;\n",
       "    }\n",
       "\n",
       "    .dataframe tbody tr th {\n",
       "        vertical-align: top;\n",
       "    }\n",
       "\n",
       "    .dataframe thead th {\n",
       "        text-align: right;\n",
       "    }\n",
       "</style>\n",
       "<table border=\"1\" class=\"dataframe\">\n",
       "  <thead>\n",
       "    <tr style=\"text-align: right;\">\n",
       "      <th></th>\n",
       "      <th>count</th>\n",
       "      <th>mean</th>\n",
       "      <th>std</th>\n",
       "      <th>min</th>\n",
       "      <th>25%</th>\n",
       "      <th>50%</th>\n",
       "      <th>75%</th>\n",
       "      <th>max</th>\n",
       "    </tr>\n",
       "  </thead>\n",
       "  <tbody>\n",
       "    <tr>\n",
       "      <td>Пол</td>\n",
       "      <td>5000.0</td>\n",
       "      <td>0.4990</td>\n",
       "      <td>0.500049</td>\n",
       "      <td>0.0</td>\n",
       "      <td>0.0</td>\n",
       "      <td>0.0</td>\n",
       "      <td>1.0</td>\n",
       "      <td>1.0</td>\n",
       "    </tr>\n",
       "    <tr>\n",
       "      <td>Возраст</td>\n",
       "      <td>5000.0</td>\n",
       "      <td>30.9528</td>\n",
       "      <td>8.440807</td>\n",
       "      <td>18.0</td>\n",
       "      <td>24.0</td>\n",
       "      <td>30.0</td>\n",
       "      <td>37.0</td>\n",
       "      <td>65.0</td>\n",
       "    </tr>\n",
       "    <tr>\n",
       "      <td>Зарплата</td>\n",
       "      <td>5000.0</td>\n",
       "      <td>39916.3600</td>\n",
       "      <td>9900.083569</td>\n",
       "      <td>5300.0</td>\n",
       "      <td>33300.0</td>\n",
       "      <td>40200.0</td>\n",
       "      <td>46600.0</td>\n",
       "      <td>79000.0</td>\n",
       "    </tr>\n",
       "    <tr>\n",
       "      <td>Члены семьи</td>\n",
       "      <td>5000.0</td>\n",
       "      <td>1.1942</td>\n",
       "      <td>1.091387</td>\n",
       "      <td>0.0</td>\n",
       "      <td>0.0</td>\n",
       "      <td>1.0</td>\n",
       "      <td>2.0</td>\n",
       "      <td>6.0</td>\n",
       "    </tr>\n",
       "    <tr>\n",
       "      <td>Страховые выплаты</td>\n",
       "      <td>5000.0</td>\n",
       "      <td>0.1480</td>\n",
       "      <td>0.463183</td>\n",
       "      <td>0.0</td>\n",
       "      <td>0.0</td>\n",
       "      <td>0.0</td>\n",
       "      <td>0.0</td>\n",
       "      <td>5.0</td>\n",
       "    </tr>\n",
       "  </tbody>\n",
       "</table>\n",
       "</div>"
      ],
      "text/plain": [
       "                    count        mean          std     min      25%      50%  \\\n",
       "Пол                5000.0      0.4990     0.500049     0.0      0.0      0.0   \n",
       "Возраст            5000.0     30.9528     8.440807    18.0     24.0     30.0   \n",
       "Зарплата           5000.0  39916.3600  9900.083569  5300.0  33300.0  40200.0   \n",
       "Члены семьи        5000.0      1.1942     1.091387     0.0      0.0      1.0   \n",
       "Страховые выплаты  5000.0      0.1480     0.463183     0.0      0.0      0.0   \n",
       "\n",
       "                       75%      max  \n",
       "Пол                    1.0      1.0  \n",
       "Возраст               37.0     65.0  \n",
       "Зарплата           46600.0  79000.0  \n",
       "Члены семьи            2.0      6.0  \n",
       "Страховые выплаты      0.0      5.0  "
      ]
     },
     "execution_count": 12,
     "metadata": {},
     "output_type": "execute_result"
    }
   ],
   "source": [
    "df.describe().T"
   ]
  },
  {
   "cell_type": "code",
   "execution_count": 13,
   "metadata": {},
   "outputs": [
    {
     "data": {
      "text/plain": [
       "153"
      ]
     },
     "execution_count": 13,
     "metadata": {},
     "output_type": "execute_result"
    }
   ],
   "source": [
    "df.duplicated().sum()"
   ]
  },
  {
   "cell_type": "code",
   "execution_count": 14,
   "metadata": {},
   "outputs": [],
   "source": [
    "df = df.drop_duplicates().reset_index(drop = True)"
   ]
  },
  {
   "cell_type": "markdown",
   "metadata": {},
   "source": [
    "<b>Вывод</b>"
   ]
  },
  {
   "cell_type": "markdown",
   "metadata": {},
   "source": [
    "Данные содержат 5000 строк и 5 столбцов. Аномальных значений не обнаружено, но выявлено 153 дубликата, которые принято решение удалить."
   ]
  },
  {
   "cell_type": "markdown",
   "metadata": {},
   "source": [
    "<div style=\"background: #cceeaa; padding: 5px; border: 1px solid green; border-radius: 5px;\">\n",
    "    <font color='green'> <b><u>КОММЕНТАРИЙ РЕВЬЮЕРА</u></b>\n",
    "</font>\n",
    "<font color='green'><br>\n",
    "Данные на базе) ОК, хорошо, когда есть аналитическая культура - обязательно делать первичный анализ данных, не смотря на проект)"
   ]
  },
  {
   "cell_type": "markdown",
   "metadata": {},
   "source": [
    "## Умножение матриц"
   ]
  },
  {
   "cell_type": "markdown",
   "metadata": {},
   "source": [
    "В этом задании вы можете записывать формулы в *Jupyter Notebook.*\n",
    "\n",
    "Чтобы записать формулу внутри текста, окружите её символами доллара \\\\$; если снаружи —  двойными символами \\\\$\\\\$. Эти формулы записываются на языке вёрстки *LaTeX.* \n",
    "\n",
    "Для примера мы записали формулы линейной регрессии. Можете их скопировать и отредактировать, чтобы решить задачу.\n",
    "\n",
    "Работать в *LaTeX* необязательно."
   ]
  },
  {
   "cell_type": "markdown",
   "metadata": {},
   "source": [
    "Обозначения:\n",
    "\n",
    "- $X$ — матрица признаков (нулевой столбец состоит из единиц)\n",
    "\n",
    "- $y$ — вектор целевого признака\n",
    "\n",
    "- $P$ — матрица, на которую умножаются признаки\n",
    "\n",
    "- $w$ — вектор весов линейной регрессии (нулевой элемент равен сдвигу)"
   ]
  },
  {
   "cell_type": "markdown",
   "metadata": {},
   "source": [
    "Предсказания:\n",
    "\n",
    "$$\n",
    "a = Xw\n",
    "$$\n",
    "\n",
    "Задача обучения:\n",
    "\n",
    "$$\n",
    "w = \\arg\\min_w MSE(Xw, y)\n",
    "$$\n",
    "\n",
    "Формула обучения:\n",
    "\n",
    "$$\n",
    "w = (X^T X)^{-1} X^T y\n",
    "$$"
   ]
  },
  {
   "cell_type": "markdown",
   "metadata": {},
   "source": [
    "**Ответ:** не изменится.\n",
    "\n",
    "**Обоснование:**  \n",
    "\n",
    "Введем обозначения:  \n",
    "\n",
    "$\n",
    "P = X^{-1}\n",
    "$  \n",
    "\n",
    "$\n",
    "a' = Xw'\n",
    "$  \n",
    "\n",
    "$\n",
    "w' = ((XP)^T XP)^{-1}(XP)^Ty\n",
    "$  \n",
    "\n",
    "$\n",
    "a' = XP((XP)^T XP)^{-1}(XP)^Ty = XP(P^TX^TXP)^{-1}P^TX^Ty = XP(X^TXP)^{-1}(P^T)^{-1}P^TX^Ty\n",
    "$  \n",
    "\n",
    "$\n",
    "a' = XPP^{-1}(X^TX)^{-1}(P^T)^{-1}P^TX^Ty = XE(X^TX)^{-1}EX^Ty = X(X^TX)^{-1}X^Ty = Xw\n",
    "$\n"
   ]
  },
  {
   "cell_type": "markdown",
   "metadata": {},
   "source": [
    "<div style=\"background: #cceeaa; padding: 5px; border: 1px solid green; border-radius: 5px;\">\n",
    "<font color='green'> \n",
    "    <b><u>КОММЕНТАРИЙ РЕВЬЮЕРА 2</u></b>\n",
    "</font>\n",
    "<font color='green'><br>ок, есть контакт)"
   ]
  },
  {
   "cell_type": "markdown",
   "metadata": {},
   "source": [
    "<div style=\"background: #cceeaa; padding: 5px; border: 1px solid green; border-radius: 5px;\">\n",
    "    <font color='green'> <b><u>КОММЕНТАРИЙ РЕВЬЮЕРА</u></b>\n",
    "</font>\n",
    "<font color='red'><br>\n",
    "оооочень лаконично  получилось. Поэтому, не смог уловить переходы, извини.... Может поподробнее удастся расписать? <br>\n",
    "    \n",
    "А ещё есть такой способ: через выражение (при подстановке $w' = ((XP)^T XP)^{-1} (XP)^T y$) надо дойти до $w' = P^{-1}w$ , где $w = (X^T X)^{-1} X^T y$ Это и будет доказательством."
   ]
  },
  {
   "cell_type": "markdown",
   "metadata": {},
   "source": [
    "## Алгоритм преобразования"
   ]
  },
  {
   "cell_type": "markdown",
   "metadata": {},
   "source": [
    "**Алгоритм**\n",
    "\n",
    "Персональная информация представлена ввиде набора данных.  \n",
    "Для начала представим датафрейм ввиде матрицы. Далее для того, чтобы зашифровать данные клиентов, исходную матрицу преобразуем в обратную, а предсказания получим путем умножения обратной матрицы на вектор весов линейной регрессии."
   ]
  },
  {
   "cell_type": "markdown",
   "metadata": {},
   "source": [
    "**Обоснование**\n",
    "\n",
    "Как было доказано выше, качество линейной регрессии не изменится при умножении признаков на обратную матрицу, но данные клиентов останутся зашифроваными."
   ]
  },
  {
   "cell_type": "markdown",
   "metadata": {},
   "source": [
    "<div style=\"background: #cceeaa; padding: 5px; border: 1px solid green; border-radius: 5px;\">\n",
    "    <font color='green'> <b><u>КОММЕНТАРИЙ РЕВЬЮЕРА</u></b>\n",
    "</font>\n",
    "<font color='green'><br>\n",
    "Тут как раз и нужен план действий для пункта 4) Делай раз, делай два, делай три..Например так:<br>\n",
    "1) создаём рандомную матрицу<br>\n",
    "2) проверяем её на обратимость (создаём единичную матрицу)<br>\n",
    "3) Создаём новую матрицу данных<br>\n",
    "4) Ищем метрики качества на исходных данных и на преобразованных<br>\n",
    "5) делаем вывод"
   ]
  },
  {
   "cell_type": "markdown",
   "metadata": {},
   "source": [
    "## Проверка алгоритма"
   ]
  },
  {
   "cell_type": "markdown",
   "metadata": {},
   "source": [
    "<b>Разделение данных на выборки</b>"
   ]
  },
  {
   "cell_type": "code",
   "execution_count": 15,
   "metadata": {},
   "outputs": [],
   "source": [
    "features = df.drop('Страховые выплаты', axis=1)\n",
    "target = df['Страховые выплаты']"
   ]
  },
  {
   "cell_type": "markdown",
   "metadata": {},
   "source": [
    "<b>Модель Линейная регрессия из sklern</b>"
   ]
  },
  {
   "cell_type": "code",
   "execution_count": 16,
   "metadata": {},
   "outputs": [
    {
     "name": "stdout",
     "output_type": "stream",
     "text": [
      "0.4302010044852067\n"
     ]
    }
   ],
   "source": [
    "model = LinearRegression()\n",
    "model.fit(features, target)\n",
    "prediction = model.predict(features)\n",
    "print(r2_score(target, prediction))"
   ]
  },
  {
   "cell_type": "markdown",
   "metadata": {},
   "source": [
    "<b>Примение алгоритма шифрования пользовательских данных</b>"
   ]
  },
  {
   "cell_type": "code",
   "execution_count": 17,
   "metadata": {},
   "outputs": [
    {
     "name": "stdout",
     "output_type": "stream",
     "text": [
      "0.4302010044852068\n"
     ]
    }
   ],
   "source": [
    "class LinearRegressionNew:\n",
    "    def fit(self, train_features, train_target):\n",
    "        X = np.concatenate((np.ones((train_features.shape[0], 1)), train_features), axis=1)\n",
    "        y = train_target\n",
    "        w = ((np.linalg.inv(X.T @ X) @ X.T) @ y)\n",
    "        self.w = w[1:]\n",
    "        self.w0 = w[0]\n",
    "\n",
    "    def predict(self, test_features):\n",
    "        return test_features.dot(self.w) + self.w0\n",
    "    \n",
    "model_new = LinearRegressionNew()\n",
    "model_new.fit(features, target)\n",
    "predictions = model_new.predict(features)\n",
    "print(r2_score(target, predictions))"
   ]
  },
  {
   "cell_type": "markdown",
   "metadata": {},
   "source": [
    "<b>Вывод</b>"
   ]
  },
  {
   "cell_type": "markdown",
   "metadata": {},
   "source": [
    "В результате проделанной работы осуществлена предварительная подготовка данных: из выборки удалены дубликаты. Далее разработан алгоритм шифрования данных клиентов, условие использования которого не должно ухудшить качетсва модели. Для проверки предположения о том, что использование алгоритма не повлечет потерю качества модели, была получена метрика R2 путем применения линейной регрессии из sklearn, затем создан класс для непосредственной реализации модифицированной линейной регрессиии. Метрка качества R2 преобразованной модели оказалась равной метрики качества R2 модели из sklearn."
   ]
  },
  {
   "cell_type": "markdown",
   "metadata": {},
   "source": [
    "<div style=\"background: #cceeaa; padding: 5px; border: 1px solid green; border-radius: 5px;\">\n",
    "    <font color='green'> <b><u>КОММЕНТАРИЙ РЕВЬЮЕРА</u></b>\n",
    "</font>\n",
    "<font color='green'><br>\n",
    "ОК, Юлия, и с линейной алгеброй ты справился)<br>\n",
    "Всё, в общем-то, по делу, со смыслом. Доказательство в п.2 - теперь понятно)<br>\n",
    "Да и весь проект - на уровне.<br>\n",
    "    \n",
    "Если рассматривать передачу данных третьим лицам, то к преимуществам данного подхода можно отнести, в первую очередь, ощутимую экономию ресурсов по сравнению с некоторыми известными алгоритмами шифрования, в особенности это касается ассиметричных алгоритмов с достаточно длинными ключами (AES, RSA), которые требуют много процессорного времени.<br><br>\n",
    "    \n",
    "К главному недостатку подхода можно отнести увеличение сложности проверки на вырожденность преобразования с ростом количества признаков в выборке. В рассмотренном случае необходимо подобрать подходящую матрицу размера  4×4 . Однако, если признаки будут исчисляться тысячами, что в теории всегда надо положить, то расчет соответствующих определителей может быть крайне ресурсозатратным. Но и эту проблему можно будет решить)<br><br>\n",
    "<font color='green'><font color='green'>\n",
    "Спасибо) Успешного дальнейшего обучения"
   ]
  },
  {
   "cell_type": "code",
   "execution_count": null,
   "metadata": {},
   "outputs": [],
   "source": []
  },
  {
   "cell_type": "markdown",
   "metadata": {},
   "source": [
    "<div style=\"background: #cceeaa; padding: 5px; border: 1px solid green; border-radius: 5px;\">\n",
    "    <font color='green'> <b><u>КОММЕНТАРИЙ РЕВЬЮЕРА</u></b>\n",
    "</font>\n",
    "<font color='green'><br>\n",
    "Юлия, отличная работа! Сама практическая цель достигнута, ОК<br>\n",
    "Тут всё верно. Есть всего один момент для обсуждения:<br>\n",
    "    \n",
    "В разделе \"Умножение матриц\" оставил вопрос, посмотри, пожалуйста.<font color='red'><br>\n",
    "<br><font color='green'><font color='green'>\n",
    "Спасибо) Буду ждать."
   ]
  },
  {
   "cell_type": "markdown",
   "metadata": {},
   "source": [
    "## Чек-лист проверки"
   ]
  },
  {
   "cell_type": "markdown",
   "metadata": {},
   "source": [
    "Поставьте 'x' в выполненных пунктах. Далее нажмите Shift+Enter."
   ]
  },
  {
   "cell_type": "markdown",
   "metadata": {},
   "source": [
    "- [x]  Jupyter Notebook открыт\n",
    "- [x]  Весь код выполняется без ошибок\n",
    "- [x]  Ячейки с кодом расположены в порядке исполнения\n",
    "- [x]  Выполнен шаг 1: данные загружены\n",
    "- [x]  Выполнен шаг 2: получен ответ на вопрос об умножении матриц\n",
    "    - [x]  Указан правильный вариант ответа\n",
    "    - [x]  Вариант обоснован\n",
    "- [x]  Выполнен шаг 3: предложен алгоритм преобразования\n",
    "    - [x]  Алгоритм описан\n",
    "    - [x]  Алгоритм обоснован\n",
    "- [x]  Выполнен шаг 4: алгоритм проверен\n",
    "    - [x]  Алгоритм реализован\n",
    "    - [x]  Проведено сравнение качества моделей до и после преобразования"
   ]
  },
  {
   "cell_type": "code",
   "execution_count": null,
   "metadata": {},
   "outputs": [],
   "source": []
  }
 ],
 "metadata": {
  "ExecuteTimeLog": [
   {
    "duration": 592,
    "start_time": "2021-08-12T12:04:28.092Z"
   },
   {
    "duration": 19,
    "start_time": "2021-08-12T12:06:13.880Z"
   },
   {
    "duration": 14,
    "start_time": "2021-08-12T12:06:23.001Z"
   },
   {
    "duration": 7,
    "start_time": "2021-08-12T12:06:33.527Z"
   },
   {
    "duration": 6,
    "start_time": "2021-08-12T12:07:09.821Z"
   },
   {
    "duration": 7,
    "start_time": "2021-08-12T12:07:50.478Z"
   },
   {
    "duration": 306,
    "start_time": "2021-08-12T12:10:01.395Z"
   },
   {
    "duration": 230,
    "start_time": "2021-08-12T12:10:06.157Z"
   },
   {
    "duration": 23,
    "start_time": "2021-08-12T12:10:24.872Z"
   },
   {
    "duration": 230,
    "start_time": "2021-08-12T12:11:14.780Z"
   },
   {
    "duration": 7,
    "start_time": "2021-08-12T12:11:31.383Z"
   },
   {
    "duration": 230,
    "start_time": "2021-08-12T12:11:42.585Z"
   },
   {
    "duration": 6,
    "start_time": "2021-08-12T12:11:48.994Z"
   },
   {
    "duration": 14,
    "start_time": "2021-08-12T12:13:19.201Z"
   },
   {
    "duration": 6,
    "start_time": "2021-08-12T12:13:31.783Z"
   },
   {
    "duration": 14,
    "start_time": "2021-08-12T12:13:36.665Z"
   },
   {
    "duration": 5,
    "start_time": "2021-08-12T12:13:38.167Z"
   },
   {
    "duration": 5,
    "start_time": "2021-08-12T12:15:22.116Z"
   },
   {
    "duration": 7,
    "start_time": "2021-08-12T12:15:22.795Z"
   },
   {
    "duration": 253,
    "start_time": "2021-08-13T06:22:34.334Z"
   },
   {
    "duration": 588,
    "start_time": "2021-08-13T06:22:42.202Z"
   },
   {
    "duration": 18,
    "start_time": "2021-08-13T06:22:42.792Z"
   },
   {
    "duration": 13,
    "start_time": "2021-08-13T06:22:42.811Z"
   },
   {
    "duration": 8,
    "start_time": "2021-08-13T06:22:42.825Z"
   },
   {
    "duration": 21,
    "start_time": "2021-08-13T06:22:42.834Z"
   },
   {
    "duration": 5,
    "start_time": "2021-08-13T06:22:42.856Z"
   },
   {
    "duration": 7,
    "start_time": "2021-08-13T06:22:42.863Z"
   },
   {
    "duration": 20,
    "start_time": "2021-08-13T06:22:42.872Z"
   },
   {
    "duration": 5,
    "start_time": "2021-08-13T06:23:38.274Z"
   },
   {
    "duration": 5,
    "start_time": "2021-08-13T06:23:50.654Z"
   },
   {
    "duration": 6,
    "start_time": "2021-08-13T06:24:00.232Z"
   },
   {
    "duration": 5,
    "start_time": "2021-08-13T06:24:12.274Z"
   },
   {
    "duration": 686,
    "start_time": "2021-08-13T06:26:35.524Z"
   },
   {
    "duration": 414,
    "start_time": "2021-08-13T06:26:40.425Z"
   },
   {
    "duration": 3,
    "start_time": "2021-08-13T06:26:51.684Z"
   },
   {
    "duration": 20,
    "start_time": "2021-08-13T06:26:51.688Z"
   },
   {
    "duration": 7,
    "start_time": "2021-08-13T06:26:51.710Z"
   },
   {
    "duration": 6,
    "start_time": "2021-08-13T06:26:51.719Z"
   },
   {
    "duration": 20,
    "start_time": "2021-08-13T06:26:51.727Z"
   },
   {
    "duration": 4,
    "start_time": "2021-08-13T06:26:51.749Z"
   },
   {
    "duration": 4,
    "start_time": "2021-08-13T06:26:51.755Z"
   },
   {
    "duration": 413,
    "start_time": "2021-08-13T06:26:51.761Z"
   },
   {
    "duration": 5,
    "start_time": "2021-08-13T06:26:56.734Z"
   },
   {
    "duration": 425,
    "start_time": "2021-08-13T06:27:11.735Z"
   },
   {
    "duration": 416,
    "start_time": "2021-08-13T06:27:23.824Z"
   },
   {
    "duration": 456,
    "start_time": "2021-08-13T06:27:32.014Z"
   },
   {
    "duration": 5,
    "start_time": "2021-08-13T06:27:42.634Z"
   },
   {
    "duration": 5,
    "start_time": "2021-08-13T06:29:05.333Z"
   },
   {
    "duration": 350,
    "start_time": "2021-08-13T06:30:14.834Z"
   },
   {
    "duration": 292,
    "start_time": "2021-08-13T06:31:21.224Z"
   },
   {
    "duration": 5,
    "start_time": "2021-08-13T06:31:30.084Z"
   },
   {
    "duration": 5,
    "start_time": "2021-08-13T06:31:35.894Z"
   },
   {
    "duration": 5,
    "start_time": "2021-08-13T06:31:40.116Z"
   },
   {
    "duration": 6,
    "start_time": "2021-08-13T06:32:01.484Z"
   },
   {
    "duration": 5,
    "start_time": "2021-08-13T06:32:08.135Z"
   },
   {
    "duration": 4,
    "start_time": "2021-08-13T06:32:38.534Z"
   },
   {
    "duration": 5,
    "start_time": "2021-08-13T06:37:49.954Z"
   },
   {
    "duration": 5,
    "start_time": "2021-08-13T06:38:15.294Z"
   },
   {
    "duration": 3,
    "start_time": "2021-08-13T07:03:06.904Z"
   },
   {
    "duration": 5,
    "start_time": "2021-08-13T07:03:09.890Z"
   },
   {
    "duration": 5,
    "start_time": "2021-08-13T07:03:29.281Z"
   },
   {
    "duration": 6,
    "start_time": "2021-08-13T07:04:20.413Z"
   },
   {
    "duration": 5,
    "start_time": "2021-08-13T07:05:11.784Z"
   },
   {
    "duration": 5,
    "start_time": "2021-08-13T07:05:39.342Z"
   },
   {
    "duration": 6,
    "start_time": "2021-08-13T07:06:54.890Z"
   },
   {
    "duration": 6,
    "start_time": "2021-08-13T07:07:08.882Z"
   },
   {
    "duration": 75,
    "start_time": "2021-08-13T07:07:54.164Z"
   },
   {
    "duration": 5,
    "start_time": "2021-08-13T07:08:03.234Z"
   },
   {
    "duration": 5,
    "start_time": "2021-08-13T07:08:42.254Z"
   },
   {
    "duration": 6,
    "start_time": "2021-08-13T07:09:08.353Z"
   },
   {
    "duration": 7,
    "start_time": "2021-08-13T07:14:51.098Z"
   },
   {
    "duration": 5,
    "start_time": "2021-08-13T07:15:43.855Z"
   },
   {
    "duration": 7,
    "start_time": "2021-08-13T07:15:48.017Z"
   },
   {
    "duration": 7,
    "start_time": "2021-08-13T07:16:13.155Z"
   },
   {
    "duration": 4,
    "start_time": "2021-08-13T07:16:39.915Z"
   },
   {
    "duration": 8,
    "start_time": "2021-08-13T07:18:39.853Z"
   },
   {
    "duration": 8,
    "start_time": "2021-08-13T07:19:03.637Z"
   },
   {
    "duration": 7,
    "start_time": "2021-08-13T07:19:29.117Z"
   },
   {
    "duration": 7,
    "start_time": "2021-08-13T07:19:40.897Z"
   },
   {
    "duration": 4,
    "start_time": "2021-08-13T07:19:51.811Z"
   },
   {
    "duration": 8,
    "start_time": "2021-08-13T07:20:27.746Z"
   },
   {
    "duration": 576,
    "start_time": "2021-08-13T08:54:51.286Z"
   },
   {
    "duration": 8,
    "start_time": "2021-08-13T08:56:16.996Z"
   },
   {
    "duration": 4,
    "start_time": "2021-08-13T08:56:28.719Z"
   },
   {
    "duration": 5,
    "start_time": "2021-08-13T08:58:12.152Z"
   },
   {
    "duration": 7,
    "start_time": "2021-08-13T08:58:40.566Z"
   },
   {
    "duration": 16,
    "start_time": "2021-08-13T09:00:06.896Z"
   },
   {
    "duration": 3,
    "start_time": "2021-08-13T09:01:04.756Z"
   },
   {
    "duration": 15,
    "start_time": "2021-08-13T09:02:58.779Z"
   },
   {
    "duration": 3,
    "start_time": "2021-08-13T09:03:23.959Z"
   },
   {
    "duration": 18,
    "start_time": "2021-08-13T09:04:49.570Z"
   },
   {
    "duration": 6,
    "start_time": "2021-08-13T09:05:11.133Z"
   },
   {
    "duration": 3,
    "start_time": "2021-08-13T09:05:15.908Z"
   },
   {
    "duration": 30,
    "start_time": "2021-08-13T09:05:15.913Z"
   },
   {
    "duration": 21,
    "start_time": "2021-08-13T09:05:15.945Z"
   },
   {
    "duration": 7,
    "start_time": "2021-08-13T09:05:15.968Z"
   },
   {
    "duration": 28,
    "start_time": "2021-08-13T09:05:15.977Z"
   },
   {
    "duration": 6,
    "start_time": "2021-08-13T09:05:16.006Z"
   },
   {
    "duration": 4,
    "start_time": "2021-08-13T09:05:16.014Z"
   },
   {
    "duration": 26,
    "start_time": "2021-08-13T09:05:16.020Z"
   },
   {
    "duration": 22,
    "start_time": "2021-08-13T09:05:16.047Z"
   },
   {
    "duration": 18,
    "start_time": "2021-08-13T09:05:16.071Z"
   },
   {
    "duration": 110,
    "start_time": "2021-08-13T09:05:16.091Z"
   },
   {
    "duration": 3,
    "start_time": "2021-08-13T09:06:40.905Z"
   },
   {
    "duration": 16,
    "start_time": "2021-08-13T09:06:40.921Z"
   },
   {
    "duration": 8,
    "start_time": "2021-08-13T09:06:40.938Z"
   },
   {
    "duration": 10,
    "start_time": "2021-08-13T09:06:40.947Z"
   },
   {
    "duration": 21,
    "start_time": "2021-08-13T09:06:40.959Z"
   },
   {
    "duration": 4,
    "start_time": "2021-08-13T09:06:40.982Z"
   },
   {
    "duration": 4,
    "start_time": "2021-08-13T09:06:40.988Z"
   },
   {
    "duration": 4,
    "start_time": "2021-08-13T09:06:40.994Z"
   },
   {
    "duration": 7,
    "start_time": "2021-08-13T09:06:41.000Z"
   },
   {
    "duration": 9,
    "start_time": "2021-08-13T09:06:41.009Z"
   },
   {
    "duration": 12,
    "start_time": "2021-08-13T09:06:41.019Z"
   },
   {
    "duration": 3,
    "start_time": "2021-08-13T09:06:49.755Z"
   },
   {
    "duration": 19,
    "start_time": "2021-08-13T09:06:49.759Z"
   },
   {
    "duration": 7,
    "start_time": "2021-08-13T09:06:49.781Z"
   },
   {
    "duration": 7,
    "start_time": "2021-08-13T09:06:49.790Z"
   },
   {
    "duration": 22,
    "start_time": "2021-08-13T09:06:49.799Z"
   },
   {
    "duration": 6,
    "start_time": "2021-08-13T09:06:49.822Z"
   },
   {
    "duration": 12,
    "start_time": "2021-08-13T09:06:49.829Z"
   },
   {
    "duration": 6,
    "start_time": "2021-08-13T09:06:49.844Z"
   },
   {
    "duration": 8,
    "start_time": "2021-08-13T09:06:49.851Z"
   },
   {
    "duration": 31,
    "start_time": "2021-08-13T09:06:49.861Z"
   },
   {
    "duration": 13,
    "start_time": "2021-08-13T09:06:49.893Z"
   },
   {
    "duration": 3,
    "start_time": "2021-08-13T09:09:23.934Z"
   },
   {
    "duration": 20,
    "start_time": "2021-08-13T09:09:23.941Z"
   },
   {
    "duration": 9,
    "start_time": "2021-08-13T09:09:23.963Z"
   },
   {
    "duration": 9,
    "start_time": "2021-08-13T09:09:23.974Z"
   },
   {
    "duration": 21,
    "start_time": "2021-08-13T09:09:23.985Z"
   },
   {
    "duration": 4,
    "start_time": "2021-08-13T09:09:24.008Z"
   },
   {
    "duration": 5,
    "start_time": "2021-08-13T09:09:24.014Z"
   },
   {
    "duration": 4,
    "start_time": "2021-08-13T09:09:24.021Z"
   },
   {
    "duration": 9,
    "start_time": "2021-08-13T09:09:24.027Z"
   },
   {
    "duration": 11,
    "start_time": "2021-08-13T09:09:24.037Z"
   },
   {
    "duration": 11,
    "start_time": "2021-08-13T09:09:24.050Z"
   },
   {
    "duration": 29,
    "start_time": "2021-08-13T09:09:24.063Z"
   },
   {
    "duration": 385,
    "start_time": "2021-08-13T09:09:24.095Z"
   },
   {
    "duration": 1123,
    "start_time": "2021-08-13T09:13:03.901Z"
   },
   {
    "duration": 14,
    "start_time": "2021-08-13T09:13:38.231Z"
   },
   {
    "duration": 996,
    "start_time": "2021-08-13T09:25:46.215Z"
   },
   {
    "duration": 18,
    "start_time": "2021-08-13T09:25:47.213Z"
   },
   {
    "duration": 14,
    "start_time": "2021-08-13T09:25:47.233Z"
   },
   {
    "duration": 7,
    "start_time": "2021-08-13T09:25:47.248Z"
   },
   {
    "duration": 25,
    "start_time": "2021-08-13T09:25:47.257Z"
   },
   {
    "duration": 5,
    "start_time": "2021-08-13T09:25:47.292Z"
   },
   {
    "duration": 7,
    "start_time": "2021-08-13T09:25:47.298Z"
   },
   {
    "duration": 4,
    "start_time": "2021-08-13T09:25:47.306Z"
   },
   {
    "duration": 83,
    "start_time": "2021-08-13T09:25:47.312Z"
   },
   {
    "duration": 106,
    "start_time": "2021-08-13T09:25:47.397Z"
   },
   {
    "duration": 1314,
    "start_time": "2021-08-13T09:45:35.480Z"
   },
   {
    "duration": 18,
    "start_time": "2021-08-13T09:45:36.796Z"
   },
   {
    "duration": 21,
    "start_time": "2021-08-13T09:45:36.817Z"
   },
   {
    "duration": 9,
    "start_time": "2021-08-13T09:45:36.840Z"
   },
   {
    "duration": 52,
    "start_time": "2021-08-13T09:45:36.851Z"
   },
   {
    "duration": 8,
    "start_time": "2021-08-13T09:45:37.045Z"
   },
   {
    "duration": 9,
    "start_time": "2021-08-13T09:45:37.511Z"
   },
   {
    "duration": 5,
    "start_time": "2021-08-13T10:06:17.048Z"
   },
   {
    "duration": 18,
    "start_time": "2021-08-13T10:06:17.805Z"
   },
   {
    "duration": 12,
    "start_time": "2021-08-13T10:06:17.989Z"
   },
   {
    "duration": 8,
    "start_time": "2021-08-13T10:06:18.157Z"
   },
   {
    "duration": 37,
    "start_time": "2021-08-13T10:06:18.302Z"
   },
   {
    "duration": 7,
    "start_time": "2021-08-13T10:06:18.445Z"
   },
   {
    "duration": 8,
    "start_time": "2021-08-13T10:06:18.617Z"
   },
   {
    "duration": 6,
    "start_time": "2021-08-13T10:06:21.825Z"
   },
   {
    "duration": 23,
    "start_time": "2021-08-13T10:06:22.172Z"
   },
   {
    "duration": 20,
    "start_time": "2021-08-13T10:06:22.561Z"
   }
  ],
  "kernelspec": {
   "display_name": "Python 3",
   "language": "python",
   "name": "python3"
  },
  "language_info": {
   "codemirror_mode": {
    "name": "ipython",
    "version": 3
   },
   "file_extension": ".py",
   "mimetype": "text/x-python",
   "name": "python",
   "nbconvert_exporter": "python",
   "pygments_lexer": "ipython3",
   "version": "3.7.8"
  },
  "toc": {
   "base_numbering": 1,
   "nav_menu": {},
   "number_sections": true,
   "sideBar": true,
   "skip_h1_title": true,
   "title_cell": "Содержание",
   "title_sidebar": "Contents",
   "toc_cell": true,
   "toc_position": {},
   "toc_section_display": true,
   "toc_window_display": true
  }
 },
 "nbformat": 4,
 "nbformat_minor": 2
}
