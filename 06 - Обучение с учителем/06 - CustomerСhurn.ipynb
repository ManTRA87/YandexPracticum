{
 "cells": [
  {
   "cell_type": "markdown",
   "metadata": {
    "toc": true
   },
   "source": [
    "<h1>Содержание<span class=\"tocSkip\"></span></h1>\n",
    "<div class=\"toc\"><ul class=\"toc-item\"><li><span><a href=\"#Подготовка-данных\" data-toc-modified-id=\"Подготовка-данных-1\"><span class=\"toc-item-num\">1&nbsp;&nbsp;</span>Подготовка данных</a></span></li><li><span><a href=\"#Исследование-задачи\" data-toc-modified-id=\"Исследование-задачи-2\"><span class=\"toc-item-num\">2&nbsp;&nbsp;</span>Исследование задачи</a></span></li><li><span><a href=\"#Борьба-с-дисбалансом\" data-toc-modified-id=\"Борьба-с-дисбалансом-3\"><span class=\"toc-item-num\">3&nbsp;&nbsp;</span>Борьба с дисбалансом</a></span><ul class=\"toc-item\"><li><span><a href=\"#Взвешивание-классов\" data-toc-modified-id=\"Взвешивание-классов-3.1\"><span class=\"toc-item-num\">3.1&nbsp;&nbsp;</span>Взвешивание классов</a></span></li><li><span><a href=\"#Изменение-размеров-выборок\" data-toc-modified-id=\"Изменение-размеров-выборок-3.2\"><span class=\"toc-item-num\">3.2&nbsp;&nbsp;</span>Изменение размеров выборок</a></span></li></ul></li><li><span><a href=\"#Тестирование-модели\" data-toc-modified-id=\"Тестирование-модели-4\"><span class=\"toc-item-num\">4&nbsp;&nbsp;</span>Тестирование модели</a></span></li><li><span><a href=\"#Вывод\" data-toc-modified-id=\"Вывод-5\"><span class=\"toc-item-num\">5&nbsp;&nbsp;</span>Вывод</a></span></li><li><span><a href=\"#-Комментарий-ревьюера\" data-toc-modified-id=\"-Комментарий-ревьюера-6\"><span class=\"toc-item-num\">6&nbsp;&nbsp;</span> Комментарий ревьюера</a></span></li><li><span><a href=\"#Чек-лист-готовности-проекта\" data-toc-modified-id=\"Чек-лист-готовности-проекта-7\"><span class=\"toc-item-num\">7&nbsp;&nbsp;</span>Чек-лист готовности проекта</a></span></li></ul></div>"
   ]
  },
  {
   "cell_type": "markdown",
   "metadata": {},
   "source": [
    "# Отток клиентов"
   ]
  },
  {
   "cell_type": "markdown",
   "metadata": {},
   "source": [
    "**Цели и задачи:**\n",
    "\n",
    "- Проанализировать исторические данные о поведении клиентов банка, расторжении договоров. Спрогнозировать уход клиента из банка.\n",
    "- Построить модель классификации, метрика качества f1 (минимальное значение 0.59)\n",
    "- Измерить AUC-ROC, сравнить её значение с f1-мерой.\n",
    "\n",
    "**План выполнения работы:**\n",
    "\n",
    "- 1. Подготовка данных\n",
    "     - 1.1 Загрузка данных\n",
    "     - 1.2 Подготовка признаков\n",
    "     - 1.3 Преобразование признака `Tenure`\n",
    "- 1. Исследование задачи\n",
    "     - 2.1 Решающее дерево\n",
    "     - 2.2 Случайный лес\n",
    "     - 2.3 Логистическая регрессия\n",
    "- 1. Борьба с дисбалансом\n",
    "     - 3.1 Взвешивание классов\n",
    "     - 3.2 Upsampling и Downsampling\n",
    "- 1. Тестирование модели\n",
    "- 1. Общий вывод\n",
    "\n",
    "**Описание данных:**\n",
    "Исторические данные о поведении клиентов и расторжении договоров с банком.\n",
    "Источник данных: https://www.kaggle.com/barelydedicated/bank-customer-churn-modeling\n",
    "\n",
    "**Признаки**\n",
    "\n",
    "- `RowNumber` — индекс строки в данных\n",
    "- `CustomerId` — уникальный идентификатор клиента\n",
    "- `Surname` — фамилия\n",
    "- `CreditScore` — кредитный рейтинг\n",
    "- `Geography` — страна проживания\n",
    "- `Gender` — пол\n",
    "- `Age` — возраст\n",
    "- `Tenure` — количество недвижимости у клиента\n",
    "- `Balance` — баланс на счёте\n",
    "- `NumOfProducts` — количество продуктов банка, используемых клиентом\n",
    "- `HasCrCard` — наличие кредитной карты\n",
    "- `IsActiveMember` — активность клиента\n",
    "- `EstimatedSalary` — предполагаемая зарплата\n",
    "\n",
    "**Целевой признак**\n",
    "\n",
    "- `Exited` — факт ухода клиента"
   ]
  },
  {
   "cell_type": "markdown",
   "metadata": {},
   "source": [
    "## Подготовка данных"
   ]
  },
  {
   "cell_type": "code",
   "execution_count": 1,
   "metadata": {},
   "outputs": [],
   "source": [
    "import pandas as pd\n",
    "import numpy as np\n",
    "import matplotlib.pyplot as plt\n",
    "from sklearn.model_selection import train_test_split\n",
    "from sklearn.linear_model import LogisticRegression\n",
    "from sklearn.preprocessing import StandardScaler\n",
    "from sklearn.metrics import accuracy_score\n",
    "from sklearn.tree import DecisionTreeClassifier\n",
    "from sklearn.ensemble import RandomForestClassifier\n",
    "from sklearn.metrics import confusion_matrix\n",
    "from sklearn.metrics import recall_score\n",
    "from sklearn.metrics import precision_score\n",
    "from sklearn.metrics import f1_score\n",
    "from sklearn.utils import shuffle\n",
    "from sklearn.metrics import roc_curve\n",
    "from sklearn.metrics import roc_auc_score"
   ]
  },
  {
   "cell_type": "markdown",
   "metadata": {},
   "source": [
    "<b>Просмотр информации из файла</b>"
   ]
  },
  {
   "cell_type": "code",
   "execution_count": 2,
   "metadata": {},
   "outputs": [],
   "source": [
    "df = pd.read_csv('/datasets/Churn.csv')"
   ]
  },
  {
   "cell_type": "code",
   "execution_count": 3,
   "metadata": {},
   "outputs": [
    {
     "data": {
      "text/html": [
       "<div>\n",
       "<style scoped>\n",
       "    .dataframe tbody tr th:only-of-type {\n",
       "        vertical-align: middle;\n",
       "    }\n",
       "\n",
       "    .dataframe tbody tr th {\n",
       "        vertical-align: top;\n",
       "    }\n",
       "\n",
       "    .dataframe thead th {\n",
       "        text-align: right;\n",
       "    }\n",
       "</style>\n",
       "<table border=\"1\" class=\"dataframe\">\n",
       "  <thead>\n",
       "    <tr style=\"text-align: right;\">\n",
       "      <th></th>\n",
       "      <th>RowNumber</th>\n",
       "      <th>CustomerId</th>\n",
       "      <th>Surname</th>\n",
       "      <th>CreditScore</th>\n",
       "      <th>Geography</th>\n",
       "      <th>Gender</th>\n",
       "      <th>Age</th>\n",
       "      <th>Tenure</th>\n",
       "      <th>Balance</th>\n",
       "      <th>NumOfProducts</th>\n",
       "      <th>HasCrCard</th>\n",
       "      <th>IsActiveMember</th>\n",
       "      <th>EstimatedSalary</th>\n",
       "      <th>Exited</th>\n",
       "    </tr>\n",
       "  </thead>\n",
       "  <tbody>\n",
       "    <tr>\n",
       "      <td>0</td>\n",
       "      <td>1</td>\n",
       "      <td>15634602</td>\n",
       "      <td>Hargrave</td>\n",
       "      <td>619</td>\n",
       "      <td>France</td>\n",
       "      <td>Female</td>\n",
       "      <td>42</td>\n",
       "      <td>2.0</td>\n",
       "      <td>0.00</td>\n",
       "      <td>1</td>\n",
       "      <td>1</td>\n",
       "      <td>1</td>\n",
       "      <td>101348.88</td>\n",
       "      <td>1</td>\n",
       "    </tr>\n",
       "    <tr>\n",
       "      <td>1</td>\n",
       "      <td>2</td>\n",
       "      <td>15647311</td>\n",
       "      <td>Hill</td>\n",
       "      <td>608</td>\n",
       "      <td>Spain</td>\n",
       "      <td>Female</td>\n",
       "      <td>41</td>\n",
       "      <td>1.0</td>\n",
       "      <td>83807.86</td>\n",
       "      <td>1</td>\n",
       "      <td>0</td>\n",
       "      <td>1</td>\n",
       "      <td>112542.58</td>\n",
       "      <td>0</td>\n",
       "    </tr>\n",
       "    <tr>\n",
       "      <td>2</td>\n",
       "      <td>3</td>\n",
       "      <td>15619304</td>\n",
       "      <td>Onio</td>\n",
       "      <td>502</td>\n",
       "      <td>France</td>\n",
       "      <td>Female</td>\n",
       "      <td>42</td>\n",
       "      <td>8.0</td>\n",
       "      <td>159660.80</td>\n",
       "      <td>3</td>\n",
       "      <td>1</td>\n",
       "      <td>0</td>\n",
       "      <td>113931.57</td>\n",
       "      <td>1</td>\n",
       "    </tr>\n",
       "    <tr>\n",
       "      <td>3</td>\n",
       "      <td>4</td>\n",
       "      <td>15701354</td>\n",
       "      <td>Boni</td>\n",
       "      <td>699</td>\n",
       "      <td>France</td>\n",
       "      <td>Female</td>\n",
       "      <td>39</td>\n",
       "      <td>1.0</td>\n",
       "      <td>0.00</td>\n",
       "      <td>2</td>\n",
       "      <td>0</td>\n",
       "      <td>0</td>\n",
       "      <td>93826.63</td>\n",
       "      <td>0</td>\n",
       "    </tr>\n",
       "    <tr>\n",
       "      <td>4</td>\n",
       "      <td>5</td>\n",
       "      <td>15737888</td>\n",
       "      <td>Mitchell</td>\n",
       "      <td>850</td>\n",
       "      <td>Spain</td>\n",
       "      <td>Female</td>\n",
       "      <td>43</td>\n",
       "      <td>2.0</td>\n",
       "      <td>125510.82</td>\n",
       "      <td>1</td>\n",
       "      <td>1</td>\n",
       "      <td>1</td>\n",
       "      <td>79084.10</td>\n",
       "      <td>0</td>\n",
       "    </tr>\n",
       "  </tbody>\n",
       "</table>\n",
       "</div>"
      ],
      "text/plain": [
       "   RowNumber  CustomerId   Surname  CreditScore Geography  Gender  Age  \\\n",
       "0          1    15634602  Hargrave          619    France  Female   42   \n",
       "1          2    15647311      Hill          608     Spain  Female   41   \n",
       "2          3    15619304      Onio          502    France  Female   42   \n",
       "3          4    15701354      Boni          699    France  Female   39   \n",
       "4          5    15737888  Mitchell          850     Spain  Female   43   \n",
       "\n",
       "   Tenure    Balance  NumOfProducts  HasCrCard  IsActiveMember  \\\n",
       "0     2.0       0.00              1          1               1   \n",
       "1     1.0   83807.86              1          0               1   \n",
       "2     8.0  159660.80              3          1               0   \n",
       "3     1.0       0.00              2          0               0   \n",
       "4     2.0  125510.82              1          1               1   \n",
       "\n",
       "   EstimatedSalary  Exited  \n",
       "0        101348.88       1  \n",
       "1        112542.58       0  \n",
       "2        113931.57       1  \n",
       "3         93826.63       0  \n",
       "4         79084.10       0  "
      ]
     },
     "execution_count": 3,
     "metadata": {},
     "output_type": "execute_result"
    }
   ],
   "source": [
    "df.head()"
   ]
  },
  {
   "cell_type": "code",
   "execution_count": 4,
   "metadata": {},
   "outputs": [
    {
     "name": "stdout",
     "output_type": "stream",
     "text": [
      "<class 'pandas.core.frame.DataFrame'>\n",
      "RangeIndex: 10000 entries, 0 to 9999\n",
      "Data columns (total 14 columns):\n",
      "RowNumber          10000 non-null int64\n",
      "CustomerId         10000 non-null int64\n",
      "Surname            10000 non-null object\n",
      "CreditScore        10000 non-null int64\n",
      "Geography          10000 non-null object\n",
      "Gender             10000 non-null object\n",
      "Age                10000 non-null int64\n",
      "Tenure             9091 non-null float64\n",
      "Balance            10000 non-null float64\n",
      "NumOfProducts      10000 non-null int64\n",
      "HasCrCard          10000 non-null int64\n",
      "IsActiveMember     10000 non-null int64\n",
      "EstimatedSalary    10000 non-null float64\n",
      "Exited             10000 non-null int64\n",
      "dtypes: float64(3), int64(8), object(3)\n",
      "memory usage: 1.1+ MB\n"
     ]
    }
   ],
   "source": [
    "df.info()"
   ]
  },
  {
   "cell_type": "markdown",
   "metadata": {},
   "source": [
    "<i>\n",
    "В данных есть пропущенные значения в столбце Tenure, также имеются категориальные признаки в столбцах Geography, Gender. \n",
    "Для корректной работы модели логистической регрессии, заменим пропущенные значения медианными, а категориальные признаки обработаем техникой прямого кодирования. <br>    \n",
    "Столбцы Surname, RowNumber и CustomerId содержат информацию, которая не пригодится для обучения модели, поэтому удалим их.\n",
    "</i>"
   ]
  },
  {
   "cell_type": "markdown",
   "metadata": {},
   "source": [
    "<b>Обработка пропущенных значений</b>"
   ]
  },
  {
   "cell_type": "code",
   "execution_count": 5,
   "metadata": {},
   "outputs": [],
   "source": [
    "median = df['Tenure'].median()\n",
    "df.loc[(df['Tenure'].isna()), 'Tenure'] = median"
   ]
  },
  {
   "cell_type": "markdown",
   "metadata": {},
   "source": [
    "<b>Удаление ненужных столбцов</b>"
   ]
  },
  {
   "cell_type": "code",
   "execution_count": 6,
   "metadata": {},
   "outputs": [],
   "source": [
    "drop_columns = ['RowNumber','CustomerId', 'Surname']\n",
    "df = df.drop(drop_columns, axis=1)"
   ]
  },
  {
   "cell_type": "markdown",
   "metadata": {},
   "source": [
    "<b>Проверка наличия дубликатов</b>"
   ]
  },
  {
   "cell_type": "code",
   "execution_count": 7,
   "metadata": {},
   "outputs": [
    {
     "data": {
      "text/plain": [
       "0"
      ]
     },
     "execution_count": 7,
     "metadata": {},
     "output_type": "execute_result"
    }
   ],
   "source": [
    "df.duplicated().sum()"
   ]
  },
  {
   "cell_type": "markdown",
   "metadata": {},
   "source": [
    "<b>Прямое кодирование категориальных признаков с учетом дамми-ловушки</b>"
   ]
  },
  {
   "cell_type": "code",
   "execution_count": 8,
   "metadata": {},
   "outputs": [],
   "source": [
    "df_ohe = pd.get_dummies(df, drop_first=True)"
   ]
  },
  {
   "cell_type": "markdown",
   "metadata": {},
   "source": [
    "<b>Разделение данных на выборки</b>"
   ]
  },
  {
   "cell_type": "code",
   "execution_count": 9,
   "metadata": {},
   "outputs": [],
   "source": [
    "df_train, df_valid = train_test_split(df_ohe, test_size=0.25, random_state=12345)\n",
    "df_valid, df_test = train_test_split(df_valid, test_size = 0.5, random_state=12345)"
   ]
  },
  {
   "cell_type": "code",
   "execution_count": 10,
   "metadata": {},
   "outputs": [
    {
     "data": {
      "text/plain": [
       "((7500, 12), (1250, 12), (1250, 12))"
      ]
     },
     "execution_count": 10,
     "metadata": {},
     "output_type": "execute_result"
    }
   ],
   "source": [
    "df_train.shape, df_valid.shape, df_test.shape"
   ]
  },
  {
   "cell_type": "markdown",
   "metadata": {},
   "source": [
    "<b>Объявление переменных</b>"
   ]
  },
  {
   "cell_type": "code",
   "execution_count": 11,
   "metadata": {},
   "outputs": [],
   "source": [
    "features_train = df_train.drop('Exited', axis=1)\n",
    "features_valid = df_valid.drop('Exited', axis=1)\n",
    "features_test = df_test.drop('Exited', axis=1)\n",
    "\n",
    "target_train = df_train['Exited']\n",
    "target_valid = df_valid['Exited']\n",
    "target_test = df_test['Exited']"
   ]
  },
  {
   "cell_type": "markdown",
   "metadata": {},
   "source": [
    "<b>Масштабтрование признаков</b>"
   ]
  },
  {
   "cell_type": "code",
   "execution_count": 12,
   "metadata": {},
   "outputs": [],
   "source": [
    "numeric = ['CreditScore', 'Age', 'Tenure', 'Balance', 'NumOfProducts', 'EstimatedSalary']"
   ]
  },
  {
   "cell_type": "code",
   "execution_count": 13,
   "metadata": {},
   "outputs": [],
   "source": [
    "scaler = StandardScaler()\n",
    "scaler.fit(features_train[numeric])\n",
    "features_train[numeric] = scaler.transform(features_train[numeric])\n",
    "features_valid[numeric] = scaler.transform(features_valid[numeric])\n",
    "features_test[numeric] = scaler.transform(features_test[numeric])"
   ]
  },
  {
   "cell_type": "markdown",
   "metadata": {},
   "source": [
    "## Исследование задачи"
   ]
  },
  {
   "cell_type": "markdown",
   "metadata": {},
   "source": [
    "<b>Модель: Решающее дерево</b>"
   ]
  },
  {
   "cell_type": "code",
   "execution_count": 14,
   "metadata": {},
   "outputs": [
    {
     "data": {
      "text/plain": [
       "0.7864"
      ]
     },
     "execution_count": 14,
     "metadata": {},
     "output_type": "execute_result"
    }
   ],
   "source": [
    "model_tree = DecisionTreeClassifier(random_state=12345)\n",
    "model_tree.fit(features_train, target_train).score(features_valid, target_valid)"
   ]
  },
  {
   "cell_type": "markdown",
   "metadata": {},
   "source": [
    "<b>Модель: Случайный лес</b>"
   ]
  },
  {
   "cell_type": "code",
   "execution_count": 15,
   "metadata": {},
   "outputs": [
    {
     "data": {
      "text/plain": [
       "0.8632"
      ]
     },
     "execution_count": 15,
     "metadata": {},
     "output_type": "execute_result"
    }
   ],
   "source": [
    "model_forest = RandomForestClassifier(random_state=12345, n_estimators = 100)\n",
    "model_forest.fit(features_train, target_train).score(features_valid, target_valid)"
   ]
  },
  {
   "cell_type": "markdown",
   "metadata": {},
   "source": [
    "<b>Модель: Логистическая регрессия</b>"
   ]
  },
  {
   "cell_type": "code",
   "execution_count": 16,
   "metadata": {},
   "outputs": [
    {
     "data": {
      "text/plain": [
       "0.7992"
      ]
     },
     "execution_count": 16,
     "metadata": {},
     "output_type": "execute_result"
    }
   ],
   "source": [
    "model_logic = LogisticRegression(solver = 'liblinear')\n",
    "model_logic.fit(features_train, target_train).score(features_valid, target_valid)"
   ]
  },
  {
   "cell_type": "markdown",
   "metadata": {},
   "source": [
    "<i>Наибольшую точность показала модель Случайного леса.</i>"
   ]
  },
  {
   "cell_type": "markdown",
   "metadata": {},
   "source": [
    "<b>Матрица ошибок</b>"
   ]
  },
  {
   "cell_type": "code",
   "execution_count": 17,
   "metadata": {},
   "outputs": [
    {
     "name": "stdout",
     "output_type": "stream",
     "text": [
      "Матрица ошибок модели Дерево решений:\n"
     ]
    },
    {
     "data": {
      "text/plain": [
       "array([[850, 137],\n",
       "       [130, 133]])"
      ]
     },
     "execution_count": 17,
     "metadata": {},
     "output_type": "execute_result"
    }
   ],
   "source": [
    "predicted_valid_tree = model_tree.predict(features_valid)\n",
    "print('Матрица ошибок модели Дерево решений:')\n",
    "confusion_matrix(target_valid, predicted_valid_tree)"
   ]
  },
  {
   "cell_type": "code",
   "execution_count": 18,
   "metadata": {},
   "outputs": [
    {
     "name": "stdout",
     "output_type": "stream",
     "text": [
      "Матрица ошибок модели Случайный лес:\n"
     ]
    },
    {
     "data": {
      "text/plain": [
       "array([[954,  33],\n",
       "       [138, 125]])"
      ]
     },
     "execution_count": 18,
     "metadata": {},
     "output_type": "execute_result"
    }
   ],
   "source": [
    "predicted_valid_forest = model_forest.predict(features_valid)\n",
    "print('Матрица ошибок модели Случайный лес:')\n",
    "confusion_matrix(target_valid, predicted_valid_forest)"
   ]
  },
  {
   "cell_type": "code",
   "execution_count": 19,
   "metadata": {},
   "outputs": [
    {
     "name": "stdout",
     "output_type": "stream",
     "text": [
      "Матрица ошибок модели Логистическая регрессия:\n"
     ]
    },
    {
     "data": {
      "text/plain": [
       "array([[945,  42],\n",
       "       [209,  54]])"
      ]
     },
     "execution_count": 19,
     "metadata": {},
     "output_type": "execute_result"
    }
   ],
   "source": [
    "predicted_valid_logic = model_logic.predict(features_valid)\n",
    "print('Матрица ошибок модели Логистическая регрессия:')\n",
    "confusion_matrix(target_valid, predicted_valid_logic)"
   ]
  },
  {
   "cell_type": "markdown",
   "metadata": {},
   "source": [
    "<i>Модели довольно часто предсказывают ложноотрицательные и ложноположительные ответы. Наиболее \"пессимистична\" модель Логистической регрессии.</i>"
   ]
  },
  {
   "cell_type": "markdown",
   "metadata": {},
   "source": [
    "<b>Исследование метрик качества моделей на несбалансированной выборке</b>"
   ]
  },
  {
   "cell_type": "markdown",
   "metadata": {},
   "source": [
    "<i>Дерево решений</i>"
   ]
  },
  {
   "cell_type": "code",
   "execution_count": 20,
   "metadata": {},
   "outputs": [
    {
     "name": "stdout",
     "output_type": "stream",
     "text": [
      "Полнота:  0.5057034220532319\n",
      "Точность:  0.4925925925925926\n",
      "F1-мера:  0.49906191369606\n",
      "AUC-ROC:  0.683449482049919\n"
     ]
    }
   ],
   "source": [
    "print('Полнота: ', recall_score(target_valid, predicted_valid_tree))\n",
    "print('Точность: ', precision_score(target_valid, predicted_valid_tree))\n",
    "print('F1-мера: ', f1_score(target_valid, predicted_valid_tree))\n",
    "print('AUC-ROC: ', roc_auc_score(target_valid, predicted_valid_tree))"
   ]
  },
  {
   "cell_type": "markdown",
   "metadata": {},
   "source": [
    "<i>Случайный лес</i>"
   ]
  },
  {
   "cell_type": "code",
   "execution_count": 21,
   "metadata": {},
   "outputs": [
    {
     "name": "stdout",
     "output_type": "stream",
     "text": [
      "Полнота:  0.4752851711026616\n",
      "Точность:  0.7911392405063291\n",
      "F1-мера:  0.5938242280285037\n",
      "AUC-ROC:  0.7209252603233672\n"
     ]
    }
   ],
   "source": [
    "print('Полнота: ', recall_score(target_valid, predicted_valid_forest))\n",
    "print('Точность: ', precision_score(target_valid, predicted_valid_forest))\n",
    "print('F1-мера: ', f1_score(target_valid, predicted_valid_forest))\n",
    "print('AUC-ROC: ', roc_auc_score(target_valid, predicted_valid_forest))"
   ]
  },
  {
   "cell_type": "markdown",
   "metadata": {},
   "source": [
    "<i>Логистическая регрессия</i>"
   ]
  },
  {
   "cell_type": "code",
   "execution_count": 22,
   "metadata": {},
   "outputs": [
    {
     "name": "stdout",
     "output_type": "stream",
     "text": [
      "Полнота:  0.20532319391634982\n",
      "Точность:  0.5625\n",
      "F1-мера:  0.3008356545961003\n",
      "AUC-ROC:  0.5813850012134941\n"
     ]
    }
   ],
   "source": [
    "print('Полнота: ', recall_score(target_valid, predicted_valid_logic))\n",
    "print('Точность: ', precision_score(target_valid, predicted_valid_logic))\n",
    "print('F1-мера: ', f1_score(target_valid, predicted_valid_logic))\n",
    "print('AUC-ROC: ', roc_auc_score(target_valid, predicted_valid_logic))"
   ]
  },
  {
   "cell_type": "markdown",
   "metadata": {},
   "source": [
    "<i>Наилучшие метрики у модели Случайного леса.</i>"
   ]
  },
  {
   "cell_type": "markdown",
   "metadata": {},
   "source": [
    "<b>Изучение баланса классов</b>"
   ]
  },
  {
   "cell_type": "code",
   "execution_count": 23,
   "metadata": {},
   "outputs": [
    {
     "data": {
      "text/plain": [
       "0    0.799733\n",
       "1    0.200267\n",
       "Name: Exited, dtype: float64"
      ]
     },
     "execution_count": 23,
     "metadata": {},
     "output_type": "execute_result"
    }
   ],
   "source": [
    "target_train.value_counts(normalize = True)"
   ]
  },
  {
   "cell_type": "code",
   "execution_count": 24,
   "metadata": {},
   "outputs": [
    {
     "data": {
      "text/plain": [
       "0    0.7896\n",
       "1    0.2104\n",
       "Name: Exited, dtype: float64"
      ]
     },
     "execution_count": 24,
     "metadata": {},
     "output_type": "execute_result"
    }
   ],
   "source": [
    "target_valid.value_counts(normalize = True)"
   ]
  },
  {
   "cell_type": "markdown",
   "metadata": {},
   "source": [
    "<i>Наблюдается дисбаланс классов обучающей и валидационной выборок: ответ \"0\" составляет порядка 80%, ответ \"1\" - 20%.</i>"
   ]
  },
  {
   "cell_type": "markdown",
   "metadata": {},
   "source": [
    "## Борьба с дисбалансом"
   ]
  },
  {
   "cell_type": "markdown",
   "metadata": {},
   "source": [
    "### Взвешивание классов"
   ]
  },
  {
   "cell_type": "code",
   "execution_count": 25,
   "metadata": {},
   "outputs": [
    {
     "name": "stdout",
     "output_type": "stream",
     "text": [
      "Значение F1-меры для сбалансированной модели Дерево решений: 0.5057034220532319\n"
     ]
    }
   ],
   "source": [
    "model_tree_balanced = DecisionTreeClassifier(random_state=12345, class_weight='balanced')\n",
    "model_tree_balanced.fit(features_train, target_train)\n",
    "predicted_valid_tree_balanced = model_tree_balanced.predict(features_valid)\n",
    "print(\"Значение F1-меры для сбалансированной модели Дерево решений:\", f1_score(target_valid, predicted_valid_tree_balanced))"
   ]
  },
  {
   "cell_type": "code",
   "execution_count": 26,
   "metadata": {},
   "outputs": [
    {
     "name": "stdout",
     "output_type": "stream",
     "text": [
      "Значение F1-меры для сбалансированной модели Случайный лес: 0.5956416464891041\n"
     ]
    }
   ],
   "source": [
    "model_forest_balanced = RandomForestClassifier(random_state=12345, n_estimators = 100, class_weight='balanced')\n",
    "model_forest_balanced.fit(features_train, target_train)\n",
    "predicted_valid_forest_balanced = model_forest_balanced.predict(features_valid)\n",
    "print(\"Значение F1-меры для сбалансированной модели Случайный лес:\", f1_score(target_valid, predicted_valid_forest_balanced))"
   ]
  },
  {
   "cell_type": "code",
   "execution_count": 27,
   "metadata": {},
   "outputs": [
    {
     "name": "stdout",
     "output_type": "stream",
     "text": [
      "Значение F1-меры для сбалансированной модели Логистической регрессии: 0.5112582781456954\n"
     ]
    }
   ],
   "source": [
    "model_logic_balanced = LogisticRegression(random_state=12345, solver='liblinear', class_weight='balanced')\n",
    "model_logic_balanced.fit(features_train, target_train)\n",
    "predicted_valid_logic_balanced = model_logic_balanced.predict(features_valid)\n",
    "print(\"Значение F1-меры для сбалансированной модели Логистической регрессии:\", f1_score(target_valid, predicted_valid_logic_balanced))"
   ]
  },
  {
   "cell_type": "markdown",
   "metadata": {},
   "source": [
    "<i>Значение F1-меры для всех моделей увеличилось. </i>"
   ]
  },
  {
   "cell_type": "markdown",
   "metadata": {},
   "source": [
    "### Изменение размеров выборок"
   ]
  },
  {
   "cell_type": "markdown",
   "metadata": {},
   "source": [
    "<b>Разделение обучающей выборки на отрицательные и положительные объекты</b>"
   ]
  },
  {
   "cell_type": "code",
   "execution_count": 28,
   "metadata": {},
   "outputs": [],
   "source": [
    "features_zeros = features_train[target_train == 0]\n",
    "features_ones = features_train[target_train == 1]\n",
    "target_zeros = target_train[target_train == 0]\n",
    "target_ones = target_train[target_train == 1]"
   ]
  },
  {
   "cell_type": "markdown",
   "metadata": {},
   "source": [
    "<b>Увеличение выборки в 4 раза</b>"
   ]
  },
  {
   "cell_type": "code",
   "execution_count": 29,
   "metadata": {},
   "outputs": [],
   "source": [
    "repeat = 4\n",
    "features_upsampled = pd.concat([features_zeros] + [features_ones] * repeat)\n",
    "target_upsampled = pd.concat([target_zeros] + [target_ones] * repeat)"
   ]
  },
  {
   "cell_type": "markdown",
   "metadata": {},
   "source": [
    "<i>Перемешивание данных</i>"
   ]
  },
  {
   "cell_type": "code",
   "execution_count": 30,
   "metadata": {},
   "outputs": [],
   "source": [
    "features_upsampled, target_upsampled = shuffle(features_upsampled, target_upsampled, random_state=12345)"
   ]
  },
  {
   "cell_type": "code",
   "execution_count": 31,
   "metadata": {},
   "outputs": [
    {
     "name": "stdout",
     "output_type": "stream",
     "text": [
      "(12006, 11)\n",
      "(12006,)\n"
     ]
    }
   ],
   "source": [
    "print(features_upsampled.shape)\n",
    "print(target_upsampled.shape)"
   ]
  },
  {
   "cell_type": "markdown",
   "metadata": {},
   "source": [
    "<i>Обучение моделей на новых данных</i>"
   ]
  },
  {
   "cell_type": "code",
   "execution_count": 32,
   "metadata": {},
   "outputs": [],
   "source": [
    "model_tree_up = DecisionTreeClassifier(random_state=12345)\n",
    "model_tree_up.fit(features_upsampled, target_upsampled)\n",
    "predicted_valid_tree = model_tree_up.predict(features_valid)"
   ]
  },
  {
   "cell_type": "code",
   "execution_count": 33,
   "metadata": {},
   "outputs": [],
   "source": [
    "model_forest_up = RandomForestClassifier(random_state=12345, n_estimators = 100)\n",
    "model_forest_up.fit(features_upsampled, target_upsampled)\n",
    "predicted_valid_forest = model_forest_up.predict(features_valid)"
   ]
  },
  {
   "cell_type": "code",
   "execution_count": 34,
   "metadata": {},
   "outputs": [],
   "source": [
    "model_logic_up = LogisticRegression(random_state=12345, solver='liblinear')\n",
    "model_logic_up.fit(features_upsampled, target_upsampled)\n",
    "predicted_valid_logic = model_logic_up.predict(features_valid)"
   ]
  },
  {
   "cell_type": "markdown",
   "metadata": {},
   "source": [
    "<i>Изучение метрик классификации новых моделей</i>"
   ]
  },
  {
   "cell_type": "markdown",
   "metadata": {},
   "source": [
    "<b><i>Решающее дерево</i></b>"
   ]
  },
  {
   "cell_type": "code",
   "execution_count": 35,
   "metadata": {},
   "outputs": [
    {
     "name": "stdout",
     "output_type": "stream",
     "text": [
      "Полнота:  0.4752851711026616\n",
      "Точность:  0.48638132295719844\n",
      "F1-мера:  0.4807692307692307\n",
      "AUC-ROC:  0.6707732846394766\n"
     ]
    }
   ],
   "source": [
    "print('Полнота: ', recall_score(target_valid, predicted_valid_tree))\n",
    "print('Точность: ', precision_score(target_valid, predicted_valid_tree))\n",
    "print('F1-мера: ', f1_score(target_valid, predicted_valid_tree))\n",
    "print('AUC-ROC: ', roc_auc_score(target_valid, predicted_valid_tree))"
   ]
  },
  {
   "cell_type": "markdown",
   "metadata": {},
   "source": [
    "<b><i>Случайный лес</i></b>"
   ]
  },
  {
   "cell_type": "code",
   "execution_count": 36,
   "metadata": {},
   "outputs": [
    {
     "name": "stdout",
     "output_type": "stream",
     "text": [
      "Полнота:  0.5703422053231939\n",
      "Точность:  0.7142857142857143\n",
      "F1-мера:  0.6342494714587739\n",
      "AUC-ROC:  0.7547759658834815\n"
     ]
    }
   ],
   "source": [
    "print('Полнота: ', recall_score(target_valid, predicted_valid_forest))\n",
    "print('Точность: ', precision_score(target_valid, predicted_valid_forest))\n",
    "print('F1-мера: ', f1_score(target_valid, predicted_valid_forest))\n",
    "print('AUC-ROC: ', roc_auc_score(target_valid, predicted_valid_forest))"
   ]
  },
  {
   "cell_type": "markdown",
   "metadata": {},
   "source": [
    "<b><i>Логистическая регрессия</i></b>"
   ]
  },
  {
   "cell_type": "code",
   "execution_count": 37,
   "metadata": {},
   "outputs": [
    {
     "name": "stdout",
     "output_type": "stream",
     "text": [
      "Полнота:  0.7338403041825095\n",
      "Точность:  0.39148073022312374\n",
      "F1-мера:  0.5105820105820106\n",
      "AUC-ROC:  0.7149444682006774\n"
     ]
    }
   ],
   "source": [
    "print('Полнота: ', recall_score(target_valid, predicted_valid_logic))\n",
    "print('Точность: ', precision_score(target_valid, predicted_valid_logic))\n",
    "print('F1-мера: ', f1_score(target_valid, predicted_valid_logic))\n",
    "print('AUC-ROC: ', roc_auc_score(target_valid, predicted_valid_logic))"
   ]
  },
  {
   "cell_type": "markdown",
   "metadata": {},
   "source": [
    "<i>Метрики качества для всех моделей улучшились, для модели Случайного леса F1-мера стала равной порядка 0,63.</i>"
   ]
  },
  {
   "cell_type": "markdown",
   "metadata": {},
   "source": [
    "<b>Уменьшение выборки</b>"
   ]
  },
  {
   "cell_type": "markdown",
   "metadata": {},
   "source": [
    "<i>Исключение случайных элементов из отрицательных объектов</i>"
   ]
  },
  {
   "cell_type": "code",
   "execution_count": 38,
   "metadata": {},
   "outputs": [],
   "source": [
    "features_zeros = features_zeros.sample(frac=0.1, random_state=12345)\n",
    "target_zeros = target_zeros.sample(frac=0.1, random_state=12345)"
   ]
  },
  {
   "cell_type": "markdown",
   "metadata": {},
   "source": [
    "<i>Создание новой обучающей выборки</i>"
   ]
  },
  {
   "cell_type": "code",
   "execution_count": 39,
   "metadata": {},
   "outputs": [],
   "source": [
    "features_downsampled = pd.concat([features_zeros] + [features_ones])\n",
    "target_downsampled = pd.concat([target_zeros] + [target_ones])"
   ]
  },
  {
   "cell_type": "markdown",
   "metadata": {},
   "source": [
    "<i>Перемешивание данных</i>"
   ]
  },
  {
   "cell_type": "code",
   "execution_count": 40,
   "metadata": {},
   "outputs": [
    {
     "name": "stdout",
     "output_type": "stream",
     "text": [
      "(2102, 11)\n",
      "(2102,)\n"
     ]
    }
   ],
   "source": [
    "features_downsampled, target_downsampled = shuffle(\n",
    "features_downsampled, target_downsampled, random_state=12345)\n",
    "print(features_downsampled.shape)\n",
    "print(target_downsampled.shape)"
   ]
  },
  {
   "cell_type": "markdown",
   "metadata": {},
   "source": [
    "<i>Обучение моделей на новых данных</i>"
   ]
  },
  {
   "cell_type": "code",
   "execution_count": 41,
   "metadata": {},
   "outputs": [],
   "source": [
    "model_tree_down = DecisionTreeClassifier(random_state=12345)\n",
    "model_tree_down.fit(features_downsampled, target_downsampled)\n",
    "predicted_valid_tree_down = model_tree_down.predict(features_valid)"
   ]
  },
  {
   "cell_type": "code",
   "execution_count": 42,
   "metadata": {},
   "outputs": [],
   "source": [
    "model_forest_down = RandomForestClassifier(random_state=12345, n_estimators = 100)\n",
    "model_forest_down.fit(features_downsampled, target_downsampled)\n",
    "predicted_valid_forest_down = model_forest_down.predict(features_valid)"
   ]
  },
  {
   "cell_type": "code",
   "execution_count": 43,
   "metadata": {},
   "outputs": [],
   "source": [
    "model_logic_down = LogisticRegression(random_state=12345, solver='liblinear')\n",
    "model_logic_down.fit(features_downsampled, target_downsampled)\n",
    "predicted_valid_logic_down = model_logic_down.predict(features_valid)"
   ]
  },
  {
   "cell_type": "markdown",
   "metadata": {},
   "source": [
    "<i>Изучение метрик классификации новых моделей</i>"
   ]
  },
  {
   "cell_type": "markdown",
   "metadata": {},
   "source": [
    "<b><i>Решающее дерево</i></b>"
   ]
  },
  {
   "cell_type": "code",
   "execution_count": 44,
   "metadata": {},
   "outputs": [
    {
     "name": "stdout",
     "output_type": "stream",
     "text": [
      "Полнота:  0.8022813688212928\n",
      "Точность:  0.33798882681564246\n",
      "F1-мера:  0.4183583406884378\n",
      "AUC-ROC:  0.6752035010266544\n"
     ]
    }
   ],
   "source": [
    "print('Полнота: ', recall_score(target_valid, predicted_valid_tree_down))\n",
    "print('Точность: ', precision_score(target_valid, predicted_valid_forest_down))\n",
    "print('F1-мера: ', f1_score(target_valid, predicted_valid_logic_down))\n",
    "print('AUC-ROC: ', roc_auc_score(target_valid, predicted_valid_tree_down))"
   ]
  },
  {
   "cell_type": "markdown",
   "metadata": {},
   "source": [
    "<b><i>Случайный лес</i></b>"
   ]
  },
  {
   "cell_type": "code",
   "execution_count": 45,
   "metadata": {},
   "outputs": [
    {
     "name": "stdout",
     "output_type": "stream",
     "text": [
      "Полнота:  0.5703422053231939\n",
      "Точность:  0.7142857142857143\n",
      "F1-мера:  0.6342494714587739\n",
      "AUC-ROC:  0.719954465080264\n"
     ]
    }
   ],
   "source": [
    "print('Полнота: ', recall_score(target_valid, predicted_valid_forest))\n",
    "print('Точность: ', precision_score(target_valid, predicted_valid_forest))\n",
    "print('F1-мера: ', f1_score(target_valid, predicted_valid_forest))\n",
    "print('AUC-ROC: ', roc_auc_score(target_valid, predicted_valid_forest_down))"
   ]
  },
  {
   "cell_type": "markdown",
   "metadata": {},
   "source": [
    "<b><i>Логистическая регрессия</i></b>"
   ]
  },
  {
   "cell_type": "code",
   "execution_count": 46,
   "metadata": {},
   "outputs": [
    {
     "name": "stdout",
     "output_type": "stream",
     "text": [
      "Полнота:  0.7338403041825095\n",
      "Точность:  0.39148073022312374\n",
      "F1-мера:  0.5105820105820106\n",
      "AUC-ROC:  0.6299016491962046\n"
     ]
    }
   ],
   "source": [
    "print('Полнота: ', recall_score(target_valid, predicted_valid_logic))\n",
    "print('Точность: ', precision_score(target_valid, predicted_valid_logic))\n",
    "print('F1-мера: ', f1_score(target_valid, predicted_valid_logic))\n",
    "print('AUC-ROC: ', roc_auc_score(target_valid, predicted_valid_logic_down))"
   ]
  },
  {
   "cell_type": "markdown",
   "metadata": {},
   "source": [
    "<i>При уменьшении выборки качество модели Дерево решений снизилось, а качество моделей Случайного леса и Логистической регрессии увеличилось.</i>"
   ]
  },
  {
   "cell_type": "markdown",
   "metadata": {},
   "source": [
    "## Тестирование модели"
   ]
  },
  {
   "cell_type": "markdown",
   "metadata": {},
   "source": [
    "<i>Для тестирования возьмем модель Случайного леса, обученную на увеличенной выборке</i>"
   ]
  },
  {
   "cell_type": "code",
   "execution_count": 47,
   "metadata": {},
   "outputs": [],
   "source": [
    "predictions_test = model_forest_up.predict(features_test)"
   ]
  },
  {
   "cell_type": "code",
   "execution_count": 48,
   "metadata": {},
   "outputs": [
    {
     "name": "stdout",
     "output_type": "stream",
     "text": [
      "Полнота:  0.5551470588235294\n",
      "Точность:  0.668141592920354\n",
      "F1-мера:  0.6064257028112451\n",
      "AUC-ROC:  0.7392299711295561\n"
     ]
    }
   ],
   "source": [
    "print('Полнота: ', recall_score(target_test, predictions_test))\n",
    "print('Точность: ', precision_score(target_test, predictions_test))\n",
    "print('F1-мера: ', f1_score(target_test, predictions_test))\n",
    "print('AUC-ROC: ', roc_auc_score(target_test, predictions_test))"
   ]
  },
  {
   "cell_type": "markdown",
   "metadata": {},
   "source": [
    "<b>ROC-кривая модели</b>"
   ]
  },
  {
   "cell_type": "code",
   "execution_count": 49,
   "metadata": {},
   "outputs": [],
   "source": [
    "probabilities_test = model_forest_up.predict_proba(features_test)\n",
    "probabilities_one_test = probabilities_test[:, 1]"
   ]
  },
  {
   "cell_type": "code",
   "execution_count": 50,
   "metadata": {
    "scrolled": true
   },
   "outputs": [
    {
     "data": {
      "image/png": "[encoded data removed]",
      "text/plain": [
       "<Figure size 432x288 with 1 Axes>"
      ]
     },
     "metadata": {
      "needs_background": "light"
     },
     "output_type": "display_data"
    }
   ],
   "source": [
    "fpr, tpr, thresholds = roc_curve(target_test, probabilities_one_test)\n",
    "\n",
    "plt.figure()\n",
    "plt.plot(fpr, tpr)\n",
    "plt.xlim([0.0, 1.0])\n",
    "plt.ylim([0.0, 1.0])\n",
    "plt.xlabel('False Positive Rate')\n",
    "plt.ylabel('True Positive Rate')\n",
    "plt.title('ROC-кривая')\n",
    "\n",
    "plt.plot([0, 1], [0, 1], linestyle='--')\n",
    "plt.show()"
   ]
  },
  {
   "cell_type": "markdown",
   "metadata": {},
   "source": [
    "## Вывод"
   ]
  },
  {
   "cell_type": "markdown",
   "metadata": {},
   "source": [
    "Выполнена подготовка данных для корректной работы моделей: заполнены пропущенные значения, удалены ненужные данные, осуществлено прямое кодирование категориальных признаков с учетом дамми-ловушки, данные разделены на выборки, отмасштаброваны признаки.  \n",
    "Для исследования использовались модели Дерево решений, Случайный лес и Логистическая регрессия.  \n",
    "Осуществлено изучение метрик качества данных моделей на несбалансированной и сбалансированной выборках. Наилучшее значение F1-меры, равное 0,63,  достигнуто на сбалансированной выборке у модели Случайный лес. Тестирование наилучшей модели показало приемлимое значение F1-меры, равное 0,6. По графику ROC-кривой модели видно, что она расположена значительно выше линии случайной модели, что говорит о большем количестве истинноположительных ответов, нежели у случайной модели и соответственно о более высоком качестве модели Случайного леса."
   ]
  }
 ],
 "metadata": {
  "ExecuteTimeLog": [
   {
    "duration": 324,
    "start_time": "2021-06-09T07:09:51.797Z"
   },
   {
    "duration": 1355,
    "start_time": "2021-06-09T07:10:03.699Z"
   },
   {
    "duration": 39,
    "start_time": "2021-06-09T07:10:05.057Z"
   },
   {
    "duration": 28,
    "start_time": "2021-06-09T07:10:05.099Z"
   },
   {
    "duration": 29,
    "start_time": "2021-06-09T07:10:05.130Z"
   },
   {
    "duration": 8,
    "start_time": "2021-06-09T07:10:05.161Z"
   },
   {
    "duration": 312,
    "start_time": "2021-06-09T07:10:05.172Z"
   },
   {
    "duration": 339,
    "start_time": "2021-06-09T07:10:05.486Z"
   },
   {
    "duration": 5,
    "start_time": "2021-06-09T07:10:05.827Z"
   },
   {
    "duration": 53,
    "start_time": "2021-06-09T07:10:05.836Z"
   },
   {
    "duration": 3,
    "start_time": "2021-06-09T07:10:05.891Z"
   },
   {
    "duration": 43,
    "start_time": "2021-06-09T07:10:05.896Z"
   },
   {
    "duration": 4348,
    "start_time": "2021-06-09T07:10:05.942Z"
   },
   {
    "duration": 149189,
    "start_time": "2021-06-09T07:10:10.292Z"
   },
   {
    "duration": 380,
    "start_time": "2021-06-09T07:12:39.484Z"
   },
   {
    "duration": 6798,
    "start_time": "2021-06-09T07:12:39.956Z"
   },
   {
    "duration": 14,
    "start_time": "2021-06-09T07:14:59.570Z"
   },
   {
    "duration": 371,
    "start_time": "2021-06-09T09:36:18.609Z"
   },
   {
    "duration": 11,
    "start_time": "2021-06-09T09:37:20.850Z"
   },
   {
    "duration": 272,
    "start_time": "2021-06-09T09:37:43.900Z"
   },
   {
    "duration": 268,
    "start_time": "2021-06-09T09:38:50.303Z"
   },
   {
    "duration": 10,
    "start_time": "2021-06-09T09:38:58.323Z"
   },
   {
    "duration": 4,
    "start_time": "2021-06-09T09:41:42.592Z"
   },
   {
    "duration": 4497,
    "start_time": "2021-06-09T09:44:58.576Z"
   },
   {
    "duration": 10,
    "start_time": "2021-06-09T09:45:23.621Z"
   },
   {
    "duration": 283,
    "start_time": "2021-06-09T10:11:30.507Z"
   },
   {
    "duration": 947,
    "start_time": "2021-06-09T10:12:05.247Z"
   },
   {
    "duration": 283,
    "start_time": "2021-06-09T10:12:14.505Z"
   },
   {
    "duration": 33,
    "start_time": "2021-06-09T10:12:21.211Z"
   },
   {
    "duration": 6,
    "start_time": "2021-06-09T10:13:54.209Z"
   },
   {
    "duration": 259,
    "start_time": "2021-06-09T10:14:04.843Z"
   },
   {
    "duration": 261,
    "start_time": "2021-06-09T10:14:47.713Z"
   },
   {
    "duration": 4,
    "start_time": "2021-06-09T10:14:53.865Z"
   },
   {
    "duration": 36,
    "start_time": "2021-06-09T10:14:53.872Z"
   },
   {
    "duration": 21,
    "start_time": "2021-06-09T10:14:54.123Z"
   },
   {
    "duration": 19,
    "start_time": "2021-06-09T10:14:54.147Z"
   },
   {
    "duration": 7,
    "start_time": "2021-06-09T10:14:54.170Z"
   },
   {
    "duration": 381,
    "start_time": "2021-06-09T10:14:54.180Z"
   },
   {
    "duration": 22,
    "start_time": "2021-06-09T10:14:54.564Z"
   },
   {
    "duration": 358,
    "start_time": "2021-06-09T10:14:54.589Z"
   },
   {
    "duration": 8,
    "start_time": "2021-06-09T10:14:54.950Z"
   },
   {
    "duration": 32,
    "start_time": "2021-06-09T10:14:54.961Z"
   },
   {
    "duration": 4,
    "start_time": "2021-06-09T10:14:54.998Z"
   },
   {
    "duration": 74,
    "start_time": "2021-06-09T10:14:55.005Z"
   },
   {
    "duration": 4037,
    "start_time": "2021-06-09T10:14:55.082Z"
   },
   {
    "duration": 3,
    "start_time": "2021-06-09T10:14:59.121Z"
   },
   {
    "duration": 538,
    "start_time": "2021-06-09T10:14:59.126Z"
   },
   {
    "duration": 96,
    "start_time": "2021-06-09T10:14:59.668Z"
   },
   {
    "duration": 11,
    "start_time": "2021-06-09T10:14:59.772Z"
   },
   {
    "duration": 11,
    "start_time": "2021-06-09T10:14:59.786Z"
   },
   {
    "duration": 11,
    "start_time": "2021-06-09T10:14:59.800Z"
   },
   {
    "duration": 5,
    "start_time": "2021-06-09T10:15:32.115Z"
   },
   {
    "duration": 43,
    "start_time": "2021-06-09T10:15:32.123Z"
   },
   {
    "duration": 18,
    "start_time": "2021-06-09T10:15:32.169Z"
   },
   {
    "duration": 20,
    "start_time": "2021-06-09T10:15:32.190Z"
   },
   {
    "duration": 7,
    "start_time": "2021-06-09T10:15:32.213Z"
   },
   {
    "duration": 34,
    "start_time": "2021-06-09T10:15:32.222Z"
   },
   {
    "duration": 23,
    "start_time": "2021-06-09T10:15:32.258Z"
   },
   {
    "duration": 11,
    "start_time": "2021-06-09T10:15:32.283Z"
   },
   {
    "duration": 6,
    "start_time": "2021-06-09T10:15:32.298Z"
   },
   {
    "duration": 19,
    "start_time": "2021-06-09T10:15:32.306Z"
   },
   {
    "duration": 4,
    "start_time": "2021-06-09T10:15:32.355Z"
   },
   {
    "duration": 41,
    "start_time": "2021-06-09T10:15:32.363Z"
   },
   {
    "duration": 333,
    "start_time": "2021-06-09T10:15:32.407Z"
   },
   {
    "duration": 4,
    "start_time": "2021-06-09T10:15:32.742Z"
   },
   {
    "duration": 115,
    "start_time": "2021-06-09T10:15:32.748Z"
   },
   {
    "duration": 12,
    "start_time": "2021-06-09T10:15:32.866Z"
   },
   {
    "duration": 24,
    "start_time": "2021-06-09T10:15:32.955Z"
   },
   {
    "duration": 8,
    "start_time": "2021-06-09T10:15:32.982Z"
   },
   {
    "duration": 8,
    "start_time": "2021-06-09T10:15:32.992Z"
   },
   {
    "duration": 66,
    "start_time": "2021-06-09T10:17:47.195Z"
   },
   {
    "duration": 64,
    "start_time": "2021-06-09T10:19:16.159Z"
   },
   {
    "duration": 64,
    "start_time": "2021-06-09T10:20:07.090Z"
   },
   {
    "duration": 1292,
    "start_time": "2021-06-09T10:20:17.077Z"
   },
   {
    "duration": 626,
    "start_time": "2021-06-09T10:20:28.001Z"
   },
   {
    "duration": 777,
    "start_time": "2021-06-09T10:20:33.499Z"
   },
   {
    "duration": 114,
    "start_time": "2021-06-09T10:21:27.744Z"
   },
   {
    "duration": 8,
    "start_time": "2021-06-09T10:56:30.732Z"
   },
   {
    "duration": 9,
    "start_time": "2021-06-09T10:56:37.316Z"
   },
   {
    "duration": 8,
    "start_time": "2021-06-09T10:56:57.256Z"
   },
   {
    "duration": 248,
    "start_time": "2021-06-09T11:02:25.946Z"
   },
   {
    "duration": 8,
    "start_time": "2021-06-09T11:03:36.232Z"
   },
   {
    "duration": 11,
    "start_time": "2021-06-09T11:04:14.850Z"
   },
   {
    "duration": 11,
    "start_time": "2021-06-09T11:05:23.747Z"
   },
   {
    "duration": 86,
    "start_time": "2021-06-09T11:05:33.294Z"
   },
   {
    "duration": 13,
    "start_time": "2021-06-09T11:05:39.557Z"
   },
   {
    "duration": 42,
    "start_time": "2021-06-09T11:06:11.209Z"
   },
   {
    "duration": 44,
    "start_time": "2021-06-09T11:06:33.171Z"
   },
   {
    "duration": 30,
    "start_time": "2021-06-09T11:06:52.126Z"
   },
   {
    "duration": 11,
    "start_time": "2021-06-09T11:08:54.457Z"
   },
   {
    "duration": 13,
    "start_time": "2021-06-09T11:35:43.031Z"
   },
   {
    "duration": 13,
    "start_time": "2021-06-09T11:56:09.891Z"
   },
   {
    "duration": 45,
    "start_time": "2021-06-09T11:57:01.946Z"
   },
   {
    "duration": 97,
    "start_time": "2021-06-09T11:57:57.761Z"
   },
   {
    "duration": 1299,
    "start_time": "2021-06-10T07:12:57.094Z"
   },
   {
    "duration": 35,
    "start_time": "2021-06-10T07:12:58.396Z"
   },
   {
    "duration": 26,
    "start_time": "2021-06-10T07:12:58.433Z"
   },
   {
    "duration": 25,
    "start_time": "2021-06-10T07:12:58.462Z"
   },
   {
    "duration": 7,
    "start_time": "2021-06-10T07:12:58.490Z"
   },
   {
    "duration": 5,
    "start_time": "2021-06-10T07:12:58.499Z"
   },
   {
    "duration": 22,
    "start_time": "2021-06-10T07:12:58.507Z"
   },
   {
    "duration": 11,
    "start_time": "2021-06-10T07:12:58.533Z"
   },
   {
    "duration": 37,
    "start_time": "2021-06-10T07:12:58.547Z"
   },
   {
    "duration": 11,
    "start_time": "2021-06-10T07:12:58.587Z"
   },
   {
    "duration": 4,
    "start_time": "2021-06-10T07:12:58.600Z"
   },
   {
    "duration": 32,
    "start_time": "2021-06-10T07:12:58.607Z"
   },
   {
    "duration": 94,
    "start_time": "2021-06-10T07:12:58.641Z"
   },
   {
    "duration": 672,
    "start_time": "2021-06-10T07:12:58.737Z"
   },
   {
    "duration": 77,
    "start_time": "2021-06-10T07:12:59.411Z"
   },
   {
    "duration": 102,
    "start_time": "2021-06-10T07:12:59.492Z"
   },
   {
    "duration": 7,
    "start_time": "2021-06-10T07:12:59.596Z"
   },
   {
    "duration": 14,
    "start_time": "2021-06-10T07:12:59.606Z"
   },
   {
    "duration": 86,
    "start_time": "2021-06-10T07:12:59.624Z"
   },
   {
    "duration": 74,
    "start_time": "2021-06-10T07:12:59.713Z"
   },
   {
    "duration": 100,
    "start_time": "2021-06-10T07:12:59.791Z"
   },
   {
    "duration": 12,
    "start_time": "2021-06-10T07:12:59.893Z"
   },
   {
    "duration": 75,
    "start_time": "2021-06-10T07:12:59.910Z"
   },
   {
    "duration": 99,
    "start_time": "2021-06-10T07:12:59.988Z"
   },
   {
    "duration": 573,
    "start_time": "2021-06-10T07:13:00.090Z"
   },
   {
    "duration": 817,
    "start_time": "2021-06-10T07:12:59.848Z"
   },
   {
    "duration": 5,
    "start_time": "2021-06-10T07:14:13.842Z"
   },
   {
    "duration": 9,
    "start_time": "2021-06-10T07:15:40.916Z"
   },
   {
    "duration": 8,
    "start_time": "2021-06-10T07:16:08.784Z"
   },
   {
    "duration": 8,
    "start_time": "2021-06-10T07:16:32.041Z"
   },
   {
    "duration": 6,
    "start_time": "2021-06-10T07:22:06.208Z"
   },
   {
    "duration": 8,
    "start_time": "2021-06-10T07:22:46.020Z"
   },
   {
    "duration": 8,
    "start_time": "2021-06-10T07:23:14.020Z"
   },
   {
    "duration": 9,
    "start_time": "2021-06-10T07:23:53.974Z"
   },
   {
    "duration": 245,
    "start_time": "2021-06-10T07:30:23.230Z"
   },
   {
    "duration": 5,
    "start_time": "2021-06-10T07:30:39.455Z"
   },
   {
    "duration": 7,
    "start_time": "2021-06-10T07:30:51.759Z"
   },
   {
    "duration": 8,
    "start_time": "2021-06-10T07:31:14.505Z"
   },
   {
    "duration": 8,
    "start_time": "2021-06-10T07:37:37.542Z"
   },
   {
    "duration": 143,
    "start_time": "2021-06-10T07:39:09.143Z"
   },
   {
    "duration": 88,
    "start_time": "2021-06-10T07:40:17.922Z"
   },
   {
    "duration": 129,
    "start_time": "2021-06-10T07:40:31.855Z"
   },
   {
    "duration": 106,
    "start_time": "2021-06-10T07:40:43.479Z"
   },
   {
    "duration": 93,
    "start_time": "2021-06-10T07:43:25.724Z"
   },
   {
    "duration": 10,
    "start_time": "2021-06-10T07:46:27.308Z"
   },
   {
    "duration": 14,
    "start_time": "2021-06-10T07:50:12.879Z"
   },
   {
    "duration": 5,
    "start_time": "2021-06-10T07:50:51.889Z"
   },
   {
    "duration": 10,
    "start_time": "2021-06-10T07:52:18.689Z"
   },
   {
    "duration": 4,
    "start_time": "2021-06-10T07:52:48.919Z"
   },
   {
    "duration": 283,
    "start_time": "2021-06-10T07:57:53.136Z"
   },
   {
    "duration": 355,
    "start_time": "2021-06-10T07:58:00.959Z"
   },
   {
    "duration": 113,
    "start_time": "2021-06-10T07:58:05.911Z"
   },
   {
    "duration": 346,
    "start_time": "2021-06-10T07:59:08.523Z"
   },
   {
    "duration": 376,
    "start_time": "2021-06-10T07:59:38.489Z"
   },
   {
    "duration": 1658,
    "start_time": "2021-06-10T08:02:00.559Z"
   },
   {
    "duration": 33,
    "start_time": "2021-06-10T08:02:36.122Z"
   },
   {
    "duration": 14,
    "start_time": "2021-06-10T08:04:43.002Z"
   },
   {
    "duration": 14,
    "start_time": "2021-06-10T08:06:05.352Z"
   },
   {
    "duration": 12,
    "start_time": "2021-06-10T08:09:01.761Z"
   },
   {
    "duration": 5,
    "start_time": "2021-06-10T08:10:00.102Z"
   },
   {
    "duration": 35,
    "start_time": "2021-06-10T08:10:00.127Z"
   },
   {
    "duration": 17,
    "start_time": "2021-06-10T08:10:00.165Z"
   },
   {
    "duration": 23,
    "start_time": "2021-06-10T08:10:00.186Z"
   },
   {
    "duration": 9,
    "start_time": "2021-06-10T08:10:00.213Z"
   },
   {
    "duration": 8,
    "start_time": "2021-06-10T08:10:00.224Z"
   },
   {
    "duration": 29,
    "start_time": "2021-06-10T08:10:00.235Z"
   },
   {
    "duration": 14,
    "start_time": "2021-06-10T08:10:00.283Z"
   },
   {
    "duration": 7,
    "start_time": "2021-06-10T08:10:00.301Z"
   },
   {
    "duration": 18,
    "start_time": "2021-06-10T08:10:00.312Z"
   },
   {
    "duration": 21,
    "start_time": "2021-06-10T08:10:00.332Z"
   },
   {
    "duration": 58,
    "start_time": "2021-06-10T08:10:00.355Z"
   },
   {
    "duration": 83,
    "start_time": "2021-06-10T08:10:00.416Z"
   },
   {
    "duration": 699,
    "start_time": "2021-06-10T08:10:00.502Z"
   },
   {
    "duration": 84,
    "start_time": "2021-06-10T08:10:01.204Z"
   },
   {
    "duration": 93,
    "start_time": "2021-06-10T08:10:01.293Z"
   },
   {
    "duration": 28,
    "start_time": "2021-06-10T08:10:01.388Z"
   },
   {
    "duration": 16,
    "start_time": "2021-06-10T08:10:01.418Z"
   },
   {
    "duration": 63,
    "start_time": "2021-06-10T08:10:01.436Z"
   },
   {
    "duration": 86,
    "start_time": "2021-06-10T08:10:01.501Z"
   },
   {
    "duration": 97,
    "start_time": "2021-06-10T08:10:01.592Z"
   },
   {
    "duration": 21,
    "start_time": "2021-06-10T08:10:01.691Z"
   },
   {
    "duration": 70,
    "start_time": "2021-06-10T08:10:01.715Z"
   },
   {
    "duration": 97,
    "start_time": "2021-06-10T08:10:01.788Z"
   },
   {
    "duration": 105,
    "start_time": "2021-06-10T08:10:01.888Z"
   },
   {
    "duration": 13,
    "start_time": "2021-06-10T08:10:01.996Z"
   },
   {
    "duration": 16,
    "start_time": "2021-06-10T08:10:02.012Z"
   },
   {
    "duration": 8,
    "start_time": "2021-06-10T08:10:02.031Z"
   },
   {
    "duration": 9,
    "start_time": "2021-06-10T08:10:02.041Z"
   },
   {
    "duration": 7,
    "start_time": "2021-06-10T08:10:02.084Z"
   },
   {
    "duration": 98,
    "start_time": "2021-06-10T08:10:02.094Z"
   },
   {
    "duration": 189,
    "start_time": "2021-06-10T08:10:02.196Z"
   },
   {
    "duration": 11,
    "start_time": "2021-06-10T08:10:02.389Z"
   },
   {
    "duration": 15,
    "start_time": "2021-06-10T08:10:02.403Z"
   },
   {
    "duration": 11,
    "start_time": "2021-06-10T08:10:02.420Z"
   },
   {
    "duration": 103,
    "start_time": "2021-06-10T08:10:02.433Z"
   },
   {
    "duration": 977,
    "start_time": "2021-06-10T08:10:02.538Z"
   },
   {
    "duration": 66,
    "start_time": "2021-06-10T08:10:03.518Z"
   },
   {
    "duration": 195,
    "start_time": "2021-06-10T08:10:03.590Z"
   },
   {
    "duration": 14,
    "start_time": "2021-06-10T08:10:03.787Z"
   },
   {
    "duration": 13,
    "start_time": "2021-06-10T08:10:03.804Z"
   },
   {
    "duration": 13,
    "start_time": "2021-06-10T08:11:40.072Z"
   },
   {
    "duration": 15,
    "start_time": "2021-06-10T08:12:15.119Z"
   },
   {
    "duration": 84,
    "start_time": "2021-06-10T08:12:37.480Z"
   },
   {
    "duration": 13,
    "start_time": "2021-06-10T08:13:01.745Z"
   },
   {
    "duration": 291,
    "start_time": "2021-06-10T08:58:21.022Z"
   },
   {
    "duration": 7,
    "start_time": "2021-06-10T08:58:53.995Z"
   },
   {
    "duration": 7,
    "start_time": "2021-06-10T08:59:39.278Z"
   },
   {
    "duration": 1075,
    "start_time": "2021-06-10T11:43:53.466Z"
   },
   {
    "duration": 31,
    "start_time": "2021-06-10T11:43:54.542Z"
   },
   {
    "duration": 20,
    "start_time": "2021-06-10T11:43:54.576Z"
   },
   {
    "duration": 8,
    "start_time": "2021-06-10T11:43:54.598Z"
   },
   {
    "duration": 6,
    "start_time": "2021-06-10T11:43:54.608Z"
   },
   {
    "duration": 4,
    "start_time": "2021-06-10T11:43:54.615Z"
   },
   {
    "duration": 15,
    "start_time": "2021-06-10T11:43:54.621Z"
   },
   {
    "duration": 9,
    "start_time": "2021-06-10T11:43:54.637Z"
   },
   {
    "duration": 3,
    "start_time": "2021-06-10T11:43:54.649Z"
   },
   {
    "duration": 36,
    "start_time": "2021-06-10T11:43:54.654Z"
   },
   {
    "duration": 4,
    "start_time": "2021-06-10T11:43:54.692Z"
   },
   {
    "duration": 24,
    "start_time": "2021-06-10T11:43:54.698Z"
   },
   {
    "duration": 69,
    "start_time": "2021-06-10T11:43:54.723Z"
   },
   {
    "duration": 487,
    "start_time": "2021-06-10T11:43:54.793Z"
   },
   {
    "duration": 21,
    "start_time": "2021-06-10T11:43:55.281Z"
   },
   {
    "duration": 100,
    "start_time": "2021-06-10T11:43:55.386Z"
   },
   {
    "duration": 6,
    "start_time": "2021-06-10T11:43:55.488Z"
   },
   {
    "duration": 9,
    "start_time": "2021-06-10T11:43:55.496Z"
   },
   {
    "duration": 30,
    "start_time": "2021-06-10T11:43:55.507Z"
   },
   {
    "duration": 52,
    "start_time": "2021-06-10T11:43:55.539Z"
   },
   {
    "duration": 93,
    "start_time": "2021-06-10T11:43:55.593Z"
   },
   {
    "duration": 11,
    "start_time": "2021-06-10T11:43:55.688Z"
   },
   {
    "duration": 86,
    "start_time": "2021-06-10T11:43:55.700Z"
   },
   {
    "duration": 16,
    "start_time": "2021-06-10T11:43:55.788Z"
   },
   {
    "duration": 7,
    "start_time": "2021-06-10T11:43:55.886Z"
   },
   {
    "duration": 6,
    "start_time": "2021-06-10T11:43:55.985Z"
   },
   {
    "duration": 5,
    "start_time": "2021-06-10T11:43:55.994Z"
   },
   {
    "duration": 5,
    "start_time": "2021-06-10T11:43:56.001Z"
   },
   {
    "duration": 12,
    "start_time": "2021-06-10T11:43:56.007Z"
   },
   {
    "duration": 5,
    "start_time": "2021-06-10T11:43:56.021Z"
   },
   {
    "duration": 87,
    "start_time": "2021-06-10T11:43:56.028Z"
   },
   {
    "duration": 168,
    "start_time": "2021-06-10T11:43:56.117Z"
   },
   {
    "duration": 8,
    "start_time": "2021-06-10T11:43:56.287Z"
   },
   {
    "duration": 8,
    "start_time": "2021-06-10T11:43:56.296Z"
   },
   {
    "duration": 3,
    "start_time": "2021-06-10T11:43:56.306Z"
   },
   {
    "duration": 81,
    "start_time": "2021-06-10T11:43:56.311Z"
   },
   {
    "duration": 668,
    "start_time": "2021-06-10T11:43:56.394Z"
   },
   {
    "duration": 37,
    "start_time": "2021-06-10T11:43:57.064Z"
   },
   {
    "duration": 82,
    "start_time": "2021-06-10T11:43:57.104Z"
   },
   {
    "duration": 103,
    "start_time": "2021-06-10T11:43:57.189Z"
   },
   {
    "duration": 9,
    "start_time": "2021-06-10T11:43:57.294Z"
   },
   {
    "duration": 4,
    "start_time": "2021-06-10T11:43:57.305Z"
   },
   {
    "duration": 6,
    "start_time": "2021-06-10T11:43:57.311Z"
   },
   {
    "duration": 6,
    "start_time": "2021-06-10T11:45:15.071Z"
   },
   {
    "duration": 6,
    "start_time": "2021-06-10T11:45:50.047Z"
   },
   {
    "duration": 58,
    "start_time": "2021-06-10T11:46:58.942Z"
   },
   {
    "duration": 15,
    "start_time": "2021-06-10T11:48:33.509Z"
   },
   {
    "duration": 168,
    "start_time": "2021-06-10T11:49:05.507Z"
   },
   {
    "duration": 13,
    "start_time": "2021-06-10T11:49:33.572Z"
   },
   {
    "duration": 10,
    "start_time": "2021-06-10T11:51:01.407Z"
   },
   {
    "duration": 10,
    "start_time": "2021-06-10T11:51:38.757Z"
   },
   {
    "duration": 10,
    "start_time": "2021-06-10T11:52:10.055Z"
   },
   {
    "duration": 3,
    "start_time": "2021-06-10T11:54:19.477Z"
   },
   {
    "duration": 29,
    "start_time": "2021-06-10T11:54:19.486Z"
   },
   {
    "duration": 11,
    "start_time": "2021-06-10T11:54:19.517Z"
   },
   {
    "duration": 9,
    "start_time": "2021-06-10T11:54:19.531Z"
   },
   {
    "duration": 7,
    "start_time": "2021-06-10T11:54:19.542Z"
   },
   {
    "duration": 4,
    "start_time": "2021-06-10T11:54:19.550Z"
   },
   {
    "duration": 38,
    "start_time": "2021-06-10T11:54:19.556Z"
   },
   {
    "duration": 9,
    "start_time": "2021-06-10T11:54:19.596Z"
   },
   {
    "duration": 4,
    "start_time": "2021-06-10T11:54:19.606Z"
   },
   {
    "duration": 7,
    "start_time": "2021-06-10T11:54:19.612Z"
   },
   {
    "duration": 4,
    "start_time": "2021-06-10T11:54:19.621Z"
   },
   {
    "duration": 24,
    "start_time": "2021-06-10T11:54:19.627Z"
   },
   {
    "duration": 48,
    "start_time": "2021-06-10T11:54:19.685Z"
   },
   {
    "duration": 512,
    "start_time": "2021-06-10T11:54:19.734Z"
   },
   {
    "duration": 44,
    "start_time": "2021-06-10T11:54:20.248Z"
   },
   {
    "duration": 93,
    "start_time": "2021-06-10T11:54:20.294Z"
   },
   {
    "duration": 10,
    "start_time": "2021-06-10T11:54:20.389Z"
   },
   {
    "duration": 9,
    "start_time": "2021-06-10T11:54:20.400Z"
   },
   {
    "duration": 29,
    "start_time": "2021-06-10T11:54:20.410Z"
   },
   {
    "duration": 52,
    "start_time": "2021-06-10T11:54:20.441Z"
   },
   {
    "duration": 97,
    "start_time": "2021-06-10T11:54:20.495Z"
   },
   {
    "duration": 92,
    "start_time": "2021-06-10T11:54:20.595Z"
   },
   {
    "duration": 30,
    "start_time": "2021-06-10T11:54:20.688Z"
   },
   {
    "duration": 69,
    "start_time": "2021-06-10T11:54:20.720Z"
   },
   {
    "duration": 95,
    "start_time": "2021-06-10T11:54:20.792Z"
   },
   {
    "duration": 5,
    "start_time": "2021-06-10T11:54:20.889Z"
   },
   {
    "duration": 7,
    "start_time": "2021-06-10T11:54:20.896Z"
   },
   {
    "duration": 6,
    "start_time": "2021-06-10T11:54:20.906Z"
   },
   {
    "duration": 5,
    "start_time": "2021-06-10T11:54:20.914Z"
   },
   {
    "duration": 5,
    "start_time": "2021-06-10T11:54:20.921Z"
   },
   {
    "duration": 157,
    "start_time": "2021-06-10T11:54:20.927Z"
   },
   {
    "duration": 98,
    "start_time": "2021-06-10T11:54:21.087Z"
   },
   {
    "duration": 8,
    "start_time": "2021-06-10T11:54:21.187Z"
   },
   {
    "duration": 7,
    "start_time": "2021-06-10T11:54:21.197Z"
   },
   {
    "duration": 7,
    "start_time": "2021-06-10T11:54:21.205Z"
   },
   {
    "duration": 75,
    "start_time": "2021-06-10T11:54:21.213Z"
   },
   {
    "duration": 677,
    "start_time": "2021-06-10T11:54:21.290Z"
   },
   {
    "duration": 33,
    "start_time": "2021-06-10T11:54:21.968Z"
   },
   {
    "duration": 181,
    "start_time": "2021-06-10T11:54:22.004Z"
   },
   {
    "duration": 11,
    "start_time": "2021-06-10T11:54:22.187Z"
   },
   {
    "duration": 9,
    "start_time": "2021-06-10T11:54:22.199Z"
   },
   {
    "duration": 5,
    "start_time": "2021-06-10T11:54:22.209Z"
   },
   {
    "duration": 7,
    "start_time": "2021-06-10T11:54:22.215Z"
   },
   {
    "duration": 6,
    "start_time": "2021-06-10T11:54:22.224Z"
   },
   {
    "duration": 52,
    "start_time": "2021-06-10T11:54:22.232Z"
   },
   {
    "duration": 169,
    "start_time": "2021-06-10T11:54:22.286Z"
   },
   {
    "duration": 29,
    "start_time": "2021-06-10T11:54:22.456Z"
   },
   {
    "duration": 110,
    "start_time": "2021-06-10T11:54:22.487Z"
   },
   {
    "duration": 10,
    "start_time": "2021-06-10T11:54:22.599Z"
   },
   {
    "duration": 9,
    "start_time": "2021-06-10T11:54:22.610Z"
   },
   {
    "duration": 6,
    "start_time": "2021-06-10T11:55:20.197Z"
   },
   {
    "duration": 10,
    "start_time": "2021-06-10T11:56:50.142Z"
   },
   {
    "duration": 7,
    "start_time": "2021-06-10T11:56:50.153Z"
   },
   {
    "duration": 3,
    "start_time": "2021-06-10T11:56:50.162Z"
   },
   {
    "duration": 50,
    "start_time": "2021-06-10T11:56:50.166Z"
   },
   {
    "duration": 528,
    "start_time": "2021-06-10T11:56:50.218Z"
   },
   {
    "duration": 37,
    "start_time": "2021-06-10T11:56:50.748Z"
   },
   {
    "duration": 111,
    "start_time": "2021-06-10T11:56:50.789Z"
   },
   {
    "duration": 88,
    "start_time": "2021-06-10T11:56:50.902Z"
   },
   {
    "duration": 10,
    "start_time": "2021-06-10T11:56:50.992Z"
   },
   {
    "duration": 5,
    "start_time": "2021-06-10T11:56:51.004Z"
   },
   {
    "duration": 7,
    "start_time": "2021-06-10T11:56:51.010Z"
   },
   {
    "duration": 8,
    "start_time": "2021-06-10T11:56:51.019Z"
   },
   {
    "duration": 11,
    "start_time": "2021-06-10T11:56:51.029Z"
   },
   {
    "duration": 160,
    "start_time": "2021-06-10T11:56:51.042Z"
   },
   {
    "duration": 8,
    "start_time": "2021-06-10T11:56:51.203Z"
   },
   {
    "duration": 172,
    "start_time": "2021-06-10T11:56:51.215Z"
   },
   {
    "duration": 10,
    "start_time": "2021-06-10T11:56:51.389Z"
   },
   {
    "duration": 9,
    "start_time": "2021-06-10T11:56:51.401Z"
   },
   {
    "duration": 8,
    "start_time": "2021-06-10T11:57:11.168Z"
   },
   {
    "duration": 6,
    "start_time": "2021-06-10T11:57:11.178Z"
   },
   {
    "duration": 3,
    "start_time": "2021-06-10T11:57:11.187Z"
   },
   {
    "duration": 14,
    "start_time": "2021-06-10T11:57:11.193Z"
   },
   {
    "duration": 175,
    "start_time": "2021-06-10T11:57:11.209Z"
   },
   {
    "duration": 19,
    "start_time": "2021-06-10T11:57:11.386Z"
   },
   {
    "duration": 101,
    "start_time": "2021-06-10T11:57:11.486Z"
   },
   {
    "duration": 11,
    "start_time": "2021-06-10T11:57:11.589Z"
   },
   {
    "duration": 10,
    "start_time": "2021-06-10T11:57:11.602Z"
   },
   {
    "duration": 6,
    "start_time": "2021-06-10T11:57:11.614Z"
   },
   {
    "duration": 7,
    "start_time": "2021-06-10T11:57:11.621Z"
   },
   {
    "duration": 6,
    "start_time": "2021-06-10T11:57:11.630Z"
   },
   {
    "duration": 54,
    "start_time": "2021-06-10T11:57:11.638Z"
   },
   {
    "duration": 104,
    "start_time": "2021-06-10T11:57:11.695Z"
   },
   {
    "duration": 84,
    "start_time": "2021-06-10T11:57:11.801Z"
   },
   {
    "duration": 98,
    "start_time": "2021-06-10T11:57:11.888Z"
   },
   {
    "duration": 9,
    "start_time": "2021-06-10T11:57:11.988Z"
   },
   {
    "duration": 10,
    "start_time": "2021-06-10T11:57:11.999Z"
   },
   {
    "duration": 8,
    "start_time": "2021-06-10T11:57:28.535Z"
   },
   {
    "duration": 6,
    "start_time": "2021-06-10T11:57:28.545Z"
   },
   {
    "duration": 3,
    "start_time": "2021-06-10T11:57:28.553Z"
   },
   {
    "duration": 20,
    "start_time": "2021-06-10T11:57:28.557Z"
   },
   {
    "duration": 175,
    "start_time": "2021-06-10T11:57:28.578Z"
   },
   {
    "duration": 31,
    "start_time": "2021-06-10T11:57:28.754Z"
   },
   {
    "duration": 98,
    "start_time": "2021-06-10T11:57:28.789Z"
   },
   {
    "duration": 98,
    "start_time": "2021-06-10T11:57:28.890Z"
   },
   {
    "duration": 10,
    "start_time": "2021-06-10T11:57:28.989Z"
   },
   {
    "duration": 5,
    "start_time": "2021-06-10T11:57:29.000Z"
   },
   {
    "duration": 8,
    "start_time": "2021-06-10T11:57:29.007Z"
   },
   {
    "duration": 11,
    "start_time": "2021-06-10T11:57:29.017Z"
   },
   {
    "duration": 6,
    "start_time": "2021-06-10T11:57:29.029Z"
   },
   {
    "duration": 99,
    "start_time": "2021-06-10T11:57:29.037Z"
   },
   {
    "duration": 263,
    "start_time": "2021-06-10T11:57:29.138Z"
   },
   {
    "duration": 675,
    "start_time": "2021-06-10T11:57:28.728Z"
   },
   {
    "duration": 661,
    "start_time": "2021-06-10T11:57:28.743Z"
   },
   {
    "duration": 654,
    "start_time": "2021-06-10T11:57:28.751Z"
   },
   {
    "duration": 9,
    "start_time": "2021-06-10T11:57:49.492Z"
   },
   {
    "duration": 6,
    "start_time": "2021-06-10T11:57:49.504Z"
   },
   {
    "duration": 4,
    "start_time": "2021-06-10T11:57:49.513Z"
   },
   {
    "duration": 13,
    "start_time": "2021-06-10T11:57:49.519Z"
   },
   {
    "duration": 118,
    "start_time": "2021-06-10T11:57:49.534Z"
   },
   {
    "duration": 177,
    "start_time": "2021-06-10T11:57:49.653Z"
   },
   {
    "duration": 715,
    "start_time": "2021-06-10T11:57:49.119Z"
   },
   {
    "duration": 710,
    "start_time": "2021-06-10T11:57:49.125Z"
   },
   {
    "duration": 706,
    "start_time": "2021-06-10T11:57:49.131Z"
   },
   {
    "duration": 702,
    "start_time": "2021-06-10T11:57:49.136Z"
   },
   {
    "duration": 690,
    "start_time": "2021-06-10T11:57:49.150Z"
   },
   {
    "duration": 685,
    "start_time": "2021-06-10T11:57:49.156Z"
   },
   {
    "duration": 680,
    "start_time": "2021-06-10T11:57:49.162Z"
   },
   {
    "duration": 670,
    "start_time": "2021-06-10T11:57:49.174Z"
   },
   {
    "duration": 666,
    "start_time": "2021-06-10T11:57:49.179Z"
   },
   {
    "duration": 662,
    "start_time": "2021-06-10T11:57:49.185Z"
   },
   {
    "duration": 658,
    "start_time": "2021-06-10T11:57:49.190Z"
   },
   {
    "duration": 655,
    "start_time": "2021-06-10T11:57:49.195Z"
   },
   {
    "duration": 4,
    "start_time": "2021-06-10T11:58:21.617Z"
   },
   {
    "duration": 38,
    "start_time": "2021-06-10T11:58:21.622Z"
   },
   {
    "duration": 13,
    "start_time": "2021-06-10T11:58:21.662Z"
   },
   {
    "duration": 10,
    "start_time": "2021-06-10T11:58:21.677Z"
   },
   {
    "duration": 6,
    "start_time": "2021-06-10T11:58:21.688Z"
   },
   {
    "duration": 4,
    "start_time": "2021-06-10T11:58:21.695Z"
   },
   {
    "duration": 20,
    "start_time": "2021-06-10T11:58:21.701Z"
   },
   {
    "duration": 10,
    "start_time": "2021-06-10T11:58:21.787Z"
   },
   {
    "duration": 3,
    "start_time": "2021-06-10T11:58:21.799Z"
   },
   {
    "duration": 8,
    "start_time": "2021-06-10T11:58:21.804Z"
   },
   {
    "duration": 7,
    "start_time": "2021-06-10T11:58:21.814Z"
   },
   {
    "duration": 25,
    "start_time": "2021-06-10T11:58:21.823Z"
   },
   {
    "duration": 75,
    "start_time": "2021-06-10T11:58:21.850Z"
   },
   {
    "duration": 512,
    "start_time": "2021-06-10T11:58:21.927Z"
   },
   {
    "duration": 46,
    "start_time": "2021-06-10T11:58:22.441Z"
   },
   {
    "duration": 97,
    "start_time": "2021-06-10T11:58:22.491Z"
   },
   {
    "duration": 7,
    "start_time": "2021-06-10T11:58:22.591Z"
   },
   {
    "duration": 11,
    "start_time": "2021-06-10T11:58:22.600Z"
   },
   {
    "duration": 31,
    "start_time": "2021-06-10T11:58:22.612Z"
   },
   {
    "duration": 140,
    "start_time": "2021-06-10T11:58:22.644Z"
   },
   {
    "duration": 8,
    "start_time": "2021-06-10T11:58:22.786Z"
   },
   {
    "duration": 8,
    "start_time": "2021-06-10T11:58:22.796Z"
   },
   {
    "duration": 95,
    "start_time": "2021-06-10T11:58:22.805Z"
   },
   {
    "duration": 184,
    "start_time": "2021-06-10T11:58:22.901Z"
   },
   {
    "duration": 5,
    "start_time": "2021-06-10T11:58:23.087Z"
   },
   {
    "duration": 5,
    "start_time": "2021-06-10T11:58:23.093Z"
   },
   {
    "duration": 5,
    "start_time": "2021-06-10T11:58:23.100Z"
   },
   {
    "duration": 7,
    "start_time": "2021-06-10T11:58:23.107Z"
   },
   {
    "duration": 9,
    "start_time": "2021-06-10T11:58:23.116Z"
   },
   {
    "duration": 5,
    "start_time": "2021-06-10T11:58:23.126Z"
   },
   {
    "duration": 154,
    "start_time": "2021-06-10T11:58:23.132Z"
   },
   {
    "duration": 97,
    "start_time": "2021-06-10T11:58:23.290Z"
   },
   {
    "duration": 9,
    "start_time": "2021-06-10T11:58:23.389Z"
   },
   {
    "duration": 6,
    "start_time": "2021-06-10T11:58:23.401Z"
   },
   {
    "duration": 4,
    "start_time": "2021-06-10T11:58:23.409Z"
   },
   {
    "duration": 83,
    "start_time": "2021-06-10T11:58:23.415Z"
   },
   {
    "duration": 736,
    "start_time": "2021-06-10T11:58:23.500Z"
   },
   {
    "duration": 47,
    "start_time": "2021-06-10T11:58:24.238Z"
   },
   {
    "duration": 104,
    "start_time": "2021-06-10T11:58:24.288Z"
   },
   {
    "duration": 96,
    "start_time": "2021-06-10T11:58:24.395Z"
   },
   {
    "duration": 16,
    "start_time": "2021-06-10T11:58:24.493Z"
   },
   {
    "duration": 5,
    "start_time": "2021-06-10T11:58:24.511Z"
   },
   {
    "duration": 13,
    "start_time": "2021-06-10T11:58:24.517Z"
   },
   {
    "duration": 11,
    "start_time": "2021-06-10T11:58:24.532Z"
   },
   {
    "duration": 17,
    "start_time": "2021-06-10T11:58:24.544Z"
   },
   {
    "duration": 191,
    "start_time": "2021-06-10T11:58:24.562Z"
   },
   {
    "duration": 7,
    "start_time": "2021-06-10T11:58:24.755Z"
   },
   {
    "duration": 103,
    "start_time": "2021-06-10T11:58:24.787Z"
   },
   {
    "duration": 9,
    "start_time": "2021-06-10T11:58:24.891Z"
   },
   {
    "duration": 12,
    "start_time": "2021-06-10T11:58:24.902Z"
   },
   {
    "duration": 4,
    "start_time": "2021-06-10T11:58:42.626Z"
   },
   {
    "duration": 28,
    "start_time": "2021-06-10T11:58:42.634Z"
   },
   {
    "duration": 12,
    "start_time": "2021-06-10T11:58:42.664Z"
   },
   {
    "duration": 13,
    "start_time": "2021-06-10T11:58:42.677Z"
   },
   {
    "duration": 5,
    "start_time": "2021-06-10T11:58:42.692Z"
   },
   {
    "duration": 4,
    "start_time": "2021-06-10T11:58:42.699Z"
   },
   {
    "duration": 14,
    "start_time": "2021-06-10T11:58:42.704Z"
   },
   {
    "duration": 7,
    "start_time": "2021-06-10T11:58:42.720Z"
   },
   {
    "duration": 6,
    "start_time": "2021-06-10T11:58:42.728Z"
   },
   {
    "duration": 8,
    "start_time": "2021-06-10T11:58:42.736Z"
   },
   {
    "duration": 5,
    "start_time": "2021-06-10T11:58:42.746Z"
   },
   {
    "duration": 23,
    "start_time": "2021-06-10T11:58:42.784Z"
   },
   {
    "duration": 46,
    "start_time": "2021-06-10T11:58:42.809Z"
   },
   {
    "duration": 480,
    "start_time": "2021-06-10T11:58:42.885Z"
   },
   {
    "duration": 24,
    "start_time": "2021-06-10T11:58:43.367Z"
   },
   {
    "duration": 94,
    "start_time": "2021-06-10T11:58:43.393Z"
   },
   {
    "duration": 102,
    "start_time": "2021-06-10T11:58:43.489Z"
   },
   {
    "duration": 9,
    "start_time": "2021-06-10T11:58:43.593Z"
   },
   {
    "duration": 30,
    "start_time": "2021-06-10T11:58:43.603Z"
   },
   {
    "duration": 58,
    "start_time": "2021-06-10T11:58:43.634Z"
   },
   {
    "duration": 97,
    "start_time": "2021-06-10T11:58:43.693Z"
   },
   {
    "duration": 9,
    "start_time": "2021-06-10T11:58:43.792Z"
   },
   {
    "duration": 84,
    "start_time": "2021-06-10T11:58:43.802Z"
   },
   {
    "duration": 98,
    "start_time": "2021-06-10T11:58:43.887Z"
   },
   {
    "duration": 9,
    "start_time": "2021-06-10T11:58:43.988Z"
   },
   {
    "duration": 5,
    "start_time": "2021-06-10T11:58:44.086Z"
   },
   {
    "duration": 6,
    "start_time": "2021-06-10T11:58:44.093Z"
   },
   {
    "duration": 5,
    "start_time": "2021-06-10T11:58:44.103Z"
   },
   {
    "duration": 7,
    "start_time": "2021-06-10T11:58:44.110Z"
   },
   {
    "duration": 6,
    "start_time": "2021-06-10T11:58:44.119Z"
   },
   {
    "duration": 157,
    "start_time": "2021-06-10T11:58:44.127Z"
   },
   {
    "duration": 99,
    "start_time": "2021-06-10T11:58:44.286Z"
   },
   {
    "duration": 6,
    "start_time": "2021-06-10T11:58:44.387Z"
   },
   {
    "duration": 8,
    "start_time": "2021-06-10T11:58:44.395Z"
   },
   {
    "duration": 3,
    "start_time": "2021-06-10T11:58:44.405Z"
   },
   {
    "duration": 54,
    "start_time": "2021-06-10T11:58:44.409Z"
   },
   {
    "duration": 628,
    "start_time": "2021-06-10T11:58:44.465Z"
   },
   {
    "duration": 14,
    "start_time": "2021-06-10T11:58:45.095Z"
   },
   {
    "duration": 174,
    "start_time": "2021-06-10T11:58:45.112Z"
   },
   {
    "duration": 10,
    "start_time": "2021-06-10T11:58:45.287Z"
   },
   {
    "duration": 10,
    "start_time": "2021-06-10T11:58:45.298Z"
   },
   {
    "duration": 5,
    "start_time": "2021-06-10T11:58:45.309Z"
   },
   {
    "duration": 8,
    "start_time": "2021-06-10T11:58:45.315Z"
   },
   {
    "duration": 11,
    "start_time": "2021-06-10T11:58:45.325Z"
   },
   {
    "duration": 48,
    "start_time": "2021-06-10T11:58:45.338Z"
   },
   {
    "duration": 171,
    "start_time": "2021-06-10T11:58:45.388Z"
   },
   {
    "duration": 25,
    "start_time": "2021-06-10T11:58:45.560Z"
   },
   {
    "duration": 110,
    "start_time": "2021-06-10T11:58:45.587Z"
   },
   {
    "duration": 100,
    "start_time": "2021-06-10T11:58:45.699Z"
   },
   {
    "duration": 8,
    "start_time": "2021-06-10T11:58:45.801Z"
   },
   {
    "duration": 3,
    "start_time": "2021-06-10T11:59:02.827Z"
   },
   {
    "duration": 31,
    "start_time": "2021-06-10T11:59:02.834Z"
   },
   {
    "duration": 12,
    "start_time": "2021-06-10T11:59:02.867Z"
   },
   {
    "duration": 22,
    "start_time": "2021-06-10T11:59:02.881Z"
   },
   {
    "duration": 11,
    "start_time": "2021-06-10T11:59:02.904Z"
   },
   {
    "duration": 13,
    "start_time": "2021-06-10T11:59:02.917Z"
   },
   {
    "duration": 31,
    "start_time": "2021-06-10T11:59:02.932Z"
   },
   {
    "duration": 8,
    "start_time": "2021-06-10T11:59:02.965Z"
   },
   {
    "duration": 24,
    "start_time": "2021-06-10T11:59:02.975Z"
   },
   {
    "duration": 20,
    "start_time": "2021-06-10T11:59:03.001Z"
   },
   {
    "duration": 15,
    "start_time": "2021-06-10T11:59:03.023Z"
   },
   {
    "duration": 42,
    "start_time": "2021-06-10T11:59:03.040Z"
   },
   {
    "duration": 48,
    "start_time": "2021-06-10T11:59:03.084Z"
   },
   {
    "duration": 498,
    "start_time": "2021-06-10T11:59:03.133Z"
   },
   {
    "duration": 55,
    "start_time": "2021-06-10T11:59:03.632Z"
   },
   {
    "duration": 98,
    "start_time": "2021-06-10T11:59:03.690Z"
   },
   {
    "duration": 18,
    "start_time": "2021-06-10T11:59:03.791Z"
   },
   {
    "duration": 11,
    "start_time": "2021-06-10T11:59:03.811Z"
   },
   {
    "duration": 30,
    "start_time": "2021-06-10T11:59:03.824Z"
   },
   {
    "duration": 38,
    "start_time": "2021-06-10T11:59:03.856Z"
   },
   {
    "duration": 96,
    "start_time": "2021-06-10T11:59:03.896Z"
   },
   {
    "duration": 8,
    "start_time": "2021-06-10T11:59:03.994Z"
   },
   {
    "duration": 42,
    "start_time": "2021-06-10T11:59:04.004Z"
   },
   {
    "duration": 11,
    "start_time": "2021-06-10T11:59:04.085Z"
   },
   {
    "duration": 92,
    "start_time": "2021-06-10T11:59:04.099Z"
   },
   {
    "duration": 97,
    "start_time": "2021-06-10T11:59:04.193Z"
   },
   {
    "duration": 8,
    "start_time": "2021-06-10T11:59:04.292Z"
   },
   {
    "duration": 6,
    "start_time": "2021-06-10T11:59:04.302Z"
   },
   {
    "duration": 9,
    "start_time": "2021-06-10T11:59:04.310Z"
   },
   {
    "duration": 6,
    "start_time": "2021-06-10T11:59:04.320Z"
   },
   {
    "duration": 82,
    "start_time": "2021-06-10T11:59:04.328Z"
   },
   {
    "duration": 83,
    "start_time": "2021-06-10T11:59:04.412Z"
   },
   {
    "duration": 7,
    "start_time": "2021-06-10T11:59:04.586Z"
   },
   {
    "duration": 10,
    "start_time": "2021-06-10T11:59:04.594Z"
   },
   {
    "duration": 5,
    "start_time": "2021-06-10T11:59:04.606Z"
   },
   {
    "duration": 72,
    "start_time": "2021-06-10T11:59:04.613Z"
   },
   {
    "duration": 682,
    "start_time": "2021-06-10T11:59:04.687Z"
   },
   {
    "duration": 37,
    "start_time": "2021-06-10T11:59:05.371Z"
   },
   {
    "duration": 175,
    "start_time": "2021-06-10T11:59:05.410Z"
   },
   {
    "duration": 9,
    "start_time": "2021-06-10T11:59:05.588Z"
   },
   {
    "duration": 9,
    "start_time": "2021-06-10T11:59:05.599Z"
   },
   {
    "duration": 5,
    "start_time": "2021-06-10T11:59:05.609Z"
   },
   {
    "duration": 7,
    "start_time": "2021-06-10T11:59:05.615Z"
   },
   {
    "duration": 9,
    "start_time": "2021-06-10T11:59:05.624Z"
   },
   {
    "duration": 14,
    "start_time": "2021-06-10T11:59:05.634Z"
   },
   {
    "duration": 207,
    "start_time": "2021-06-10T11:59:05.650Z"
   },
   {
    "duration": 26,
    "start_time": "2021-06-10T11:59:05.859Z"
   },
   {
    "duration": 97,
    "start_time": "2021-06-10T11:59:05.888Z"
   },
   {
    "duration": 12,
    "start_time": "2021-06-10T11:59:05.988Z"
   },
   {
    "duration": 88,
    "start_time": "2021-06-10T11:59:06.002Z"
   },
   {
    "duration": 4,
    "start_time": "2021-06-10T11:59:22.144Z"
   },
   {
    "duration": 36,
    "start_time": "2021-06-10T11:59:22.150Z"
   },
   {
    "duration": 12,
    "start_time": "2021-06-10T11:59:22.189Z"
   },
   {
    "duration": 9,
    "start_time": "2021-06-10T11:59:22.203Z"
   },
   {
    "duration": 5,
    "start_time": "2021-06-10T11:59:22.213Z"
   },
   {
    "duration": 5,
    "start_time": "2021-06-10T11:59:22.220Z"
   },
   {
    "duration": 15,
    "start_time": "2021-06-10T11:59:22.227Z"
   },
   {
    "duration": 45,
    "start_time": "2021-06-10T11:59:22.244Z"
   },
   {
    "duration": 4,
    "start_time": "2021-06-10T11:59:22.292Z"
   },
   {
    "duration": 10,
    "start_time": "2021-06-10T11:59:22.298Z"
   },
   {
    "duration": 5,
    "start_time": "2021-06-10T11:59:22.310Z"
   },
   {
    "duration": 24,
    "start_time": "2021-06-10T11:59:22.316Z"
   },
   {
    "duration": 72,
    "start_time": "2021-06-10T11:59:22.342Z"
   },
   {
    "duration": 485,
    "start_time": "2021-06-10T11:59:22.415Z"
   },
   {
    "duration": 84,
    "start_time": "2021-06-10T11:59:22.902Z"
   },
   {
    "duration": 98,
    "start_time": "2021-06-10T11:59:22.988Z"
   },
   {
    "duration": 6,
    "start_time": "2021-06-10T11:59:23.088Z"
   },
   {
    "duration": 9,
    "start_time": "2021-06-10T11:59:23.095Z"
   },
   {
    "duration": 30,
    "start_time": "2021-06-10T11:59:23.106Z"
   },
   {
    "duration": 147,
    "start_time": "2021-06-10T11:59:23.138Z"
   },
   {
    "duration": 8,
    "start_time": "2021-06-10T11:59:23.287Z"
   },
   {
    "duration": 8,
    "start_time": "2021-06-10T11:59:23.297Z"
   },
   {
    "duration": 29,
    "start_time": "2021-06-10T11:59:23.306Z"
   },
   {
    "duration": 59,
    "start_time": "2021-06-10T11:59:23.337Z"
   },
   {
    "duration": 90,
    "start_time": "2021-06-10T11:59:23.398Z"
   },
   {
    "duration": 5,
    "start_time": "2021-06-10T11:59:23.490Z"
   },
   {
    "duration": 6,
    "start_time": "2021-06-10T11:59:23.500Z"
   },
   {
    "duration": 6,
    "start_time": "2021-06-10T11:59:23.509Z"
   },
   {
    "duration": 6,
    "start_time": "2021-06-10T11:59:23.517Z"
   },
   {
    "duration": 7,
    "start_time": "2021-06-10T11:59:23.525Z"
   },
   {
    "duration": 104,
    "start_time": "2021-06-10T11:59:23.585Z"
   },
   {
    "duration": 99,
    "start_time": "2021-06-10T11:59:23.691Z"
   },
   {
    "duration": 9,
    "start_time": "2021-06-10T11:59:23.792Z"
   },
   {
    "duration": 6,
    "start_time": "2021-06-10T11:59:23.803Z"
   },
   {
    "duration": 3,
    "start_time": "2021-06-10T11:59:23.811Z"
   },
   {
    "duration": 81,
    "start_time": "2021-06-10T11:59:23.816Z"
   },
   {
    "duration": 731,
    "start_time": "2021-06-10T11:59:23.899Z"
   },
   {
    "duration": 54,
    "start_time": "2021-06-10T11:59:24.632Z"
   },
   {
    "duration": 104,
    "start_time": "2021-06-10T11:59:24.689Z"
   },
   {
    "duration": 10,
    "start_time": "2021-06-10T11:59:24.795Z"
   },
   {
    "duration": 86,
    "start_time": "2021-06-10T11:59:24.806Z"
   },
   {
    "duration": 6,
    "start_time": "2021-06-10T11:59:24.894Z"
   },
   {
    "duration": 9,
    "start_time": "2021-06-10T11:59:24.901Z"
   },
   {
    "duration": 10,
    "start_time": "2021-06-10T11:59:24.911Z"
   },
   {
    "duration": 16,
    "start_time": "2021-06-10T11:59:24.922Z"
   },
   {
    "duration": 197,
    "start_time": "2021-06-10T11:59:24.939Z"
   },
   {
    "duration": 52,
    "start_time": "2021-06-10T11:59:25.138Z"
   },
   {
    "duration": 95,
    "start_time": "2021-06-10T11:59:25.196Z"
   },
   {
    "duration": 10,
    "start_time": "2021-06-10T11:59:25.293Z"
   },
   {
    "duration": 10,
    "start_time": "2021-06-10T11:59:25.305Z"
   },
   {
    "duration": 4,
    "start_time": "2021-06-10T11:59:52.395Z"
   },
   {
    "duration": 43,
    "start_time": "2021-06-10T11:59:52.401Z"
   },
   {
    "duration": 15,
    "start_time": "2021-06-10T11:59:52.446Z"
   },
   {
    "duration": 20,
    "start_time": "2021-06-10T11:59:52.463Z"
   },
   {
    "duration": 19,
    "start_time": "2021-06-10T11:59:52.485Z"
   },
   {
    "duration": 17,
    "start_time": "2021-06-10T11:59:52.506Z"
   },
   {
    "duration": 27,
    "start_time": "2021-06-10T11:59:52.525Z"
   },
   {
    "duration": 21,
    "start_time": "2021-06-10T11:59:52.554Z"
   },
   {
    "duration": 13,
    "start_time": "2021-06-10T11:59:52.576Z"
   },
   {
    "duration": 21,
    "start_time": "2021-06-10T11:59:52.591Z"
   },
   {
    "duration": 22,
    "start_time": "2021-06-10T11:59:52.614Z"
   },
   {
    "duration": 34,
    "start_time": "2021-06-10T11:59:52.638Z"
   },
   {
    "duration": 48,
    "start_time": "2021-06-10T11:59:52.674Z"
   },
   {
    "duration": 481,
    "start_time": "2021-06-10T11:59:52.726Z"
   },
   {
    "duration": 79,
    "start_time": "2021-06-10T11:59:53.210Z"
   },
   {
    "duration": 95,
    "start_time": "2021-06-10T11:59:53.291Z"
   },
   {
    "duration": 19,
    "start_time": "2021-06-10T11:59:53.389Z"
   },
   {
    "duration": 20,
    "start_time": "2021-06-10T11:59:53.410Z"
   },
   {
    "duration": 39,
    "start_time": "2021-06-10T11:59:53.432Z"
   },
   {
    "duration": 13,
    "start_time": "2021-06-10T11:59:53.473Z"
   },
   {
    "duration": 198,
    "start_time": "2021-06-10T11:59:53.488Z"
   },
   {
    "duration": 8,
    "start_time": "2021-06-10T11:59:53.688Z"
   },
   {
    "duration": 38,
    "start_time": "2021-06-10T11:59:53.698Z"
   },
   {
    "duration": 54,
    "start_time": "2021-06-10T11:59:53.738Z"
   },
   {
    "duration": 96,
    "start_time": "2021-06-10T11:59:53.794Z"
   },
   {
    "duration": 6,
    "start_time": "2021-06-10T11:59:53.892Z"
   },
   {
    "duration": 18,
    "start_time": "2021-06-10T11:59:53.900Z"
   },
   {
    "duration": 13,
    "start_time": "2021-06-10T11:59:53.920Z"
   },
   {
    "duration": 15,
    "start_time": "2021-06-10T11:59:53.935Z"
   },
   {
    "duration": 23,
    "start_time": "2021-06-10T11:59:53.952Z"
   },
   {
    "duration": 109,
    "start_time": "2021-06-10T11:59:53.978Z"
   },
   {
    "duration": 99,
    "start_time": "2021-06-10T11:59:54.090Z"
   },
   {
    "duration": 21,
    "start_time": "2021-06-10T11:59:54.190Z"
   },
   {
    "duration": 12,
    "start_time": "2021-06-10T11:59:54.212Z"
   },
   {
    "duration": 16,
    "start_time": "2021-06-10T11:59:54.225Z"
   },
   {
    "duration": 79,
    "start_time": "2021-06-10T11:59:54.243Z"
   },
   {
    "duration": 1217,
    "start_time": "2021-06-10T11:59:54.324Z"
   },
   {
    "duration": 42,
    "start_time": "2021-06-10T11:59:55.545Z"
   },
   {
    "duration": 100,
    "start_time": "2021-06-10T11:59:55.590Z"
   },
   {
    "duration": 100,
    "start_time": "2021-06-10T11:59:55.693Z"
   },
   {
    "duration": 16,
    "start_time": "2021-06-10T11:59:55.795Z"
   },
   {
    "duration": 14,
    "start_time": "2021-06-10T11:59:55.813Z"
   },
   {
    "duration": 16,
    "start_time": "2021-06-10T11:59:55.828Z"
   },
   {
    "duration": 19,
    "start_time": "2021-06-10T11:59:55.846Z"
   },
   {
    "duration": 23,
    "start_time": "2021-06-10T11:59:55.867Z"
   },
   {
    "duration": 179,
    "start_time": "2021-06-10T11:59:55.892Z"
   },
   {
    "duration": 13,
    "start_time": "2021-06-10T11:59:56.073Z"
   },
   {
    "duration": 198,
    "start_time": "2021-06-10T11:59:56.088Z"
   },
   {
    "duration": 9,
    "start_time": "2021-06-10T11:59:56.288Z"
   },
   {
    "duration": 20,
    "start_time": "2021-06-10T11:59:56.298Z"
   },
   {
    "duration": 4,
    "start_time": "2021-06-10T12:00:58.248Z"
   },
   {
    "duration": 34,
    "start_time": "2021-06-10T12:00:58.254Z"
   },
   {
    "duration": 13,
    "start_time": "2021-06-10T12:00:58.290Z"
   },
   {
    "duration": 11,
    "start_time": "2021-06-10T12:00:58.305Z"
   },
   {
    "duration": 6,
    "start_time": "2021-06-10T12:00:58.318Z"
   },
   {
    "duration": 5,
    "start_time": "2021-06-10T12:00:58.325Z"
   },
   {
    "duration": 17,
    "start_time": "2021-06-10T12:00:58.332Z"
   },
   {
    "duration": 41,
    "start_time": "2021-06-10T12:00:58.351Z"
   },
   {
    "duration": 5,
    "start_time": "2021-06-10T12:00:58.395Z"
   },
   {
    "duration": 8,
    "start_time": "2021-06-10T12:00:58.402Z"
   },
   {
    "duration": 4,
    "start_time": "2021-06-10T12:00:58.412Z"
   },
   {
    "duration": 26,
    "start_time": "2021-06-10T12:00:58.418Z"
   },
   {
    "duration": 85,
    "start_time": "2021-06-10T12:00:58.445Z"
   },
   {
    "duration": 823,
    "start_time": "2021-06-10T12:00:58.531Z"
   },
   {
    "duration": 32,
    "start_time": "2021-06-10T12:00:59.356Z"
   },
   {
    "duration": 107,
    "start_time": "2021-06-10T12:00:59.390Z"
   },
   {
    "duration": 88,
    "start_time": "2021-06-10T12:00:59.499Z"
   },
   {
    "duration": 9,
    "start_time": "2021-06-10T12:00:59.589Z"
   },
   {
    "duration": 45,
    "start_time": "2021-06-10T12:00:59.600Z"
   },
   {
    "duration": 45,
    "start_time": "2021-06-10T12:00:59.647Z"
   },
   {
    "duration": 97,
    "start_time": "2021-06-10T12:00:59.694Z"
   },
   {
    "duration": 96,
    "start_time": "2021-06-10T12:00:59.794Z"
   },
   {
    "duration": 45,
    "start_time": "2021-06-10T12:00:59.892Z"
   },
   {
    "duration": 53,
    "start_time": "2021-06-10T12:00:59.939Z"
   },
   {
    "duration": 97,
    "start_time": "2021-06-10T12:00:59.994Z"
   },
   {
    "duration": 6,
    "start_time": "2021-06-10T12:01:00.093Z"
   },
   {
    "duration": 6,
    "start_time": "2021-06-10T12:01:00.104Z"
   },
   {
    "duration": 8,
    "start_time": "2021-06-10T12:01:00.112Z"
   },
   {
    "duration": 9,
    "start_time": "2021-06-10T12:01:00.121Z"
   },
   {
    "duration": 6,
    "start_time": "2021-06-10T12:01:00.131Z"
   },
   {
    "duration": 145,
    "start_time": "2021-06-10T12:01:00.139Z"
   },
   {
    "duration": 98,
    "start_time": "2021-06-10T12:01:00.289Z"
   },
   {
    "duration": 11,
    "start_time": "2021-06-10T12:01:00.388Z"
   },
   {
    "duration": 15,
    "start_time": "2021-06-10T12:01:00.400Z"
   },
   {
    "duration": 9,
    "start_time": "2021-06-10T12:01:00.417Z"
   },
   {
    "duration": 69,
    "start_time": "2021-06-10T12:01:00.428Z"
   },
   {
    "duration": 1492,
    "start_time": "2021-06-10T12:01:00.498Z"
   },
   {
    "duration": 38,
    "start_time": "2021-06-10T12:01:01.992Z"
   },
   {
    "duration": 154,
    "start_time": "2021-06-10T12:01:02.033Z"
   },
   {
    "duration": 10,
    "start_time": "2021-06-10T12:01:02.189Z"
   },
   {
    "duration": 9,
    "start_time": "2021-06-10T12:01:02.200Z"
   },
   {
    "duration": 5,
    "start_time": "2021-06-10T12:01:02.211Z"
   },
   {
    "duration": 6,
    "start_time": "2021-06-10T12:01:02.217Z"
   },
   {
    "duration": 18,
    "start_time": "2021-06-10T12:01:02.225Z"
   },
   {
    "duration": 46,
    "start_time": "2021-06-10T12:01:02.245Z"
   },
   {
    "duration": 180,
    "start_time": "2021-06-10T12:01:02.293Z"
   },
   {
    "duration": 18,
    "start_time": "2021-06-10T12:01:02.475Z"
   },
   {
    "duration": 98,
    "start_time": "2021-06-10T12:01:02.495Z"
   },
   {
    "duration": 12,
    "start_time": "2021-06-10T12:01:02.684Z"
   },
   {
    "duration": 9,
    "start_time": "2021-06-10T12:01:02.698Z"
   },
   {
    "duration": 4,
    "start_time": "2021-06-10T12:06:44.363Z"
   },
   {
    "duration": 35,
    "start_time": "2021-06-10T12:06:44.369Z"
   },
   {
    "duration": 11,
    "start_time": "2021-06-10T12:06:44.406Z"
   },
   {
    "duration": 9,
    "start_time": "2021-06-10T12:06:44.419Z"
   },
   {
    "duration": 5,
    "start_time": "2021-06-10T12:06:44.430Z"
   },
   {
    "duration": 4,
    "start_time": "2021-06-10T12:06:44.437Z"
   },
   {
    "duration": 44,
    "start_time": "2021-06-10T12:06:44.443Z"
   },
   {
    "duration": 11,
    "start_time": "2021-06-10T12:06:44.489Z"
   },
   {
    "duration": 5,
    "start_time": "2021-06-10T12:06:44.503Z"
   },
   {
    "duration": 14,
    "start_time": "2021-06-10T12:06:44.510Z"
   },
   {
    "duration": 16,
    "start_time": "2021-06-10T12:06:44.526Z"
   },
   {
    "duration": 55,
    "start_time": "2021-06-10T12:06:44.543Z"
   },
   {
    "duration": 50,
    "start_time": "2021-06-10T12:06:44.599Z"
   },
   {
    "duration": 804,
    "start_time": "2021-06-10T12:06:44.651Z"
   },
   {
    "duration": 31,
    "start_time": "2021-06-10T12:06:45.457Z"
   },
   {
    "duration": 100,
    "start_time": "2021-06-10T12:06:45.490Z"
   },
   {
    "duration": 10,
    "start_time": "2021-06-10T12:06:45.592Z"
   },
   {
    "duration": 8,
    "start_time": "2021-06-10T12:06:45.685Z"
   },
   {
    "duration": 45,
    "start_time": "2021-06-10T12:06:45.695Z"
   },
   {
    "duration": 46,
    "start_time": "2021-06-10T12:06:45.742Z"
   },
   {
    "duration": 97,
    "start_time": "2021-06-10T12:06:45.791Z"
   },
   {
    "duration": 8,
    "start_time": "2021-06-10T12:06:45.890Z"
   },
   {
    "duration": 44,
    "start_time": "2021-06-10T12:06:45.900Z"
   },
   {
    "duration": 48,
    "start_time": "2021-06-10T12:06:45.946Z"
   },
   {
    "duration": 92,
    "start_time": "2021-06-10T12:06:45.996Z"
   },
   {
    "duration": 7,
    "start_time": "2021-06-10T12:06:46.090Z"
   },
   {
    "duration": 5,
    "start_time": "2021-06-10T12:06:46.101Z"
   },
   {
    "duration": 8,
    "start_time": "2021-06-10T12:06:46.108Z"
   },
   {
    "duration": 9,
    "start_time": "2021-06-10T12:06:46.117Z"
   },
   {
    "duration": 5,
    "start_time": "2021-06-10T12:06:46.185Z"
   },
   {
    "duration": 98,
    "start_time": "2021-06-10T12:06:46.192Z"
   },
   {
    "duration": 97,
    "start_time": "2021-06-10T12:06:46.292Z"
   },
   {
    "duration": 9,
    "start_time": "2021-06-10T12:06:46.391Z"
   },
   {
    "duration": 6,
    "start_time": "2021-06-10T12:06:46.402Z"
   },
   {
    "duration": 7,
    "start_time": "2021-06-10T12:06:46.409Z"
   },
   {
    "duration": 81,
    "start_time": "2021-06-10T12:06:46.418Z"
   },
   {
    "duration": 1184,
    "start_time": "2021-06-10T12:06:46.501Z"
   },
   {
    "duration": 38,
    "start_time": "2021-06-10T12:06:47.687Z"
   },
   {
    "duration": 159,
    "start_time": "2021-06-10T12:06:47.727Z"
   },
   {
    "duration": 10,
    "start_time": "2021-06-10T12:06:47.888Z"
   },
   {
    "duration": 9,
    "start_time": "2021-06-10T12:06:47.900Z"
   },
   {
    "duration": 5,
    "start_time": "2021-06-10T12:06:47.910Z"
   },
   {
    "duration": 6,
    "start_time": "2021-06-10T12:06:47.917Z"
   },
   {
    "duration": 6,
    "start_time": "2021-06-10T12:06:47.924Z"
   },
   {
    "duration": 54,
    "start_time": "2021-06-10T12:06:47.932Z"
   },
   {
    "duration": 283,
    "start_time": "2021-06-10T12:06:47.988Z"
   },
   {
    "duration": 12,
    "start_time": "2021-06-10T12:06:48.273Z"
   },
   {
    "duration": 100,
    "start_time": "2021-06-10T12:06:48.288Z"
   },
   {
    "duration": 101,
    "start_time": "2021-06-10T12:06:48.391Z"
   },
   {
    "duration": 10,
    "start_time": "2021-06-10T12:06:48.493Z"
   },
   {
    "duration": 4,
    "start_time": "2021-06-10T12:12:34.375Z"
   },
   {
    "duration": 164,
    "start_time": "2021-06-10T12:14:24.247Z"
   },
   {
    "duration": 91,
    "start_time": "2021-06-10T12:15:24.878Z"
   },
   {
    "duration": 78,
    "start_time": "2021-06-10T12:19:05.137Z"
   },
   {
    "duration": 5,
    "start_time": "2021-06-10T12:20:24.574Z"
   },
   {
    "duration": 172,
    "start_time": "2021-06-10T12:20:25.157Z"
   },
   {
    "duration": 159,
    "start_time": "2021-06-10T12:20:28.598Z"
   },
   {
    "duration": 322,
    "start_time": "2021-06-10T12:20:35.147Z"
   },
   {
    "duration": 221,
    "start_time": "2021-06-10T12:20:48.797Z"
   },
   {
    "duration": 43,
    "start_time": "2021-06-10T12:22:58.577Z"
   },
   {
    "duration": 188,
    "start_time": "2021-06-10T12:22:59.532Z"
   },
   {
    "duration": 4,
    "start_time": "2021-06-10T12:24:41.294Z"
   },
   {
    "duration": 5,
    "start_time": "2021-06-10T12:25:02.915Z"
   },
   {
    "duration": 6,
    "start_time": "2021-06-10T12:25:09.057Z"
   },
   {
    "duration": 1640,
    "start_time": "2021-06-11T07:06:45.467Z"
   },
   {
    "duration": 189,
    "start_time": "2021-06-11T07:06:47.110Z"
   },
   {
    "duration": 26,
    "start_time": "2021-06-11T07:06:47.302Z"
   },
   {
    "duration": 12,
    "start_time": "2021-06-11T07:06:47.331Z"
   },
   {
    "duration": 8,
    "start_time": "2021-06-11T07:06:47.346Z"
   },
   {
    "duration": 9,
    "start_time": "2021-06-11T07:06:47.356Z"
   },
   {
    "duration": 25,
    "start_time": "2021-06-11T07:06:47.367Z"
   },
   {
    "duration": 12,
    "start_time": "2021-06-11T07:06:47.396Z"
   },
   {
    "duration": 6,
    "start_time": "2021-06-11T07:06:47.411Z"
   },
   {
    "duration": 10,
    "start_time": "2021-06-11T07:06:47.419Z"
   },
   {
    "duration": 4,
    "start_time": "2021-06-11T07:06:47.462Z"
   },
   {
    "duration": 38,
    "start_time": "2021-06-11T07:06:47.468Z"
   },
   {
    "duration": 91,
    "start_time": "2021-06-11T07:06:47.508Z"
   },
   {
    "duration": 1182,
    "start_time": "2021-06-11T07:06:47.601Z"
   },
   {
    "duration": 79,
    "start_time": "2021-06-11T07:06:48.785Z"
   },
   {
    "duration": 104,
    "start_time": "2021-06-11T07:06:48.867Z"
   },
   {
    "duration": 7,
    "start_time": "2021-06-11T07:06:48.974Z"
   },
   {
    "duration": 11,
    "start_time": "2021-06-11T07:06:48.984Z"
   },
   {
    "duration": 101,
    "start_time": "2021-06-11T07:06:48.997Z"
   },
   {
    "duration": 67,
    "start_time": "2021-06-11T07:06:49.100Z"
   },
   {
    "duration": 102,
    "start_time": "2021-06-11T07:06:49.170Z"
   },
   {
    "duration": 12,
    "start_time": "2021-06-11T07:06:49.274Z"
   },
   {
    "duration": 92,
    "start_time": "2021-06-11T07:06:49.291Z"
   },
   {
    "duration": 79,
    "start_time": "2021-06-11T07:06:49.386Z"
   },
   {
    "duration": 98,
    "start_time": "2021-06-11T07:06:49.468Z"
   },
   {
    "duration": 8,
    "start_time": "2021-06-11T07:06:49.568Z"
   },
   {
    "duration": 8,
    "start_time": "2021-06-11T07:06:49.578Z"
   },
   {
    "duration": 8,
    "start_time": "2021-06-11T07:06:49.588Z"
   },
   {
    "duration": 10,
    "start_time": "2021-06-11T07:06:49.599Z"
   },
   {
    "duration": 53,
    "start_time": "2021-06-11T07:06:49.612Z"
   },
   {
    "duration": 110,
    "start_time": "2021-06-11T07:06:49.668Z"
   },
   {
    "duration": 99,
    "start_time": "2021-06-11T07:06:49.864Z"
   },
   {
    "duration": 12,
    "start_time": "2021-06-11T07:06:49.966Z"
   },
   {
    "duration": 8,
    "start_time": "2021-06-11T07:06:49.981Z"
   },
   {
    "duration": 5,
    "start_time": "2021-06-11T07:06:49.992Z"
   },
   {
    "duration": 122,
    "start_time": "2021-06-11T07:06:50.000Z"
   },
   {
    "duration": 2400,
    "start_time": "2021-06-11T07:06:50.125Z"
   },
   {
    "duration": 67,
    "start_time": "2021-06-11T07:06:52.528Z"
   },
   {
    "duration": 168,
    "start_time": "2021-06-11T07:06:52.598Z"
   },
   {
    "duration": 14,
    "start_time": "2021-06-11T07:06:52.769Z"
   },
   {
    "duration": 14,
    "start_time": "2021-06-11T07:06:52.786Z"
   },
   {
    "duration": 7,
    "start_time": "2021-06-11T07:06:52.802Z"
   },
   {
    "duration": 56,
    "start_time": "2021-06-11T07:06:52.811Z"
   },
   {
    "duration": 16,
    "start_time": "2021-06-11T07:06:52.870Z"
   },
   {
    "duration": 22,
    "start_time": "2021-06-11T07:06:52.889Z"
   },
   {
    "duration": 442,
    "start_time": "2021-06-11T07:06:52.913Z"
   },
   {
    "duration": 16,
    "start_time": "2021-06-11T07:06:53.361Z"
   },
   {
    "duration": 186,
    "start_time": "2021-06-11T07:06:53.380Z"
   },
   {
    "duration": 14,
    "start_time": "2021-06-11T07:06:53.568Z"
   },
   {
    "duration": 13,
    "start_time": "2021-06-11T07:06:53.585Z"
   },
   {
    "duration": 183,
    "start_time": "2021-06-11T07:06:53.600Z"
   },
   {
    "duration": 81,
    "start_time": "2021-06-11T07:06:53.785Z"
   },
   {
    "duration": 280,
    "start_time": "2021-06-11T07:06:53.868Z"
   },
   {
    "duration": 16,
    "start_time": "2021-06-11T07:06:54.150Z"
   },
   {
    "duration": 1256,
    "start_time": "2021-06-11T07:16:20.560Z"
   },
   {
    "duration": 1271,
    "start_time": "2021-06-11T07:16:52.379Z"
   },
   {
    "duration": 1704,
    "start_time": "2021-06-11T07:17:51.654Z"
   },
   {
    "duration": 1497,
    "start_time": "2021-06-11T07:18:11.509Z"
   },
   {
    "duration": 1522,
    "start_time": "2021-06-11T07:18:26.366Z"
   },
   {
    "duration": 1489,
    "start_time": "2021-06-11T07:19:24.377Z"
   },
   {
    "duration": 1568,
    "start_time": "2021-06-11T07:19:43.198Z"
   },
   {
    "duration": 1572,
    "start_time": "2021-06-11T07:19:51.759Z"
   },
   {
    "duration": 6,
    "start_time": "2021-06-11T07:19:57.028Z"
   },
   {
    "duration": 48,
    "start_time": "2021-06-11T07:19:57.037Z"
   },
   {
    "duration": 18,
    "start_time": "2021-06-11T07:19:57.088Z"
   },
   {
    "duration": 22,
    "start_time": "2021-06-11T07:19:57.109Z"
   },
   {
    "duration": 35,
    "start_time": "2021-06-11T07:19:57.133Z"
   },
   {
    "duration": 7,
    "start_time": "2021-06-11T07:19:57.171Z"
   },
   {
    "duration": 37,
    "start_time": "2021-06-11T07:19:57.181Z"
   },
   {
    "duration": 43,
    "start_time": "2021-06-11T07:19:57.220Z"
   },
   {
    "duration": 6,
    "start_time": "2021-06-11T07:19:57.267Z"
   },
   {
    "duration": 10,
    "start_time": "2021-06-11T07:19:57.276Z"
   },
   {
    "duration": 8,
    "start_time": "2021-06-11T07:19:57.289Z"
   },
   {
    "duration": 89,
    "start_time": "2021-06-11T07:19:57.299Z"
   },
   {
    "duration": 74,
    "start_time": "2021-06-11T07:19:57.390Z"
   },
   {
    "duration": 1224,
    "start_time": "2021-06-11T07:19:57.467Z"
   },
   {
    "duration": 74,
    "start_time": "2021-06-11T07:19:58.695Z"
   },
   {
    "duration": 11,
    "start_time": "2021-06-11T07:19:58.862Z"
   },
   {
    "duration": 15,
    "start_time": "2021-06-11T07:19:58.876Z"
   },
   {
    "duration": 15,
    "start_time": "2021-06-11T07:19:58.894Z"
   },
   {
    "duration": 110,
    "start_time": "2021-06-11T07:19:58.912Z"
   },
   {
    "duration": 140,
    "start_time": "2021-06-11T07:19:59.026Z"
   },
   {
    "duration": 14,
    "start_time": "2021-06-11T07:19:59.169Z"
   },
   {
    "duration": 16,
    "start_time": "2021-06-11T07:19:59.185Z"
   },
   {
    "duration": 118,
    "start_time": "2021-06-11T07:19:59.204Z"
   },
   {
    "duration": 141,
    "start_time": "2021-06-11T07:19:59.324Z"
   },
   {
    "duration": 9,
    "start_time": "2021-06-11T07:19:59.468Z"
   },
   {
    "duration": 7,
    "start_time": "2021-06-11T07:19:59.480Z"
   },
   {
    "duration": 7,
    "start_time": "2021-06-11T07:19:59.494Z"
   },
   {
    "duration": 8,
    "start_time": "2021-06-11T07:19:59.562Z"
   },
   {
    "duration": 8,
    "start_time": "2021-06-11T07:19:59.573Z"
   },
   {
    "duration": 8,
    "start_time": "2021-06-11T07:19:59.584Z"
   },
   {
    "duration": 172,
    "start_time": "2021-06-11T07:19:59.594Z"
   },
   {
    "duration": 99,
    "start_time": "2021-06-11T07:19:59.770Z"
   },
   {
    "duration": 11,
    "start_time": "2021-06-11T07:19:59.871Z"
   },
   {
    "duration": 11,
    "start_time": "2021-06-11T07:19:59.884Z"
   },
   {
    "duration": 5,
    "start_time": "2021-06-11T07:19:59.898Z"
   },
   {
    "duration": 126,
    "start_time": "2021-06-11T07:19:59.905Z"
   },
   {
    "duration": 1990,
    "start_time": "2021-06-11T07:20:00.033Z"
   },
   {
    "duration": 90,
    "start_time": "2021-06-11T07:20:02.026Z"
   },
   {
    "duration": 104,
    "start_time": "2021-06-11T07:20:02.164Z"
   },
   {
    "duration": 20,
    "start_time": "2021-06-11T07:20:02.271Z"
   },
   {
    "duration": 15,
    "start_time": "2021-06-11T07:20:02.294Z"
   },
   {
    "duration": 10,
    "start_time": "2021-06-11T07:20:02.312Z"
   },
   {
    "duration": 11,
    "start_time": "2021-06-11T07:20:02.363Z"
   },
   {
    "duration": 42,
    "start_time": "2021-06-11T07:20:02.377Z"
   },
   {
    "duration": 66,
    "start_time": "2021-06-11T07:20:02.422Z"
   },
   {
    "duration": 430,
    "start_time": "2021-06-11T07:20:02.490Z"
   },
   {
    "duration": 48,
    "start_time": "2021-06-11T07:20:02.923Z"
   },
   {
    "duration": 98,
    "start_time": "2021-06-11T07:20:02.974Z"
   },
   {
    "duration": 97,
    "start_time": "2021-06-11T07:20:03.075Z"
   },
   {
    "duration": 20,
    "start_time": "2021-06-11T07:20:03.175Z"
   },
   {
    "duration": 1728,
    "start_time": "2021-06-11T07:20:03.198Z"
   },
   {
    "duration": 71,
    "start_time": "2021-06-11T07:20:04.929Z"
   },
   {
    "duration": 275,
    "start_time": "2021-06-11T07:20:05.003Z"
   },
   {
    "duration": 8,
    "start_time": "2021-06-11T07:20:05.281Z"
   },
   {
    "duration": 6,
    "start_time": "2021-06-11T07:20:44.558Z"
   },
   {
    "duration": 36,
    "start_time": "2021-06-11T07:20:44.568Z"
   },
   {
    "duration": 18,
    "start_time": "2021-06-11T07:20:44.607Z"
   },
   {
    "duration": 11,
    "start_time": "2021-06-11T07:20:44.662Z"
   },
   {
    "duration": 7,
    "start_time": "2021-06-11T07:20:44.675Z"
   },
   {
    "duration": 5,
    "start_time": "2021-06-11T07:20:44.684Z"
   },
   {
    "duration": 72,
    "start_time": "2021-06-11T07:20:44.691Z"
   },
   {
    "duration": 11,
    "start_time": "2021-06-11T07:20:44.765Z"
   },
   {
    "duration": 5,
    "start_time": "2021-06-11T07:20:44.780Z"
   },
   {
    "duration": 9,
    "start_time": "2021-06-11T07:20:44.788Z"
   },
   {
    "duration": 7,
    "start_time": "2021-06-11T07:20:44.799Z"
   },
   {
    "duration": 80,
    "start_time": "2021-06-11T07:20:44.809Z"
   },
   {
    "duration": 76,
    "start_time": "2021-06-11T07:20:44.892Z"
   },
   {
    "duration": 1179,
    "start_time": "2021-06-11T07:20:44.970Z"
   },
   {
    "duration": 32,
    "start_time": "2021-06-11T07:20:46.151Z"
   },
   {
    "duration": 99,
    "start_time": "2021-06-11T07:20:46.263Z"
   },
   {
    "duration": 9,
    "start_time": "2021-06-11T07:20:46.365Z"
   },
   {
    "duration": 12,
    "start_time": "2021-06-11T07:20:46.376Z"
   },
   {
    "duration": 110,
    "start_time": "2021-06-11T07:20:46.391Z"
   },
   {
    "duration": 159,
    "start_time": "2021-06-11T07:20:46.503Z"
   },
   {
    "duration": 20,
    "start_time": "2021-06-11T07:20:46.665Z"
   },
   {
    "duration": 15,
    "start_time": "2021-06-11T07:20:46.687Z"
   },
   {
    "duration": 65,
    "start_time": "2021-06-11T07:20:46.761Z"
   },
   {
    "duration": 136,
    "start_time": "2021-06-11T07:20:46.829Z"
   },
   {
    "duration": 16,
    "start_time": "2021-06-11T07:20:46.968Z"
   },
   {
    "duration": 7,
    "start_time": "2021-06-11T07:20:47.063Z"
   },
   {
    "duration": 13,
    "start_time": "2021-06-11T07:20:47.077Z"
   },
   {
    "duration": 13,
    "start_time": "2021-06-11T07:20:47.093Z"
   },
   {
    "duration": 19,
    "start_time": "2021-06-11T07:20:47.108Z"
   },
   {
    "duration": 7,
    "start_time": "2021-06-11T07:20:47.162Z"
   },
   {
    "duration": 109,
    "start_time": "2021-06-11T07:20:47.172Z"
   },
   {
    "duration": 107,
    "start_time": "2021-06-11T07:20:47.366Z"
   },
   {
    "duration": 13,
    "start_time": "2021-06-11T07:20:47.477Z"
   },
   {
    "duration": 8,
    "start_time": "2021-06-11T07:20:47.492Z"
   },
   {
    "duration": 4,
    "start_time": "2021-06-11T07:20:47.503Z"
   },
   {
    "duration": 119,
    "start_time": "2021-06-11T07:20:47.510Z"
   },
   {
    "duration": 1833,
    "start_time": "2021-06-11T07:20:47.631Z"
   },
   {
    "duration": 95,
    "start_time": "2021-06-11T07:20:49.467Z"
   },
   {
    "duration": 105,
    "start_time": "2021-06-11T07:20:49.565Z"
   },
   {
    "duration": 12,
    "start_time": "2021-06-11T07:20:49.673Z"
   },
   {
    "duration": 12,
    "start_time": "2021-06-11T07:20:49.687Z"
   },
   {
    "duration": 6,
    "start_time": "2021-06-11T07:20:49.701Z"
   },
   {
    "duration": 57,
    "start_time": "2021-06-11T07:20:49.709Z"
   },
   {
    "duration": 9,
    "start_time": "2021-06-11T07:20:49.769Z"
   },
   {
    "duration": 24,
    "start_time": "2021-06-11T07:20:49.780Z"
   },
   {
    "duration": 445,
    "start_time": "2021-06-11T07:20:49.807Z"
   },
   {
    "duration": 23,
    "start_time": "2021-06-11T07:20:50.254Z"
   },
   {
    "duration": 188,
    "start_time": "2021-06-11T07:20:50.279Z"
   },
   {
    "duration": 13,
    "start_time": "2021-06-11T07:20:50.469Z"
   },
   {
    "duration": 13,
    "start_time": "2021-06-11T07:20:50.484Z"
   },
   {
    "duration": 1540,
    "start_time": "2021-06-11T07:20:50.499Z"
   },
   {
    "duration": 1029,
    "start_time": "2021-06-11T07:20:51.012Z"
   },
   {
    "duration": 1023,
    "start_time": "2021-06-11T07:20:51.020Z"
   },
   {
    "duration": 981,
    "start_time": "2021-06-11T07:20:51.063Z"
   },
   {
    "duration": 6,
    "start_time": "2021-06-11T07:21:17.787Z"
   },
   {
    "duration": 37,
    "start_time": "2021-06-11T07:21:17.797Z"
   },
   {
    "duration": 26,
    "start_time": "2021-06-11T07:21:17.837Z"
   },
   {
    "duration": 15,
    "start_time": "2021-06-11T07:21:17.866Z"
   },
   {
    "duration": 7,
    "start_time": "2021-06-11T07:21:17.884Z"
   },
   {
    "duration": 8,
    "start_time": "2021-06-11T07:21:17.893Z"
   },
   {
    "duration": 68,
    "start_time": "2021-06-11T07:21:17.903Z"
   },
   {
    "duration": 12,
    "start_time": "2021-06-11T07:21:17.975Z"
   },
   {
    "duration": 5,
    "start_time": "2021-06-11T07:21:17.991Z"
   },
   {
    "duration": 16,
    "start_time": "2021-06-11T07:21:17.999Z"
   },
   {
    "duration": 3,
    "start_time": "2021-06-11T07:21:18.063Z"
   },
   {
    "duration": 41,
    "start_time": "2021-06-11T07:21:18.068Z"
   },
   {
    "duration": 85,
    "start_time": "2021-06-11T07:21:18.111Z"
   },
   {
    "duration": 1181,
    "start_time": "2021-06-11T07:21:18.198Z"
   },
   {
    "duration": 83,
    "start_time": "2021-06-11T07:21:19.381Z"
   },
   {
    "duration": 100,
    "start_time": "2021-06-11T07:21:19.467Z"
   },
   {
    "duration": 11,
    "start_time": "2021-06-11T07:21:19.570Z"
   },
   {
    "duration": 16,
    "start_time": "2021-06-11T07:21:19.585Z"
   },
   {
    "duration": 130,
    "start_time": "2021-06-11T07:21:19.604Z"
   },
   {
    "duration": 131,
    "start_time": "2021-06-11T07:21:19.737Z"
   },
   {
    "duration": 11,
    "start_time": "2021-06-11T07:21:19.962Z"
   },
   {
    "duration": 14,
    "start_time": "2021-06-11T07:21:19.975Z"
   },
   {
    "duration": 94,
    "start_time": "2021-06-11T07:21:19.994Z"
   },
   {
    "duration": 77,
    "start_time": "2021-06-11T07:21:20.091Z"
   },
   {
    "duration": 98,
    "start_time": "2021-06-11T07:21:20.171Z"
   },
   {
    "duration": 9,
    "start_time": "2021-06-11T07:21:20.272Z"
   },
   {
    "duration": 11,
    "start_time": "2021-06-11T07:21:20.284Z"
   },
   {
    "duration": 10,
    "start_time": "2021-06-11T07:21:20.298Z"
   },
   {
    "duration": 11,
    "start_time": "2021-06-11T07:21:20.361Z"
   },
   {
    "duration": 9,
    "start_time": "2021-06-11T07:21:20.374Z"
   },
   {
    "duration": 128,
    "start_time": "2021-06-11T07:21:20.386Z"
   },
   {
    "duration": 149,
    "start_time": "2021-06-11T07:21:20.516Z"
   },
   {
    "duration": 10,
    "start_time": "2021-06-11T07:21:20.667Z"
   },
   {
    "duration": 14,
    "start_time": "2021-06-11T07:21:20.679Z"
   },
   {
    "duration": 4,
    "start_time": "2021-06-11T07:21:20.696Z"
   },
   {
    "duration": 114,
    "start_time": "2021-06-11T07:21:20.702Z"
   },
   {
    "duration": 1868,
    "start_time": "2021-06-11T07:21:20.819Z"
   },
   {
    "duration": 77,
    "start_time": "2021-06-11T07:21:22.689Z"
   },
   {
    "duration": 192,
    "start_time": "2021-06-11T07:21:22.771Z"
   },
   {
    "duration": 16,
    "start_time": "2021-06-11T07:21:22.965Z"
   },
   {
    "duration": 13,
    "start_time": "2021-06-11T07:21:22.983Z"
   },
   {
    "duration": 7,
    "start_time": "2021-06-11T07:21:22.998Z"
   },
   {
    "duration": 9,
    "start_time": "2021-06-11T07:21:23.007Z"
   },
   {
    "duration": 49,
    "start_time": "2021-06-11T07:21:23.019Z"
   },
   {
    "duration": 36,
    "start_time": "2021-06-11T07:21:23.070Z"
   },
   {
    "duration": 433,
    "start_time": "2021-06-11T07:21:23.108Z"
   },
   {
    "duration": 25,
    "start_time": "2021-06-11T07:21:23.544Z"
   },
   {
    "duration": 193,
    "start_time": "2021-06-11T07:21:23.574Z"
   },
   {
    "duration": 14,
    "start_time": "2021-06-11T07:21:23.769Z"
   },
   {
    "duration": 15,
    "start_time": "2021-06-11T07:21:23.786Z"
   },
   {
    "duration": 1566,
    "start_time": "2021-06-11T07:21:23.803Z"
   },
   {
    "duration": 1049,
    "start_time": "2021-06-11T07:21:24.322Z"
   },
   {
    "duration": 1035,
    "start_time": "2021-06-11T07:21:24.337Z"
   },
   {
    "duration": 1030,
    "start_time": "2021-06-11T07:21:24.344Z"
   },
   {
    "duration": 6,
    "start_time": "2021-06-11T07:21:42.340Z"
   },
   {
    "duration": 51,
    "start_time": "2021-06-11T07:21:42.349Z"
   },
   {
    "duration": 19,
    "start_time": "2021-06-11T07:21:42.403Z"
   },
   {
    "duration": 38,
    "start_time": "2021-06-11T07:21:42.425Z"
   },
   {
    "duration": 20,
    "start_time": "2021-06-11T07:21:42.466Z"
   },
   {
    "duration": 12,
    "start_time": "2021-06-11T07:21:42.489Z"
   },
   {
    "duration": 38,
    "start_time": "2021-06-11T07:21:42.503Z"
   },
   {
    "duration": 29,
    "start_time": "2021-06-11T07:21:42.544Z"
   },
   {
    "duration": 11,
    "start_time": "2021-06-11T07:21:42.577Z"
   },
   {
    "duration": 25,
    "start_time": "2021-06-11T07:21:42.591Z"
   },
   {
    "duration": 24,
    "start_time": "2021-06-11T07:21:42.618Z"
   },
   {
    "duration": 47,
    "start_time": "2021-06-11T07:21:42.644Z"
   },
   {
    "duration": 83,
    "start_time": "2021-06-11T07:21:42.694Z"
   },
   {
    "duration": 1202,
    "start_time": "2021-06-11T07:21:42.780Z"
   },
   {
    "duration": 19,
    "start_time": "2021-06-11T07:21:43.984Z"
   },
   {
    "duration": 11,
    "start_time": "2021-06-11T07:21:44.064Z"
   },
   {
    "duration": 8,
    "start_time": "2021-06-11T07:21:44.163Z"
   },
   {
    "duration": 20,
    "start_time": "2021-06-11T07:21:44.173Z"
   },
   {
    "duration": 104,
    "start_time": "2021-06-11T07:21:44.195Z"
   },
   {
    "duration": 61,
    "start_time": "2021-06-11T07:21:44.301Z"
   },
   {
    "duration": 11,
    "start_time": "2021-06-11T07:21:44.365Z"
   },
   {
    "duration": 19,
    "start_time": "2021-06-11T07:21:44.463Z"
   },
   {
    "duration": 86,
    "start_time": "2021-06-11T07:21:44.485Z"
   },
   {
    "duration": 93,
    "start_time": "2021-06-11T07:21:44.573Z"
   },
   {
    "duration": 96,
    "start_time": "2021-06-11T07:21:44.670Z"
   },
   {
    "duration": 11,
    "start_time": "2021-06-11T07:21:44.769Z"
   },
   {
    "duration": 7,
    "start_time": "2021-06-11T07:21:44.785Z"
   },
   {
    "duration": 7,
    "start_time": "2021-06-11T07:21:44.795Z"
   },
   {
    "duration": 8,
    "start_time": "2021-06-11T07:21:44.805Z"
   },
   {
    "duration": 8,
    "start_time": "2021-06-11T07:21:44.816Z"
   },
   {
    "duration": 110,
    "start_time": "2021-06-11T07:21:44.863Z"
   },
   {
    "duration": 107,
    "start_time": "2021-06-11T07:21:45.064Z"
   },
   {
    "duration": 12,
    "start_time": "2021-06-11T07:21:45.174Z"
   },
   {
    "duration": 15,
    "start_time": "2021-06-11T07:21:45.190Z"
   },
   {
    "duration": 6,
    "start_time": "2021-06-11T07:21:45.208Z"
   },
   {
    "duration": 148,
    "start_time": "2021-06-11T07:21:45.217Z"
   },
   {
    "duration": 2501,
    "start_time": "2021-06-11T07:21:45.368Z"
   },
   {
    "duration": 97,
    "start_time": "2021-06-11T07:21:47.872Z"
   },
   {
    "duration": 197,
    "start_time": "2021-06-11T07:21:47.972Z"
   },
   {
    "duration": 19,
    "start_time": "2021-06-11T07:21:48.172Z"
   },
   {
    "duration": 23,
    "start_time": "2021-06-11T07:21:48.194Z"
   },
   {
    "duration": 40,
    "start_time": "2021-06-11T07:21:48.221Z"
   },
   {
    "duration": 8,
    "start_time": "2021-06-11T07:21:48.264Z"
   },
   {
    "duration": 29,
    "start_time": "2021-06-11T07:21:48.274Z"
   },
   {
    "duration": 37,
    "start_time": "2021-06-11T07:21:48.306Z"
   },
   {
    "duration": 425,
    "start_time": "2021-06-11T07:21:48.346Z"
   },
   {
    "duration": 11,
    "start_time": "2021-06-11T07:21:48.773Z"
   },
   {
    "duration": 186,
    "start_time": "2021-06-11T07:21:48.787Z"
   },
   {
    "duration": 16,
    "start_time": "2021-06-11T07:21:48.976Z"
   },
   {
    "duration": 20,
    "start_time": "2021-06-11T07:21:48.995Z"
   },
   {
    "duration": 2025,
    "start_time": "2021-06-11T07:21:49.018Z"
   },
   {
    "duration": 895,
    "start_time": "2021-06-11T07:21:50.151Z"
   },
   {
    "duration": 868,
    "start_time": "2021-06-11T07:21:50.180Z"
   },
   {
    "duration": 858,
    "start_time": "2021-06-11T07:21:50.192Z"
   },
   {
    "duration": 1997,
    "start_time": "2021-06-11T07:23:06.818Z"
   },
   {
    "duration": 6,
    "start_time": "2021-06-11T07:23:19.299Z"
   },
   {
    "duration": 38,
    "start_time": "2021-06-11T07:23:19.307Z"
   },
   {
    "duration": 18,
    "start_time": "2021-06-11T07:23:19.348Z"
   },
   {
    "duration": 15,
    "start_time": "2021-06-11T07:23:19.369Z"
   },
   {
    "duration": 7,
    "start_time": "2021-06-11T07:23:19.387Z"
   },
   {
    "duration": 10,
    "start_time": "2021-06-11T07:23:19.396Z"
   },
   {
    "duration": 70,
    "start_time": "2021-06-11T07:23:19.409Z"
   },
   {
    "duration": 11,
    "start_time": "2021-06-11T07:23:19.482Z"
   },
   {
    "duration": 5,
    "start_time": "2021-06-11T07:23:19.497Z"
   },
   {
    "duration": 57,
    "start_time": "2021-06-11T07:23:19.505Z"
   },
   {
    "duration": 7,
    "start_time": "2021-06-11T07:23:19.565Z"
   },
   {
    "duration": 43,
    "start_time": "2021-06-11T07:23:19.574Z"
   },
   {
    "duration": 86,
    "start_time": "2021-06-11T07:23:19.619Z"
   },
   {
    "duration": 1205,
    "start_time": "2021-06-11T07:23:19.707Z"
   },
   {
    "duration": 150,
    "start_time": "2021-06-11T07:23:20.914Z"
   },
   {
    "duration": 8,
    "start_time": "2021-06-11T07:23:21.066Z"
   },
   {
    "duration": 17,
    "start_time": "2021-06-11T07:23:21.077Z"
   },
   {
    "duration": 75,
    "start_time": "2021-06-11T07:23:21.097Z"
   },
   {
    "duration": 88,
    "start_time": "2021-06-11T07:23:21.174Z"
   },
   {
    "duration": 103,
    "start_time": "2021-06-11T07:23:21.264Z"
   },
   {
    "duration": 101,
    "start_time": "2021-06-11T07:23:21.370Z"
   },
   {
    "duration": 36,
    "start_time": "2021-06-11T07:23:21.473Z"
   },
   {
    "duration": 77,
    "start_time": "2021-06-11T07:23:21.512Z"
   },
   {
    "duration": 83,
    "start_time": "2021-06-11T07:23:21.592Z"
   },
   {
    "duration": 7,
    "start_time": "2021-06-11T07:23:21.763Z"
   },
   {
    "duration": 6,
    "start_time": "2021-06-11T07:23:21.773Z"
   },
   {
    "duration": 7,
    "start_time": "2021-06-11T07:23:21.785Z"
   },
   {
    "duration": 9,
    "start_time": "2021-06-11T07:23:21.864Z"
   },
   {
    "duration": 17,
    "start_time": "2021-06-11T07:23:21.876Z"
   },
   {
    "duration": 23,
    "start_time": "2021-06-11T07:23:21.896Z"
   },
   {
    "duration": 141,
    "start_time": "2021-06-11T07:23:21.922Z"
   },
   {
    "duration": 102,
    "start_time": "2021-06-11T07:23:22.066Z"
   },
   {
    "duration": 14,
    "start_time": "2021-06-11T07:23:22.171Z"
   },
   {
    "duration": 16,
    "start_time": "2021-06-11T07:23:22.187Z"
   },
   {
    "duration": 12,
    "start_time": "2021-06-11T07:23:22.205Z"
   },
   {
    "duration": 111,
    "start_time": "2021-06-11T07:23:22.220Z"
   },
   {
    "duration": 1860,
    "start_time": "2021-06-11T07:23:22.333Z"
   },
   {
    "duration": 71,
    "start_time": "2021-06-11T07:23:24.195Z"
   },
   {
    "duration": 194,
    "start_time": "2021-06-11T07:23:24.269Z"
   },
   {
    "duration": 14,
    "start_time": "2021-06-11T07:23:24.466Z"
   },
   {
    "duration": 24,
    "start_time": "2021-06-11T07:23:24.482Z"
   },
   {
    "duration": 37,
    "start_time": "2021-06-11T07:23:24.508Z"
   },
   {
    "duration": 35,
    "start_time": "2021-06-11T07:23:24.548Z"
   },
   {
    "duration": 39,
    "start_time": "2021-06-11T07:23:24.586Z"
   },
   {
    "duration": 41,
    "start_time": "2021-06-11T07:23:24.627Z"
   },
   {
    "duration": 424,
    "start_time": "2021-06-11T07:23:24.671Z"
   },
   {
    "duration": 67,
    "start_time": "2021-06-11T07:23:25.097Z"
   },
   {
    "duration": 111,
    "start_time": "2021-06-11T07:23:25.167Z"
   },
   {
    "duration": 14,
    "start_time": "2021-06-11T07:23:25.281Z"
   },
   {
    "duration": 13,
    "start_time": "2021-06-11T07:23:25.297Z"
   },
   {
    "duration": 1566,
    "start_time": "2021-06-11T07:23:25.313Z"
   },
   {
    "duration": 1046,
    "start_time": "2021-06-11T07:23:25.836Z"
   },
   {
    "duration": 1039,
    "start_time": "2021-06-11T07:23:25.844Z"
   },
   {
    "duration": 1032,
    "start_time": "2021-06-11T07:23:25.852Z"
   },
   {
    "duration": 1263,
    "start_time": "2021-06-11T07:23:39.699Z"
   },
   {
    "duration": 1244,
    "start_time": "2021-06-11T07:24:13.459Z"
   },
   {
    "duration": 1314,
    "start_time": "2021-06-11T07:26:14.938Z"
   },
   {
    "duration": 1378,
    "start_time": "2021-06-11T07:26:33.915Z"
   },
   {
    "duration": 1564,
    "start_time": "2021-06-11T07:31:07.412Z"
   },
   {
    "duration": 1504,
    "start_time": "2021-06-11T07:31:16.139Z"
   },
   {
    "duration": 1526,
    "start_time": "2021-06-11T07:35:18.773Z"
   },
   {
    "duration": 1388,
    "start_time": "2021-06-11T07:35:25.404Z"
   },
   {
    "duration": 62,
    "start_time": "2021-06-11T07:35:43.707Z"
   },
   {
    "duration": 266,
    "start_time": "2021-06-11T07:35:44.147Z"
   },
   {
    "duration": 8,
    "start_time": "2021-06-11T07:35:48.615Z"
   },
   {
    "duration": 5,
    "start_time": "2021-06-11T07:40:24.163Z"
   },
   {
    "duration": 6,
    "start_time": "2021-06-11T07:41:03.499Z"
   },
   {
    "duration": 261,
    "start_time": "2021-06-11T07:41:43.068Z"
   },
   {
    "duration": 9,
    "start_time": "2021-06-11T07:42:54.498Z"
   },
   {
    "duration": 6,
    "start_time": "2021-06-11T07:43:07.277Z"
   },
   {
    "duration": 41,
    "start_time": "2021-06-11T07:43:07.286Z"
   },
   {
    "duration": 19,
    "start_time": "2021-06-11T07:43:07.330Z"
   },
   {
    "duration": 15,
    "start_time": "2021-06-11T07:43:07.352Z"
   },
   {
    "duration": 10,
    "start_time": "2021-06-11T07:43:07.371Z"
   },
   {
    "duration": 9,
    "start_time": "2021-06-11T07:43:07.384Z"
   },
   {
    "duration": 26,
    "start_time": "2021-06-11T07:43:07.396Z"
   },
   {
    "duration": 18,
    "start_time": "2021-06-11T07:43:07.463Z"
   },
   {
    "duration": 114,
    "start_time": "2021-06-11T07:43:07.487Z"
   },
   {
    "duration": 13,
    "start_time": "2021-06-11T07:43:07.605Z"
   },
   {
    "duration": 41,
    "start_time": "2021-06-11T07:43:07.620Z"
   },
   {
    "duration": 54,
    "start_time": "2021-06-11T07:43:07.664Z"
   },
   {
    "duration": 105,
    "start_time": "2021-06-11T07:43:07.721Z"
   },
   {
    "duration": 1734,
    "start_time": "2021-06-11T07:43:07.830Z"
   },
   {
    "duration": 99,
    "start_time": "2021-06-11T07:43:09.566Z"
   },
   {
    "duration": 98,
    "start_time": "2021-06-11T07:43:09.668Z"
   },
   {
    "duration": 11,
    "start_time": "2021-06-11T07:43:09.769Z"
   },
   {
    "duration": 14,
    "start_time": "2021-06-11T07:43:09.783Z"
   },
   {
    "duration": 104,
    "start_time": "2021-06-11T07:43:09.799Z"
   },
   {
    "duration": 66,
    "start_time": "2021-06-11T07:43:09.905Z"
   },
   {
    "duration": 11,
    "start_time": "2021-06-11T07:43:10.063Z"
   },
   {
    "duration": 12,
    "start_time": "2021-06-11T07:43:10.077Z"
   },
   {
    "duration": 113,
    "start_time": "2021-06-11T07:43:10.091Z"
   },
   {
    "duration": 156,
    "start_time": "2021-06-11T07:43:10.207Z"
   },
   {
    "duration": 9,
    "start_time": "2021-06-11T07:43:10.366Z"
   },
   {
    "duration": 12,
    "start_time": "2021-06-11T07:43:10.377Z"
   },
   {
    "duration": 8,
    "start_time": "2021-06-11T07:43:10.465Z"
   },
   {
    "duration": 10,
    "start_time": "2021-06-11T07:43:10.476Z"
   },
   {
    "duration": 7,
    "start_time": "2021-06-11T07:43:10.489Z"
   },
   {
    "duration": 7,
    "start_time": "2021-06-11T07:43:10.499Z"
   },
   {
    "duration": 162,
    "start_time": "2021-06-11T07:43:10.509Z"
   },
   {
    "duration": 11,
    "start_time": "2021-06-11T07:43:10.763Z"
   },
   {
    "duration": 87,
    "start_time": "2021-06-11T07:43:10.776Z"
   },
   {
    "duration": 10,
    "start_time": "2021-06-11T07:43:10.865Z"
   },
   {
    "duration": 5,
    "start_time": "2021-06-11T07:43:10.879Z"
   },
   {
    "duration": 123,
    "start_time": "2021-06-11T07:43:10.887Z"
   },
   {
    "duration": 1848,
    "start_time": "2021-06-11T07:43:11.014Z"
   },
   {
    "duration": 103,
    "start_time": "2021-06-11T07:43:12.865Z"
   },
   {
    "duration": 102,
    "start_time": "2021-06-11T07:43:12.971Z"
   },
   {
    "duration": 15,
    "start_time": "2021-06-11T07:43:13.076Z"
   },
   {
    "duration": 35,
    "start_time": "2021-06-11T07:43:13.095Z"
   },
   {
    "duration": 9,
    "start_time": "2021-06-11T07:43:13.162Z"
   },
   {
    "duration": 18,
    "start_time": "2021-06-11T07:43:13.173Z"
   },
   {
    "duration": 13,
    "start_time": "2021-06-11T07:43:13.194Z"
   },
   {
    "duration": 20,
    "start_time": "2021-06-11T07:43:13.209Z"
   },
   {
    "duration": 455,
    "start_time": "2021-06-11T07:43:13.231Z"
   },
   {
    "duration": 12,
    "start_time": "2021-06-11T07:43:13.688Z"
   },
   {
    "duration": 166,
    "start_time": "2021-06-11T07:43:13.703Z"
   },
   {
    "duration": 19,
    "start_time": "2021-06-11T07:43:13.872Z"
   },
   {
    "duration": 17,
    "start_time": "2021-06-11T07:43:13.894Z"
   },
   {
    "duration": 42,
    "start_time": "2021-06-11T07:43:13.923Z"
   },
   {
    "duration": 402,
    "start_time": "2021-06-11T07:43:13.968Z"
   },
   {
    "duration": 11,
    "start_time": "2021-06-11T07:43:14.373Z"
   },
   {
    "duration": 108,
    "start_time": "2021-06-11T07:43:14.387Z"
   },
   {
    "duration": 401,
    "start_time": "2021-06-11T07:43:14.498Z"
   },
   {
    "duration": 11,
    "start_time": "2021-06-11T07:43:14.902Z"
   },
   {
    "duration": 352,
    "start_time": "2021-06-11T07:43:51.179Z"
   },
   {
    "duration": 64,
    "start_time": "2021-06-11T07:43:58.669Z"
   },
   {
    "duration": 253,
    "start_time": "2021-06-11T07:43:59.311Z"
   },
   {
    "duration": 6,
    "start_time": "2021-06-11T07:46:58.989Z"
   },
   {
    "duration": 269,
    "start_time": "2021-06-11T07:47:13.852Z"
   },
   {
    "duration": 10,
    "start_time": "2021-06-11T07:47:44.102Z"
   },
   {
    "duration": 8,
    "start_time": "2021-06-11T07:47:50.759Z"
   },
   {
    "duration": 63,
    "start_time": "2021-06-11T08:08:01.467Z"
   },
   {
    "duration": 15,
    "start_time": "2021-06-11T08:09:42.110Z"
   },
   {
    "duration": 6,
    "start_time": "2021-06-11T08:12:55.606Z"
   },
   {
    "duration": 40,
    "start_time": "2021-06-11T08:12:55.615Z"
   },
   {
    "duration": 19,
    "start_time": "2021-06-11T08:12:55.658Z"
   },
   {
    "duration": 15,
    "start_time": "2021-06-11T08:12:55.680Z"
   },
   {
    "duration": 7,
    "start_time": "2021-06-11T08:12:55.698Z"
   },
   {
    "duration": 9,
    "start_time": "2021-06-11T08:12:55.708Z"
   },
   {
    "duration": 22,
    "start_time": "2021-06-11T08:12:55.762Z"
   },
   {
    "duration": 11,
    "start_time": "2021-06-11T08:12:55.787Z"
   },
   {
    "duration": 5,
    "start_time": "2021-06-11T08:12:55.803Z"
   },
   {
    "duration": 11,
    "start_time": "2021-06-11T08:12:55.864Z"
   },
   {
    "duration": 8,
    "start_time": "2021-06-11T08:12:55.878Z"
   },
   {
    "duration": 39,
    "start_time": "2021-06-11T08:12:55.888Z"
   },
   {
    "duration": 94,
    "start_time": "2021-06-11T08:12:55.930Z"
   },
   {
    "duration": 1324,
    "start_time": "2021-06-11T08:12:56.027Z"
   },
   {
    "duration": 109,
    "start_time": "2021-06-11T08:12:57.353Z"
   },
   {
    "duration": 98,
    "start_time": "2021-06-11T08:12:57.466Z"
   },
   {
    "duration": 10,
    "start_time": "2021-06-11T08:12:57.567Z"
   },
   {
    "duration": 13,
    "start_time": "2021-06-11T08:12:57.580Z"
   },
   {
    "duration": 105,
    "start_time": "2021-06-11T08:12:57.595Z"
   },
   {
    "duration": 64,
    "start_time": "2021-06-11T08:12:57.703Z"
   },
   {
    "duration": 12,
    "start_time": "2021-06-11T08:12:57.862Z"
   },
   {
    "duration": 12,
    "start_time": "2021-06-11T08:12:57.876Z"
   },
   {
    "duration": 96,
    "start_time": "2021-06-11T08:12:57.891Z"
   },
   {
    "duration": 72,
    "start_time": "2021-06-11T08:12:57.990Z"
   },
   {
    "duration": 96,
    "start_time": "2021-06-11T08:12:58.066Z"
   },
   {
    "duration": 8,
    "start_time": "2021-06-11T08:12:58.165Z"
   },
   {
    "duration": 7,
    "start_time": "2021-06-11T08:12:58.179Z"
   },
   {
    "duration": 7,
    "start_time": "2021-06-11T08:12:58.189Z"
   },
   {
    "duration": 8,
    "start_time": "2021-06-11T08:12:58.199Z"
   },
   {
    "duration": 58,
    "start_time": "2021-06-11T08:12:58.209Z"
   },
   {
    "duration": 113,
    "start_time": "2021-06-11T08:12:58.269Z"
   },
   {
    "duration": 99,
    "start_time": "2021-06-11T08:12:58.463Z"
   },
   {
    "duration": 11,
    "start_time": "2021-06-11T08:12:58.565Z"
   },
   {
    "duration": 11,
    "start_time": "2021-06-11T08:12:58.579Z"
   },
   {
    "duration": 6,
    "start_time": "2021-06-11T08:12:58.592Z"
   },
   {
    "duration": 125,
    "start_time": "2021-06-11T08:12:58.600Z"
   },
   {
    "duration": 1848,
    "start_time": "2021-06-11T08:12:58.727Z"
   },
   {
    "duration": 93,
    "start_time": "2021-06-11T08:13:00.577Z"
   },
   {
    "duration": 103,
    "start_time": "2021-06-11T08:13:00.673Z"
   },
   {
    "duration": 21,
    "start_time": "2021-06-11T08:13:00.779Z"
   },
   {
    "duration": 68,
    "start_time": "2021-06-11T08:13:00.802Z"
   },
   {
    "duration": 41,
    "start_time": "2021-06-11T08:13:00.873Z"
   },
   {
    "duration": 54,
    "start_time": "2021-06-11T08:13:00.917Z"
   },
   {
    "duration": 61,
    "start_time": "2021-06-11T08:13:00.973Z"
   },
   {
    "duration": 31,
    "start_time": "2021-06-11T08:13:01.036Z"
   },
   {
    "duration": 440,
    "start_time": "2021-06-11T08:13:01.069Z"
   },
   {
    "duration": 53,
    "start_time": "2021-06-11T08:13:01.512Z"
   },
   {
    "duration": 106,
    "start_time": "2021-06-11T08:13:01.570Z"
   },
   {
    "duration": 22,
    "start_time": "2021-06-11T08:13:01.679Z"
   },
   {
    "duration": 22,
    "start_time": "2021-06-11T08:13:01.704Z"
   },
   {
    "duration": 5,
    "start_time": "2021-06-11T08:13:01.728Z"
   },
   {
    "duration": 295,
    "start_time": "2021-06-11T08:13:01.736Z"
   },
   {
    "duration": 7,
    "start_time": "2021-06-11T08:13:02.034Z"
   },
   {
    "duration": 75,
    "start_time": "2021-06-11T08:13:02.044Z"
   },
   {
    "duration": 269,
    "start_time": "2021-06-11T08:13:02.122Z"
   },
   {
    "duration": 8,
    "start_time": "2021-06-11T08:13:02.394Z"
   },
   {
    "duration": 62,
    "start_time": "2021-06-11T08:13:02.404Z"
   },
   {
    "duration": 367,
    "start_time": "2021-06-11T08:13:02.470Z"
   },
   {
    "duration": 9,
    "start_time": "2021-06-11T08:13:02.839Z"
   },
   {
    "duration": 69,
    "start_time": "2021-06-11T08:13:02.850Z"
   },
   {
    "duration": 41,
    "start_time": "2021-06-11T08:13:02.921Z"
   },
   {
    "duration": 60,
    "start_time": "2021-06-11T08:13:22.001Z"
   },
   {
    "duration": 15,
    "start_time": "2021-06-11T08:13:24.149Z"
   },
   {
    "duration": 52,
    "start_time": "2021-06-11T08:13:50.229Z"
   },
   {
    "duration": 16,
    "start_time": "2021-06-11T08:13:51.360Z"
   },
   {
    "duration": 61,
    "start_time": "2021-06-11T08:13:57.650Z"
   },
   {
    "duration": 15,
    "start_time": "2021-06-11T08:13:58.068Z"
   },
   {
    "duration": 63,
    "start_time": "2021-06-11T08:14:16.355Z"
   },
   {
    "duration": 260,
    "start_time": "2021-06-11T08:14:17.920Z"
   },
   {
    "duration": 9,
    "start_time": "2021-06-11T08:14:21.596Z"
   },
   {
    "duration": 1823,
    "start_time": "2021-06-11T08:15:34.825Z"
   },
   {
    "duration": 59,
    "start_time": "2021-06-11T08:15:47.861Z"
   },
   {
    "duration": 13,
    "start_time": "2021-06-11T08:15:50.001Z"
   },
   {
    "duration": 60,
    "start_time": "2021-06-11T08:19:34.668Z"
   },
   {
    "duration": 14,
    "start_time": "2021-06-11T08:19:35.117Z"
   },
   {
    "duration": 6,
    "start_time": "2021-06-11T08:20:03.838Z"
   },
   {
    "duration": 37,
    "start_time": "2021-06-11T08:20:03.847Z"
   },
   {
    "duration": 18,
    "start_time": "2021-06-11T08:20:03.887Z"
   },
   {
    "duration": 17,
    "start_time": "2021-06-11T08:20:03.908Z"
   },
   {
    "duration": 7,
    "start_time": "2021-06-11T08:20:03.928Z"
   },
   {
    "duration": 6,
    "start_time": "2021-06-11T08:20:03.962Z"
   },
   {
    "duration": 27,
    "start_time": "2021-06-11T08:20:03.970Z"
   },
   {
    "duration": 11,
    "start_time": "2021-06-11T08:20:03.999Z"
   },
   {
    "duration": 49,
    "start_time": "2021-06-11T08:20:04.014Z"
   },
   {
    "duration": 10,
    "start_time": "2021-06-11T08:20:04.066Z"
   },
   {
    "duration": 7,
    "start_time": "2021-06-11T08:20:04.078Z"
   },
   {
    "duration": 75,
    "start_time": "2021-06-11T08:20:04.087Z"
   },
   {
    "duration": 67,
    "start_time": "2021-06-11T08:20:04.164Z"
   },
   {
    "duration": 1199,
    "start_time": "2021-06-11T08:20:04.262Z"
   },
   {
    "duration": 103,
    "start_time": "2021-06-11T08:20:05.464Z"
   },
   {
    "duration": 96,
    "start_time": "2021-06-11T08:20:05.570Z"
   },
   {
    "duration": 14,
    "start_time": "2021-06-11T08:20:05.668Z"
   },
   {
    "duration": 16,
    "start_time": "2021-06-11T08:20:05.684Z"
   },
   {
    "duration": 101,
    "start_time": "2021-06-11T08:20:05.702Z"
   },
   {
    "duration": 159,
    "start_time": "2021-06-11T08:20:05.805Z"
   },
   {
    "duration": 11,
    "start_time": "2021-06-11T08:20:05.967Z"
   },
   {
    "duration": 15,
    "start_time": "2021-06-11T08:20:05.980Z"
   },
   {
    "duration": 97,
    "start_time": "2021-06-11T08:20:05.998Z"
   },
   {
    "duration": 71,
    "start_time": "2021-06-11T08:20:06.098Z"
   },
   {
    "duration": 93,
    "start_time": "2021-06-11T08:20:06.171Z"
   },
   {
    "duration": 12,
    "start_time": "2021-06-11T08:20:06.268Z"
   },
   {
    "duration": 9,
    "start_time": "2021-06-11T08:20:06.289Z"
   },
   {
    "duration": 60,
    "start_time": "2021-06-11T08:20:06.303Z"
   },
   {
    "duration": 10,
    "start_time": "2021-06-11T08:20:06.366Z"
   },
   {
    "duration": 10,
    "start_time": "2021-06-11T08:20:06.379Z"
   },
   {
    "duration": 178,
    "start_time": "2021-06-11T08:20:06.392Z"
   },
   {
    "duration": 13,
    "start_time": "2021-06-11T08:20:06.661Z"
   },
   {
    "duration": 21,
    "start_time": "2021-06-11T08:20:06.676Z"
   },
   {
    "duration": 9,
    "start_time": "2021-06-11T08:20:06.699Z"
   },
   {
    "duration": 54,
    "start_time": "2021-06-11T08:20:06.711Z"
   },
   {
    "duration": 95,
    "start_time": "2021-06-11T08:20:06.767Z"
   },
   {
    "duration": 1696,
    "start_time": "2021-06-11T08:20:06.865Z"
   },
   {
    "duration": 101,
    "start_time": "2021-06-11T08:20:08.564Z"
   },
   {
    "duration": 98,
    "start_time": "2021-06-11T08:20:08.668Z"
   },
   {
    "duration": 12,
    "start_time": "2021-06-11T08:20:08.769Z"
   },
   {
    "duration": 12,
    "start_time": "2021-06-11T08:20:08.783Z"
   },
   {
    "duration": 1750,
    "start_time": "2021-06-11T08:20:08.797Z"
   },
   {
    "duration": 13,
    "start_time": "2021-06-11T08:20:10.549Z"
   },
   {
    "duration": 7,
    "start_time": "2021-06-11T08:20:10.564Z"
   },
   {
    "duration": 12,
    "start_time": "2021-06-11T08:20:10.573Z"
   },
   {
    "duration": 22,
    "start_time": "2021-06-11T08:20:10.587Z"
   },
   {
    "duration": 642,
    "start_time": "2021-06-11T08:20:10.612Z"
   },
   {
    "duration": 14,
    "start_time": "2021-06-11T08:20:11.258Z"
   },
   {
    "duration": 95,
    "start_time": "2021-06-11T08:20:11.274Z"
   },
   {
    "duration": 102,
    "start_time": "2021-06-11T08:20:11.370Z"
   },
   {
    "duration": 14,
    "start_time": "2021-06-11T08:20:11.474Z"
   },
   {
    "duration": 5,
    "start_time": "2021-06-11T08:20:11.490Z"
   },
   {
    "duration": 306,
    "start_time": "2021-06-11T08:20:11.498Z"
   },
   {
    "duration": 8,
    "start_time": "2021-06-11T08:20:11.807Z"
   },
   {
    "duration": 85,
    "start_time": "2021-06-11T08:20:11.817Z"
   },
   {
    "duration": 270,
    "start_time": "2021-06-11T08:20:11.904Z"
   },
   {
    "duration": 7,
    "start_time": "2021-06-11T08:20:12.176Z"
   },
   {
    "duration": 7,
    "start_time": "2021-06-11T08:20:12.186Z"
   },
   {
    "duration": 362,
    "start_time": "2021-06-11T08:20:12.263Z"
   },
   {
    "duration": 8,
    "start_time": "2021-06-11T08:20:12.627Z"
   },
   {
    "duration": 80,
    "start_time": "2021-06-11T08:20:12.637Z"
   },
   {
    "duration": 16,
    "start_time": "2021-06-11T08:20:12.719Z"
   },
   {
    "duration": 6,
    "start_time": "2021-06-11T08:20:32.879Z"
   },
   {
    "duration": 36,
    "start_time": "2021-06-11T08:20:32.889Z"
   },
   {
    "duration": 19,
    "start_time": "2021-06-11T08:20:32.928Z"
   },
   {
    "duration": 21,
    "start_time": "2021-06-11T08:20:32.950Z"
   },
   {
    "duration": 10,
    "start_time": "2021-06-11T08:20:32.973Z"
   },
   {
    "duration": 6,
    "start_time": "2021-06-11T08:20:32.985Z"
   },
   {
    "duration": 72,
    "start_time": "2021-06-11T08:20:32.993Z"
   },
   {
    "duration": 132,
    "start_time": "2021-06-11T08:20:33.068Z"
   },
   {
    "duration": 5,
    "start_time": "2021-06-11T08:20:33.205Z"
   },
   {
    "duration": 11,
    "start_time": "2021-06-11T08:20:33.212Z"
   },
   {
    "duration": 7,
    "start_time": "2021-06-11T08:20:33.226Z"
   },
   {
    "duration": 59,
    "start_time": "2021-06-11T08:20:33.235Z"
   },
   {
    "duration": 90,
    "start_time": "2021-06-11T08:20:33.297Z"
   },
   {
    "duration": 1188,
    "start_time": "2021-06-11T08:20:33.390Z"
   },
   {
    "duration": 84,
    "start_time": "2021-06-11T08:20:34.581Z"
   },
   {
    "duration": 101,
    "start_time": "2021-06-11T08:20:34.668Z"
   },
   {
    "duration": 11,
    "start_time": "2021-06-11T08:20:34.772Z"
   },
   {
    "duration": 11,
    "start_time": "2021-06-11T08:20:34.786Z"
   },
   {
    "duration": 105,
    "start_time": "2021-06-11T08:20:34.799Z"
   },
   {
    "duration": 155,
    "start_time": "2021-06-11T08:20:34.907Z"
   },
   {
    "duration": 15,
    "start_time": "2021-06-11T08:20:35.065Z"
   },
   {
    "duration": 13,
    "start_time": "2021-06-11T08:20:35.082Z"
   },
   {
    "duration": 103,
    "start_time": "2021-06-11T08:20:35.097Z"
   },
   {
    "duration": 73,
    "start_time": "2021-06-11T08:20:35.203Z"
   },
   {
    "duration": 89,
    "start_time": "2021-06-11T08:20:35.278Z"
   },
   {
    "duration": 7,
    "start_time": "2021-06-11T08:20:35.370Z"
   },
   {
    "duration": 7,
    "start_time": "2021-06-11T08:20:35.383Z"
   },
   {
    "duration": 8,
    "start_time": "2021-06-11T08:20:35.462Z"
   },
   {
    "duration": 7,
    "start_time": "2021-06-11T08:20:35.473Z"
   },
   {
    "duration": 9,
    "start_time": "2021-06-11T08:20:35.482Z"
   },
   {
    "duration": 169,
    "start_time": "2021-06-11T08:20:35.493Z"
   },
   {
    "duration": 104,
    "start_time": "2021-06-11T08:20:35.665Z"
   },
   {
    "duration": 13,
    "start_time": "2021-06-11T08:20:35.773Z"
   },
   {
    "duration": 11,
    "start_time": "2021-06-11T08:20:35.789Z"
   },
   {
    "duration": 5,
    "start_time": "2021-06-11T08:20:35.804Z"
   },
   {
    "duration": 135,
    "start_time": "2021-06-11T08:20:35.812Z"
   },
   {
    "duration": 1749,
    "start_time": "2021-06-11T08:20:35.950Z"
   },
   {
    "duration": 59,
    "start_time": "2021-06-11T08:20:37.703Z"
   },
   {
    "duration": 108,
    "start_time": "2021-06-11T08:20:37.765Z"
   },
   {
    "duration": 18,
    "start_time": "2021-06-11T08:20:37.876Z"
   },
   {
    "duration": 15,
    "start_time": "2021-06-11T08:20:37.897Z"
   },
   {
    "duration": 1629,
    "start_time": "2021-06-11T08:20:37.914Z"
   },
   {
    "duration": 16,
    "start_time": "2021-06-11T08:20:39.545Z"
   },
   {
    "duration": 7,
    "start_time": "2021-06-11T08:20:39.564Z"
   },
   {
    "duration": 11,
    "start_time": "2021-06-11T08:20:39.573Z"
   },
   {
    "duration": 20,
    "start_time": "2021-06-11T08:20:39.588Z"
   },
   {
    "duration": 459,
    "start_time": "2021-06-11T08:20:39.611Z"
   },
   {
    "duration": 92,
    "start_time": "2021-06-11T08:20:40.072Z"
   },
   {
    "duration": 105,
    "start_time": "2021-06-11T08:20:40.167Z"
   },
   {
    "duration": 13,
    "start_time": "2021-06-11T08:20:40.274Z"
   },
   {
    "duration": 13,
    "start_time": "2021-06-11T08:20:40.290Z"
   },
   {
    "duration": 56,
    "start_time": "2021-06-11T08:20:40.306Z"
   },
   {
    "duration": 280,
    "start_time": "2021-06-11T08:20:40.365Z"
   },
   {
    "duration": 16,
    "start_time": "2021-06-11T08:20:40.647Z"
   },
   {
    "duration": 61,
    "start_time": "2021-06-11T08:20:40.666Z"
   },
   {
    "duration": 289,
    "start_time": "2021-06-11T08:20:40.729Z"
   },
   {
    "duration": 8,
    "start_time": "2021-06-11T08:20:41.020Z"
   },
   {
    "duration": 36,
    "start_time": "2021-06-11T08:20:41.030Z"
   },
   {
    "duration": 353,
    "start_time": "2021-06-11T08:20:41.162Z"
   },
   {
    "duration": 11,
    "start_time": "2021-06-11T08:20:41.518Z"
   },
   {
    "duration": 103,
    "start_time": "2021-06-11T08:20:41.532Z"
   },
   {
    "duration": 27,
    "start_time": "2021-06-11T08:20:41.638Z"
   },
   {
    "duration": 6,
    "start_time": "2021-06-11T08:21:01.031Z"
   },
   {
    "duration": 40,
    "start_time": "2021-06-11T08:21:01.039Z"
   },
   {
    "duration": 18,
    "start_time": "2021-06-11T08:21:01.083Z"
   },
   {
    "duration": 20,
    "start_time": "2021-06-11T08:21:01.105Z"
   },
   {
    "duration": 41,
    "start_time": "2021-06-11T08:21:01.127Z"
   },
   {
    "duration": 11,
    "start_time": "2021-06-11T08:21:01.171Z"
   },
   {
    "duration": 27,
    "start_time": "2021-06-11T08:21:01.185Z"
   },
   {
    "duration": 52,
    "start_time": "2021-06-11T08:21:01.215Z"
   },
   {
    "duration": 5,
    "start_time": "2021-06-11T08:21:01.271Z"
   },
   {
    "duration": 30,
    "start_time": "2021-06-11T08:21:01.279Z"
   },
   {
    "duration": 8,
    "start_time": "2021-06-11T08:21:01.319Z"
   },
   {
    "duration": 60,
    "start_time": "2021-06-11T08:21:01.329Z"
   },
   {
    "duration": 77,
    "start_time": "2021-06-11T08:21:01.392Z"
   },
   {
    "duration": 1303,
    "start_time": "2021-06-11T08:21:01.471Z"
   },
   {
    "duration": 88,
    "start_time": "2021-06-11T08:21:02.776Z"
   },
   {
    "duration": 101,
    "start_time": "2021-06-11T08:21:02.867Z"
   },
   {
    "duration": 11,
    "start_time": "2021-06-11T08:21:02.970Z"
   },
   {
    "duration": 15,
    "start_time": "2021-06-11T08:21:02.983Z"
   },
   {
    "duration": 96,
    "start_time": "2021-06-11T08:21:03.000Z"
   },
   {
    "duration": 70,
    "start_time": "2021-06-11T08:21:03.099Z"
   },
   {
    "duration": 101,
    "start_time": "2021-06-11T08:21:03.173Z"
   },
   {
    "duration": 13,
    "start_time": "2021-06-11T08:21:03.278Z"
   },
   {
    "duration": 102,
    "start_time": "2021-06-11T08:21:03.293Z"
   },
   {
    "duration": 74,
    "start_time": "2021-06-11T08:21:03.398Z"
   },
   {
    "duration": 93,
    "start_time": "2021-06-11T08:21:03.475Z"
   },
   {
    "duration": 9,
    "start_time": "2021-06-11T08:21:03.570Z"
   },
   {
    "duration": 8,
    "start_time": "2021-06-11T08:21:03.585Z"
   },
   {
    "duration": 8,
    "start_time": "2021-06-11T08:21:03.596Z"
   },
   {
    "duration": 57,
    "start_time": "2021-06-11T08:21:03.607Z"
   },
   {
    "duration": 9,
    "start_time": "2021-06-11T08:21:03.666Z"
   },
   {
    "duration": 114,
    "start_time": "2021-06-11T08:21:03.677Z"
   },
   {
    "duration": 102,
    "start_time": "2021-06-11T08:21:03.864Z"
   },
   {
    "duration": 9,
    "start_time": "2021-06-11T08:21:03.969Z"
   },
   {
    "duration": 8,
    "start_time": "2021-06-11T08:21:03.980Z"
   },
   {
    "duration": 4,
    "start_time": "2021-06-11T08:21:03.990Z"
   },
   {
    "duration": 104,
    "start_time": "2021-06-11T08:21:03.997Z"
   },
   {
    "duration": 1365,
    "start_time": "2021-06-11T08:21:04.104Z"
   },
   {
    "duration": 18,
    "start_time": "2021-06-11T08:21:05.471Z"
   },
   {
    "duration": 169,
    "start_time": "2021-06-11T08:21:05.493Z"
   },
   {
    "duration": 19,
    "start_time": "2021-06-11T08:21:05.664Z"
   },
   {
    "duration": 13,
    "start_time": "2021-06-11T08:21:05.685Z"
   },
   {
    "duration": 1362,
    "start_time": "2021-06-11T08:21:05.700Z"
   },
   {
    "duration": 7,
    "start_time": "2021-06-11T08:21:07.064Z"
   },
   {
    "duration": 9,
    "start_time": "2021-06-11T08:21:07.073Z"
   },
   {
    "duration": 10,
    "start_time": "2021-06-11T08:21:07.085Z"
   },
   {
    "duration": 21,
    "start_time": "2021-06-11T08:21:07.097Z"
   },
   {
    "duration": 447,
    "start_time": "2021-06-11T08:21:07.120Z"
   },
   {
    "duration": 18,
    "start_time": "2021-06-11T08:21:07.569Z"
   },
   {
    "duration": 176,
    "start_time": "2021-06-11T08:21:07.590Z"
   },
   {
    "duration": 14,
    "start_time": "2021-06-11T08:21:07.769Z"
   },
   {
    "duration": 14,
    "start_time": "2021-06-11T08:21:07.786Z"
   },
   {
    "duration": 5,
    "start_time": "2021-06-11T08:21:07.802Z"
   },
   {
    "duration": 310,
    "start_time": "2021-06-11T08:21:07.810Z"
   },
   {
    "duration": 8,
    "start_time": "2021-06-11T08:21:08.122Z"
   },
   {
    "duration": 85,
    "start_time": "2021-06-11T08:21:08.133Z"
   },
   {
    "duration": 273,
    "start_time": "2021-06-11T08:21:08.220Z"
   },
   {
    "duration": 8,
    "start_time": "2021-06-11T08:21:08.496Z"
   },
   {
    "duration": 58,
    "start_time": "2021-06-11T08:21:08.507Z"
   },
   {
    "duration": 398,
    "start_time": "2021-06-11T08:21:08.567Z"
   },
   {
    "duration": 11,
    "start_time": "2021-06-11T08:21:08.967Z"
   },
   {
    "duration": 102,
    "start_time": "2021-06-11T08:21:08.981Z"
   },
   {
    "duration": 18,
    "start_time": "2021-06-11T08:21:09.087Z"
   },
   {
    "duration": 7,
    "start_time": "2021-06-11T08:21:30.263Z"
   },
   {
    "duration": 50,
    "start_time": "2021-06-11T08:21:30.272Z"
   },
   {
    "duration": 46,
    "start_time": "2021-06-11T08:21:30.325Z"
   },
   {
    "duration": 21,
    "start_time": "2021-06-11T08:21:30.374Z"
   },
   {
    "duration": 7,
    "start_time": "2021-06-11T08:21:30.398Z"
   },
   {
    "duration": 17,
    "start_time": "2021-06-11T08:21:30.407Z"
   },
   {
    "duration": 39,
    "start_time": "2021-06-11T08:21:30.462Z"
   },
   {
    "duration": 17,
    "start_time": "2021-06-11T08:21:30.504Z"
   },
   {
    "duration": 19,
    "start_time": "2021-06-11T08:21:30.527Z"
   },
   {
    "duration": 31,
    "start_time": "2021-06-11T08:21:30.550Z"
   },
   {
    "duration": 29,
    "start_time": "2021-06-11T08:21:30.584Z"
   },
   {
    "duration": 71,
    "start_time": "2021-06-11T08:21:30.615Z"
   },
   {
    "duration": 79,
    "start_time": "2021-06-11T08:21:30.688Z"
   },
   {
    "duration": 1207,
    "start_time": "2021-06-11T08:21:30.769Z"
   },
   {
    "duration": 87,
    "start_time": "2021-06-11T08:21:31.978Z"
   },
   {
    "duration": 99,
    "start_time": "2021-06-11T08:21:32.069Z"
   },
   {
    "duration": 8,
    "start_time": "2021-06-11T08:21:32.170Z"
   },
   {
    "duration": 13,
    "start_time": "2021-06-11T08:21:32.180Z"
   },
   {
    "duration": 103,
    "start_time": "2021-06-11T08:21:32.196Z"
   },
   {
    "duration": 62,
    "start_time": "2021-06-11T08:21:32.302Z"
   },
   {
    "duration": 13,
    "start_time": "2021-06-11T08:21:32.463Z"
   },
   {
    "duration": 12,
    "start_time": "2021-06-11T08:21:32.479Z"
   },
   {
    "duration": 110,
    "start_time": "2021-06-11T08:21:32.494Z"
   },
   {
    "duration": 60,
    "start_time": "2021-06-11T08:21:32.607Z"
   },
   {
    "duration": 94,
    "start_time": "2021-06-11T08:21:32.671Z"
   },
   {
    "duration": 8,
    "start_time": "2021-06-11T08:21:32.768Z"
   },
   {
    "duration": 8,
    "start_time": "2021-06-11T08:21:32.782Z"
   },
   {
    "duration": 8,
    "start_time": "2021-06-11T08:21:32.793Z"
   },
   {
    "duration": 60,
    "start_time": "2021-06-11T08:21:32.803Z"
   },
   {
    "duration": 7,
    "start_time": "2021-06-11T08:21:32.865Z"
   },
   {
    "duration": 186,
    "start_time": "2021-06-11T08:21:32.875Z"
   },
   {
    "duration": 106,
    "start_time": "2021-06-11T08:21:33.064Z"
   },
   {
    "duration": 12,
    "start_time": "2021-06-11T08:21:33.173Z"
   },
   {
    "duration": 8,
    "start_time": "2021-06-11T08:21:33.187Z"
   },
   {
    "duration": 6,
    "start_time": "2021-06-11T08:21:33.197Z"
   },
   {
    "duration": 126,
    "start_time": "2021-06-11T08:21:33.205Z"
   },
   {
    "duration": 1718,
    "start_time": "2021-06-11T08:21:33.334Z"
   },
   {
    "duration": 111,
    "start_time": "2021-06-11T08:21:35.054Z"
   },
   {
    "duration": 105,
    "start_time": "2021-06-11T08:21:35.168Z"
   },
   {
    "duration": 13,
    "start_time": "2021-06-11T08:21:35.276Z"
   },
   {
    "duration": 14,
    "start_time": "2021-06-11T08:21:35.292Z"
   },
   {
    "duration": 1753,
    "start_time": "2021-06-11T08:21:35.309Z"
   },
   {
    "duration": 7,
    "start_time": "2021-06-11T08:21:37.065Z"
   },
   {
    "duration": 12,
    "start_time": "2021-06-11T08:21:37.074Z"
   },
   {
    "duration": 11,
    "start_time": "2021-06-11T08:21:37.089Z"
   },
   {
    "duration": 24,
    "start_time": "2021-06-11T08:21:37.102Z"
   },
   {
    "duration": 452,
    "start_time": "2021-06-11T08:21:37.128Z"
   },
   {
    "duration": 81,
    "start_time": "2021-06-11T08:21:37.582Z"
   },
   {
    "duration": 103,
    "start_time": "2021-06-11T08:21:37.667Z"
   },
   {
    "duration": 17,
    "start_time": "2021-06-11T08:21:37.773Z"
   },
   {
    "duration": 14,
    "start_time": "2021-06-11T08:21:37.792Z"
   },
   {
    "duration": 5,
    "start_time": "2021-06-11T08:21:37.808Z"
   },
   {
    "duration": 315,
    "start_time": "2021-06-11T08:21:37.815Z"
   },
   {
    "duration": 8,
    "start_time": "2021-06-11T08:21:38.132Z"
   },
   {
    "duration": 81,
    "start_time": "2021-06-11T08:21:38.142Z"
   },
   {
    "duration": 270,
    "start_time": "2021-06-11T08:21:38.225Z"
   },
   {
    "duration": 8,
    "start_time": "2021-06-11T08:21:38.497Z"
   },
   {
    "duration": 58,
    "start_time": "2021-06-11T08:21:38.507Z"
   },
   {
    "duration": 362,
    "start_time": "2021-06-11T08:21:38.568Z"
   },
   {
    "duration": 8,
    "start_time": "2021-06-11T08:21:38.932Z"
   },
   {
    "duration": 74,
    "start_time": "2021-06-11T08:21:38.942Z"
   },
   {
    "duration": 14,
    "start_time": "2021-06-11T08:21:39.018Z"
   },
   {
    "duration": 6,
    "start_time": "2021-06-11T08:23:33.522Z"
   },
   {
    "duration": 40,
    "start_time": "2021-06-11T08:23:33.531Z"
   },
   {
    "duration": 19,
    "start_time": "2021-06-11T08:23:33.573Z"
   },
   {
    "duration": 14,
    "start_time": "2021-06-11T08:23:33.595Z"
   },
   {
    "duration": 8,
    "start_time": "2021-06-11T08:23:33.612Z"
   },
   {
    "duration": 6,
    "start_time": "2021-06-11T08:23:33.662Z"
   },
   {
    "duration": 26,
    "start_time": "2021-06-11T08:23:33.671Z"
   },
   {
    "duration": 13,
    "start_time": "2021-06-11T08:23:33.700Z"
   },
   {
    "duration": 6,
    "start_time": "2021-06-11T08:23:33.716Z"
   },
   {
    "duration": 11,
    "start_time": "2021-06-11T08:23:33.763Z"
   },
   {
    "duration": 11,
    "start_time": "2021-06-11T08:23:33.776Z"
   },
   {
    "duration": 76,
    "start_time": "2021-06-11T08:23:33.789Z"
   },
   {
    "duration": 65,
    "start_time": "2021-06-11T08:23:33.867Z"
   },
   {
    "duration": 1201,
    "start_time": "2021-06-11T08:23:33.962Z"
   },
   {
    "duration": 99,
    "start_time": "2021-06-11T08:23:35.165Z"
   },
   {
    "duration": 100,
    "start_time": "2021-06-11T08:23:35.267Z"
   },
   {
    "duration": 13,
    "start_time": "2021-06-11T08:23:35.370Z"
   },
   {
    "duration": 29,
    "start_time": "2021-06-11T08:23:35.386Z"
   },
   {
    "duration": 82,
    "start_time": "2021-06-11T08:23:35.420Z"
   },
   {
    "duration": 60,
    "start_time": "2021-06-11T08:23:35.505Z"
   },
   {
    "duration": 100,
    "start_time": "2021-06-11T08:23:35.568Z"
   },
   {
    "duration": 15,
    "start_time": "2021-06-11T08:23:35.670Z"
   },
   {
    "duration": 114,
    "start_time": "2021-06-11T08:23:35.688Z"
   },
   {
    "duration": 65,
    "start_time": "2021-06-11T08:23:35.805Z"
   },
   {
    "duration": 7,
    "start_time": "2021-06-11T08:23:35.963Z"
   },
   {
    "duration": 15,
    "start_time": "2021-06-11T08:23:35.972Z"
   },
   {
    "duration": 11,
    "start_time": "2021-06-11T08:23:35.990Z"
   },
   {
    "duration": 12,
    "start_time": "2021-06-11T08:23:36.003Z"
   },
   {
    "duration": 44,
    "start_time": "2021-06-11T08:23:36.018Z"
   },
   {
    "duration": 7,
    "start_time": "2021-06-11T08:23:36.064Z"
   },
   {
    "duration": 109,
    "start_time": "2021-06-11T08:23:36.073Z"
   },
   {
    "duration": 99,
    "start_time": "2021-06-11T08:23:36.263Z"
   },
   {
    "duration": 12,
    "start_time": "2021-06-11T08:23:36.365Z"
   },
   {
    "duration": 11,
    "start_time": "2021-06-11T08:23:36.379Z"
   },
   {
    "duration": 9,
    "start_time": "2021-06-11T08:23:36.392Z"
   },
   {
    "duration": 104,
    "start_time": "2021-06-11T08:23:36.403Z"
   },
   {
    "duration": 1717,
    "start_time": "2021-06-11T08:23:36.510Z"
   },
   {
    "duration": 60,
    "start_time": "2021-06-11T08:23:38.230Z"
   },
   {
    "duration": 172,
    "start_time": "2021-06-11T08:23:38.291Z"
   },
   {
    "duration": 15,
    "start_time": "2021-06-11T08:23:38.466Z"
   },
   {
    "duration": 15,
    "start_time": "2021-06-11T08:23:38.484Z"
   },
   {
    "duration": 1729,
    "start_time": "2021-06-11T08:23:38.501Z"
   },
   {
    "duration": 7,
    "start_time": "2021-06-11T08:23:40.233Z"
   },
   {
    "duration": 20,
    "start_time": "2021-06-11T08:23:40.242Z"
   },
   {
    "duration": 27,
    "start_time": "2021-06-11T08:23:40.265Z"
   },
   {
    "duration": 20,
    "start_time": "2021-06-11T08:23:40.295Z"
   },
   {
    "duration": 436,
    "start_time": "2021-06-11T08:23:40.317Z"
   },
   {
    "duration": 16,
    "start_time": "2021-06-11T08:23:40.756Z"
   },
   {
    "duration": 190,
    "start_time": "2021-06-11T08:23:40.776Z"
   },
   {
    "duration": 16,
    "start_time": "2021-06-11T08:23:40.969Z"
   },
   {
    "duration": 14,
    "start_time": "2021-06-11T08:23:40.987Z"
   },
   {
    "duration": 7,
    "start_time": "2021-06-11T08:23:41.004Z"
   },
   {
    "duration": 318,
    "start_time": "2021-06-11T08:23:41.013Z"
   },
   {
    "duration": 11,
    "start_time": "2021-06-11T08:23:41.334Z"
   },
   {
    "duration": 63,
    "start_time": "2021-06-11T08:23:41.367Z"
   },
   {
    "duration": 294,
    "start_time": "2021-06-11T08:23:41.433Z"
   },
   {
    "duration": 11,
    "start_time": "2021-06-11T08:23:41.730Z"
   },
   {
    "duration": 11,
    "start_time": "2021-06-11T08:23:41.762Z"
   },
   {
    "duration": 539,
    "start_time": "2021-06-11T08:23:41.787Z"
   },
   {
    "duration": 10,
    "start_time": "2021-06-11T08:23:42.328Z"
   },
   {
    "duration": 102,
    "start_time": "2021-06-11T08:23:42.341Z"
   },
   {
    "duration": 31,
    "start_time": "2021-06-11T08:23:42.446Z"
   },
   {
    "duration": 8,
    "start_time": "2021-06-11T08:23:59.102Z"
   },
   {
    "duration": 40,
    "start_time": "2021-06-11T08:23:59.114Z"
   },
   {
    "duration": 18,
    "start_time": "2021-06-11T08:23:59.157Z"
   },
   {
    "duration": 12,
    "start_time": "2021-06-11T08:23:59.178Z"
   },
   {
    "duration": 7,
    "start_time": "2021-06-11T08:23:59.193Z"
   },
   {
    "duration": 5,
    "start_time": "2021-06-11T08:23:59.203Z"
   },
   {
    "duration": 73,
    "start_time": "2021-06-11T08:23:59.210Z"
   },
   {
    "duration": 11,
    "start_time": "2021-06-11T08:23:59.285Z"
   },
   {
    "duration": 20,
    "start_time": "2021-06-11T08:23:59.298Z"
   },
   {
    "duration": 13,
    "start_time": "2021-06-11T08:23:59.321Z"
   },
   {
    "duration": 6,
    "start_time": "2021-06-11T08:23:59.337Z"
   },
   {
    "duration": 35,
    "start_time": "2021-06-11T08:23:59.363Z"
   },
   {
    "duration": 101,
    "start_time": "2021-06-11T08:23:59.400Z"
   },
   {
    "duration": 1247,
    "start_time": "2021-06-11T08:23:59.503Z"
   },
   {
    "duration": 28,
    "start_time": "2021-06-11T08:24:00.752Z"
   },
   {
    "duration": 87,
    "start_time": "2021-06-11T08:24:00.784Z"
   },
   {
    "duration": 103,
    "start_time": "2021-06-11T08:24:00.874Z"
   },
   {
    "duration": 34,
    "start_time": "2021-06-11T08:24:00.980Z"
   },
   {
    "duration": 99,
    "start_time": "2021-06-11T08:24:01.017Z"
   },
   {
    "duration": 54,
    "start_time": "2021-06-11T08:24:01.123Z"
   },
   {
    "duration": 17,
    "start_time": "2021-06-11T08:24:01.265Z"
   },
   {
    "duration": 84,
    "start_time": "2021-06-11T08:24:01.285Z"
   },
   {
    "duration": 72,
    "start_time": "2021-06-11T08:24:01.371Z"
   },
   {
    "duration": 116,
    "start_time": "2021-06-11T08:24:01.446Z"
   },
   {
    "duration": 95,
    "start_time": "2021-06-11T08:24:01.568Z"
   },
   {
    "duration": 12,
    "start_time": "2021-06-11T08:24:01.666Z"
   },
   {
    "duration": 7,
    "start_time": "2021-06-11T08:24:01.681Z"
   },
   {
    "duration": 24,
    "start_time": "2021-06-11T08:24:01.690Z"
   },
   {
    "duration": 13,
    "start_time": "2021-06-11T08:24:01.716Z"
   },
   {
    "duration": 33,
    "start_time": "2021-06-11T08:24:01.731Z"
   },
   {
    "duration": 110,
    "start_time": "2021-06-11T08:24:01.766Z"
   },
   {
    "duration": 103,
    "start_time": "2021-06-11T08:24:01.965Z"
   },
   {
    "duration": 11,
    "start_time": "2021-06-11T08:24:02.071Z"
   },
   {
    "duration": 9,
    "start_time": "2021-06-11T08:24:02.085Z"
   },
   {
    "duration": 20,
    "start_time": "2021-06-11T08:24:02.097Z"
   },
   {
    "duration": 97,
    "start_time": "2021-06-11T08:24:02.119Z"
   },
   {
    "duration": 1821,
    "start_time": "2021-06-11T08:24:02.218Z"
   },
   {
    "duration": 122,
    "start_time": "2021-06-11T08:24:04.041Z"
   },
   {
    "duration": 105,
    "start_time": "2021-06-11T08:24:04.167Z"
   },
   {
    "duration": 14,
    "start_time": "2021-06-11T08:24:04.275Z"
   },
   {
    "duration": 15,
    "start_time": "2021-06-11T08:24:04.291Z"
   },
   {
    "duration": 1771,
    "start_time": "2021-06-11T08:24:04.308Z"
   },
   {
    "duration": 7,
    "start_time": "2021-06-11T08:24:06.081Z"
   },
   {
    "duration": 11,
    "start_time": "2021-06-11T08:24:06.090Z"
   },
   {
    "duration": 13,
    "start_time": "2021-06-11T08:24:06.103Z"
   },
   {
    "duration": 47,
    "start_time": "2021-06-11T08:24:06.118Z"
   },
   {
    "duration": 431,
    "start_time": "2021-06-11T08:24:06.171Z"
   },
   {
    "duration": 61,
    "start_time": "2021-06-11T08:24:06.605Z"
   },
   {
    "duration": 103,
    "start_time": "2021-06-11T08:24:06.669Z"
   },
   {
    "duration": 14,
    "start_time": "2021-06-11T08:24:06.775Z"
   },
   {
    "duration": 78,
    "start_time": "2021-06-11T08:24:06.791Z"
   },
   {
    "duration": 5,
    "start_time": "2021-06-11T08:24:06.871Z"
   },
   {
    "duration": 294,
    "start_time": "2021-06-11T08:24:06.879Z"
   },
   {
    "duration": 8,
    "start_time": "2021-06-11T08:24:07.176Z"
   },
   {
    "duration": 78,
    "start_time": "2021-06-11T08:24:07.187Z"
   },
   {
    "duration": 278,
    "start_time": "2021-06-11T08:24:07.268Z"
   },
   {
    "duration": 16,
    "start_time": "2021-06-11T08:24:07.549Z"
   },
   {
    "duration": 11,
    "start_time": "2021-06-11T08:24:07.568Z"
   },
   {
    "duration": 490,
    "start_time": "2021-06-11T08:24:07.662Z"
   },
   {
    "duration": 12,
    "start_time": "2021-06-11T08:24:08.163Z"
   },
   {
    "duration": 99,
    "start_time": "2021-06-11T08:24:08.178Z"
   },
   {
    "duration": 19,
    "start_time": "2021-06-11T08:24:08.280Z"
   },
   {
    "duration": 315,
    "start_time": "2021-06-11T08:25:17.525Z"
   },
   {
    "duration": 343,
    "start_time": "2021-06-11T08:25:46.565Z"
   },
   {
    "duration": 349,
    "start_time": "2021-06-11T08:26:29.996Z"
   },
   {
    "duration": 6,
    "start_time": "2021-06-11T08:26:33.039Z"
   },
   {
    "duration": 38,
    "start_time": "2021-06-11T08:26:33.048Z"
   },
   {
    "duration": 18,
    "start_time": "2021-06-11T08:26:33.089Z"
   },
   {
    "duration": 16,
    "start_time": "2021-06-11T08:26:33.110Z"
   },
   {
    "duration": 34,
    "start_time": "2021-06-11T08:26:33.128Z"
   },
   {
    "duration": 6,
    "start_time": "2021-06-11T08:26:33.164Z"
   },
   {
    "duration": 36,
    "start_time": "2021-06-11T08:26:33.174Z"
   },
   {
    "duration": 12,
    "start_time": "2021-06-11T08:26:33.213Z"
   },
   {
    "duration": 7,
    "start_time": "2021-06-11T08:26:33.261Z"
   },
   {
    "duration": 11,
    "start_time": "2021-06-11T08:26:33.270Z"
   },
   {
    "duration": 4,
    "start_time": "2021-06-11T08:26:33.283Z"
   },
   {
    "duration": 83,
    "start_time": "2021-06-11T08:26:33.289Z"
   },
   {
    "duration": 49,
    "start_time": "2021-06-11T08:26:33.375Z"
   },
   {
    "duration": 1001,
    "start_time": "2021-06-11T08:26:33.461Z"
   },
   {
    "duration": 100,
    "start_time": "2021-06-11T08:26:34.464Z"
   },
   {
    "duration": 99,
    "start_time": "2021-06-11T08:26:34.567Z"
   },
   {
    "duration": 9,
    "start_time": "2021-06-11T08:26:34.671Z"
   },
   {
    "duration": 19,
    "start_time": "2021-06-11T08:26:34.683Z"
   },
   {
    "duration": 99,
    "start_time": "2021-06-11T08:26:34.704Z"
   },
   {
    "duration": 61,
    "start_time": "2021-06-11T08:26:34.805Z"
   },
   {
    "duration": 106,
    "start_time": "2021-06-11T08:26:34.868Z"
   },
   {
    "duration": 13,
    "start_time": "2021-06-11T08:26:34.977Z"
   },
   {
    "duration": 100,
    "start_time": "2021-06-11T08:26:34.992Z"
   },
   {
    "duration": 74,
    "start_time": "2021-06-11T08:26:35.094Z"
   },
   {
    "duration": 94,
    "start_time": "2021-06-11T08:26:35.171Z"
   },
   {
    "duration": 16,
    "start_time": "2021-06-11T08:26:35.267Z"
   },
   {
    "duration": 8,
    "start_time": "2021-06-11T08:26:35.285Z"
   },
   {
    "duration": 8,
    "start_time": "2021-06-11T08:26:35.295Z"
   },
   {
    "duration": 10,
    "start_time": "2021-06-11T08:26:35.305Z"
   },
   {
    "duration": 8,
    "start_time": "2021-06-11T08:26:35.363Z"
   },
   {
    "duration": 93,
    "start_time": "2021-06-11T08:26:35.373Z"
   },
   {
    "duration": 102,
    "start_time": "2021-06-11T08:26:35.470Z"
   },
   {
    "duration": 11,
    "start_time": "2021-06-11T08:26:35.575Z"
   },
   {
    "duration": 10,
    "start_time": "2021-06-11T08:26:35.589Z"
   },
   {
    "duration": 5,
    "start_time": "2021-06-11T08:26:35.602Z"
   },
   {
    "duration": 117,
    "start_time": "2021-06-11T08:26:35.610Z"
   },
   {
    "duration": 2325,
    "start_time": "2021-06-11T08:26:35.730Z"
   },
   {
    "duration": 107,
    "start_time": "2021-06-11T08:26:38.058Z"
   },
   {
    "duration": 106,
    "start_time": "2021-06-11T08:26:38.169Z"
   },
   {
    "duration": 15,
    "start_time": "2021-06-11T08:26:38.277Z"
   },
   {
    "duration": 17,
    "start_time": "2021-06-11T08:26:38.363Z"
   },
   {
    "duration": 1465,
    "start_time": "2021-06-11T08:26:38.383Z"
   },
   {
    "duration": 11,
    "start_time": "2021-06-11T08:26:39.851Z"
   },
   {
    "duration": 10,
    "start_time": "2021-06-11T08:26:39.864Z"
   },
   {
    "duration": 10,
    "start_time": "2021-06-11T08:26:39.877Z"
   },
   {
    "duration": 15,
    "start_time": "2021-06-11T08:26:39.894Z"
   },
   {
    "duration": 423,
    "start_time": "2021-06-11T08:26:39.912Z"
   },
   {
    "duration": 36,
    "start_time": "2021-06-11T08:26:40.338Z"
   },
   {
    "duration": 106,
    "start_time": "2021-06-11T08:26:40.464Z"
   },
   {
    "duration": 14,
    "start_time": "2021-06-11T08:26:40.572Z"
   },
   {
    "duration": 16,
    "start_time": "2021-06-11T08:26:40.589Z"
   },
   {
    "duration": 6,
    "start_time": "2021-06-11T08:26:40.607Z"
   },
   {
    "duration": 315,
    "start_time": "2021-06-11T08:26:40.616Z"
   },
   {
    "duration": 8,
    "start_time": "2021-06-11T08:26:40.934Z"
   },
   {
    "duration": 76,
    "start_time": "2021-06-11T08:26:40.944Z"
   },
   {
    "duration": 273,
    "start_time": "2021-06-11T08:26:41.022Z"
   },
   {
    "duration": 8,
    "start_time": "2021-06-11T08:26:41.298Z"
   },
   {
    "duration": 53,
    "start_time": "2021-06-11T08:26:41.308Z"
   },
   {
    "duration": 373,
    "start_time": "2021-06-11T08:26:41.365Z"
   },
   {
    "duration": 8,
    "start_time": "2021-06-11T08:26:41.741Z"
   },
   {
    "duration": 62,
    "start_time": "2021-06-11T08:26:41.762Z"
   },
   {
    "duration": 36,
    "start_time": "2021-06-11T08:26:41.826Z"
   },
   {
    "duration": 6,
    "start_time": "2021-06-11T08:27:53.434Z"
   },
   {
    "duration": 43,
    "start_time": "2021-06-11T08:27:53.449Z"
   },
   {
    "duration": 18,
    "start_time": "2021-06-11T08:27:53.495Z"
   },
   {
    "duration": 32,
    "start_time": "2021-06-11T08:27:53.516Z"
   },
   {
    "duration": 8,
    "start_time": "2021-06-11T08:27:53.562Z"
   },
   {
    "duration": 7,
    "start_time": "2021-06-11T08:27:53.572Z"
   },
   {
    "duration": 31,
    "start_time": "2021-06-11T08:27:53.581Z"
   },
   {
    "duration": 52,
    "start_time": "2021-06-11T08:27:53.615Z"
   },
   {
    "duration": 5,
    "start_time": "2021-06-11T08:27:53.670Z"
   },
   {
    "duration": 14,
    "start_time": "2021-06-11T08:27:53.679Z"
   },
   {
    "duration": 10,
    "start_time": "2021-06-11T08:27:53.696Z"
   },
   {
    "duration": 79,
    "start_time": "2021-06-11T08:27:53.708Z"
   },
   {
    "duration": 86,
    "start_time": "2021-06-11T08:27:53.790Z"
   },
   {
    "duration": 1290,
    "start_time": "2021-06-11T08:27:53.878Z"
   },
   {
    "duration": 98,
    "start_time": "2021-06-11T08:27:55.171Z"
   },
   {
    "duration": 11,
    "start_time": "2021-06-11T08:27:55.361Z"
   },
   {
    "duration": 17,
    "start_time": "2021-06-11T08:27:55.374Z"
   },
   {
    "duration": 16,
    "start_time": "2021-06-11T08:27:55.393Z"
   },
   {
    "duration": 54,
    "start_time": "2021-06-11T08:27:55.411Z"
   },
   {
    "duration": 96,
    "start_time": "2021-06-11T08:27:55.467Z"
   },
   {
    "duration": 102,
    "start_time": "2021-06-11T08:27:55.567Z"
   },
   {
    "duration": 17,
    "start_time": "2021-06-11T08:27:55.672Z"
   },
   {
    "duration": 55,
    "start_time": "2021-06-11T08:27:55.691Z"
   },
   {
    "duration": 113,
    "start_time": "2021-06-11T08:27:55.749Z"
   },
   {
    "duration": 8,
    "start_time": "2021-06-11T08:27:55.864Z"
   },
   {
    "duration": 91,
    "start_time": "2021-06-11T08:27:55.875Z"
   },
   {
    "duration": 15,
    "start_time": "2021-06-11T08:27:55.969Z"
   },
   {
    "duration": 18,
    "start_time": "2021-06-11T08:27:55.990Z"
   },
   {
    "duration": 51,
    "start_time": "2021-06-11T08:27:56.011Z"
   },
   {
    "duration": 8,
    "start_time": "2021-06-11T08:27:56.064Z"
   },
   {
    "duration": 100,
    "start_time": "2021-06-11T08:27:56.074Z"
   },
   {
    "duration": 102,
    "start_time": "2021-06-11T08:27:56.264Z"
   },
   {
    "duration": 8,
    "start_time": "2021-06-11T08:27:56.368Z"
   },
   {
    "duration": 9,
    "start_time": "2021-06-11T08:27:56.379Z"
   },
   {
    "duration": 13,
    "start_time": "2021-06-11T08:27:56.390Z"
   },
   {
    "duration": 141,
    "start_time": "2021-06-11T08:27:56.406Z"
   },
   {
    "duration": 2125,
    "start_time": "2021-06-11T08:27:56.549Z"
   },
   {
    "duration": 43,
    "start_time": "2021-06-11T08:27:58.676Z"
   },
   {
    "duration": 142,
    "start_time": "2021-06-11T08:27:58.722Z"
   },
   {
    "duration": 16,
    "start_time": "2021-06-11T08:27:58.868Z"
   },
   {
    "duration": 17,
    "start_time": "2021-06-11T08:27:58.888Z"
   },
   {
    "duration": 2488,
    "start_time": "2021-06-11T08:27:58.908Z"
   },
   {
    "duration": 9,
    "start_time": "2021-06-11T08:28:01.400Z"
   },
   {
    "duration": 39,
    "start_time": "2021-06-11T08:28:01.413Z"
   },
   {
    "duration": 23,
    "start_time": "2021-06-11T08:28:01.455Z"
   },
   {
    "duration": 26,
    "start_time": "2021-06-11T08:28:01.481Z"
   },
   {
    "duration": 626,
    "start_time": "2021-06-11T08:28:01.510Z"
   },
   {
    "duration": 28,
    "start_time": "2021-06-11T08:28:02.139Z"
   },
   {
    "duration": 101,
    "start_time": "2021-06-11T08:28:02.170Z"
   },
   {
    "duration": 17,
    "start_time": "2021-06-11T08:28:02.364Z"
   },
   {
    "duration": 16,
    "start_time": "2021-06-11T08:28:02.385Z"
   },
   {
    "duration": 7,
    "start_time": "2021-06-11T08:28:02.405Z"
   },
   {
    "duration": 446,
    "start_time": "2021-06-11T08:28:02.415Z"
   },
   {
    "duration": 11,
    "start_time": "2021-06-11T08:28:02.864Z"
   },
   {
    "duration": 85,
    "start_time": "2021-06-11T08:28:02.878Z"
   },
   {
    "duration": 406,
    "start_time": "2021-06-11T08:28:02.966Z"
   },
   {
    "duration": 11,
    "start_time": "2021-06-11T08:28:03.376Z"
   },
   {
    "duration": 8,
    "start_time": "2021-06-11T08:28:03.390Z"
   },
   {
    "duration": 417,
    "start_time": "2021-06-11T08:28:03.401Z"
   },
   {
    "duration": 8,
    "start_time": "2021-06-11T08:28:03.820Z"
   },
   {
    "duration": 74,
    "start_time": "2021-06-11T08:28:03.831Z"
   },
   {
    "duration": 13,
    "start_time": "2021-06-11T08:28:03.908Z"
   },
   {
    "duration": 6,
    "start_time": "2021-06-11T08:28:26.382Z"
   },
   {
    "duration": 55,
    "start_time": "2021-06-11T08:28:26.395Z"
   },
   {
    "duration": 19,
    "start_time": "2021-06-11T08:28:26.452Z"
   },
   {
    "duration": 18,
    "start_time": "2021-06-11T08:28:26.474Z"
   },
   {
    "duration": 8,
    "start_time": "2021-06-11T08:28:26.495Z"
   },
   {
    "duration": 16,
    "start_time": "2021-06-11T08:28:26.506Z"
   },
   {
    "duration": 51,
    "start_time": "2021-06-11T08:28:26.525Z"
   },
   {
    "duration": 14,
    "start_time": "2021-06-11T08:28:26.579Z"
   },
   {
    "duration": 6,
    "start_time": "2021-06-11T08:28:26.595Z"
   },
   {
    "duration": 10,
    "start_time": "2021-06-11T08:28:26.606Z"
   },
   {
    "duration": 4,
    "start_time": "2021-06-11T08:28:26.662Z"
   },
   {
    "duration": 46,
    "start_time": "2021-06-11T08:28:26.669Z"
   },
   {
    "duration": 89,
    "start_time": "2021-06-11T08:28:26.718Z"
   },
   {
    "duration": 1185,
    "start_time": "2021-06-11T08:28:26.809Z"
   },
   {
    "duration": 74,
    "start_time": "2021-06-11T08:28:27.996Z"
   },
   {
    "duration": 97,
    "start_time": "2021-06-11T08:28:28.073Z"
   },
   {
    "duration": 15,
    "start_time": "2021-06-11T08:28:28.172Z"
   },
   {
    "duration": 21,
    "start_time": "2021-06-11T08:28:28.190Z"
   },
   {
    "duration": 114,
    "start_time": "2021-06-11T08:28:28.214Z"
   },
   {
    "duration": 132,
    "start_time": "2021-06-11T08:28:28.331Z"
   },
   {
    "duration": 99,
    "start_time": "2021-06-11T08:28:28.466Z"
   },
   {
    "duration": 12,
    "start_time": "2021-06-11T08:28:28.568Z"
   },
   {
    "duration": 87,
    "start_time": "2021-06-11T08:28:28.583Z"
   },
   {
    "duration": 93,
    "start_time": "2021-06-11T08:28:28.672Z"
   },
   {
    "duration": 94,
    "start_time": "2021-06-11T08:28:28.769Z"
   },
   {
    "duration": 13,
    "start_time": "2021-06-11T08:28:28.867Z"
   },
   {
    "duration": 7,
    "start_time": "2021-06-11T08:28:28.883Z"
   },
   {
    "duration": 13,
    "start_time": "2021-06-11T08:28:28.896Z"
   },
   {
    "duration": 11,
    "start_time": "2021-06-11T08:28:28.912Z"
   },
   {
    "duration": 8,
    "start_time": "2021-06-11T08:28:28.963Z"
   },
   {
    "duration": 95,
    "start_time": "2021-06-11T08:28:28.974Z"
   },
   {
    "duration": 94,
    "start_time": "2021-06-11T08:28:29.071Z"
   },
   {
    "duration": 33,
    "start_time": "2021-06-11T08:28:29.169Z"
   },
   {
    "duration": 15,
    "start_time": "2021-06-11T08:28:29.205Z"
   },
   {
    "duration": 8,
    "start_time": "2021-06-11T08:28:29.223Z"
   },
   {
    "duration": 99,
    "start_time": "2021-06-11T08:28:29.233Z"
   },
   {
    "duration": 2300,
    "start_time": "2021-06-11T08:28:29.336Z"
   },
   {
    "duration": 124,
    "start_time": "2021-06-11T08:28:31.639Z"
   },
   {
    "duration": 104,
    "start_time": "2021-06-11T08:28:31.766Z"
   },
   {
    "duration": 15,
    "start_time": "2021-06-11T08:28:31.872Z"
   },
   {
    "duration": 13,
    "start_time": "2021-06-11T08:28:31.890Z"
   },
   {
    "duration": 1733,
    "start_time": "2021-06-11T08:28:31.906Z"
   },
   {
    "duration": 7,
    "start_time": "2021-06-11T08:28:33.641Z"
   },
   {
    "duration": 7,
    "start_time": "2021-06-11T08:28:33.663Z"
   },
   {
    "duration": 10,
    "start_time": "2021-06-11T08:28:33.673Z"
   },
   {
    "duration": 18,
    "start_time": "2021-06-11T08:28:33.685Z"
   },
   {
    "duration": 450,
    "start_time": "2021-06-11T08:28:33.705Z"
   },
   {
    "duration": 25,
    "start_time": "2021-06-11T08:28:34.158Z"
   },
   {
    "duration": 105,
    "start_time": "2021-06-11T08:28:34.264Z"
   },
   {
    "duration": 15,
    "start_time": "2021-06-11T08:28:34.372Z"
   },
   {
    "duration": 15,
    "start_time": "2021-06-11T08:28:34.390Z"
   },
   {
    "duration": 11,
    "start_time": "2021-06-11T08:28:34.408Z"
   },
   {
    "duration": 311,
    "start_time": "2021-06-11T08:28:34.421Z"
   },
   {
    "duration": 9,
    "start_time": "2021-06-11T08:28:34.734Z"
   },
   {
    "duration": 54,
    "start_time": "2021-06-11T08:28:34.763Z"
   },
   {
    "duration": 381,
    "start_time": "2021-06-11T08:28:34.820Z"
   },
   {
    "duration": 7,
    "start_time": "2021-06-11T08:28:35.204Z"
   },
   {
    "duration": 50,
    "start_time": "2021-06-11T08:28:35.214Z"
   },
   {
    "duration": 397,
    "start_time": "2021-06-11T08:28:35.270Z"
   },
   {
    "duration": 8,
    "start_time": "2021-06-11T08:28:35.669Z"
   },
   {
    "duration": 55,
    "start_time": "2021-06-11T08:28:35.679Z"
   },
   {
    "duration": 35,
    "start_time": "2021-06-11T08:28:35.737Z"
   },
   {
    "duration": 5,
    "start_time": "2021-06-11T08:28:55.535Z"
   },
   {
    "duration": 38,
    "start_time": "2021-06-11T08:28:55.543Z"
   },
   {
    "duration": 18,
    "start_time": "2021-06-11T08:28:55.585Z"
   },
   {
    "duration": 15,
    "start_time": "2021-06-11T08:28:55.605Z"
   },
   {
    "duration": 39,
    "start_time": "2021-06-11T08:28:55.623Z"
   },
   {
    "duration": 13,
    "start_time": "2021-06-11T08:28:55.665Z"
   },
   {
    "duration": 34,
    "start_time": "2021-06-11T08:28:55.680Z"
   },
   {
    "duration": 50,
    "start_time": "2021-06-11T08:28:55.717Z"
   },
   {
    "duration": 5,
    "start_time": "2021-06-11T08:28:55.771Z"
   },
   {
    "duration": 12,
    "start_time": "2021-06-11T08:28:55.779Z"
   },
   {
    "duration": 7,
    "start_time": "2021-06-11T08:28:55.794Z"
   },
   {
    "duration": 82,
    "start_time": "2021-06-11T08:28:55.803Z"
   },
   {
    "duration": 56,
    "start_time": "2021-06-11T08:28:55.887Z"
   },
   {
    "duration": 1279,
    "start_time": "2021-06-11T08:28:55.945Z"
   },
   {
    "duration": 136,
    "start_time": "2021-06-11T08:28:57.226Z"
   },
   {
    "duration": 100,
    "start_time": "2021-06-11T08:28:57.365Z"
   },
   {
    "duration": 10,
    "start_time": "2021-06-11T08:28:57.468Z"
   },
   {
    "duration": 15,
    "start_time": "2021-06-11T08:28:57.480Z"
   },
   {
    "duration": 95,
    "start_time": "2021-06-11T08:28:57.497Z"
   },
   {
    "duration": 68,
    "start_time": "2021-06-11T08:28:57.594Z"
   },
   {
    "duration": 102,
    "start_time": "2021-06-11T08:28:57.665Z"
   },
   {
    "duration": 13,
    "start_time": "2021-06-11T08:28:57.770Z"
   },
   {
    "duration": 82,
    "start_time": "2021-06-11T08:28:57.786Z"
   },
   {
    "duration": 93,
    "start_time": "2021-06-11T08:28:57.871Z"
   },
   {
    "duration": 104,
    "start_time": "2021-06-11T08:28:57.967Z"
   },
   {
    "duration": 18,
    "start_time": "2021-06-11T08:28:58.074Z"
   },
   {
    "duration": 11,
    "start_time": "2021-06-11T08:28:58.101Z"
   },
   {
    "duration": 7,
    "start_time": "2021-06-11T08:28:58.116Z"
   },
   {
    "duration": 37,
    "start_time": "2021-06-11T08:28:58.126Z"
   },
   {
    "duration": 7,
    "start_time": "2021-06-11T08:28:58.166Z"
   },
   {
    "duration": 186,
    "start_time": "2021-06-11T08:28:58.175Z"
   },
   {
    "duration": 13,
    "start_time": "2021-06-11T08:28:58.364Z"
   },
   {
    "duration": 11,
    "start_time": "2021-06-11T08:28:58.380Z"
   },
   {
    "duration": 15,
    "start_time": "2021-06-11T08:28:58.394Z"
   },
   {
    "duration": 6,
    "start_time": "2021-06-11T08:28:58.411Z"
   },
   {
    "duration": 114,
    "start_time": "2021-06-11T08:28:58.420Z"
   },
   {
    "duration": 1881,
    "start_time": "2021-06-11T08:28:58.537Z"
   },
   {
    "duration": 152,
    "start_time": "2021-06-11T08:29:00.421Z"
   },
   {
    "duration": 15,
    "start_time": "2021-06-11T08:29:00.663Z"
   },
   {
    "duration": 27,
    "start_time": "2021-06-11T08:29:00.681Z"
   },
   {
    "duration": 34,
    "start_time": "2021-06-11T08:29:00.711Z"
   },
   {
    "duration": 1888,
    "start_time": "2021-06-11T08:29:00.747Z"
   },
   {
    "duration": 7,
    "start_time": "2021-06-11T08:29:02.637Z"
   },
   {
    "duration": 7,
    "start_time": "2021-06-11T08:29:02.662Z"
   },
   {
    "duration": 13,
    "start_time": "2021-06-11T08:29:02.671Z"
   },
   {
    "duration": 23,
    "start_time": "2021-06-11T08:29:02.686Z"
   },
   {
    "duration": 476,
    "start_time": "2021-06-11T08:29:02.711Z"
   },
   {
    "duration": 17,
    "start_time": "2021-06-11T08:29:03.189Z"
   },
   {
    "duration": 59,
    "start_time": "2021-06-11T08:29:03.209Z"
   },
   {
    "duration": 104,
    "start_time": "2021-06-11T08:29:03.272Z"
   },
   {
    "duration": 14,
    "start_time": "2021-06-11T08:29:03.379Z"
   },
   {
    "duration": 7,
    "start_time": "2021-06-11T08:29:03.396Z"
   },
   {
    "duration": 320,
    "start_time": "2021-06-11T08:29:03.405Z"
   },
   {
    "duration": 8,
    "start_time": "2021-06-11T08:29:03.727Z"
   },
   {
    "duration": 66,
    "start_time": "2021-06-11T08:29:03.738Z"
   },
   {
    "duration": 272,
    "start_time": "2021-06-11T08:29:03.807Z"
   },
   {
    "duration": 9,
    "start_time": "2021-06-11T08:29:04.081Z"
   },
   {
    "duration": 69,
    "start_time": "2021-06-11T08:29:04.093Z"
   },
   {
    "duration": 269,
    "start_time": "2021-06-11T08:29:04.261Z"
   },
   {
    "duration": 7,
    "start_time": "2021-06-11T08:29:04.533Z"
   },
   {
    "duration": 65,
    "start_time": "2021-06-11T08:29:04.542Z"
   },
   {
    "duration": 13,
    "start_time": "2021-06-11T08:29:04.609Z"
   },
   {
    "duration": 13,
    "start_time": "2021-06-11T08:35:56.136Z"
   },
   {
    "duration": 10,
    "start_time": "2021-06-11T08:38:40.445Z"
   },
   {
    "duration": 14,
    "start_time": "2021-06-11T09:37:37.368Z"
   },
   {
    "duration": 13,
    "start_time": "2021-06-11T09:38:07.349Z"
   },
   {
    "duration": 13,
    "start_time": "2021-06-11T09:38:45.530Z"
   },
   {
    "duration": 15,
    "start_time": "2021-06-11T09:40:08.337Z"
   },
   {
    "duration": 20,
    "start_time": "2021-06-11T09:40:28.434Z"
   },
   {
    "duration": 22,
    "start_time": "2021-06-11T09:40:29.392Z"
   },
   {
    "duration": 61,
    "start_time": "2021-06-11T09:45:36.735Z"
   },
   {
    "duration": 1197,
    "start_time": "2021-06-11T09:47:01.010Z"
   },
   {
    "duration": 118,
    "start_time": "2021-06-11T09:48:07.441Z"
   },
   {
    "duration": 6,
    "start_time": "2021-06-11T09:52:11.681Z"
   },
   {
    "duration": 44,
    "start_time": "2021-06-11T09:52:11.691Z"
   },
   {
    "duration": 20,
    "start_time": "2021-06-11T09:52:11.738Z"
   },
   {
    "duration": 16,
    "start_time": "2021-06-11T09:52:11.761Z"
   },
   {
    "duration": 10,
    "start_time": "2021-06-11T09:52:11.780Z"
   },
   {
    "duration": 6,
    "start_time": "2021-06-11T09:52:11.794Z"
   },
   {
    "duration": 62,
    "start_time": "2021-06-11T09:52:11.803Z"
   },
   {
    "duration": 20,
    "start_time": "2021-06-11T09:52:11.867Z"
   },
   {
    "duration": 13,
    "start_time": "2021-06-11T09:52:11.890Z"
   },
   {
    "duration": 9,
    "start_time": "2021-06-11T09:52:11.905Z"
   },
   {
    "duration": 47,
    "start_time": "2021-06-11T09:52:11.917Z"
   },
   {
    "duration": 14,
    "start_time": "2021-06-11T09:52:11.967Z"
   },
   {
    "duration": 42,
    "start_time": "2021-06-11T09:52:11.984Z"
   },
   {
    "duration": 80,
    "start_time": "2021-06-11T09:52:12.031Z"
   },
   {
    "duration": 1338,
    "start_time": "2021-06-11T09:52:12.114Z"
   },
   {
    "duration": 112,
    "start_time": "2021-06-11T09:52:13.454Z"
   },
   {
    "duration": 104,
    "start_time": "2021-06-11T09:52:13.569Z"
   },
   {
    "duration": 95,
    "start_time": "2021-06-11T09:52:13.676Z"
   },
   {
    "duration": 89,
    "start_time": "2021-06-11T09:52:13.775Z"
   },
   {
    "duration": 106,
    "start_time": "2021-06-11T09:52:13.868Z"
   },
   {
    "duration": 17,
    "start_time": "2021-06-11T09:52:13.977Z"
   },
   {
    "duration": 16,
    "start_time": "2021-06-11T09:52:13.997Z"
   },
   {
    "duration": 50,
    "start_time": "2021-06-11T09:52:14.015Z"
   },
   {
    "duration": 10,
    "start_time": "2021-06-11T09:52:14.067Z"
   },
   {
    "duration": 61,
    "start_time": "2021-06-11T09:52:14.080Z"
   },
   {
    "duration": 1203,
    "start_time": "2021-06-11T09:52:14.143Z"
   },
   {
    "duration": 113,
    "start_time": "2021-06-11T09:52:15.348Z"
   },
   {
    "duration": 102,
    "start_time": "2021-06-11T09:52:15.465Z"
   },
   {
    "duration": 11,
    "start_time": "2021-06-11T09:52:15.570Z"
   },
   {
    "duration": 27,
    "start_time": "2021-06-11T09:52:15.584Z"
   },
   {
    "duration": 6,
    "start_time": "2021-06-11T09:52:15.614Z"
   },
   {
    "duration": 101,
    "start_time": "2021-06-11T09:52:15.623Z"
   },
   {
    "duration": 1813,
    "start_time": "2021-06-11T09:52:15.727Z"
   },
   {
    "duration": 58,
    "start_time": "2021-06-11T09:52:17.548Z"
   },
   {
    "duration": 105,
    "start_time": "2021-06-11T09:52:17.665Z"
   },
   {
    "duration": 12,
    "start_time": "2021-06-11T09:52:17.773Z"
   },
   {
    "duration": 13,
    "start_time": "2021-06-11T09:52:17.788Z"
   },
   {
    "duration": 1853,
    "start_time": "2021-06-11T09:52:17.803Z"
   },
   {
    "duration": 7,
    "start_time": "2021-06-11T09:52:19.661Z"
   },
   {
    "duration": 10,
    "start_time": "2021-06-11T09:52:19.670Z"
   },
   {
    "duration": 7,
    "start_time": "2021-06-11T09:52:19.683Z"
   },
   {
    "duration": 18,
    "start_time": "2021-06-11T09:52:19.693Z"
   },
   {
    "duration": 462,
    "start_time": "2021-06-11T09:52:19.714Z"
   },
   {
    "duration": 15,
    "start_time": "2021-06-11T09:52:20.178Z"
   },
   {
    "duration": 169,
    "start_time": "2021-06-11T09:52:20.195Z"
   },
   {
    "duration": 13,
    "start_time": "2021-06-11T09:52:20.366Z"
   },
   {
    "duration": 12,
    "start_time": "2021-06-11T09:52:20.381Z"
   },
   {
    "duration": 4,
    "start_time": "2021-06-11T09:52:20.395Z"
   },
   {
    "duration": 321,
    "start_time": "2021-06-11T09:52:20.401Z"
   },
   {
    "duration": 8,
    "start_time": "2021-06-11T09:52:20.724Z"
   },
   {
    "duration": 66,
    "start_time": "2021-06-11T09:52:20.734Z"
   },
   {
    "duration": 277,
    "start_time": "2021-06-11T09:52:20.803Z"
   },
   {
    "duration": 7,
    "start_time": "2021-06-11T09:52:21.082Z"
   },
   {
    "duration": 72,
    "start_time": "2021-06-11T09:52:21.091Z"
   },
   {
    "duration": 395,
    "start_time": "2021-06-11T09:52:21.165Z"
   },
   {
    "duration": 7,
    "start_time": "2021-06-11T09:52:21.563Z"
   },
   {
    "duration": 89,
    "start_time": "2021-06-11T09:52:21.574Z"
   },
   {
    "duration": 18,
    "start_time": "2021-06-11T09:52:21.666Z"
   },
   {
    "duration": 21,
    "start_time": "2021-06-11T09:54:00.621Z"
   },
   {
    "duration": 22,
    "start_time": "2021-06-11T09:54:21.442Z"
   },
   {
    "duration": 22,
    "start_time": "2021-06-11T09:54:39.287Z"
   },
   {
    "duration": 7,
    "start_time": "2021-06-11T09:54:45.423Z"
   },
   {
    "duration": 36,
    "start_time": "2021-06-11T09:54:45.434Z"
   },
   {
    "duration": 18,
    "start_time": "2021-06-11T09:54:45.472Z"
   },
   {
    "duration": 12,
    "start_time": "2021-06-11T09:54:45.493Z"
   },
   {
    "duration": 8,
    "start_time": "2021-06-11T09:54:45.508Z"
   },
   {
    "duration": 5,
    "start_time": "2021-06-11T09:54:45.518Z"
   },
   {
    "duration": 14,
    "start_time": "2021-06-11T09:54:45.562Z"
   },
   {
    "duration": 30,
    "start_time": "2021-06-11T09:54:45.578Z"
   },
   {
    "duration": 12,
    "start_time": "2021-06-11T09:54:45.612Z"
   },
   {
    "duration": 6,
    "start_time": "2021-06-11T09:54:45.663Z"
   },
   {
    "duration": 10,
    "start_time": "2021-06-11T09:54:45.672Z"
   },
   {
    "duration": 12,
    "start_time": "2021-06-11T09:54:45.684Z"
   },
   {
    "duration": 80,
    "start_time": "2021-06-11T09:54:45.698Z"
   },
   {
    "duration": 81,
    "start_time": "2021-06-11T09:54:45.781Z"
   },
   {
    "duration": 1698,
    "start_time": "2021-06-11T09:54:45.865Z"
   },
   {
    "duration": 101,
    "start_time": "2021-06-11T09:54:47.566Z"
   },
   {
    "duration": 104,
    "start_time": "2021-06-11T09:54:47.670Z"
   },
   {
    "duration": 92,
    "start_time": "2021-06-11T09:54:47.778Z"
   },
   {
    "duration": 13,
    "start_time": "2021-06-11T09:54:47.873Z"
   },
   {
    "duration": 191,
    "start_time": "2021-06-11T09:54:47.890Z"
   },
   {
    "duration": 16,
    "start_time": "2021-06-11T09:54:48.083Z"
   },
   {
    "duration": 16,
    "start_time": "2021-06-11T09:54:48.101Z"
   },
   {
    "duration": 44,
    "start_time": "2021-06-11T09:54:48.119Z"
   },
   {
    "duration": 9,
    "start_time": "2021-06-11T09:54:48.168Z"
   },
   {
    "duration": 81,
    "start_time": "2021-06-11T09:54:48.181Z"
   },
   {
    "duration": 1184,
    "start_time": "2021-06-11T09:54:48.265Z"
   },
   {
    "duration": 110,
    "start_time": "2021-06-11T09:54:49.451Z"
   },
   {
    "duration": 102,
    "start_time": "2021-06-11T09:54:49.565Z"
   },
   {
    "duration": 8,
    "start_time": "2021-06-11T09:54:49.669Z"
   },
   {
    "duration": 7,
    "start_time": "2021-06-11T09:54:49.679Z"
   },
   {
    "duration": 8,
    "start_time": "2021-06-11T09:54:49.688Z"
   },
   {
    "duration": 106,
    "start_time": "2021-06-11T09:54:49.698Z"
   },
   {
    "duration": 1802,
    "start_time": "2021-06-11T09:54:49.806Z"
   },
   {
    "duration": 52,
    "start_time": "2021-06-11T09:54:51.611Z"
   },
   {
    "duration": 198,
    "start_time": "2021-06-11T09:54:51.665Z"
   },
   {
    "duration": 19,
    "start_time": "2021-06-11T09:54:51.865Z"
   },
   {
    "duration": 16,
    "start_time": "2021-06-11T09:54:51.886Z"
   },
   {
    "duration": 7,
    "start_time": "2021-06-11T09:54:51.904Z"
   },
   {
    "duration": 8,
    "start_time": "2021-06-11T09:54:51.913Z"
   },
   {
    "duration": 9,
    "start_time": "2021-06-11T09:54:51.963Z"
   },
   {
    "duration": 24,
    "start_time": "2021-06-11T09:54:51.975Z"
   },
   {
    "duration": 450,
    "start_time": "2021-06-11T09:54:52.001Z"
   },
   {
    "duration": 27,
    "start_time": "2021-06-11T09:54:52.454Z"
   },
   {
    "duration": 105,
    "start_time": "2021-06-11T09:54:52.564Z"
   },
   {
    "duration": 12,
    "start_time": "2021-06-11T09:54:52.672Z"
   },
   {
    "duration": 12,
    "start_time": "2021-06-11T09:54:52.686Z"
   },
   {
    "duration": 15,
    "start_time": "2021-06-11T09:54:52.700Z"
   },
   {
    "duration": 304,
    "start_time": "2021-06-11T09:54:52.717Z"
   },
   {
    "duration": 8,
    "start_time": "2021-06-11T09:54:53.023Z"
   },
   {
    "duration": 67,
    "start_time": "2021-06-11T09:54:53.033Z"
   },
   {
    "duration": 276,
    "start_time": "2021-06-11T09:54:53.103Z"
   },
   {
    "duration": 7,
    "start_time": "2021-06-11T09:54:53.382Z"
   },
   {
    "duration": 73,
    "start_time": "2021-06-11T09:54:53.391Z"
   },
   {
    "duration": 367,
    "start_time": "2021-06-11T09:54:53.467Z"
   },
   {
    "duration": 8,
    "start_time": "2021-06-11T09:54:53.836Z"
   },
   {
    "duration": 64,
    "start_time": "2021-06-11T09:54:53.846Z"
   },
   {
    "duration": 11,
    "start_time": "2021-06-11T09:54:53.913Z"
   },
   {
    "duration": 14,
    "start_time": "2021-06-11T09:57:35.058Z"
   },
   {
    "duration": 16,
    "start_time": "2021-06-11T09:57:51.538Z"
   },
   {
    "duration": 15,
    "start_time": "2021-06-11T09:58:00.100Z"
   },
   {
    "duration": 6,
    "start_time": "2021-06-11T09:58:10.598Z"
   },
   {
    "duration": 46,
    "start_time": "2021-06-11T09:58:10.607Z"
   },
   {
    "duration": 26,
    "start_time": "2021-06-11T09:58:10.656Z"
   },
   {
    "duration": 11,
    "start_time": "2021-06-11T09:58:10.685Z"
   },
   {
    "duration": 7,
    "start_time": "2021-06-11T09:58:10.699Z"
   },
   {
    "duration": 8,
    "start_time": "2021-06-11T09:58:10.708Z"
   },
   {
    "duration": 56,
    "start_time": "2021-06-11T09:58:10.718Z"
   },
   {
    "duration": 136,
    "start_time": "2021-06-11T09:58:10.776Z"
   },
   {
    "duration": 11,
    "start_time": "2021-06-11T09:58:10.916Z"
   },
   {
    "duration": 32,
    "start_time": "2021-06-11T09:58:10.930Z"
   },
   {
    "duration": 9,
    "start_time": "2021-06-11T09:58:10.965Z"
   },
   {
    "duration": 7,
    "start_time": "2021-06-11T09:58:10.977Z"
   },
   {
    "duration": 36,
    "start_time": "2021-06-11T09:58:10.987Z"
   },
   {
    "duration": 90,
    "start_time": "2021-06-11T09:58:11.025Z"
   },
   {
    "duration": 1239,
    "start_time": "2021-06-11T09:58:11.117Z"
   },
   {
    "duration": 104,
    "start_time": "2021-06-11T09:58:12.361Z"
   },
   {
    "duration": 96,
    "start_time": "2021-06-11T09:58:12.467Z"
   },
   {
    "duration": 54,
    "start_time": "2021-06-11T09:58:12.566Z"
   },
   {
    "duration": 47,
    "start_time": "2021-06-11T09:58:12.623Z"
   },
   {
    "duration": 103,
    "start_time": "2021-06-11T09:58:12.672Z"
   },
   {
    "duration": 18,
    "start_time": "2021-06-11T09:58:12.778Z"
   },
   {
    "duration": 25,
    "start_time": "2021-06-11T09:58:12.798Z"
   },
   {
    "duration": 43,
    "start_time": "2021-06-11T09:58:12.826Z"
   },
   {
    "duration": 9,
    "start_time": "2021-06-11T09:58:12.871Z"
   },
   {
    "duration": 85,
    "start_time": "2021-06-11T09:58:12.882Z"
   },
   {
    "duration": 1197,
    "start_time": "2021-06-11T09:58:12.969Z"
   },
   {
    "duration": 43,
    "start_time": "2021-06-11T09:58:14.171Z"
   },
   {
    "duration": 103,
    "start_time": "2021-06-11T09:58:14.268Z"
   },
   {
    "duration": 16,
    "start_time": "2021-06-11T09:58:14.373Z"
   },
   {
    "duration": 22,
    "start_time": "2021-06-11T09:58:14.391Z"
   },
   {
    "duration": 19,
    "start_time": "2021-06-11T09:58:14.416Z"
   },
   {
    "duration": 77,
    "start_time": "2021-06-11T09:58:14.437Z"
   },
   {
    "duration": 1831,
    "start_time": "2021-06-11T09:58:14.517Z"
   },
   {
    "duration": 51,
    "start_time": "2021-06-11T09:58:16.350Z"
   },
   {
    "duration": 111,
    "start_time": "2021-06-11T09:58:16.462Z"
   },
   {
    "duration": 14,
    "start_time": "2021-06-11T09:58:16.576Z"
   },
   {
    "duration": 15,
    "start_time": "2021-06-11T09:58:16.593Z"
   },
   {
    "duration": 7,
    "start_time": "2021-06-11T09:58:16.610Z"
   },
   {
    "duration": 47,
    "start_time": "2021-06-11T09:58:16.619Z"
   },
   {
    "duration": 10,
    "start_time": "2021-06-11T09:58:16.668Z"
   },
   {
    "duration": 30,
    "start_time": "2021-06-11T09:58:16.680Z"
   },
   {
    "duration": 456,
    "start_time": "2021-06-11T09:58:16.712Z"
   },
   {
    "duration": 22,
    "start_time": "2021-06-11T09:58:17.171Z"
   },
   {
    "duration": 107,
    "start_time": "2021-06-11T09:58:17.264Z"
   },
   {
    "duration": 15,
    "start_time": "2021-06-11T09:58:17.373Z"
   },
   {
    "duration": 16,
    "start_time": "2021-06-11T09:58:17.390Z"
   },
   {
    "duration": 5,
    "start_time": "2021-06-11T09:58:17.408Z"
   },
   {
    "duration": 325,
    "start_time": "2021-06-11T09:58:17.415Z"
   },
   {
    "duration": 8,
    "start_time": "2021-06-11T09:58:17.742Z"
   },
   {
    "duration": 49,
    "start_time": "2021-06-11T09:58:17.763Z"
   },
   {
    "duration": 287,
    "start_time": "2021-06-11T09:58:17.815Z"
   },
   {
    "duration": 8,
    "start_time": "2021-06-11T09:58:18.104Z"
   },
   {
    "duration": 7,
    "start_time": "2021-06-11T09:58:18.114Z"
   },
   {
    "duration": 393,
    "start_time": "2021-06-11T09:58:18.124Z"
   },
   {
    "duration": 8,
    "start_time": "2021-06-11T09:58:18.520Z"
   },
   {
    "duration": 70,
    "start_time": "2021-06-11T09:58:18.531Z"
   },
   {
    "duration": 13,
    "start_time": "2021-06-11T09:58:18.603Z"
   },
   {
    "duration": 17,
    "start_time": "2021-06-11T10:02:31.740Z"
   },
   {
    "duration": 52,
    "start_time": "2021-06-11T10:03:15.353Z"
   },
   {
    "duration": 278,
    "start_time": "2021-06-11T10:03:27.868Z"
   },
   {
    "duration": 1546,
    "start_time": "2021-06-11T17:42:25.678Z"
   },
   {
    "duration": 36,
    "start_time": "2021-06-11T17:42:27.227Z"
   },
   {
    "duration": 25,
    "start_time": "2021-06-11T17:42:27.267Z"
   },
   {
    "duration": 11,
    "start_time": "2021-06-11T17:42:27.295Z"
   },
   {
    "duration": 12,
    "start_time": "2021-06-11T17:42:27.309Z"
   },
   {
    "duration": 6,
    "start_time": "2021-06-11T17:42:27.323Z"
   },
   {
    "duration": 54,
    "start_time": "2021-06-11T17:42:27.331Z"
   },
   {
    "duration": 19,
    "start_time": "2021-06-11T17:42:27.388Z"
   },
   {
    "duration": 11,
    "start_time": "2021-06-11T17:42:27.411Z"
   },
   {
    "duration": 6,
    "start_time": "2021-06-11T17:42:27.426Z"
   },
   {
    "duration": 16,
    "start_time": "2021-06-11T17:42:27.462Z"
   },
   {
    "duration": 15,
    "start_time": "2021-06-11T17:42:27.481Z"
   },
   {
    "duration": 41,
    "start_time": "2021-06-11T17:42:27.498Z"
   },
   {
    "duration": 82,
    "start_time": "2021-06-11T17:42:27.542Z"
   },
   {
    "duration": 1342,
    "start_time": "2021-06-11T17:42:27.626Z"
   },
   {
    "duration": 96,
    "start_time": "2021-06-11T17:42:28.971Z"
   },
   {
    "duration": 109,
    "start_time": "2021-06-11T17:42:29.071Z"
   },
   {
    "duration": 52,
    "start_time": "2021-06-11T17:42:29.183Z"
   },
   {
    "duration": 16,
    "start_time": "2021-06-11T17:42:29.261Z"
   },
   {
    "duration": 195,
    "start_time": "2021-06-11T17:42:29.281Z"
   },
   {
    "duration": 15,
    "start_time": "2021-06-11T17:42:29.478Z"
   },
   {
    "duration": 13,
    "start_time": "2021-06-11T17:42:29.496Z"
   },
   {
    "duration": 14,
    "start_time": "2021-06-11T17:42:29.512Z"
   },
   {
    "duration": 47,
    "start_time": "2021-06-11T17:42:29.528Z"
   },
   {
    "duration": 60,
    "start_time": "2021-06-11T17:42:29.578Z"
   },
   {
    "duration": 1338,
    "start_time": "2021-06-11T17:42:29.665Z"
   },
   {
    "duration": 66,
    "start_time": "2021-06-11T17:42:31.009Z"
   },
   {
    "duration": 99,
    "start_time": "2021-06-11T17:42:31.164Z"
   },
   {
    "duration": 12,
    "start_time": "2021-06-11T17:42:31.268Z"
   },
   {
    "duration": 7,
    "start_time": "2021-06-11T17:42:31.283Z"
   },
   {
    "duration": 8,
    "start_time": "2021-06-11T17:42:31.293Z"
   },
   {
    "duration": 108,
    "start_time": "2021-06-11T17:42:31.304Z"
   },
   {
    "duration": 1995,
    "start_time": "2021-06-11T17:42:31.415Z"
   },
   {
    "duration": 68,
    "start_time": "2021-06-11T17:42:33.413Z"
   },
   {
    "duration": 177,
    "start_time": "2021-06-11T17:42:33.484Z"
   },
   {
    "duration": 23,
    "start_time": "2021-06-11T17:42:33.664Z"
   },
   {
    "duration": 19,
    "start_time": "2021-06-11T17:42:33.690Z"
   },
   {
    "duration": 50,
    "start_time": "2021-06-11T17:42:33.712Z"
   },
   {
    "duration": 11,
    "start_time": "2021-06-11T17:42:33.766Z"
   },
   {
    "duration": 8,
    "start_time": "2021-06-11T17:42:33.780Z"
   },
   {
    "duration": 19,
    "start_time": "2021-06-11T17:42:33.790Z"
   },
   {
    "duration": 509,
    "start_time": "2021-06-11T17:42:33.811Z"
   },
   {
    "duration": 17,
    "start_time": "2021-06-11T17:42:34.323Z"
   },
   {
    "duration": 117,
    "start_time": "2021-06-11T17:42:34.364Z"
   },
   {
    "duration": 21,
    "start_time": "2021-06-11T17:42:34.485Z"
   },
   {
    "duration": 23,
    "start_time": "2021-06-11T17:42:34.563Z"
   },
   {
    "duration": 82,
    "start_time": "2021-06-11T17:42:34.588Z"
   },
   {
    "duration": 19,
    "start_time": "2021-06-11T17:42:34.674Z"
   },
   {
    "duration": 78,
    "start_time": "2021-06-11T17:42:34.695Z"
   },
   {
    "duration": 298,
    "start_time": "2021-06-11T17:42:34.777Z"
   }
  ],
  "kernelspec": {
   "display_name": "Python 3",
   "language": "python",
   "name": "python3"
  },
  "language_info": {
   "codemirror_mode": {
    "name": "ipython",
    "version": 3
   },
   "file_extension": ".py",
   "mimetype": "text/x-python",
   "name": "python",
   "nbconvert_exporter": "python",
   "pygments_lexer": "ipython3",
   "version": "3.8.8"
  },
  "toc": {
   "base_numbering": 1,
   "nav_menu": {},
   "number_sections": true,
   "sideBar": true,
   "skip_h1_title": true,
   "title_cell": "Содержание",
   "title_sidebar": "Contents",
   "toc_cell": true,
   "toc_position": {
    "height": "calc(100% - 180px)",
    "left": "10px",
    "top": "150px",
    "width": "270.391px"
   },
   "toc_section_display": true,
   "toc_window_display": true
  }
 },
 "nbformat": 4,
 "nbformat_minor": 2
}
