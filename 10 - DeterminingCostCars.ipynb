{
 "cells": [
  {
   "cell_type": "markdown",
   "metadata": {},
   "source": [
    "<div style=\"background: #cceeaa; padding: 5px; border: 1px solid green; border-radius: 5px;\">\n",
    "    <font color='green'> <b><u>КОММЕНТАРИЙ РЕВЬЮЕРА</u></b>\n",
    "\n",
    "Юлия, доброго дня! рад приветствовать тебя вновь) <br />\n",
    "(А дальше - шаблонная часть, как ты заметил по другим спринтам)<br>\n",
    "<br />\n",
    "Меня зовут Николай Шавлюго. <br />И на этом этапе твоего движения к новой профессии от меня будут комментарии по написанному коду. <br />Чтобы меньше \"мусорить эфир\" и чтобы максимально наглядно отделяться от основного кода, есть предложение условиться в некоторых обозначениях:<br /> <br />\n",
    "<u><b>ТАКОЙ ШРИФТ</b></u> - всегда начало комментария <br />\n",
    "<font color='green'>такой шрифт</font> - комментарии о том, что всё ОК <br/>\n",
    "<font color='orange'>такой шрифт</font> - комментарии о том, что всё ОК по результату,<br> однако есть на что обратить внимание в плане применения техник, или есть способы сделать более короткий или быстрый код <br/>\n",
    "<font color='red'>такой шрифт</font> - комментарии о том, что есть критичный момент, влияющий на бизнес-результат проекта.<br/>\n",
    "</font><br /><br />\n",
    "<font color='green'>Моей целью является не \"уличить\" в не знании, а просто высказать сверху твоих знаний - свой опыт, что бы ты мог использовать его для своего дальнейшего успеха) И очень здорово будет, если тебе удастся задавать вопросы, да и вообще - всячески доставать меня, если я по каким-то причинам не приму проект:) При этом, из своего опыта скажу, хорошо и важно, когда переписка ревьюера и студента - сохраняется на следующие проекты и даже на будущую практическую деятельность.<br>\n",
    "<BR> В ПУТЬ!<br>"
   ]
  },
  {
   "cell_type": "markdown",
   "metadata": {},
   "source": [
    "# Определение стоимости автомобилей"
   ]
  },
  {
   "cell_type": "markdown",
   "metadata": {},
   "source": [
    "Сервис по продаже автомобилей с пробегом «Не бит, не крашен» разрабатывает приложение для привлечения новых клиентов. В нём можно быстро узнать рыночную стоимость своего автомобиля. В вашем распоряжении исторические данные: технические характеристики, комплектации и цены автомобилей. Вам нужно построить модель для определения стоимости. \n",
    "\n",
    "Заказчику важны:\n",
    "\n",
    "- качество предсказания;\n",
    "- скорость предсказания;\n",
    "- время обучения."
   ]
  },
  {
   "cell_type": "markdown",
   "metadata": {},
   "source": [
    "## Подготовка данных"
   ]
  },
  {
   "cell_type": "code",
   "execution_count": 38,
   "metadata": {},
   "outputs": [],
   "source": [
    "import pandas as pd\n",
    "import numpy as np\n",
    "import lightgbm as lgb\n",
    "import matplotlib.pyplot as plt\n",
    "import seaborn as sns\n",
    "import time\n",
    "import warnings\n",
    "warnings.filterwarnings(\"ignore\")\n",
    "from sklearn.model_selection import train_test_split\n",
    "from lightgbm import LGBMRegressor\n",
    "from sklearn.metrics import mean_squared_error\n",
    "from catboost import Pool, CatBoostRegressor, cv\n",
    "from sklearn.model_selection import cross_val_score\n",
    "from sklearn.linear_model import LinearRegression\n",
    "from sklearn.tree import DecisionTreeRegressor\n",
    "from sklearn.preprocessing import StandardScaler\n",
    "from sklearn.preprocessing import OrdinalEncoder\n",
    "from sklearn.datasets import make_classification"
   ]
  },
  {
   "cell_type": "code",
   "execution_count": 39,
   "metadata": {},
   "outputs": [],
   "source": [
    "df = pd.read_csv('/datasets/autos.csv')"
   ]
  },
  {
   "cell_type": "markdown",
   "metadata": {},
   "source": [
    "<div style=\"background: #cceeaa; padding: 5px; border: 1px solid green; border-radius: 5px;\">\n",
    "<font color='green'> \n",
    "    <b><u>КОММЕНТАРИЙ РЕВЬЮЕРА</u></b>\n",
    "<font color='green'><br>ок, данные на базе)"
   ]
  },
  {
   "cell_type": "code",
   "execution_count": 40,
   "metadata": {
    "scrolled": true
   },
   "outputs": [
    {
     "data": {
      "text/html": [
       "<div>\n",
       "<style scoped>\n",
       "    .dataframe tbody tr th:only-of-type {\n",
       "        vertical-align: middle;\n",
       "    }\n",
       "\n",
       "    .dataframe tbody tr th {\n",
       "        vertical-align: top;\n",
       "    }\n",
       "\n",
       "    .dataframe thead th {\n",
       "        text-align: right;\n",
       "    }\n",
       "</style>\n",
       "<table border=\"1\" class=\"dataframe\">\n",
       "  <thead>\n",
       "    <tr style=\"text-align: right;\">\n",
       "      <th></th>\n",
       "      <th>DateCrawled</th>\n",
       "      <th>Price</th>\n",
       "      <th>VehicleType</th>\n",
       "      <th>RegistrationYear</th>\n",
       "      <th>Gearbox</th>\n",
       "      <th>Power</th>\n",
       "      <th>Model</th>\n",
       "      <th>Kilometer</th>\n",
       "      <th>RegistrationMonth</th>\n",
       "      <th>FuelType</th>\n",
       "      <th>Brand</th>\n",
       "      <th>NotRepaired</th>\n",
       "      <th>DateCreated</th>\n",
       "      <th>NumberOfPictures</th>\n",
       "      <th>PostalCode</th>\n",
       "      <th>LastSeen</th>\n",
       "    </tr>\n",
       "  </thead>\n",
       "  <tbody>\n",
       "    <tr>\n",
       "      <td>0</td>\n",
       "      <td>2016-03-24 11:52:17</td>\n",
       "      <td>480</td>\n",
       "      <td>NaN</td>\n",
       "      <td>1993</td>\n",
       "      <td>manual</td>\n",
       "      <td>0</td>\n",
       "      <td>golf</td>\n",
       "      <td>150000</td>\n",
       "      <td>0</td>\n",
       "      <td>petrol</td>\n",
       "      <td>volkswagen</td>\n",
       "      <td>NaN</td>\n",
       "      <td>2016-03-24 00:00:00</td>\n",
       "      <td>0</td>\n",
       "      <td>70435</td>\n",
       "      <td>2016-04-07 03:16:57</td>\n",
       "    </tr>\n",
       "    <tr>\n",
       "      <td>1</td>\n",
       "      <td>2016-03-24 10:58:45</td>\n",
       "      <td>18300</td>\n",
       "      <td>coupe</td>\n",
       "      <td>2011</td>\n",
       "      <td>manual</td>\n",
       "      <td>190</td>\n",
       "      <td>NaN</td>\n",
       "      <td>125000</td>\n",
       "      <td>5</td>\n",
       "      <td>gasoline</td>\n",
       "      <td>audi</td>\n",
       "      <td>yes</td>\n",
       "      <td>2016-03-24 00:00:00</td>\n",
       "      <td>0</td>\n",
       "      <td>66954</td>\n",
       "      <td>2016-04-07 01:46:50</td>\n",
       "    </tr>\n",
       "    <tr>\n",
       "      <td>2</td>\n",
       "      <td>2016-03-14 12:52:21</td>\n",
       "      <td>9800</td>\n",
       "      <td>suv</td>\n",
       "      <td>2004</td>\n",
       "      <td>auto</td>\n",
       "      <td>163</td>\n",
       "      <td>grand</td>\n",
       "      <td>125000</td>\n",
       "      <td>8</td>\n",
       "      <td>gasoline</td>\n",
       "      <td>jeep</td>\n",
       "      <td>NaN</td>\n",
       "      <td>2016-03-14 00:00:00</td>\n",
       "      <td>0</td>\n",
       "      <td>90480</td>\n",
       "      <td>2016-04-05 12:47:46</td>\n",
       "    </tr>\n",
       "    <tr>\n",
       "      <td>3</td>\n",
       "      <td>2016-03-17 16:54:04</td>\n",
       "      <td>1500</td>\n",
       "      <td>small</td>\n",
       "      <td>2001</td>\n",
       "      <td>manual</td>\n",
       "      <td>75</td>\n",
       "      <td>golf</td>\n",
       "      <td>150000</td>\n",
       "      <td>6</td>\n",
       "      <td>petrol</td>\n",
       "      <td>volkswagen</td>\n",
       "      <td>no</td>\n",
       "      <td>2016-03-17 00:00:00</td>\n",
       "      <td>0</td>\n",
       "      <td>91074</td>\n",
       "      <td>2016-03-17 17:40:17</td>\n",
       "    </tr>\n",
       "    <tr>\n",
       "      <td>4</td>\n",
       "      <td>2016-03-31 17:25:20</td>\n",
       "      <td>3600</td>\n",
       "      <td>small</td>\n",
       "      <td>2008</td>\n",
       "      <td>manual</td>\n",
       "      <td>69</td>\n",
       "      <td>fabia</td>\n",
       "      <td>90000</td>\n",
       "      <td>7</td>\n",
       "      <td>gasoline</td>\n",
       "      <td>skoda</td>\n",
       "      <td>no</td>\n",
       "      <td>2016-03-31 00:00:00</td>\n",
       "      <td>0</td>\n",
       "      <td>60437</td>\n",
       "      <td>2016-04-06 10:17:21</td>\n",
       "    </tr>\n",
       "  </tbody>\n",
       "</table>\n",
       "</div>"
      ],
      "text/plain": [
       "           DateCrawled  Price VehicleType  RegistrationYear Gearbox  Power  \\\n",
       "0  2016-03-24 11:52:17    480         NaN              1993  manual      0   \n",
       "1  2016-03-24 10:58:45  18300       coupe              2011  manual    190   \n",
       "2  2016-03-14 12:52:21   9800         suv              2004    auto    163   \n",
       "3  2016-03-17 16:54:04   1500       small              2001  manual     75   \n",
       "4  2016-03-31 17:25:20   3600       small              2008  manual     69   \n",
       "\n",
       "   Model  Kilometer  RegistrationMonth  FuelType       Brand NotRepaired  \\\n",
       "0   golf     150000                  0    petrol  volkswagen         NaN   \n",
       "1    NaN     125000                  5  gasoline        audi         yes   \n",
       "2  grand     125000                  8  gasoline        jeep         NaN   \n",
       "3   golf     150000                  6    petrol  volkswagen          no   \n",
       "4  fabia      90000                  7  gasoline       skoda          no   \n",
       "\n",
       "           DateCreated  NumberOfPictures  PostalCode             LastSeen  \n",
       "0  2016-03-24 00:00:00                 0       70435  2016-04-07 03:16:57  \n",
       "1  2016-03-24 00:00:00                 0       66954  2016-04-07 01:46:50  \n",
       "2  2016-03-14 00:00:00                 0       90480  2016-04-05 12:47:46  \n",
       "3  2016-03-17 00:00:00                 0       91074  2016-03-17 17:40:17  \n",
       "4  2016-03-31 00:00:00                 0       60437  2016-04-06 10:17:21  "
      ]
     },
     "execution_count": 40,
     "metadata": {},
     "output_type": "execute_result"
    }
   ],
   "source": [
    "df.head()"
   ]
  },
  {
   "cell_type": "code",
   "execution_count": 41,
   "metadata": {
    "scrolled": true
   },
   "outputs": [
    {
     "name": "stdout",
     "output_type": "stream",
     "text": [
      "<class 'pandas.core.frame.DataFrame'>\n",
      "RangeIndex: 354369 entries, 0 to 354368\n",
      "Data columns (total 16 columns):\n",
      "DateCrawled          354369 non-null object\n",
      "Price                354369 non-null int64\n",
      "VehicleType          316879 non-null object\n",
      "RegistrationYear     354369 non-null int64\n",
      "Gearbox              334536 non-null object\n",
      "Power                354369 non-null int64\n",
      "Model                334664 non-null object\n",
      "Kilometer            354369 non-null int64\n",
      "RegistrationMonth    354369 non-null int64\n",
      "FuelType             321474 non-null object\n",
      "Brand                354369 non-null object\n",
      "NotRepaired          283215 non-null object\n",
      "DateCreated          354369 non-null object\n",
      "NumberOfPictures     354369 non-null int64\n",
      "PostalCode           354369 non-null int64\n",
      "LastSeen             354369 non-null object\n",
      "dtypes: int64(7), object(9)\n",
      "memory usage: 43.3+ MB\n"
     ]
    }
   ],
   "source": [
    "df.info()"
   ]
  },
  {
   "cell_type": "code",
   "execution_count": 42,
   "metadata": {},
   "outputs": [
    {
     "data": {
      "text/plain": [
       "DateCrawled          0.000000\n",
       "Price                0.000000\n",
       "VehicleType          0.105794\n",
       "RegistrationYear     0.000000\n",
       "Gearbox              0.055967\n",
       "Power                0.000000\n",
       "Model                0.055606\n",
       "Kilometer            0.000000\n",
       "RegistrationMonth    0.000000\n",
       "FuelType             0.092827\n",
       "Brand                0.000000\n",
       "NotRepaired          0.200791\n",
       "DateCreated          0.000000\n",
       "NumberOfPictures     0.000000\n",
       "PostalCode           0.000000\n",
       "LastSeen             0.000000\n",
       "dtype: float64"
      ]
     },
     "execution_count": 42,
     "metadata": {},
     "output_type": "execute_result"
    }
   ],
   "source": [
    "df.isna().mean()"
   ]
  },
  {
   "cell_type": "markdown",
   "metadata": {},
   "source": [
    "В данных имеются пропущенные значения у признаков VehicleType, Gearbox, Model, FuelType, NotRepaired. Заменим пропуски на \"unknown\", чтобы в дальнейшем была возможность работать с такими строками."
   ]
  },
  {
   "cell_type": "code",
   "execution_count": 43,
   "metadata": {},
   "outputs": [],
   "source": [
    "df = df.fillna(\"unknown\")"
   ]
  },
  {
   "cell_type": "markdown",
   "metadata": {},
   "source": [
    "<div style=\"background: #cceeaa; padding: 5px; border: 1px solid green; border-radius: 5px;\">\n",
    "<font color='green'><u><b>КОММЕНТАРИЙ РЕВЬЮЕРА</b></u>\n",
    "<font color='green'><br>С категориаьными факторами, т.е. пропусками в них: действиетльно, подчас непросто их заполнить. И выход - подстановка новой категории \"неизвестно\" (\"другое\") видится оправданным. Или удалить)"
   ]
  },
  {
   "cell_type": "markdown",
   "metadata": {},
   "source": [
    "Обработаем дубликаты:"
   ]
  },
  {
   "cell_type": "code",
   "execution_count": 44,
   "metadata": {},
   "outputs": [
    {
     "data": {
      "text/plain": [
       "4"
      ]
     },
     "execution_count": 44,
     "metadata": {},
     "output_type": "execute_result"
    }
   ],
   "source": [
    "df.duplicated().sum()"
   ]
  },
  {
   "cell_type": "code",
   "execution_count": 45,
   "metadata": {},
   "outputs": [],
   "source": [
    "df = df.drop_duplicates().reset_index(drop = True)"
   ]
  },
  {
   "cell_type": "code",
   "execution_count": 46,
   "metadata": {},
   "outputs": [
    {
     "data": {
      "text/plain": [
       "0"
      ]
     },
     "execution_count": 46,
     "metadata": {},
     "output_type": "execute_result"
    }
   ],
   "source": [
    "len(df.query('NumberOfPictures > 0'))"
   ]
  },
  {
   "cell_type": "markdown",
   "metadata": {},
   "source": [
    "Удалим из набора данных признаки, которые не пригодятся для обучения моделей:"
   ]
  },
  {
   "cell_type": "code",
   "execution_count": 47,
   "metadata": {},
   "outputs": [],
   "source": [
    "df = df.drop(['DateCrawled', 'RegistrationMonth', 'DateCreated', 'NumberOfPictures', 'PostalCode', 'LastSeen'], axis=1)"
   ]
  },
  {
   "cell_type": "markdown",
   "metadata": {},
   "source": [
    "<div style=\"background: #cceeaa; padding: 5px; border: 1px solid green; border-radius: 5px;\">\n",
    "<font color='green'><u><b>КОММЕНТАРИЙ РЕВЬЮЕРА</b></u>\n",
    "<font color='green'><br>категорически..... согласен с дропом) Кстати говоря, фактор \"PostCode\" можно попробовать оставить 1-2 первые цифры от почнового кода... тогда категорий будет меньше. И для модели - уже интереснее.. Но это на будущие исследования)"
   ]
  },
  {
   "cell_type": "markdown",
   "metadata": {},
   "source": [
    "Заменим типы данных на категориальные:"
   ]
  },
  {
   "cell_type": "code",
   "execution_count": 48,
   "metadata": {},
   "outputs": [],
   "source": [
    "df['VehicleType'] = df['VehicleType'].astype('category')\n",
    "df['Gearbox'] = df['Gearbox'].astype('category')\n",
    "df['Model'] = df['Model'].astype('category')\n",
    "df['FuelType'] = df['FuelType'].astype('category')\n",
    "df['Brand'] = df['Brand'].astype('category')\n",
    "df['NotRepaired'] = df['NotRepaired'].astype('category')"
   ]
  },
  {
   "cell_type": "markdown",
   "metadata": {},
   "source": [
    "Посмотрим на общую характеристику данных:"
   ]
  },
  {
   "cell_type": "code",
   "execution_count": 49,
   "metadata": {},
   "outputs": [
    {
     "data": {
      "text/html": [
       "<div>\n",
       "<style scoped>\n",
       "    .dataframe tbody tr th:only-of-type {\n",
       "        vertical-align: middle;\n",
       "    }\n",
       "\n",
       "    .dataframe tbody tr th {\n",
       "        vertical-align: top;\n",
       "    }\n",
       "\n",
       "    .dataframe thead th {\n",
       "        text-align: right;\n",
       "    }\n",
       "</style>\n",
       "<table border=\"1\" class=\"dataframe\">\n",
       "  <thead>\n",
       "    <tr style=\"text-align: right;\">\n",
       "      <th></th>\n",
       "      <th>count</th>\n",
       "      <th>mean</th>\n",
       "      <th>std</th>\n",
       "      <th>min</th>\n",
       "      <th>25%</th>\n",
       "      <th>50%</th>\n",
       "      <th>75%</th>\n",
       "      <th>max</th>\n",
       "    </tr>\n",
       "  </thead>\n",
       "  <tbody>\n",
       "    <tr>\n",
       "      <td>Price</td>\n",
       "      <td>354365.0</td>\n",
       "      <td>4416.679830</td>\n",
       "      <td>4514.176349</td>\n",
       "      <td>0.0</td>\n",
       "      <td>1050.0</td>\n",
       "      <td>2700.0</td>\n",
       "      <td>6400.0</td>\n",
       "      <td>20000.0</td>\n",
       "    </tr>\n",
       "    <tr>\n",
       "      <td>RegistrationYear</td>\n",
       "      <td>354365.0</td>\n",
       "      <td>2004.234481</td>\n",
       "      <td>90.228466</td>\n",
       "      <td>1000.0</td>\n",
       "      <td>1999.0</td>\n",
       "      <td>2003.0</td>\n",
       "      <td>2008.0</td>\n",
       "      <td>9999.0</td>\n",
       "    </tr>\n",
       "    <tr>\n",
       "      <td>Power</td>\n",
       "      <td>354365.0</td>\n",
       "      <td>110.093816</td>\n",
       "      <td>189.851330</td>\n",
       "      <td>0.0</td>\n",
       "      <td>69.0</td>\n",
       "      <td>105.0</td>\n",
       "      <td>143.0</td>\n",
       "      <td>20000.0</td>\n",
       "    </tr>\n",
       "    <tr>\n",
       "      <td>Kilometer</td>\n",
       "      <td>354365.0</td>\n",
       "      <td>128211.363989</td>\n",
       "      <td>37905.083858</td>\n",
       "      <td>5000.0</td>\n",
       "      <td>125000.0</td>\n",
       "      <td>150000.0</td>\n",
       "      <td>150000.0</td>\n",
       "      <td>150000.0</td>\n",
       "    </tr>\n",
       "  </tbody>\n",
       "</table>\n",
       "</div>"
      ],
      "text/plain": [
       "                     count           mean           std     min       25%  \\\n",
       "Price             354365.0    4416.679830   4514.176349     0.0    1050.0   \n",
       "RegistrationYear  354365.0    2004.234481     90.228466  1000.0    1999.0   \n",
       "Power             354365.0     110.093816    189.851330     0.0      69.0   \n",
       "Kilometer         354365.0  128211.363989  37905.083858  5000.0  125000.0   \n",
       "\n",
       "                       50%       75%       max  \n",
       "Price               2700.0    6400.0   20000.0  \n",
       "RegistrationYear    2003.0    2008.0    9999.0  \n",
       "Power                105.0     143.0   20000.0  \n",
       "Kilometer         150000.0  150000.0  150000.0  "
      ]
     },
     "execution_count": 49,
     "metadata": {},
     "output_type": "execute_result"
    }
   ],
   "source": [
    "df.describe().T"
   ]
  },
  {
   "cell_type": "markdown",
   "metadata": {},
   "source": [
    "В данных имеются редкие и аномальные значения, обработаем и удалим их из выборки."
   ]
  },
  {
   "cell_type": "code",
   "execution_count": 50,
   "metadata": {},
   "outputs": [
    {
     "data": {
      "image/png": "[encoded data removed]",
      "text/plain": [
       "<Figure size 432x288 with 1 Axes>"
      ]
     },
     "metadata": {
      "needs_background": "light"
     },
     "output_type": "display_data"
    }
   ],
   "source": [
    "df.boxplot(column='Price')\n",
    "plt.show()"
   ]
  },
  {
   "cell_type": "code",
   "execution_count": 51,
   "metadata": {},
   "outputs": [
    {
     "data": {
      "image/png": "[encoded data removed]",
      "text/plain": [
       "<Figure size 432x288 with 1 Axes>"
      ]
     },
     "metadata": {
      "needs_background": "light"
     },
     "output_type": "display_data"
    }
   ],
   "source": [
    "df.boxplot(column='RegistrationYear')\n",
    "plt.ylim(1920, 2050)\n",
    "plt.show()"
   ]
  },
  {
   "cell_type": "code",
   "execution_count": 52,
   "metadata": {
    "scrolled": true
   },
   "outputs": [
    {
     "data": {
      "image/png": "[encoded data removed]",
      "text/plain": [
       "<Figure size 432x288 with 1 Axes>"
      ]
     },
     "metadata": {
      "needs_background": "light"
     },
     "output_type": "display_data"
    }
   ],
   "source": [
    "df.boxplot(column='Power')\n",
    "plt.ylim(0, 400)\n",
    "plt.show()"
   ]
  },
  {
   "cell_type": "code",
   "execution_count": 53,
   "metadata": {},
   "outputs": [],
   "source": [
    "df = df.query('0<Price<=15000 & 1980<RegistrationYear<=2020 & 50<Power<=250').reset_index(drop=True)"
   ]
  },
  {
   "cell_type": "markdown",
   "metadata": {},
   "source": [
    "<b>Вывод</b>"
   ]
  },
  {
   "cell_type": "markdown",
   "metadata": {},
   "source": [
    "В данных обнаружены пропущенные значения, для возможности дальнейшей работы с ними пропуски заменены на \"unknown\". Также выявлены дублирующиеся значения, они удалены. В столбце NumberOfPictures все значения - 0, принято решение его удалить вместе с частью других признаков, не имеющих ценности для обучения моделей. Также осуществлена обработка данных от редких и аномальных значений."
   ]
  },
  {
   "cell_type": "markdown",
   "metadata": {},
   "source": [
    "<div style=\"background: #cceeaa; padding: 5px; border: 1px solid green; border-radius: 5px;\">\n",
    "<font color='green'><u><b>КОММЕНТАРИЙ РЕВЬЮЕРА</b></u>\n",
    "<font color='green'><br>ОК, хорошо. Есть такой ещё подход для работы с количественными данными: совместно со статистическим анализом проводить бизнес-анализ данных. Т.е. подключать понимание рынка и на этом понимании устанавливать отсечки. И также,оставлять ссылки на источник знаний по границам отсечек, чтобы это не выглядело, будто бы решение принимал аналитик исключительно от себя)<br>\n",
    "    \n",
    "    \n",
    "Такой ещё момент по регистрации: последняя дата регистрации на сайте - 2016 год. Значит всё что больше 2016 - аномалии..т.е. отсечку лучше делать не 2020, а 2016 в данном случае...<br>"
   ]
  },
  {
   "cell_type": "markdown",
   "metadata": {},
   "source": []
  },
  {
   "cell_type": "markdown",
   "metadata": {},
   "source": [
    "## Обучение моделей"
   ]
  },
  {
   "cell_type": "markdown",
   "metadata": {},
   "source": [
    "Преобразуем категориальные признаки в численные методом OHE:"
   ]
  },
  {
   "cell_type": "code",
   "execution_count": 54,
   "metadata": {},
   "outputs": [],
   "source": [
    "df_ohe = pd.get_dummies(df, drop_first=True)"
   ]
  },
  {
   "cell_type": "markdown",
   "metadata": {},
   "source": [
    "<div class=\"alert alert-block alert-info\">Преобразуем категориальные признаки в численные методом OE:</div>"
   ]
  },
  {
   "cell_type": "code",
   "execution_count": 55,
   "metadata": {},
   "outputs": [],
   "source": [
    "initial_features = df.drop('Price', axis=1)\n",
    "\n",
    "encoder = OrdinalEncoder()\n",
    "category_columns = ['VehicleType', 'Gearbox', 'FuelType', 'Brand', 'Model', 'NotRepaired']\n",
    "category_features = initial_features[category_columns]\n",
    "category_features = pd.DataFrame(encoder.fit_transform(category_features),\n",
    "                                columns=category_features.columns, \n",
    "                                index=category_features.index)\n",
    "ordinal_features = initial_features.copy()\n",
    "for column in category_columns:\n",
    "    ordinal_features[column] = category_features[column]"
   ]
  },
  {
   "cell_type": "markdown",
   "metadata": {},
   "source": [
    "<div style=\"background: #ffeeaa; padding: 5px; border: 1px solid green; border-radius: 5px;\">\n",
    "<font color='green'><u><b>КОММЕНТАРИЙ РЕВЬЮЕРА</b></u>\n",
    "<font color='green'><br>ОК)<br>\n",
    "Единствкенное -вот что: из-за таких факторов, как модель и бренд - слишком много категорий - получается много столбцов для работы. Поэтому, в таких случаях лучше использовать ordinal-категоризацию. В этом проекте как раз задумано поиспользовать этот подход) Будет здорово, если попробуешь! (категоризируем ТОЛЬКО категориальные стобцы, числовые исключаем)"
   ]
  },
  {
   "cell_type": "markdown",
   "metadata": {},
   "source": [
    "Разобъем данные на выборки, используя датафрейм, преобразованный методом ОНЕ:"
   ]
  },
  {
   "cell_type": "code",
   "execution_count": 56,
   "metadata": {},
   "outputs": [],
   "source": [
    "target = df_ohe['Price']\n",
    "features = df_ohe.drop('Price', axis=1)"
   ]
  },
  {
   "cell_type": "code",
   "execution_count": 57,
   "metadata": {},
   "outputs": [],
   "source": [
    "features_train, features_valid, target_train, target_valid = train_test_split(features, \n",
    "                                                                              target, \n",
    "                                                                              train_size=0.75, \n",
    "                                                                              test_size=0.25, \n",
    "                                                                              random_state=12345)"
   ]
  },
  {
   "cell_type": "code",
   "execution_count": 58,
   "metadata": {},
   "outputs": [],
   "source": [
    "features_valid, features_test, target_valid, target_test = train_test_split(features_valid, \n",
    "                                                                            target_valid, \n",
    "                                                                            train_size=0.50, \n",
    "                                                                            test_size=0.50, \n",
    "                                                                            random_state=12345)"
   ]
  },
  {
   "cell_type": "code",
   "execution_count": 59,
   "metadata": {},
   "outputs": [
    {
     "name": "stdout",
     "output_type": "stream",
     "text": [
      "(206835, 311) (34473, 311) (34473, 311)\n"
     ]
    }
   ],
   "source": [
    "print(features_train.shape, features_valid.shape, features_test.shape)"
   ]
  },
  {
   "cell_type": "markdown",
   "metadata": {},
   "source": [
    "<div class=\"alert alert-block alert-info\">Разобъем данные, преобразованный методом ОЕ, на выборки:</div>"
   ]
  },
  {
   "cell_type": "code",
   "execution_count": 60,
   "metadata": {},
   "outputs": [],
   "source": [
    "ordinal_target = df['Price']\n",
    "initial_features_train, initial_features_valid, initial_target_train, initial_target_valid = train_test_split(initial_features, \n",
    "                                                                              ordinal_target, \n",
    "                                                                              train_size=0.75, \n",
    "                                                                              test_size=0.25, \n",
    "                                                                              random_state=12345)\n",
    "\n",
    "initial_features_valid, initial_features_test, initial_target_valid, initial_target_test = train_test_split(initial_features_valid, \n",
    "                                                                              initial_target_valid, \n",
    "                                                                              train_size=0.5, \n",
    "                                                                              test_size=0.5, \n",
    "                                                                              random_state=12345)\n",
    "\n",
    "ordinal_features_train = ordinal_features.loc[initial_features_train.index, :]\n",
    "ordinal_features_valid = ordinal_features.loc[initial_features_valid.index, :]\n",
    "ordinal_features_test = ordinal_features.loc[initial_features_test.index, :]"
   ]
  },
  {
   "cell_type": "markdown",
   "metadata": {},
   "source": [
    "Масштабируем признаки:"
   ]
  },
  {
   "cell_type": "code",
   "execution_count": 61,
   "metadata": {},
   "outputs": [],
   "source": [
    "numeric = ['RegistrationYear', 'Power', 'Kilometer']\n",
    "scaler = StandardScaler()\n",
    "scaler.fit(features_train[numeric])\n",
    "\n",
    "features_train[numeric] = scaler.transform(features_train[numeric])\n",
    "features_valid[numeric] = scaler.transform(features_valid[numeric])\n",
    "features_test[numeric] = scaler.transform(features_test[numeric])"
   ]
  },
  {
   "cell_type": "code",
   "execution_count": 62,
   "metadata": {},
   "outputs": [],
   "source": [
    "result = []\n",
    "result_oe = []"
   ]
  },
  {
   "cell_type": "markdown",
   "metadata": {},
   "source": [
    "<div style=\"background: #cceeaa; padding: 5px; border: 1px solid green; border-radius: 5px;\">\n",
    "<font color='green'><u><b>КОММЕНТАРИЙ РЕВЬЮЕРА</b></u>\n",
    "<font color='green'><br>ок, раздельно)"
   ]
  },
  {
   "cell_type": "markdown",
   "metadata": {},
   "source": [
    "<b>Модель градиентного бустинга c помощью библиотеки LightGBM (ОНЕ)</b>"
   ]
  },
  {
   "cell_type": "code",
   "execution_count": 63,
   "metadata": {},
   "outputs": [],
   "source": [
    "parameters = {'boosting_type': 'gbdt', \n",
    "              'max_depth': 11, \n",
    "              'n_estimators': 120, \n",
    "              'random_state': 123}\n",
    "\n",
    "model_lgbm = LGBMRegressor(**parameters)\n",
    "\n",
    "start_fit = time.time()\n",
    "model_lgbm.fit(features_train, target_train)\n",
    "end_fit = time.time() - start_fit\n",
    "\n",
    "start_predict = time.time()\n",
    "predict_lgbm = model_lgbm.predict(features_valid, verbose=2)\n",
    "end_predict = time.time() - start_predict\n",
    "\n",
    "RMSE = mean_squared_error(target_valid, predict_lgbm)**0.5\n",
    "\n",
    "result.append({'Модель': 'LGBMRegressor', \n",
    "               'Параметры': parameters,\n",
    "               'Время обучения': end_fit, \n",
    "               'Скорость предсказания': end_predict,\n",
    "               'RMSE': RMSE})"
   ]
  },
  {
   "cell_type": "markdown",
   "metadata": {},
   "source": [
    "<b><div class=\"alert alert-block alert-info\">Модель градиентного бустинга c помощью библиотеки LightGBM (ОЕ)</div></b>"
   ]
  },
  {
   "cell_type": "code",
   "execution_count": 64,
   "metadata": {},
   "outputs": [],
   "source": [
    "parameters = {'boosting_type': 'gbdt', \n",
    "              'max_depth': 11, \n",
    "              'n_estimators': 120, \n",
    "              'random_state': 123}\n",
    "\n",
    "model_lgbm_oe = LGBMRegressor(**parameters)\n",
    "\n",
    "start_fit = time.time()\n",
    "model_lgbm_oe.fit(ordinal_features_train, initial_target_train)\n",
    "end_fit = time.time() - start_fit\n",
    "\n",
    "start_predict = time.time()\n",
    "predict_lgbm_oe = model_lgbm_oe.predict(ordinal_features_valid, verbose=2)\n",
    "end_predict = time.time() - start_predict\n",
    "\n",
    "RMSE = mean_squared_error(initial_target_valid, predict_lgbm_oe)**0.5\n",
    "\n",
    "result_oe.append({'Модель': 'LGBMRegressor', \n",
    "               'Параметры': parameters,\n",
    "               'Время обучения': end_fit, \n",
    "               'Скорость предсказания': end_predict,\n",
    "               'RMSE': RMSE})"
   ]
  },
  {
   "cell_type": "markdown",
   "metadata": {},
   "source": [
    "<b>Модель градиентного бустинга c помощью библиотеки CatBoost (OHE)</b>"
   ]
  },
  {
   "cell_type": "code",
   "execution_count": 65,
   "metadata": {},
   "outputs": [
    {
     "name": "stdout",
     "output_type": "stream",
     "text": [
      "0:\tlearn: 3587.6410377\ttotal: 43.4ms\tremaining: 391ms\n",
      "1:\tlearn: 3524.7237548\ttotal: 148ms\tremaining: 591ms\n",
      "2:\tlearn: 3465.5642645\ttotal: 340ms\tremaining: 793ms\n",
      "3:\tlearn: 3405.3678893\ttotal: 443ms\tremaining: 665ms\n",
      "4:\tlearn: 3350.7787811\ttotal: 548ms\tremaining: 548ms\n",
      "5:\tlearn: 3296.6744065\ttotal: 737ms\tremaining: 491ms\n",
      "6:\tlearn: 3242.2274797\ttotal: 840ms\tremaining: 360ms\n",
      "7:\tlearn: 3190.0301067\ttotal: 943ms\tremaining: 236ms\n",
      "8:\tlearn: 3140.4248233\ttotal: 1.05s\tremaining: 117ms\n",
      "9:\tlearn: 3090.4625963\ttotal: 1.24s\tremaining: 0us\n",
      "0:\tlearn: 3580.4263886\ttotal: 102ms\tremaining: 918ms\n",
      "1:\tlearn: 3511.1518407\ttotal: 295ms\tremaining: 1.18s\n",
      "2:\tlearn: 3444.2088733\ttotal: 491ms\tremaining: 1.15s\n",
      "3:\tlearn: 3377.9552412\ttotal: 598ms\tremaining: 897ms\n",
      "4:\tlearn: 3315.6273701\ttotal: 792ms\tremaining: 792ms\n",
      "5:\tlearn: 3256.3648056\ttotal: 989ms\tremaining: 659ms\n",
      "6:\tlearn: 3198.6589014\ttotal: 1.1s\tremaining: 471ms\n",
      "7:\tlearn: 3144.4697634\ttotal: 1.29s\tremaining: 323ms\n",
      "8:\tlearn: 3090.4556221\ttotal: 1.49s\tremaining: 165ms\n",
      "9:\tlearn: 3038.3953308\ttotal: 1.59s\tremaining: 0us\n",
      "0:\tlearn: 3576.8292240\ttotal: 129ms\tremaining: 1.16s\n",
      "1:\tlearn: 3503.6380302\ttotal: 321ms\tremaining: 1.28s\n",
      "2:\tlearn: 3433.4714494\ttotal: 606ms\tremaining: 1.41s\n",
      "3:\tlearn: 3365.7902474\ttotal: 806ms\tremaining: 1.21s\n",
      "4:\tlearn: 3299.6794424\ttotal: 1.01s\tremaining: 1.01s\n",
      "5:\tlearn: 3236.8377483\ttotal: 1.21s\tremaining: 809ms\n",
      "6:\tlearn: 3176.7974391\ttotal: 1.41s\tremaining: 606ms\n",
      "7:\tlearn: 3117.6521662\ttotal: 1.61s\tremaining: 403ms\n",
      "8:\tlearn: 3060.9465561\ttotal: 1.81s\tremaining: 201ms\n",
      "9:\tlearn: 3005.6465715\ttotal: 2.1s\tremaining: 0us\n",
      "0:\tlearn: 3587.6410377\ttotal: 49.5ms\tremaining: 1.44s\n",
      "1:\tlearn: 3524.7237548\ttotal: 152ms\tremaining: 2.13s\n",
      "2:\tlearn: 3465.5642645\ttotal: 256ms\tremaining: 2.3s\n",
      "3:\tlearn: 3405.3678893\ttotal: 445ms\tremaining: 2.89s\n",
      "4:\tlearn: 3350.7787811\ttotal: 553ms\tremaining: 2.77s\n",
      "5:\tlearn: 3296.6744065\ttotal: 745ms\tremaining: 2.98s\n",
      "6:\tlearn: 3242.2274797\ttotal: 852ms\tremaining: 2.8s\n",
      "7:\tlearn: 3190.0301067\ttotal: 1.04s\tremaining: 2.86s\n",
      "8:\tlearn: 3140.4248233\ttotal: 1.15s\tremaining: 2.68s\n",
      "9:\tlearn: 3090.4625963\ttotal: 1.25s\tremaining: 2.5s\n",
      "10:\tlearn: 3044.7961146\ttotal: 1.44s\tremaining: 2.49s\n",
      "11:\tlearn: 3000.8037756\ttotal: 1.54s\tremaining: 2.32s\n",
      "12:\tlearn: 2958.4952839\ttotal: 1.65s\tremaining: 2.15s\n",
      "13:\tlearn: 2918.3725708\ttotal: 1.84s\tremaining: 2.1s\n",
      "14:\tlearn: 2879.3502310\ttotal: 1.94s\tremaining: 1.94s\n",
      "15:\tlearn: 2842.6846551\ttotal: 2.04s\tremaining: 1.79s\n",
      "16:\tlearn: 2804.1463923\ttotal: 2.23s\tremaining: 1.71s\n",
      "17:\tlearn: 2767.5562635\ttotal: 2.34s\tremaining: 1.56s\n",
      "18:\tlearn: 2731.7628205\ttotal: 2.44s\tremaining: 1.41s\n",
      "19:\tlearn: 2699.3134638\ttotal: 2.63s\tremaining: 1.32s\n",
      "20:\tlearn: 2666.4504586\ttotal: 2.74s\tremaining: 1.17s\n",
      "21:\tlearn: 2636.0343604\ttotal: 2.84s\tremaining: 1.03s\n",
      "22:\tlearn: 2605.1244672\ttotal: 3.03s\tremaining: 923ms\n",
      "23:\tlearn: 2575.9417080\ttotal: 3.14s\tremaining: 784ms\n",
      "24:\tlearn: 2549.3714890\ttotal: 3.33s\tremaining: 666ms\n",
      "25:\tlearn: 2523.6355531\ttotal: 3.43s\tremaining: 528ms\n",
      "26:\tlearn: 2497.2875249\ttotal: 3.54s\tremaining: 393ms\n",
      "27:\tlearn: 2473.4747613\ttotal: 3.73s\tremaining: 266ms\n",
      "28:\tlearn: 2448.9173179\ttotal: 3.83s\tremaining: 132ms\n",
      "29:\tlearn: 2424.9387053\ttotal: 3.94s\tremaining: 0us\n",
      "0:\tlearn: 3580.4263886\ttotal: 95.7ms\tremaining: 2.77s\n",
      "1:\tlearn: 3511.1518407\ttotal: 286ms\tremaining: 4.01s\n",
      "2:\tlearn: 3444.2088733\ttotal: 484ms\tremaining: 4.36s\n",
      "3:\tlearn: 3377.9552412\ttotal: 682ms\tremaining: 4.43s\n",
      "4:\tlearn: 3315.6273701\ttotal: 880ms\tremaining: 4.4s\n",
      "5:\tlearn: 3256.3648056\ttotal: 990ms\tremaining: 3.96s\n",
      "6:\tlearn: 3198.6589014\ttotal: 1.19s\tremaining: 3.9s\n",
      "7:\tlearn: 3144.4697634\ttotal: 1.38s\tremaining: 3.79s\n",
      "8:\tlearn: 3090.4556221\ttotal: 1.58s\tremaining: 3.68s\n",
      "9:\tlearn: 3038.3953308\ttotal: 1.68s\tremaining: 3.37s\n",
      "10:\tlearn: 2988.0817269\ttotal: 1.88s\tremaining: 3.25s\n",
      "11:\tlearn: 2940.9436585\ttotal: 2.08s\tremaining: 3.11s\n",
      "12:\tlearn: 2894.4824545\ttotal: 2.27s\tremaining: 2.97s\n",
      "13:\tlearn: 2848.2388534\ttotal: 2.38s\tremaining: 2.72s\n",
      "14:\tlearn: 2805.6297272\ttotal: 2.58s\tremaining: 2.58s\n",
      "15:\tlearn: 2764.7092077\ttotal: 2.77s\tremaining: 2.42s\n",
      "16:\tlearn: 2723.8561674\ttotal: 2.89s\tremaining: 2.21s\n",
      "17:\tlearn: 2686.7199474\ttotal: 3.08s\tremaining: 2.05s\n",
      "18:\tlearn: 2649.5752289\ttotal: 3.27s\tremaining: 1.89s\n",
      "19:\tlearn: 2614.7613840\ttotal: 3.39s\tremaining: 1.69s\n",
      "20:\tlearn: 2580.0897796\ttotal: 3.58s\tremaining: 1.53s\n",
      "21:\tlearn: 2547.0191250\ttotal: 3.77s\tremaining: 1.37s\n",
      "22:\tlearn: 2515.8970824\ttotal: 3.97s\tremaining: 1.21s\n",
      "23:\tlearn: 2485.1145160\ttotal: 4.08s\tremaining: 1.02s\n",
      "24:\tlearn: 2455.9212585\ttotal: 4.28s\tremaining: 855ms\n",
      "25:\tlearn: 2427.7232836\ttotal: 4.47s\tremaining: 687ms\n",
      "26:\tlearn: 2400.9728174\ttotal: 4.66s\tremaining: 518ms\n",
      "27:\tlearn: 2374.6514559\ttotal: 4.77s\tremaining: 341ms\n",
      "28:\tlearn: 2349.2133578\ttotal: 4.96s\tremaining: 171ms\n",
      "29:\tlearn: 2326.1775652\ttotal: 5.16s\tremaining: 0us\n",
      "0:\tlearn: 3576.8292240\ttotal: 203ms\tremaining: 5.88s\n",
      "1:\tlearn: 3503.6380302\ttotal: 402ms\tremaining: 5.63s\n",
      "2:\tlearn: 3433.4714494\ttotal: 606ms\tremaining: 5.45s\n",
      "3:\tlearn: 3365.7902474\ttotal: 808ms\tremaining: 5.25s\n",
      "4:\tlearn: 3299.6794424\ttotal: 1.1s\tremaining: 5.48s\n",
      "5:\tlearn: 3236.8377483\ttotal: 1.3s\tremaining: 5.19s\n",
      "6:\tlearn: 3176.7974391\ttotal: 1.5s\tremaining: 4.93s\n",
      "7:\tlearn: 3117.6521662\ttotal: 1.7s\tremaining: 4.69s\n",
      "8:\tlearn: 3060.9465561\ttotal: 1.9s\tremaining: 4.44s\n",
      "9:\tlearn: 3005.6465715\ttotal: 2.11s\tremaining: 4.22s\n",
      "10:\tlearn: 2954.3154907\ttotal: 2.39s\tremaining: 4.13s\n",
      "11:\tlearn: 2904.2029189\ttotal: 2.6s\tremaining: 3.89s\n",
      "12:\tlearn: 2855.1483408\ttotal: 2.79s\tremaining: 3.65s\n",
      "13:\tlearn: 2807.3926963\ttotal: 3s\tremaining: 3.42s\n",
      "14:\tlearn: 2761.6424717\ttotal: 3.2s\tremaining: 3.2s\n",
      "15:\tlearn: 2718.3796963\ttotal: 3.4s\tremaining: 2.97s\n",
      "16:\tlearn: 2675.3699759\ttotal: 3.6s\tremaining: 2.75s\n",
      "17:\tlearn: 2635.7371079\ttotal: 3.89s\tremaining: 2.59s\n",
      "18:\tlearn: 2596.6639677\ttotal: 4.09s\tremaining: 2.37s\n",
      "19:\tlearn: 2558.7230058\ttotal: 4.29s\tremaining: 2.15s\n",
      "20:\tlearn: 2523.1492078\ttotal: 4.5s\tremaining: 1.93s\n",
      "21:\tlearn: 2488.2367365\ttotal: 4.7s\tremaining: 1.71s\n",
      "22:\tlearn: 2455.4614565\ttotal: 4.91s\tremaining: 1.49s\n",
      "23:\tlearn: 2423.8463278\ttotal: 5.19s\tremaining: 1.3s\n",
      "24:\tlearn: 2393.3993623\ttotal: 5.39s\tremaining: 1.08s\n",
      "25:\tlearn: 2363.8411630\ttotal: 5.59s\tremaining: 861ms\n",
      "26:\tlearn: 2335.8039233\ttotal: 5.88s\tremaining: 653ms\n",
      "27:\tlearn: 2308.9637004\ttotal: 6.09s\tremaining: 435ms\n",
      "28:\tlearn: 2282.6253188\ttotal: 6.29s\tremaining: 217ms\n",
      "29:\tlearn: 2257.6222884\ttotal: 6.58s\tremaining: 0us\n",
      "0:\tlearn: 3587.6410377\ttotal: 22.9ms\tremaining: 1.12s\n",
      "1:\tlearn: 3524.7237548\ttotal: 127ms\tremaining: 3.06s\n",
      "2:\tlearn: 3465.5642645\ttotal: 319ms\tremaining: 5s\n",
      "3:\tlearn: 3405.3678893\ttotal: 424ms\tremaining: 4.87s\n",
      "4:\tlearn: 3350.7787811\ttotal: 535ms\tremaining: 4.81s\n",
      "5:\tlearn: 3296.6744065\ttotal: 719ms\tremaining: 5.27s\n",
      "6:\tlearn: 3242.2274797\ttotal: 824ms\tremaining: 5.06s\n",
      "7:\tlearn: 3190.0301067\ttotal: 1.01s\tremaining: 5.33s\n",
      "8:\tlearn: 3140.4248233\ttotal: 1.12s\tremaining: 5.1s\n",
      "9:\tlearn: 3090.4625963\ttotal: 1.22s\tremaining: 4.89s\n",
      "10:\tlearn: 3044.7961146\ttotal: 1.41s\tremaining: 5.01s\n",
      "11:\tlearn: 3000.8037756\ttotal: 1.51s\tremaining: 4.8s\n",
      "12:\tlearn: 2958.4952839\ttotal: 1.62s\tremaining: 4.62s\n",
      "13:\tlearn: 2918.3725708\ttotal: 1.81s\tremaining: 4.66s\n",
      "14:\tlearn: 2879.3502310\ttotal: 1.92s\tremaining: 4.47s\n",
      "15:\tlearn: 2842.6846551\ttotal: 2.02s\tremaining: 4.29s\n",
      "16:\tlearn: 2804.1463923\ttotal: 2.21s\tremaining: 4.29s\n",
      "17:\tlearn: 2767.5562635\ttotal: 2.31s\tremaining: 4.11s\n",
      "18:\tlearn: 2731.7628205\ttotal: 2.42s\tremaining: 3.94s\n",
      "19:\tlearn: 2699.3134638\ttotal: 2.61s\tremaining: 3.91s\n",
      "20:\tlearn: 2666.4504586\ttotal: 2.71s\tremaining: 3.74s\n",
      "21:\tlearn: 2636.0343604\ttotal: 2.81s\tremaining: 3.58s\n",
      "22:\tlearn: 2605.1244672\ttotal: 3s\tremaining: 3.53s\n",
      "23:\tlearn: 2575.9417080\ttotal: 3.1s\tremaining: 3.36s\n",
      "24:\tlearn: 2549.3714890\ttotal: 3.21s\tremaining: 3.21s\n",
      "25:\tlearn: 2523.6355531\ttotal: 3.31s\tremaining: 3.06s\n",
      "26:\tlearn: 2497.2875249\ttotal: 3.5s\tremaining: 2.98s\n",
      "27:\tlearn: 2473.4747613\ttotal: 3.6s\tremaining: 2.83s\n",
      "28:\tlearn: 2448.9173179\ttotal: 3.71s\tremaining: 2.69s\n",
      "29:\tlearn: 2424.9387053\ttotal: 3.9s\tremaining: 2.6s\n",
      "30:\tlearn: 2402.5329680\ttotal: 4s\tremaining: 2.45s\n",
      "31:\tlearn: 2382.4908626\ttotal: 4.1s\tremaining: 2.31s\n",
      "32:\tlearn: 2361.2373419\ttotal: 4.3s\tremaining: 2.21s\n",
      "33:\tlearn: 2342.2348613\ttotal: 4.4s\tremaining: 2.07s\n",
      "34:\tlearn: 2322.7725243\ttotal: 4.5s\tremaining: 1.93s\n",
      "35:\tlearn: 2304.6562896\ttotal: 4.69s\tremaining: 1.82s\n",
      "36:\tlearn: 2286.7943519\ttotal: 4.8s\tremaining: 1.69s\n",
      "37:\tlearn: 2268.7374966\ttotal: 4.9s\tremaining: 1.55s\n",
      "38:\tlearn: 2252.6764392\ttotal: 5.09s\tremaining: 1.44s\n",
      "39:\tlearn: 2235.9919050\ttotal: 5.19s\tremaining: 1.3s\n",
      "40:\tlearn: 2220.8562179\ttotal: 5.3s\tremaining: 1.16s\n",
      "41:\tlearn: 2204.9831639\ttotal: 5.49s\tremaining: 1.04s\n",
      "42:\tlearn: 2189.2845310\ttotal: 5.59s\tremaining: 911ms\n",
      "43:\tlearn: 2175.6482044\ttotal: 5.7s\tremaining: 777ms\n",
      "44:\tlearn: 2161.6533415\ttotal: 5.89s\tremaining: 654ms\n",
      "45:\tlearn: 2147.6577692\ttotal: 5.99s\tremaining: 521ms\n",
      "46:\tlearn: 2134.3060062\ttotal: 6.09s\tremaining: 389ms\n",
      "47:\tlearn: 2121.9767745\ttotal: 6.28s\tremaining: 262ms\n",
      "48:\tlearn: 2110.5469986\ttotal: 6.39s\tremaining: 130ms\n",
      "49:\tlearn: 2099.7469802\ttotal: 6.49s\tremaining: 0us\n",
      "0:\tlearn: 3580.4263886\ttotal: 79ms\tremaining: 3.87s\n",
      "1:\tlearn: 3511.1518407\ttotal: 275ms\tremaining: 6.59s\n",
      "2:\tlearn: 3444.2088733\ttotal: 471ms\tremaining: 7.38s\n",
      "3:\tlearn: 3377.9552412\ttotal: 667ms\tremaining: 7.67s\n",
      "4:\tlearn: 3315.6273701\ttotal: 777ms\tremaining: 7s\n",
      "5:\tlearn: 3256.3648056\ttotal: 972ms\tremaining: 7.13s\n",
      "6:\tlearn: 3198.6589014\ttotal: 1.17s\tremaining: 7.2s\n",
      "7:\tlearn: 3144.4697634\ttotal: 1.37s\tremaining: 7.17s\n",
      "8:\tlearn: 3090.4556221\ttotal: 1.48s\tremaining: 6.76s\n",
      "9:\tlearn: 3038.3953308\ttotal: 1.67s\tremaining: 6.67s\n",
      "10:\tlearn: 2988.0817269\ttotal: 1.86s\tremaining: 6.61s\n",
      "11:\tlearn: 2940.9436585\ttotal: 1.98s\tremaining: 6.26s\n",
      "12:\tlearn: 2894.4824545\ttotal: 2.17s\tremaining: 6.18s\n",
      "13:\tlearn: 2848.2388534\ttotal: 2.36s\tremaining: 6.08s\n",
      "14:\tlearn: 2805.6297272\ttotal: 2.56s\tremaining: 5.97s\n",
      "15:\tlearn: 2764.7092077\ttotal: 2.67s\tremaining: 5.67s\n",
      "16:\tlearn: 2723.8561674\ttotal: 2.87s\tremaining: 5.57s\n",
      "17:\tlearn: 2686.7199474\ttotal: 3.07s\tremaining: 5.46s\n",
      "18:\tlearn: 2649.5752289\ttotal: 3.27s\tremaining: 5.34s\n",
      "19:\tlearn: 2614.7613840\ttotal: 3.47s\tremaining: 5.2s\n",
      "20:\tlearn: 2580.0897796\ttotal: 3.66s\tremaining: 5.06s\n",
      "21:\tlearn: 2547.0191250\ttotal: 3.87s\tremaining: 4.92s\n",
      "22:\tlearn: 2515.8970824\ttotal: 4.06s\tremaining: 4.77s\n",
      "23:\tlearn: 2485.1145160\ttotal: 4.25s\tremaining: 4.61s\n",
      "24:\tlearn: 2455.9212585\ttotal: 4.36s\tremaining: 4.36s\n",
      "25:\tlearn: 2427.7232836\ttotal: 4.56s\tremaining: 4.21s\n",
      "26:\tlearn: 2400.9728174\ttotal: 4.75s\tremaining: 4.05s\n",
      "27:\tlearn: 2374.6514559\ttotal: 4.95s\tremaining: 3.89s\n",
      "28:\tlearn: 2349.2133578\ttotal: 5.06s\tremaining: 3.66s\n",
      "29:\tlearn: 2326.1775652\ttotal: 5.25s\tremaining: 3.5s\n",
      "30:\tlearn: 2303.4633489\ttotal: 5.45s\tremaining: 3.34s\n",
      "31:\tlearn: 2280.4121251\ttotal: 5.56s\tremaining: 3.13s\n",
      "32:\tlearn: 2258.4863794\ttotal: 5.75s\tremaining: 2.96s\n",
      "33:\tlearn: 2237.6450383\ttotal: 5.95s\tremaining: 2.8s\n",
      "34:\tlearn: 2217.5893413\ttotal: 6.06s\tremaining: 2.6s\n",
      "35:\tlearn: 2198.6880903\ttotal: 6.25s\tremaining: 2.43s\n",
      "36:\tlearn: 2180.5773426\ttotal: 6.45s\tremaining: 2.26s\n",
      "37:\tlearn: 2163.2598119\ttotal: 6.64s\tremaining: 2.1s\n",
      "38:\tlearn: 2146.0729375\ttotal: 6.75s\tremaining: 1.9s\n",
      "39:\tlearn: 2130.1808272\ttotal: 6.95s\tremaining: 1.74s\n",
      "40:\tlearn: 2114.0646119\ttotal: 7.14s\tremaining: 1.57s\n",
      "41:\tlearn: 2098.2524295\ttotal: 7.34s\tremaining: 1.4s\n",
      "42:\tlearn: 2083.5635553\ttotal: 7.45s\tremaining: 1.21s\n",
      "43:\tlearn: 2069.1845740\ttotal: 7.64s\tremaining: 1.04s\n",
      "44:\tlearn: 2055.4644337\ttotal: 7.83s\tremaining: 871ms\n",
      "45:\tlearn: 2041.9660899\ttotal: 7.94s\tremaining: 691ms\n",
      "46:\tlearn: 2029.7138324\ttotal: 8.14s\tremaining: 519ms\n",
      "47:\tlearn: 2017.3835981\ttotal: 8.25s\tremaining: 344ms\n",
      "48:\tlearn: 2005.9392300\ttotal: 8.44s\tremaining: 172ms\n",
      "49:\tlearn: 1994.4939132\ttotal: 8.63s\tremaining: 0us\n",
      "0:\tlearn: 3576.8292240\ttotal: 192ms\tremaining: 9.4s\n",
      "1:\tlearn: 3503.6380302\ttotal: 393ms\tremaining: 9.44s\n",
      "2:\tlearn: 3433.4714494\ttotal: 598ms\tremaining: 9.37s\n",
      "3:\tlearn: 3365.7902474\ttotal: 799ms\tremaining: 9.18s\n",
      "4:\tlearn: 3299.6794424\ttotal: 1.08s\tremaining: 9.77s\n",
      "5:\tlearn: 3236.8377483\ttotal: 1.29s\tremaining: 9.43s\n",
      "6:\tlearn: 3176.7974391\ttotal: 1.49s\tremaining: 9.15s\n",
      "7:\tlearn: 3117.6521662\ttotal: 1.69s\tremaining: 8.87s\n",
      "8:\tlearn: 3060.9465561\ttotal: 1.9s\tremaining: 8.67s\n",
      "9:\tlearn: 3005.6465715\ttotal: 2.1s\tremaining: 8.42s\n",
      "10:\tlearn: 2954.3154907\ttotal: 2.38s\tremaining: 8.44s\n",
      "11:\tlearn: 2904.2029189\ttotal: 2.58s\tremaining: 8.19s\n",
      "12:\tlearn: 2855.1483408\ttotal: 2.78s\tremaining: 7.93s\n",
      "13:\tlearn: 2807.3926963\ttotal: 2.98s\tremaining: 7.67s\n",
      "14:\tlearn: 2761.6424717\ttotal: 3.19s\tremaining: 7.44s\n",
      "15:\tlearn: 2718.3796963\ttotal: 3.39s\tremaining: 7.2s\n",
      "16:\tlearn: 2675.3699759\ttotal: 3.59s\tremaining: 6.97s\n",
      "17:\tlearn: 2635.7371079\ttotal: 3.79s\tremaining: 6.74s\n",
      "18:\tlearn: 2596.6639677\ttotal: 3.99s\tremaining: 6.51s\n",
      "19:\tlearn: 2558.7230058\ttotal: 4.19s\tremaining: 6.29s\n",
      "20:\tlearn: 2523.1492078\ttotal: 4.47s\tremaining: 6.18s\n",
      "21:\tlearn: 2488.2367365\ttotal: 4.68s\tremaining: 5.95s\n",
      "22:\tlearn: 2455.4614565\ttotal: 4.88s\tremaining: 5.73s\n",
      "23:\tlearn: 2423.8463278\ttotal: 5.08s\tremaining: 5.51s\n",
      "24:\tlearn: 2393.3993623\ttotal: 5.37s\tremaining: 5.37s\n",
      "25:\tlearn: 2363.8411630\ttotal: 5.57s\tremaining: 5.14s\n",
      "26:\tlearn: 2335.8039233\ttotal: 5.77s\tremaining: 4.92s\n",
      "27:\tlearn: 2308.9637004\ttotal: 5.97s\tremaining: 4.69s\n",
      "28:\tlearn: 2282.6253188\ttotal: 6.17s\tremaining: 4.47s\n",
      "29:\tlearn: 2257.6222884\ttotal: 6.38s\tremaining: 4.25s\n",
      "30:\tlearn: 2233.4001835\ttotal: 6.58s\tremaining: 4.03s\n",
      "31:\tlearn: 2210.3504203\ttotal: 6.78s\tremaining: 3.81s\n",
      "32:\tlearn: 2188.0252470\ttotal: 7.06s\tremaining: 3.64s\n",
      "33:\tlearn: 2166.5020323\ttotal: 7.26s\tremaining: 3.42s\n",
      "34:\tlearn: 2145.3698290\ttotal: 7.46s\tremaining: 3.2s\n",
      "35:\tlearn: 2126.0286521\ttotal: 7.67s\tremaining: 2.98s\n",
      "36:\tlearn: 2107.0313887\ttotal: 7.87s\tremaining: 2.77s\n",
      "37:\tlearn: 2088.6794886\ttotal: 8.07s\tremaining: 2.55s\n",
      "38:\tlearn: 2071.8516702\ttotal: 8.27s\tremaining: 2.33s\n",
      "39:\tlearn: 2055.6268716\ttotal: 8.47s\tremaining: 2.12s\n",
      "40:\tlearn: 2037.9802385\ttotal: 8.67s\tremaining: 1.9s\n",
      "41:\tlearn: 2022.5079758\ttotal: 8.87s\tremaining: 1.69s\n",
      "42:\tlearn: 2007.5248265\ttotal: 9.07s\tremaining: 1.48s\n",
      "43:\tlearn: 1992.8257547\ttotal: 9.36s\tremaining: 1.27s\n",
      "44:\tlearn: 1978.5267184\ttotal: 9.55s\tremaining: 1.06s\n",
      "45:\tlearn: 1965.6271160\ttotal: 9.75s\tremaining: 848ms\n",
      "46:\tlearn: 1952.2040837\ttotal: 9.95s\tremaining: 635ms\n",
      "47:\tlearn: 1939.2671046\ttotal: 10.2s\tremaining: 423ms\n",
      "48:\tlearn: 1927.5177346\ttotal: 10.4s\tremaining: 211ms\n",
      "49:\tlearn: 1916.3890637\ttotal: 10.6s\tremaining: 0us\n",
      "0:\tlearn: 3587.6410377\ttotal: 17.6ms\tremaining: 1.21s\n",
      "1:\tlearn: 3524.7237548\ttotal: 116ms\tremaining: 3.93s\n",
      "2:\tlearn: 3465.5642645\ttotal: 221ms\tremaining: 4.93s\n",
      "3:\tlearn: 3405.3678893\ttotal: 411ms\tremaining: 6.78s\n",
      "4:\tlearn: 3350.7787811\ttotal: 513ms\tremaining: 6.67s\n",
      "5:\tlearn: 3296.6744065\ttotal: 616ms\tremaining: 6.58s\n",
      "6:\tlearn: 3242.2274797\ttotal: 720ms\tremaining: 6.48s\n",
      "7:\tlearn: 3190.0301067\ttotal: 909ms\tremaining: 7.04s\n",
      "8:\tlearn: 3140.4248233\ttotal: 1.01s\tremaining: 6.86s\n",
      "9:\tlearn: 3090.4625963\ttotal: 1.12s\tremaining: 6.7s\n",
      "10:\tlearn: 3044.7961146\ttotal: 1.31s\tremaining: 7.01s\n",
      "11:\tlearn: 3000.8037756\ttotal: 1.41s\tremaining: 6.82s\n",
      "12:\tlearn: 2958.4952839\ttotal: 1.51s\tremaining: 6.64s\n",
      "13:\tlearn: 2918.3725708\ttotal: 1.7s\tremaining: 6.82s\n",
      "14:\tlearn: 2879.3502310\ttotal: 1.81s\tremaining: 6.63s\n",
      "15:\tlearn: 2842.6846551\ttotal: 1.91s\tremaining: 6.45s\n",
      "16:\tlearn: 2804.1463923\ttotal: 2.1s\tremaining: 6.55s\n",
      "17:\tlearn: 2767.5562635\ttotal: 2.21s\tremaining: 6.37s\n",
      "18:\tlearn: 2731.7628205\ttotal: 2.31s\tremaining: 6.2s\n",
      "19:\tlearn: 2699.3134638\ttotal: 2.5s\tremaining: 6.25s\n",
      "20:\tlearn: 2666.4504586\ttotal: 2.61s\tremaining: 6.08s\n",
      "21:\tlearn: 2636.0343604\ttotal: 2.8s\tremaining: 6.1s\n",
      "22:\tlearn: 2605.1244672\ttotal: 2.9s\tremaining: 5.93s\n",
      "23:\tlearn: 2575.9417080\ttotal: 3.01s\tremaining: 5.77s\n",
      "24:\tlearn: 2549.3714890\ttotal: 3.2s\tremaining: 5.75s\n",
      "25:\tlearn: 2523.6355531\ttotal: 3.3s\tremaining: 5.58s\n",
      "26:\tlearn: 2497.2875249\ttotal: 3.4s\tremaining: 5.42s\n",
      "27:\tlearn: 2473.4747613\ttotal: 3.59s\tremaining: 5.39s\n",
      "28:\tlearn: 2448.9173179\ttotal: 3.7s\tremaining: 5.23s\n",
      "29:\tlearn: 2424.9387053\ttotal: 3.8s\tremaining: 5.07s\n",
      "30:\tlearn: 2402.5329680\ttotal: 3.99s\tremaining: 5.02s\n",
      "31:\tlearn: 2382.4908626\ttotal: 4.09s\tremaining: 4.86s\n",
      "32:\tlearn: 2361.2373419\ttotal: 4.21s\tremaining: 4.71s\n",
      "33:\tlearn: 2342.2348613\ttotal: 4.39s\tremaining: 4.65s\n",
      "34:\tlearn: 2322.7725243\ttotal: 4.5s\tremaining: 4.5s\n",
      "35:\tlearn: 2304.6562896\ttotal: 4.68s\tremaining: 4.42s\n",
      "36:\tlearn: 2286.7943519\ttotal: 4.79s\tremaining: 4.27s\n",
      "37:\tlearn: 2268.7374966\ttotal: 4.89s\tremaining: 4.12s\n",
      "38:\tlearn: 2252.6764392\ttotal: 5s\tremaining: 3.97s\n",
      "39:\tlearn: 2235.9919050\ttotal: 5.18s\tremaining: 3.89s\n",
      "40:\tlearn: 2220.8562179\ttotal: 5.29s\tremaining: 3.74s\n",
      "41:\tlearn: 2204.9831639\ttotal: 5.48s\tremaining: 3.65s\n",
      "42:\tlearn: 2189.2845310\ttotal: 5.58s\tremaining: 3.51s\n",
      "43:\tlearn: 2175.6482044\ttotal: 5.68s\tremaining: 3.36s\n",
      "44:\tlearn: 2161.6533415\ttotal: 5.88s\tremaining: 3.27s\n",
      "45:\tlearn: 2147.6577692\ttotal: 5.98s\tremaining: 3.12s\n",
      "46:\tlearn: 2134.3060062\ttotal: 6.09s\tremaining: 2.98s\n",
      "47:\tlearn: 2121.9767745\ttotal: 6.28s\tremaining: 2.88s\n",
      "48:\tlearn: 2110.5469986\ttotal: 6.38s\tremaining: 2.73s\n",
      "49:\tlearn: 2099.7469802\ttotal: 6.49s\tremaining: 2.59s\n",
      "50:\tlearn: 2088.4064997\ttotal: 6.67s\tremaining: 2.49s\n",
      "51:\tlearn: 2077.1147646\ttotal: 6.78s\tremaining: 2.35s\n",
      "52:\tlearn: 2067.4246519\ttotal: 6.88s\tremaining: 2.21s\n",
      "53:\tlearn: 2058.2376501\ttotal: 7.07s\tremaining: 2.09s\n",
      "54:\tlearn: 2048.9796228\ttotal: 7.17s\tremaining: 1.96s\n",
      "55:\tlearn: 2039.7577477\ttotal: 7.28s\tremaining: 1.82s\n",
      "56:\tlearn: 2030.3091799\ttotal: 7.47s\tremaining: 1.7s\n",
      "57:\tlearn: 2022.0638902\ttotal: 7.57s\tremaining: 1.57s\n",
      "58:\tlearn: 2014.0471460\ttotal: 7.67s\tremaining: 1.43s\n",
      "59:\tlearn: 2005.5072456\ttotal: 7.87s\tremaining: 1.31s\n",
      "60:\tlearn: 1997.3968687\ttotal: 7.97s\tremaining: 1.18s\n",
      "61:\tlearn: 1989.7608037\ttotal: 8.07s\tremaining: 1.04s\n",
      "62:\tlearn: 1982.5469232\ttotal: 8.26s\tremaining: 918ms\n",
      "63:\tlearn: 1976.1033895\ttotal: 8.36s\tremaining: 784ms\n",
      "64:\tlearn: 1969.0577048\ttotal: 8.47s\tremaining: 652ms\n",
      "65:\tlearn: 1962.1091750\ttotal: 8.66s\tremaining: 525ms\n",
      "66:\tlearn: 1955.5360166\ttotal: 8.76s\tremaining: 392ms\n",
      "67:\tlearn: 1949.4299156\ttotal: 8.87s\tremaining: 261ms\n",
      "68:\tlearn: 1943.5784770\ttotal: 9.06s\tremaining: 131ms\n",
      "69:\tlearn: 1937.2756847\ttotal: 9.16s\tremaining: 0us\n",
      "0:\tlearn: 3580.4263886\ttotal: 28.3ms\tremaining: 1.95s\n",
      "1:\tlearn: 3511.1518407\ttotal: 220ms\tremaining: 7.49s\n",
      "2:\tlearn: 3444.2088733\ttotal: 330ms\tremaining: 7.37s\n",
      "3:\tlearn: 3377.9552412\ttotal: 520ms\tremaining: 8.59s\n",
      "4:\tlearn: 3315.6273701\ttotal: 716ms\tremaining: 9.31s\n",
      "5:\tlearn: 3256.3648056\ttotal: 824ms\tremaining: 8.79s\n",
      "6:\tlearn: 3198.6589014\ttotal: 1.02s\tremaining: 9.15s\n",
      "7:\tlearn: 3144.4697634\ttotal: 1.13s\tremaining: 8.72s\n",
      "8:\tlearn: 3090.4556221\ttotal: 1.32s\tremaining: 8.95s\n",
      "9:\tlearn: 3038.3953308\ttotal: 1.51s\tremaining: 9.08s\n",
      "10:\tlearn: 2988.0817269\ttotal: 1.62s\tremaining: 8.7s\n",
      "11:\tlearn: 2940.9436585\ttotal: 1.81s\tremaining: 8.77s\n",
      "12:\tlearn: 2894.4824545\ttotal: 1.93s\tremaining: 8.48s\n",
      "13:\tlearn: 2848.2388534\ttotal: 2.12s\tremaining: 8.47s\n",
      "14:\tlearn: 2805.6297272\ttotal: 2.31s\tremaining: 8.47s\n",
      "15:\tlearn: 2764.7092077\ttotal: 2.42s\tremaining: 8.16s\n",
      "16:\tlearn: 2723.8561674\ttotal: 2.61s\tremaining: 8.15s\n",
      "17:\tlearn: 2686.7199474\ttotal: 2.81s\tremaining: 8.11s\n",
      "18:\tlearn: 2649.5752289\ttotal: 2.92s\tremaining: 7.83s\n",
      "19:\tlearn: 2614.7613840\ttotal: 3.11s\tremaining: 7.78s\n",
      "20:\tlearn: 2580.0897796\ttotal: 3.31s\tremaining: 7.71s\n",
      "21:\tlearn: 2547.0191250\ttotal: 3.42s\tremaining: 7.45s\n",
      "22:\tlearn: 2515.8970824\ttotal: 3.61s\tremaining: 7.37s\n",
      "23:\tlearn: 2485.1145160\ttotal: 3.8s\tremaining: 7.29s\n",
      "24:\tlearn: 2455.9212585\ttotal: 3.91s\tremaining: 7.04s\n",
      "25:\tlearn: 2427.7232836\ttotal: 4.11s\tremaining: 6.95s\n",
      "26:\tlearn: 2400.9728174\ttotal: 4.3s\tremaining: 6.85s\n",
      "27:\tlearn: 2374.6514559\ttotal: 4.41s\tremaining: 6.61s\n",
      "28:\tlearn: 2349.2133578\ttotal: 4.6s\tremaining: 6.51s\n",
      "29:\tlearn: 2326.1775652\ttotal: 4.8s\tremaining: 6.39s\n",
      "30:\tlearn: 2303.4633489\ttotal: 4.91s\tremaining: 6.17s\n",
      "31:\tlearn: 2280.4121251\ttotal: 5.1s\tremaining: 6.06s\n",
      "32:\tlearn: 2258.4863794\ttotal: 5.29s\tremaining: 5.94s\n",
      "33:\tlearn: 2237.6450383\ttotal: 5.41s\tremaining: 5.72s\n",
      "34:\tlearn: 2217.5893413\ttotal: 5.6s\tremaining: 5.6s\n",
      "35:\tlearn: 2198.6880903\ttotal: 5.79s\tremaining: 5.47s\n",
      "36:\tlearn: 2180.5773426\ttotal: 5.99s\tremaining: 5.34s\n",
      "37:\tlearn: 2163.2598119\ttotal: 6.09s\tremaining: 5.13s\n",
      "38:\tlearn: 2146.0729375\ttotal: 6.29s\tremaining: 5s\n",
      "39:\tlearn: 2130.1808272\ttotal: 6.4s\tremaining: 4.8s\n",
      "40:\tlearn: 2114.0646119\ttotal: 6.59s\tremaining: 4.66s\n",
      "41:\tlearn: 2098.2524295\ttotal: 6.79s\tremaining: 4.52s\n",
      "42:\tlearn: 2083.5635553\ttotal: 6.9s\tremaining: 4.33s\n",
      "43:\tlearn: 2069.1845740\ttotal: 7.09s\tremaining: 4.19s\n",
      "44:\tlearn: 2055.4644337\ttotal: 7.29s\tremaining: 4.05s\n",
      "45:\tlearn: 2041.9660899\ttotal: 7.48s\tremaining: 3.9s\n",
      "46:\tlearn: 2029.7138324\ttotal: 7.59s\tremaining: 3.71s\n",
      "47:\tlearn: 2017.3835981\ttotal: 7.79s\tremaining: 3.57s\n",
      "48:\tlearn: 2005.9392300\ttotal: 7.98s\tremaining: 3.42s\n",
      "49:\tlearn: 1994.4939132\ttotal: 8.09s\tremaining: 3.24s\n",
      "50:\tlearn: 1983.8240387\ttotal: 8.28s\tremaining: 3.09s\n",
      "51:\tlearn: 1973.1249864\ttotal: 8.48s\tremaining: 2.93s\n",
      "52:\tlearn: 1961.7369612\ttotal: 8.58s\tremaining: 2.75s\n",
      "53:\tlearn: 1951.9730225\ttotal: 8.78s\tremaining: 2.6s\n",
      "54:\tlearn: 1942.7739406\ttotal: 8.97s\tremaining: 2.45s\n",
      "55:\tlearn: 1934.1369173\ttotal: 9.08s\tremaining: 2.27s\n",
      "56:\tlearn: 1924.8720351\ttotal: 9.28s\tremaining: 2.12s\n",
      "57:\tlearn: 1916.5184500\ttotal: 9.47s\tremaining: 1.96s\n",
      "58:\tlearn: 1908.2495111\ttotal: 9.58s\tremaining: 1.79s\n",
      "59:\tlearn: 1900.5234208\ttotal: 9.77s\tremaining: 1.63s\n",
      "60:\tlearn: 1892.9645157\ttotal: 9.97s\tremaining: 1.47s\n",
      "61:\tlearn: 1885.2329991\ttotal: 10.1s\tremaining: 1.3s\n",
      "62:\tlearn: 1878.3935978\ttotal: 10.3s\tremaining: 1.14s\n",
      "63:\tlearn: 1869.0898082\ttotal: 10.4s\tremaining: 973ms\n",
      "64:\tlearn: 1862.1512039\ttotal: 10.6s\tremaining: 813ms\n",
      "65:\tlearn: 1853.9897129\ttotal: 10.8s\tremaining: 652ms\n",
      "66:\tlearn: 1847.4252984\ttotal: 10.9s\tremaining: 487ms\n",
      "67:\tlearn: 1839.2814228\ttotal: 11.1s\tremaining: 326ms\n",
      "68:\tlearn: 1833.3607534\ttotal: 11.3s\tremaining: 163ms\n",
      "69:\tlearn: 1827.4151089\ttotal: 11.4s\tremaining: 0us\n",
      "0:\tlearn: 3576.8292240\ttotal: 111ms\tremaining: 7.66s\n",
      "1:\tlearn: 3503.6380302\ttotal: 315ms\tremaining: 10.7s\n",
      "2:\tlearn: 3433.4714494\ttotal: 515ms\tremaining: 11.5s\n",
      "3:\tlearn: 3365.7902474\ttotal: 717ms\tremaining: 11.8s\n",
      "4:\tlearn: 3299.6794424\ttotal: 1s\tremaining: 13s\n",
      "5:\tlearn: 3236.8377483\ttotal: 1.2s\tremaining: 12.8s\n",
      "6:\tlearn: 3176.7974391\ttotal: 1.4s\tremaining: 12.6s\n",
      "7:\tlearn: 3117.6521662\ttotal: 1.6s\tremaining: 12.4s\n",
      "8:\tlearn: 3060.9465561\ttotal: 1.8s\tremaining: 12.2s\n",
      "9:\tlearn: 3005.6465715\ttotal: 2s\tremaining: 12s\n",
      "10:\tlearn: 2954.3154907\ttotal: 2.2s\tremaining: 11.8s\n",
      "11:\tlearn: 2904.2029189\ttotal: 2.4s\tremaining: 11.6s\n",
      "12:\tlearn: 2855.1483408\ttotal: 2.61s\tremaining: 11.4s\n",
      "13:\tlearn: 2807.3926963\ttotal: 2.81s\tremaining: 11.2s\n",
      "14:\tlearn: 2761.6424717\ttotal: 3.1s\tremaining: 11.3s\n",
      "15:\tlearn: 2718.3796963\ttotal: 3.3s\tremaining: 11.1s\n",
      "16:\tlearn: 2675.3699759\ttotal: 3.5s\tremaining: 10.9s\n",
      "17:\tlearn: 2635.7371079\ttotal: 3.7s\tremaining: 10.7s\n",
      "18:\tlearn: 2596.6639677\ttotal: 3.9s\tremaining: 10.5s\n",
      "19:\tlearn: 2558.7230058\ttotal: 4.11s\tremaining: 10.3s\n",
      "20:\tlearn: 2523.1492078\ttotal: 4.39s\tremaining: 10.3s\n",
      "21:\tlearn: 2488.2367365\ttotal: 4.59s\tremaining: 10s\n",
      "22:\tlearn: 2455.4614565\ttotal: 4.8s\tremaining: 9.8s\n",
      "23:\tlearn: 2423.8463278\ttotal: 5s\tremaining: 9.58s\n",
      "24:\tlearn: 2393.3993623\ttotal: 5.19s\tremaining: 9.35s\n",
      "25:\tlearn: 2363.8411630\ttotal: 5.39s\tremaining: 9.13s\n",
      "26:\tlearn: 2335.8039233\ttotal: 5.6s\tremaining: 8.91s\n",
      "27:\tlearn: 2308.9637004\ttotal: 5.79s\tremaining: 8.69s\n",
      "28:\tlearn: 2282.6253188\ttotal: 5.99s\tremaining: 8.47s\n",
      "29:\tlearn: 2257.6222884\ttotal: 6.19s\tremaining: 8.26s\n",
      "30:\tlearn: 2233.4001835\ttotal: 6.4s\tremaining: 8.05s\n",
      "31:\tlearn: 2210.3504203\ttotal: 6.68s\tremaining: 7.93s\n",
      "32:\tlearn: 2188.0252470\ttotal: 6.88s\tremaining: 7.72s\n",
      "33:\tlearn: 2166.5020323\ttotal: 7.08s\tremaining: 7.5s\n",
      "34:\tlearn: 2145.3698290\ttotal: 7.29s\tremaining: 7.29s\n",
      "35:\tlearn: 2126.0286521\ttotal: 7.49s\tremaining: 7.07s\n",
      "36:\tlearn: 2107.0313887\ttotal: 7.77s\tremaining: 6.93s\n",
      "37:\tlearn: 2088.6794886\ttotal: 7.97s\tremaining: 6.71s\n",
      "38:\tlearn: 2071.8516702\ttotal: 8.18s\tremaining: 6.5s\n",
      "39:\tlearn: 2055.6268716\ttotal: 8.38s\tremaining: 6.28s\n",
      "40:\tlearn: 2037.9802385\ttotal: 8.58s\tremaining: 6.07s\n",
      "41:\tlearn: 2022.5079758\ttotal: 8.79s\tremaining: 5.86s\n",
      "42:\tlearn: 2007.5248265\ttotal: 8.99s\tremaining: 5.64s\n",
      "43:\tlearn: 1992.8257547\ttotal: 9.27s\tremaining: 5.48s\n",
      "44:\tlearn: 1978.5267184\ttotal: 9.47s\tremaining: 5.26s\n",
      "45:\tlearn: 1965.6271160\ttotal: 9.68s\tremaining: 5.05s\n",
      "46:\tlearn: 1952.2040837\ttotal: 9.87s\tremaining: 4.83s\n",
      "47:\tlearn: 1939.2671046\ttotal: 10.1s\tremaining: 4.62s\n",
      "48:\tlearn: 1927.5177346\ttotal: 10.4s\tremaining: 4.44s\n",
      "49:\tlearn: 1916.3890637\ttotal: 10.6s\tremaining: 4.22s\n",
      "50:\tlearn: 1904.1379882\ttotal: 10.8s\tremaining: 4.01s\n",
      "51:\tlearn: 1893.5345215\ttotal: 11s\tremaining: 3.8s\n",
      "52:\tlearn: 1883.3954588\ttotal: 11.2s\tremaining: 3.58s\n",
      "53:\tlearn: 1873.2012417\ttotal: 11.4s\tremaining: 3.37s\n",
      "54:\tlearn: 1864.0038466\ttotal: 11.7s\tremaining: 3.18s\n",
      "55:\tlearn: 1853.6767618\ttotal: 11.9s\tremaining: 2.96s\n",
      "56:\tlearn: 1844.5666835\ttotal: 12.1s\tremaining: 2.75s\n",
      "57:\tlearn: 1836.4767435\ttotal: 12.3s\tremaining: 2.54s\n",
      "58:\tlearn: 1827.9190548\ttotal: 12.6s\tremaining: 2.34s\n",
      "59:\tlearn: 1819.7095886\ttotal: 12.8s\tremaining: 2.13s\n",
      "60:\tlearn: 1811.8810247\ttotal: 13s\tremaining: 1.91s\n",
      "61:\tlearn: 1804.3239644\ttotal: 13.2s\tremaining: 1.7s\n",
      "62:\tlearn: 1797.0455401\ttotal: 13.4s\tremaining: 1.48s\n",
      "63:\tlearn: 1789.2566539\ttotal: 13.6s\tremaining: 1.27s\n",
      "64:\tlearn: 1782.7477653\ttotal: 13.8s\tremaining: 1.06s\n",
      "65:\tlearn: 1775.7795545\ttotal: 14s\tremaining: 846ms\n",
      "66:\tlearn: 1767.6290447\ttotal: 14.2s\tremaining: 635ms\n",
      "67:\tlearn: 1761.3578694\ttotal: 14.4s\tremaining: 425ms\n",
      "68:\tlearn: 1755.5657765\ttotal: 14.6s\tremaining: 211ms\n",
      "69:\tlearn: 1749.5401498\ttotal: 14.8s\tremaining: 0us\n",
      "0:\tlearn: 3587.6410377\ttotal: 21.6ms\tremaining: 1.92s\n",
      "1:\tlearn: 3524.7237548\ttotal: 125ms\tremaining: 5.49s\n",
      "2:\tlearn: 3465.5642645\ttotal: 316ms\tremaining: 9.16s\n",
      "3:\tlearn: 3405.3678893\ttotal: 420ms\tremaining: 9.04s\n",
      "4:\tlearn: 3350.7787811\ttotal: 524ms\tremaining: 8.9s\n",
      "5:\tlearn: 3296.6744065\ttotal: 714ms\tremaining: 9.99s\n",
      "6:\tlearn: 3242.2274797\ttotal: 816ms\tremaining: 9.68s\n",
      "7:\tlearn: 3190.0301067\ttotal: 921ms\tremaining: 9.44s\n",
      "8:\tlearn: 3140.4248233\ttotal: 1.11s\tremaining: 10s\n",
      "9:\tlearn: 3090.4625963\ttotal: 1.21s\tremaining: 9.72s\n",
      "10:\tlearn: 3044.7961146\ttotal: 1.32s\tremaining: 9.49s\n",
      "11:\tlearn: 3000.8037756\ttotal: 1.51s\tremaining: 9.81s\n",
      "12:\tlearn: 2958.4952839\ttotal: 1.61s\tremaining: 9.54s\n",
      "13:\tlearn: 2918.3725708\ttotal: 1.71s\tremaining: 9.31s\n",
      "14:\tlearn: 2879.3502310\ttotal: 1.82s\tremaining: 9.09s\n",
      "15:\tlearn: 2842.6846551\ttotal: 2.01s\tremaining: 9.28s\n",
      "16:\tlearn: 2804.1463923\ttotal: 2.11s\tremaining: 9.05s\n",
      "17:\tlearn: 2767.5562635\ttotal: 2.22s\tremaining: 8.87s\n",
      "18:\tlearn: 2731.7628205\ttotal: 2.4s\tremaining: 8.98s\n",
      "19:\tlearn: 2699.3134638\ttotal: 2.51s\tremaining: 8.78s\n",
      "20:\tlearn: 2666.4504586\ttotal: 2.61s\tremaining: 8.59s\n",
      "21:\tlearn: 2636.0343604\ttotal: 2.8s\tremaining: 8.66s\n",
      "22:\tlearn: 2605.1244672\ttotal: 2.91s\tremaining: 8.47s\n",
      "23:\tlearn: 2575.9417080\ttotal: 3.01s\tremaining: 8.27s\n",
      "24:\tlearn: 2549.3714890\ttotal: 3.11s\tremaining: 8.08s\n",
      "25:\tlearn: 2523.6355531\ttotal: 3.3s\tremaining: 8.12s\n",
      "26:\tlearn: 2497.2875249\ttotal: 3.4s\tremaining: 7.94s\n",
      "27:\tlearn: 2473.4747613\ttotal: 3.5s\tremaining: 7.76s\n",
      "28:\tlearn: 2448.9173179\ttotal: 3.69s\tremaining: 7.77s\n",
      "29:\tlearn: 2424.9387053\ttotal: 3.8s\tremaining: 7.59s\n",
      "30:\tlearn: 2402.5329680\ttotal: 3.9s\tremaining: 7.42s\n",
      "31:\tlearn: 2382.4908626\ttotal: 4s\tremaining: 7.25s\n",
      "32:\tlearn: 2361.2373419\ttotal: 4.19s\tremaining: 7.24s\n",
      "33:\tlearn: 2342.2348613\ttotal: 4.29s\tremaining: 7.07s\n",
      "34:\tlearn: 2322.7725243\ttotal: 4.4s\tremaining: 6.91s\n",
      "35:\tlearn: 2304.6562896\ttotal: 4.59s\tremaining: 6.88s\n",
      "36:\tlearn: 2286.7943519\ttotal: 4.69s\tremaining: 6.72s\n",
      "37:\tlearn: 2268.7374966\ttotal: 4.79s\tremaining: 6.56s\n",
      "38:\tlearn: 2252.6764392\ttotal: 4.9s\tremaining: 6.4s\n",
      "39:\tlearn: 2235.9919050\ttotal: 5.09s\tremaining: 6.36s\n",
      "40:\tlearn: 2220.8562179\ttotal: 5.19s\tremaining: 6.21s\n",
      "41:\tlearn: 2204.9831639\ttotal: 5.38s\tremaining: 6.15s\n",
      "42:\tlearn: 2189.2845310\ttotal: 5.49s\tremaining: 6s\n",
      "43:\tlearn: 2175.6482044\ttotal: 5.59s\tremaining: 5.84s\n",
      "44:\tlearn: 2161.6533415\ttotal: 5.78s\tremaining: 5.78s\n",
      "45:\tlearn: 2147.6577692\ttotal: 5.89s\tremaining: 5.63s\n",
      "46:\tlearn: 2134.3060062\ttotal: 6s\tremaining: 5.49s\n",
      "47:\tlearn: 2121.9767745\ttotal: 6.18s\tremaining: 5.41s\n",
      "48:\tlearn: 2110.5469986\ttotal: 6.29s\tremaining: 5.26s\n",
      "49:\tlearn: 2099.7469802\ttotal: 6.39s\tremaining: 5.11s\n",
      "50:\tlearn: 2088.4064997\ttotal: 6.58s\tremaining: 5.03s\n",
      "51:\tlearn: 2077.1147646\ttotal: 6.69s\tremaining: 4.89s\n",
      "52:\tlearn: 2067.4246519\ttotal: 6.79s\tremaining: 4.74s\n",
      "53:\tlearn: 2058.2376501\ttotal: 6.98s\tremaining: 4.65s\n",
      "54:\tlearn: 2048.9796228\ttotal: 7.08s\tremaining: 4.5s\n",
      "55:\tlearn: 2039.7577477\ttotal: 7.18s\tremaining: 4.36s\n",
      "56:\tlearn: 2030.3091799\ttotal: 7.38s\tremaining: 4.27s\n",
      "57:\tlearn: 2022.0638902\ttotal: 7.48s\tremaining: 4.13s\n",
      "58:\tlearn: 2014.0471460\ttotal: 7.58s\tremaining: 3.98s\n",
      "59:\tlearn: 2005.5072456\ttotal: 7.69s\tremaining: 3.84s\n",
      "60:\tlearn: 1997.3968687\ttotal: 7.87s\tremaining: 3.74s\n",
      "61:\tlearn: 1989.7608037\ttotal: 7.98s\tremaining: 3.6s\n",
      "62:\tlearn: 1982.5469232\ttotal: 8.08s\tremaining: 3.46s\n",
      "63:\tlearn: 1976.1033895\ttotal: 8.27s\tremaining: 3.36s\n",
      "64:\tlearn: 1969.0577048\ttotal: 8.37s\tremaining: 3.22s\n",
      "65:\tlearn: 1962.1091750\ttotal: 8.48s\tremaining: 3.08s\n",
      "66:\tlearn: 1955.5360166\ttotal: 8.67s\tremaining: 2.98s\n",
      "67:\tlearn: 1949.4299156\ttotal: 8.77s\tremaining: 2.84s\n",
      "68:\tlearn: 1943.5784770\ttotal: 8.87s\tremaining: 2.7s\n",
      "69:\tlearn: 1937.2756847\ttotal: 8.98s\tremaining: 2.56s\n",
      "70:\tlearn: 1931.6792411\ttotal: 9.17s\tremaining: 2.45s\n",
      "71:\tlearn: 1925.3617236\ttotal: 9.27s\tremaining: 2.32s\n",
      "72:\tlearn: 1919.9331317\ttotal: 9.38s\tremaining: 2.18s\n",
      "73:\tlearn: 1914.3161731\ttotal: 9.56s\tremaining: 2.07s\n",
      "74:\tlearn: 1909.0118068\ttotal: 9.67s\tremaining: 1.93s\n",
      "75:\tlearn: 1903.2062454\ttotal: 9.77s\tremaining: 1.8s\n",
      "76:\tlearn: 1898.6862442\ttotal: 9.88s\tremaining: 1.67s\n",
      "77:\tlearn: 1892.8669548\ttotal: 10.1s\tremaining: 1.55s\n",
      "78:\tlearn: 1887.3673029\ttotal: 10.2s\tremaining: 1.42s\n",
      "79:\tlearn: 1881.4470675\ttotal: 10.3s\tremaining: 1.28s\n",
      "80:\tlearn: 1876.5617871\ttotal: 10.5s\tremaining: 1.16s\n",
      "81:\tlearn: 1872.1556000\ttotal: 10.6s\tremaining: 1.03s\n",
      "82:\tlearn: 1867.1226144\ttotal: 10.7s\tremaining: 900ms\n",
      "83:\tlearn: 1862.6459652\ttotal: 10.9s\tremaining: 775ms\n",
      "84:\tlearn: 1858.0197210\ttotal: 11s\tremaining: 645ms\n",
      "85:\tlearn: 1853.7976087\ttotal: 11.1s\tremaining: 515ms\n",
      "86:\tlearn: 1849.4897480\ttotal: 11.3s\tremaining: 388ms\n",
      "87:\tlearn: 1845.4852853\ttotal: 11.4s\tremaining: 258ms\n",
      "88:\tlearn: 1841.6486406\ttotal: 11.5s\tremaining: 129ms\n",
      "89:\tlearn: 1837.7577486\ttotal: 11.6s\tremaining: 0us\n",
      "0:\tlearn: 3580.4263886\ttotal: 98ms\tremaining: 8.72s\n",
      "1:\tlearn: 3511.1518407\ttotal: 294ms\tremaining: 12.9s\n",
      "2:\tlearn: 3444.2088733\ttotal: 490ms\tremaining: 14.2s\n",
      "3:\tlearn: 3377.9552412\ttotal: 610ms\tremaining: 13.1s\n",
      "4:\tlearn: 3315.6273701\ttotal: 720ms\tremaining: 12.2s\n",
      "5:\tlearn: 3256.3648056\ttotal: 914ms\tremaining: 12.8s\n",
      "6:\tlearn: 3198.6589014\ttotal: 1.11s\tremaining: 13.2s\n",
      "7:\tlearn: 3144.4697634\ttotal: 1.22s\tremaining: 12.5s\n",
      "8:\tlearn: 3090.4556221\ttotal: 1.42s\tremaining: 12.7s\n",
      "9:\tlearn: 3038.3953308\ttotal: 1.61s\tremaining: 12.9s\n",
      "10:\tlearn: 2988.0817269\ttotal: 1.81s\tremaining: 13s\n",
      "11:\tlearn: 2940.9436585\ttotal: 1.91s\tremaining: 12.4s\n",
      "12:\tlearn: 2894.4824545\ttotal: 2.11s\tremaining: 12.5s\n",
      "13:\tlearn: 2848.2388534\ttotal: 2.31s\tremaining: 12.5s\n",
      "14:\tlearn: 2805.6297272\ttotal: 2.42s\tremaining: 12.1s\n",
      "15:\tlearn: 2764.7092077\ttotal: 2.61s\tremaining: 12.1s\n",
      "16:\tlearn: 2723.8561674\ttotal: 2.81s\tremaining: 12.1s\n",
      "17:\tlearn: 2686.7199474\ttotal: 3s\tremaining: 12s\n",
      "18:\tlearn: 2649.5752289\ttotal: 3.11s\tremaining: 11.6s\n",
      "19:\tlearn: 2614.7613840\ttotal: 3.31s\tremaining: 11.6s\n",
      "20:\tlearn: 2580.0897796\ttotal: 3.5s\tremaining: 11.5s\n",
      "21:\tlearn: 2547.0191250\ttotal: 3.61s\tremaining: 11.2s\n",
      "22:\tlearn: 2515.8970824\ttotal: 3.8s\tremaining: 11.1s\n",
      "23:\tlearn: 2485.1145160\ttotal: 4s\tremaining: 11s\n",
      "24:\tlearn: 2455.9212585\ttotal: 4.2s\tremaining: 10.9s\n",
      "25:\tlearn: 2427.7232836\ttotal: 4.3s\tremaining: 10.6s\n",
      "26:\tlearn: 2400.9728174\ttotal: 4.5s\tremaining: 10.5s\n",
      "27:\tlearn: 2374.6514559\ttotal: 4.69s\tremaining: 10.4s\n",
      "28:\tlearn: 2349.2133578\ttotal: 4.8s\tremaining: 10.1s\n",
      "29:\tlearn: 2326.1775652\ttotal: 5s\tremaining: 9.99s\n",
      "30:\tlearn: 2303.4633489\ttotal: 5.19s\tremaining: 9.88s\n",
      "31:\tlearn: 2280.4121251\ttotal: 5.3s\tremaining: 9.6s\n",
      "32:\tlearn: 2258.4863794\ttotal: 5.49s\tremaining: 9.49s\n",
      "33:\tlearn: 2237.6450383\ttotal: 5.69s\tremaining: 9.38s\n",
      "34:\tlearn: 2217.5893413\ttotal: 5.8s\tremaining: 9.11s\n",
      "35:\tlearn: 2198.6880903\ttotal: 5.99s\tremaining: 8.99s\n",
      "36:\tlearn: 2180.5773426\ttotal: 6.19s\tremaining: 8.86s\n",
      "37:\tlearn: 2163.2598119\ttotal: 6.29s\tremaining: 8.61s\n",
      "38:\tlearn: 2146.0729375\ttotal: 6.49s\tremaining: 8.49s\n",
      "39:\tlearn: 2130.1808272\ttotal: 6.69s\tremaining: 8.36s\n",
      "40:\tlearn: 2114.0646119\ttotal: 6.88s\tremaining: 8.23s\n",
      "41:\tlearn: 2098.2524295\ttotal: 6.99s\tremaining: 7.99s\n",
      "42:\tlearn: 2083.5635553\ttotal: 7.19s\tremaining: 7.86s\n",
      "43:\tlearn: 2069.1845740\ttotal: 7.38s\tremaining: 7.72s\n",
      "44:\tlearn: 2055.4644337\ttotal: 7.58s\tremaining: 7.58s\n",
      "45:\tlearn: 2041.9660899\ttotal: 7.69s\tremaining: 7.35s\n",
      "46:\tlearn: 2029.7138324\ttotal: 7.88s\tremaining: 7.21s\n",
      "47:\tlearn: 2017.3835981\ttotal: 8.08s\tremaining: 7.07s\n",
      "48:\tlearn: 2005.9392300\ttotal: 8.28s\tremaining: 6.93s\n",
      "49:\tlearn: 1994.4939132\ttotal: 8.38s\tremaining: 6.71s\n",
      "50:\tlearn: 1983.8240387\ttotal: 8.58s\tremaining: 6.56s\n",
      "51:\tlearn: 1973.1249864\ttotal: 8.78s\tremaining: 6.41s\n",
      "52:\tlearn: 1961.7369612\ttotal: 8.88s\tremaining: 6.2s\n",
      "53:\tlearn: 1951.9730225\ttotal: 9.08s\tremaining: 6.05s\n",
      "54:\tlearn: 1942.7739406\ttotal: 9.28s\tremaining: 5.9s\n",
      "55:\tlearn: 1934.1369173\ttotal: 9.38s\tremaining: 5.7s\n",
      "56:\tlearn: 1924.8720351\ttotal: 9.58s\tremaining: 5.54s\n",
      "57:\tlearn: 1916.5184500\ttotal: 9.77s\tremaining: 5.39s\n",
      "58:\tlearn: 1908.2495111\ttotal: 9.89s\tremaining: 5.2s\n",
      "59:\tlearn: 1900.5234208\ttotal: 10.1s\tremaining: 5.04s\n",
      "60:\tlearn: 1892.9645157\ttotal: 10.3s\tremaining: 4.88s\n",
      "61:\tlearn: 1885.2329991\ttotal: 10.5s\tremaining: 4.73s\n",
      "62:\tlearn: 1878.3935978\ttotal: 10.6s\tremaining: 4.53s\n",
      "63:\tlearn: 1869.0898082\ttotal: 10.8s\tremaining: 4.38s\n",
      "64:\tlearn: 1862.1512039\ttotal: 11s\tremaining: 4.22s\n",
      "65:\tlearn: 1853.9897129\ttotal: 11.1s\tremaining: 4.03s\n",
      "66:\tlearn: 1847.4252984\ttotal: 11.3s\tremaining: 3.87s\n",
      "67:\tlearn: 1839.2814228\ttotal: 11.5s\tremaining: 3.71s\n",
      "68:\tlearn: 1833.3607534\ttotal: 11.6s\tremaining: 3.52s\n",
      "69:\tlearn: 1827.4151089\ttotal: 11.8s\tremaining: 3.36s\n",
      "70:\tlearn: 1821.6738557\ttotal: 12s\tremaining: 3.2s\n",
      "71:\tlearn: 1816.4647099\ttotal: 12.1s\tremaining: 3.02s\n",
      "72:\tlearn: 1810.9441392\ttotal: 12.3s\tremaining: 2.85s\n",
      "73:\tlearn: 1805.5893700\ttotal: 12.5s\tremaining: 2.69s\n",
      "74:\tlearn: 1800.6482454\ttotal: 12.6s\tremaining: 2.51s\n",
      "75:\tlearn: 1793.9583676\ttotal: 12.8s\tremaining: 2.35s\n",
      "76:\tlearn: 1789.2235690\ttotal: 13s\tremaining: 2.19s\n",
      "77:\tlearn: 1784.7682030\ttotal: 13.1s\tremaining: 2.01s\n",
      "78:\tlearn: 1779.0381650\ttotal: 13.3s\tremaining: 1.85s\n",
      "79:\tlearn: 1774.8421866\ttotal: 13.5s\tremaining: 1.68s\n",
      "80:\tlearn: 1769.4886371\ttotal: 13.7s\tremaining: 1.52s\n",
      "81:\tlearn: 1764.1639534\ttotal: 13.8s\tremaining: 1.34s\n",
      "82:\tlearn: 1759.3576751\ttotal: 14s\tremaining: 1.18s\n",
      "83:\tlearn: 1755.0098649\ttotal: 14.1s\tremaining: 1.01s\n",
      "84:\tlearn: 1751.0958949\ttotal: 14.2s\tremaining: 838ms\n",
      "85:\tlearn: 1746.7446115\ttotal: 14.4s\tremaining: 672ms\n",
      "86:\tlearn: 1743.1261460\ttotal: 14.6s\tremaining: 505ms\n",
      "87:\tlearn: 1738.4778270\ttotal: 14.8s\tremaining: 337ms\n",
      "88:\tlearn: 1734.3214420\ttotal: 14.9s\tremaining: 168ms\n",
      "89:\tlearn: 1730.6144532\ttotal: 15.1s\tremaining: 0us\n",
      "0:\tlearn: 3576.8292240\ttotal: 163ms\tremaining: 14.5s\n",
      "1:\tlearn: 3503.6380302\ttotal: 363ms\tremaining: 16s\n",
      "2:\tlearn: 3433.4714494\ttotal: 562ms\tremaining: 16.3s\n",
      "3:\tlearn: 3365.7902474\ttotal: 762ms\tremaining: 16.4s\n",
      "4:\tlearn: 3299.6794424\ttotal: 964ms\tremaining: 16.4s\n",
      "5:\tlearn: 3236.8377483\ttotal: 1.17s\tremaining: 16.3s\n",
      "6:\tlearn: 3176.7974391\ttotal: 1.37s\tremaining: 16.2s\n",
      "7:\tlearn: 3117.6521662\ttotal: 1.57s\tremaining: 16.1s\n",
      "8:\tlearn: 3060.9465561\ttotal: 1.77s\tremaining: 16s\n",
      "9:\tlearn: 3005.6465715\ttotal: 1.97s\tremaining: 15.8s\n",
      "10:\tlearn: 2954.3154907\ttotal: 2.17s\tremaining: 15.6s\n",
      "11:\tlearn: 2904.2029189\ttotal: 2.46s\tremaining: 16s\n",
      "12:\tlearn: 2855.1483408\ttotal: 2.66s\tremaining: 15.8s\n",
      "13:\tlearn: 2807.3926963\ttotal: 2.86s\tremaining: 15.5s\n",
      "14:\tlearn: 2761.6424717\ttotal: 3.06s\tremaining: 15.3s\n",
      "15:\tlearn: 2718.3796963\ttotal: 3.27s\tremaining: 15.1s\n",
      "16:\tlearn: 2675.3699759\ttotal: 3.55s\tremaining: 15.3s\n",
      "17:\tlearn: 2635.7371079\ttotal: 3.75s\tremaining: 15s\n",
      "18:\tlearn: 2596.6639677\ttotal: 3.95s\tremaining: 14.8s\n",
      "19:\tlearn: 2558.7230058\ttotal: 4.15s\tremaining: 14.5s\n",
      "20:\tlearn: 2523.1492078\ttotal: 4.35s\tremaining: 14.3s\n",
      "21:\tlearn: 2488.2367365\ttotal: 4.55s\tremaining: 14.1s\n",
      "22:\tlearn: 2455.4614565\ttotal: 4.76s\tremaining: 13.9s\n",
      "23:\tlearn: 2423.8463278\ttotal: 4.96s\tremaining: 13.6s\n",
      "24:\tlearn: 2393.3993623\ttotal: 5.24s\tremaining: 13.6s\n",
      "25:\tlearn: 2363.8411630\ttotal: 5.44s\tremaining: 13.4s\n",
      "26:\tlearn: 2335.8039233\ttotal: 5.64s\tremaining: 13.2s\n",
      "27:\tlearn: 2308.9637004\ttotal: 5.85s\tremaining: 12.9s\n",
      "28:\tlearn: 2282.6253188\ttotal: 6.05s\tremaining: 12.7s\n",
      "29:\tlearn: 2257.6222884\ttotal: 6.25s\tremaining: 12.5s\n",
      "30:\tlearn: 2233.4001835\ttotal: 6.46s\tremaining: 12.3s\n",
      "31:\tlearn: 2210.3504203\ttotal: 6.74s\tremaining: 12.2s\n",
      "32:\tlearn: 2188.0252470\ttotal: 6.94s\tremaining: 12s\n",
      "33:\tlearn: 2166.5020323\ttotal: 7.14s\tremaining: 11.8s\n",
      "34:\tlearn: 2145.3698290\ttotal: 7.34s\tremaining: 11.5s\n",
      "35:\tlearn: 2126.0286521\ttotal: 7.55s\tremaining: 11.3s\n",
      "36:\tlearn: 2107.0313887\ttotal: 7.75s\tremaining: 11.1s\n",
      "37:\tlearn: 2088.6794886\ttotal: 7.95s\tremaining: 10.9s\n",
      "38:\tlearn: 2071.8516702\ttotal: 8.15s\tremaining: 10.7s\n",
      "39:\tlearn: 2055.6268716\ttotal: 8.35s\tremaining: 10.4s\n",
      "40:\tlearn: 2037.9802385\ttotal: 8.63s\tremaining: 10.3s\n",
      "41:\tlearn: 2022.5079758\ttotal: 8.83s\tremaining: 10.1s\n",
      "42:\tlearn: 2007.5248265\ttotal: 9.03s\tremaining: 9.87s\n",
      "43:\tlearn: 1992.8257547\ttotal: 9.23s\tremaining: 9.65s\n",
      "44:\tlearn: 1978.5267184\ttotal: 9.43s\tremaining: 9.43s\n",
      "45:\tlearn: 1965.6271160\ttotal: 9.64s\tremaining: 9.22s\n",
      "46:\tlearn: 1952.2040837\ttotal: 9.84s\tremaining: 9s\n",
      "47:\tlearn: 1939.2671046\ttotal: 10s\tremaining: 8.78s\n",
      "48:\tlearn: 1927.5177346\ttotal: 10.3s\tremaining: 8.64s\n",
      "49:\tlearn: 1916.3890637\ttotal: 10.5s\tremaining: 8.42s\n",
      "50:\tlearn: 1904.1379882\ttotal: 10.7s\tremaining: 8.2s\n",
      "51:\tlearn: 1893.5345215\ttotal: 10.9s\tremaining: 7.98s\n",
      "52:\tlearn: 1883.3954588\ttotal: 11.1s\tremaining: 7.76s\n",
      "53:\tlearn: 1873.2012417\ttotal: 11.3s\tremaining: 7.55s\n",
      "54:\tlearn: 1864.0038466\ttotal: 11.5s\tremaining: 7.33s\n",
      "55:\tlearn: 1853.6767618\ttotal: 11.7s\tremaining: 7.12s\n",
      "56:\tlearn: 1844.5666835\ttotal: 11.9s\tremaining: 6.9s\n",
      "57:\tlearn: 1836.4767435\ttotal: 12.1s\tremaining: 6.69s\n",
      "58:\tlearn: 1827.9190548\ttotal: 12.3s\tremaining: 6.47s\n",
      "59:\tlearn: 1819.7095886\ttotal: 12.5s\tremaining: 6.26s\n",
      "60:\tlearn: 1811.8810247\ttotal: 12.7s\tremaining: 6.05s\n",
      "61:\tlearn: 1804.3239644\ttotal: 12.9s\tremaining: 5.84s\n",
      "62:\tlearn: 1797.0455401\ttotal: 13.1s\tremaining: 5.63s\n",
      "63:\tlearn: 1789.2566539\ttotal: 13.3s\tremaining: 5.42s\n",
      "64:\tlearn: 1782.7477653\ttotal: 13.6s\tremaining: 5.24s\n",
      "65:\tlearn: 1775.7795545\ttotal: 13.8s\tremaining: 5.02s\n",
      "66:\tlearn: 1767.6290447\ttotal: 14s\tremaining: 4.81s\n",
      "67:\tlearn: 1761.3578694\ttotal: 14.2s\tremaining: 4.6s\n",
      "68:\tlearn: 1755.5657765\ttotal: 14.4s\tremaining: 4.39s\n",
      "69:\tlearn: 1749.5401498\ttotal: 14.6s\tremaining: 4.18s\n",
      "70:\tlearn: 1741.9755356\ttotal: 14.8s\tremaining: 3.96s\n",
      "71:\tlearn: 1734.9494314\ttotal: 15.1s\tremaining: 3.78s\n",
      "72:\tlearn: 1729.6684798\ttotal: 15.3s\tremaining: 3.56s\n",
      "73:\tlearn: 1724.4837936\ttotal: 15.5s\tremaining: 3.35s\n",
      "74:\tlearn: 1718.0484424\ttotal: 15.7s\tremaining: 3.14s\n",
      "75:\tlearn: 1712.8733865\ttotal: 15.9s\tremaining: 2.93s\n",
      "76:\tlearn: 1706.7406210\ttotal: 16.1s\tremaining: 2.72s\n",
      "77:\tlearn: 1701.6197193\ttotal: 16.3s\tremaining: 2.51s\n",
      "78:\tlearn: 1696.0057400\ttotal: 16.5s\tremaining: 2.3s\n",
      "79:\tlearn: 1691.6530929\ttotal: 16.7s\tremaining: 2.09s\n",
      "80:\tlearn: 1687.4252166\ttotal: 16.9s\tremaining: 1.88s\n",
      "81:\tlearn: 1682.3242308\ttotal: 17.1s\tremaining: 1.67s\n",
      "82:\tlearn: 1677.9667047\ttotal: 17.3s\tremaining: 1.46s\n",
      "83:\tlearn: 1673.1110059\ttotal: 17.5s\tremaining: 1.25s\n",
      "84:\tlearn: 1669.3101461\ttotal: 17.8s\tremaining: 1.05s\n",
      "85:\tlearn: 1665.6516049\ttotal: 17.9s\tremaining: 833ms\n",
      "86:\tlearn: 1662.1525638\ttotal: 18.2s\tremaining: 627ms\n",
      "87:\tlearn: 1658.6802804\ttotal: 18.4s\tremaining: 418ms\n",
      "88:\tlearn: 1655.0671612\ttotal: 18.6s\tremaining: 209ms\n",
      "89:\tlearn: 1651.0199933\ttotal: 18.8s\tremaining: 0us\n"
     ]
    }
   ],
   "source": [
    "for iteration in range(10, 101, 20):    \n",
    "    for depth in range(5, 11, 2):    \n",
    "        model_cbr = CatBoostRegressor(random_state=12345, iterations=iteration, loss_function='RMSE', depth=depth)\n",
    "        \n",
    "        start_fit = time.time()\n",
    "        model_cbr.fit(features_train, target_train)\n",
    "        end_fit = time.time() - start_fit\n",
    "        \n",
    "        start_predict = time.time()\n",
    "        predict_cbr = model_cbr.predict(features_valid, verbose=1)\n",
    "        end_predict = time.time() - start_predict\n",
    "        \n",
    "        RMSE = mean_squared_error(target_valid, predict_cbr)**0.5\n",
    "        \n",
    "        result.append({'Модель': 'CatBoostRegressor', \n",
    "                       'Параметры': {'random_state':12345, \n",
    "                                    'iterations': iteration, \n",
    "                                    'loss_function': 'RMSE', \n",
    "                                    'depth': depth},\n",
    "                       'Время обучения': end_fit, \n",
    "                       'Скорость предсказания': end_predict,\n",
    "                       'RMSE': RMSE})"
   ]
  },
  {
   "cell_type": "markdown",
   "metadata": {},
   "source": [
    "<b><div class=\"alert alert-block alert-info\">Модель градиентного бустинга c помощью библиотеки CatBoost (ОЕ)</div></b>"
   ]
  },
  {
   "cell_type": "code",
   "execution_count": 66,
   "metadata": {},
   "outputs": [
    {
     "name": "stdout",
     "output_type": "stream",
     "text": [
      "0:\tlearn: 3586.7914552\ttotal: 21.9ms\tremaining: 197ms\n",
      "1:\tlearn: 3524.3960524\ttotal: 125ms\tremaining: 501ms\n",
      "2:\tlearn: 3464.7642157\ttotal: 316ms\tremaining: 738ms\n",
      "3:\tlearn: 3405.7912078\ttotal: 423ms\tremaining: 634ms\n",
      "4:\tlearn: 3347.1544184\ttotal: 526ms\tremaining: 526ms\n",
      "5:\tlearn: 3291.4684184\ttotal: 714ms\tremaining: 476ms\n",
      "6:\tlearn: 3238.2853509\ttotal: 820ms\tremaining: 351ms\n",
      "7:\tlearn: 3189.0376916\ttotal: 921ms\tremaining: 230ms\n",
      "8:\tlearn: 3139.9299503\ttotal: 1.11s\tremaining: 124ms\n",
      "9:\tlearn: 3090.4077748\ttotal: 1.22s\tremaining: 0us\n",
      "0:\tlearn: 3579.6930403\ttotal: 102ms\tremaining: 922ms\n",
      "1:\tlearn: 3511.6732497\ttotal: 296ms\tremaining: 1.18s\n",
      "2:\tlearn: 3444.4046254\ttotal: 404ms\tremaining: 943ms\n",
      "3:\tlearn: 3379.6764269\ttotal: 601ms\tremaining: 901ms\n",
      "4:\tlearn: 3318.8621043\ttotal: 795ms\tremaining: 795ms\n",
      "5:\tlearn: 3259.7962987\ttotal: 991ms\tremaining: 661ms\n",
      "6:\tlearn: 3202.8116344\ttotal: 1.1s\tremaining: 471ms\n",
      "7:\tlearn: 3148.3416968\ttotal: 1.3s\tremaining: 324ms\n",
      "8:\tlearn: 3093.1908243\ttotal: 1.49s\tremaining: 166ms\n",
      "9:\tlearn: 3041.4962442\ttotal: 1.6s\tremaining: 0us\n",
      "0:\tlearn: 3576.3183552\ttotal: 198ms\tremaining: 1.78s\n",
      "1:\tlearn: 3504.8255807\ttotal: 399ms\tremaining: 1.6s\n",
      "2:\tlearn: 3434.2703688\ttotal: 603ms\tremaining: 1.41s\n",
      "3:\tlearn: 3366.9109335\ttotal: 803ms\tremaining: 1.2s\n",
      "4:\tlearn: 3301.8479295\ttotal: 1s\tremaining: 1s\n",
      "5:\tlearn: 3239.0718920\ttotal: 1.2s\tremaining: 803ms\n",
      "6:\tlearn: 3177.8532307\ttotal: 1.4s\tremaining: 601ms\n",
      "7:\tlearn: 3119.2062672\ttotal: 1.6s\tremaining: 401ms\n",
      "8:\tlearn: 3062.6201735\ttotal: 1.89s\tremaining: 210ms\n",
      "9:\tlearn: 3008.1720780\ttotal: 2.09s\tremaining: 0us\n",
      "0:\tlearn: 3586.7914552\ttotal: 49.9ms\tremaining: 1.45s\n",
      "1:\tlearn: 3524.3960524\ttotal: 154ms\tremaining: 2.16s\n",
      "2:\tlearn: 3464.7642157\ttotal: 347ms\tremaining: 3.13s\n",
      "3:\tlearn: 3405.7912078\ttotal: 451ms\tremaining: 2.93s\n",
      "4:\tlearn: 3347.1544184\ttotal: 643ms\tremaining: 3.21s\n",
      "5:\tlearn: 3291.4684184\ttotal: 746ms\tremaining: 2.98s\n",
      "6:\tlearn: 3238.2853509\ttotal: 855ms\tremaining: 2.81s\n",
      "7:\tlearn: 3189.0376916\ttotal: 1.04s\tremaining: 2.87s\n",
      "8:\tlearn: 3139.9299503\ttotal: 1.15s\tremaining: 2.69s\n",
      "9:\tlearn: 3090.4077748\ttotal: 1.34s\tremaining: 2.68s\n",
      "10:\tlearn: 3044.0557334\ttotal: 1.45s\tremaining: 2.5s\n",
      "11:\tlearn: 2998.5109559\ttotal: 1.55s\tremaining: 2.32s\n",
      "12:\tlearn: 2955.9886283\ttotal: 1.74s\tremaining: 2.27s\n",
      "13:\tlearn: 2914.6124317\ttotal: 1.84s\tremaining: 2.11s\n",
      "14:\tlearn: 2873.0426100\ttotal: 1.95s\tremaining: 1.95s\n",
      "15:\tlearn: 2835.9552949\ttotal: 2.14s\tremaining: 1.87s\n",
      "16:\tlearn: 2799.6362733\ttotal: 2.24s\tremaining: 1.72s\n",
      "17:\tlearn: 2766.0489877\ttotal: 2.34s\tremaining: 1.56s\n",
      "18:\tlearn: 2733.2710235\ttotal: 2.53s\tremaining: 1.47s\n",
      "19:\tlearn: 2700.3310953\ttotal: 2.64s\tremaining: 1.32s\n",
      "20:\tlearn: 2666.9559810\ttotal: 2.74s\tremaining: 1.18s\n",
      "21:\tlearn: 2635.0183855\ttotal: 2.93s\tremaining: 1.07s\n",
      "22:\tlearn: 2604.5218943\ttotal: 3.04s\tremaining: 924ms\n",
      "23:\tlearn: 2576.3593421\ttotal: 3.14s\tremaining: 785ms\n",
      "24:\tlearn: 2550.0447511\ttotal: 3.33s\tremaining: 666ms\n",
      "25:\tlearn: 2523.1832821\ttotal: 3.44s\tremaining: 528ms\n",
      "26:\tlearn: 2496.9255630\ttotal: 3.54s\tremaining: 393ms\n",
      "27:\tlearn: 2471.6893720\ttotal: 3.73s\tremaining: 266ms\n",
      "28:\tlearn: 2448.7303578\ttotal: 3.83s\tremaining: 132ms\n",
      "29:\tlearn: 2426.8062638\ttotal: 3.94s\tremaining: 0us\n",
      "0:\tlearn: 3579.6930403\ttotal: 30.8ms\tremaining: 894ms\n",
      "1:\tlearn: 3511.6732497\ttotal: 214ms\tremaining: 3s\n",
      "2:\tlearn: 3444.4046254\ttotal: 411ms\tremaining: 3.69s\n",
      "3:\tlearn: 3379.6764269\ttotal: 607ms\tremaining: 3.94s\n",
      "4:\tlearn: 3318.8621043\ttotal: 717ms\tremaining: 3.59s\n",
      "5:\tlearn: 3259.7962987\ttotal: 913ms\tremaining: 3.65s\n",
      "6:\tlearn: 3202.8116344\ttotal: 1.1s\tremaining: 3.63s\n",
      "7:\tlearn: 3148.3416968\ttotal: 1.21s\tremaining: 3.34s\n",
      "8:\tlearn: 3093.1908243\ttotal: 1.41s\tremaining: 3.29s\n",
      "9:\tlearn: 3041.4962442\ttotal: 1.6s\tremaining: 3.21s\n",
      "10:\tlearn: 2990.2969778\ttotal: 1.8s\tremaining: 3.11s\n",
      "11:\tlearn: 2942.2037043\ttotal: 1.91s\tremaining: 2.87s\n",
      "12:\tlearn: 2894.8116911\ttotal: 2.1s\tremaining: 2.75s\n",
      "13:\tlearn: 2850.8354845\ttotal: 2.3s\tremaining: 2.63s\n",
      "14:\tlearn: 2808.7834862\ttotal: 2.5s\tremaining: 2.5s\n",
      "15:\tlearn: 2767.6950049\ttotal: 2.61s\tremaining: 2.28s\n",
      "16:\tlearn: 2728.6616942\ttotal: 2.8s\tremaining: 2.14s\n",
      "17:\tlearn: 2689.8083084\ttotal: 3s\tremaining: 2s\n",
      "18:\tlearn: 2653.1607981\ttotal: 3.19s\tremaining: 1.85s\n",
      "19:\tlearn: 2617.8753223\ttotal: 3.3s\tremaining: 1.65s\n",
      "20:\tlearn: 2582.2875591\ttotal: 3.5s\tremaining: 1.5s\n",
      "21:\tlearn: 2549.3979994\ttotal: 3.69s\tremaining: 1.34s\n",
      "22:\tlearn: 2518.3883697\ttotal: 3.89s\tremaining: 1.18s\n",
      "23:\tlearn: 2488.3845398\ttotal: 4s\tremaining: 1s\n",
      "24:\tlearn: 2460.1718810\ttotal: 4.2s\tremaining: 840ms\n",
      "25:\tlearn: 2432.6496364\ttotal: 4.39s\tremaining: 676ms\n",
      "26:\tlearn: 2404.7551212\ttotal: 4.59s\tremaining: 510ms\n",
      "27:\tlearn: 2377.7859889\ttotal: 4.7s\tremaining: 336ms\n",
      "28:\tlearn: 2352.6024385\ttotal: 4.89s\tremaining: 169ms\n",
      "29:\tlearn: 2327.8895642\ttotal: 5.09s\tremaining: 0us\n",
      "0:\tlearn: 3576.3183552\ttotal: 141ms\tremaining: 4.09s\n",
      "1:\tlearn: 3504.8255807\ttotal: 343ms\tremaining: 4.8s\n",
      "2:\tlearn: 3434.2703688\ttotal: 549ms\tremaining: 4.94s\n",
      "3:\tlearn: 3366.9109335\ttotal: 749ms\tremaining: 4.87s\n",
      "4:\tlearn: 3301.8479295\ttotal: 950ms\tremaining: 4.75s\n",
      "5:\tlearn: 3239.0718920\ttotal: 1.15s\tremaining: 4.59s\n",
      "6:\tlearn: 3177.8532307\ttotal: 1.35s\tremaining: 4.45s\n",
      "7:\tlearn: 3119.2062672\ttotal: 1.55s\tremaining: 4.25s\n",
      "8:\tlearn: 3062.6201735\ttotal: 1.83s\tremaining: 4.28s\n",
      "9:\tlearn: 3008.1720780\ttotal: 2.04s\tremaining: 4.07s\n",
      "10:\tlearn: 2956.1761210\ttotal: 2.24s\tremaining: 3.86s\n",
      "11:\tlearn: 2906.4438657\ttotal: 2.44s\tremaining: 3.65s\n",
      "12:\tlearn: 2857.4172371\ttotal: 2.64s\tremaining: 3.45s\n",
      "13:\tlearn: 2810.9519878\ttotal: 2.84s\tremaining: 3.24s\n",
      "14:\tlearn: 2766.0345056\ttotal: 3.04s\tremaining: 3.04s\n",
      "15:\tlearn: 2722.3096259\ttotal: 3.24s\tremaining: 2.83s\n",
      "16:\tlearn: 2680.3238187\ttotal: 3.44s\tremaining: 2.63s\n",
      "17:\tlearn: 2640.2959746\ttotal: 3.64s\tremaining: 2.43s\n",
      "18:\tlearn: 2601.8122668\ttotal: 3.92s\tremaining: 2.27s\n",
      "19:\tlearn: 2565.1832105\ttotal: 4.12s\tremaining: 2.06s\n",
      "20:\tlearn: 2529.0785491\ttotal: 4.33s\tremaining: 1.85s\n",
      "21:\tlearn: 2494.2296757\ttotal: 4.53s\tremaining: 1.65s\n",
      "22:\tlearn: 2460.3462657\ttotal: 4.73s\tremaining: 1.44s\n",
      "23:\tlearn: 2428.2839923\ttotal: 4.93s\tremaining: 1.23s\n",
      "24:\tlearn: 2398.0951093\ttotal: 5.13s\tremaining: 1.03s\n",
      "25:\tlearn: 2368.7517286\ttotal: 5.33s\tremaining: 820ms\n",
      "26:\tlearn: 2340.0597837\ttotal: 5.53s\tremaining: 615ms\n",
      "27:\tlearn: 2312.2184169\ttotal: 5.73s\tremaining: 409ms\n",
      "28:\tlearn: 2285.5637631\ttotal: 5.93s\tremaining: 204ms\n",
      "29:\tlearn: 2259.7802558\ttotal: 6.21s\tremaining: 0us\n",
      "0:\tlearn: 3586.7914552\ttotal: 17.9ms\tremaining: 875ms\n",
      "1:\tlearn: 3524.3960524\ttotal: 119ms\tremaining: 2.86s\n",
      "2:\tlearn: 3464.7642157\ttotal: 310ms\tremaining: 4.85s\n",
      "3:\tlearn: 3405.7912078\ttotal: 414ms\tremaining: 4.76s\n",
      "4:\tlearn: 3347.1544184\ttotal: 520ms\tremaining: 4.68s\n",
      "5:\tlearn: 3291.4684184\ttotal: 709ms\tremaining: 5.2s\n",
      "6:\tlearn: 3238.2853509\ttotal: 813ms\tremaining: 5s\n",
      "7:\tlearn: 3189.0376916\ttotal: 917ms\tremaining: 4.81s\n",
      "8:\tlearn: 3139.9299503\ttotal: 1.11s\tremaining: 5.05s\n",
      "9:\tlearn: 3090.4077748\ttotal: 1.21s\tremaining: 4.84s\n",
      "10:\tlearn: 3044.0557334\ttotal: 1.31s\tremaining: 4.66s\n",
      "11:\tlearn: 2998.5109559\ttotal: 1.5s\tremaining: 4.77s\n",
      "12:\tlearn: 2955.9886283\ttotal: 1.61s\tremaining: 4.58s\n",
      "13:\tlearn: 2914.6124317\ttotal: 1.71s\tremaining: 4.4s\n",
      "14:\tlearn: 2873.0426100\ttotal: 1.9s\tremaining: 4.44s\n",
      "15:\tlearn: 2835.9552949\ttotal: 2.01s\tremaining: 4.27s\n",
      "16:\tlearn: 2799.6362733\ttotal: 2.12s\tremaining: 4.11s\n",
      "17:\tlearn: 2766.0489877\ttotal: 2.3s\tremaining: 4.09s\n",
      "18:\tlearn: 2733.2710235\ttotal: 2.41s\tremaining: 3.93s\n",
      "19:\tlearn: 2700.3310953\ttotal: 2.52s\tremaining: 3.77s\n",
      "20:\tlearn: 2666.9559810\ttotal: 2.7s\tremaining: 3.73s\n",
      "21:\tlearn: 2635.0183855\ttotal: 2.8s\tremaining: 3.57s\n",
      "22:\tlearn: 2604.5218943\ttotal: 2.91s\tremaining: 3.41s\n",
      "23:\tlearn: 2576.3593421\ttotal: 3.1s\tremaining: 3.35s\n",
      "24:\tlearn: 2550.0447511\ttotal: 3.2s\tremaining: 3.2s\n",
      "25:\tlearn: 2523.1832821\ttotal: 3.31s\tremaining: 3.05s\n",
      "26:\tlearn: 2496.9255630\ttotal: 3.49s\tremaining: 2.98s\n",
      "27:\tlearn: 2471.6893720\ttotal: 3.6s\tremaining: 2.83s\n",
      "28:\tlearn: 2448.7303578\ttotal: 3.7s\tremaining: 2.68s\n",
      "29:\tlearn: 2426.8062638\ttotal: 3.89s\tremaining: 2.59s\n",
      "30:\tlearn: 2404.4805548\ttotal: 4s\tremaining: 2.45s\n",
      "31:\tlearn: 2382.5657764\ttotal: 4.1s\tremaining: 2.31s\n",
      "32:\tlearn: 2362.4324004\ttotal: 4.29s\tremaining: 2.21s\n",
      "33:\tlearn: 2343.2608418\ttotal: 4.39s\tremaining: 2.07s\n",
      "34:\tlearn: 2325.0522450\ttotal: 4.5s\tremaining: 1.93s\n",
      "35:\tlearn: 2306.1297470\ttotal: 4.69s\tremaining: 1.82s\n",
      "36:\tlearn: 2288.4155757\ttotal: 4.79s\tremaining: 1.68s\n",
      "37:\tlearn: 2271.6382306\ttotal: 4.89s\tremaining: 1.54s\n",
      "38:\tlearn: 2254.1976314\ttotal: 5.08s\tremaining: 1.43s\n",
      "39:\tlearn: 2237.9325690\ttotal: 5.19s\tremaining: 1.3s\n",
      "40:\tlearn: 2221.1555628\ttotal: 5.29s\tremaining: 1.16s\n",
      "41:\tlearn: 2206.0643588\ttotal: 5.49s\tremaining: 1.04s\n",
      "42:\tlearn: 2191.6457297\ttotal: 5.59s\tremaining: 910ms\n",
      "43:\tlearn: 2177.1410477\ttotal: 5.78s\tremaining: 788ms\n",
      "44:\tlearn: 2163.0921038\ttotal: 5.88s\tremaining: 654ms\n",
      "45:\tlearn: 2150.1623905\ttotal: 5.99s\tremaining: 521ms\n",
      "46:\tlearn: 2137.3745719\ttotal: 6.18s\tremaining: 394ms\n",
      "47:\tlearn: 2125.0817303\ttotal: 6.29s\tremaining: 262ms\n",
      "48:\tlearn: 2113.9370689\ttotal: 6.39s\tremaining: 130ms\n",
      "49:\tlearn: 2101.8401643\ttotal: 6.58s\tremaining: 0us\n",
      "0:\tlearn: 3579.6930403\ttotal: 58.5ms\tremaining: 2.87s\n",
      "1:\tlearn: 3511.6732497\ttotal: 251ms\tremaining: 6.02s\n",
      "2:\tlearn: 3444.4046254\ttotal: 448ms\tremaining: 7.02s\n",
      "3:\tlearn: 3379.6764269\ttotal: 557ms\tremaining: 6.41s\n",
      "4:\tlearn: 3318.8621043\ttotal: 753ms\tremaining: 6.77s\n",
      "5:\tlearn: 3259.7962987\ttotal: 947ms\tremaining: 6.95s\n",
      "6:\tlearn: 3202.8116344\ttotal: 1.15s\tremaining: 7.03s\n",
      "7:\tlearn: 3148.3416968\ttotal: 1.25s\tremaining: 6.59s\n",
      "8:\tlearn: 3093.1908243\ttotal: 1.45s\tremaining: 6.61s\n",
      "9:\tlearn: 3041.4962442\ttotal: 1.64s\tremaining: 6.58s\n",
      "10:\tlearn: 2990.2969778\ttotal: 1.84s\tremaining: 6.53s\n",
      "11:\tlearn: 2942.2037043\ttotal: 1.95s\tremaining: 6.18s\n",
      "12:\tlearn: 2894.8116911\ttotal: 2.15s\tremaining: 6.11s\n",
      "13:\tlearn: 2850.8354845\ttotal: 2.34s\tremaining: 6.02s\n",
      "14:\tlearn: 2808.7834862\ttotal: 2.54s\tremaining: 5.92s\n",
      "15:\tlearn: 2767.6950049\ttotal: 2.65s\tremaining: 5.63s\n",
      "16:\tlearn: 2728.6616942\ttotal: 2.84s\tremaining: 5.52s\n",
      "17:\tlearn: 2689.8083084\ttotal: 3.04s\tremaining: 5.4s\n",
      "18:\tlearn: 2653.1607981\ttotal: 3.15s\tremaining: 5.14s\n",
      "19:\tlearn: 2617.8753223\ttotal: 3.34s\tremaining: 5.01s\n",
      "20:\tlearn: 2582.2875591\ttotal: 3.54s\tremaining: 4.88s\n",
      "21:\tlearn: 2549.3979994\ttotal: 3.73s\tremaining: 4.75s\n",
      "22:\tlearn: 2518.3883697\ttotal: 3.84s\tremaining: 4.51s\n",
      "23:\tlearn: 2488.3845398\ttotal: 4.04s\tremaining: 4.37s\n",
      "24:\tlearn: 2460.1718810\ttotal: 4.23s\tremaining: 4.23s\n",
      "25:\tlearn: 2432.6496364\ttotal: 4.34s\tremaining: 4.01s\n",
      "26:\tlearn: 2404.7551212\ttotal: 4.54s\tremaining: 3.87s\n",
      "27:\tlearn: 2377.7859889\ttotal: 4.73s\tremaining: 3.72s\n",
      "28:\tlearn: 2352.6024385\ttotal: 4.93s\tremaining: 3.57s\n",
      "29:\tlearn: 2327.8895642\ttotal: 5.13s\tremaining: 3.42s\n",
      "30:\tlearn: 2305.3860322\ttotal: 5.24s\tremaining: 3.21s\n",
      "31:\tlearn: 2282.9047175\ttotal: 5.43s\tremaining: 3.05s\n",
      "32:\tlearn: 2260.8700981\ttotal: 5.63s\tremaining: 2.9s\n",
      "33:\tlearn: 2240.7788644\ttotal: 5.74s\tremaining: 2.7s\n",
      "34:\tlearn: 2221.4149564\ttotal: 5.93s\tremaining: 2.54s\n",
      "35:\tlearn: 2201.6123671\ttotal: 6.12s\tremaining: 2.38s\n",
      "36:\tlearn: 2183.0057246\ttotal: 6.32s\tremaining: 2.22s\n",
      "37:\tlearn: 2165.0641668\ttotal: 6.43s\tremaining: 2.03s\n",
      "38:\tlearn: 2147.8718748\ttotal: 6.62s\tremaining: 1.87s\n",
      "39:\tlearn: 2131.6839473\ttotal: 6.83s\tremaining: 1.71s\n",
      "40:\tlearn: 2115.6365782\ttotal: 7.02s\tremaining: 1.54s\n",
      "41:\tlearn: 2100.3579991\ttotal: 7.21s\tremaining: 1.37s\n",
      "42:\tlearn: 2085.2482041\ttotal: 7.33s\tremaining: 1.19s\n",
      "43:\tlearn: 2070.2748676\ttotal: 7.52s\tremaining: 1.02s\n",
      "44:\tlearn: 2056.3205237\ttotal: 7.71s\tremaining: 857ms\n",
      "45:\tlearn: 2042.5087012\ttotal: 7.91s\tremaining: 688ms\n",
      "46:\tlearn: 2028.9922904\ttotal: 8.02s\tremaining: 512ms\n",
      "47:\tlearn: 2017.0806246\ttotal: 8.21s\tremaining: 342ms\n",
      "48:\tlearn: 2004.0732862\ttotal: 8.41s\tremaining: 172ms\n",
      "49:\tlearn: 1992.7383984\ttotal: 8.52s\tremaining: 0us\n",
      "0:\tlearn: 3576.3183552\ttotal: 113ms\tremaining: 5.54s\n",
      "1:\tlearn: 3504.8255807\ttotal: 317ms\tremaining: 7.6s\n",
      "2:\tlearn: 3434.2703688\ttotal: 518ms\tremaining: 8.11s\n",
      "3:\tlearn: 3366.9109335\ttotal: 720ms\tremaining: 8.27s\n",
      "4:\tlearn: 3301.8479295\ttotal: 917ms\tremaining: 8.26s\n",
      "5:\tlearn: 3239.0718920\ttotal: 1.12s\tremaining: 8.22s\n",
      "6:\tlearn: 3177.8532307\ttotal: 1.4s\tremaining: 8.62s\n",
      "7:\tlearn: 3119.2062672\ttotal: 1.61s\tremaining: 8.43s\n",
      "8:\tlearn: 3062.6201735\ttotal: 1.81s\tremaining: 8.24s\n",
      "9:\tlearn: 3008.1720780\ttotal: 2.01s\tremaining: 8.05s\n",
      "10:\tlearn: 2956.1761210\ttotal: 2.22s\tremaining: 7.86s\n",
      "11:\tlearn: 2906.4438657\ttotal: 2.41s\tremaining: 7.64s\n",
      "12:\tlearn: 2857.4172371\ttotal: 2.62s\tremaining: 7.46s\n",
      "13:\tlearn: 2810.9519878\ttotal: 2.83s\tremaining: 7.27s\n",
      "14:\tlearn: 2766.0345056\ttotal: 3.02s\tremaining: 7.06s\n",
      "15:\tlearn: 2722.3096259\ttotal: 3.23s\tremaining: 6.86s\n",
      "16:\tlearn: 2680.3238187\ttotal: 3.43s\tremaining: 6.66s\n",
      "17:\tlearn: 2640.2959746\ttotal: 3.71s\tremaining: 6.61s\n",
      "18:\tlearn: 2601.8122668\ttotal: 3.92s\tremaining: 6.39s\n",
      "19:\tlearn: 2565.1832105\ttotal: 4.12s\tremaining: 6.18s\n",
      "20:\tlearn: 2529.0785491\ttotal: 4.33s\tremaining: 5.97s\n",
      "21:\tlearn: 2494.2296757\ttotal: 4.53s\tremaining: 5.76s\n",
      "22:\tlearn: 2460.3462657\ttotal: 4.82s\tremaining: 5.65s\n",
      "23:\tlearn: 2428.2839923\ttotal: 5.02s\tremaining: 5.44s\n",
      "24:\tlearn: 2398.0951093\ttotal: 5.23s\tremaining: 5.23s\n",
      "25:\tlearn: 2368.7517286\ttotal: 5.42s\tremaining: 5.01s\n",
      "26:\tlearn: 2340.0597837\ttotal: 5.63s\tremaining: 4.79s\n",
      "27:\tlearn: 2312.2184169\ttotal: 5.91s\tremaining: 4.64s\n",
      "28:\tlearn: 2285.5637631\ttotal: 6.11s\tremaining: 4.43s\n",
      "29:\tlearn: 2259.7802558\ttotal: 6.32s\tremaining: 4.21s\n",
      "30:\tlearn: 2234.4727689\ttotal: 6.52s\tremaining: 3.99s\n",
      "31:\tlearn: 2211.3637741\ttotal: 6.71s\tremaining: 3.78s\n",
      "32:\tlearn: 2188.7636589\ttotal: 6.92s\tremaining: 3.56s\n",
      "33:\tlearn: 2167.0510859\ttotal: 7.2s\tremaining: 3.39s\n",
      "34:\tlearn: 2146.3469864\ttotal: 7.32s\tremaining: 3.14s\n",
      "35:\tlearn: 2125.8462940\ttotal: 7.6s\tremaining: 2.96s\n",
      "36:\tlearn: 2106.7560431\ttotal: 7.81s\tremaining: 2.74s\n",
      "37:\tlearn: 2088.2997017\ttotal: 8.01s\tremaining: 2.53s\n",
      "38:\tlearn: 2070.8316362\ttotal: 8.21s\tremaining: 2.31s\n",
      "39:\tlearn: 2053.7001721\ttotal: 8.41s\tremaining: 2.1s\n",
      "40:\tlearn: 2036.8924001\ttotal: 8.61s\tremaining: 1.89s\n",
      "41:\tlearn: 2021.5909015\ttotal: 8.81s\tremaining: 1.68s\n",
      "42:\tlearn: 2006.7772018\ttotal: 9.1s\tremaining: 1.48s\n",
      "43:\tlearn: 1990.7642417\ttotal: 9.3s\tremaining: 1.27s\n",
      "44:\tlearn: 1976.8999029\ttotal: 9.51s\tremaining: 1.06s\n",
      "45:\tlearn: 1963.4897871\ttotal: 9.71s\tremaining: 844ms\n",
      "46:\tlearn: 1949.6542524\ttotal: 9.99s\tremaining: 638ms\n",
      "47:\tlearn: 1937.2359866\ttotal: 10.2s\tremaining: 425ms\n",
      "48:\tlearn: 1925.4318349\ttotal: 10.4s\tremaining: 212ms\n",
      "49:\tlearn: 1913.3718662\ttotal: 10.6s\tremaining: 0us\n",
      "0:\tlearn: 3586.7914552\ttotal: 22.6ms\tremaining: 1.56s\n",
      "1:\tlearn: 3524.3960524\ttotal: 127ms\tremaining: 4.33s\n",
      "2:\tlearn: 3464.7642157\ttotal: 321ms\tremaining: 7.17s\n",
      "3:\tlearn: 3405.7912078\ttotal: 425ms\tremaining: 7.01s\n",
      "4:\tlearn: 3347.1544184\ttotal: 616ms\tremaining: 8.01s\n",
      "5:\tlearn: 3291.4684184\ttotal: 721ms\tremaining: 7.69s\n",
      "6:\tlearn: 3238.2853509\ttotal: 827ms\tremaining: 7.44s\n",
      "7:\tlearn: 3189.0376916\ttotal: 1.02s\tremaining: 7.87s\n",
      "8:\tlearn: 3139.9299503\ttotal: 1.12s\tremaining: 7.59s\n",
      "9:\tlearn: 3090.4077748\ttotal: 1.22s\tremaining: 7.33s\n",
      "10:\tlearn: 3044.0557334\ttotal: 1.41s\tremaining: 7.58s\n",
      "11:\tlearn: 2998.5109559\ttotal: 1.52s\tremaining: 7.33s\n",
      "12:\tlearn: 2955.9886283\ttotal: 1.62s\tremaining: 7.11s\n",
      "13:\tlearn: 2914.6124317\ttotal: 1.81s\tremaining: 7.25s\n",
      "14:\tlearn: 2873.0426100\ttotal: 1.92s\tremaining: 7.03s\n",
      "15:\tlearn: 2835.9552949\ttotal: 2.11s\tremaining: 7.12s\n",
      "16:\tlearn: 2799.6362733\ttotal: 2.21s\tremaining: 6.9s\n",
      "17:\tlearn: 2766.0489877\ttotal: 2.32s\tremaining: 6.69s\n",
      "18:\tlearn: 2733.2710235\ttotal: 2.51s\tremaining: 6.74s\n",
      "19:\tlearn: 2700.3310953\ttotal: 2.61s\tremaining: 6.53s\n",
      "20:\tlearn: 2666.9559810\ttotal: 2.8s\tremaining: 6.54s\n",
      "21:\tlearn: 2635.0183855\ttotal: 2.91s\tremaining: 6.34s\n",
      "22:\tlearn: 2604.5218943\ttotal: 3.01s\tremaining: 6.15s\n",
      "23:\tlearn: 2576.3593421\ttotal: 3.2s\tremaining: 6.13s\n",
      "24:\tlearn: 2550.0447511\ttotal: 3.31s\tremaining: 5.96s\n",
      "25:\tlearn: 2523.1832821\ttotal: 3.42s\tremaining: 5.79s\n",
      "26:\tlearn: 2496.9255630\ttotal: 3.6s\tremaining: 5.73s\n",
      "27:\tlearn: 2471.6893720\ttotal: 3.7s\tremaining: 5.56s\n",
      "28:\tlearn: 2448.7303578\ttotal: 3.9s\tremaining: 5.51s\n",
      "29:\tlearn: 2426.8062638\ttotal: 4s\tremaining: 5.33s\n",
      "30:\tlearn: 2404.4805548\ttotal: 4.11s\tremaining: 5.16s\n",
      "31:\tlearn: 2382.5657764\ttotal: 4.29s\tremaining: 5.1s\n",
      "32:\tlearn: 2362.4324004\ttotal: 4.4s\tremaining: 4.93s\n",
      "33:\tlearn: 2343.2608418\ttotal: 4.5s\tremaining: 4.77s\n",
      "34:\tlearn: 2325.0522450\ttotal: 4.69s\tremaining: 4.69s\n",
      "35:\tlearn: 2306.1297470\ttotal: 4.79s\tremaining: 4.53s\n",
      "36:\tlearn: 2288.4155757\ttotal: 4.9s\tremaining: 4.37s\n",
      "37:\tlearn: 2271.6382306\ttotal: 5.09s\tremaining: 4.29s\n",
      "38:\tlearn: 2254.1976314\ttotal: 5.19s\tremaining: 4.13s\n",
      "39:\tlearn: 2237.9325690\ttotal: 5.3s\tremaining: 3.97s\n",
      "40:\tlearn: 2221.1555628\ttotal: 5.49s\tremaining: 3.88s\n",
      "41:\tlearn: 2206.0643588\ttotal: 5.59s\tremaining: 3.73s\n",
      "42:\tlearn: 2191.6457297\ttotal: 5.7s\tremaining: 3.58s\n",
      "43:\tlearn: 2177.1410477\ttotal: 5.88s\tremaining: 3.48s\n",
      "44:\tlearn: 2163.0921038\ttotal: 5.99s\tremaining: 3.33s\n",
      "45:\tlearn: 2150.1623905\ttotal: 6.09s\tremaining: 3.18s\n",
      "46:\tlearn: 2137.3745719\ttotal: 6.28s\tremaining: 3.07s\n",
      "47:\tlearn: 2125.0817303\ttotal: 6.39s\tremaining: 2.93s\n",
      "48:\tlearn: 2113.9370689\ttotal: 6.49s\tremaining: 2.78s\n",
      "49:\tlearn: 2101.8401643\ttotal: 6.68s\tremaining: 2.67s\n",
      "50:\tlearn: 2091.3515432\ttotal: 6.79s\tremaining: 2.53s\n",
      "51:\tlearn: 2080.4621546\ttotal: 6.89s\tremaining: 2.39s\n",
      "52:\tlearn: 2069.9534205\ttotal: 7.08s\tremaining: 2.27s\n",
      "53:\tlearn: 2060.0329346\ttotal: 7.18s\tremaining: 2.13s\n",
      "54:\tlearn: 2049.9952122\ttotal: 7.38s\tremaining: 2.01s\n",
      "55:\tlearn: 2040.2317603\ttotal: 7.48s\tremaining: 1.87s\n",
      "56:\tlearn: 2030.7879509\ttotal: 7.58s\tremaining: 1.73s\n",
      "57:\tlearn: 2022.1007282\ttotal: 7.77s\tremaining: 1.61s\n",
      "58:\tlearn: 2013.2913452\ttotal: 7.88s\tremaining: 1.47s\n",
      "59:\tlearn: 2004.8366045\ttotal: 7.98s\tremaining: 1.33s\n",
      "60:\tlearn: 1996.3895601\ttotal: 8.08s\tremaining: 1.19s\n",
      "61:\tlearn: 1988.1874814\ttotal: 8.27s\tremaining: 1.07s\n",
      "62:\tlearn: 1980.7169415\ttotal: 8.38s\tremaining: 931ms\n",
      "63:\tlearn: 1972.9459320\ttotal: 8.48s\tremaining: 795ms\n",
      "64:\tlearn: 1965.9729748\ttotal: 8.67s\tremaining: 667ms\n",
      "65:\tlearn: 1958.8749131\ttotal: 8.77s\tremaining: 532ms\n",
      "66:\tlearn: 1951.8090535\ttotal: 8.88s\tremaining: 398ms\n",
      "67:\tlearn: 1945.1063350\ttotal: 9.07s\tremaining: 267ms\n",
      "68:\tlearn: 1939.1609412\ttotal: 9.17s\tremaining: 133ms\n",
      "69:\tlearn: 1932.8419795\ttotal: 9.28s\tremaining: 0us\n",
      "0:\tlearn: 3579.6930403\ttotal: 76.1ms\tremaining: 5.25s\n",
      "1:\tlearn: 3511.6732497\ttotal: 271ms\tremaining: 9.21s\n",
      "2:\tlearn: 3444.4046254\ttotal: 468ms\tremaining: 10.4s\n",
      "3:\tlearn: 3379.6764269\ttotal: 577ms\tremaining: 9.52s\n",
      "4:\tlearn: 3318.8621043\ttotal: 771ms\tremaining: 10s\n",
      "5:\tlearn: 3259.7962987\ttotal: 965ms\tremaining: 10.3s\n",
      "6:\tlearn: 3202.8116344\ttotal: 1.16s\tremaining: 10.5s\n",
      "7:\tlearn: 3148.3416968\ttotal: 1.27s\tremaining: 9.85s\n",
      "8:\tlearn: 3093.1908243\ttotal: 1.47s\tremaining: 9.95s\n",
      "9:\tlearn: 3041.4962442\ttotal: 1.66s\tremaining: 9.97s\n",
      "10:\tlearn: 2990.2969778\ttotal: 1.86s\tremaining: 9.97s\n",
      "11:\tlearn: 2942.2037043\ttotal: 1.97s\tremaining: 9.51s\n",
      "12:\tlearn: 2894.8116911\ttotal: 2.16s\tremaining: 9.49s\n",
      "13:\tlearn: 2850.8354845\ttotal: 2.36s\tremaining: 9.45s\n",
      "14:\tlearn: 2808.7834862\ttotal: 2.56s\tremaining: 9.38s\n",
      "15:\tlearn: 2767.6950049\ttotal: 2.75s\tremaining: 9.3s\n",
      "16:\tlearn: 2728.6616942\ttotal: 2.87s\tremaining: 8.96s\n",
      "17:\tlearn: 2689.8083084\ttotal: 3.06s\tremaining: 8.85s\n",
      "18:\tlearn: 2653.1607981\ttotal: 3.26s\tremaining: 8.74s\n",
      "19:\tlearn: 2617.8753223\ttotal: 3.45s\tremaining: 8.63s\n",
      "20:\tlearn: 2582.2875591\ttotal: 3.56s\tremaining: 8.31s\n",
      "21:\tlearn: 2549.3979994\ttotal: 3.76s\tremaining: 8.2s\n",
      "22:\tlearn: 2518.3883697\ttotal: 3.95s\tremaining: 8.07s\n",
      "23:\tlearn: 2488.3845398\ttotal: 4.06s\tremaining: 7.78s\n",
      "24:\tlearn: 2460.1718810\ttotal: 4.25s\tremaining: 7.66s\n",
      "25:\tlearn: 2432.6496364\ttotal: 4.45s\tremaining: 7.53s\n",
      "26:\tlearn: 2404.7551212\ttotal: 4.65s\tremaining: 7.4s\n",
      "27:\tlearn: 2377.7859889\ttotal: 4.75s\tremaining: 7.13s\n",
      "28:\tlearn: 2352.6024385\ttotal: 4.95s\tremaining: 7s\n",
      "29:\tlearn: 2327.8895642\ttotal: 5.14s\tremaining: 6.86s\n",
      "30:\tlearn: 2305.3860322\ttotal: 5.25s\tremaining: 6.61s\n",
      "31:\tlearn: 2282.9047175\ttotal: 5.44s\tremaining: 6.46s\n",
      "32:\tlearn: 2260.8700981\ttotal: 5.64s\tremaining: 6.32s\n",
      "33:\tlearn: 2240.7788644\ttotal: 5.75s\tremaining: 6.09s\n",
      "34:\tlearn: 2221.4149564\ttotal: 5.94s\tremaining: 5.94s\n",
      "35:\tlearn: 2201.6123671\ttotal: 6.14s\tremaining: 5.8s\n",
      "36:\tlearn: 2183.0057246\ttotal: 6.25s\tremaining: 5.57s\n",
      "37:\tlearn: 2165.0641668\ttotal: 6.44s\tremaining: 5.42s\n",
      "38:\tlearn: 2147.8718748\ttotal: 6.64s\tremaining: 5.28s\n",
      "39:\tlearn: 2131.6839473\ttotal: 6.75s\tremaining: 5.06s\n",
      "40:\tlearn: 2115.6365782\ttotal: 6.94s\tremaining: 4.91s\n",
      "41:\tlearn: 2100.3579991\ttotal: 7.14s\tremaining: 4.76s\n",
      "42:\tlearn: 2085.2482041\ttotal: 7.33s\tremaining: 4.6s\n",
      "43:\tlearn: 2070.2748676\ttotal: 7.44s\tremaining: 4.4s\n",
      "44:\tlearn: 2056.3205237\ttotal: 7.64s\tremaining: 4.24s\n",
      "45:\tlearn: 2042.5087012\ttotal: 7.83s\tremaining: 4.09s\n",
      "46:\tlearn: 2028.9922904\ttotal: 7.95s\tremaining: 3.89s\n",
      "47:\tlearn: 2017.0806246\ttotal: 8.13s\tremaining: 3.73s\n",
      "48:\tlearn: 2004.0732862\ttotal: 8.33s\tremaining: 3.57s\n",
      "49:\tlearn: 1992.7383984\ttotal: 8.53s\tremaining: 3.41s\n",
      "50:\tlearn: 1981.3395027\ttotal: 8.73s\tremaining: 3.25s\n",
      "51:\tlearn: 1970.7194019\ttotal: 8.83s\tremaining: 3.06s\n",
      "52:\tlearn: 1960.0866922\ttotal: 9.03s\tremaining: 2.9s\n",
      "53:\tlearn: 1949.9632453\ttotal: 9.22s\tremaining: 2.73s\n",
      "54:\tlearn: 1940.6125345\ttotal: 9.33s\tremaining: 2.54s\n",
      "55:\tlearn: 1931.0027566\ttotal: 9.53s\tremaining: 2.38s\n",
      "56:\tlearn: 1922.4131479\ttotal: 9.72s\tremaining: 2.22s\n",
      "57:\tlearn: 1913.9002535\ttotal: 9.83s\tremaining: 2.03s\n",
      "58:\tlearn: 1905.1969685\ttotal: 10s\tremaining: 1.87s\n",
      "59:\tlearn: 1896.3111635\ttotal: 10.2s\tremaining: 1.7s\n",
      "60:\tlearn: 1887.9732095\ttotal: 10.3s\tremaining: 1.52s\n",
      "61:\tlearn: 1880.6944022\ttotal: 10.5s\tremaining: 1.36s\n",
      "62:\tlearn: 1873.0914281\ttotal: 10.7s\tremaining: 1.19s\n",
      "63:\tlearn: 1865.7826214\ttotal: 10.8s\tremaining: 1.01s\n",
      "64:\tlearn: 1858.1445611\ttotal: 11s\tremaining: 848ms\n",
      "65:\tlearn: 1850.4489845\ttotal: 11.2s\tremaining: 680ms\n",
      "66:\tlearn: 1843.9242642\ttotal: 11.4s\tremaining: 511ms\n",
      "67:\tlearn: 1837.1847701\ttotal: 11.5s\tremaining: 339ms\n",
      "68:\tlearn: 1829.8985743\ttotal: 11.7s\tremaining: 170ms\n",
      "69:\tlearn: 1823.7938072\ttotal: 11.9s\tremaining: 0us\n",
      "0:\tlearn: 3576.3183552\ttotal: 120ms\tremaining: 8.27s\n",
      "1:\tlearn: 3504.8255807\ttotal: 322ms\tremaining: 10.9s\n",
      "2:\tlearn: 3434.2703688\ttotal: 521ms\tremaining: 11.6s\n",
      "3:\tlearn: 3366.9109335\ttotal: 723ms\tremaining: 11.9s\n",
      "4:\tlearn: 3301.8479295\ttotal: 921ms\tremaining: 12s\n",
      "5:\tlearn: 3239.0718920\ttotal: 1.12s\tremaining: 12s\n",
      "6:\tlearn: 3177.8532307\ttotal: 1.33s\tremaining: 12s\n",
      "7:\tlearn: 3119.2062672\ttotal: 1.61s\tremaining: 12.5s\n",
      "8:\tlearn: 3062.6201735\ttotal: 1.82s\tremaining: 12.3s\n",
      "9:\tlearn: 3008.1720780\ttotal: 2.02s\tremaining: 12.1s\n",
      "10:\tlearn: 2956.1761210\ttotal: 2.22s\tremaining: 11.9s\n",
      "11:\tlearn: 2906.4438657\ttotal: 2.42s\tremaining: 11.7s\n",
      "12:\tlearn: 2857.4172371\ttotal: 2.63s\tremaining: 11.5s\n",
      "13:\tlearn: 2810.9519878\ttotal: 2.91s\tremaining: 11.6s\n",
      "14:\tlearn: 2766.0345056\ttotal: 3.11s\tremaining: 11.4s\n",
      "15:\tlearn: 2722.3096259\ttotal: 3.32s\tremaining: 11.2s\n",
      "16:\tlearn: 2680.3238187\ttotal: 3.52s\tremaining: 11s\n",
      "17:\tlearn: 2640.2959746\ttotal: 3.71s\tremaining: 10.7s\n",
      "18:\tlearn: 2601.8122668\ttotal: 3.92s\tremaining: 10.5s\n",
      "19:\tlearn: 2565.1832105\ttotal: 4.12s\tremaining: 10.3s\n",
      "20:\tlearn: 2529.0785491\ttotal: 4.32s\tremaining: 10.1s\n",
      "21:\tlearn: 2494.2296757\ttotal: 4.52s\tremaining: 9.86s\n",
      "22:\tlearn: 2460.3462657\ttotal: 4.8s\tremaining: 9.81s\n",
      "23:\tlearn: 2428.2839923\ttotal: 5s\tremaining: 9.59s\n",
      "24:\tlearn: 2398.0951093\ttotal: 5.21s\tremaining: 9.37s\n",
      "25:\tlearn: 2368.7517286\ttotal: 5.41s\tremaining: 9.16s\n",
      "26:\tlearn: 2340.0597837\ttotal: 5.61s\tremaining: 8.94s\n",
      "27:\tlearn: 2312.2184169\ttotal: 5.9s\tremaining: 8.85s\n",
      "28:\tlearn: 2285.5637631\ttotal: 6.1s\tremaining: 8.62s\n",
      "29:\tlearn: 2259.7802558\ttotal: 6.3s\tremaining: 8.4s\n",
      "30:\tlearn: 2234.4727689\ttotal: 6.5s\tremaining: 8.18s\n",
      "31:\tlearn: 2211.3637741\ttotal: 6.7s\tremaining: 7.96s\n",
      "32:\tlearn: 2188.7636589\ttotal: 6.99s\tremaining: 7.84s\n",
      "33:\tlearn: 2167.0510859\ttotal: 7.19s\tremaining: 7.62s\n",
      "34:\tlearn: 2146.3469864\ttotal: 7.39s\tremaining: 7.39s\n",
      "35:\tlearn: 2125.8462940\ttotal: 7.59s\tremaining: 7.17s\n",
      "36:\tlearn: 2106.7560431\ttotal: 7.79s\tremaining: 6.95s\n",
      "37:\tlearn: 2088.2997017\ttotal: 8s\tremaining: 6.73s\n",
      "38:\tlearn: 2070.8316362\ttotal: 8.2s\tremaining: 6.52s\n",
      "39:\tlearn: 2053.7001721\ttotal: 8.4s\tremaining: 6.3s\n",
      "40:\tlearn: 2036.8924001\ttotal: 8.69s\tremaining: 6.14s\n",
      "41:\tlearn: 2021.5909015\ttotal: 8.89s\tremaining: 5.92s\n",
      "42:\tlearn: 2006.7772018\ttotal: 9.09s\tremaining: 5.71s\n",
      "43:\tlearn: 1990.7642417\ttotal: 9.29s\tremaining: 5.49s\n",
      "44:\tlearn: 1976.8999029\ttotal: 9.49s\tremaining: 5.27s\n",
      "45:\tlearn: 1963.4897871\ttotal: 9.69s\tremaining: 5.06s\n",
      "46:\tlearn: 1949.6542524\ttotal: 9.89s\tremaining: 4.84s\n",
      "47:\tlearn: 1937.2359866\ttotal: 10.1s\tremaining: 4.62s\n",
      "48:\tlearn: 1925.4318349\ttotal: 10.3s\tremaining: 4.41s\n",
      "49:\tlearn: 1913.3718662\ttotal: 10.5s\tremaining: 4.2s\n",
      "50:\tlearn: 1902.1274259\ttotal: 10.7s\tremaining: 3.98s\n",
      "51:\tlearn: 1891.3624276\ttotal: 11s\tremaining: 3.8s\n",
      "52:\tlearn: 1880.8254163\ttotal: 11.2s\tremaining: 3.59s\n",
      "53:\tlearn: 1870.6335311\ttotal: 11.4s\tremaining: 3.37s\n",
      "54:\tlearn: 1861.4540074\ttotal: 11.6s\tremaining: 3.16s\n",
      "55:\tlearn: 1852.4005772\ttotal: 11.8s\tremaining: 2.95s\n",
      "56:\tlearn: 1842.2765335\ttotal: 12s\tremaining: 2.73s\n",
      "57:\tlearn: 1833.0856661\ttotal: 12.3s\tremaining: 2.54s\n",
      "58:\tlearn: 1823.6874378\ttotal: 12.5s\tremaining: 2.33s\n",
      "59:\tlearn: 1815.7794102\ttotal: 12.7s\tremaining: 2.11s\n",
      "60:\tlearn: 1807.6507123\ttotal: 13s\tremaining: 1.91s\n",
      "61:\tlearn: 1799.6089736\ttotal: 13.2s\tremaining: 1.7s\n",
      "62:\tlearn: 1792.3297835\ttotal: 13.4s\tremaining: 1.49s\n",
      "63:\tlearn: 1785.0822576\ttotal: 13.7s\tremaining: 1.28s\n",
      "64:\tlearn: 1778.4164488\ttotal: 13.9s\tremaining: 1.07s\n",
      "65:\tlearn: 1771.0927000\ttotal: 14.1s\tremaining: 853ms\n",
      "66:\tlearn: 1765.2126406\ttotal: 14.3s\tremaining: 639ms\n",
      "67:\tlearn: 1758.3178916\ttotal: 14.6s\tremaining: 428ms\n",
      "68:\tlearn: 1752.3264720\ttotal: 14.8s\tremaining: 214ms\n",
      "69:\tlearn: 1746.2544681\ttotal: 15s\tremaining: 0us\n",
      "0:\tlearn: 3586.7914552\ttotal: 102ms\tremaining: 9.03s\n",
      "1:\tlearn: 3524.3960524\ttotal: 207ms\tremaining: 9.1s\n",
      "2:\tlearn: 3464.7642157\ttotal: 398ms\tremaining: 11.5s\n",
      "3:\tlearn: 3405.7912078\ttotal: 504ms\tremaining: 10.8s\n",
      "4:\tlearn: 3347.1544184\ttotal: 695ms\tremaining: 11.8s\n",
      "5:\tlearn: 3291.4684184\ttotal: 798ms\tremaining: 11.2s\n",
      "6:\tlearn: 3238.2853509\ttotal: 905ms\tremaining: 10.7s\n",
      "7:\tlearn: 3189.0376916\ttotal: 1.09s\tremaining: 11.2s\n",
      "8:\tlearn: 3139.9299503\ttotal: 1.2s\tremaining: 10.8s\n",
      "9:\tlearn: 3090.4077748\ttotal: 1.3s\tremaining: 10.4s\n",
      "10:\tlearn: 3044.0557334\ttotal: 1.49s\tremaining: 10.7s\n",
      "11:\tlearn: 2998.5109559\ttotal: 1.6s\tremaining: 10.4s\n",
      "12:\tlearn: 2955.9886283\ttotal: 1.71s\tremaining: 10.1s\n",
      "13:\tlearn: 2914.6124317\ttotal: 1.89s\tremaining: 10.3s\n",
      "14:\tlearn: 2873.0426100\ttotal: 2s\tremaining: 10s\n",
      "15:\tlearn: 2835.9552949\ttotal: 2.19s\tremaining: 10.1s\n",
      "16:\tlearn: 2799.6362733\ttotal: 2.29s\tremaining: 9.84s\n",
      "17:\tlearn: 2766.0489877\ttotal: 2.4s\tremaining: 9.59s\n",
      "18:\tlearn: 2733.2710235\ttotal: 2.59s\tremaining: 9.66s\n",
      "19:\tlearn: 2700.3310953\ttotal: 2.69s\tremaining: 9.42s\n",
      "20:\tlearn: 2666.9559810\ttotal: 2.79s\tremaining: 9.18s\n",
      "21:\tlearn: 2635.0183855\ttotal: 2.98s\tremaining: 9.23s\n",
      "22:\tlearn: 2604.5218943\ttotal: 3.09s\tremaining: 9s\n",
      "23:\tlearn: 2576.3593421\ttotal: 3.19s\tremaining: 8.77s\n",
      "24:\tlearn: 2550.0447511\ttotal: 3.38s\tremaining: 8.79s\n",
      "25:\tlearn: 2523.1832821\ttotal: 3.49s\tremaining: 8.58s\n",
      "26:\tlearn: 2496.9255630\ttotal: 3.59s\tremaining: 8.38s\n",
      "27:\tlearn: 2471.6893720\ttotal: 3.78s\tremaining: 8.37s\n",
      "28:\tlearn: 2448.7303578\ttotal: 3.89s\tremaining: 8.18s\n",
      "29:\tlearn: 2426.8062638\ttotal: 3.99s\tremaining: 7.97s\n",
      "30:\tlearn: 2404.4805548\ttotal: 4.18s\tremaining: 7.95s\n",
      "31:\tlearn: 2382.5657764\ttotal: 4.28s\tremaining: 7.76s\n",
      "32:\tlearn: 2362.4324004\ttotal: 4.47s\tremaining: 7.73s\n",
      "33:\tlearn: 2343.2608418\ttotal: 4.58s\tremaining: 7.54s\n",
      "34:\tlearn: 2325.0522450\ttotal: 4.68s\tremaining: 7.36s\n",
      "35:\tlearn: 2306.1297470\ttotal: 4.87s\tremaining: 7.31s\n",
      "36:\tlearn: 2288.4155757\ttotal: 4.98s\tremaining: 7.13s\n",
      "37:\tlearn: 2271.6382306\ttotal: 5.08s\tremaining: 6.95s\n",
      "38:\tlearn: 2254.1976314\ttotal: 5.27s\tremaining: 6.89s\n",
      "39:\tlearn: 2237.9325690\ttotal: 5.37s\tremaining: 6.72s\n",
      "40:\tlearn: 2221.1555628\ttotal: 5.48s\tremaining: 6.55s\n",
      "41:\tlearn: 2206.0643588\ttotal: 5.67s\tremaining: 6.48s\n",
      "42:\tlearn: 2191.6457297\ttotal: 5.77s\tremaining: 6.31s\n",
      "43:\tlearn: 2177.1410477\ttotal: 5.88s\tremaining: 6.14s\n",
      "44:\tlearn: 2163.0921038\ttotal: 6.07s\tremaining: 6.07s\n",
      "45:\tlearn: 2150.1623905\ttotal: 6.17s\tremaining: 5.9s\n",
      "46:\tlearn: 2137.3745719\ttotal: 6.27s\tremaining: 5.74s\n",
      "47:\tlearn: 2125.0817303\ttotal: 6.46s\tremaining: 5.66s\n",
      "48:\tlearn: 2113.9370689\ttotal: 6.57s\tremaining: 5.5s\n",
      "49:\tlearn: 2101.8401643\ttotal: 6.68s\tremaining: 5.34s\n",
      "50:\tlearn: 2091.3515432\ttotal: 6.86s\tremaining: 5.25s\n",
      "51:\tlearn: 2080.4621546\ttotal: 6.97s\tremaining: 5.09s\n",
      "52:\tlearn: 2069.9534205\ttotal: 7.07s\tremaining: 4.94s\n",
      "53:\tlearn: 2060.0329346\ttotal: 7.26s\tremaining: 4.84s\n",
      "54:\tlearn: 2049.9952122\ttotal: 7.36s\tremaining: 4.69s\n",
      "55:\tlearn: 2040.2317603\ttotal: 7.47s\tremaining: 4.53s\n",
      "56:\tlearn: 2030.7879509\ttotal: 7.66s\tremaining: 4.43s\n",
      "57:\tlearn: 2022.1007282\ttotal: 7.76s\tremaining: 4.28s\n",
      "58:\tlearn: 2013.2913452\ttotal: 7.87s\tremaining: 4.13s\n",
      "59:\tlearn: 2004.8366045\ttotal: 8.05s\tremaining: 4.03s\n",
      "60:\tlearn: 1996.3895601\ttotal: 8.16s\tremaining: 3.88s\n",
      "61:\tlearn: 1988.1874814\ttotal: 8.26s\tremaining: 3.73s\n",
      "62:\tlearn: 1980.7169415\ttotal: 8.45s\tremaining: 3.62s\n",
      "63:\tlearn: 1972.9459320\ttotal: 8.56s\tremaining: 3.48s\n",
      "64:\tlearn: 1965.9729748\ttotal: 8.66s\tremaining: 3.33s\n",
      "65:\tlearn: 1958.8749131\ttotal: 8.77s\tremaining: 3.19s\n",
      "66:\tlearn: 1951.8090535\ttotal: 8.95s\tremaining: 3.07s\n",
      "67:\tlearn: 1945.1063350\ttotal: 9.06s\tremaining: 2.93s\n",
      "68:\tlearn: 1939.1609412\ttotal: 9.16s\tremaining: 2.79s\n",
      "69:\tlearn: 1932.8419795\ttotal: 9.35s\tremaining: 2.67s\n",
      "70:\tlearn: 1926.1704873\ttotal: 9.45s\tremaining: 2.53s\n",
      "71:\tlearn: 1920.0646770\ttotal: 9.55s\tremaining: 2.39s\n",
      "72:\tlearn: 1914.6019480\ttotal: 9.65s\tremaining: 2.25s\n",
      "73:\tlearn: 1908.5610295\ttotal: 9.84s\tremaining: 2.13s\n",
      "74:\tlearn: 1903.6687104\ttotal: 9.95s\tremaining: 1.99s\n",
      "75:\tlearn: 1898.4681445\ttotal: 10.1s\tremaining: 1.85s\n",
      "76:\tlearn: 1893.0052341\ttotal: 10.2s\tremaining: 1.73s\n",
      "77:\tlearn: 1887.2137378\ttotal: 10.3s\tremaining: 1.59s\n",
      "78:\tlearn: 1881.4916829\ttotal: 10.4s\tremaining: 1.45s\n",
      "79:\tlearn: 1877.4374002\ttotal: 10.6s\tremaining: 1.32s\n",
      "80:\tlearn: 1872.7296927\ttotal: 10.7s\tremaining: 1.19s\n",
      "81:\tlearn: 1868.3834468\ttotal: 10.8s\tremaining: 1.06s\n",
      "82:\tlearn: 1863.7614200\ttotal: 10.9s\tremaining: 923ms\n",
      "83:\tlearn: 1859.2682276\ttotal: 11.1s\tremaining: 796ms\n",
      "84:\tlearn: 1854.5553233\ttotal: 11.2s\tremaining: 661ms\n",
      "85:\tlearn: 1850.2831372\ttotal: 11.3s\tremaining: 528ms\n",
      "86:\tlearn: 1845.8247775\ttotal: 11.5s\tremaining: 398ms\n",
      "87:\tlearn: 1842.0806029\ttotal: 11.6s\tremaining: 265ms\n",
      "88:\tlearn: 1838.3939685\ttotal: 11.7s\tremaining: 132ms\n",
      "89:\tlearn: 1834.4520447\ttotal: 11.9s\tremaining: 0us\n",
      "0:\tlearn: 3579.6930403\ttotal: 37.1ms\tremaining: 3.3s\n",
      "1:\tlearn: 3511.6732497\ttotal: 230ms\tremaining: 10.1s\n",
      "2:\tlearn: 3444.4046254\ttotal: 417ms\tremaining: 12.1s\n",
      "3:\tlearn: 3379.6764269\ttotal: 624ms\tremaining: 13.4s\n",
      "4:\tlearn: 3318.8621043\ttotal: 817ms\tremaining: 13.9s\n",
      "5:\tlearn: 3259.7962987\ttotal: 1.01s\tremaining: 14.2s\n",
      "6:\tlearn: 3202.8116344\ttotal: 1.21s\tremaining: 14.4s\n",
      "7:\tlearn: 3148.3416968\ttotal: 1.32s\tremaining: 13.5s\n",
      "8:\tlearn: 3093.1908243\ttotal: 1.51s\tremaining: 13.6s\n",
      "9:\tlearn: 3041.4962442\ttotal: 1.71s\tremaining: 13.7s\n",
      "10:\tlearn: 2990.2969778\ttotal: 1.82s\tremaining: 13.1s\n",
      "11:\tlearn: 2942.2037043\ttotal: 2.01s\tremaining: 13.1s\n",
      "12:\tlearn: 2894.8116911\ttotal: 2.21s\tremaining: 13.1s\n",
      "13:\tlearn: 2850.8354845\ttotal: 2.4s\tremaining: 13.1s\n",
      "14:\tlearn: 2808.7834862\ttotal: 2.51s\tremaining: 12.6s\n",
      "15:\tlearn: 2767.6950049\ttotal: 2.71s\tremaining: 12.5s\n",
      "16:\tlearn: 2728.6616942\ttotal: 2.9s\tremaining: 12.5s\n",
      "17:\tlearn: 2689.8083084\ttotal: 3.1s\tremaining: 12.4s\n",
      "18:\tlearn: 2653.1607981\ttotal: 3.22s\tremaining: 12s\n",
      "19:\tlearn: 2617.8753223\ttotal: 3.41s\tremaining: 11.9s\n",
      "20:\tlearn: 2582.2875591\ttotal: 3.6s\tremaining: 11.8s\n",
      "21:\tlearn: 2549.3979994\ttotal: 3.8s\tremaining: 11.7s\n",
      "22:\tlearn: 2518.3883697\ttotal: 3.91s\tremaining: 11.4s\n",
      "23:\tlearn: 2488.3845398\ttotal: 4.1s\tremaining: 11.3s\n",
      "24:\tlearn: 2460.1718810\ttotal: 4.3s\tremaining: 11.2s\n",
      "25:\tlearn: 2432.6496364\ttotal: 4.49s\tremaining: 11.1s\n",
      "26:\tlearn: 2404.7551212\ttotal: 4.6s\tremaining: 10.7s\n",
      "27:\tlearn: 2377.7859889\ttotal: 4.8s\tremaining: 10.6s\n",
      "28:\tlearn: 2352.6024385\ttotal: 5s\tremaining: 10.5s\n",
      "29:\tlearn: 2327.8895642\ttotal: 5.19s\tremaining: 10.4s\n",
      "30:\tlearn: 2305.3860322\ttotal: 5.3s\tremaining: 10.1s\n",
      "31:\tlearn: 2282.9047175\ttotal: 5.5s\tremaining: 9.97s\n",
      "32:\tlearn: 2260.8700981\ttotal: 5.69s\tremaining: 9.83s\n",
      "33:\tlearn: 2240.7788644\ttotal: 5.89s\tremaining: 9.7s\n",
      "34:\tlearn: 2221.4149564\ttotal: 6s\tremaining: 9.43s\n",
      "35:\tlearn: 2201.6123671\ttotal: 6.19s\tremaining: 9.29s\n",
      "36:\tlearn: 2183.0057246\ttotal: 6.39s\tremaining: 9.16s\n",
      "37:\tlearn: 2165.0641668\ttotal: 6.59s\tremaining: 9.01s\n",
      "38:\tlearn: 2147.8718748\ttotal: 6.7s\tremaining: 8.76s\n",
      "39:\tlearn: 2131.6839473\ttotal: 6.89s\tremaining: 8.61s\n",
      "40:\tlearn: 2115.6365782\ttotal: 7.08s\tremaining: 8.47s\n",
      "41:\tlearn: 2100.3579991\ttotal: 7.28s\tremaining: 8.32s\n",
      "42:\tlearn: 2085.2482041\ttotal: 7.39s\tremaining: 8.07s\n",
      "43:\tlearn: 2070.2748676\ttotal: 7.58s\tremaining: 7.93s\n",
      "44:\tlearn: 2056.3205237\ttotal: 7.78s\tremaining: 7.78s\n",
      "45:\tlearn: 2042.5087012\ttotal: 7.89s\tremaining: 7.55s\n",
      "46:\tlearn: 2028.9922904\ttotal: 8.09s\tremaining: 7.4s\n",
      "47:\tlearn: 2017.0806246\ttotal: 8.28s\tremaining: 7.24s\n",
      "48:\tlearn: 2004.0732862\ttotal: 8.39s\tremaining: 7.02s\n",
      "49:\tlearn: 1992.7383984\ttotal: 8.58s\tremaining: 6.87s\n",
      "50:\tlearn: 1981.3395027\ttotal: 8.78s\tremaining: 6.71s\n",
      "51:\tlearn: 1970.7194019\ttotal: 8.97s\tremaining: 6.56s\n",
      "52:\tlearn: 1960.0866922\ttotal: 9.08s\tremaining: 6.34s\n",
      "53:\tlearn: 1949.9632453\ttotal: 9.28s\tremaining: 6.19s\n",
      "54:\tlearn: 1940.6125345\ttotal: 9.47s\tremaining: 6.03s\n",
      "55:\tlearn: 1931.0027566\ttotal: 9.67s\tremaining: 5.87s\n",
      "56:\tlearn: 1922.4131479\ttotal: 9.78s\tremaining: 5.66s\n",
      "57:\tlearn: 1913.9002535\ttotal: 9.97s\tremaining: 5.5s\n",
      "58:\tlearn: 1905.1969685\ttotal: 10.2s\tremaining: 5.34s\n",
      "59:\tlearn: 1896.3111635\ttotal: 10.3s\tremaining: 5.14s\n",
      "60:\tlearn: 1887.9732095\ttotal: 10.5s\tremaining: 4.98s\n",
      "61:\tlearn: 1880.6944022\ttotal: 10.7s\tremaining: 4.82s\n",
      "62:\tlearn: 1873.0914281\ttotal: 10.8s\tremaining: 4.62s\n",
      "63:\tlearn: 1865.7826214\ttotal: 11s\tremaining: 4.46s\n",
      "64:\tlearn: 1858.1445611\ttotal: 11.2s\tremaining: 4.29s\n",
      "65:\tlearn: 1850.4489845\ttotal: 11.4s\tremaining: 4.13s\n",
      "66:\tlearn: 1843.9242642\ttotal: 11.5s\tremaining: 3.94s\n",
      "67:\tlearn: 1837.1847701\ttotal: 11.7s\tremaining: 3.77s\n",
      "68:\tlearn: 1829.8985743\ttotal: 11.9s\tremaining: 3.61s\n",
      "69:\tlearn: 1823.7938072\ttotal: 12s\tremaining: 3.42s\n",
      "70:\tlearn: 1818.3002196\ttotal: 12.2s\tremaining: 3.25s\n",
      "71:\tlearn: 1812.8803978\ttotal: 12.3s\tremaining: 3.07s\n",
      "72:\tlearn: 1807.3662303\ttotal: 12.5s\tremaining: 2.9s\n",
      "73:\tlearn: 1801.7653590\ttotal: 12.7s\tremaining: 2.74s\n",
      "74:\tlearn: 1796.0353072\ttotal: 12.8s\tremaining: 2.55s\n",
      "75:\tlearn: 1790.5031738\ttotal: 13s\tremaining: 2.39s\n",
      "76:\tlearn: 1785.6847186\ttotal: 13.2s\tremaining: 2.22s\n",
      "77:\tlearn: 1781.2346307\ttotal: 13.3s\tremaining: 2.04s\n",
      "78:\tlearn: 1775.9642688\ttotal: 13.5s\tremaining: 1.87s\n",
      "79:\tlearn: 1771.0347424\ttotal: 13.7s\tremaining: 1.71s\n",
      "80:\tlearn: 1766.8998323\ttotal: 13.8s\tremaining: 1.53s\n",
      "81:\tlearn: 1762.5465403\ttotal: 14s\tremaining: 1.36s\n",
      "82:\tlearn: 1758.8125098\ttotal: 14.2s\tremaining: 1.19s\n",
      "83:\tlearn: 1754.9068706\ttotal: 14.3s\tremaining: 1.02s\n",
      "84:\tlearn: 1751.2848991\ttotal: 14.5s\tremaining: 850ms\n",
      "85:\tlearn: 1746.2440860\ttotal: 14.7s\tremaining: 682ms\n",
      "86:\tlearn: 1742.2187511\ttotal: 14.8s\tremaining: 512ms\n",
      "87:\tlearn: 1737.8698411\ttotal: 15s\tremaining: 340ms\n",
      "88:\tlearn: 1733.5993042\ttotal: 15.2s\tremaining: 170ms\n",
      "89:\tlearn: 1730.7086169\ttotal: 15.3s\tremaining: 0us\n",
      "0:\tlearn: 3576.3183552\ttotal: 61.4ms\tremaining: 5.46s\n",
      "1:\tlearn: 3504.8255807\ttotal: 344ms\tremaining: 15.1s\n",
      "2:\tlearn: 3434.2703688\ttotal: 548ms\tremaining: 15.9s\n",
      "3:\tlearn: 3366.9109335\ttotal: 751ms\tremaining: 16.2s\n",
      "4:\tlearn: 3301.8479295\ttotal: 951ms\tremaining: 16.2s\n",
      "5:\tlearn: 3239.0718920\ttotal: 1.16s\tremaining: 16.2s\n",
      "6:\tlearn: 3177.8532307\ttotal: 1.44s\tremaining: 17.1s\n",
      "7:\tlearn: 3119.2062672\ttotal: 1.64s\tremaining: 16.8s\n",
      "8:\tlearn: 3062.6201735\ttotal: 1.85s\tremaining: 16.7s\n",
      "9:\tlearn: 3008.1720780\ttotal: 2.05s\tremaining: 16.4s\n",
      "10:\tlearn: 2956.1761210\ttotal: 2.25s\tremaining: 16.2s\n",
      "11:\tlearn: 2906.4438657\ttotal: 2.53s\tremaining: 16.5s\n",
      "12:\tlearn: 2857.4172371\ttotal: 2.73s\tremaining: 16.2s\n",
      "13:\tlearn: 2810.9519878\ttotal: 2.94s\tremaining: 15.9s\n",
      "14:\tlearn: 2766.0345056\ttotal: 3.14s\tremaining: 15.7s\n",
      "15:\tlearn: 2722.3096259\ttotal: 3.34s\tremaining: 15.5s\n",
      "16:\tlearn: 2680.3238187\ttotal: 3.54s\tremaining: 15.2s\n",
      "17:\tlearn: 2640.2959746\ttotal: 3.74s\tremaining: 15s\n",
      "18:\tlearn: 2601.8122668\ttotal: 4.03s\tremaining: 15.1s\n",
      "19:\tlearn: 2565.1832105\ttotal: 4.23s\tremaining: 14.8s\n",
      "20:\tlearn: 2529.0785491\ttotal: 4.44s\tremaining: 14.6s\n",
      "21:\tlearn: 2494.2296757\ttotal: 4.64s\tremaining: 14.3s\n",
      "22:\tlearn: 2460.3462657\ttotal: 4.84s\tremaining: 14.1s\n",
      "23:\tlearn: 2428.2839923\ttotal: 5.13s\tremaining: 14.1s\n",
      "24:\tlearn: 2398.0951093\ttotal: 5.33s\tremaining: 13.9s\n",
      "25:\tlearn: 2368.7517286\ttotal: 5.53s\tremaining: 13.6s\n",
      "26:\tlearn: 2340.0597837\ttotal: 5.73s\tremaining: 13.4s\n",
      "27:\tlearn: 2312.2184169\ttotal: 5.93s\tremaining: 13.1s\n",
      "28:\tlearn: 2285.5637631\ttotal: 6.14s\tremaining: 12.9s\n",
      "29:\tlearn: 2259.7802558\ttotal: 6.42s\tremaining: 12.8s\n",
      "30:\tlearn: 2234.4727689\ttotal: 6.63s\tremaining: 12.6s\n",
      "31:\tlearn: 2211.3637741\ttotal: 6.83s\tremaining: 12.4s\n",
      "32:\tlearn: 2188.7636589\ttotal: 7.03s\tremaining: 12.1s\n",
      "33:\tlearn: 2167.0510859\ttotal: 7.32s\tremaining: 12.1s\n",
      "34:\tlearn: 2146.3469864\ttotal: 7.52s\tremaining: 11.8s\n",
      "35:\tlearn: 2125.8462940\ttotal: 7.72s\tremaining: 11.6s\n",
      "36:\tlearn: 2106.7560431\ttotal: 7.92s\tremaining: 11.3s\n",
      "37:\tlearn: 2088.2997017\ttotal: 8.13s\tremaining: 11.1s\n",
      "38:\tlearn: 2070.8316362\ttotal: 8.33s\tremaining: 10.9s\n",
      "39:\tlearn: 2053.7001721\ttotal: 8.53s\tremaining: 10.7s\n",
      "40:\tlearn: 2036.8924001\ttotal: 8.73s\tremaining: 10.4s\n",
      "41:\tlearn: 2021.5909015\ttotal: 8.93s\tremaining: 10.2s\n",
      "42:\tlearn: 2006.7772018\ttotal: 9.13s\tremaining: 9.98s\n",
      "43:\tlearn: 1990.7642417\ttotal: 9.33s\tremaining: 9.75s\n",
      "44:\tlearn: 1976.8999029\ttotal: 9.53s\tremaining: 9.53s\n",
      "45:\tlearn: 1963.4897871\ttotal: 9.72s\tremaining: 9.3s\n",
      "46:\tlearn: 1949.6542524\ttotal: 10s\tremaining: 9.15s\n",
      "47:\tlearn: 1937.2359866\ttotal: 10.2s\tremaining: 8.94s\n",
      "48:\tlearn: 1925.4318349\ttotal: 10.4s\tremaining: 8.71s\n",
      "49:\tlearn: 1913.3718662\ttotal: 10.6s\tremaining: 8.5s\n",
      "50:\tlearn: 1902.1274259\ttotal: 10.9s\tremaining: 8.34s\n",
      "51:\tlearn: 1891.3624276\ttotal: 11.1s\tremaining: 8.12s\n",
      "52:\tlearn: 1880.8254163\ttotal: 11.3s\tremaining: 7.9s\n",
      "53:\tlearn: 1870.6335311\ttotal: 11.5s\tremaining: 7.67s\n",
      "54:\tlearn: 1861.4540074\ttotal: 11.8s\tremaining: 7.51s\n",
      "55:\tlearn: 1852.4005772\ttotal: 11.9s\tremaining: 7.23s\n",
      "56:\tlearn: 1842.2765335\ttotal: 12.1s\tremaining: 7.01s\n",
      "57:\tlearn: 1833.0856661\ttotal: 12.4s\tremaining: 6.84s\n",
      "58:\tlearn: 1823.6874378\ttotal: 12.6s\tremaining: 6.62s\n",
      "59:\tlearn: 1815.7794102\ttotal: 12.8s\tremaining: 6.4s\n",
      "60:\tlearn: 1807.6507123\ttotal: 13s\tremaining: 6.18s\n",
      "61:\tlearn: 1799.6089736\ttotal: 13.2s\tremaining: 5.96s\n",
      "62:\tlearn: 1792.3297835\ttotal: 13.4s\tremaining: 5.74s\n",
      "63:\tlearn: 1785.0822576\ttotal: 13.6s\tremaining: 5.53s\n",
      "64:\tlearn: 1778.4164488\ttotal: 13.8s\tremaining: 5.31s\n",
      "65:\tlearn: 1771.0927000\ttotal: 14.1s\tremaining: 5.12s\n",
      "66:\tlearn: 1765.2126406\ttotal: 14.3s\tremaining: 4.91s\n",
      "67:\tlearn: 1758.3178916\ttotal: 14.5s\tremaining: 4.69s\n",
      "68:\tlearn: 1752.3264720\ttotal: 14.7s\tremaining: 4.47s\n",
      "69:\tlearn: 1746.2544681\ttotal: 14.9s\tremaining: 4.25s\n",
      "70:\tlearn: 1741.1617474\ttotal: 15.1s\tremaining: 4.04s\n",
      "71:\tlearn: 1734.9749213\ttotal: 15.3s\tremaining: 3.82s\n",
      "72:\tlearn: 1729.2380600\ttotal: 15.5s\tremaining: 3.61s\n",
      "73:\tlearn: 1723.0189281\ttotal: 15.8s\tremaining: 3.41s\n",
      "74:\tlearn: 1718.1569304\ttotal: 16s\tremaining: 3.2s\n",
      "75:\tlearn: 1713.2801432\ttotal: 16.2s\tremaining: 2.98s\n",
      "76:\tlearn: 1708.3610679\ttotal: 16.4s\tremaining: 2.77s\n",
      "77:\tlearn: 1704.0900419\ttotal: 16.6s\tremaining: 2.55s\n",
      "78:\tlearn: 1699.5463428\ttotal: 16.8s\tremaining: 2.34s\n",
      "79:\tlearn: 1695.2009083\ttotal: 17s\tremaining: 2.12s\n",
      "80:\tlearn: 1689.8522897\ttotal: 17.2s\tremaining: 1.91s\n",
      "81:\tlearn: 1685.7349833\ttotal: 17.4s\tremaining: 1.7s\n",
      "82:\tlearn: 1680.6526391\ttotal: 17.6s\tremaining: 1.48s\n",
      "83:\tlearn: 1676.0292168\ttotal: 17.9s\tremaining: 1.28s\n",
      "84:\tlearn: 1672.4494721\ttotal: 18.1s\tremaining: 1.06s\n",
      "85:\tlearn: 1668.6383873\ttotal: 18.3s\tremaining: 850ms\n",
      "86:\tlearn: 1664.5102221\ttotal: 18.5s\tremaining: 637ms\n",
      "87:\tlearn: 1660.8849225\ttotal: 18.7s\tremaining: 425ms\n",
      "88:\tlearn: 1657.2200726\ttotal: 18.9s\tremaining: 212ms\n",
      "89:\tlearn: 1653.6017476\ttotal: 19.2s\tremaining: 0us\n"
     ]
    }
   ],
   "source": [
    "for iteration in range(10, 101, 20):    \n",
    "    for depth in range(5, 11, 2):    \n",
    "        model_cbr = CatBoostRegressor(random_state=12345, iterations=iteration, loss_function='RMSE', depth=depth)\n",
    "        \n",
    "        start_fit = time.time()\n",
    "        model_cbr.fit(ordinal_features_train, initial_target_train)\n",
    "        end_fit = time.time() - start_fit\n",
    "        \n",
    "        start_predict = time.time()\n",
    "        predict_cbr = model_cbr.predict(ordinal_features_valid, verbose=1)\n",
    "        end_predict = time.time() - start_predict\n",
    "        \n",
    "        RMSE = mean_squared_error(initial_target_valid, predict_cbr)**0.5\n",
    "        \n",
    "        result_oe.append({'Модель': 'CatBoostRegressor', \n",
    "                       'Параметры': {'random_state':12345, \n",
    "                                    'iterations': iteration, \n",
    "                                    'loss_function': 'RMSE', \n",
    "                                    'depth': depth},\n",
    "                       'Время обучения': end_fit, \n",
    "                       'Скорость предсказания': end_predict,\n",
    "                       'RMSE': RMSE})"
   ]
  },
  {
   "cell_type": "markdown",
   "metadata": {},
   "source": [
    "<b>Модель линейной регрессии (OHE)</b>"
   ]
  },
  {
   "cell_type": "code",
   "execution_count": 67,
   "metadata": {},
   "outputs": [],
   "source": [
    "model_lr = LinearRegression()\n",
    "\n",
    "start_fit = time.time()\n",
    "model_lr.fit(features_train, target_train)\n",
    "end_fit = time.time() - start_fit\n",
    "\n",
    "start_predict = time.time()\n",
    "predict_lr = model_lr.predict(features_valid)\n",
    "end_predict = time.time() - start_predict\n",
    "\n",
    "RMSE = mean_squared_error(target_valid, predict_lr)**0.5\n",
    "\n",
    "result.append({'Модель': 'LinearRegression',\n",
    "               'Время обучения': end_fit, \n",
    "               'Скорость предсказания': end_predict,\n",
    "               'RMSE': RMSE})"
   ]
  },
  {
   "cell_type": "markdown",
   "metadata": {},
   "source": [
    "<b><div class=\"alert alert-block alert-info\">Модель линейной регрессии (OE)</div></b>"
   ]
  },
  {
   "cell_type": "code",
   "execution_count": 68,
   "metadata": {},
   "outputs": [],
   "source": [
    "model_lr_oe = LinearRegression()\n",
    "\n",
    "start_fit = time.time()\n",
    "model_lr_oe.fit(ordinal_features_train, initial_target_train)\n",
    "end_fit = time.time() - start_fit\n",
    "\n",
    "start_predict = time.time()\n",
    "predict_lr_oe = model_lr_oe.predict(ordinal_features_valid)\n",
    "end_predict = time.time() - start_predict\n",
    "\n",
    "RMSE = mean_squared_error(initial_target_valid, predict_lr_oe)**0.5\n",
    "\n",
    "result_oe.append({'Модель': 'LinearRegression',\n",
    "               'Время обучения': end_fit, \n",
    "               'Скорость предсказания': end_predict,\n",
    "               'RMSE': RMSE})"
   ]
  },
  {
   "cell_type": "markdown",
   "metadata": {},
   "source": [
    "<b>Модель дерево решений</b>"
   ]
  },
  {
   "cell_type": "code",
   "execution_count": 69,
   "metadata": {},
   "outputs": [],
   "source": [
    "for depth in range(1, 11):\n",
    "    model_dtr = DecisionTreeRegressor(random_state = 12345, max_depth=depth)\n",
    "    \n",
    "    start_fit = time.time()\n",
    "    model_dtr.fit(features_train, target_train)\n",
    "    end_fit = time.time() - start_fit\n",
    "    \n",
    "    start_predict = time.time()\n",
    "    predict_dtr = model_dtr.predict(features_valid)\n",
    "    end_predict = time.time() - start_predict\n",
    "    \n",
    "    RMSE = mean_squared_error(target_valid, predict_dtr)**0.5\n",
    "    \n",
    "    result.append({'Модель': 'DecisionTreeRegressor',\n",
    "                   'Параметры': {'random_state':12345,\n",
    "                                'max_depth': depth},\n",
    "                   'Время обучения': end_fit, \n",
    "                   'Скорость предсказания': end_predict,\n",
    "                   'RMSE': RMSE})"
   ]
  },
  {
   "cell_type": "markdown",
   "metadata": {},
   "source": [
    "<b><div class=\"alert alert-block alert-info\">Модель дерево решений (OE)</div></b>"
   ]
  },
  {
   "cell_type": "code",
   "execution_count": 70,
   "metadata": {},
   "outputs": [],
   "source": [
    "for depth in range(1, 11):\n",
    "    model_dtr = DecisionTreeRegressor(random_state = 12345, max_depth=depth)\n",
    "    \n",
    "    start_fit = time.time()\n",
    "    model_dtr.fit(ordinal_features_train, initial_target_train)\n",
    "    end_fit = time.time() - start_fit\n",
    "    \n",
    "    start_predict = time.time()\n",
    "    predict_dtr = model_dtr.predict(ordinal_features_valid)\n",
    "    end_predict = time.time() - start_predict\n",
    "    \n",
    "    RMSE = mean_squared_error(initial_target_valid, predict_dtr)**0.5\n",
    "    \n",
    "    result_oe.append({'Модель': 'DecisionTreeRegressor',\n",
    "                      'Параметры': {'random_state':12345,\n",
    "                                'max_depth': depth},\n",
    "                      'Время обучения': end_fit, \n",
    "                      'Скорость предсказания': end_predict,\n",
    "                      'RMSE': RMSE})"
   ]
  },
  {
   "cell_type": "markdown",
   "metadata": {},
   "source": [
    "## Анализ моделей"
   ]
  },
  {
   "cell_type": "code",
   "execution_count": 71,
   "metadata": {},
   "outputs": [
    {
     "data": {
      "text/html": [
       "<div>\n",
       "<style scoped>\n",
       "    .dataframe tbody tr th:only-of-type {\n",
       "        vertical-align: middle;\n",
       "    }\n",
       "\n",
       "    .dataframe tbody tr th {\n",
       "        vertical-align: top;\n",
       "    }\n",
       "\n",
       "    .dataframe thead th {\n",
       "        text-align: right;\n",
       "    }\n",
       "</style>\n",
       "<table border=\"1\" class=\"dataframe\">\n",
       "  <thead>\n",
       "    <tr style=\"text-align: right;\">\n",
       "      <th></th>\n",
       "      <th>Модель</th>\n",
       "      <th>Параметры</th>\n",
       "      <th>Время обучения</th>\n",
       "      <th>Скорость предсказания</th>\n",
       "      <th>RMSE</th>\n",
       "    </tr>\n",
       "  </thead>\n",
       "  <tbody>\n",
       "    <tr>\n",
       "      <td>0</td>\n",
       "      <td>LGBMRegressor</td>\n",
       "      <td>{'boosting_type': 'gbdt', 'max_depth': 11, 'n_...</td>\n",
       "      <td>11.073287</td>\n",
       "      <td>0.793973</td>\n",
       "      <td>1383.766761</td>\n",
       "    </tr>\n",
       "    <tr>\n",
       "      <td>1</td>\n",
       "      <td>CatBoostRegressor</td>\n",
       "      <td>{'random_state': 12345, 'iterations': 10, 'los...</td>\n",
       "      <td>7.211078</td>\n",
       "      <td>0.026066</td>\n",
       "      <td>3058.278537</td>\n",
       "    </tr>\n",
       "    <tr>\n",
       "      <td>2</td>\n",
       "      <td>CatBoostRegressor</td>\n",
       "      <td>{'random_state': 12345, 'iterations': 10, 'los...</td>\n",
       "      <td>7.608661</td>\n",
       "      <td>0.014722</td>\n",
       "      <td>3006.463872</td>\n",
       "    </tr>\n",
       "    <tr>\n",
       "      <td>3</td>\n",
       "      <td>CatBoostRegressor</td>\n",
       "      <td>{'random_state': 12345, 'iterations': 10, 'los...</td>\n",
       "      <td>8.221301</td>\n",
       "      <td>0.010449</td>\n",
       "      <td>2973.226031</td>\n",
       "    </tr>\n",
       "    <tr>\n",
       "      <td>4</td>\n",
       "      <td>CatBoostRegressor</td>\n",
       "      <td>{'random_state': 12345, 'iterations': 30, 'los...</td>\n",
       "      <td>13.120631</td>\n",
       "      <td>0.010444</td>\n",
       "      <td>2390.691162</td>\n",
       "    </tr>\n",
       "    <tr>\n",
       "      <td>5</td>\n",
       "      <td>CatBoostRegressor</td>\n",
       "      <td>{'random_state': 12345, 'iterations': 30, 'los...</td>\n",
       "      <td>11.262073</td>\n",
       "      <td>0.010237</td>\n",
       "      <td>2292.696949</td>\n",
       "    </tr>\n",
       "    <tr>\n",
       "      <td>6</td>\n",
       "      <td>CatBoostRegressor</td>\n",
       "      <td>{'random_state': 12345, 'iterations': 30, 'los...</td>\n",
       "      <td>12.504162</td>\n",
       "      <td>0.012418</td>\n",
       "      <td>2224.773126</td>\n",
       "    </tr>\n",
       "    <tr>\n",
       "      <td>7</td>\n",
       "      <td>CatBoostRegressor</td>\n",
       "      <td>{'random_state': 12345, 'iterations': 50, 'los...</td>\n",
       "      <td>12.853894</td>\n",
       "      <td>0.011242</td>\n",
       "      <td>2064.404507</td>\n",
       "    </tr>\n",
       "    <tr>\n",
       "      <td>8</td>\n",
       "      <td>CatBoostRegressor</td>\n",
       "      <td>{'random_state': 12345, 'iterations': 50, 'los...</td>\n",
       "      <td>14.620216</td>\n",
       "      <td>0.010892</td>\n",
       "      <td>1959.196247</td>\n",
       "    </tr>\n",
       "    <tr>\n",
       "      <td>9</td>\n",
       "      <td>CatBoostRegressor</td>\n",
       "      <td>{'random_state': 12345, 'iterations': 50, 'los...</td>\n",
       "      <td>16.526826</td>\n",
       "      <td>0.011873</td>\n",
       "      <td>1883.503335</td>\n",
       "    </tr>\n",
       "    <tr>\n",
       "      <td>10</td>\n",
       "      <td>CatBoostRegressor</td>\n",
       "      <td>{'random_state': 12345, 'iterations': 70, 'los...</td>\n",
       "      <td>15.063434</td>\n",
       "      <td>0.011687</td>\n",
       "      <td>1900.338622</td>\n",
       "    </tr>\n",
       "    <tr>\n",
       "      <td>11</td>\n",
       "      <td>CatBoostRegressor</td>\n",
       "      <td>{'random_state': 12345, 'iterations': 70, 'los...</td>\n",
       "      <td>17.699448</td>\n",
       "      <td>0.011004</td>\n",
       "      <td>1791.331444</td>\n",
       "    </tr>\n",
       "    <tr>\n",
       "      <td>12</td>\n",
       "      <td>CatBoostRegressor</td>\n",
       "      <td>{'random_state': 12345, 'iterations': 70, 'los...</td>\n",
       "      <td>22.035576</td>\n",
       "      <td>0.012977</td>\n",
       "      <td>1716.946273</td>\n",
       "    </tr>\n",
       "    <tr>\n",
       "      <td>13</td>\n",
       "      <td>CatBoostRegressor</td>\n",
       "      <td>{'random_state': 12345, 'iterations': 90, 'los...</td>\n",
       "      <td>18.359685</td>\n",
       "      <td>0.010837</td>\n",
       "      <td>1799.728095</td>\n",
       "    </tr>\n",
       "    <tr>\n",
       "      <td>14</td>\n",
       "      <td>CatBoostRegressor</td>\n",
       "      <td>{'random_state': 12345, 'iterations': 90, 'los...</td>\n",
       "      <td>21.623964</td>\n",
       "      <td>0.011264</td>\n",
       "      <td>1694.233240</td>\n",
       "    </tr>\n",
       "    <tr>\n",
       "      <td>15</td>\n",
       "      <td>CatBoostRegressor</td>\n",
       "      <td>{'random_state': 12345, 'iterations': 90, 'los...</td>\n",
       "      <td>25.407252</td>\n",
       "      <td>0.013657</td>\n",
       "      <td>1618.804134</td>\n",
       "    </tr>\n",
       "    <tr>\n",
       "      <td>16</td>\n",
       "      <td>LinearRegression</td>\n",
       "      <td>NaN</td>\n",
       "      <td>24.055573</td>\n",
       "      <td>0.202042</td>\n",
       "      <td>1958.380895</td>\n",
       "    </tr>\n",
       "    <tr>\n",
       "      <td>17</td>\n",
       "      <td>DecisionTreeRegressor</td>\n",
       "      <td>{'random_state': 12345, 'max_depth': 1}</td>\n",
       "      <td>0.856046</td>\n",
       "      <td>0.071873</td>\n",
       "      <td>2925.132081</td>\n",
       "    </tr>\n",
       "    <tr>\n",
       "      <td>18</td>\n",
       "      <td>DecisionTreeRegressor</td>\n",
       "      <td>{'random_state': 12345, 'max_depth': 2}</td>\n",
       "      <td>1.290699</td>\n",
       "      <td>0.068330</td>\n",
       "      <td>2635.225379</td>\n",
       "    </tr>\n",
       "    <tr>\n",
       "      <td>19</td>\n",
       "      <td>DecisionTreeRegressor</td>\n",
       "      <td>{'random_state': 12345, 'max_depth': 3}</td>\n",
       "      <td>1.800028</td>\n",
       "      <td>0.064203</td>\n",
       "      <td>2402.095164</td>\n",
       "    </tr>\n",
       "    <tr>\n",
       "      <td>20</td>\n",
       "      <td>DecisionTreeRegressor</td>\n",
       "      <td>{'random_state': 12345, 'max_depth': 4}</td>\n",
       "      <td>2.407978</td>\n",
       "      <td>0.065344</td>\n",
       "      <td>2177.689814</td>\n",
       "    </tr>\n",
       "    <tr>\n",
       "      <td>21</td>\n",
       "      <td>DecisionTreeRegressor</td>\n",
       "      <td>{'random_state': 12345, 'max_depth': 5}</td>\n",
       "      <td>2.755399</td>\n",
       "      <td>0.067956</td>\n",
       "      <td>2033.629813</td>\n",
       "    </tr>\n",
       "    <tr>\n",
       "      <td>22</td>\n",
       "      <td>DecisionTreeRegressor</td>\n",
       "      <td>{'random_state': 12345, 'max_depth': 6}</td>\n",
       "      <td>3.433379</td>\n",
       "      <td>0.066473</td>\n",
       "      <td>1904.515766</td>\n",
       "    </tr>\n",
       "    <tr>\n",
       "      <td>23</td>\n",
       "      <td>DecisionTreeRegressor</td>\n",
       "      <td>{'random_state': 12345, 'max_depth': 7}</td>\n",
       "      <td>4.014530</td>\n",
       "      <td>0.169281</td>\n",
       "      <td>1812.266095</td>\n",
       "    </tr>\n",
       "    <tr>\n",
       "      <td>24</td>\n",
       "      <td>DecisionTreeRegressor</td>\n",
       "      <td>{'random_state': 12345, 'max_depth': 8}</td>\n",
       "      <td>4.447651</td>\n",
       "      <td>0.071952</td>\n",
       "      <td>1751.263594</td>\n",
       "    </tr>\n",
       "    <tr>\n",
       "      <td>25</td>\n",
       "      <td>DecisionTreeRegressor</td>\n",
       "      <td>{'random_state': 12345, 'max_depth': 9}</td>\n",
       "      <td>4.866767</td>\n",
       "      <td>0.070027</td>\n",
       "      <td>1703.966238</td>\n",
       "    </tr>\n",
       "    <tr>\n",
       "      <td>26</td>\n",
       "      <td>DecisionTreeRegressor</td>\n",
       "      <td>{'random_state': 12345, 'max_depth': 10}</td>\n",
       "      <td>5.225806</td>\n",
       "      <td>0.068145</td>\n",
       "      <td>1656.405465</td>\n",
       "    </tr>\n",
       "  </tbody>\n",
       "</table>\n",
       "</div>"
      ],
      "text/plain": [
       "                   Модель                                          Параметры  \\\n",
       "0           LGBMRegressor  {'boosting_type': 'gbdt', 'max_depth': 11, 'n_...   \n",
       "1       CatBoostRegressor  {'random_state': 12345, 'iterations': 10, 'los...   \n",
       "2       CatBoostRegressor  {'random_state': 12345, 'iterations': 10, 'los...   \n",
       "3       CatBoostRegressor  {'random_state': 12345, 'iterations': 10, 'los...   \n",
       "4       CatBoostRegressor  {'random_state': 12345, 'iterations': 30, 'los...   \n",
       "5       CatBoostRegressor  {'random_state': 12345, 'iterations': 30, 'los...   \n",
       "6       CatBoostRegressor  {'random_state': 12345, 'iterations': 30, 'los...   \n",
       "7       CatBoostRegressor  {'random_state': 12345, 'iterations': 50, 'los...   \n",
       "8       CatBoostRegressor  {'random_state': 12345, 'iterations': 50, 'los...   \n",
       "9       CatBoostRegressor  {'random_state': 12345, 'iterations': 50, 'los...   \n",
       "10      CatBoostRegressor  {'random_state': 12345, 'iterations': 70, 'los...   \n",
       "11      CatBoostRegressor  {'random_state': 12345, 'iterations': 70, 'los...   \n",
       "12      CatBoostRegressor  {'random_state': 12345, 'iterations': 70, 'los...   \n",
       "13      CatBoostRegressor  {'random_state': 12345, 'iterations': 90, 'los...   \n",
       "14      CatBoostRegressor  {'random_state': 12345, 'iterations': 90, 'los...   \n",
       "15      CatBoostRegressor  {'random_state': 12345, 'iterations': 90, 'los...   \n",
       "16       LinearRegression                                                NaN   \n",
       "17  DecisionTreeRegressor            {'random_state': 12345, 'max_depth': 1}   \n",
       "18  DecisionTreeRegressor            {'random_state': 12345, 'max_depth': 2}   \n",
       "19  DecisionTreeRegressor            {'random_state': 12345, 'max_depth': 3}   \n",
       "20  DecisionTreeRegressor            {'random_state': 12345, 'max_depth': 4}   \n",
       "21  DecisionTreeRegressor            {'random_state': 12345, 'max_depth': 5}   \n",
       "22  DecisionTreeRegressor            {'random_state': 12345, 'max_depth': 6}   \n",
       "23  DecisionTreeRegressor            {'random_state': 12345, 'max_depth': 7}   \n",
       "24  DecisionTreeRegressor            {'random_state': 12345, 'max_depth': 8}   \n",
       "25  DecisionTreeRegressor            {'random_state': 12345, 'max_depth': 9}   \n",
       "26  DecisionTreeRegressor           {'random_state': 12345, 'max_depth': 10}   \n",
       "\n",
       "    Время обучения  Скорость предсказания         RMSE  \n",
       "0        11.073287               0.793973  1383.766761  \n",
       "1         7.211078               0.026066  3058.278537  \n",
       "2         7.608661               0.014722  3006.463872  \n",
       "3         8.221301               0.010449  2973.226031  \n",
       "4        13.120631               0.010444  2390.691162  \n",
       "5        11.262073               0.010237  2292.696949  \n",
       "6        12.504162               0.012418  2224.773126  \n",
       "7        12.853894               0.011242  2064.404507  \n",
       "8        14.620216               0.010892  1959.196247  \n",
       "9        16.526826               0.011873  1883.503335  \n",
       "10       15.063434               0.011687  1900.338622  \n",
       "11       17.699448               0.011004  1791.331444  \n",
       "12       22.035576               0.012977  1716.946273  \n",
       "13       18.359685               0.010837  1799.728095  \n",
       "14       21.623964               0.011264  1694.233240  \n",
       "15       25.407252               0.013657  1618.804134  \n",
       "16       24.055573               0.202042  1958.380895  \n",
       "17        0.856046               0.071873  2925.132081  \n",
       "18        1.290699               0.068330  2635.225379  \n",
       "19        1.800028               0.064203  2402.095164  \n",
       "20        2.407978               0.065344  2177.689814  \n",
       "21        2.755399               0.067956  2033.629813  \n",
       "22        3.433379               0.066473  1904.515766  \n",
       "23        4.014530               0.169281  1812.266095  \n",
       "24        4.447651               0.071952  1751.263594  \n",
       "25        4.866767               0.070027  1703.966238  \n",
       "26        5.225806               0.068145  1656.405465  "
      ]
     },
     "execution_count": 71,
     "metadata": {},
     "output_type": "execute_result"
    }
   ],
   "source": [
    "pd.DataFrame(result)"
   ]
  },
  {
   "cell_type": "code",
   "execution_count": 72,
   "metadata": {},
   "outputs": [
    {
     "data": {
      "text/html": [
       "<div>\n",
       "<style scoped>\n",
       "    .dataframe tbody tr th:only-of-type {\n",
       "        vertical-align: middle;\n",
       "    }\n",
       "\n",
       "    .dataframe tbody tr th {\n",
       "        vertical-align: top;\n",
       "    }\n",
       "\n",
       "    .dataframe thead th {\n",
       "        text-align: right;\n",
       "    }\n",
       "</style>\n",
       "<table border=\"1\" class=\"dataframe\">\n",
       "  <thead>\n",
       "    <tr style=\"text-align: right;\">\n",
       "      <th></th>\n",
       "      <th>Модель</th>\n",
       "      <th>Параметры</th>\n",
       "      <th>Время обучения</th>\n",
       "      <th>Скорость предсказания</th>\n",
       "      <th>RMSE</th>\n",
       "    </tr>\n",
       "  </thead>\n",
       "  <tbody>\n",
       "    <tr>\n",
       "      <td>0</td>\n",
       "      <td>LGBMRegressor</td>\n",
       "      <td>{'boosting_type': 'gbdt', 'max_depth': 11, 'n_...</td>\n",
       "      <td>7.896254</td>\n",
       "      <td>0.495066</td>\n",
       "      <td>1387.075314</td>\n",
       "    </tr>\n",
       "    <tr>\n",
       "      <td>1</td>\n",
       "      <td>CatBoostRegressor</td>\n",
       "      <td>{'random_state': 12345, 'iterations': 10, 'los...</td>\n",
       "      <td>3.098423</td>\n",
       "      <td>0.004469</td>\n",
       "      <td>3057.937515</td>\n",
       "    </tr>\n",
       "    <tr>\n",
       "      <td>2</td>\n",
       "      <td>CatBoostRegressor</td>\n",
       "      <td>{'random_state': 12345, 'iterations': 10, 'los...</td>\n",
       "      <td>3.448573</td>\n",
       "      <td>0.008924</td>\n",
       "      <td>3009.593251</td>\n",
       "    </tr>\n",
       "    <tr>\n",
       "      <td>3</td>\n",
       "      <td>CatBoostRegressor</td>\n",
       "      <td>{'random_state': 12345, 'iterations': 10, 'los...</td>\n",
       "      <td>3.681421</td>\n",
       "      <td>0.013613</td>\n",
       "      <td>2976.979697</td>\n",
       "    </tr>\n",
       "    <tr>\n",
       "      <td>4</td>\n",
       "      <td>CatBoostRegressor</td>\n",
       "      <td>{'random_state': 12345, 'iterations': 30, 'los...</td>\n",
       "      <td>5.710752</td>\n",
       "      <td>0.016168</td>\n",
       "      <td>2392.357436</td>\n",
       "    </tr>\n",
       "    <tr>\n",
       "      <td>5</td>\n",
       "      <td>CatBoostRegressor</td>\n",
       "      <td>{'random_state': 12345, 'iterations': 30, 'los...</td>\n",
       "      <td>6.681250</td>\n",
       "      <td>0.004035</td>\n",
       "      <td>2294.371217</td>\n",
       "    </tr>\n",
       "    <tr>\n",
       "      <td>6</td>\n",
       "      <td>CatBoostRegressor</td>\n",
       "      <td>{'random_state': 12345, 'iterations': 30, 'los...</td>\n",
       "      <td>7.991426</td>\n",
       "      <td>0.012159</td>\n",
       "      <td>2226.775626</td>\n",
       "    </tr>\n",
       "    <tr>\n",
       "      <td>7</td>\n",
       "      <td>CatBoostRegressor</td>\n",
       "      <td>{'random_state': 12345, 'iterations': 50, 'los...</td>\n",
       "      <td>8.616041</td>\n",
       "      <td>0.011887</td>\n",
       "      <td>2065.048521</td>\n",
       "    </tr>\n",
       "    <tr>\n",
       "      <td>8</td>\n",
       "      <td>CatBoostRegressor</td>\n",
       "      <td>{'random_state': 12345, 'iterations': 50, 'los...</td>\n",
       "      <td>11.287083</td>\n",
       "      <td>0.011621</td>\n",
       "      <td>1955.617260</td>\n",
       "    </tr>\n",
       "    <tr>\n",
       "      <td>9</td>\n",
       "      <td>CatBoostRegressor</td>\n",
       "      <td>{'random_state': 12345, 'iterations': 50, 'los...</td>\n",
       "      <td>12.768486</td>\n",
       "      <td>0.006558</td>\n",
       "      <td>1878.434344</td>\n",
       "    </tr>\n",
       "    <tr>\n",
       "      <td>10</td>\n",
       "      <td>CatBoostRegressor</td>\n",
       "      <td>{'random_state': 12345, 'iterations': 70, 'los...</td>\n",
       "      <td>11.017874</td>\n",
       "      <td>0.012239</td>\n",
       "      <td>1893.392522</td>\n",
       "    </tr>\n",
       "    <tr>\n",
       "      <td>11</td>\n",
       "      <td>CatBoostRegressor</td>\n",
       "      <td>{'random_state': 12345, 'iterations': 70, 'los...</td>\n",
       "      <td>13.823587</td>\n",
       "      <td>0.012583</td>\n",
       "      <td>1784.956324</td>\n",
       "    </tr>\n",
       "    <tr>\n",
       "      <td>12</td>\n",
       "      <td>CatBoostRegressor</td>\n",
       "      <td>{'random_state': 12345, 'iterations': 70, 'los...</td>\n",
       "      <td>16.705322</td>\n",
       "      <td>0.012024</td>\n",
       "      <td>1711.867646</td>\n",
       "    </tr>\n",
       "    <tr>\n",
       "      <td>13</td>\n",
       "      <td>CatBoostRegressor</td>\n",
       "      <td>{'random_state': 12345, 'iterations': 90, 'los...</td>\n",
       "      <td>13.938196</td>\n",
       "      <td>0.004405</td>\n",
       "      <td>1793.817979</td>\n",
       "    </tr>\n",
       "    <tr>\n",
       "      <td>14</td>\n",
       "      <td>CatBoostRegressor</td>\n",
       "      <td>{'random_state': 12345, 'iterations': 90, 'los...</td>\n",
       "      <td>17.202568</td>\n",
       "      <td>0.005019</td>\n",
       "      <td>1691.502468</td>\n",
       "    </tr>\n",
       "    <tr>\n",
       "      <td>15</td>\n",
       "      <td>CatBoostRegressor</td>\n",
       "      <td>{'random_state': 12345, 'iterations': 90, 'los...</td>\n",
       "      <td>20.858025</td>\n",
       "      <td>0.010471</td>\n",
       "      <td>1620.232594</td>\n",
       "    </tr>\n",
       "    <tr>\n",
       "      <td>16</td>\n",
       "      <td>LinearRegression</td>\n",
       "      <td>NaN</td>\n",
       "      <td>0.109613</td>\n",
       "      <td>0.011832</td>\n",
       "      <td>2292.344979</td>\n",
       "    </tr>\n",
       "    <tr>\n",
       "      <td>17</td>\n",
       "      <td>DecisionTreeRegressor</td>\n",
       "      <td>{'random_state': 12345, 'max_depth': 1}</td>\n",
       "      <td>0.066070</td>\n",
       "      <td>0.003004</td>\n",
       "      <td>2925.132081</td>\n",
       "    </tr>\n",
       "    <tr>\n",
       "      <td>18</td>\n",
       "      <td>DecisionTreeRegressor</td>\n",
       "      <td>{'random_state': 12345, 'max_depth': 2}</td>\n",
       "      <td>0.126510</td>\n",
       "      <td>0.003268</td>\n",
       "      <td>2635.225379</td>\n",
       "    </tr>\n",
       "    <tr>\n",
       "      <td>19</td>\n",
       "      <td>DecisionTreeRegressor</td>\n",
       "      <td>{'random_state': 12345, 'max_depth': 3}</td>\n",
       "      <td>0.166322</td>\n",
       "      <td>0.003504</td>\n",
       "      <td>2402.095164</td>\n",
       "    </tr>\n",
       "    <tr>\n",
       "      <td>20</td>\n",
       "      <td>DecisionTreeRegressor</td>\n",
       "      <td>{'random_state': 12345, 'max_depth': 4}</td>\n",
       "      <td>0.212916</td>\n",
       "      <td>0.003820</td>\n",
       "      <td>2180.312882</td>\n",
       "    </tr>\n",
       "    <tr>\n",
       "      <td>21</td>\n",
       "      <td>DecisionTreeRegressor</td>\n",
       "      <td>{'random_state': 12345, 'max_depth': 5}</td>\n",
       "      <td>0.263709</td>\n",
       "      <td>0.004304</td>\n",
       "      <td>2039.469346</td>\n",
       "    </tr>\n",
       "    <tr>\n",
       "      <td>22</td>\n",
       "      <td>DecisionTreeRegressor</td>\n",
       "      <td>{'random_state': 12345, 'max_depth': 6}</td>\n",
       "      <td>0.404906</td>\n",
       "      <td>0.004480</td>\n",
       "      <td>1907.490354</td>\n",
       "    </tr>\n",
       "    <tr>\n",
       "      <td>23</td>\n",
       "      <td>DecisionTreeRegressor</td>\n",
       "      <td>{'random_state': 12345, 'max_depth': 7}</td>\n",
       "      <td>0.360021</td>\n",
       "      <td>0.004780</td>\n",
       "      <td>1808.426317</td>\n",
       "    </tr>\n",
       "    <tr>\n",
       "      <td>24</td>\n",
       "      <td>DecisionTreeRegressor</td>\n",
       "      <td>{'random_state': 12345, 'max_depth': 8}</td>\n",
       "      <td>0.403768</td>\n",
       "      <td>0.005086</td>\n",
       "      <td>1739.308047</td>\n",
       "    </tr>\n",
       "    <tr>\n",
       "      <td>25</td>\n",
       "      <td>DecisionTreeRegressor</td>\n",
       "      <td>{'random_state': 12345, 'max_depth': 9}</td>\n",
       "      <td>0.449205</td>\n",
       "      <td>0.005980</td>\n",
       "      <td>1688.992207</td>\n",
       "    </tr>\n",
       "    <tr>\n",
       "      <td>26</td>\n",
       "      <td>DecisionTreeRegressor</td>\n",
       "      <td>{'random_state': 12345, 'max_depth': 10}</td>\n",
       "      <td>0.676998</td>\n",
       "      <td>0.006389</td>\n",
       "      <td>1642.668099</td>\n",
       "    </tr>\n",
       "  </tbody>\n",
       "</table>\n",
       "</div>"
      ],
      "text/plain": [
       "                   Модель                                          Параметры  \\\n",
       "0           LGBMRegressor  {'boosting_type': 'gbdt', 'max_depth': 11, 'n_...   \n",
       "1       CatBoostRegressor  {'random_state': 12345, 'iterations': 10, 'los...   \n",
       "2       CatBoostRegressor  {'random_state': 12345, 'iterations': 10, 'los...   \n",
       "3       CatBoostRegressor  {'random_state': 12345, 'iterations': 10, 'los...   \n",
       "4       CatBoostRegressor  {'random_state': 12345, 'iterations': 30, 'los...   \n",
       "5       CatBoostRegressor  {'random_state': 12345, 'iterations': 30, 'los...   \n",
       "6       CatBoostRegressor  {'random_state': 12345, 'iterations': 30, 'los...   \n",
       "7       CatBoostRegressor  {'random_state': 12345, 'iterations': 50, 'los...   \n",
       "8       CatBoostRegressor  {'random_state': 12345, 'iterations': 50, 'los...   \n",
       "9       CatBoostRegressor  {'random_state': 12345, 'iterations': 50, 'los...   \n",
       "10      CatBoostRegressor  {'random_state': 12345, 'iterations': 70, 'los...   \n",
       "11      CatBoostRegressor  {'random_state': 12345, 'iterations': 70, 'los...   \n",
       "12      CatBoostRegressor  {'random_state': 12345, 'iterations': 70, 'los...   \n",
       "13      CatBoostRegressor  {'random_state': 12345, 'iterations': 90, 'los...   \n",
       "14      CatBoostRegressor  {'random_state': 12345, 'iterations': 90, 'los...   \n",
       "15      CatBoostRegressor  {'random_state': 12345, 'iterations': 90, 'los...   \n",
       "16       LinearRegression                                                NaN   \n",
       "17  DecisionTreeRegressor            {'random_state': 12345, 'max_depth': 1}   \n",
       "18  DecisionTreeRegressor            {'random_state': 12345, 'max_depth': 2}   \n",
       "19  DecisionTreeRegressor            {'random_state': 12345, 'max_depth': 3}   \n",
       "20  DecisionTreeRegressor            {'random_state': 12345, 'max_depth': 4}   \n",
       "21  DecisionTreeRegressor            {'random_state': 12345, 'max_depth': 5}   \n",
       "22  DecisionTreeRegressor            {'random_state': 12345, 'max_depth': 6}   \n",
       "23  DecisionTreeRegressor            {'random_state': 12345, 'max_depth': 7}   \n",
       "24  DecisionTreeRegressor            {'random_state': 12345, 'max_depth': 8}   \n",
       "25  DecisionTreeRegressor            {'random_state': 12345, 'max_depth': 9}   \n",
       "26  DecisionTreeRegressor           {'random_state': 12345, 'max_depth': 10}   \n",
       "\n",
       "    Время обучения  Скорость предсказания         RMSE  \n",
       "0         7.896254               0.495066  1387.075314  \n",
       "1         3.098423               0.004469  3057.937515  \n",
       "2         3.448573               0.008924  3009.593251  \n",
       "3         3.681421               0.013613  2976.979697  \n",
       "4         5.710752               0.016168  2392.357436  \n",
       "5         6.681250               0.004035  2294.371217  \n",
       "6         7.991426               0.012159  2226.775626  \n",
       "7         8.616041               0.011887  2065.048521  \n",
       "8        11.287083               0.011621  1955.617260  \n",
       "9        12.768486               0.006558  1878.434344  \n",
       "10       11.017874               0.012239  1893.392522  \n",
       "11       13.823587               0.012583  1784.956324  \n",
       "12       16.705322               0.012024  1711.867646  \n",
       "13       13.938196               0.004405  1793.817979  \n",
       "14       17.202568               0.005019  1691.502468  \n",
       "15       20.858025               0.010471  1620.232594  \n",
       "16        0.109613               0.011832  2292.344979  \n",
       "17        0.066070               0.003004  2925.132081  \n",
       "18        0.126510               0.003268  2635.225379  \n",
       "19        0.166322               0.003504  2402.095164  \n",
       "20        0.212916               0.003820  2180.312882  \n",
       "21        0.263709               0.004304  2039.469346  \n",
       "22        0.404906               0.004480  1907.490354  \n",
       "23        0.360021               0.004780  1808.426317  \n",
       "24        0.403768               0.005086  1739.308047  \n",
       "25        0.449205               0.005980  1688.992207  \n",
       "26        0.676998               0.006389  1642.668099  "
      ]
     },
     "execution_count": 72,
     "metadata": {},
     "output_type": "execute_result"
    }
   ],
   "source": [
    "pd.DataFrame(result_oe)"
   ]
  },
  {
   "cell_type": "markdown",
   "metadata": {},
   "source": [
    "<div style=\"background: #cceeaa; padding: 5px; border: 1px solid green; border-radius: 5px;\">\n",
    "<font color='green'><u><b>КОММЕНТАРИЙ РЕВЬЮЕРА</b></u>\n",
    "<font color='green'><br>дааааааа, солидно вышло)"
   ]
  },
  {
   "cell_type": "markdown",
   "metadata": {},
   "source": [
    "Наилучшее качество предсказания показала модель градиентного бустинга с помощью библиотеки LightGBM, но у данной модели достаточно большые время обучения и скорость предсказания, что не соответствует требованиям заказчика. Самую высокую скорость показала модель дерева решений при глубине 1, но качество предсказаний данной модели достаточно низкое. На мой взгляд, наиболее оптимальной критериям заказчика является модель дерева решений при глубине 10, проверим ее на тестовой выборке."
   ]
  },
  {
   "cell_type": "markdown",
   "metadata": {},
   "source": [
    "<div class=\"alert alert-block alert-info\">RMSE модели Дерево решений, обученной на ОЕ данных, при той же глубине (10) несколько лучше, чем аналогичная модель на ОНЕ данных, протестируем ее:<div>"
   ]
  },
  {
   "cell_type": "code",
   "execution_count": 73,
   "metadata": {},
   "outputs": [
    {
     "name": "stdout",
     "output_type": "stream",
     "text": [
      "RMSE:  1666.5948649507475\n",
      "Время обучения:  0.4957261085510254\n",
      "Скорость предсказания:  0.00659942626953125\n"
     ]
    }
   ],
   "source": [
    "model_optimal = DecisionTreeRegressor(random_state = 12345, max_depth=10)\n",
    "\n",
    "start_fit = time.time()\n",
    "model_optimal.fit(ordinal_features_train, initial_target_train)\n",
    "end_fit = time.time() - start_fit\n",
    "\n",
    "start_predict = time.time()\n",
    "predict_optimal = model_optimal.predict(ordinal_features_test)\n",
    "end_predict = time.time() - start_predict\n",
    "\n",
    "print('RMSE: ', mean_squared_error(initial_target_test, predict_optimal)**0.5)\n",
    "print('Время обучения: ', end_fit)\n",
    "print('Скорость предсказания: ', end_predict)"
   ]
  },
  {
   "cell_type": "markdown",
   "metadata": {},
   "source": [
    "<div class=\"alert alert-block alert-info\">Проанализируем важность факторов, влияющих на построение предсказаний моделью:<div>"
   ]
  },
  {
   "cell_type": "code",
   "execution_count": 74,
   "metadata": {},
   "outputs": [
    {
     "data": {
      "image/png": "[encoded data removed]",
      "text/plain": [
       "<Figure size 432x288 with 1 Axes>"
      ]
     },
     "metadata": {
      "needs_background": "light"
     },
     "output_type": "display_data"
    }
   ],
   "source": [
    "pd.Series(model_optimal.feature_importances_, index=ordinal_features_train.columns).nlargest(5).plot(kind='barh')\n",
    "plt.show()"
   ]
  },
  {
   "cell_type": "markdown",
   "metadata": {},
   "source": [
    "Из полученного графика видим, что на предсказание стоимости автомобиля более всего оказывает влияние такой признак как год регистрации автомобиля, далее идут мощность и пробег авто."
   ]
  },
  {
   "cell_type": "markdown",
   "metadata": {},
   "source": [
    "<b>Вывод</b>"
   ]
  },
  {
   "cell_type": "markdown",
   "metadata": {},
   "source": [
    "Соответствующей трем показателям (качество предсказания, скорость предсказания и время обучения) выбрана модель дерева решений с глубиной равной 10."
   ]
  },
  {
   "cell_type": "code",
   "execution_count": null,
   "metadata": {},
   "outputs": [],
   "source": []
  },
  {
   "cell_type": "markdown",
   "metadata": {},
   "source": [
    "<div style=\"background: #cceeaa; padding: 5px; border: 1px solid green; border-radius: 5px;\">\n",
    "<font color='green'> \n",
    "    <b><u>КОММЕНТАРИЙ РЕВЬЮЕРА 2</u></b>\n",
    "<font color='green'><br>\n",
    "Привет, Юлия!<br>\n",
    "Классная доработка. И категоризацией и с важностью факторов.<br>\n",
    "В общем-то, всё в точку)<br>\n",
    "Спасибо за проект) УСПЕШНОГО ДАЛЬНЕЙШЕГО ОБУЧЕНИЯ!\n"
   ]
  },
  {
   "cell_type": "code",
   "execution_count": null,
   "metadata": {},
   "outputs": [],
   "source": []
  },
  {
   "cell_type": "markdown",
   "metadata": {},
   "source": [
    "<div style=\"background: #cceeaa; padding: 5px; border: 1px solid green; border-radius: 5px;\">\n",
    "<font color='green'><u><b>КОММЕНТАРИЙ РЕВЬЮЕРА</b></u></font><br />\n",
    "<font color='green'>\n",
    "<br/>Юлия, крепкая работа<br>\n",
    "Прочитав её до конца хочется добавить: ...\"А по сему и делу конец), как говорится\" <br>\n",
    "Мне было интерено двигаться от блока к блоку, читать размышления, код и выводы.<br>\n",
    "При этом оформление выводов такое же последовательное и адекватное.<br>\n",
    "В целом, ты не забыла поисследовать данные, и достаточно разносторонне поработать с моделями.<br>\n",
    "    \n",
    "<font color='green'>\n",
    "Если говорить, что можно ещё улучшить в подобных проектах, то я бы выделили такие моменты:<br>\n",
    "1) После подбора параметров модели, когда уже настаёт этап тестировани. Можно обучить на обобщённой выборке (трайн + валидация) ну и тестировать потом. Это может ещё прибавить точности.(если не использовать кросс-валидации)<br>\n",
    "    \n",
    "2) Для понимания, а какие в итоге факторы важны при моделировании, можно выводить их важность, использую feature_importances_, ну и график заодно. Это будет смотреться очнь здорово: результативная метрика и график важности факторов)))<br>  \n",
    "    \n",
    "3) предварительная работа с данными:<br>\n",
    "- На этом этапе нужно БОЛЬШЕ аргументации, для принимаемых решений.<br>\n",
    "- Также, можно организовать для себя некую систему работы с данными:<br>\n",
    " \n",
    "Например, алгоритм такой может:<br>\n",
    "а) анализ аномалий: количественные и категориальные переменные <br>\n",
    "б) анализ пропусков: количественные и категориальные переменные<br>\n",
    "в) проверка дубликатов<br>\n",
    "г) Анализ факторов: исходя из типа шкалы, могут применять следующие графический и аналитический анализы:<br>\n",
    "- колличественная-колличественная: аналитически методод - корреляции, графический - скатерплот.<br>\n",
    "- колличественная-номинальная: аналитически методод - проверка гипотез (стьюдент, маннауитни), графический - боксплот.<br>\n",
    "- номинальная-номинальная: аналитически методод - Хи-квадрат, графический - круговая диаграмма<br>\n",
    "    \n",
    "4) Можно попробовать провести анализ остатков. Вычислить разницу между прогноз-факт и посмотерть что и как можедель чаще всего хорошо/плохо предсказывает.<br>\n",
    "5) У нас разный возраст машин. Есть гипотеза, что для разных возрастов - своё ценообразование. Поэтому, можно попробовать ввести фактор \"тип возраста\" (ретро, суперретро, старая, новаоя... надо пдумать..) ну и попробовать новую модель (этопросто на обчуждение). А может, по каждому кластеру - вообще своя модель...<br>\n",
    "    \n",
    "    \n",
    "<font color='red'>\n",
    "Что ещё лучше сделать в этой работе:<br>\n",
    "1) Лучше попробовать ещё ordinal_категоризацию и сравнить результат с текущим подходом.<br>\n",
    "2) Очень здорово будет, если найдёшь возможность сделать график важности факторов. Это необходимая вещь для финалной части любой модельной работы.<br>\n",
    "<font color='green'>    \n",
    "<br>\n",
    "Спасибо) БУДУ ЖДАТЬ КОММЕНТАРИЕВ!"
   ]
  },
  {
   "cell_type": "markdown",
   "metadata": {},
   "source": [
    "## Чек-лист проверки"
   ]
  },
  {
   "cell_type": "markdown",
   "metadata": {},
   "source": [
    "Поставьте 'x' в выполненных пунктах. Далее нажмите Shift+Enter."
   ]
  },
  {
   "cell_type": "markdown",
   "metadata": {},
   "source": [
    "- [x]  Jupyter Notebook открыт\n",
    "- [x]  Весь код выполняется без ошибок\n",
    "- [x]  Ячейки с кодом расположены в порядке исполнения\n",
    "- [x]  Выполнена загрузка и подготовка данных\n",
    "- [x]  Выполнено обучение моделей\n",
    "- [x]  Есть анализ скорости работы и качества моделей"
   ]
  },
  {
   "cell_type": "code",
   "execution_count": null,
   "metadata": {},
   "outputs": [],
   "source": []
  }
 ],
 "metadata": {
  "ExecuteTimeLog": [
   {
    "duration": 754,
    "start_time": "2021-08-20T10:56:13.284Z"
   },
   {
    "duration": 1112,
    "start_time": "2021-08-20T10:56:43.564Z"
   },
   {
    "duration": 30,
    "start_time": "2021-08-20T10:56:50.625Z"
   },
   {
    "duration": 154,
    "start_time": "2021-08-20T10:57:45.855Z"
   },
   {
    "duration": 401,
    "start_time": "2021-08-20T11:01:01.571Z"
   },
   {
    "duration": 439,
    "start_time": "2021-08-20T11:01:14.242Z"
   },
   {
    "duration": 351,
    "start_time": "2021-08-20T11:01:28.672Z"
   },
   {
    "duration": 98,
    "start_time": "2021-08-20T11:01:37.082Z"
   },
   {
    "duration": 279,
    "start_time": "2021-08-20T11:01:42.652Z"
   },
   {
    "duration": 1413,
    "start_time": "2021-08-20T11:05:33.841Z"
   },
   {
    "duration": 330,
    "start_time": "2021-08-20T11:05:41.261Z"
   },
   {
    "duration": 27,
    "start_time": "2021-08-20T11:05:46.140Z"
   },
   {
    "duration": 359,
    "start_time": "2021-08-20T11:07:34.434Z"
   },
   {
    "duration": 8026,
    "start_time": "2021-08-20T11:07:47.213Z"
   },
   {
    "duration": 7557,
    "start_time": "2021-08-20T11:08:05.171Z"
   },
   {
    "duration": 32,
    "start_time": "2021-08-20T11:09:00.588Z"
   },
   {
    "duration": 8644,
    "start_time": "2021-08-20T11:09:20.359Z"
   },
   {
    "duration": 475,
    "start_time": "2021-08-20T11:09:34.350Z"
   },
   {
    "duration": 108,
    "start_time": "2021-08-20T11:09:40.260Z"
   },
   {
    "duration": 135,
    "start_time": "2021-08-20T11:09:44.160Z"
   },
   {
    "duration": 32,
    "start_time": "2021-08-20T11:09:53.693Z"
   },
   {
    "duration": 4,
    "start_time": "2021-08-20T11:09:59.738Z"
   },
   {
    "duration": 1113,
    "start_time": "2021-08-20T11:09:59.744Z"
   },
   {
    "duration": 29,
    "start_time": "2021-08-20T11:10:00.860Z"
   },
   {
    "duration": 169,
    "start_time": "2021-08-20T11:10:00.891Z"
   },
   {
    "duration": 39,
    "start_time": "2021-08-20T11:10:01.063Z"
   },
   {
    "duration": 70,
    "start_time": "2021-08-20T11:10:22.998Z"
   },
   {
    "duration": 33,
    "start_time": "2021-08-20T11:10:36.280Z"
   },
   {
    "duration": 651,
    "start_time": "2021-08-20T11:10:49.931Z"
   },
   {
    "duration": 33,
    "start_time": "2021-08-20T11:11:18.273Z"
   },
   {
    "duration": 33,
    "start_time": "2021-08-20T11:11:24.435Z"
   },
   {
    "duration": 32,
    "start_time": "2021-08-20T11:11:38.926Z"
   },
   {
    "duration": 33,
    "start_time": "2021-08-20T11:11:56.340Z"
   },
   {
    "duration": 33,
    "start_time": "2021-08-20T11:12:43.041Z"
   },
   {
    "duration": 32,
    "start_time": "2021-08-20T11:12:46.862Z"
   },
   {
    "duration": 296,
    "start_time": "2021-08-20T11:12:56.258Z"
   },
   {
    "duration": 8198,
    "start_time": "2021-08-20T11:12:59.743Z"
   },
   {
    "duration": 6,
    "start_time": "2021-08-20T11:16:10.670Z"
   },
   {
    "duration": 21,
    "start_time": "2021-08-20T11:16:20.453Z"
   },
   {
    "duration": 322,
    "start_time": "2021-08-20T11:17:19.168Z"
   },
   {
    "duration": 44,
    "start_time": "2021-08-20T11:17:24.211Z"
   },
   {
    "duration": 105,
    "start_time": "2021-08-20T11:18:22.248Z"
   },
   {
    "duration": 100,
    "start_time": "2021-08-20T11:18:30.475Z"
   },
   {
    "duration": 313,
    "start_time": "2021-08-20T11:18:33.647Z"
   },
   {
    "duration": 103,
    "start_time": "2021-08-20T11:18:39.318Z"
   },
   {
    "duration": 340,
    "start_time": "2021-08-20T11:18:48.348Z"
   },
   {
    "duration": 37,
    "start_time": "2021-08-20T11:18:54.519Z"
   },
   {
    "duration": 24,
    "start_time": "2021-08-20T11:23:26.657Z"
   },
   {
    "duration": 20,
    "start_time": "2021-08-20T11:25:05.038Z"
   },
   {
    "duration": 16,
    "start_time": "2021-08-20T11:25:19.666Z"
   },
   {
    "duration": 4,
    "start_time": "2021-08-20T11:25:36.759Z"
   },
   {
    "duration": 1827,
    "start_time": "2021-08-20T11:25:36.767Z"
   },
   {
    "duration": 22,
    "start_time": "2021-08-20T11:25:38.597Z"
   },
   {
    "duration": 256,
    "start_time": "2021-08-20T11:25:38.621Z"
   },
   {
    "duration": 28,
    "start_time": "2021-08-20T11:25:38.880Z"
   },
   {
    "duration": 314,
    "start_time": "2021-08-20T11:26:15.517Z"
   },
   {
    "duration": 119,
    "start_time": "2021-08-20T11:26:42.689Z"
   },
   {
    "duration": 382,
    "start_time": "2021-08-20T11:26:50.797Z"
   },
   {
    "duration": 137,
    "start_time": "2021-08-20T11:27:23.992Z"
   },
   {
    "duration": 209,
    "start_time": "2021-08-20T11:28:08.128Z"
   },
   {
    "duration": 1017,
    "start_time": "2021-08-20T11:28:34.597Z"
   },
   {
    "duration": 170,
    "start_time": "2021-08-20T11:28:37.339Z"
   },
   {
    "duration": 7,
    "start_time": "2021-08-20T11:30:01.229Z"
   },
   {
    "duration": 349,
    "start_time": "2021-08-20T11:30:45.500Z"
   },
   {
    "duration": 25,
    "start_time": "2021-08-20T11:30:49.070Z"
   },
   {
    "duration": 58,
    "start_time": "2021-08-20T11:30:56.079Z"
   },
   {
    "duration": 25,
    "start_time": "2021-08-20T11:31:17.433Z"
   },
   {
    "duration": 33,
    "start_time": "2021-08-20T11:31:20.210Z"
   },
   {
    "duration": 37,
    "start_time": "2021-08-20T11:31:24.777Z"
   },
   {
    "duration": 102,
    "start_time": "2021-08-20T11:31:35.947Z"
   },
   {
    "duration": 129,
    "start_time": "2021-08-20T11:31:41.155Z"
   },
   {
    "duration": 118,
    "start_time": "2021-08-20T11:31:44.087Z"
   },
   {
    "duration": 24,
    "start_time": "2021-08-20T11:31:49.869Z"
   },
   {
    "duration": 34,
    "start_time": "2021-08-20T11:32:00.287Z"
   },
   {
    "duration": 350,
    "start_time": "2021-08-20T11:32:12.810Z"
   },
   {
    "duration": 96,
    "start_time": "2021-08-20T11:32:21.510Z"
   },
   {
    "duration": 32,
    "start_time": "2021-08-20T11:32:25.010Z"
   },
   {
    "duration": 30,
    "start_time": "2021-08-20T11:41:55.402Z"
   },
   {
    "duration": 704,
    "start_time": "2021-08-20T11:43:57.052Z"
   },
   {
    "duration": 581,
    "start_time": "2021-08-20T11:44:14.184Z"
   },
   {
    "duration": 630,
    "start_time": "2021-08-20T11:44:37.897Z"
   },
   {
    "duration": 395,
    "start_time": "2021-08-20T11:44:42.246Z"
   },
   {
    "duration": 236,
    "start_time": "2021-08-20T11:47:10.744Z"
   },
   {
    "duration": 249,
    "start_time": "2021-08-20T11:47:16.753Z"
   },
   {
    "duration": 613,
    "start_time": "2021-08-20T11:47:58.702Z"
   },
   {
    "duration": 641,
    "start_time": "2021-08-20T11:48:23.544Z"
   },
   {
    "duration": 632,
    "start_time": "2021-08-20T11:48:33.574Z"
   },
   {
    "duration": 826,
    "start_time": "2021-08-20T11:48:34.564Z"
   },
   {
    "duration": 35,
    "start_time": "2021-08-20T11:51:37.060Z"
   },
   {
    "duration": 18,
    "start_time": "2021-08-20T11:54:19.664Z"
   },
   {
    "duration": 332,
    "start_time": "2021-08-20T11:54:28.874Z"
   },
   {
    "duration": 323,
    "start_time": "2021-08-20T11:54:41.084Z"
   },
   {
    "duration": 32,
    "start_time": "2021-08-20T11:57:21.303Z"
   },
   {
    "duration": 31,
    "start_time": "2021-08-20T11:57:41.691Z"
   },
   {
    "duration": 24,
    "start_time": "2021-08-20T11:57:56.195Z"
   },
   {
    "duration": 318,
    "start_time": "2021-08-20T11:58:04.406Z"
   },
   {
    "duration": 334,
    "start_time": "2021-08-20T11:58:09.225Z"
   },
   {
    "duration": 310,
    "start_time": "2021-08-20T11:58:12.480Z"
   },
   {
    "duration": 1508,
    "start_time": "2021-08-23T06:19:49.744Z"
   },
   {
    "duration": 1174,
    "start_time": "2021-08-23T06:19:51.256Z"
   },
   {
    "duration": 43,
    "start_time": "2021-08-23T06:19:52.433Z"
   },
   {
    "duration": 166,
    "start_time": "2021-08-23T06:19:52.479Z"
   },
   {
    "duration": 38,
    "start_time": "2021-08-23T06:19:52.647Z"
   },
   {
    "duration": 687,
    "start_time": "2021-08-23T06:19:52.687Z"
   },
   {
    "duration": 834,
    "start_time": "2021-08-23T06:19:53.377Z"
   },
   {
    "duration": 17,
    "start_time": "2021-08-23T06:20:10.547Z"
   },
   {
    "duration": 3,
    "start_time": "2021-08-23T06:20:25.374Z"
   },
   {
    "duration": 1203,
    "start_time": "2021-08-23T06:20:25.380Z"
   },
   {
    "duration": 20,
    "start_time": "2021-08-23T06:20:26.587Z"
   },
   {
    "duration": 186,
    "start_time": "2021-08-23T06:20:26.610Z"
   },
   {
    "duration": 15,
    "start_time": "2021-08-23T06:20:26.799Z"
   },
   {
    "duration": 661,
    "start_time": "2021-08-23T06:20:26.816Z"
   },
   {
    "duration": 794,
    "start_time": "2021-08-23T06:20:27.481Z"
   },
   {
    "duration": 7,
    "start_time": "2021-08-23T06:21:38.254Z"
   },
   {
    "duration": 27,
    "start_time": "2021-08-23T06:22:58.074Z"
   },
   {
    "duration": 7,
    "start_time": "2021-08-23T06:22:59.732Z"
   },
   {
    "duration": 20,
    "start_time": "2021-08-23T06:23:29.981Z"
   },
   {
    "duration": 7,
    "start_time": "2021-08-23T06:23:44.903Z"
   },
   {
    "duration": 537,
    "start_time": "2021-08-23T06:24:34.808Z"
   },
   {
    "duration": 61,
    "start_time": "2021-08-23T06:24:39.703Z"
   },
   {
    "duration": 31,
    "start_time": "2021-08-23T06:25:37.722Z"
   },
   {
    "duration": 32,
    "start_time": "2021-08-23T06:25:41.115Z"
   },
   {
    "duration": 77,
    "start_time": "2021-08-23T06:26:05.554Z"
   },
   {
    "duration": 4,
    "start_time": "2021-08-23T06:29:56.785Z"
   },
   {
    "duration": 1265,
    "start_time": "2021-08-23T06:29:56.793Z"
   },
   {
    "duration": 30,
    "start_time": "2021-08-23T06:29:58.064Z"
   },
   {
    "duration": 192,
    "start_time": "2021-08-23T06:29:58.097Z"
   },
   {
    "duration": 29,
    "start_time": "2021-08-23T06:29:58.291Z"
   },
   {
    "duration": 66,
    "start_time": "2021-08-23T06:29:58.322Z"
   },
   {
    "duration": 852,
    "start_time": "2021-08-23T06:29:58.391Z"
   },
   {
    "duration": 1037,
    "start_time": "2021-08-23T06:29:59.246Z"
   },
   {
    "duration": 96,
    "start_time": "2021-08-23T06:30:13.915Z"
   },
   {
    "duration": 365,
    "start_time": "2021-08-23T06:30:35.562Z"
   },
   {
    "duration": 637,
    "start_time": "2021-08-23T06:30:45.364Z"
   },
   {
    "duration": 22,
    "start_time": "2021-08-23T06:30:47.784Z"
   },
   {
    "duration": 5,
    "start_time": "2021-08-23T07:35:23.034Z"
   },
   {
    "duration": 1353,
    "start_time": "2021-08-23T07:35:23.041Z"
   },
   {
    "duration": 27,
    "start_time": "2021-08-23T07:35:24.399Z"
   },
   {
    "duration": 266,
    "start_time": "2021-08-23T07:35:24.429Z"
   },
   {
    "duration": 411,
    "start_time": "2021-08-23T07:35:24.698Z"
   },
   {
    "duration": 792,
    "start_time": "2021-08-23T07:35:25.112Z"
   },
   {
    "duration": 1058,
    "start_time": "2021-08-23T07:35:25.907Z"
   },
   {
    "duration": 5157,
    "start_time": "2021-08-23T07:36:43.871Z"
   },
   {
    "duration": 375,
    "start_time": "2021-08-23T07:36:51.330Z"
   },
   {
    "duration": 9,
    "start_time": "2021-08-23T07:36:54.288Z"
   },
   {
    "duration": 17,
    "start_time": "2021-08-23T07:37:10.549Z"
   },
   {
    "duration": 24,
    "start_time": "2021-08-23T07:37:37.231Z"
   },
   {
    "duration": 123,
    "start_time": "2021-08-23T07:37:42.210Z"
   },
   {
    "duration": 22,
    "start_time": "2021-08-23T07:38:22.500Z"
   },
   {
    "duration": 447,
    "start_time": "2021-08-23T07:38:37.447Z"
   },
   {
    "duration": 54,
    "start_time": "2021-08-23T07:39:41.240Z"
   },
   {
    "duration": 4,
    "start_time": "2021-08-23T09:08:35.144Z"
   },
   {
    "duration": 1415,
    "start_time": "2021-08-23T09:08:35.156Z"
   },
   {
    "duration": 26,
    "start_time": "2021-08-23T09:08:36.574Z"
   },
   {
    "duration": 176,
    "start_time": "2021-08-23T09:08:36.604Z"
   },
   {
    "duration": 376,
    "start_time": "2021-08-23T09:08:36.784Z"
   },
   {
    "duration": 616,
    "start_time": "2021-08-23T09:08:37.163Z"
   },
   {
    "duration": 755,
    "start_time": "2021-08-23T09:08:37.782Z"
   },
   {
    "duration": 33,
    "start_time": "2021-08-23T09:08:38.540Z"
   },
   {
    "duration": 64,
    "start_time": "2021-08-23T09:08:38.577Z"
   },
   {
    "duration": 414,
    "start_time": "2021-08-23T09:08:38.664Z"
   },
   {
    "duration": 316,
    "start_time": "2021-08-23T09:09:09.824Z"
   },
   {
    "duration": 1480,
    "start_time": "2021-08-24T06:20:33.448Z"
   },
   {
    "duration": 1138,
    "start_time": "2021-08-24T06:20:34.930Z"
   },
   {
    "duration": 27,
    "start_time": "2021-08-24T06:20:36.071Z"
   },
   {
    "duration": 163,
    "start_time": "2021-08-24T06:20:36.101Z"
   },
   {
    "duration": 342,
    "start_time": "2021-08-24T06:20:36.268Z"
   },
   {
    "duration": 521,
    "start_time": "2021-08-24T06:20:36.613Z"
   },
   {
    "duration": 667,
    "start_time": "2021-08-24T06:20:37.137Z"
   },
   {
    "duration": 21,
    "start_time": "2021-08-24T06:20:37.807Z"
   },
   {
    "duration": 74,
    "start_time": "2021-08-24T06:20:37.832Z"
   },
   {
    "duration": 287,
    "start_time": "2021-08-24T06:20:37.908Z"
   },
   {
    "duration": 6,
    "start_time": "2021-08-24T06:21:50.463Z"
   },
   {
    "duration": 5,
    "start_time": "2021-08-24T06:22:23.907Z"
   },
   {
    "duration": 4,
    "start_time": "2021-08-24T06:29:59.807Z"
   },
   {
    "duration": 661,
    "start_time": "2021-08-24T06:30:04.759Z"
   },
   {
    "duration": 119,
    "start_time": "2021-08-24T06:39:43.570Z"
   },
   {
    "duration": 56,
    "start_time": "2021-08-24T06:40:34.559Z"
   },
   {
    "duration": 48,
    "start_time": "2021-08-24T06:40:58.419Z"
   },
   {
    "duration": 51,
    "start_time": "2021-08-24T06:42:09.256Z"
   },
   {
    "duration": 84,
    "start_time": "2021-08-24T06:44:20.417Z"
   },
   {
    "duration": 41,
    "start_time": "2021-08-24T06:44:29.525Z"
   },
   {
    "duration": 172,
    "start_time": "2021-08-24T06:44:48.673Z"
   },
   {
    "duration": 11,
    "start_time": "2021-08-24T06:44:53.615Z"
   },
   {
    "duration": 87,
    "start_time": "2021-08-24T06:44:55.455Z"
   },
   {
    "duration": 5,
    "start_time": "2021-08-24T06:44:56.863Z"
   },
   {
    "duration": 396,
    "start_time": "2021-08-24T06:44:59.767Z"
   },
   {
    "duration": 82,
    "start_time": "2021-08-24T06:46:06.316Z"
   },
   {
    "duration": 5,
    "start_time": "2021-08-24T06:46:08.566Z"
   },
   {
    "duration": 11198,
    "start_time": "2021-08-24T06:46:11.167Z"
   },
   {
    "duration": 5522,
    "start_time": "2021-08-24T06:47:08.767Z"
   },
   {
    "duration": 4335,
    "start_time": "2021-08-24T06:50:16.758Z"
   },
   {
    "duration": 4568,
    "start_time": "2021-08-24T06:50:40.316Z"
   },
   {
    "duration": 113,
    "start_time": "2021-08-24T06:58:27.117Z"
   },
   {
    "duration": 1008,
    "start_time": "2021-08-24T07:19:08.009Z"
   },
   {
    "duration": 4,
    "start_time": "2021-08-24T07:19:20.947Z"
   },
   {
    "duration": 951,
    "start_time": "2021-08-24T07:19:20.962Z"
   },
   {
    "duration": 75,
    "start_time": "2021-08-24T07:19:21.915Z"
   },
   {
    "duration": 157,
    "start_time": "2021-08-24T07:19:21.993Z"
   },
   {
    "duration": 262,
    "start_time": "2021-08-24T07:19:22.154Z"
   },
   {
    "duration": 480,
    "start_time": "2021-08-24T07:19:22.418Z"
   },
   {
    "duration": 614,
    "start_time": "2021-08-24T07:19:22.901Z"
   },
   {
    "duration": 17,
    "start_time": "2021-08-24T07:19:23.517Z"
   },
   {
    "duration": 77,
    "start_time": "2021-08-24T07:19:23.536Z"
   },
   {
    "duration": 307,
    "start_time": "2021-08-24T07:19:23.616Z"
   },
   {
    "duration": 182,
    "start_time": "2021-08-24T07:19:23.926Z"
   },
   {
    "duration": 123,
    "start_time": "2021-08-24T07:19:24.111Z"
   },
   {
    "duration": 388,
    "start_time": "2021-08-24T07:19:24.236Z"
   },
   {
    "duration": 84,
    "start_time": "2021-08-24T07:19:24.627Z"
   },
   {
    "duration": 5,
    "start_time": "2021-08-24T07:19:24.713Z"
   },
   {
    "duration": 6363,
    "start_time": "2021-08-24T07:19:24.721Z"
   },
   {
    "duration": 444,
    "start_time": "2021-08-24T07:19:35.327Z"
   },
   {
    "duration": 54,
    "start_time": "2021-08-24T07:20:06.417Z"
   },
   {
    "duration": 301,
    "start_time": "2021-08-24T07:21:02.757Z"
   },
   {
    "duration": 414,
    "start_time": "2021-08-24T07:22:52.350Z"
   },
   {
    "duration": 456,
    "start_time": "2021-08-24T07:23:02.907Z"
   },
   {
    "duration": 14,
    "start_time": "2021-08-24T07:23:30.267Z"
   },
   {
    "duration": 14,
    "start_time": "2021-08-24T07:23:36.317Z"
   },
   {
    "duration": 13,
    "start_time": "2021-08-24T07:25:04.528Z"
   },
   {
    "duration": 13,
    "start_time": "2021-08-24T07:25:09.716Z"
   },
   {
    "duration": 13,
    "start_time": "2021-08-24T07:25:15.767Z"
   },
   {
    "duration": 684,
    "start_time": "2021-08-24T07:27:31.884Z"
   },
   {
    "duration": 51,
    "start_time": "2021-08-24T07:30:38.798Z"
   },
   {
    "duration": 73,
    "start_time": "2021-08-24T07:32:05.902Z"
   },
   {
    "duration": 33,
    "start_time": "2021-08-24T07:32:23.226Z"
   },
   {
    "duration": 13,
    "start_time": "2021-08-24T07:32:36.865Z"
   },
   {
    "duration": 13,
    "start_time": "2021-08-24T07:32:48.925Z"
   },
   {
    "duration": 15,
    "start_time": "2021-08-24T07:32:58.365Z"
   },
   {
    "duration": 32,
    "start_time": "2021-08-24T07:33:17.825Z"
   },
   {
    "duration": 33,
    "start_time": "2021-08-24T07:34:56.482Z"
   },
   {
    "duration": 36,
    "start_time": "2021-08-24T07:35:01.125Z"
   },
   {
    "duration": 13,
    "start_time": "2021-08-24T07:35:04.625Z"
   },
   {
    "duration": 34,
    "start_time": "2021-08-24T07:35:12.522Z"
   },
   {
    "duration": 33,
    "start_time": "2021-08-24T07:35:15.435Z"
   },
   {
    "duration": 32,
    "start_time": "2021-08-24T07:35:20.825Z"
   },
   {
    "duration": 31,
    "start_time": "2021-08-24T07:45:57.556Z"
   },
   {
    "duration": 34,
    "start_time": "2021-08-24T07:46:54.988Z"
   },
   {
    "duration": 36,
    "start_time": "2021-08-24T07:47:01.438Z"
   },
   {
    "duration": 433,
    "start_time": "2021-08-24T07:47:48.738Z"
   },
   {
    "duration": 435,
    "start_time": "2021-08-24T07:48:24.695Z"
   },
   {
    "duration": 425,
    "start_time": "2021-08-24T07:48:28.490Z"
   },
   {
    "duration": 296,
    "start_time": "2021-08-24T07:48:39.439Z"
   },
   {
    "duration": 439,
    "start_time": "2021-08-24T07:48:45.179Z"
   },
   {
    "duration": 410,
    "start_time": "2021-08-24T07:48:51.050Z"
   },
   {
    "duration": 443,
    "start_time": "2021-08-24T07:48:59.546Z"
   },
   {
    "duration": 421,
    "start_time": "2021-08-24T07:49:28.949Z"
   },
   {
    "duration": 402,
    "start_time": "2021-08-24T07:49:43.600Z"
   },
   {
    "duration": 530,
    "start_time": "2021-08-24T07:49:47.916Z"
   },
   {
    "duration": 31,
    "start_time": "2021-08-24T07:50:01.388Z"
   },
   {
    "duration": 350,
    "start_time": "2021-08-24T07:50:33.097Z"
   },
   {
    "duration": 230,
    "start_time": "2021-08-24T07:52:12.105Z"
   },
   {
    "duration": 233,
    "start_time": "2021-08-24T07:52:26.788Z"
   },
   {
    "duration": 30,
    "start_time": "2021-08-24T07:53:09.199Z"
   },
   {
    "duration": 269,
    "start_time": "2021-08-24T07:53:36.567Z"
   },
   {
    "duration": 223,
    "start_time": "2021-08-24T07:55:00.553Z"
   },
   {
    "duration": 218,
    "start_time": "2021-08-24T07:55:17.625Z"
   },
   {
    "duration": 228,
    "start_time": "2021-08-24T07:55:26.705Z"
   },
   {
    "duration": 216,
    "start_time": "2021-08-24T07:55:35.165Z"
   },
   {
    "duration": 228,
    "start_time": "2021-08-24T07:55:44.211Z"
   },
   {
    "duration": 71,
    "start_time": "2021-08-24T08:18:16.567Z"
   },
   {
    "duration": 17,
    "start_time": "2021-08-24T08:18:42.768Z"
   },
   {
    "duration": 121,
    "start_time": "2021-08-24T08:19:52.847Z"
   },
   {
    "duration": 18,
    "start_time": "2021-08-24T08:19:59.706Z"
   },
   {
    "duration": 17,
    "start_time": "2021-08-24T08:20:21.255Z"
   },
   {
    "duration": 22,
    "start_time": "2021-08-24T08:24:32.440Z"
   },
   {
    "duration": 4,
    "start_time": "2021-08-24T08:24:38.860Z"
   },
   {
    "duration": 949,
    "start_time": "2021-08-24T08:24:38.867Z"
   },
   {
    "duration": 18,
    "start_time": "2021-08-24T08:24:39.819Z"
   },
   {
    "duration": 162,
    "start_time": "2021-08-24T08:24:39.840Z"
   },
   {
    "duration": 154,
    "start_time": "2021-08-24T08:24:40.004Z"
   },
   {
    "duration": 304,
    "start_time": "2021-08-24T08:24:40.161Z"
   },
   {
    "duration": 497,
    "start_time": "2021-08-24T08:24:40.468Z"
   },
   {
    "duration": 642,
    "start_time": "2021-08-24T08:24:40.968Z"
   },
   {
    "duration": 17,
    "start_time": "2021-08-24T08:24:41.614Z"
   },
   {
    "duration": 87,
    "start_time": "2021-08-24T08:24:41.634Z"
   },
   {
    "duration": 328,
    "start_time": "2021-08-24T08:24:41.723Z"
   },
   {
    "duration": 183,
    "start_time": "2021-08-24T08:24:42.054Z"
   },
   {
    "duration": 109,
    "start_time": "2021-08-24T08:24:42.240Z"
   },
   {
    "duration": 286,
    "start_time": "2021-08-24T08:24:42.352Z"
   },
   {
    "duration": 344,
    "start_time": "2021-08-24T08:24:42.640Z"
   },
   {
    "duration": 243,
    "start_time": "2021-08-24T08:24:42.987Z"
   },
   {
    "duration": 17,
    "start_time": "2021-08-24T08:24:43.232Z"
   },
   {
    "duration": 33,
    "start_time": "2021-08-24T08:24:43.251Z"
   },
   {
    "duration": 33,
    "start_time": "2021-08-24T08:24:43.286Z"
   },
   {
    "duration": 32,
    "start_time": "2021-08-24T08:24:43.321Z"
   },
   {
    "duration": 72,
    "start_time": "2021-08-24T08:24:43.383Z"
   },
   {
    "duration": 5,
    "start_time": "2021-08-24T08:24:43.457Z"
   },
   {
    "duration": 6427,
    "start_time": "2021-08-24T08:24:43.464Z"
   },
   {
    "duration": 4,
    "start_time": "2021-08-24T08:26:31.818Z"
   },
   {
    "duration": 962,
    "start_time": "2021-08-24T08:26:31.825Z"
   },
   {
    "duration": 19,
    "start_time": "2021-08-24T08:26:32.791Z"
   },
   {
    "duration": 161,
    "start_time": "2021-08-24T08:26:32.813Z"
   },
   {
    "duration": 153,
    "start_time": "2021-08-24T08:26:32.977Z"
   },
   {
    "duration": 299,
    "start_time": "2021-08-24T08:26:33.132Z"
   },
   {
    "duration": 495,
    "start_time": "2021-08-24T08:26:33.433Z"
   },
   {
    "duration": 638,
    "start_time": "2021-08-24T08:26:33.932Z"
   },
   {
    "duration": 20,
    "start_time": "2021-08-24T08:26:34.573Z"
   },
   {
    "duration": 60,
    "start_time": "2021-08-24T08:26:34.595Z"
   },
   {
    "duration": 325,
    "start_time": "2021-08-24T08:26:34.657Z"
   },
   {
    "duration": 218,
    "start_time": "2021-08-24T08:26:34.984Z"
   },
   {
    "duration": 113,
    "start_time": "2021-08-24T08:26:35.204Z"
   },
   {
    "duration": 277,
    "start_time": "2021-08-24T08:26:35.319Z"
   },
   {
    "duration": 345,
    "start_time": "2021-08-24T08:26:35.598Z"
   },
   {
    "duration": 250,
    "start_time": "2021-08-24T08:26:35.945Z"
   },
   {
    "duration": 16,
    "start_time": "2021-08-24T08:26:36.197Z"
   },
   {
    "duration": 19,
    "start_time": "2021-08-24T08:26:36.215Z"
   },
   {
    "duration": 58,
    "start_time": "2021-08-24T08:26:36.237Z"
   },
   {
    "duration": 31,
    "start_time": "2021-08-24T08:26:36.297Z"
   },
   {
    "duration": 96,
    "start_time": "2021-08-24T08:26:36.331Z"
   },
   {
    "duration": 6,
    "start_time": "2021-08-24T08:26:36.429Z"
   },
   {
    "duration": 5045,
    "start_time": "2021-08-24T08:26:36.439Z"
   },
   {
    "duration": 4,
    "start_time": "2021-08-24T08:26:43.951Z"
   },
   {
    "duration": 939,
    "start_time": "2021-08-24T08:26:43.961Z"
   },
   {
    "duration": 19,
    "start_time": "2021-08-24T08:26:44.903Z"
   },
   {
    "duration": 168,
    "start_time": "2021-08-24T08:26:44.925Z"
   },
   {
    "duration": 145,
    "start_time": "2021-08-24T08:26:45.096Z"
   },
   {
    "duration": 346,
    "start_time": "2021-08-24T08:26:45.243Z"
   },
   {
    "duration": 525,
    "start_time": "2021-08-24T08:26:45.591Z"
   },
   {
    "duration": 612,
    "start_time": "2021-08-24T08:26:46.118Z"
   },
   {
    "duration": 18,
    "start_time": "2021-08-24T08:26:46.735Z"
   },
   {
    "duration": 79,
    "start_time": "2021-08-24T08:26:46.757Z"
   },
   {
    "duration": 314,
    "start_time": "2021-08-24T08:26:46.839Z"
   },
   {
    "duration": 218,
    "start_time": "2021-08-24T08:26:47.155Z"
   },
   {
    "duration": 114,
    "start_time": "2021-08-24T08:26:47.375Z"
   },
   {
    "duration": 278,
    "start_time": "2021-08-24T08:26:47.492Z"
   },
   {
    "duration": 246,
    "start_time": "2021-08-24T08:26:47.772Z"
   },
   {
    "duration": 243,
    "start_time": "2021-08-24T08:26:48.020Z"
   },
   {
    "duration": 25,
    "start_time": "2021-08-24T08:26:48.265Z"
   },
   {
    "duration": 13,
    "start_time": "2021-08-24T08:26:48.292Z"
   },
   {
    "duration": 33,
    "start_time": "2021-08-24T08:26:48.307Z"
   },
   {
    "duration": 61,
    "start_time": "2021-08-24T08:26:48.342Z"
   },
   {
    "duration": 78,
    "start_time": "2021-08-24T08:26:48.406Z"
   },
   {
    "duration": 5,
    "start_time": "2021-08-24T08:26:48.487Z"
   },
   {
    "duration": 4698,
    "start_time": "2021-08-24T08:26:48.494Z"
   },
   {
    "duration": 512,
    "start_time": "2021-08-24T08:27:08.607Z"
   },
   {
    "duration": 4,
    "start_time": "2021-08-24T08:27:21.929Z"
   },
   {
    "duration": 932,
    "start_time": "2021-08-24T08:27:21.941Z"
   },
   {
    "duration": 24,
    "start_time": "2021-08-24T08:27:22.876Z"
   },
   {
    "duration": 168,
    "start_time": "2021-08-24T08:27:22.904Z"
   },
   {
    "duration": 156,
    "start_time": "2021-08-24T08:27:23.075Z"
   },
   {
    "duration": 304,
    "start_time": "2021-08-24T08:27:23.234Z"
   },
   {
    "duration": 561,
    "start_time": "2021-08-24T08:27:23.540Z"
   },
   {
    "duration": 756,
    "start_time": "2021-08-24T08:27:24.104Z"
   },
   {
    "duration": 23,
    "start_time": "2021-08-24T08:27:24.863Z"
   },
   {
    "duration": 60,
    "start_time": "2021-08-24T08:27:24.891Z"
   },
   {
    "duration": 341,
    "start_time": "2021-08-24T08:27:24.954Z"
   },
   {
    "duration": 221,
    "start_time": "2021-08-24T08:27:25.298Z"
   },
   {
    "duration": 112,
    "start_time": "2021-08-24T08:27:25.522Z"
   },
   {
    "duration": 283,
    "start_time": "2021-08-24T08:27:25.637Z"
   },
   {
    "duration": 278,
    "start_time": "2021-08-24T08:27:25.922Z"
   },
   {
    "duration": 263,
    "start_time": "2021-08-24T08:27:26.202Z"
   },
   {
    "duration": 23,
    "start_time": "2021-08-24T08:27:26.467Z"
   },
   {
    "duration": 20,
    "start_time": "2021-08-24T08:27:26.492Z"
   },
   {
    "duration": 33,
    "start_time": "2021-08-24T08:27:26.514Z"
   },
   {
    "duration": 59,
    "start_time": "2021-08-24T08:27:26.550Z"
   },
   {
    "duration": 85,
    "start_time": "2021-08-24T08:27:26.611Z"
   },
   {
    "duration": 5,
    "start_time": "2021-08-24T08:27:26.699Z"
   },
   {
    "duration": 7292,
    "start_time": "2021-08-24T08:27:26.707Z"
   },
   {
    "duration": 4,
    "start_time": "2021-08-24T08:27:41.431Z"
   },
   {
    "duration": 940,
    "start_time": "2021-08-24T08:27:41.438Z"
   },
   {
    "duration": 20,
    "start_time": "2021-08-24T08:27:42.380Z"
   },
   {
    "duration": 167,
    "start_time": "2021-08-24T08:27:42.402Z"
   },
   {
    "duration": 161,
    "start_time": "2021-08-24T08:27:42.571Z"
   },
   {
    "duration": 330,
    "start_time": "2021-08-24T08:27:42.734Z"
   },
   {
    "duration": 533,
    "start_time": "2021-08-24T08:27:43.067Z"
   },
   {
    "duration": 622,
    "start_time": "2021-08-24T08:27:43.603Z"
   },
   {
    "duration": 400,
    "start_time": "2021-08-24T08:27:44.228Z"
   },
   {
    "duration": 1057,
    "start_time": "2021-08-24T08:27:43.574Z"
   },
   {
    "duration": 1054,
    "start_time": "2021-08-24T08:27:43.579Z"
   },
   {
    "duration": 1051,
    "start_time": "2021-08-24T08:27:43.584Z"
   },
   {
    "duration": 1049,
    "start_time": "2021-08-24T08:27:43.588Z"
   },
   {
    "duration": 1049,
    "start_time": "2021-08-24T08:27:43.591Z"
   },
   {
    "duration": 1048,
    "start_time": "2021-08-24T08:27:43.594Z"
   },
   {
    "duration": 1017,
    "start_time": "2021-08-24T08:27:43.627Z"
   },
   {
    "duration": 1016,
    "start_time": "2021-08-24T08:27:43.630Z"
   },
   {
    "duration": 1015,
    "start_time": "2021-08-24T08:27:43.633Z"
   },
   {
    "duration": 1013,
    "start_time": "2021-08-24T08:27:43.637Z"
   },
   {
    "duration": 1010,
    "start_time": "2021-08-24T08:27:43.643Z"
   },
   {
    "duration": 1009,
    "start_time": "2021-08-24T08:27:43.646Z"
   },
   {
    "duration": 1009,
    "start_time": "2021-08-24T08:27:43.648Z"
   },
   {
    "duration": 1007,
    "start_time": "2021-08-24T08:27:43.652Z"
   },
   {
    "duration": 4,
    "start_time": "2021-08-24T08:27:50.526Z"
   },
   {
    "duration": 958,
    "start_time": "2021-08-24T08:27:50.534Z"
   },
   {
    "duration": 21,
    "start_time": "2021-08-24T08:27:51.495Z"
   },
   {
    "duration": 172,
    "start_time": "2021-08-24T08:27:51.520Z"
   },
   {
    "duration": 160,
    "start_time": "2021-08-24T08:27:51.695Z"
   },
   {
    "duration": 321,
    "start_time": "2021-08-24T08:27:51.858Z"
   },
   {
    "duration": 516,
    "start_time": "2021-08-24T08:27:52.183Z"
   },
   {
    "duration": 616,
    "start_time": "2021-08-24T08:27:52.703Z"
   },
   {
    "duration": 340,
    "start_time": "2021-08-24T08:27:53.322Z"
   },
   {
    "duration": 1065,
    "start_time": "2021-08-24T08:27:52.600Z"
   },
   {
    "duration": 1061,
    "start_time": "2021-08-24T08:27:52.606Z"
   },
   {
    "duration": 1022,
    "start_time": "2021-08-24T08:27:52.647Z"
   },
   {
    "duration": 1020,
    "start_time": "2021-08-24T08:27:52.651Z"
   },
   {
    "duration": 1016,
    "start_time": "2021-08-24T08:27:52.658Z"
   },
   {
    "duration": 1014,
    "start_time": "2021-08-24T08:27:52.662Z"
   },
   {
    "duration": 1012,
    "start_time": "2021-08-24T08:27:52.666Z"
   },
   {
    "duration": 1010,
    "start_time": "2021-08-24T08:27:52.670Z"
   },
   {
    "duration": 1010,
    "start_time": "2021-08-24T08:27:52.672Z"
   },
   {
    "duration": 1009,
    "start_time": "2021-08-24T08:27:52.675Z"
   },
   {
    "duration": 1009,
    "start_time": "2021-08-24T08:27:52.677Z"
   },
   {
    "duration": 1009,
    "start_time": "2021-08-24T08:27:52.679Z"
   },
   {
    "duration": 1008,
    "start_time": "2021-08-24T08:27:52.682Z"
   },
   {
    "duration": 1006,
    "start_time": "2021-08-24T08:27:52.686Z"
   },
   {
    "duration": 11,
    "start_time": "2021-08-24T08:28:13.590Z"
   },
   {
    "duration": 5,
    "start_time": "2021-08-24T08:28:17.008Z"
   },
   {
    "duration": 961,
    "start_time": "2021-08-24T08:28:17.021Z"
   },
   {
    "duration": 21,
    "start_time": "2021-08-24T08:28:17.985Z"
   },
   {
    "duration": 166,
    "start_time": "2021-08-24T08:28:18.009Z"
   },
   {
    "duration": 147,
    "start_time": "2021-08-24T08:28:18.181Z"
   },
   {
    "duration": 425,
    "start_time": "2021-08-24T08:28:18.330Z"
   },
   {
    "duration": 518,
    "start_time": "2021-08-24T08:28:18.757Z"
   },
   {
    "duration": 704,
    "start_time": "2021-08-24T08:28:19.278Z"
   },
   {
    "duration": 10,
    "start_time": "2021-08-24T08:28:19.985Z"
   },
   {
    "duration": 61,
    "start_time": "2021-08-24T08:28:19.999Z"
   },
   {
    "duration": 314,
    "start_time": "2021-08-24T08:28:20.085Z"
   },
   {
    "duration": 222,
    "start_time": "2021-08-24T08:28:20.401Z"
   },
   {
    "duration": 113,
    "start_time": "2021-08-24T08:28:20.626Z"
   },
   {
    "duration": 273,
    "start_time": "2021-08-24T08:28:20.741Z"
   },
   {
    "duration": 238,
    "start_time": "2021-08-24T08:28:21.016Z"
   },
   {
    "duration": 250,
    "start_time": "2021-08-24T08:28:21.257Z"
   },
   {
    "duration": 17,
    "start_time": "2021-08-24T08:28:21.509Z"
   },
   {
    "duration": 29,
    "start_time": "2021-08-24T08:28:21.528Z"
   },
   {
    "duration": 44,
    "start_time": "2021-08-24T08:28:21.559Z"
   },
   {
    "duration": 30,
    "start_time": "2021-08-24T08:28:21.605Z"
   },
   {
    "duration": 95,
    "start_time": "2021-08-24T08:28:21.637Z"
   },
   {
    "duration": 5,
    "start_time": "2021-08-24T08:28:21.734Z"
   },
   {
    "duration": 4854,
    "start_time": "2021-08-24T08:28:21.741Z"
   },
   {
    "duration": 4,
    "start_time": "2021-08-24T08:28:33.699Z"
   },
   {
    "duration": 972,
    "start_time": "2021-08-24T08:28:33.706Z"
   },
   {
    "duration": 22,
    "start_time": "2021-08-24T08:28:34.683Z"
   },
   {
    "duration": 168,
    "start_time": "2021-08-24T08:28:34.707Z"
   },
   {
    "duration": 162,
    "start_time": "2021-08-24T08:28:34.881Z"
   },
   {
    "duration": 319,
    "start_time": "2021-08-24T08:28:35.046Z"
   },
   {
    "duration": 556,
    "start_time": "2021-08-24T08:28:35.367Z"
   },
   {
    "duration": 712,
    "start_time": "2021-08-24T08:28:35.928Z"
   },
   {
    "duration": 13,
    "start_time": "2021-08-24T08:28:36.643Z"
   },
   {
    "duration": 85,
    "start_time": "2021-08-24T08:28:36.659Z"
   },
   {
    "duration": 339,
    "start_time": "2021-08-24T08:28:36.746Z"
   },
   {
    "duration": 199,
    "start_time": "2021-08-24T08:28:37.088Z"
   },
   {
    "duration": 131,
    "start_time": "2021-08-24T08:28:37.289Z"
   },
   {
    "duration": 291,
    "start_time": "2021-08-24T08:28:37.424Z"
   },
   {
    "duration": 259,
    "start_time": "2021-08-24T08:28:37.718Z"
   },
   {
    "duration": 260,
    "start_time": "2021-08-24T08:28:37.983Z"
   },
   {
    "duration": 17,
    "start_time": "2021-08-24T08:28:38.246Z"
   },
   {
    "duration": 25,
    "start_time": "2021-08-24T08:28:38.266Z"
   },
   {
    "duration": 34,
    "start_time": "2021-08-24T08:28:38.293Z"
   },
   {
    "duration": 65,
    "start_time": "2021-08-24T08:28:38.329Z"
   },
   {
    "duration": 87,
    "start_time": "2021-08-24T08:28:38.397Z"
   },
   {
    "duration": 5,
    "start_time": "2021-08-24T08:28:38.487Z"
   },
   {
    "duration": 4889,
    "start_time": "2021-08-24T08:28:38.496Z"
   },
   {
    "duration": 40,
    "start_time": "2021-08-24T08:35:05.050Z"
   },
   {
    "duration": 4,
    "start_time": "2021-08-24T08:35:12.690Z"
   },
   {
    "duration": 932,
    "start_time": "2021-08-24T08:35:12.697Z"
   },
   {
    "duration": 20,
    "start_time": "2021-08-24T08:35:13.632Z"
   },
   {
    "duration": 159,
    "start_time": "2021-08-24T08:35:13.655Z"
   },
   {
    "duration": 154,
    "start_time": "2021-08-24T08:35:13.817Z"
   },
   {
    "duration": 325,
    "start_time": "2021-08-24T08:35:13.973Z"
   },
   {
    "duration": 543,
    "start_time": "2021-08-24T08:35:14.301Z"
   },
   {
    "duration": 620,
    "start_time": "2021-08-24T08:35:14.847Z"
   },
   {
    "duration": 14,
    "start_time": "2021-08-24T08:35:15.471Z"
   },
   {
    "duration": 65,
    "start_time": "2021-08-24T08:35:15.488Z"
   },
   {
    "duration": 345,
    "start_time": "2021-08-24T08:35:15.555Z"
   },
   {
    "duration": 284,
    "start_time": "2021-08-24T08:35:15.903Z"
   },
   {
    "duration": 119,
    "start_time": "2021-08-24T08:35:16.189Z"
   },
   {
    "duration": 280,
    "start_time": "2021-08-24T08:35:16.310Z"
   },
   {
    "duration": 274,
    "start_time": "2021-08-24T08:35:16.593Z"
   },
   {
    "duration": 235,
    "start_time": "2021-08-24T08:35:16.869Z"
   },
   {
    "duration": 17,
    "start_time": "2021-08-24T08:35:17.107Z"
   },
   {
    "duration": 13,
    "start_time": "2021-08-24T08:35:17.127Z"
   },
   {
    "duration": 62,
    "start_time": "2021-08-24T08:35:17.142Z"
   },
   {
    "duration": 32,
    "start_time": "2021-08-24T08:35:17.207Z"
   },
   {
    "duration": 63,
    "start_time": "2021-08-24T08:35:17.242Z"
   },
   {
    "duration": 57,
    "start_time": "2021-08-24T08:35:17.307Z"
   },
   {
    "duration": 18,
    "start_time": "2021-08-24T08:35:17.367Z"
   },
   {
    "duration": 3900,
    "start_time": "2021-08-24T08:35:17.388Z"
   },
   {
    "duration": 123,
    "start_time": "2021-08-24T08:39:21.620Z"
   },
   {
    "duration": 5,
    "start_time": "2021-08-24T08:42:14.440Z"
   },
   {
    "duration": 1427,
    "start_time": "2021-08-24T08:42:14.452Z"
   },
   {
    "duration": 30,
    "start_time": "2021-08-24T08:42:15.884Z"
   },
   {
    "duration": 242,
    "start_time": "2021-08-24T08:42:15.919Z"
   },
   {
    "duration": 254,
    "start_time": "2021-08-24T08:42:16.163Z"
   },
   {
    "duration": 497,
    "start_time": "2021-08-24T08:42:16.420Z"
   },
   {
    "duration": 668,
    "start_time": "2021-08-24T08:42:16.920Z"
   },
   {
    "duration": 838,
    "start_time": "2021-08-24T08:42:17.591Z"
   },
   {
    "duration": 15,
    "start_time": "2021-08-24T08:42:18.435Z"
   },
   {
    "duration": 92,
    "start_time": "2021-08-24T08:42:18.454Z"
   },
   {
    "duration": 588,
    "start_time": "2021-08-24T08:42:18.549Z"
   },
   {
    "duration": 269,
    "start_time": "2021-08-24T08:42:19.140Z"
   },
   {
    "duration": 125,
    "start_time": "2021-08-24T08:42:19.412Z"
   },
   {
    "duration": 382,
    "start_time": "2021-08-24T08:42:19.540Z"
   },
   {
    "duration": 252,
    "start_time": "2021-08-24T08:42:19.925Z"
   },
   {
    "duration": 351,
    "start_time": "2021-08-24T08:42:20.183Z"
   },
   {
    "duration": 54,
    "start_time": "2021-08-24T08:42:20.536Z"
   },
   {
    "duration": 57,
    "start_time": "2021-08-24T08:42:20.592Z"
   },
   {
    "duration": 6,
    "start_time": "2021-08-24T08:42:20.652Z"
   },
   {
    "duration": 18042,
    "start_time": "2021-08-24T08:42:20.660Z"
   },
   {
    "duration": 2,
    "start_time": "2021-08-24T08:42:38.705Z"
   },
   {
    "duration": 25,
    "start_time": "2021-08-24T08:43:33.803Z"
   },
   {
    "duration": 5,
    "start_time": "2021-08-24T08:43:42.468Z"
   },
   {
    "duration": 6422,
    "start_time": "2021-08-24T08:49:57.253Z"
   },
   {
    "duration": 352,
    "start_time": "2021-08-24T08:51:16.763Z"
   },
   {
    "duration": 4,
    "start_time": "2021-08-24T08:51:20.363Z"
   },
   {
    "duration": 5,
    "start_time": "2021-08-24T08:51:20.853Z"
   },
   {
    "duration": 4781,
    "start_time": "2021-08-24T08:51:21.669Z"
   },
   {
    "duration": 4,
    "start_time": "2021-08-24T08:52:20.612Z"
   },
   {
    "duration": 4659,
    "start_time": "2021-08-24T08:52:21.951Z"
   },
   {
    "duration": 4,
    "start_time": "2021-08-24T08:52:52.943Z"
   },
   {
    "duration": 4435,
    "start_time": "2021-08-24T08:52:53.853Z"
   },
   {
    "duration": 407,
    "start_time": "2021-08-24T08:57:52.903Z"
   },
   {
    "duration": 4,
    "start_time": "2021-08-24T08:58:02.294Z"
   },
   {
    "duration": 971,
    "start_time": "2021-08-24T08:58:02.301Z"
   },
   {
    "duration": 28,
    "start_time": "2021-08-24T08:58:03.275Z"
   },
   {
    "duration": 178,
    "start_time": "2021-08-24T08:58:03.306Z"
   },
   {
    "duration": 147,
    "start_time": "2021-08-24T08:58:03.486Z"
   },
   {
    "duration": 307,
    "start_time": "2021-08-24T08:58:03.636Z"
   },
   {
    "duration": 468,
    "start_time": "2021-08-24T08:58:03.946Z"
   },
   {
    "duration": 615,
    "start_time": "2021-08-24T08:58:04.416Z"
   },
   {
    "duration": 11,
    "start_time": "2021-08-24T08:58:05.035Z"
   },
   {
    "duration": 88,
    "start_time": "2021-08-24T08:58:05.048Z"
   },
   {
    "duration": 333,
    "start_time": "2021-08-24T08:58:05.139Z"
   },
   {
    "duration": 174,
    "start_time": "2021-08-24T08:58:05.474Z"
   },
   {
    "duration": 117,
    "start_time": "2021-08-24T08:58:05.650Z"
   },
   {
    "duration": 276,
    "start_time": "2021-08-24T08:58:05.769Z"
   },
   {
    "duration": 237,
    "start_time": "2021-08-24T08:58:06.048Z"
   },
   {
    "duration": 236,
    "start_time": "2021-08-24T08:58:06.288Z"
   },
   {
    "duration": 40,
    "start_time": "2021-08-24T08:58:06.527Z"
   },
   {
    "duration": 52,
    "start_time": "2021-08-24T08:58:06.582Z"
   },
   {
    "duration": 5,
    "start_time": "2021-08-24T08:58:06.637Z"
   },
   {
    "duration": 422,
    "start_time": "2021-08-24T08:58:06.644Z"
   },
   {
    "duration": 3626,
    "start_time": "2021-08-24T08:58:07.068Z"
   },
   {
    "duration": 88,
    "start_time": "2021-08-24T08:58:10.696Z"
   },
   {
    "duration": 18,
    "start_time": "2021-08-24T08:58:10.787Z"
   },
   {
    "duration": 3861,
    "start_time": "2021-08-24T08:58:10.807Z"
   },
   {
    "duration": 228,
    "start_time": "2021-08-24T09:09:56.979Z"
   },
   {
    "duration": 6,
    "start_time": "2021-08-24T09:10:52.863Z"
   },
   {
    "duration": 4,
    "start_time": "2021-08-24T09:10:55.672Z"
   },
   {
    "duration": 965,
    "start_time": "2021-08-24T09:10:55.684Z"
   },
   {
    "duration": 20,
    "start_time": "2021-08-24T09:10:56.651Z"
   },
   {
    "duration": 150,
    "start_time": "2021-08-24T09:10:56.682Z"
   },
   {
    "duration": 152,
    "start_time": "2021-08-24T09:10:56.835Z"
   },
   {
    "duration": 324,
    "start_time": "2021-08-24T09:10:56.990Z"
   },
   {
    "duration": 506,
    "start_time": "2021-08-24T09:10:57.317Z"
   },
   {
    "duration": 630,
    "start_time": "2021-08-24T09:10:57.826Z"
   },
   {
    "duration": 10,
    "start_time": "2021-08-24T09:10:58.459Z"
   },
   {
    "duration": 65,
    "start_time": "2021-08-24T09:10:58.484Z"
   },
   {
    "duration": 335,
    "start_time": "2021-08-24T09:10:58.551Z"
   },
   {
    "duration": 184,
    "start_time": "2021-08-24T09:10:58.889Z"
   },
   {
    "duration": 124,
    "start_time": "2021-08-24T09:10:59.076Z"
   },
   {
    "duration": 271,
    "start_time": "2021-08-24T09:10:59.202Z"
   },
   {
    "duration": 241,
    "start_time": "2021-08-24T09:10:59.482Z"
   },
   {
    "duration": 262,
    "start_time": "2021-08-24T09:10:59.726Z"
   },
   {
    "duration": 43,
    "start_time": "2021-08-24T09:10:59.992Z"
   },
   {
    "duration": 78,
    "start_time": "2021-08-24T09:11:00.038Z"
   },
   {
    "duration": 6,
    "start_time": "2021-08-24T09:11:00.118Z"
   },
   {
    "duration": 484,
    "start_time": "2021-08-24T09:11:00.127Z"
   },
   {
    "duration": 4378,
    "start_time": "2021-08-24T09:11:00.614Z"
   },
   {
    "duration": 250,
    "start_time": "2021-08-24T09:11:04.995Z"
   },
   {
    "duration": 6,
    "start_time": "2021-08-24T09:11:22.320Z"
   },
   {
    "duration": 469,
    "start_time": "2021-08-24T09:13:42.224Z"
   },
   {
    "duration": 5,
    "start_time": "2021-08-24T09:14:26.864Z"
   },
   {
    "duration": 4,
    "start_time": "2021-08-24T09:14:30.244Z"
   },
   {
    "duration": 1113,
    "start_time": "2021-08-24T09:14:30.252Z"
   },
   {
    "duration": 29,
    "start_time": "2021-08-24T09:14:31.368Z"
   },
   {
    "duration": 223,
    "start_time": "2021-08-24T09:14:31.402Z"
   },
   {
    "duration": 174,
    "start_time": "2021-08-24T09:14:31.628Z"
   },
   {
    "duration": 358,
    "start_time": "2021-08-24T09:14:31.805Z"
   },
   {
    "duration": 566,
    "start_time": "2021-08-24T09:14:32.166Z"
   },
   {
    "duration": 752,
    "start_time": "2021-08-24T09:14:32.735Z"
   },
   {
    "duration": 13,
    "start_time": "2021-08-24T09:14:33.491Z"
   },
   {
    "duration": 100,
    "start_time": "2021-08-24T09:14:33.507Z"
   },
   {
    "duration": 516,
    "start_time": "2021-08-24T09:14:33.610Z"
   },
   {
    "duration": 260,
    "start_time": "2021-08-24T09:14:34.129Z"
   },
   {
    "duration": 159,
    "start_time": "2021-08-24T09:14:34.392Z"
   },
   {
    "duration": 318,
    "start_time": "2021-08-24T09:14:34.554Z"
   },
   {
    "duration": 254,
    "start_time": "2021-08-24T09:14:34.875Z"
   },
   {
    "duration": 262,
    "start_time": "2021-08-24T09:14:35.131Z"
   },
   {
    "duration": 42,
    "start_time": "2021-08-24T09:14:35.395Z"
   },
   {
    "duration": 70,
    "start_time": "2021-08-24T09:14:35.440Z"
   },
   {
    "duration": 6,
    "start_time": "2021-08-24T09:14:35.513Z"
   },
   {
    "duration": 514,
    "start_time": "2021-08-24T09:14:35.522Z"
   },
   {
    "duration": 28761,
    "start_time": "2021-08-24T09:14:36.038Z"
   },
   {
    "duration": 4598,
    "start_time": "2021-08-24T09:15:04.802Z"
   },
   {
    "duration": 7,
    "start_time": "2021-08-24T09:15:09.403Z"
   },
   {
    "duration": 1626,
    "start_time": "2021-08-24T09:23:56.798Z"
   },
   {
    "duration": 1123,
    "start_time": "2021-08-24T09:23:58.427Z"
   },
   {
    "duration": 31,
    "start_time": "2021-08-24T09:23:59.553Z"
   },
   {
    "duration": 166,
    "start_time": "2021-08-24T09:23:59.587Z"
   },
   {
    "duration": 166,
    "start_time": "2021-08-24T09:23:59.755Z"
   },
   {
    "duration": 386,
    "start_time": "2021-08-24T09:23:59.923Z"
   },
   {
    "duration": 655,
    "start_time": "2021-08-24T09:24:00.312Z"
   },
   {
    "duration": 785,
    "start_time": "2021-08-24T09:24:00.970Z"
   },
   {
    "duration": 24,
    "start_time": "2021-08-24T09:24:01.759Z"
   },
   {
    "duration": 61,
    "start_time": "2021-08-24T09:24:01.787Z"
   },
   {
    "duration": 341,
    "start_time": "2021-08-24T09:24:01.850Z"
   },
   {
    "duration": 217,
    "start_time": "2021-08-24T09:24:02.193Z"
   },
   {
    "duration": 127,
    "start_time": "2021-08-24T09:24:02.412Z"
   },
   {
    "duration": 317,
    "start_time": "2021-08-24T09:24:02.541Z"
   },
   {
    "duration": 247,
    "start_time": "2021-08-24T09:24:02.861Z"
   },
   {
    "duration": 352,
    "start_time": "2021-08-24T09:24:03.111Z"
   },
   {
    "duration": 56,
    "start_time": "2021-08-24T09:24:03.466Z"
   },
   {
    "duration": 96,
    "start_time": "2021-08-24T09:24:03.525Z"
   },
   {
    "duration": 6,
    "start_time": "2021-08-24T09:24:03.632Z"
   },
   {
    "duration": 455,
    "start_time": "2021-08-24T09:24:03.640Z"
   },
   {
    "duration": 5097,
    "start_time": "2021-08-24T09:24:04.098Z"
   },
   {
    "duration": 1522,
    "start_time": "2021-08-24T09:42:08.539Z"
   },
   {
    "duration": 1106,
    "start_time": "2021-08-24T09:42:10.064Z"
   },
   {
    "duration": 30,
    "start_time": "2021-08-24T09:42:11.174Z"
   },
   {
    "duration": 165,
    "start_time": "2021-08-24T09:42:11.206Z"
   },
   {
    "duration": 169,
    "start_time": "2021-08-24T09:42:11.374Z"
   },
   {
    "duration": 350,
    "start_time": "2021-08-24T09:42:11.546Z"
   },
   {
    "duration": 601,
    "start_time": "2021-08-24T09:42:11.899Z"
   },
   {
    "duration": 724,
    "start_time": "2021-08-24T09:42:12.502Z"
   },
   {
    "duration": 13,
    "start_time": "2021-08-24T09:42:13.230Z"
   },
   {
    "duration": 87,
    "start_time": "2021-08-24T09:42:13.246Z"
   },
   {
    "duration": 460,
    "start_time": "2021-08-24T09:42:13.335Z"
   },
   {
    "duration": 272,
    "start_time": "2021-08-24T09:42:13.798Z"
   },
   {
    "duration": 161,
    "start_time": "2021-08-24T09:42:14.073Z"
   },
   {
    "duration": 431,
    "start_time": "2021-08-24T09:42:14.238Z"
   },
   {
    "duration": 331,
    "start_time": "2021-08-24T09:42:14.672Z"
   },
   {
    "duration": 245,
    "start_time": "2021-08-24T09:42:15.006Z"
   },
   {
    "duration": 54,
    "start_time": "2021-08-24T09:42:15.254Z"
   },
   {
    "duration": 483,
    "start_time": "2021-08-24T09:42:15.311Z"
   },
   {
    "duration": 886,
    "start_time": "2021-08-24T09:42:14.910Z"
   },
   {
    "duration": 884,
    "start_time": "2021-08-24T09:42:14.913Z"
   },
   {
    "duration": 822,
    "start_time": "2021-08-24T09:42:14.977Z"
   },
   {
    "duration": 816,
    "start_time": "2021-08-24T09:42:14.984Z"
   },
   {
    "duration": 5,
    "start_time": "2021-08-24T09:43:00.982Z"
   },
   {
    "duration": 1099,
    "start_time": "2021-08-24T09:43:00.993Z"
   },
   {
    "duration": 20,
    "start_time": "2021-08-24T09:43:02.095Z"
   },
   {
    "duration": 167,
    "start_time": "2021-08-24T09:43:02.118Z"
   },
   {
    "duration": 145,
    "start_time": "2021-08-24T09:43:02.288Z"
   },
   {
    "duration": 289,
    "start_time": "2021-08-24T09:43:02.436Z"
   },
   {
    "duration": 542,
    "start_time": "2021-08-24T09:43:02.728Z"
   },
   {
    "duration": 669,
    "start_time": "2021-08-24T09:43:03.272Z"
   },
   {
    "duration": 11,
    "start_time": "2021-08-24T09:43:03.943Z"
   },
   {
    "duration": 77,
    "start_time": "2021-08-24T09:43:03.960Z"
   },
   {
    "duration": 332,
    "start_time": "2021-08-24T09:43:04.040Z"
   },
   {
    "duration": 182,
    "start_time": "2021-08-24T09:43:04.374Z"
   },
   {
    "duration": 124,
    "start_time": "2021-08-24T09:43:04.559Z"
   },
   {
    "duration": 277,
    "start_time": "2021-08-24T09:43:04.685Z"
   },
   {
    "duration": 256,
    "start_time": "2021-08-24T09:43:04.965Z"
   },
   {
    "duration": 313,
    "start_time": "2021-08-24T09:43:05.223Z"
   },
   {
    "duration": 55,
    "start_time": "2021-08-24T09:43:05.539Z"
   },
   {
    "duration": 860,
    "start_time": "2021-08-24T09:43:05.597Z"
   },
   {
    "duration": 67,
    "start_time": "2021-08-24T09:43:06.460Z"
   },
   {
    "duration": 5,
    "start_time": "2021-08-24T09:43:06.529Z"
   },
   {
    "duration": 597,
    "start_time": "2021-08-24T09:43:06.537Z"
   },
   {
    "duration": 13656,
    "start_time": "2021-08-24T09:43:07.137Z"
   },
   {
    "duration": 1294,
    "start_time": "2021-08-24T09:44:11.420Z"
   },
   {
    "duration": 5,
    "start_time": "2021-08-24T09:45:57.986Z"
   },
   {
    "duration": 1088,
    "start_time": "2021-08-24T09:45:57.998Z"
   },
   {
    "duration": 21,
    "start_time": "2021-08-24T09:45:59.088Z"
   },
   {
    "duration": 159,
    "start_time": "2021-08-24T09:45:59.111Z"
   },
   {
    "duration": 148,
    "start_time": "2021-08-24T09:45:59.273Z"
   },
   {
    "duration": 304,
    "start_time": "2021-08-24T09:45:59.424Z"
   },
   {
    "duration": 535,
    "start_time": "2021-08-24T09:45:59.730Z"
   },
   {
    "duration": 658,
    "start_time": "2021-08-24T09:46:00.267Z"
   },
   {
    "duration": 11,
    "start_time": "2021-08-24T09:46:00.927Z"
   },
   {
    "duration": 87,
    "start_time": "2021-08-24T09:46:00.942Z"
   },
   {
    "duration": 351,
    "start_time": "2021-08-24T09:46:01.032Z"
   },
   {
    "duration": 197,
    "start_time": "2021-08-24T09:46:01.385Z"
   },
   {
    "duration": 125,
    "start_time": "2021-08-24T09:46:01.585Z"
   },
   {
    "duration": 285,
    "start_time": "2021-08-24T09:46:01.713Z"
   },
   {
    "duration": 251,
    "start_time": "2021-08-24T09:46:02.000Z"
   },
   {
    "duration": 251,
    "start_time": "2021-08-24T09:46:02.253Z"
   },
   {
    "duration": 42,
    "start_time": "2021-08-24T09:46:02.506Z"
   },
   {
    "duration": 895,
    "start_time": "2021-08-24T09:46:02.550Z"
   },
   {
    "duration": 1050,
    "start_time": "2021-08-24T09:46:03.447Z"
   },
   {
    "duration": 3,
    "start_time": "2021-08-24T09:46:04.500Z"
   },
   {
    "duration": 23,
    "start_time": "2021-08-24T09:46:04.505Z"
   },
   {
    "duration": 6,
    "start_time": "2021-08-24T09:46:04.530Z"
   },
   {
    "duration": 300,
    "start_time": "2021-08-24T09:46:04.538Z"
   },
   {
    "duration": 804,
    "start_time": "2021-08-24T09:47:01.990Z"
   },
   {
    "duration": 961,
    "start_time": "2021-08-24T09:47:04.337Z"
   },
   {
    "duration": 6138,
    "start_time": "2021-08-24T09:47:07.646Z"
   },
   {
    "duration": 4397,
    "start_time": "2021-08-24T09:48:31.055Z"
   },
   {
    "duration": 5,
    "start_time": "2021-08-24T09:51:00.487Z"
   },
   {
    "duration": 1027,
    "start_time": "2021-08-24T09:51:00.495Z"
   },
   {
    "duration": 19,
    "start_time": "2021-08-24T09:51:01.525Z"
   },
   {
    "duration": 226,
    "start_time": "2021-08-24T09:51:01.547Z"
   },
   {
    "duration": 157,
    "start_time": "2021-08-24T09:51:01.775Z"
   },
   {
    "duration": 350,
    "start_time": "2021-08-24T09:51:01.934Z"
   },
   {
    "duration": 565,
    "start_time": "2021-08-24T09:51:02.286Z"
   },
   {
    "duration": 730,
    "start_time": "2021-08-24T09:51:02.854Z"
   },
   {
    "duration": 11,
    "start_time": "2021-08-24T09:51:03.588Z"
   },
   {
    "duration": 96,
    "start_time": "2021-08-24T09:51:03.602Z"
   },
   {
    "duration": 418,
    "start_time": "2021-08-24T09:51:03.701Z"
   },
   {
    "duration": 216,
    "start_time": "2021-08-24T09:51:04.122Z"
   },
   {
    "duration": 124,
    "start_time": "2021-08-24T09:51:04.341Z"
   },
   {
    "duration": 286,
    "start_time": "2021-08-24T09:51:04.467Z"
   },
   {
    "duration": 254,
    "start_time": "2021-08-24T09:51:04.756Z"
   },
   {
    "duration": 248,
    "start_time": "2021-08-24T09:51:05.013Z"
   },
   {
    "duration": 52,
    "start_time": "2021-08-24T09:51:05.263Z"
   },
   {
    "duration": 1087,
    "start_time": "2021-08-24T09:51:05.318Z"
   },
   {
    "duration": 1048,
    "start_time": "2021-08-24T09:51:06.408Z"
   },
   {
    "duration": 3,
    "start_time": "2021-08-24T09:51:07.458Z"
   },
   {
    "duration": 8,
    "start_time": "2021-08-24T09:51:07.463Z"
   },
   {
    "duration": 3,
    "start_time": "2021-08-24T09:51:07.483Z"
   },
   {
    "duration": 6716,
    "start_time": "2021-08-24T09:51:07.490Z"
   },
   {
    "duration": 4871,
    "start_time": "2021-08-24T09:51:14.208Z"
   },
   {
    "duration": 5,
    "start_time": "2021-08-24T09:51:37.357Z"
   },
   {
    "duration": 1064,
    "start_time": "2021-08-24T09:51:37.365Z"
   },
   {
    "duration": 22,
    "start_time": "2021-08-24T09:51:38.433Z"
   },
   {
    "duration": 176,
    "start_time": "2021-08-24T09:51:38.457Z"
   },
   {
    "duration": 157,
    "start_time": "2021-08-24T09:51:38.635Z"
   },
   {
    "duration": 328,
    "start_time": "2021-08-24T09:51:38.795Z"
   },
   {
    "duration": 439,
    "start_time": "2021-08-24T09:51:39.125Z"
   },
   {
    "duration": 615,
    "start_time": "2021-08-24T09:51:39.567Z"
   },
   {
    "duration": 10,
    "start_time": "2021-08-24T09:51:40.186Z"
   },
   {
    "duration": 112,
    "start_time": "2021-08-24T09:51:40.199Z"
   },
   {
    "duration": 406,
    "start_time": "2021-08-24T09:51:40.314Z"
   },
   {
    "duration": 188,
    "start_time": "2021-08-24T09:51:40.723Z"
   },
   {
    "duration": 123,
    "start_time": "2021-08-24T09:51:40.913Z"
   },
   {
    "duration": 278,
    "start_time": "2021-08-24T09:51:41.039Z"
   },
   {
    "duration": 245,
    "start_time": "2021-08-24T09:51:41.320Z"
   },
   {
    "duration": 250,
    "start_time": "2021-08-24T09:51:41.568Z"
   },
   {
    "duration": 41,
    "start_time": "2021-08-24T09:51:41.821Z"
   },
   {
    "duration": 989,
    "start_time": "2021-08-24T09:51:41.864Z"
   },
   {
    "duration": 1027,
    "start_time": "2021-08-24T09:51:42.855Z"
   },
   {
    "duration": 3,
    "start_time": "2021-08-24T09:51:43.885Z"
   },
   {
    "duration": 6,
    "start_time": "2021-08-24T09:51:43.891Z"
   },
   {
    "duration": 6,
    "start_time": "2021-08-24T09:51:43.899Z"
   },
   {
    "duration": 8183,
    "start_time": "2021-08-24T09:51:43.907Z"
   },
   {
    "duration": 1186102,
    "start_time": "2021-08-24T09:51:52.092Z"
   },
   {
    "duration": 264,
    "start_time": "2021-08-24T10:14:48.844Z"
   },
   {
    "duration": 6,
    "start_time": "2021-08-24T10:15:20.864Z"
   },
   {
    "duration": 5761,
    "start_time": "2021-08-24T10:15:25.763Z"
   },
   {
    "duration": 1436,
    "start_time": "2021-08-24T11:42:48.511Z"
   },
   {
    "duration": 1022,
    "start_time": "2021-08-24T11:42:49.950Z"
   },
   {
    "duration": 29,
    "start_time": "2021-08-24T11:42:50.975Z"
   },
   {
    "duration": 159,
    "start_time": "2021-08-24T11:42:51.006Z"
   },
   {
    "duration": 161,
    "start_time": "2021-08-24T11:42:51.168Z"
   },
   {
    "duration": 343,
    "start_time": "2021-08-24T11:42:51.331Z"
   },
   {
    "duration": 532,
    "start_time": "2021-08-24T11:42:51.677Z"
   },
   {
    "duration": 821,
    "start_time": "2021-08-24T11:42:52.212Z"
   },
   {
    "duration": 11,
    "start_time": "2021-08-24T11:42:53.037Z"
   },
   {
    "duration": 76,
    "start_time": "2021-08-24T11:42:53.050Z"
   },
   {
    "duration": 315,
    "start_time": "2021-08-24T11:42:53.128Z"
   },
   {
    "duration": 184,
    "start_time": "2021-08-24T11:42:53.445Z"
   },
   {
    "duration": 110,
    "start_time": "2021-08-24T11:42:53.631Z"
   },
   {
    "duration": 277,
    "start_time": "2021-08-24T11:42:53.744Z"
   },
   {
    "duration": 236,
    "start_time": "2021-08-24T11:42:54.023Z"
   },
   {
    "duration": 245,
    "start_time": "2021-08-24T11:42:54.262Z"
   },
   {
    "duration": 38,
    "start_time": "2021-08-24T11:42:54.510Z"
   },
   {
    "duration": 1020,
    "start_time": "2021-08-24T11:42:54.550Z"
   },
   {
    "duration": 1010,
    "start_time": "2021-08-24T11:42:55.573Z"
   },
   {
    "duration": 3,
    "start_time": "2021-08-24T11:42:56.586Z"
   },
   {
    "duration": 7,
    "start_time": "2021-08-24T11:42:56.592Z"
   },
   {
    "duration": 7,
    "start_time": "2021-08-24T11:42:56.602Z"
   },
   {
    "duration": 7278,
    "start_time": "2021-08-24T11:42:56.612Z"
   },
   {
    "duration": 4,
    "start_time": "2021-08-24T11:43:03.892Z"
   },
   {
    "duration": 12,
    "start_time": "2021-08-24T11:43:03.899Z"
   },
   {
    "duration": 23,
    "start_time": "2021-08-24T11:43:07.239Z"
   },
   {
    "duration": 92095,
    "start_time": "2021-08-24T11:47:16.497Z"
   },
   {
    "duration": 25,
    "start_time": "2021-08-24T11:52:16.305Z"
   },
   {
    "duration": 396203,
    "start_time": "2021-08-24T11:52:24.930Z"
   },
   {
    "duration": 1606,
    "start_time": "2021-08-25T07:44:18.001Z"
   },
   {
    "duration": 1111,
    "start_time": "2021-08-25T07:44:19.610Z"
   },
   {
    "duration": 28,
    "start_time": "2021-08-25T07:44:20.724Z"
   },
   {
    "duration": 174,
    "start_time": "2021-08-25T07:44:20.768Z"
   },
   {
    "duration": 170,
    "start_time": "2021-08-25T07:44:20.944Z"
   },
   {
    "duration": 359,
    "start_time": "2021-08-25T07:44:21.116Z"
   },
   {
    "duration": 610,
    "start_time": "2021-08-25T07:44:21.477Z"
   },
   {
    "duration": 702,
    "start_time": "2021-08-25T07:44:22.090Z"
   },
   {
    "duration": 11,
    "start_time": "2021-08-25T07:44:22.794Z"
   },
   {
    "duration": 65,
    "start_time": "2021-08-25T07:44:22.807Z"
   },
   {
    "duration": 699,
    "start_time": "2021-08-25T07:45:13.802Z"
   },
   {
    "duration": 6,
    "start_time": "2021-08-25T07:45:26.420Z"
   },
   {
    "duration": 1100,
    "start_time": "2021-08-25T07:45:26.429Z"
   },
   {
    "duration": 21,
    "start_time": "2021-08-25T07:45:27.532Z"
   },
   {
    "duration": 169,
    "start_time": "2021-08-25T07:45:27.568Z"
   },
   {
    "duration": 162,
    "start_time": "2021-08-25T07:45:27.740Z"
   },
   {
    "duration": 353,
    "start_time": "2021-08-25T07:45:27.904Z"
   },
   {
    "duration": 653,
    "start_time": "2021-08-25T07:45:28.260Z"
   },
   {
    "duration": 1297,
    "start_time": "2021-08-25T07:45:28.917Z"
   },
   {
    "duration": 12,
    "start_time": "2021-08-25T07:45:30.218Z"
   },
   {
    "duration": 74,
    "start_time": "2021-08-25T07:45:30.233Z"
   },
   {
    "duration": 9744,
    "start_time": "2021-08-25T07:45:30.310Z"
   },
   {
    "duration": 1596,
    "start_time": "2021-08-25T07:45:38.460Z"
   },
   {
    "duration": 1564,
    "start_time": "2021-08-25T07:45:38.494Z"
   },
   {
    "duration": 1555,
    "start_time": "2021-08-25T07:45:38.504Z"
   },
   {
    "duration": 1545,
    "start_time": "2021-08-25T07:45:38.516Z"
   },
   {
    "duration": 1542,
    "start_time": "2021-08-25T07:45:38.520Z"
   },
   {
    "duration": 1540,
    "start_time": "2021-08-25T07:45:38.523Z"
   },
   {
    "duration": 1521,
    "start_time": "2021-08-25T07:45:38.544Z"
   },
   {
    "duration": 1515,
    "start_time": "2021-08-25T07:45:38.551Z"
   },
   {
    "duration": 1480,
    "start_time": "2021-08-25T07:45:38.587Z"
   },
   {
    "duration": 1467,
    "start_time": "2021-08-25T07:45:38.602Z"
   },
   {
    "duration": 1455,
    "start_time": "2021-08-25T07:45:38.616Z"
   },
   {
    "duration": 1442,
    "start_time": "2021-08-25T07:45:38.630Z"
   },
   {
    "duration": 1436,
    "start_time": "2021-08-25T07:45:38.637Z"
   },
   {
    "duration": 5,
    "start_time": "2021-08-25T07:47:54.762Z"
   },
   {
    "duration": 1101,
    "start_time": "2021-08-25T07:47:54.770Z"
   },
   {
    "duration": 21,
    "start_time": "2021-08-25T07:47:55.874Z"
   },
   {
    "duration": 185,
    "start_time": "2021-08-25T07:47:55.898Z"
   },
   {
    "duration": 161,
    "start_time": "2021-08-25T07:47:56.086Z"
   },
   {
    "duration": 360,
    "start_time": "2021-08-25T07:47:56.249Z"
   },
   {
    "duration": 532,
    "start_time": "2021-08-25T07:47:56.611Z"
   },
   {
    "duration": 676,
    "start_time": "2021-08-25T07:47:57.145Z"
   },
   {
    "duration": 11,
    "start_time": "2021-08-25T07:47:57.825Z"
   },
   {
    "duration": 65,
    "start_time": "2021-08-25T07:47:57.839Z"
   },
   {
    "duration": 218,
    "start_time": "2021-08-25T07:47:57.906Z"
   },
   {
    "duration": 93,
    "start_time": "2021-08-25T07:47:58.126Z"
   },
   {
    "duration": 297,
    "start_time": "2021-08-25T07:47:58.221Z"
   },
   {
    "duration": 258,
    "start_time": "2021-08-25T07:47:58.521Z"
   },
   {
    "duration": 259,
    "start_time": "2021-08-25T07:47:58.781Z"
   },
   {
    "duration": 50,
    "start_time": "2021-08-25T07:47:59.043Z"
   },
   {
    "duration": 378,
    "start_time": "2021-08-25T07:47:59.096Z"
   },
   {
    "duration": 1311,
    "start_time": "2021-08-25T07:47:58.167Z"
   },
   {
    "duration": 1309,
    "start_time": "2021-08-25T07:47:58.171Z"
   },
   {
    "duration": 1296,
    "start_time": "2021-08-25T07:47:58.186Z"
   },
   {
    "duration": 1293,
    "start_time": "2021-08-25T07:47:58.191Z"
   },
   {
    "duration": 1284,
    "start_time": "2021-08-25T07:47:58.202Z"
   },
   {
    "duration": 1246,
    "start_time": "2021-08-25T07:47:58.242Z"
   },
   {
    "duration": 613,
    "start_time": "2021-08-25T08:03:56.978Z"
   },
   {
    "duration": 370,
    "start_time": "2021-08-25T08:05:22.191Z"
   },
   {
    "duration": 174,
    "start_time": "2021-08-25T08:05:30.012Z"
   },
   {
    "duration": 920,
    "start_time": "2021-08-25T08:05:31.121Z"
   },
   {
    "duration": 177,
    "start_time": "2021-08-25T08:05:53.968Z"
   },
   {
    "duration": 5,
    "start_time": "2021-08-25T08:06:59.269Z"
   },
   {
    "duration": 345,
    "start_time": "2021-08-25T08:08:27.331Z"
   },
   {
    "duration": 6,
    "start_time": "2021-08-25T08:08:47.671Z"
   },
   {
    "duration": 168,
    "start_time": "2021-08-25T08:09:02.112Z"
   },
   {
    "duration": 5892,
    "start_time": "2021-08-25T08:11:40.489Z"
   },
   {
    "duration": 1192085,
    "start_time": "2021-08-25T08:12:49.961Z"
   },
   {
    "duration": 8494,
    "start_time": "2021-08-25T08:37:48.004Z"
   },
   {
    "duration": 8635,
    "start_time": "2021-08-25T08:41:59.330Z"
   },
   {
    "duration": 239702,
    "start_time": "2021-08-25T08:42:54.025Z"
   },
   {
    "duration": 243126,
    "start_time": "2021-08-25T08:54:56.338Z"
   },
   {
    "duration": 298,
    "start_time": "2021-08-25T08:58:59.467Z"
   },
   {
    "duration": 91849,
    "start_time": "2021-08-25T08:59:35.817Z"
   },
   {
    "duration": 4,
    "start_time": "2021-08-25T09:04:11.391Z"
   },
   {
    "duration": 24993,
    "start_time": "2021-08-25T09:04:25.586Z"
   },
   {
    "duration": 22471,
    "start_time": "2021-08-25T09:05:07.443Z"
   },
   {
    "duration": 23431,
    "start_time": "2021-08-25T09:05:44.393Z"
   },
   {
    "duration": 23284,
    "start_time": "2021-08-25T09:06:37.392Z"
   },
   {
    "duration": 1806,
    "start_time": "2021-08-25T10:36:45.662Z"
   },
   {
    "duration": 1175,
    "start_time": "2021-08-25T10:36:47.470Z"
   },
   {
    "duration": 37,
    "start_time": "2021-08-25T10:36:48.648Z"
   },
   {
    "duration": 182,
    "start_time": "2021-08-25T10:36:48.690Z"
   },
   {
    "duration": 198,
    "start_time": "2021-08-25T10:36:48.886Z"
   },
   {
    "duration": 369,
    "start_time": "2021-08-25T10:36:49.087Z"
   },
   {
    "duration": 826,
    "start_time": "2021-08-25T10:36:49.458Z"
   },
   {
    "duration": 848,
    "start_time": "2021-08-25T10:36:50.292Z"
   },
   {
    "duration": 11,
    "start_time": "2021-08-25T10:36:51.144Z"
   },
   {
    "duration": 66,
    "start_time": "2021-08-25T10:36:51.158Z"
   },
   {
    "duration": 235,
    "start_time": "2021-08-25T10:36:51.227Z"
   },
   {
    "duration": 94,
    "start_time": "2021-08-25T10:36:51.464Z"
   },
   {
    "duration": 315,
    "start_time": "2021-08-25T10:36:51.561Z"
   },
   {
    "duration": 270,
    "start_time": "2021-08-25T10:36:51.879Z"
   },
   {
    "duration": 269,
    "start_time": "2021-08-25T10:36:52.152Z"
   },
   {
    "duration": 39,
    "start_time": "2021-08-25T10:36:52.423Z"
   },
   {
    "duration": 1000,
    "start_time": "2021-08-25T10:36:52.464Z"
   },
   {
    "duration": 193,
    "start_time": "2021-08-25T10:36:53.467Z"
   },
   {
    "duration": 999,
    "start_time": "2021-08-25T10:36:53.662Z"
   },
   {
    "duration": 193,
    "start_time": "2021-08-25T10:36:54.664Z"
   },
   {
    "duration": 6,
    "start_time": "2021-08-25T10:36:54.860Z"
   },
   {
    "duration": 230,
    "start_time": "2021-08-25T10:36:54.869Z"
   },
   {
    "duration": 4,
    "start_time": "2021-08-25T10:36:55.102Z"
   },
   {
    "duration": 1010,
    "start_time": "2021-08-25T10:36:55.109Z"
   },
   {
    "duration": 478,
    "start_time": "2021-08-25T10:36:55.644Z"
   },
   {
    "duration": 471,
    "start_time": "2021-08-25T10:36:55.653Z"
   },
   {
    "duration": 465,
    "start_time": "2021-08-25T10:36:55.661Z"
   },
   {
    "duration": 459,
    "start_time": "2021-08-25T10:36:55.669Z"
   },
   {
    "duration": 7,
    "start_time": "2021-08-25T10:37:53.001Z"
   },
   {
    "duration": 7,
    "start_time": "2021-08-25T10:38:02.683Z"
   },
   {
    "duration": 1672,
    "start_time": "2021-08-25T10:38:02.694Z"
   },
   {
    "duration": 33,
    "start_time": "2021-08-25T10:38:04.370Z"
   },
   {
    "duration": 393,
    "start_time": "2021-08-25T10:38:04.407Z"
   },
   {
    "duration": 284,
    "start_time": "2021-08-25T10:38:04.803Z"
   },
   {
    "duration": 460,
    "start_time": "2021-08-25T10:38:05.090Z"
   },
   {
    "duration": 815,
    "start_time": "2021-08-25T10:38:05.553Z"
   },
   {
    "duration": 969,
    "start_time": "2021-08-25T10:38:06.371Z"
   },
   {
    "duration": 15,
    "start_time": "2021-08-25T10:38:07.346Z"
   },
   {
    "duration": 59,
    "start_time": "2021-08-25T10:38:07.385Z"
   },
   {
    "duration": 308,
    "start_time": "2021-08-25T10:38:07.447Z"
   },
   {
    "duration": 127,
    "start_time": "2021-08-25T10:38:07.758Z"
   },
   {
    "duration": 300,
    "start_time": "2021-08-25T10:38:07.888Z"
   },
   {
    "duration": 326,
    "start_time": "2021-08-25T10:38:08.190Z"
   },
   {
    "duration": 270,
    "start_time": "2021-08-25T10:38:08.518Z"
   },
   {
    "duration": 37,
    "start_time": "2021-08-25T10:38:08.791Z"
   },
   {
    "duration": 956,
    "start_time": "2021-08-25T10:38:08.831Z"
   },
   {
    "duration": 185,
    "start_time": "2021-08-25T10:38:09.790Z"
   },
   {
    "duration": 1374,
    "start_time": "2021-08-25T10:38:09.978Z"
   },
   {
    "duration": 182,
    "start_time": "2021-08-25T10:38:11.355Z"
   },
   {
    "duration": 5,
    "start_time": "2021-08-25T10:38:11.540Z"
   },
   {
    "duration": 189,
    "start_time": "2021-08-25T10:38:11.548Z"
   },
   {
    "duration": 4,
    "start_time": "2021-08-25T10:38:11.740Z"
   },
   {
    "duration": 1948,
    "start_time": "2021-08-25T10:38:11.747Z"
   },
   {
    "duration": 1155,
    "start_time": "2021-08-25T10:38:12.544Z"
   },
   {
    "duration": 1150,
    "start_time": "2021-08-25T10:38:12.552Z"
   },
   {
    "duration": 1149,
    "start_time": "2021-08-25T10:38:12.555Z"
   },
   {
    "duration": 1145,
    "start_time": "2021-08-25T10:38:12.561Z"
   },
   {
    "duration": 264326,
    "start_time": "2021-08-25T10:38:59.695Z"
   },
   {
    "duration": 1593,
    "start_time": "2021-08-25T11:23:31.839Z"
   },
   {
    "duration": 1234,
    "start_time": "2021-08-25T11:23:33.434Z"
   },
   {
    "duration": 31,
    "start_time": "2021-08-25T11:23:34.672Z"
   },
   {
    "duration": 180,
    "start_time": "2021-08-25T11:23:34.706Z"
   },
   {
    "duration": 167,
    "start_time": "2021-08-25T11:23:34.888Z"
   },
   {
    "duration": 358,
    "start_time": "2021-08-25T11:23:35.057Z"
   },
   {
    "duration": 604,
    "start_time": "2021-08-25T11:23:35.418Z"
   },
   {
    "duration": 837,
    "start_time": "2021-08-25T11:23:36.026Z"
   },
   {
    "duration": 19,
    "start_time": "2021-08-25T11:23:36.866Z"
   },
   {
    "duration": 49,
    "start_time": "2021-08-25T11:23:36.887Z"
   },
   {
    "duration": 222,
    "start_time": "2021-08-25T11:23:36.939Z"
   },
   {
    "duration": 87,
    "start_time": "2021-08-25T11:23:37.163Z"
   },
   {
    "duration": 305,
    "start_time": "2021-08-25T11:23:37.252Z"
   },
   {
    "duration": 255,
    "start_time": "2021-08-25T11:23:37.559Z"
   },
   {
    "duration": 271,
    "start_time": "2021-08-25T11:23:37.816Z"
   },
   {
    "duration": 39,
    "start_time": "2021-08-25T11:23:38.090Z"
   },
   {
    "duration": 1053,
    "start_time": "2021-08-25T11:23:38.132Z"
   },
   {
    "duration": 190,
    "start_time": "2021-08-25T11:23:39.188Z"
   },
   {
    "duration": 957,
    "start_time": "2021-08-25T11:23:39.380Z"
   },
   {
    "duration": 188,
    "start_time": "2021-08-25T11:23:40.341Z"
   },
   {
    "duration": 6,
    "start_time": "2021-08-25T11:23:40.531Z"
   },
   {
    "duration": 189,
    "start_time": "2021-08-25T11:23:40.541Z"
   },
   {
    "duration": 3,
    "start_time": "2021-08-25T11:23:40.734Z"
   },
   {
    "duration": 11716,
    "start_time": "2021-08-25T11:23:40.740Z"
   },
   {
    "duration": 6233,
    "start_time": "2021-08-25T11:23:52.458Z"
   },
   {
    "duration": 1592,
    "start_time": "2021-08-25T11:25:56.538Z"
   },
   {
    "duration": 1142,
    "start_time": "2021-08-25T11:25:58.132Z"
   },
   {
    "duration": 28,
    "start_time": "2021-08-25T11:25:59.276Z"
   },
   {
    "duration": 183,
    "start_time": "2021-08-25T11:25:59.307Z"
   },
   {
    "duration": 202,
    "start_time": "2021-08-25T11:25:59.492Z"
   },
   {
    "duration": 367,
    "start_time": "2021-08-25T11:25:59.697Z"
   },
   {
    "duration": 718,
    "start_time": "2021-08-25T11:26:00.067Z"
   },
   {
    "duration": 820,
    "start_time": "2021-08-25T11:26:00.789Z"
   },
   {
    "duration": 11,
    "start_time": "2021-08-25T11:26:01.612Z"
   },
   {
    "duration": 67,
    "start_time": "2021-08-25T11:26:01.626Z"
   },
   {
    "duration": 259,
    "start_time": "2021-08-25T11:26:01.696Z"
   },
   {
    "duration": 91,
    "start_time": "2021-08-25T11:26:01.958Z"
   },
   {
    "duration": 303,
    "start_time": "2021-08-25T11:26:02.051Z"
   },
   {
    "duration": 267,
    "start_time": "2021-08-25T11:26:02.358Z"
   },
   {
    "duration": 278,
    "start_time": "2021-08-25T11:26:02.627Z"
   },
   {
    "duration": 38,
    "start_time": "2021-08-25T11:26:02.908Z"
   },
   {
    "duration": 853,
    "start_time": "2021-08-25T11:26:02.948Z"
   },
   {
    "duration": 193,
    "start_time": "2021-08-25T11:26:03.803Z"
   },
   {
    "duration": 916,
    "start_time": "2021-08-25T11:26:03.999Z"
   },
   {
    "duration": 190,
    "start_time": "2021-08-25T11:26:04.917Z"
   },
   {
    "duration": 4,
    "start_time": "2021-08-25T11:26:05.110Z"
   },
   {
    "duration": 190,
    "start_time": "2021-08-25T11:26:05.117Z"
   },
   {
    "duration": 4,
    "start_time": "2021-08-25T11:26:05.311Z"
   },
   {
    "duration": 12096,
    "start_time": "2021-08-25T11:26:05.317Z"
   },
   {
    "duration": 5878,
    "start_time": "2021-08-25T11:26:17.415Z"
   },
   {
    "duration": 235316,
    "start_time": "2021-08-25T11:26:23.296Z"
   },
   {
    "duration": 22684,
    "start_time": "2021-08-25T11:30:18.615Z"
   },
   {
    "duration": 366,
    "start_time": "2021-08-25T11:30:41.302Z"
   },
   {
    "duration": 9665,
    "start_time": "2021-08-25T11:38:04.328Z"
   },
   {
    "duration": 9350,
    "start_time": "2021-08-25T11:38:37.584Z"
   },
   {
    "duration": 20,
    "start_time": "2021-08-25T11:38:52.866Z"
   },
   {
    "duration": 219,
    "start_time": "2021-08-25T11:46:29.839Z"
   },
   {
    "duration": 30791,
    "start_time": "2021-08-25T11:46:48.369Z"
   },
   {
    "duration": 1116,
    "start_time": "2021-08-26T06:46:55.485Z"
   },
   {
    "duration": 775,
    "start_time": "2021-08-26T06:46:56.602Z"
   },
   {
    "duration": 16,
    "start_time": "2021-08-26T06:46:57.379Z"
   },
   {
    "duration": 127,
    "start_time": "2021-08-26T06:46:57.397Z"
   },
   {
    "duration": 128,
    "start_time": "2021-08-26T06:46:57.525Z"
   },
   {
    "duration": 248,
    "start_time": "2021-08-26T06:46:57.656Z"
   },
   {
    "duration": 360,
    "start_time": "2021-08-26T06:46:57.905Z"
   },
   {
    "duration": 421,
    "start_time": "2021-08-26T06:46:58.267Z"
   },
   {
    "duration": 8,
    "start_time": "2021-08-26T06:46:58.690Z"
   },
   {
    "duration": 45,
    "start_time": "2021-08-26T06:46:58.700Z"
   },
   {
    "duration": 136,
    "start_time": "2021-08-26T06:46:58.748Z"
   },
   {
    "duration": 66,
    "start_time": "2021-08-26T06:46:58.886Z"
   },
   {
    "duration": 179,
    "start_time": "2021-08-26T06:46:58.954Z"
   },
   {
    "duration": 162,
    "start_time": "2021-08-26T06:46:59.135Z"
   },
   {
    "duration": 166,
    "start_time": "2021-08-26T06:46:59.298Z"
   },
   {
    "duration": 26,
    "start_time": "2021-08-26T06:46:59.466Z"
   },
   {
    "duration": 450,
    "start_time": "2021-08-26T06:46:59.493Z"
   },
   {
    "duration": 165,
    "start_time": "2021-08-26T06:46:59.945Z"
   },
   {
    "duration": 619,
    "start_time": "2021-08-26T06:47:00.112Z"
   },
   {
    "duration": 136,
    "start_time": "2021-08-26T06:47:00.733Z"
   },
   {
    "duration": 3,
    "start_time": "2021-08-26T06:47:00.871Z"
   },
   {
    "duration": 124,
    "start_time": "2021-08-26T06:47:00.875Z"
   },
   {
    "duration": 2,
    "start_time": "2021-08-26T06:47:01.002Z"
   },
   {
    "duration": 29936,
    "start_time": "2021-08-26T06:47:01.006Z"
   },
   {
    "duration": 179110,
    "start_time": "2021-08-26T06:47:30.945Z"
   },
   {
    "duration": 20385,
    "start_time": "2021-08-26T06:50:30.057Z"
   },
   {
    "duration": 25602,
    "start_time": "2021-08-26T06:50:50.444Z"
   },
   {
    "duration": 17,
    "start_time": "2021-08-26T06:51:16.048Z"
   },
   {
    "duration": 27661,
    "start_time": "2021-08-26T06:54:24.051Z"
   },
   {
    "duration": 16,
    "start_time": "2021-08-26T06:54:51.714Z"
   },
   {
    "duration": 4,
    "start_time": "2021-08-26T06:55:30.055Z"
   },
   {
    "duration": 784,
    "start_time": "2021-08-26T06:55:30.063Z"
   },
   {
    "duration": 16,
    "start_time": "2021-08-26T06:55:30.851Z"
   },
   {
    "duration": 128,
    "start_time": "2021-08-26T06:55:30.869Z"
   },
   {
    "duration": 125,
    "start_time": "2021-08-26T06:55:30.999Z"
   },
   {
    "duration": 254,
    "start_time": "2021-08-26T06:55:31.126Z"
   },
   {
    "duration": 330,
    "start_time": "2021-08-26T06:55:31.382Z"
   },
   {
    "duration": 524,
    "start_time": "2021-08-26T06:55:31.713Z"
   },
   {
    "duration": 11,
    "start_time": "2021-08-26T06:55:32.239Z"
   },
   {
    "duration": 30,
    "start_time": "2021-08-26T06:55:32.255Z"
   },
   {
    "duration": 148,
    "start_time": "2021-08-26T06:55:32.287Z"
   },
   {
    "duration": 66,
    "start_time": "2021-08-26T06:55:32.437Z"
   },
   {
    "duration": 252,
    "start_time": "2021-08-26T06:55:32.505Z"
   },
   {
    "duration": 162,
    "start_time": "2021-08-26T06:55:32.759Z"
   },
   {
    "duration": 169,
    "start_time": "2021-08-26T06:55:32.922Z"
   },
   {
    "duration": 26,
    "start_time": "2021-08-26T06:55:33.092Z"
   },
   {
    "duration": 489,
    "start_time": "2021-08-26T06:55:33.120Z"
   },
   {
    "duration": 160,
    "start_time": "2021-08-26T06:55:33.611Z"
   },
   {
    "duration": 618,
    "start_time": "2021-08-26T06:55:33.773Z"
   },
   {
    "duration": 136,
    "start_time": "2021-08-26T06:55:34.393Z"
   },
   {
    "duration": 3,
    "start_time": "2021-08-26T06:55:34.531Z"
   },
   {
    "duration": 121,
    "start_time": "2021-08-26T06:55:34.542Z"
   },
   {
    "duration": 2,
    "start_time": "2021-08-26T06:55:34.664Z"
   },
   {
    "duration": 21988,
    "start_time": "2021-08-26T06:55:34.668Z"
   },
   {
    "duration": 179602,
    "start_time": "2021-08-26T06:55:56.658Z"
   },
   {
    "duration": 29079,
    "start_time": "2021-08-26T06:58:56.262Z"
   },
   {
    "duration": 26500,
    "start_time": "2021-08-26T06:59:25.343Z"
   },
   {
    "duration": 21,
    "start_time": "2021-08-26T06:59:51.847Z"
   },
   {
    "duration": 26441,
    "start_time": "2021-08-26T07:03:40.223Z"
   },
   {
    "duration": 19,
    "start_time": "2021-08-26T07:04:06.666Z"
   },
   {
    "duration": 3,
    "start_time": "2021-08-26T07:05:11.885Z"
   },
   {
    "duration": 783,
    "start_time": "2021-08-26T07:05:11.890Z"
   },
   {
    "duration": 14,
    "start_time": "2021-08-26T07:05:12.675Z"
   },
   {
    "duration": 142,
    "start_time": "2021-08-26T07:05:12.691Z"
   },
   {
    "duration": 135,
    "start_time": "2021-08-26T07:05:12.834Z"
   },
   {
    "duration": 245,
    "start_time": "2021-08-26T07:05:12.971Z"
   },
   {
    "duration": 363,
    "start_time": "2021-08-26T07:05:13.218Z"
   },
   {
    "duration": 453,
    "start_time": "2021-08-26T07:05:13.582Z"
   },
   {
    "duration": 11,
    "start_time": "2021-08-26T07:05:14.042Z"
   },
   {
    "duration": 32,
    "start_time": "2021-08-26T07:05:14.056Z"
   },
   {
    "duration": 202,
    "start_time": "2021-08-26T07:05:14.090Z"
   },
   {
    "duration": 98,
    "start_time": "2021-08-26T07:05:14.294Z"
   },
   {
    "duration": 267,
    "start_time": "2021-08-26T07:05:14.394Z"
   },
   {
    "duration": 161,
    "start_time": "2021-08-26T07:05:14.663Z"
   },
   {
    "duration": 175,
    "start_time": "2021-08-26T07:05:14.826Z"
   },
   {
    "duration": 40,
    "start_time": "2021-08-26T07:05:15.003Z"
   },
   {
    "duration": 499,
    "start_time": "2021-08-26T07:05:15.045Z"
   },
   {
    "duration": 160,
    "start_time": "2021-08-26T07:05:15.545Z"
   },
   {
    "duration": 586,
    "start_time": "2021-08-26T07:05:15.707Z"
   },
   {
    "duration": 131,
    "start_time": "2021-08-26T07:05:16.295Z"
   },
   {
    "duration": 3,
    "start_time": "2021-08-26T07:05:16.428Z"
   },
   {
    "duration": 137,
    "start_time": "2021-08-26T07:05:16.441Z"
   },
   {
    "duration": 2,
    "start_time": "2021-08-26T07:05:16.580Z"
   },
   {
    "duration": 35368,
    "start_time": "2021-08-26T07:05:16.584Z"
   },
   {
    "duration": 177170,
    "start_time": "2021-08-26T07:05:51.954Z"
   },
   {
    "duration": 25021,
    "start_time": "2021-08-26T07:08:49.126Z"
   },
   {
    "duration": 25855,
    "start_time": "2021-08-26T07:09:14.155Z"
   },
   {
    "duration": 14,
    "start_time": "2021-08-26T07:09:40.012Z"
   },
   {
    "duration": 91,
    "start_time": "2021-08-26T08:34:50.160Z"
   },
   {
    "duration": 10014,
    "start_time": "2021-08-26T08:34:58.850Z"
   },
   {
    "duration": 3,
    "start_time": "2021-08-26T08:35:16.000Z"
   },
   {
    "duration": 10171,
    "start_time": "2021-08-26T08:35:17.370Z"
   },
   {
    "duration": 18078,
    "start_time": "2021-08-26T08:36:27.471Z"
   },
   {
    "duration": 4,
    "start_time": "2021-08-26T08:39:14.067Z"
   },
   {
    "duration": 733,
    "start_time": "2021-08-26T08:39:14.076Z"
   },
   {
    "duration": 13,
    "start_time": "2021-08-26T08:39:14.811Z"
   },
   {
    "duration": 128,
    "start_time": "2021-08-26T08:39:14.826Z"
   },
   {
    "duration": 125,
    "start_time": "2021-08-26T08:39:14.956Z"
   },
   {
    "duration": 263,
    "start_time": "2021-08-26T08:39:15.083Z"
   },
   {
    "duration": 383,
    "start_time": "2021-08-26T08:39:15.348Z"
   },
   {
    "duration": 430,
    "start_time": "2021-08-26T08:39:15.733Z"
   },
   {
    "duration": 8,
    "start_time": "2021-08-26T08:39:16.165Z"
   },
   {
    "duration": 32,
    "start_time": "2021-08-26T08:39:16.175Z"
   },
   {
    "duration": 162,
    "start_time": "2021-08-26T08:39:16.209Z"
   },
   {
    "duration": 74,
    "start_time": "2021-08-26T08:39:16.372Z"
   },
   {
    "duration": 189,
    "start_time": "2021-08-26T08:39:16.448Z"
   },
   {
    "duration": 170,
    "start_time": "2021-08-26T08:39:16.639Z"
   },
   {
    "duration": 172,
    "start_time": "2021-08-26T08:39:16.811Z"
   },
   {
    "duration": 28,
    "start_time": "2021-08-26T08:39:16.985Z"
   },
   {
    "duration": 490,
    "start_time": "2021-08-26T08:39:17.015Z"
   },
   {
    "duration": 160,
    "start_time": "2021-08-26T08:39:17.506Z"
   },
   {
    "duration": 582,
    "start_time": "2021-08-26T08:39:17.668Z"
   },
   {
    "duration": 131,
    "start_time": "2021-08-26T08:39:18.251Z"
   },
   {
    "duration": 3,
    "start_time": "2021-08-26T08:39:18.384Z"
   },
   {
    "duration": 127,
    "start_time": "2021-08-26T08:39:18.389Z"
   },
   {
    "duration": 3,
    "start_time": "2021-08-26T08:39:18.517Z"
   },
   {
    "duration": 9524,
    "start_time": "2021-08-26T08:39:18.521Z"
   },
   {
    "duration": 178584,
    "start_time": "2021-08-26T08:39:28.046Z"
   },
   {
    "duration": 26829,
    "start_time": "2021-08-26T08:42:26.631Z"
   },
   {
    "duration": 26568,
    "start_time": "2021-08-26T08:42:53.462Z"
   },
   {
    "duration": 24,
    "start_time": "2021-08-26T08:43:20.033Z"
   },
   {
    "duration": 4,
    "start_time": "2021-08-26T08:45:17.994Z"
   },
   {
    "duration": 819,
    "start_time": "2021-08-26T08:45:18.000Z"
   },
   {
    "duration": 22,
    "start_time": "2021-08-26T08:45:18.821Z"
   },
   {
    "duration": 135,
    "start_time": "2021-08-26T08:45:18.846Z"
   },
   {
    "duration": 129,
    "start_time": "2021-08-26T08:45:18.983Z"
   },
   {
    "duration": 279,
    "start_time": "2021-08-26T08:45:19.114Z"
   },
   {
    "duration": 366,
    "start_time": "2021-08-26T08:45:19.394Z"
   },
   {
    "duration": 472,
    "start_time": "2021-08-26T08:45:19.762Z"
   },
   {
    "duration": 19,
    "start_time": "2021-08-26T08:45:20.237Z"
   },
   {
    "duration": 31,
    "start_time": "2021-08-26T08:45:20.259Z"
   },
   {
    "duration": 167,
    "start_time": "2021-08-26T08:45:20.292Z"
   },
   {
    "duration": 64,
    "start_time": "2021-08-26T08:45:20.461Z"
   },
   {
    "duration": 215,
    "start_time": "2021-08-26T08:45:20.526Z"
   },
   {
    "duration": 171,
    "start_time": "2021-08-26T08:45:20.744Z"
   },
   {
    "duration": 183,
    "start_time": "2021-08-26T08:45:20.918Z"
   },
   {
    "duration": 43,
    "start_time": "2021-08-26T08:45:21.103Z"
   },
   {
    "duration": 509,
    "start_time": "2021-08-26T08:45:21.152Z"
   },
   {
    "duration": 159,
    "start_time": "2021-08-26T08:45:21.663Z"
   },
   {
    "duration": 604,
    "start_time": "2021-08-26T08:45:21.824Z"
   },
   {
    "duration": 144,
    "start_time": "2021-08-26T08:45:22.430Z"
   },
   {
    "duration": 4,
    "start_time": "2021-08-26T08:45:22.576Z"
   },
   {
    "duration": 155,
    "start_time": "2021-08-26T08:45:22.581Z"
   },
   {
    "duration": 11,
    "start_time": "2021-08-26T08:45:22.737Z"
   },
   {
    "duration": 32205,
    "start_time": "2021-08-26T08:45:22.751Z"
   },
   {
    "duration": 184502,
    "start_time": "2021-08-26T08:45:54.958Z"
   },
   {
    "duration": 26782,
    "start_time": "2021-08-26T08:48:59.462Z"
   },
   {
    "duration": 27340,
    "start_time": "2021-08-26T08:49:26.257Z"
   },
   {
    "duration": 16,
    "start_time": "2021-08-26T08:49:53.599Z"
   },
   {
    "duration": 207,
    "start_time": "2021-08-26T09:03:50.022Z"
   },
   {
    "duration": 4,
    "start_time": "2021-08-26T09:04:09.833Z"
   },
   {
    "duration": 26377,
    "start_time": "2021-08-26T09:04:21.076Z"
   },
   {
    "duration": 4,
    "start_time": "2021-08-26T09:04:56.285Z"
   },
   {
    "duration": 937,
    "start_time": "2021-08-26T09:04:56.291Z"
   },
   {
    "duration": 25,
    "start_time": "2021-08-26T09:04:57.230Z"
   },
   {
    "duration": 135,
    "start_time": "2021-08-26T09:04:57.257Z"
   },
   {
    "duration": 273,
    "start_time": "2021-08-26T09:04:57.394Z"
   },
   {
    "duration": 312,
    "start_time": "2021-08-26T09:04:57.669Z"
   },
   {
    "duration": 461,
    "start_time": "2021-08-26T09:04:57.984Z"
   },
   {
    "duration": 496,
    "start_time": "2021-08-26T09:04:58.447Z"
   },
   {
    "duration": 10,
    "start_time": "2021-08-26T09:04:58.946Z"
   },
   {
    "duration": 32,
    "start_time": "2021-08-26T09:04:58.958Z"
   },
   {
    "duration": 165,
    "start_time": "2021-08-26T09:04:58.992Z"
   },
   {
    "duration": 61,
    "start_time": "2021-08-26T09:04:59.159Z"
   },
   {
    "duration": 205,
    "start_time": "2021-08-26T09:04:59.222Z"
   },
   {
    "duration": 172,
    "start_time": "2021-08-26T09:04:59.429Z"
   },
   {
    "duration": 184,
    "start_time": "2021-08-26T09:04:59.602Z"
   },
   {
    "duration": 28,
    "start_time": "2021-08-26T09:04:59.788Z"
   },
   {
    "duration": 603,
    "start_time": "2021-08-26T09:04:59.818Z"
   },
   {
    "duration": 162,
    "start_time": "2021-08-26T09:05:00.423Z"
   },
   {
    "duration": 638,
    "start_time": "2021-08-26T09:05:00.588Z"
   },
   {
    "duration": 151,
    "start_time": "2021-08-26T09:05:01.228Z"
   },
   {
    "duration": 3,
    "start_time": "2021-08-26T09:05:01.381Z"
   },
   {
    "duration": 161,
    "start_time": "2021-08-26T09:05:01.386Z"
   },
   {
    "duration": 3,
    "start_time": "2021-08-26T09:05:01.549Z"
   },
   {
    "duration": 35006,
    "start_time": "2021-08-26T09:05:01.554Z"
   },
   {
    "duration": 184118,
    "start_time": "2021-08-26T09:05:36.562Z"
   },
   {
    "duration": 28158,
    "start_time": "2021-08-26T09:08:40.682Z"
   },
   {
    "duration": 27234,
    "start_time": "2021-08-26T09:09:08.844Z"
   },
   {
    "duration": 17,
    "start_time": "2021-08-26T09:09:36.080Z"
   },
   {
    "duration": 5,
    "start_time": "2021-08-26T09:12:12.363Z"
   },
   {
    "duration": 810,
    "start_time": "2021-08-26T09:12:12.370Z"
   },
   {
    "duration": 14,
    "start_time": "2021-08-26T09:12:13.182Z"
   },
   {
    "duration": 143,
    "start_time": "2021-08-26T09:12:13.198Z"
   },
   {
    "duration": 141,
    "start_time": "2021-08-26T09:12:13.342Z"
   },
   {
    "duration": 286,
    "start_time": "2021-08-26T09:12:13.485Z"
   },
   {
    "duration": 405,
    "start_time": "2021-08-26T09:12:13.774Z"
   },
   {
    "duration": 542,
    "start_time": "2021-08-26T09:12:14.181Z"
   },
   {
    "duration": 30,
    "start_time": "2021-08-26T09:12:14.726Z"
   },
   {
    "duration": 33,
    "start_time": "2021-08-26T09:12:14.759Z"
   },
   {
    "duration": 172,
    "start_time": "2021-08-26T09:12:14.793Z"
   },
   {
    "duration": 62,
    "start_time": "2021-08-26T09:12:14.967Z"
   },
   {
    "duration": 214,
    "start_time": "2021-08-26T09:12:15.031Z"
   },
   {
    "duration": 178,
    "start_time": "2021-08-26T09:12:15.247Z"
   },
   {
    "duration": 263,
    "start_time": "2021-08-26T09:12:15.427Z"
   },
   {
    "duration": 29,
    "start_time": "2021-08-26T09:12:15.692Z"
   },
   {
    "duration": 606,
    "start_time": "2021-08-26T09:12:15.723Z"
   },
   {
    "duration": 161,
    "start_time": "2021-08-26T09:12:16.331Z"
   },
   {
    "duration": 630,
    "start_time": "2021-08-26T09:12:16.495Z"
   },
   {
    "duration": 152,
    "start_time": "2021-08-26T09:12:17.128Z"
   },
   {
    "duration": 4,
    "start_time": "2021-08-26T09:12:17.281Z"
   },
   {
    "duration": 134,
    "start_time": "2021-08-26T09:12:17.287Z"
   },
   {
    "duration": 2,
    "start_time": "2021-08-26T09:12:17.423Z"
   },
   {
    "duration": 41634,
    "start_time": "2021-08-26T09:12:17.427Z"
   },
   {
    "duration": 186823,
    "start_time": "2021-08-26T09:12:59.063Z"
   },
   {
    "duration": 26656,
    "start_time": "2021-08-26T09:16:05.888Z"
   },
   {
    "duration": 26979,
    "start_time": "2021-08-26T09:16:32.551Z"
   },
   {
    "duration": 32,
    "start_time": "2021-08-26T09:16:59.532Z"
   },
   {
    "duration": 4,
    "start_time": "2021-08-26T09:22:24.706Z"
   },
   {
    "duration": 805,
    "start_time": "2021-08-26T09:22:24.712Z"
   },
   {
    "duration": 15,
    "start_time": "2021-08-26T09:22:25.520Z"
   },
   {
    "duration": 144,
    "start_time": "2021-08-26T09:22:25.541Z"
   },
   {
    "duration": 139,
    "start_time": "2021-08-26T09:22:25.686Z"
   },
   {
    "duration": 276,
    "start_time": "2021-08-26T09:22:25.827Z"
   },
   {
    "duration": 375,
    "start_time": "2021-08-26T09:22:26.105Z"
   },
   {
    "duration": 446,
    "start_time": "2021-08-26T09:22:26.482Z"
   },
   {
    "duration": 15,
    "start_time": "2021-08-26T09:22:26.930Z"
   },
   {
    "duration": 30,
    "start_time": "2021-08-26T09:22:26.949Z"
   },
   {
    "duration": 168,
    "start_time": "2021-08-26T09:22:26.982Z"
   },
   {
    "duration": 64,
    "start_time": "2021-08-26T09:22:27.153Z"
   },
   {
    "duration": 212,
    "start_time": "2021-08-26T09:22:27.218Z"
   },
   {
    "duration": 157,
    "start_time": "2021-08-26T09:22:27.432Z"
   },
   {
    "duration": 180,
    "start_time": "2021-08-26T09:22:27.590Z"
   },
   {
    "duration": 28,
    "start_time": "2021-08-26T09:22:27.773Z"
   },
   {
    "duration": 505,
    "start_time": "2021-08-26T09:22:27.803Z"
   },
   {
    "duration": 157,
    "start_time": "2021-08-26T09:22:28.309Z"
   },
   {
    "duration": 669,
    "start_time": "2021-08-26T09:22:28.467Z"
   },
   {
    "duration": 146,
    "start_time": "2021-08-26T09:22:29.137Z"
   },
   {
    "duration": 4,
    "start_time": "2021-08-26T09:22:29.285Z"
   },
   {
    "duration": 143,
    "start_time": "2021-08-26T09:22:29.292Z"
   },
   {
    "duration": 4,
    "start_time": "2021-08-26T09:22:29.437Z"
   },
   {
    "duration": 35425,
    "start_time": "2021-08-26T09:22:29.443Z"
   },
   {
    "duration": 188157,
    "start_time": "2021-08-26T09:23:04.871Z"
   },
   {
    "duration": 27724,
    "start_time": "2021-08-26T09:26:13.029Z"
   },
   {
    "duration": 26782,
    "start_time": "2021-08-26T09:26:40.757Z"
   },
   {
    "duration": 27,
    "start_time": "2021-08-26T09:27:07.542Z"
   },
   {
    "duration": 26419,
    "start_time": "2021-08-26T09:31:05.618Z"
   },
   {
    "duration": 28,
    "start_time": "2021-08-26T09:31:32.039Z"
   },
   {
    "duration": 4,
    "start_time": "2021-08-26T09:33:43.875Z"
   },
   {
    "duration": 831,
    "start_time": "2021-08-26T09:33:43.882Z"
   },
   {
    "duration": 14,
    "start_time": "2021-08-26T09:33:44.716Z"
   },
   {
    "duration": 141,
    "start_time": "2021-08-26T09:33:44.741Z"
   },
   {
    "duration": 130,
    "start_time": "2021-08-26T09:33:44.884Z"
   },
   {
    "duration": 301,
    "start_time": "2021-08-26T09:33:45.016Z"
   },
   {
    "duration": 556,
    "start_time": "2021-08-26T09:33:45.320Z"
   },
   {
    "duration": 439,
    "start_time": "2021-08-26T09:33:45.877Z"
   },
   {
    "duration": 8,
    "start_time": "2021-08-26T09:33:46.319Z"
   },
   {
    "duration": 47,
    "start_time": "2021-08-26T09:33:46.329Z"
   },
   {
    "duration": 158,
    "start_time": "2021-08-26T09:33:46.377Z"
   },
   {
    "duration": 72,
    "start_time": "2021-08-26T09:33:46.536Z"
   },
   {
    "duration": 227,
    "start_time": "2021-08-26T09:33:46.610Z"
   },
   {
    "duration": 177,
    "start_time": "2021-08-26T09:33:46.839Z"
   },
   {
    "duration": 169,
    "start_time": "2021-08-26T09:33:47.018Z"
   },
   {
    "duration": 26,
    "start_time": "2021-08-26T09:33:47.189Z"
   },
   {
    "duration": 515,
    "start_time": "2021-08-26T09:33:47.217Z"
   },
   {
    "duration": 170,
    "start_time": "2021-08-26T09:33:47.733Z"
   },
   {
    "duration": 625,
    "start_time": "2021-08-26T09:33:47.904Z"
   },
   {
    "duration": 159,
    "start_time": "2021-08-26T09:33:48.530Z"
   },
   {
    "duration": 4,
    "start_time": "2021-08-26T09:33:48.691Z"
   },
   {
    "duration": 139,
    "start_time": "2021-08-26T09:33:48.697Z"
   },
   {
    "duration": 3,
    "start_time": "2021-08-26T09:33:48.840Z"
   },
   {
    "duration": 37989,
    "start_time": "2021-08-26T09:33:48.862Z"
   },
   {
    "duration": 190712,
    "start_time": "2021-08-26T09:34:26.854Z"
   },
   {
    "duration": 24582,
    "start_time": "2021-08-26T09:37:37.567Z"
   },
   {
    "duration": 27076,
    "start_time": "2021-08-26T09:38:02.154Z"
   },
   {
    "duration": 32,
    "start_time": "2021-08-26T09:38:29.232Z"
   },
   {
    "duration": 4398,
    "start_time": "2021-08-26T10:00:19.594Z"
   },
   {
    "duration": 4366,
    "start_time": "2021-08-26T10:02:20.793Z"
   },
   {
    "duration": 4213,
    "start_time": "2021-08-26T10:02:35.602Z"
   },
   {
    "duration": 601,
    "start_time": "2021-08-26T10:09:04.165Z"
   },
   {
    "duration": 5,
    "start_time": "2021-08-26T10:09:23.645Z"
   },
   {
    "duration": 4,
    "start_time": "2021-08-26T10:09:46.474Z"
   },
   {
    "duration": 5,
    "start_time": "2021-08-26T10:09:51.133Z"
   },
   {
    "duration": 4,
    "start_time": "2021-08-26T10:16:39.406Z"
   },
   {
    "duration": 738,
    "start_time": "2021-08-26T10:16:39.412Z"
   },
   {
    "duration": 13,
    "start_time": "2021-08-26T10:16:40.153Z"
   },
   {
    "duration": 128,
    "start_time": "2021-08-26T10:16:40.168Z"
   },
   {
    "duration": 119,
    "start_time": "2021-08-26T10:16:40.298Z"
   },
   {
    "duration": 258,
    "start_time": "2021-08-26T10:16:40.419Z"
   },
   {
    "duration": 321,
    "start_time": "2021-08-26T10:16:40.679Z"
   },
   {
    "duration": 410,
    "start_time": "2021-08-26T10:16:41.003Z"
   },
   {
    "duration": 9,
    "start_time": "2021-08-26T10:16:41.415Z"
   },
   {
    "duration": 37,
    "start_time": "2021-08-26T10:16:41.426Z"
   },
   {
    "duration": 144,
    "start_time": "2021-08-26T10:16:41.465Z"
   },
   {
    "duration": 70,
    "start_time": "2021-08-26T10:16:41.611Z"
   },
   {
    "duration": 194,
    "start_time": "2021-08-26T10:16:41.682Z"
   },
   {
    "duration": 227,
    "start_time": "2021-08-26T10:16:41.878Z"
   },
   {
    "duration": 169,
    "start_time": "2021-08-26T10:16:42.107Z"
   },
   {
    "duration": 28,
    "start_time": "2021-08-26T10:16:42.278Z"
   },
   {
    "duration": 449,
    "start_time": "2021-08-26T10:16:42.307Z"
   },
   {
    "duration": 156,
    "start_time": "2021-08-26T10:16:42.757Z"
   },
   {
    "duration": 647,
    "start_time": "2021-08-26T10:16:42.915Z"
   },
   {
    "duration": 132,
    "start_time": "2021-08-26T10:16:43.564Z"
   },
   {
    "duration": 3,
    "start_time": "2021-08-26T10:16:43.698Z"
   },
   {
    "duration": 130,
    "start_time": "2021-08-26T10:16:43.703Z"
   },
   {
    "duration": 5,
    "start_time": "2021-08-26T10:16:43.836Z"
   },
   {
    "duration": 10003,
    "start_time": "2021-08-26T10:16:43.843Z"
   },
   {
    "duration": 177037,
    "start_time": "2021-08-26T10:16:53.848Z"
   },
   {
    "duration": 18357,
    "start_time": "2021-08-26T10:19:50.887Z"
   },
   {
    "duration": 25016,
    "start_time": "2021-08-26T10:20:09.247Z"
   },
   {
    "duration": 18,
    "start_time": "2021-08-26T10:20:34.264Z"
   },
   {
    "duration": 4149,
    "start_time": "2021-08-26T10:20:34.284Z"
   },
   {
    "duration": 1280,
    "start_time": "2021-08-26T10:23:02.441Z"
   },
   {
    "duration": 901,
    "start_time": "2021-08-26T10:23:03.723Z"
   },
   {
    "duration": 23,
    "start_time": "2021-08-26T10:23:04.626Z"
   },
   {
    "duration": 145,
    "start_time": "2021-08-26T10:23:04.651Z"
   },
   {
    "duration": 130,
    "start_time": "2021-08-26T10:23:04.798Z"
   },
   {
    "duration": 271,
    "start_time": "2021-08-26T10:23:04.930Z"
   },
   {
    "duration": 392,
    "start_time": "2021-08-26T10:23:05.203Z"
   },
   {
    "duration": 446,
    "start_time": "2021-08-26T10:23:05.597Z"
   },
   {
    "duration": 14,
    "start_time": "2021-08-26T10:23:06.046Z"
   },
   {
    "duration": 30,
    "start_time": "2021-08-26T10:23:06.063Z"
   },
   {
    "duration": 154,
    "start_time": "2021-08-26T10:23:06.095Z"
   },
   {
    "duration": 64,
    "start_time": "2021-08-26T10:23:06.251Z"
   },
   {
    "duration": 211,
    "start_time": "2021-08-26T10:23:06.317Z"
   },
   {
    "duration": 162,
    "start_time": "2021-08-26T10:23:06.530Z"
   },
   {
    "duration": 175,
    "start_time": "2021-08-26T10:23:06.694Z"
   },
   {
    "duration": 30,
    "start_time": "2021-08-26T10:23:06.871Z"
   },
   {
    "duration": 483,
    "start_time": "2021-08-26T10:23:06.903Z"
   },
   {
    "duration": 160,
    "start_time": "2021-08-26T10:23:07.388Z"
   },
   {
    "duration": 622,
    "start_time": "2021-08-26T10:23:07.549Z"
   },
   {
    "duration": 139,
    "start_time": "2021-08-26T10:23:08.173Z"
   },
   {
    "duration": 4,
    "start_time": "2021-08-26T10:23:08.313Z"
   },
   {
    "duration": 176,
    "start_time": "2021-08-26T10:23:08.319Z"
   },
   {
    "duration": 3,
    "start_time": "2021-08-26T10:23:08.497Z"
   },
   {
    "duration": 9451,
    "start_time": "2021-08-26T10:23:08.501Z"
   },
   {
    "duration": 180379,
    "start_time": "2021-08-26T10:23:17.954Z"
   },
   {
    "duration": 18011,
    "start_time": "2021-08-26T10:26:18.335Z"
   },
   {
    "duration": 25347,
    "start_time": "2021-08-26T10:26:36.351Z"
   },
   {
    "duration": 18,
    "start_time": "2021-08-26T10:27:01.700Z"
   },
   {
    "duration": 4258,
    "start_time": "2021-08-26T10:27:01.720Z"
   },
   {
    "duration": 1266,
    "start_time": "2021-08-26T10:28:05.556Z"
   },
   {
    "duration": 930,
    "start_time": "2021-08-26T10:28:06.824Z"
   },
   {
    "duration": 20,
    "start_time": "2021-08-26T10:28:07.756Z"
   },
   {
    "duration": 135,
    "start_time": "2021-08-26T10:28:07.778Z"
   },
   {
    "duration": 134,
    "start_time": "2021-08-26T10:28:07.915Z"
   },
   {
    "duration": 281,
    "start_time": "2021-08-26T10:28:08.051Z"
   },
   {
    "duration": 408,
    "start_time": "2021-08-26T10:28:08.334Z"
   },
   {
    "duration": 518,
    "start_time": "2021-08-26T10:28:08.744Z"
   },
   {
    "duration": 14,
    "start_time": "2021-08-26T10:28:09.264Z"
   },
   {
    "duration": 36,
    "start_time": "2021-08-26T10:28:09.279Z"
   },
   {
    "duration": 153,
    "start_time": "2021-08-26T10:28:09.317Z"
   },
   {
    "duration": 70,
    "start_time": "2021-08-26T10:28:09.472Z"
   },
   {
    "duration": 191,
    "start_time": "2021-08-26T10:28:09.544Z"
   },
   {
    "duration": 164,
    "start_time": "2021-08-26T10:28:09.740Z"
   },
   {
    "duration": 161,
    "start_time": "2021-08-26T10:28:09.905Z"
   },
   {
    "duration": 29,
    "start_time": "2021-08-26T10:28:10.068Z"
   },
   {
    "duration": 468,
    "start_time": "2021-08-26T10:28:10.099Z"
   },
   {
    "duration": 154,
    "start_time": "2021-08-26T10:28:10.568Z"
   },
   {
    "duration": 587,
    "start_time": "2021-08-26T10:28:10.723Z"
   },
   {
    "duration": 138,
    "start_time": "2021-08-26T10:28:11.312Z"
   },
   {
    "duration": 4,
    "start_time": "2021-08-26T10:28:11.452Z"
   },
   {
    "duration": 133,
    "start_time": "2021-08-26T10:28:11.458Z"
   },
   {
    "duration": 3,
    "start_time": "2021-08-26T10:28:11.595Z"
   },
   {
    "duration": 11341,
    "start_time": "2021-08-26T10:28:11.600Z"
   },
   {
    "duration": 180005,
    "start_time": "2021-08-26T10:28:22.943Z"
   },
   {
    "duration": 18795,
    "start_time": "2021-08-26T10:31:22.949Z"
   },
   {
    "duration": 26021,
    "start_time": "2021-08-26T10:31:41.747Z"
   },
   {
    "duration": 18,
    "start_time": "2021-08-26T10:32:07.770Z"
   },
   {
    "duration": 4332,
    "start_time": "2021-08-26T10:32:07.790Z"
   },
   {
    "duration": 1618,
    "start_time": "2021-08-26T14:52:40.784Z"
   },
   {
    "duration": 1050,
    "start_time": "2021-08-26T14:52:42.406Z"
   },
   {
    "duration": 26,
    "start_time": "2021-08-26T15:09:11.419Z"
   },
   {
    "duration": 151,
    "start_time": "2021-08-26T15:09:12.044Z"
   },
   {
    "duration": 174,
    "start_time": "2021-08-26T15:09:12.303Z"
   },
   {
    "duration": 343,
    "start_time": "2021-08-26T15:09:14.051Z"
   },
   {
    "duration": 560,
    "start_time": "2021-08-26T15:09:14.595Z"
   },
   {
    "duration": 664,
    "start_time": "2021-08-26T15:09:15.158Z"
   },
   {
    "duration": 17,
    "start_time": "2021-08-26T15:09:15.824Z"
   },
   {
    "duration": 63,
    "start_time": "2021-08-26T15:09:15.843Z"
   },
   {
    "duration": 200,
    "start_time": "2021-08-26T15:09:16.547Z"
   },
   {
    "duration": 77,
    "start_time": "2021-08-26T15:09:16.931Z"
   },
   {
    "duration": 281,
    "start_time": "2021-08-26T15:09:17.442Z"
   },
   {
    "duration": 253,
    "start_time": "2021-08-26T15:09:17.725Z"
   },
   {
    "duration": 266,
    "start_time": "2021-08-26T15:09:17.981Z"
   },
   {
    "duration": 35,
    "start_time": "2021-08-26T15:09:18.250Z"
   },
   {
    "duration": 529,
    "start_time": "2021-08-26T15:13:51.040Z"
   },
   {
    "duration": 179,
    "start_time": "2021-08-26T15:13:52.509Z"
   },
   {
    "duration": 890,
    "start_time": "2021-08-26T15:13:52.699Z"
   },
   {
    "duration": 181,
    "start_time": "2021-08-26T15:13:53.592Z"
   },
   {
    "duration": 5,
    "start_time": "2021-08-26T15:13:54.156Z"
   },
   {
    "duration": 162,
    "start_time": "2021-08-26T15:13:54.532Z"
   },
   {
    "duration": 3,
    "start_time": "2021-08-26T15:13:54.836Z"
   },
   {
    "duration": 115,
    "start_time": "2021-08-27T05:38:43.544Z"
   },
   {
    "duration": 1491,
    "start_time": "2021-08-27T05:42:46.989Z"
   },
   {
    "duration": 6,
    "start_time": "2021-08-27T05:43:00.446Z"
   },
   {
    "duration": 1167,
    "start_time": "2021-08-27T05:43:00.454Z"
   },
   {
    "duration": 38,
    "start_time": "2021-08-27T05:43:01.624Z"
   },
   {
    "duration": 168,
    "start_time": "2021-08-27T05:43:01.665Z"
   },
   {
    "duration": 160,
    "start_time": "2021-08-27T05:43:01.835Z"
   },
   {
    "duration": 375,
    "start_time": "2021-08-27T05:43:01.997Z"
   },
   {
    "duration": 620,
    "start_time": "2021-08-27T05:43:02.375Z"
   },
   {
    "duration": 783,
    "start_time": "2021-08-27T05:43:02.999Z"
   },
   {
    "duration": 16,
    "start_time": "2021-08-27T05:43:03.785Z"
   },
   {
    "duration": 66,
    "start_time": "2021-08-27T05:43:03.804Z"
   },
   {
    "duration": 211,
    "start_time": "2021-08-27T05:43:03.873Z"
   },
   {
    "duration": 88,
    "start_time": "2021-08-27T05:43:04.086Z"
   },
   {
    "duration": 295,
    "start_time": "2021-08-27T05:43:04.176Z"
   },
   {
    "duration": 258,
    "start_time": "2021-08-27T05:43:04.473Z"
   },
   {
    "duration": 265,
    "start_time": "2021-08-27T05:43:04.734Z"
   },
   {
    "duration": 52,
    "start_time": "2021-08-27T05:43:05.002Z"
   },
   {
    "duration": 476,
    "start_time": "2021-08-27T05:43:05.057Z"
   },
   {
    "duration": 730,
    "start_time": "2021-08-27T05:45:41.651Z"
   },
   {
    "duration": 101,
    "start_time": "2021-08-27T05:49:57.588Z"
   },
   {
    "duration": 12,
    "start_time": "2021-08-27T05:51:10.948Z"
   },
   {
    "duration": 57,
    "start_time": "2021-08-27T05:51:57.848Z"
   },
   {
    "duration": 18,
    "start_time": "2021-08-27T05:52:37.856Z"
   },
   {
    "duration": 17,
    "start_time": "2021-08-27T06:00:26.516Z"
   },
   {
    "duration": 16,
    "start_time": "2021-08-27T06:07:06.740Z"
   },
   {
    "duration": 540,
    "start_time": "2021-08-27T06:08:00.052Z"
   },
   {
    "duration": 7,
    "start_time": "2021-08-27T06:10:09.443Z"
   },
   {
    "duration": 1101,
    "start_time": "2021-08-27T06:10:09.531Z"
   },
   {
    "duration": 25,
    "start_time": "2021-08-27T06:10:10.635Z"
   },
   {
    "duration": 169,
    "start_time": "2021-08-27T06:10:10.663Z"
   },
   {
    "duration": 156,
    "start_time": "2021-08-27T06:10:10.834Z"
   },
   {
    "duration": 324,
    "start_time": "2021-08-27T06:10:10.992Z"
   },
   {
    "duration": 537,
    "start_time": "2021-08-27T06:10:11.318Z"
   },
   {
    "duration": 705,
    "start_time": "2021-08-27T06:10:11.858Z"
   },
   {
    "duration": 11,
    "start_time": "2021-08-27T06:10:12.566Z"
   },
   {
    "duration": 63,
    "start_time": "2021-08-27T06:10:12.581Z"
   },
   {
    "duration": 192,
    "start_time": "2021-08-27T06:10:12.647Z"
   },
   {
    "duration": 84,
    "start_time": "2021-08-27T06:10:12.841Z"
   },
   {
    "duration": 298,
    "start_time": "2021-08-27T06:10:12.927Z"
   },
   {
    "duration": 320,
    "start_time": "2021-08-27T06:10:13.227Z"
   },
   {
    "duration": 264,
    "start_time": "2021-08-27T06:10:13.554Z"
   },
   {
    "duration": 56,
    "start_time": "2021-08-27T06:10:13.821Z"
   },
   {
    "duration": 843,
    "start_time": "2021-08-27T06:10:13.880Z"
   },
   {
    "duration": 528,
    "start_time": "2021-08-27T06:10:14.726Z"
   },
   {
    "duration": 411,
    "start_time": "2021-08-27T06:12:41.373Z"
   },
   {
    "duration": 276,
    "start_time": "2021-08-27T06:13:23.292Z"
   },
   {
    "duration": 6,
    "start_time": "2021-08-27T06:13:42.127Z"
   },
   {
    "duration": 1005,
    "start_time": "2021-08-27T06:13:42.136Z"
   },
   {
    "duration": 21,
    "start_time": "2021-08-27T06:13:43.144Z"
   },
   {
    "duration": 173,
    "start_time": "2021-08-27T06:13:43.167Z"
   },
   {
    "duration": 161,
    "start_time": "2021-08-27T06:13:43.343Z"
   },
   {
    "duration": 338,
    "start_time": "2021-08-27T06:13:43.507Z"
   },
   {
    "duration": 535,
    "start_time": "2021-08-27T06:13:43.848Z"
   },
   {
    "duration": 703,
    "start_time": "2021-08-27T06:13:44.387Z"
   },
   {
    "duration": 11,
    "start_time": "2021-08-27T06:13:45.093Z"
   },
   {
    "duration": 75,
    "start_time": "2021-08-27T06:13:45.106Z"
   },
   {
    "duration": 190,
    "start_time": "2021-08-27T06:13:45.183Z"
   },
   {
    "duration": 94,
    "start_time": "2021-08-27T06:13:45.375Z"
   },
   {
    "duration": 294,
    "start_time": "2021-08-27T06:13:45.471Z"
   },
   {
    "duration": 254,
    "start_time": "2021-08-27T06:13:45.767Z"
   },
   {
    "duration": 267,
    "start_time": "2021-08-27T06:13:46.023Z"
   },
   {
    "duration": 36,
    "start_time": "2021-08-27T06:13:46.293Z"
   },
   {
    "duration": 999,
    "start_time": "2021-08-27T06:13:46.331Z"
   },
   {
    "duration": 530,
    "start_time": "2021-08-27T06:13:47.333Z"
   },
   {
    "duration": 173,
    "start_time": "2021-08-27T06:13:47.865Z"
   },
   {
    "duration": 830,
    "start_time": "2021-08-27T06:13:48.041Z"
   },
   {
    "duration": 173,
    "start_time": "2021-08-27T06:13:48.873Z"
   },
   {
    "duration": 4,
    "start_time": "2021-08-27T06:13:49.048Z"
   },
   {
    "duration": 96,
    "start_time": "2021-08-27T06:14:39.646Z"
   },
   {
    "duration": 3,
    "start_time": "2021-08-27T06:16:36.279Z"
   },
   {
    "duration": 15444,
    "start_time": "2021-08-27T06:20:41.517Z"
   },
   {
    "duration": 14,
    "start_time": "2021-08-27T06:29:54.604Z"
   },
   {
    "duration": 1546,
    "start_time": "2021-08-30T07:00:24.148Z"
   },
   {
    "duration": 1066,
    "start_time": "2021-08-30T07:00:25.697Z"
   },
   {
    "duration": 31,
    "start_time": "2021-08-30T07:00:26.767Z"
   },
   {
    "duration": 185,
    "start_time": "2021-08-30T07:00:26.801Z"
   },
   {
    "duration": 171,
    "start_time": "2021-08-30T07:00:26.989Z"
   },
   {
    "duration": 365,
    "start_time": "2021-08-30T07:00:27.163Z"
   },
   {
    "duration": 609,
    "start_time": "2021-08-30T07:00:27.530Z"
   },
   {
    "duration": 727,
    "start_time": "2021-08-30T07:00:28.142Z"
   },
   {
    "duration": 17,
    "start_time": "2021-08-30T07:00:28.882Z"
   },
   {
    "duration": 47,
    "start_time": "2021-08-30T07:00:28.902Z"
   },
   {
    "duration": 221,
    "start_time": "2021-08-30T07:00:28.952Z"
   },
   {
    "duration": 76,
    "start_time": "2021-08-30T07:00:29.176Z"
   },
   {
    "duration": 301,
    "start_time": "2021-08-30T07:00:29.255Z"
   },
   {
    "duration": 253,
    "start_time": "2021-08-30T07:00:29.560Z"
   },
   {
    "duration": 258,
    "start_time": "2021-08-30T07:00:29.816Z"
   },
   {
    "duration": 36,
    "start_time": "2021-08-30T07:00:30.082Z"
   },
   {
    "duration": 494,
    "start_time": "2021-08-30T07:00:30.120Z"
   },
   {
    "duration": 541,
    "start_time": "2021-08-30T07:00:30.617Z"
   },
   {
    "duration": 178,
    "start_time": "2021-08-30T07:00:31.160Z"
   },
   {
    "duration": 865,
    "start_time": "2021-08-30T07:00:31.341Z"
   },
   {
    "duration": 178,
    "start_time": "2021-08-30T07:00:32.208Z"
   },
   {
    "duration": 4,
    "start_time": "2021-08-30T07:00:32.389Z"
   },
   {
    "duration": 120,
    "start_time": "2021-08-30T07:00:32.396Z"
   },
   {
    "duration": 166,
    "start_time": "2021-08-30T07:00:54.148Z"
   },
   {
    "duration": 160,
    "start_time": "2021-08-30T07:00:54.317Z"
   },
   {
    "duration": 4,
    "start_time": "2021-08-30T07:00:56.717Z"
   },
   {
    "duration": 103,
    "start_time": "2021-08-30T07:02:58.039Z"
   },
   {
    "duration": 445335,
    "start_time": "2021-08-30T07:03:59.784Z"
   },
   {
    "duration": 1554,
    "start_time": "2021-08-30T07:17:41.444Z"
   },
   {
    "duration": 1070,
    "start_time": "2021-08-30T07:17:43.000Z"
   },
   {
    "duration": 30,
    "start_time": "2021-08-30T07:17:44.074Z"
   },
   {
    "duration": 176,
    "start_time": "2021-08-30T07:17:44.107Z"
   },
   {
    "duration": 156,
    "start_time": "2021-08-30T07:17:44.285Z"
   },
   {
    "duration": 370,
    "start_time": "2021-08-30T07:17:44.443Z"
   },
   {
    "duration": 550,
    "start_time": "2021-08-30T07:17:44.815Z"
   },
   {
    "duration": 655,
    "start_time": "2021-08-30T07:17:45.368Z"
   },
   {
    "duration": 18,
    "start_time": "2021-08-30T07:17:46.028Z"
   },
   {
    "duration": 64,
    "start_time": "2021-08-30T07:17:46.050Z"
   },
   {
    "duration": 198,
    "start_time": "2021-08-30T07:17:46.116Z"
   },
   {
    "duration": 81,
    "start_time": "2021-08-30T07:17:46.316Z"
   },
   {
    "duration": 321,
    "start_time": "2021-08-30T07:17:46.399Z"
   },
   {
    "duration": 249,
    "start_time": "2021-08-30T07:17:46.723Z"
   },
   {
    "duration": 261,
    "start_time": "2021-08-30T07:17:46.975Z"
   },
   {
    "duration": 49,
    "start_time": "2021-08-30T07:17:47.239Z"
   },
   {
    "duration": 393,
    "start_time": "2021-08-30T07:17:47.290Z"
   },
   {
    "duration": 525,
    "start_time": "2021-08-30T07:17:47.685Z"
   },
   {
    "duration": 179,
    "start_time": "2021-08-30T07:17:48.212Z"
   },
   {
    "duration": 869,
    "start_time": "2021-08-30T07:17:48.394Z"
   },
   {
    "duration": 169,
    "start_time": "2021-08-30T07:17:49.266Z"
   },
   {
    "duration": 5,
    "start_time": "2021-08-30T07:17:49.438Z"
   },
   {
    "duration": 125,
    "start_time": "2021-08-30T07:17:49.445Z"
   },
   {
    "duration": 165,
    "start_time": "2021-08-30T07:17:49.572Z"
   },
   {
    "duration": 158,
    "start_time": "2021-08-30T07:17:49.739Z"
   },
   {
    "duration": 4,
    "start_time": "2021-08-30T07:17:49.899Z"
   },
   {
    "duration": 455284,
    "start_time": "2021-08-30T07:17:49.907Z"
   },
   {
    "duration": 135490,
    "start_time": "2021-08-30T07:25:25.193Z"
   },
   {
    "duration": 230716,
    "start_time": "2021-08-30T07:27:40.685Z"
   },
   {
    "duration": 22983,
    "start_time": "2021-08-30T07:31:31.404Z"
   },
   {
    "duration": 28251,
    "start_time": "2021-08-30T07:31:54.390Z"
   },
   {
    "duration": 28,
    "start_time": "2021-08-30T07:32:22.643Z"
   },
   {
    "duration": 25,
    "start_time": "2021-08-30T07:32:22.673Z"
   },
   {
    "duration": 4765,
    "start_time": "2021-08-30T07:32:22.700Z"
   },
   {
    "duration": 1578,
    "start_time": "2021-08-31T06:27:21.902Z"
   },
   {
    "duration": 1049,
    "start_time": "2021-08-31T06:27:23.483Z"
   },
   {
    "duration": 27,
    "start_time": "2021-08-31T06:27:24.535Z"
   },
   {
    "duration": 170,
    "start_time": "2021-08-31T06:27:24.564Z"
   },
   {
    "duration": 156,
    "start_time": "2021-08-31T06:27:24.737Z"
   },
   {
    "duration": 359,
    "start_time": "2021-08-31T06:27:24.895Z"
   },
   {
    "duration": 562,
    "start_time": "2021-08-31T06:27:25.257Z"
   },
   {
    "duration": 762,
    "start_time": "2021-08-31T06:27:25.824Z"
   },
   {
    "duration": 72,
    "start_time": "2021-08-31T06:27:26.590Z"
   },
   {
    "duration": 48,
    "start_time": "2021-08-31T06:27:26.665Z"
   },
   {
    "duration": 216,
    "start_time": "2021-08-31T06:27:26.716Z"
   },
   {
    "duration": 90,
    "start_time": "2021-08-31T06:27:26.934Z"
   },
   {
    "duration": 303,
    "start_time": "2021-08-31T06:27:27.027Z"
   },
   {
    "duration": 271,
    "start_time": "2021-08-31T06:27:27.332Z"
   },
   {
    "duration": 270,
    "start_time": "2021-08-31T06:27:27.606Z"
   },
   {
    "duration": 38,
    "start_time": "2021-08-31T06:27:27.878Z"
   },
   {
    "duration": 409,
    "start_time": "2021-08-31T06:27:27.918Z"
   },
   {
    "duration": 514,
    "start_time": "2021-08-31T06:27:28.329Z"
   },
   {
    "duration": 182,
    "start_time": "2021-08-31T06:27:28.846Z"
   },
   {
    "duration": 845,
    "start_time": "2021-08-31T06:27:29.030Z"
   },
   {
    "duration": 184,
    "start_time": "2021-08-31T06:27:29.878Z"
   },
   {
    "duration": 5,
    "start_time": "2021-08-31T06:27:30.065Z"
   },
   {
    "duration": 127,
    "start_time": "2021-08-31T06:27:30.084Z"
   },
   {
    "duration": 195,
    "start_time": "2021-08-31T06:27:30.214Z"
   },
   {
    "duration": 185,
    "start_time": "2021-08-31T06:27:30.411Z"
   },
   {
    "duration": 4,
    "start_time": "2021-08-31T06:27:30.599Z"
   },
   {
    "duration": 8,
    "start_time": "2021-08-31T09:26:25.239Z"
   },
   {
    "duration": 1502,
    "start_time": "2021-08-31T09:26:25.255Z"
   },
   {
    "duration": 32,
    "start_time": "2021-08-31T09:26:26.760Z"
   },
   {
    "duration": 178,
    "start_time": "2021-08-31T09:26:26.795Z"
   },
   {
    "duration": 164,
    "start_time": "2021-08-31T09:26:26.976Z"
   },
   {
    "duration": 408,
    "start_time": "2021-08-31T09:26:27.143Z"
   },
   {
    "duration": 674,
    "start_time": "2021-08-31T09:26:27.554Z"
   },
   {
    "duration": 670,
    "start_time": "2021-08-31T09:26:28.230Z"
   },
   {
    "duration": 11,
    "start_time": "2021-08-31T09:26:28.903Z"
   },
   {
    "duration": 70,
    "start_time": "2021-08-31T09:26:28.918Z"
   },
   {
    "duration": 205,
    "start_time": "2021-08-31T09:26:28.992Z"
   },
   {
    "duration": 93,
    "start_time": "2021-08-31T09:26:29.200Z"
   },
   {
    "duration": 287,
    "start_time": "2021-08-31T09:26:29.296Z"
   },
   {
    "duration": 316,
    "start_time": "2021-08-31T09:26:29.585Z"
   },
   {
    "duration": 259,
    "start_time": "2021-08-31T09:26:29.904Z"
   },
   {
    "duration": 49,
    "start_time": "2021-08-31T09:26:30.166Z"
   },
   {
    "duration": 639,
    "start_time": "2021-08-31T09:26:30.217Z"
   },
   {
    "duration": 550,
    "start_time": "2021-08-31T09:26:30.858Z"
   },
   {
    "duration": 190,
    "start_time": "2021-08-31T09:26:31.411Z"
   },
   {
    "duration": 890,
    "start_time": "2021-08-31T09:26:31.604Z"
   },
   {
    "duration": 185,
    "start_time": "2021-08-31T09:26:32.497Z"
   },
   {
    "duration": 6,
    "start_time": "2021-08-31T09:26:32.685Z"
   },
   {
    "duration": 134,
    "start_time": "2021-08-31T09:26:32.694Z"
   },
   {
    "duration": 188,
    "start_time": "2021-08-31T09:26:32.830Z"
   },
   {
    "duration": 182,
    "start_time": "2021-08-31T09:26:33.021Z"
   },
   {
    "duration": 4,
    "start_time": "2021-08-31T09:26:33.205Z"
   },
   {
    "duration": 407432,
    "start_time": "2021-08-31T09:26:33.213Z"
   },
   {
    "duration": 422741,
    "start_time": "2021-08-31T09:33:20.650Z"
   },
   {
    "duration": 239296,
    "start_time": "2021-08-31T09:40:23.393Z"
   },
   {
    "duration": 237074,
    "start_time": "2021-08-31T09:44:22.692Z"
   },
   {
    "duration": 27513,
    "start_time": "2021-08-31T09:48:19.769Z"
   },
   {
    "duration": 30546,
    "start_time": "2021-08-31T09:48:47.285Z"
   },
   {
    "duration": 55,
    "start_time": "2021-08-31T09:49:17.833Z"
   },
   {
    "duration": 14,
    "start_time": "2021-08-31T09:49:17.891Z"
   },
   {
    "duration": 4877,
    "start_time": "2021-08-31T09:49:17.908Z"
   },
   {
    "duration": 161294,
    "start_time": "2021-08-31T09:51:37.055Z"
   },
   {
    "duration": 22,
    "start_time": "2021-08-31T09:54:18.352Z"
   },
   {
    "duration": 3913,
    "start_time": "2021-08-31T09:59:23.639Z"
   },
   {
    "duration": 29,
    "start_time": "2021-08-31T09:59:31.836Z"
   },
   {
    "duration": 521,
    "start_time": "2021-08-31T11:13:28.244Z"
   },
   {
    "duration": 5,
    "start_time": "2021-08-31T11:13:50.820Z"
   },
   {
    "duration": 29,
    "start_time": "2021-08-31T11:14:07.032Z"
   },
   {
    "duration": 1042,
    "start_time": "2021-08-31T11:14:07.063Z"
   },
   {
    "duration": 21,
    "start_time": "2021-08-31T11:14:08.108Z"
   },
   {
    "duration": 171,
    "start_time": "2021-08-31T11:14:08.133Z"
   },
   {
    "duration": 163,
    "start_time": "2021-08-31T11:14:08.307Z"
   },
   {
    "duration": 348,
    "start_time": "2021-08-31T11:14:08.472Z"
   },
   {
    "duration": 519,
    "start_time": "2021-08-31T11:14:08.824Z"
   },
   {
    "duration": 647,
    "start_time": "2021-08-31T11:14:09.346Z"
   },
   {
    "duration": 11,
    "start_time": "2021-08-31T11:14:09.996Z"
   },
   {
    "duration": 56,
    "start_time": "2021-08-31T11:14:10.009Z"
   },
   {
    "duration": 239,
    "start_time": "2021-08-31T11:14:10.084Z"
   },
   {
    "duration": 85,
    "start_time": "2021-08-31T11:14:10.325Z"
   },
   {
    "duration": 293,
    "start_time": "2021-08-31T11:14:10.412Z"
   },
   {
    "duration": 244,
    "start_time": "2021-08-31T11:14:10.707Z"
   },
   {
    "duration": 349,
    "start_time": "2021-08-31T11:14:10.953Z"
   },
   {
    "duration": 47,
    "start_time": "2021-08-31T11:14:11.305Z"
   },
   {
    "duration": 801,
    "start_time": "2021-08-31T11:14:11.355Z"
   },
   {
    "duration": 787,
    "start_time": "2021-08-31T11:14:12.159Z"
   },
   {
    "duration": 184,
    "start_time": "2021-08-31T11:14:12.954Z"
   },
   {
    "duration": 862,
    "start_time": "2021-08-31T11:14:13.140Z"
   },
   {
    "duration": 182,
    "start_time": "2021-08-31T11:14:14.004Z"
   },
   {
    "duration": 7,
    "start_time": "2021-08-31T11:14:14.188Z"
   },
   {
    "duration": 126,
    "start_time": "2021-08-31T11:14:14.198Z"
   },
   {
    "duration": 166,
    "start_time": "2021-08-31T11:14:14.326Z"
   },
   {
    "duration": 171,
    "start_time": "2021-08-31T11:14:14.495Z"
   },
   {
    "duration": 4,
    "start_time": "2021-08-31T11:14:14.668Z"
   },
   {
    "duration": 432330,
    "start_time": "2021-08-31T11:14:14.674Z"
   },
   {
    "duration": 460804,
    "start_time": "2021-08-31T11:21:27.011Z"
   },
   {
    "duration": 234593,
    "start_time": "2021-08-31T11:29:07.818Z"
   },
   {
    "duration": 161766,
    "start_time": "2021-08-31T11:33:02.413Z"
   },
   {
    "duration": 27207,
    "start_time": "2021-08-31T11:35:44.182Z"
   },
   {
    "duration": 29830,
    "start_time": "2021-08-31T11:36:11.392Z"
   },
   {
    "duration": 2742,
    "start_time": "2021-08-31T11:36:41.225Z"
   },
   {
    "duration": 30,
    "start_time": "2021-08-31T11:36:43.970Z"
   },
   {
    "duration": 26,
    "start_time": "2021-08-31T11:36:44.003Z"
   },
   {
    "duration": 4819,
    "start_time": "2021-08-31T11:36:44.031Z"
   },
   {
    "duration": 10,
    "start_time": "2021-08-31T11:36:48.852Z"
   },
   {
    "duration": 21,
    "start_time": "2021-08-31T11:36:48.864Z"
   },
   {
    "duration": 9,
    "start_time": "2021-08-31T12:06:21.066Z"
   },
   {
    "duration": 5,
    "start_time": "2021-08-31T12:06:21.695Z"
   },
   {
    "duration": 353,
    "start_time": "2021-08-31T12:09:52.936Z"
   },
   {
    "duration": 359,
    "start_time": "2021-08-31T12:10:09.544Z"
   },
   {
    "duration": 468,
    "start_time": "2021-08-31T12:10:32.693Z"
   },
   {
    "duration": 4,
    "start_time": "2021-08-31T12:11:26.557Z"
   },
   {
    "duration": 4,
    "start_time": "2021-08-31T12:13:08.525Z"
   },
   {
    "duration": 4,
    "start_time": "2021-08-31T12:13:12.727Z"
   },
   {
    "duration": 372,
    "start_time": "2021-08-31T12:13:14.270Z"
   },
   {
    "duration": 20,
    "start_time": "2021-08-31T12:14:19.781Z"
   },
   {
    "duration": 4,
    "start_time": "2021-08-31T12:14:21.573Z"
   },
   {
    "duration": 3,
    "start_time": "2021-08-31T12:14:22.926Z"
   },
   {
    "duration": 571,
    "start_time": "2021-08-31T12:14:24.624Z"
   },
   {
    "duration": 10,
    "start_time": "2021-08-31T12:16:01.111Z"
   },
   {
    "duration": 3,
    "start_time": "2021-08-31T12:16:08.821Z"
   },
   {
    "duration": 7169,
    "start_time": "2021-08-31T12:17:09.014Z"
   },
   {
    "duration": 110,
    "start_time": "2021-08-31T12:23:21.856Z"
   },
   {
    "duration": 228,
    "start_time": "2021-08-31T12:23:42.429Z"
   },
   {
    "duration": 1103,
    "start_time": "2021-08-31T12:23:57.819Z"
   },
   {
    "duration": 216,
    "start_time": "2021-08-31T12:24:01.920Z"
   },
   {
    "duration": 269,
    "start_time": "2021-08-31T12:24:12.403Z"
   },
   {
    "duration": 373,
    "start_time": "2021-08-31T12:24:55.966Z"
   },
   {
    "duration": 6093,
    "start_time": "2021-08-31T12:25:06.466Z"
   },
   {
    "duration": 233,
    "start_time": "2021-08-31T12:25:23.278Z"
   },
   {
    "duration": 247,
    "start_time": "2021-08-31T12:25:42.986Z"
   },
   {
    "duration": 101,
    "start_time": "2021-08-31T12:26:10.117Z"
   },
   {
    "duration": 354,
    "start_time": "2021-08-31T12:26:17.577Z"
   },
   {
    "duration": 336,
    "start_time": "2021-08-31T12:30:05.922Z"
   },
   {
    "duration": 1494,
    "start_time": "2021-09-02T04:58:56.090Z"
   },
   {
    "duration": 1085,
    "start_time": "2021-09-02T04:58:57.587Z"
   },
   {
    "duration": 28,
    "start_time": "2021-09-02T04:58:58.677Z"
   },
   {
    "duration": 171,
    "start_time": "2021-09-02T04:58:58.707Z"
   },
   {
    "duration": 157,
    "start_time": "2021-09-02T04:58:58.880Z"
   },
   {
    "duration": 362,
    "start_time": "2021-09-02T04:58:59.039Z"
   },
   {
    "duration": 573,
    "start_time": "2021-09-02T04:58:59.404Z"
   },
   {
    "duration": 793,
    "start_time": "2021-09-02T04:58:59.981Z"
   },
   {
    "duration": 15,
    "start_time": "2021-09-02T04:59:00.777Z"
   },
   {
    "duration": 75,
    "start_time": "2021-09-02T04:59:00.795Z"
   },
   {
    "duration": 205,
    "start_time": "2021-09-02T04:59:00.873Z"
   },
   {
    "duration": 94,
    "start_time": "2021-09-02T04:59:01.080Z"
   },
   {
    "duration": 298,
    "start_time": "2021-09-02T04:59:01.177Z"
   },
   {
    "duration": 252,
    "start_time": "2021-09-02T04:59:01.477Z"
   },
   {
    "duration": 257,
    "start_time": "2021-09-02T04:59:01.731Z"
   },
   {
    "duration": 37,
    "start_time": "2021-09-02T04:59:01.991Z"
   },
   {
    "duration": 880,
    "start_time": "2021-09-02T04:59:02.031Z"
   },
   {
    "duration": 564,
    "start_time": "2021-09-02T04:59:02.914Z"
   },
   {
    "duration": 179,
    "start_time": "2021-09-02T04:59:03.480Z"
   },
   {
    "duration": 870,
    "start_time": "2021-09-02T04:59:03.661Z"
   },
   {
    "duration": 172,
    "start_time": "2021-09-02T04:59:04.534Z"
   },
   {
    "duration": 4,
    "start_time": "2021-09-02T04:59:04.709Z"
   },
   {
    "duration": 139,
    "start_time": "2021-09-02T04:59:04.718Z"
   },
   {
    "duration": 162,
    "start_time": "2021-09-02T04:59:04.859Z"
   },
   {
    "duration": 156,
    "start_time": "2021-09-02T04:59:05.024Z"
   },
   {
    "duration": 3,
    "start_time": "2021-09-02T04:59:05.183Z"
   },
   {
    "duration": 510,
    "start_time": "2021-09-02T05:03:35.563Z"
   },
   {
    "duration": 118,
    "start_time": "2021-09-02T05:10:10.125Z"
   },
   {
    "duration": 30538,
    "start_time": "2021-09-02T05:13:10.823Z"
   },
   {
    "duration": 1144,
    "start_time": "2021-09-02T05:13:40.221Z"
   },
   {
    "duration": 506,
    "start_time": "2021-09-02T05:26:51.732Z"
   },
   {
    "duration": 103,
    "start_time": "2021-09-02T05:27:02.600Z"
   },
   {
    "duration": 4,
    "start_time": "2021-09-02T05:27:11.611Z"
   },
   {
    "duration": 13,
    "start_time": "2021-09-02T05:33:28.699Z"
   },
   {
    "duration": 391256,
    "start_time": "2021-09-02T05:33:28.715Z"
   },
   {
    "duration": 6,
    "start_time": "2021-09-02T05:50:43.573Z"
   },
   {
    "duration": 1106,
    "start_time": "2021-09-02T05:50:43.584Z"
   },
   {
    "duration": 20,
    "start_time": "2021-09-02T05:50:44.693Z"
   },
   {
    "duration": 180,
    "start_time": "2021-09-02T05:50:44.716Z"
   },
   {
    "duration": 164,
    "start_time": "2021-09-02T05:50:44.899Z"
   },
   {
    "duration": 335,
    "start_time": "2021-09-02T05:50:45.066Z"
   },
   {
    "duration": 559,
    "start_time": "2021-09-02T05:50:45.404Z"
   },
   {
    "duration": 671,
    "start_time": "2021-09-02T05:50:45.966Z"
   },
   {
    "duration": 22,
    "start_time": "2021-09-02T05:50:46.641Z"
   },
   {
    "duration": 61,
    "start_time": "2021-09-02T05:50:46.666Z"
   },
   {
    "duration": 197,
    "start_time": "2021-09-02T05:50:46.730Z"
   },
   {
    "duration": 85,
    "start_time": "2021-09-02T05:50:46.930Z"
   },
   {
    "duration": 290,
    "start_time": "2021-09-02T05:50:47.017Z"
   },
   {
    "duration": 309,
    "start_time": "2021-09-02T05:50:47.310Z"
   },
   {
    "duration": 252,
    "start_time": "2021-09-02T05:50:47.622Z"
   },
   {
    "duration": 36,
    "start_time": "2021-09-02T05:50:47.877Z"
   },
   {
    "duration": 512,
    "start_time": "2021-09-02T05:50:47.915Z"
   },
   {
    "duration": 512,
    "start_time": "2021-09-02T05:50:48.430Z"
   },
   {
    "duration": 179,
    "start_time": "2021-09-02T05:50:48.945Z"
   },
   {
    "duration": 876,
    "start_time": "2021-09-02T05:50:49.127Z"
   },
   {
    "duration": 172,
    "start_time": "2021-09-02T05:50:50.005Z"
   },
   {
    "duration": 4,
    "start_time": "2021-09-02T05:50:50.180Z"
   },
   {
    "duration": 127,
    "start_time": "2021-09-02T05:50:50.186Z"
   },
   {
    "duration": 168,
    "start_time": "2021-09-02T05:50:50.317Z"
   },
   {
    "duration": 168,
    "start_time": "2021-09-02T05:50:50.488Z"
   },
   {
    "duration": 4,
    "start_time": "2021-09-02T05:50:50.661Z"
   },
   {
    "duration": 28128,
    "start_time": "2021-09-02T05:51:04.534Z"
   },
   {
    "duration": 15,
    "start_time": "2021-09-02T05:51:32.668Z"
   },
   {
    "duration": 160657,
    "start_time": "2021-09-02T05:56:25.105Z"
   },
   {
    "duration": 22,
    "start_time": "2021-09-02T05:59:05.765Z"
   },
   {
    "duration": 10,
    "start_time": "2021-09-02T06:02:11.497Z"
   },
   {
    "duration": 1095,
    "start_time": "2021-09-02T06:02:11.515Z"
   },
   {
    "duration": 19,
    "start_time": "2021-09-02T06:02:12.613Z"
   },
   {
    "duration": 167,
    "start_time": "2021-09-02T06:02:12.636Z"
   },
   {
    "duration": 160,
    "start_time": "2021-09-02T06:02:12.806Z"
   },
   {
    "duration": 351,
    "start_time": "2021-09-02T06:02:12.968Z"
   },
   {
    "duration": 546,
    "start_time": "2021-09-02T06:02:13.322Z"
   },
   {
    "duration": 686,
    "start_time": "2021-09-02T06:02:13.871Z"
   },
   {
    "duration": 12,
    "start_time": "2021-09-02T06:02:14.560Z"
   },
   {
    "duration": 53,
    "start_time": "2021-09-02T06:02:14.576Z"
   },
   {
    "duration": 234,
    "start_time": "2021-09-02T06:02:14.632Z"
   },
   {
    "duration": 75,
    "start_time": "2021-09-02T06:02:14.868Z"
   },
   {
    "duration": 304,
    "start_time": "2021-09-02T06:02:14.945Z"
   },
   {
    "duration": 253,
    "start_time": "2021-09-02T06:02:15.252Z"
   },
   {
    "duration": 260,
    "start_time": "2021-09-02T06:02:15.508Z"
   },
   {
    "duration": 36,
    "start_time": "2021-09-02T06:02:15.770Z"
   },
   {
    "duration": 422,
    "start_time": "2021-09-02T06:02:15.808Z"
   },
   {
    "duration": 574,
    "start_time": "2021-09-02T06:02:16.233Z"
   },
   {
    "duration": 182,
    "start_time": "2021-09-02T06:02:16.810Z"
   },
   {
    "duration": 867,
    "start_time": "2021-09-02T06:02:16.995Z"
   },
   {
    "duration": 169,
    "start_time": "2021-09-02T06:02:17.864Z"
   },
   {
    "duration": 5,
    "start_time": "2021-09-02T06:02:18.035Z"
   },
   {
    "duration": 168,
    "start_time": "2021-09-02T06:02:18.043Z"
   },
   {
    "duration": 269,
    "start_time": "2021-09-02T06:02:18.214Z"
   },
   {
    "duration": 180,
    "start_time": "2021-09-02T06:02:18.486Z"
   },
   {
    "duration": 3,
    "start_time": "2021-09-02T06:02:18.669Z"
   },
   {
    "duration": 412984,
    "start_time": "2021-09-02T06:02:33.355Z"
   },
   {
    "duration": 708,
    "start_time": "2021-09-02T06:09:25.634Z"
   },
   {
    "duration": 6,
    "start_time": "2021-09-02T06:18:35.867Z"
   },
   {
    "duration": 986,
    "start_time": "2021-09-02T06:18:35.876Z"
   },
   {
    "duration": 20,
    "start_time": "2021-09-02T06:18:36.865Z"
   },
   {
    "duration": 172,
    "start_time": "2021-09-02T06:18:36.888Z"
   },
   {
    "duration": 157,
    "start_time": "2021-09-02T06:18:37.063Z"
   },
   {
    "duration": 356,
    "start_time": "2021-09-02T06:18:37.223Z"
   },
   {
    "duration": 488,
    "start_time": "2021-09-02T06:18:37.583Z"
   },
   {
    "duration": 666,
    "start_time": "2021-09-02T06:18:38.074Z"
   },
   {
    "duration": 20,
    "start_time": "2021-09-02T06:18:38.743Z"
   },
   {
    "duration": 50,
    "start_time": "2021-09-02T06:18:38.766Z"
   },
   {
    "duration": 219,
    "start_time": "2021-09-02T06:18:38.818Z"
   },
   {
    "duration": 85,
    "start_time": "2021-09-02T06:18:39.039Z"
   },
   {
    "duration": 292,
    "start_time": "2021-09-02T06:18:39.126Z"
   },
   {
    "duration": 256,
    "start_time": "2021-09-02T06:18:39.421Z"
   },
   {
    "duration": 259,
    "start_time": "2021-09-02T06:18:39.680Z"
   },
   {
    "duration": 46,
    "start_time": "2021-09-02T06:18:39.941Z"
   },
   {
    "duration": 492,
    "start_time": "2021-09-02T06:18:39.990Z"
   },
   {
    "duration": 535,
    "start_time": "2021-09-02T06:18:40.484Z"
   },
   {
    "duration": 188,
    "start_time": "2021-09-02T06:18:41.022Z"
   },
   {
    "duration": 849,
    "start_time": "2021-09-02T06:18:41.213Z"
   },
   {
    "duration": 176,
    "start_time": "2021-09-02T06:18:42.064Z"
   },
   {
    "duration": 5,
    "start_time": "2021-09-02T06:18:42.244Z"
   },
   {
    "duration": 129,
    "start_time": "2021-09-02T06:18:42.262Z"
   },
   {
    "duration": 226,
    "start_time": "2021-09-02T06:18:42.394Z"
   },
   {
    "duration": 165,
    "start_time": "2021-09-02T06:18:42.622Z"
   },
   {
    "duration": 4,
    "start_time": "2021-09-02T06:18:42.790Z"
   },
   {
    "duration": 122784,
    "start_time": "2021-09-02T06:18:42.797Z"
   },
   {
    "duration": 33283,
    "start_time": "2021-09-02T06:20:45.583Z"
   },
   {
    "duration": 20,
    "start_time": "2021-09-02T06:21:18.868Z"
   },
   {
    "duration": 56,
    "start_time": "2021-09-02T06:25:47.944Z"
   },
   {
    "duration": 13,
    "start_time": "2021-09-02T06:25:57.929Z"
   },
   {
    "duration": 99,
    "start_time": "2021-09-02T06:26:45.881Z"
   },
   {
    "duration": 14,
    "start_time": "2021-09-02T06:26:52.577Z"
   },
   {
    "duration": 2931,
    "start_time": "2021-09-02T06:32:03.924Z"
   },
   {
    "duration": 18,
    "start_time": "2021-09-02T06:32:07.563Z"
   },
   {
    "duration": 1662,
    "start_time": "2021-09-02T06:32:26.177Z"
   },
   {
    "duration": 1137,
    "start_time": "2021-09-02T06:32:27.842Z"
   },
   {
    "duration": 27,
    "start_time": "2021-09-02T06:32:28.981Z"
   },
   {
    "duration": 189,
    "start_time": "2021-09-02T06:32:29.011Z"
   },
   {
    "duration": 172,
    "start_time": "2021-09-02T06:32:29.203Z"
   },
   {
    "duration": 377,
    "start_time": "2021-09-02T06:32:29.378Z"
   },
   {
    "duration": 670,
    "start_time": "2021-09-02T06:32:29.758Z"
   },
   {
    "duration": 794,
    "start_time": "2021-09-02T06:32:30.432Z"
   },
   {
    "duration": 15,
    "start_time": "2021-09-02T06:32:31.228Z"
   },
   {
    "duration": 65,
    "start_time": "2021-09-02T06:32:31.245Z"
   },
   {
    "duration": 211,
    "start_time": "2021-09-02T06:32:31.313Z"
   },
   {
    "duration": 90,
    "start_time": "2021-09-02T06:32:31.526Z"
   },
   {
    "duration": 298,
    "start_time": "2021-09-02T06:32:31.619Z"
   },
   {
    "duration": 247,
    "start_time": "2021-09-02T06:32:31.919Z"
   },
   {
    "duration": 239,
    "start_time": "2021-09-02T06:32:32.170Z"
   },
   {
    "duration": 57,
    "start_time": "2021-09-02T06:32:32.412Z"
   },
   {
    "duration": 631,
    "start_time": "2021-09-02T06:32:32.471Z"
   },
   {
    "duration": 547,
    "start_time": "2021-09-02T06:32:33.105Z"
   },
   {
    "duration": 189,
    "start_time": "2021-09-02T06:32:33.655Z"
   },
   {
    "duration": 979,
    "start_time": "2021-09-02T06:32:33.846Z"
   },
   {
    "duration": 189,
    "start_time": "2021-09-02T06:32:34.827Z"
   },
   {
    "duration": 5,
    "start_time": "2021-09-02T06:32:35.019Z"
   },
   {
    "duration": 643,
    "start_time": "2021-09-02T06:32:35.033Z"
   },
   {
    "duration": 685,
    "start_time": "2021-09-02T06:32:34.994Z"
   },
   {
    "duration": 654,
    "start_time": "2021-09-02T06:32:35.027Z"
   },
   {
    "duration": 615,
    "start_time": "2021-09-02T06:32:35.068Z"
   },
   {
    "duration": 586,
    "start_time": "2021-09-02T06:32:35.099Z"
   },
   {
    "duration": 580,
    "start_time": "2021-09-02T06:32:35.107Z"
   },
   {
    "duration": 568,
    "start_time": "2021-09-02T06:32:35.120Z"
   },
   {
    "duration": 564,
    "start_time": "2021-09-02T06:32:35.126Z"
   },
   {
    "duration": 558,
    "start_time": "2021-09-02T06:32:35.133Z"
   },
   {
    "duration": 554,
    "start_time": "2021-09-02T06:32:35.138Z"
   },
   {
    "duration": 549,
    "start_time": "2021-09-02T06:32:35.144Z"
   },
   {
    "duration": 546,
    "start_time": "2021-09-02T06:32:35.149Z"
   },
   {
    "duration": 541,
    "start_time": "2021-09-02T06:32:35.155Z"
   },
   {
    "duration": 538,
    "start_time": "2021-09-02T06:32:35.159Z"
   },
   {
    "duration": 535,
    "start_time": "2021-09-02T06:32:35.164Z"
   },
   {
    "duration": 530,
    "start_time": "2021-09-02T06:32:35.170Z"
   },
   {
    "duration": 6,
    "start_time": "2021-09-02T06:32:49.550Z"
   },
   {
    "duration": 1167,
    "start_time": "2021-09-02T06:32:49.559Z"
   },
   {
    "duration": 19,
    "start_time": "2021-09-02T06:32:50.729Z"
   },
   {
    "duration": 182,
    "start_time": "2021-09-02T06:32:50.766Z"
   },
   {
    "duration": 183,
    "start_time": "2021-09-02T06:32:50.950Z"
   },
   {
    "duration": 390,
    "start_time": "2021-09-02T06:32:51.136Z"
   },
   {
    "duration": 549,
    "start_time": "2021-09-02T06:32:51.528Z"
   },
   {
    "duration": 697,
    "start_time": "2021-09-02T06:32:52.080Z"
   },
   {
    "duration": 12,
    "start_time": "2021-09-02T06:32:52.781Z"
   },
   {
    "duration": 81,
    "start_time": "2021-09-02T06:32:52.797Z"
   },
   {
    "duration": 205,
    "start_time": "2021-09-02T06:32:52.880Z"
   },
   {
    "duration": 95,
    "start_time": "2021-09-02T06:32:53.087Z"
   },
   {
    "duration": 292,
    "start_time": "2021-09-02T06:32:53.185Z"
   },
   {
    "duration": 319,
    "start_time": "2021-09-02T06:32:53.480Z"
   },
   {
    "duration": 262,
    "start_time": "2021-09-02T06:32:53.802Z"
   },
   {
    "duration": 37,
    "start_time": "2021-09-02T06:32:54.066Z"
   },
   {
    "duration": 507,
    "start_time": "2021-09-02T06:32:54.105Z"
   },
   {
    "duration": 517,
    "start_time": "2021-09-02T06:32:54.614Z"
   },
   {
    "duration": 194,
    "start_time": "2021-09-02T06:32:55.134Z"
   },
   {
    "duration": 887,
    "start_time": "2021-09-02T06:32:55.331Z"
   },
   {
    "duration": 176,
    "start_time": "2021-09-02T06:32:56.221Z"
   },
   {
    "duration": 5,
    "start_time": "2021-09-02T06:32:56.400Z"
   },
   {
    "duration": 466,
    "start_time": "2021-09-02T06:32:56.407Z"
   },
   {
    "duration": 594,
    "start_time": "2021-09-02T06:32:56.283Z"
   },
   {
    "duration": 563,
    "start_time": "2021-09-02T06:32:56.316Z"
   },
   {
    "duration": 523,
    "start_time": "2021-09-02T06:32:56.357Z"
   },
   {
    "duration": 499,
    "start_time": "2021-09-02T06:32:56.383Z"
   },
   {
    "duration": 479,
    "start_time": "2021-09-02T06:32:56.404Z"
   },
   {
    "duration": 424,
    "start_time": "2021-09-02T06:32:56.461Z"
   },
   {
    "duration": 416,
    "start_time": "2021-09-02T06:32:56.470Z"
   },
   {
    "duration": 368,
    "start_time": "2021-09-02T06:32:56.520Z"
   },
   {
    "duration": 349,
    "start_time": "2021-09-02T06:32:56.540Z"
   },
   {
    "duration": 306,
    "start_time": "2021-09-02T06:32:56.585Z"
   },
   {
    "duration": 292,
    "start_time": "2021-09-02T06:32:56.600Z"
   },
   {
    "duration": 264,
    "start_time": "2021-09-02T06:32:56.629Z"
   },
   {
    "duration": 253,
    "start_time": "2021-09-02T06:32:56.642Z"
   },
   {
    "duration": 229,
    "start_time": "2021-09-02T06:32:56.668Z"
   },
   {
    "duration": 203,
    "start_time": "2021-09-02T06:32:56.695Z"
   },
   {
    "duration": 1589,
    "start_time": "2021-09-02T06:33:49.533Z"
   },
   {
    "duration": 1122,
    "start_time": "2021-09-02T06:33:51.125Z"
   },
   {
    "duration": 30,
    "start_time": "2021-09-02T06:33:52.250Z"
   },
   {
    "duration": 186,
    "start_time": "2021-09-02T06:33:52.283Z"
   },
   {
    "duration": 165,
    "start_time": "2021-09-02T06:33:52.471Z"
   },
   {
    "duration": 375,
    "start_time": "2021-09-02T06:33:52.639Z"
   },
   {
    "duration": 631,
    "start_time": "2021-09-02T06:33:53.016Z"
   },
   {
    "duration": 762,
    "start_time": "2021-09-02T06:33:53.652Z"
   },
   {
    "duration": 16,
    "start_time": "2021-09-02T06:33:54.417Z"
   },
   {
    "duration": 74,
    "start_time": "2021-09-02T06:33:54.435Z"
   },
   {
    "duration": 209,
    "start_time": "2021-09-02T06:33:54.511Z"
   },
   {
    "duration": 88,
    "start_time": "2021-09-02T06:33:54.722Z"
   },
   {
    "duration": 309,
    "start_time": "2021-09-02T06:33:54.812Z"
   },
   {
    "duration": 265,
    "start_time": "2021-09-02T06:33:55.123Z"
   },
   {
    "duration": 264,
    "start_time": "2021-09-02T06:33:55.390Z"
   },
   {
    "duration": 39,
    "start_time": "2021-09-02T06:33:55.662Z"
   },
   {
    "duration": 665,
    "start_time": "2021-09-02T06:33:55.704Z"
   },
   {
    "duration": 537,
    "start_time": "2021-09-02T06:33:56.372Z"
   },
   {
    "duration": 181,
    "start_time": "2021-09-02T06:33:56.911Z"
   },
   {
    "duration": 874,
    "start_time": "2021-09-02T06:33:57.095Z"
   },
   {
    "duration": 167,
    "start_time": "2021-09-02T06:33:57.971Z"
   },
   {
    "duration": 5,
    "start_time": "2021-09-02T06:33:58.140Z"
   },
   {
    "duration": 121,
    "start_time": "2021-09-02T06:33:58.165Z"
   },
   {
    "duration": 167,
    "start_time": "2021-09-02T06:33:58.289Z"
   },
   {
    "duration": 165,
    "start_time": "2021-09-02T06:33:58.459Z"
   },
   {
    "duration": 3,
    "start_time": "2021-09-02T06:33:58.627Z"
   },
   {
    "duration": 47148,
    "start_time": "2021-09-02T06:33:58.632Z"
   },
   {
    "duration": 37997,
    "start_time": "2021-09-02T06:34:45.783Z"
   },
   {
    "duration": 234937,
    "start_time": "2021-09-02T06:35:23.783Z"
   },
   {
    "duration": 167260,
    "start_time": "2021-09-02T06:39:18.722Z"
   },
   {
    "duration": 27480,
    "start_time": "2021-09-02T06:42:05.985Z"
   },
   {
    "duration": 200,
    "start_time": "2021-09-02T06:42:33.468Z"
   },
   {
    "duration": 29937,
    "start_time": "2021-09-02T06:42:33.672Z"
   },
   {
    "duration": 2863,
    "start_time": "2021-09-02T06:43:03.611Z"
   },
   {
    "duration": 27,
    "start_time": "2021-09-02T06:43:06.476Z"
   },
   {
    "duration": 56,
    "start_time": "2021-09-02T06:43:06.506Z"
   },
   {
    "duration": 4985,
    "start_time": "2021-09-02T06:43:06.569Z"
   },
   {
    "duration": 278,
    "start_time": "2021-09-02T06:43:11.556Z"
   },
   {
    "duration": 465,
    "start_time": "2021-09-02T06:48:42.735Z"
   },
   {
    "duration": 222,
    "start_time": "2021-09-02T06:50:16.288Z"
   },
   {
    "duration": 1560,
    "start_time": "2021-09-02T06:52:28.144Z"
   },
   {
    "duration": 1112,
    "start_time": "2021-09-02T06:52:29.706Z"
   },
   {
    "duration": 28,
    "start_time": "2021-09-02T06:52:30.821Z"
   },
   {
    "duration": 172,
    "start_time": "2021-09-02T06:52:30.863Z"
   },
   {
    "duration": 156,
    "start_time": "2021-09-02T06:52:31.038Z"
   },
   {
    "duration": 364,
    "start_time": "2021-09-02T06:52:31.197Z"
   },
   {
    "duration": 591,
    "start_time": "2021-09-02T06:52:31.564Z"
   },
   {
    "duration": 705,
    "start_time": "2021-09-02T06:52:32.162Z"
   },
   {
    "duration": 15,
    "start_time": "2021-09-02T06:52:32.870Z"
   },
   {
    "duration": 46,
    "start_time": "2021-09-02T06:52:32.888Z"
   },
   {
    "duration": 208,
    "start_time": "2021-09-02T06:52:32.937Z"
   },
   {
    "duration": 80,
    "start_time": "2021-09-02T06:52:33.148Z"
   },
   {
    "duration": 293,
    "start_time": "2021-09-02T06:52:33.230Z"
   },
   {
    "duration": 242,
    "start_time": "2021-09-02T06:52:33.525Z"
   },
   {
    "duration": 253,
    "start_time": "2021-09-02T06:52:33.770Z"
   },
   {
    "duration": 49,
    "start_time": "2021-09-02T06:52:34.025Z"
   },
   {
    "duration": 510,
    "start_time": "2021-09-02T06:52:34.076Z"
   },
   {
    "duration": 518,
    "start_time": "2021-09-02T06:52:34.589Z"
   },
   {
    "duration": 179,
    "start_time": "2021-09-02T06:52:35.109Z"
   },
   {
    "duration": 843,
    "start_time": "2021-09-02T06:52:35.290Z"
   },
   {
    "duration": 172,
    "start_time": "2021-09-02T06:52:36.136Z"
   },
   {
    "duration": 6,
    "start_time": "2021-09-02T06:52:36.310Z"
   },
   {
    "duration": 124,
    "start_time": "2021-09-02T06:52:36.321Z"
   },
   {
    "duration": 173,
    "start_time": "2021-09-02T06:52:36.448Z"
   },
   {
    "duration": 167,
    "start_time": "2021-09-02T06:52:36.624Z"
   },
   {
    "duration": 4,
    "start_time": "2021-09-02T06:52:36.793Z"
   },
   {
    "duration": 11276,
    "start_time": "2021-09-02T06:52:36.799Z"
   },
   {
    "duration": 8303,
    "start_time": "2021-09-02T06:52:48.078Z"
   },
   {
    "duration": 220297,
    "start_time": "2021-09-02T06:52:56.384Z"
   },
   {
    "duration": 159232,
    "start_time": "2021-09-02T06:56:36.683Z"
   },
   {
    "duration": 22648,
    "start_time": "2021-09-02T06:59:15.917Z"
   },
   {
    "duration": 199,
    "start_time": "2021-09-02T06:59:38.569Z"
   },
   {
    "duration": 31415,
    "start_time": "2021-09-02T06:59:38.778Z"
   },
   {
    "duration": 3161,
    "start_time": "2021-09-02T07:00:10.195Z"
   },
   {
    "duration": 36,
    "start_time": "2021-09-02T07:00:13.358Z"
   },
   {
    "duration": 27,
    "start_time": "2021-09-02T07:00:13.396Z"
   },
   {
    "duration": 548,
    "start_time": "2021-09-02T07:00:13.426Z"
   },
   {
    "duration": 252,
    "start_time": "2021-09-02T07:00:13.977Z"
   },
   {
    "duration": 171,
    "start_time": "2021-09-02T07:08:37.832Z"
   },
   {
    "duration": 6,
    "start_time": "2021-09-02T07:08:56.593Z"
   },
   {
    "duration": 1117,
    "start_time": "2021-09-02T07:08:56.602Z"
   },
   {
    "duration": 19,
    "start_time": "2021-09-02T07:08:57.722Z"
   },
   {
    "duration": 167,
    "start_time": "2021-09-02T07:08:57.744Z"
   },
   {
    "duration": 160,
    "start_time": "2021-09-02T07:08:57.913Z"
   },
   {
    "duration": 303,
    "start_time": "2021-09-02T07:08:58.076Z"
   },
   {
    "duration": 501,
    "start_time": "2021-09-02T07:08:58.381Z"
   },
   {
    "duration": 635,
    "start_time": "2021-09-02T07:08:58.884Z"
   },
   {
    "duration": 11,
    "start_time": "2021-09-02T07:08:59.523Z"
   },
   {
    "duration": 64,
    "start_time": "2021-09-02T07:08:59.537Z"
   },
   {
    "duration": 191,
    "start_time": "2021-09-02T07:08:59.603Z"
   },
   {
    "duration": 102,
    "start_time": "2021-09-02T07:08:59.797Z"
   },
   {
    "duration": 289,
    "start_time": "2021-09-02T07:08:59.901Z"
   },
   {
    "duration": 249,
    "start_time": "2021-09-02T07:09:00.193Z"
   },
   {
    "duration": 259,
    "start_time": "2021-09-02T07:09:00.446Z"
   },
   {
    "duration": 35,
    "start_time": "2021-09-02T07:09:00.708Z"
   },
   {
    "duration": 660,
    "start_time": "2021-09-02T07:09:00.761Z"
   },
   {
    "duration": 508,
    "start_time": "2021-09-02T07:09:01.423Z"
   },
   {
    "duration": 187,
    "start_time": "2021-09-02T07:09:01.933Z"
   },
   {
    "duration": 872,
    "start_time": "2021-09-02T07:09:02.123Z"
   },
   {
    "duration": 166,
    "start_time": "2021-09-02T07:09:02.998Z"
   },
   {
    "duration": 4,
    "start_time": "2021-09-02T07:09:03.167Z"
   },
   {
    "duration": 124,
    "start_time": "2021-09-02T07:09:03.174Z"
   },
   {
    "duration": 168,
    "start_time": "2021-09-02T07:09:03.301Z"
   },
   {
    "duration": 4,
    "start_time": "2021-09-02T07:09:13.111Z"
   },
   {
    "duration": 12450,
    "start_time": "2021-09-02T07:09:17.422Z"
   },
   {
    "duration": 8287,
    "start_time": "2021-09-02T07:09:29.875Z"
   },
   {
    "duration": 15,
    "start_time": "2021-09-02T07:09:38.165Z"
   },
   {
    "duration": 20,
    "start_time": "2021-09-02T07:09:38.183Z"
   },
   {
    "duration": 1588,
    "start_time": "2021-09-02T07:18:44.789Z"
   },
   {
    "duration": 1041,
    "start_time": "2021-09-02T07:18:46.380Z"
   },
   {
    "duration": 27,
    "start_time": "2021-09-02T07:18:47.424Z"
   },
   {
    "duration": 162,
    "start_time": "2021-09-02T07:18:47.463Z"
   },
   {
    "duration": 156,
    "start_time": "2021-09-02T07:18:47.628Z"
   },
   {
    "duration": 352,
    "start_time": "2021-09-02T07:18:47.786Z"
   },
   {
    "duration": 595,
    "start_time": "2021-09-02T07:18:48.141Z"
   },
   {
    "duration": 718,
    "start_time": "2021-09-02T07:18:48.738Z"
   },
   {
    "duration": 15,
    "start_time": "2021-09-02T07:18:49.463Z"
   },
   {
    "duration": 48,
    "start_time": "2021-09-02T07:18:49.481Z"
   },
   {
    "duration": 213,
    "start_time": "2021-09-02T07:18:49.532Z"
   },
   {
    "duration": 78,
    "start_time": "2021-09-02T07:18:49.748Z"
   },
   {
    "duration": 293,
    "start_time": "2021-09-02T07:18:49.828Z"
   },
   {
    "duration": 253,
    "start_time": "2021-09-02T07:18:50.124Z"
   },
   {
    "duration": 271,
    "start_time": "2021-09-02T07:18:50.380Z"
   },
   {
    "duration": 41,
    "start_time": "2021-09-02T07:18:50.654Z"
   },
   {
    "duration": 698,
    "start_time": "2021-09-02T07:18:50.698Z"
   },
   {
    "duration": 550,
    "start_time": "2021-09-02T07:18:51.399Z"
   },
   {
    "duration": 193,
    "start_time": "2021-09-02T07:18:51.952Z"
   },
   {
    "duration": 917,
    "start_time": "2021-09-02T07:18:52.148Z"
   },
   {
    "duration": 178,
    "start_time": "2021-09-02T07:18:53.067Z"
   },
   {
    "duration": 4,
    "start_time": "2021-09-02T07:18:53.247Z"
   },
   {
    "duration": 126,
    "start_time": "2021-09-02T07:18:53.254Z"
   },
   {
    "duration": 165,
    "start_time": "2021-09-02T07:18:53.382Z"
   },
   {
    "duration": 3,
    "start_time": "2021-09-02T07:18:53.549Z"
   },
   {
    "duration": 12900,
    "start_time": "2021-09-02T07:18:53.562Z"
   },
   {
    "duration": 8900,
    "start_time": "2021-09-02T07:19:06.467Z"
   },
   {
    "duration": 229119,
    "start_time": "2021-09-02T07:19:15.370Z"
   },
   {
    "duration": 168804,
    "start_time": "2021-09-02T07:23:04.492Z"
   },
   {
    "duration": 34102,
    "start_time": "2021-09-02T07:25:53.299Z"
   },
   {
    "duration": 364,
    "start_time": "2021-09-02T07:26:27.404Z"
   },
   {
    "duration": 31453,
    "start_time": "2021-09-02T07:26:27.776Z"
   },
   {
    "duration": 3017,
    "start_time": "2021-09-02T07:26:59.232Z"
   },
   {
    "duration": 37,
    "start_time": "2021-09-02T07:27:02.252Z"
   },
   {
    "duration": 42,
    "start_time": "2021-09-02T07:27:02.291Z"
   },
   {
    "duration": 511,
    "start_time": "2021-09-02T07:27:02.335Z"
   },
   {
    "duration": 251,
    "start_time": "2021-09-02T07:27:02.848Z"
   },
   {
    "duration": 1610,
    "start_time": "2021-09-02T07:31:31.328Z"
   },
   {
    "duration": 1125,
    "start_time": "2021-09-02T07:31:32.940Z"
   },
   {
    "duration": 27,
    "start_time": "2021-09-02T07:31:34.069Z"
   },
   {
    "duration": 185,
    "start_time": "2021-09-02T07:31:34.099Z"
   },
   {
    "duration": 177,
    "start_time": "2021-09-02T07:31:34.286Z"
   },
   {
    "duration": 377,
    "start_time": "2021-09-02T07:31:34.466Z"
   },
   {
    "duration": 646,
    "start_time": "2021-09-02T07:31:34.845Z"
   },
   {
    "duration": 801,
    "start_time": "2021-09-02T07:31:35.494Z"
   },
   {
    "duration": 16,
    "start_time": "2021-09-02T07:31:36.298Z"
   },
   {
    "duration": 63,
    "start_time": "2021-09-02T07:31:36.316Z"
   },
   {
    "duration": 209,
    "start_time": "2021-09-02T07:31:36.382Z"
   },
   {
    "duration": 88,
    "start_time": "2021-09-02T07:31:36.593Z"
   },
   {
    "duration": 307,
    "start_time": "2021-09-02T07:31:36.684Z"
   },
   {
    "duration": 267,
    "start_time": "2021-09-02T07:31:36.993Z"
   },
   {
    "duration": 257,
    "start_time": "2021-09-02T07:31:37.265Z"
   },
   {
    "duration": 52,
    "start_time": "2021-09-02T07:31:37.524Z"
   },
   {
    "duration": 606,
    "start_time": "2021-09-02T07:31:37.579Z"
   },
   {
    "duration": 584,
    "start_time": "2021-09-02T07:31:38.189Z"
   },
   {
    "duration": 191,
    "start_time": "2021-09-02T07:31:38.775Z"
   },
   {
    "duration": 903,
    "start_time": "2021-09-02T07:31:38.970Z"
   },
   {
    "duration": 184,
    "start_time": "2021-09-02T07:31:39.878Z"
   },
   {
    "duration": 6,
    "start_time": "2021-09-02T07:31:40.065Z"
   },
   {
    "duration": 154,
    "start_time": "2021-09-02T07:31:40.077Z"
   },
   {
    "duration": 182,
    "start_time": "2021-09-02T07:31:40.233Z"
   },
   {
    "duration": 4,
    "start_time": "2021-09-02T07:31:40.417Z"
   },
   {
    "duration": 130362,
    "start_time": "2021-09-02T07:31:40.423Z"
   },
   {
    "duration": 33113,
    "start_time": "2021-09-02T07:33:50.862Z"
   },
   {
    "duration": 227715,
    "start_time": "2021-09-02T07:34:23.978Z"
   },
   {
    "duration": 161316,
    "start_time": "2021-09-02T07:38:11.695Z"
   },
   {
    "duration": 6,
    "start_time": "2021-09-02T14:07:12.251Z"
   },
   {
    "duration": 1194,
    "start_time": "2021-09-02T14:07:12.259Z"
   },
   {
    "duration": 24,
    "start_time": "2021-09-02T14:07:13.456Z"
   },
   {
    "duration": 179,
    "start_time": "2021-09-02T14:07:13.483Z"
   },
   {
    "duration": 157,
    "start_time": "2021-09-02T14:07:13.664Z"
   },
   {
    "duration": 371,
    "start_time": "2021-09-02T14:07:13.823Z"
   },
   {
    "duration": 680,
    "start_time": "2021-09-02T14:07:14.197Z"
   },
   {
    "duration": 742,
    "start_time": "2021-09-02T14:07:14.880Z"
   },
   {
    "duration": 11,
    "start_time": "2021-09-02T14:07:15.626Z"
   },
   {
    "duration": 119,
    "start_time": "2021-09-02T14:07:15.640Z"
   },
   {
    "duration": 356,
    "start_time": "2021-09-02T14:07:15.761Z"
   },
   {
    "duration": 103,
    "start_time": "2021-09-02T14:07:16.119Z"
   },
   {
    "duration": 288,
    "start_time": "2021-09-02T14:07:16.225Z"
   },
   {
    "duration": 252,
    "start_time": "2021-09-02T14:07:16.515Z"
   },
   {
    "duration": 266,
    "start_time": "2021-09-02T14:07:16.770Z"
   },
   {
    "duration": 52,
    "start_time": "2021-09-02T14:07:17.038Z"
   },
   {
    "duration": 674,
    "start_time": "2021-09-02T14:07:17.092Z"
   },
   {
    "duration": 537,
    "start_time": "2021-09-02T14:07:17.769Z"
   },
   {
    "duration": 190,
    "start_time": "2021-09-02T14:07:18.308Z"
   },
   {
    "duration": 886,
    "start_time": "2021-09-02T14:07:18.501Z"
   },
   {
    "duration": 172,
    "start_time": "2021-09-02T14:07:19.390Z"
   },
   {
    "duration": 5,
    "start_time": "2021-09-02T14:07:19.564Z"
   },
   {
    "duration": 128,
    "start_time": "2021-09-02T14:07:19.572Z"
   },
   {
    "duration": 177,
    "start_time": "2021-09-02T14:07:19.703Z"
   },
   {
    "duration": 4,
    "start_time": "2021-09-02T14:07:19.883Z"
   },
   {
    "duration": 11879,
    "start_time": "2021-09-02T14:07:19.889Z"
   },
   {
    "duration": 8399,
    "start_time": "2021-09-02T14:07:31.773Z"
   },
   {
    "duration": 224330,
    "start_time": "2021-09-02T14:07:40.175Z"
   },
   {
    "duration": 156998,
    "start_time": "2021-09-02T14:11:24.507Z"
   },
   {
    "duration": 24267,
    "start_time": "2021-09-02T14:14:01.507Z"
   },
   {
    "duration": 201,
    "start_time": "2021-09-02T14:14:25.863Z"
   },
   {
    "duration": 31988,
    "start_time": "2021-09-02T14:14:26.067Z"
   },
   {
    "duration": 3188,
    "start_time": "2021-09-02T14:14:58.058Z"
   },
   {
    "duration": 28,
    "start_time": "2021-09-02T14:15:01.248Z"
   },
   {
    "duration": 45,
    "start_time": "2021-09-02T14:15:01.278Z"
   },
   {
    "duration": 542,
    "start_time": "2021-09-02T14:15:01.325Z"
   },
   {
    "duration": 264,
    "start_time": "2021-09-02T14:15:01.869Z"
   }
  ],
  "kernelspec": {
   "display_name": "Python 3",
   "language": "python",
   "name": "python3"
  },
  "language_info": {
   "codemirror_mode": {
    "name": "ipython",
    "version": 3
   },
   "file_extension": ".py",
   "mimetype": "text/x-python",
   "name": "python",
   "nbconvert_exporter": "python",
   "pygments_lexer": "ipython3",
   "version": "3.7.8"
  },
  "toc": {
   "base_numbering": 1,
   "nav_menu": {},
   "number_sections": true,
   "sideBar": true,
   "skip_h1_title": true,
   "title_cell": "Table of Contents",
   "title_sidebar": "Contents",
   "toc_cell": false,
   "toc_position": {
    "height": "calc(100% - 180px)",
    "left": "10px",
    "top": "150px",
    "width": "165px"
   },
   "toc_section_display": true,
   "toc_window_display": true
  }
 },
 "nbformat": 4,
 "nbformat_minor": 2
}
