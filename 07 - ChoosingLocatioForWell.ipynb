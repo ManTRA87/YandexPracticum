{
 "cells": [
  {
   "cell_type": "markdown",
   "metadata": {},
   "source": [
    "Привет, меня зовут Артем Хуршудов. Сегодня я проверю твой проект.\n",
    "<br> Дальнейшее общение будет происходить на \"ты\" если это не вызывает никаких проблем.\n",
    "<br> Желательно реагировать на каждый мой комментарий ('исправил', 'не понятно как исправить ошибку', ...)\n",
    "<br> Пожалуйста, не удаляй комментарии ревьюера, так как они повышают качество повторного ревью.\n",
    "\n",
    "Комментарии будут в <font color='green'>зеленой</font>, <font color='blue'>синей</font> или <font color='red'>красной</font> рамках:\n",
    "\n",
    "<div class=\"alert alert-block alert-success\">\n",
    "<b>Успех:</b> Если все сделано отлично\n",
    "</div>\n",
    "\n",
    "<div class=\"alert alert-block alert-info\">\n",
    "<b>Совет: </b> Если можно немного улучшить\n",
    "</div>\n",
    "\n",
    "<div class=\"alert alert-block alert-danger\">\n",
    "<b>Ошибка:</b> Если требуются исправления. Работа не может быть принята с красными комментариями.\n",
    "</div>\n",
    "\n",
    "-------------------\n",
    "\n",
    "Будет очень хорошо, если ты будешь помечать свои действия следующим образом:\n",
    "<div class=\"alert alert-block alert-warning\">\n",
    "<b>Комментарий студента:</b> ...\n",
    "</div>\n",
    "\n",
    "<div class=\"alert alert-block alert-warning\">\n",
    "<b>Изменения:</b> Были внесены следующие изменения ...\n",
    "</div>\n",
    "\n",
    "### <font color='orange'>Общее впечатление</font>\n",
    "* Большое спасибо за проделанную работу. Видно, что приложено много усилий.\n",
    "* Выводы и рассуждения получились содержательными, их было интересно читать.\n",
    "* Отлично, что доверительный интервал и риск убытков посчитаны верно.\n",
    "* Над этим проектом нужно будет еще немного поработать. Однако, изменения не должны занять много времени.\n",
    "* В работе я оставил несколько советов. Буду рад, если ты учтешь их.\n",
    "* С радостью отвечу на твои вопросы, если они есть. Лучше всего их собрать в следующей ячейке. Жду новую версию проекта."
   ]
  },
  {
   "cell_type": "markdown",
   "metadata": {},
   "source": [
    "### <font color='orange'>Общее впечатление (ревью 2)</font>\n",
    "* После исправлений проект улучшился и теперь он может быть зачтен.\n",
    "* Для удобства все новые комментарии обозначены фразой \"ревью 2\".\n",
    "* Удачи в дальнейшем обучении и следующих работах!"
   ]
  },
  {
   "cell_type": "markdown",
   "metadata": {},
   "source": [
    "# Выбор локации для скважины"
   ]
  },
  {
   "cell_type": "markdown",
   "metadata": {},
   "source": [
    "Допустим, вы работаете в добывающей компании «ГлавРосГосНефть». Нужно решить, где бурить новую скважину.\n",
    "\n",
    "Вам предоставлены пробы нефти в трёх регионах: в каждом 10 000 месторождений, где измерили качество нефти и объём её запасов. Постройте модель машинного обучения, которая поможет определить регион, где добыча принесёт наибольшую прибыль. Проанализируйте возможную прибыль и риски техникой *Bootstrap.*\n",
    "\n",
    "Шаги для выбора локации:\n",
    "\n",
    "- В избранном регионе ищут месторождения, для каждого определяют значения признаков;\n",
    "- Строят модель и оценивают объём запасов;\n",
    "- Выбирают месторождения с самым высокими оценками значений. Количество месторождений зависит от бюджета компании и стоимости разработки одной скважины;\n",
    "- Прибыль равна суммарной прибыли отобранных месторождений."
   ]
  },
  {
   "cell_type": "markdown",
   "metadata": {},
   "source": [
    "## Загрузка и подготовка данных"
   ]
  },
  {
   "cell_type": "code",
   "execution_count": 71,
   "metadata": {},
   "outputs": [],
   "source": [
    "import pandas as pd\n",
    "import numpy as np\n",
    "from sklearn.linear_model import LinearRegression \n",
    "from sklearn.model_selection import train_test_split\n",
    "from sklearn.metrics import mean_squared_error"
   ]
  },
  {
   "cell_type": "markdown",
   "metadata": {},
   "source": [
    "<div class=\"alert alert-block alert-success\">\n",
    "<b>Успех:</b> Отлично, что все импорты собраны в первой ячейке ноутбука! Если у того, кто будет запускать твой ноутбук будут отсутствовать некоторые библиотеки, то он это увидит сразу, а не в процессе!\n",
    "</div>"
   ]
  },
  {
   "cell_type": "code",
   "execution_count": 72,
   "metadata": {},
   "outputs": [],
   "source": [
    "geo_data_0 = pd.read_csv('/datasets/geo_data_0.csv')\n",
    "geo_data_1 = pd.read_csv('/datasets/geo_data_1.csv')\n",
    "geo_data_2 = pd.read_csv('/datasets/geo_data_2.csv')"
   ]
  },
  {
   "cell_type": "code",
   "execution_count": 73,
   "metadata": {},
   "outputs": [
    {
     "data": {
      "text/html": [
       "<div>\n",
       "<style scoped>\n",
       "    .dataframe tbody tr th:only-of-type {\n",
       "        vertical-align: middle;\n",
       "    }\n",
       "\n",
       "    .dataframe tbody tr th {\n",
       "        vertical-align: top;\n",
       "    }\n",
       "\n",
       "    .dataframe thead th {\n",
       "        text-align: right;\n",
       "    }\n",
       "</style>\n",
       "<table border=\"1\" class=\"dataframe\">\n",
       "  <thead>\n",
       "    <tr style=\"text-align: right;\">\n",
       "      <th></th>\n",
       "      <th>id</th>\n",
       "      <th>f0</th>\n",
       "      <th>f1</th>\n",
       "      <th>f2</th>\n",
       "      <th>product</th>\n",
       "    </tr>\n",
       "  </thead>\n",
       "  <tbody>\n",
       "    <tr>\n",
       "      <td>0</td>\n",
       "      <td>txEyH</td>\n",
       "      <td>0.705745</td>\n",
       "      <td>-0.497823</td>\n",
       "      <td>1.221170</td>\n",
       "      <td>105.280062</td>\n",
       "    </tr>\n",
       "    <tr>\n",
       "      <td>1</td>\n",
       "      <td>2acmU</td>\n",
       "      <td>1.334711</td>\n",
       "      <td>-0.340164</td>\n",
       "      <td>4.365080</td>\n",
       "      <td>73.037750</td>\n",
       "    </tr>\n",
       "    <tr>\n",
       "      <td>2</td>\n",
       "      <td>409Wp</td>\n",
       "      <td>1.022732</td>\n",
       "      <td>0.151990</td>\n",
       "      <td>1.419926</td>\n",
       "      <td>85.265647</td>\n",
       "    </tr>\n",
       "    <tr>\n",
       "      <td>3</td>\n",
       "      <td>iJLyR</td>\n",
       "      <td>-0.032172</td>\n",
       "      <td>0.139033</td>\n",
       "      <td>2.978566</td>\n",
       "      <td>168.620776</td>\n",
       "    </tr>\n",
       "    <tr>\n",
       "      <td>4</td>\n",
       "      <td>Xdl7t</td>\n",
       "      <td>1.988431</td>\n",
       "      <td>0.155413</td>\n",
       "      <td>4.751769</td>\n",
       "      <td>154.036647</td>\n",
       "    </tr>\n",
       "  </tbody>\n",
       "</table>\n",
       "</div>"
      ],
      "text/plain": [
       "      id        f0        f1        f2     product\n",
       "0  txEyH  0.705745 -0.497823  1.221170  105.280062\n",
       "1  2acmU  1.334711 -0.340164  4.365080   73.037750\n",
       "2  409Wp  1.022732  0.151990  1.419926   85.265647\n",
       "3  iJLyR -0.032172  0.139033  2.978566  168.620776\n",
       "4  Xdl7t  1.988431  0.155413  4.751769  154.036647"
      ]
     },
     "execution_count": 73,
     "metadata": {},
     "output_type": "execute_result"
    }
   ],
   "source": [
    "geo_data_0.head()"
   ]
  },
  {
   "cell_type": "markdown",
   "metadata": {},
   "source": [
    "<b>Создание словаря из датасетов</b>"
   ]
  },
  {
   "cell_type": "code",
   "execution_count": 74,
   "metadata": {},
   "outputs": [],
   "source": [
    "data_dict = {'reg 1': geo_data_0, \n",
    "             'reg 2': geo_data_1, \n",
    "             'reg 3': geo_data_2}"
   ]
  },
  {
   "cell_type": "markdown",
   "metadata": {},
   "source": [
    "<b>Просмотр информации о данных и поиск дубликатов</b>"
   ]
  },
  {
   "cell_type": "code",
   "execution_count": 75,
   "metadata": {},
   "outputs": [
    {
     "name": "stdout",
     "output_type": "stream",
     "text": [
      "<class 'pandas.core.frame.DataFrame'>\n",
      "RangeIndex: 100000 entries, 0 to 99999\n",
      "Data columns (total 5 columns):\n",
      "id         100000 non-null object\n",
      "f0         100000 non-null float64\n",
      "f1         100000 non-null float64\n",
      "f2         100000 non-null float64\n",
      "product    100000 non-null float64\n",
      "dtypes: float64(4), object(1)\n",
      "memory usage: 3.8+ MB\n",
      "Количество дубликатов:  0\n",
      "\n",
      "\n",
      "<class 'pandas.core.frame.DataFrame'>\n",
      "RangeIndex: 100000 entries, 0 to 99999\n",
      "Data columns (total 5 columns):\n",
      "id         100000 non-null object\n",
      "f0         100000 non-null float64\n",
      "f1         100000 non-null float64\n",
      "f2         100000 non-null float64\n",
      "product    100000 non-null float64\n",
      "dtypes: float64(4), object(1)\n",
      "memory usage: 3.8+ MB\n",
      "Количество дубликатов:  0\n",
      "\n",
      "\n",
      "<class 'pandas.core.frame.DataFrame'>\n",
      "RangeIndex: 100000 entries, 0 to 99999\n",
      "Data columns (total 5 columns):\n",
      "id         100000 non-null object\n",
      "f0         100000 non-null float64\n",
      "f1         100000 non-null float64\n",
      "f2         100000 non-null float64\n",
      "product    100000 non-null float64\n",
      "dtypes: float64(4), object(1)\n",
      "memory usage: 3.8+ MB\n",
      "Количество дубликатов:  0\n",
      "\n",
      "\n"
     ]
    }
   ],
   "source": [
    "for key, value in data_dict.items():\n",
    "    value.info()\n",
    "    print('Количество дубликатов: ', value.duplicated().sum())\n",
    "    print('\\n')"
   ]
  },
  {
   "cell_type": "markdown",
   "metadata": {},
   "source": [
    "### Вывод"
   ]
  },
  {
   "cell_type": "markdown",
   "metadata": {},
   "source": [
    "Данные, содержащие информацию по геологоразведке, представлены в трех файлах, каждый из которых содержит 100000 строк и 5 столбцов. Объем каждого датасета около 4 МБ, пропущенных значений, дубликатов и категориальных признаков нет. Для удобства дальнейшей работы с данными был создан словарь, содержащий датасеты."
   ]
  },
  {
   "cell_type": "markdown",
   "metadata": {},
   "source": [
    "<div class=\"alert alert-block alert-success\">\n",
    "<b>Успех:</b> Данные загружены корректно.\n",
    "</div>"
   ]
  },
  {
   "cell_type": "markdown",
   "metadata": {},
   "source": [
    "## Обучение и проверка модели"
   ]
  },
  {
   "cell_type": "code",
   "execution_count": 76,
   "metadata": {},
   "outputs": [],
   "source": [
    "state=np.random.RandomState(123)"
   ]
  },
  {
   "cell_type": "code",
   "execution_count": 77,
   "metadata": {},
   "outputs": [
    {
     "name": "stdout",
     "output_type": "stream",
     "text": [
      "reg 1 : Средний запас:  92.54936189116341\n",
      "reg 1 : RMSE:  37.64786282376176\n",
      "\n",
      "\n",
      "reg 2 : Средний запас:  69.03253321474074\n",
      "reg 2 : RMSE:  0.889776104011695\n",
      "\n",
      "\n",
      "reg 3 : Средний запас:  95.05595470692742\n",
      "reg 3 : RMSE:  40.017972714679544\n",
      "\n",
      "\n"
     ]
    }
   ],
   "source": [
    "results_valid = []\n",
    "\n",
    "for key, value in data_dict.items():\n",
    "    features = value.drop(['id', 'product'], axis=1)\n",
    "    target = value['product']       \n",
    "    features_train, features_valid, target_train, target_valid = train_test_split(features, \n",
    "                                                                                  target, \n",
    "                                                                                  train_size=0.75, \n",
    "                                                                                  test_size=0.25, \n",
    "                                                                                  random_state=state)\n",
    "    model = LinearRegression()\n",
    "    model.fit(features_train, target_train)   \n",
    "    predictions = model.predict(features_valid)\n",
    "    \n",
    "    stock_average = sum(predictions) / len(predictions)\n",
    "    rmse = (mean_squared_error(predictions, target_valid))**(0.5)\n",
    "    \n",
    "    results_valid.append({'target_valid': target_valid,\n",
    "                          'predictions': pd.Series(predictions, index=target_valid.index)})\n",
    "    \n",
    "    print(key,':', 'Средний запас: ', stock_average)\n",
    "    print(key,':', 'RMSE: ', rmse)\n",
    "    print('\\n')"
   ]
  },
  {
   "cell_type": "markdown",
   "metadata": {},
   "source": [
    "### Вывод"
   ]
  },
  {
   "cell_type": "markdown",
   "metadata": {},
   "source": [
    "Наибольшее среднее значение запаса сырья в регионе 3, но RMSE лучше для региона 2. По значению метрики RMSE можно сделать вывод, что модель отрабатывает более точно для данных региона 2."
   ]
  },
  {
   "cell_type": "markdown",
   "metadata": {},
   "source": [
    "<div class=\"alert alert-block alert-success\">\n",
    "<b>Успех:</b> Модели обучены корректно. Радует, что ты активно используешь циклы. Это помогает избежать дублирования кода, а значит уменьшает вероятность совершить ошибку/опечатку!\n",
    "</div>"
   ]
  },
  {
   "cell_type": "markdown",
   "metadata": {},
   "source": [
    "## Подготовка к расчёту прибыли"
   ]
  },
  {
   "cell_type": "markdown",
   "metadata": {},
   "source": [
    "<b>Сохранение ключевых значений для расчетов в отдельных переменных</b>"
   ]
  },
  {
   "cell_type": "code",
   "execution_count": 78,
   "metadata": {},
   "outputs": [],
   "source": [
    "POINTS = 500\n",
    "BEST_POINTS = 200\n",
    "BUDGET = 10 * 10e8\n",
    "UNIT_PRIDUCT_PROFIT = 450000\n",
    "RISK = .025"
   ]
  },
  {
   "cell_type": "markdown",
   "metadata": {},
   "source": [
    "<div class=\"alert alert-block alert-info\">\n",
    "<b>Совет: </b> В названиях константных переменных лучше использовать только БОЛЬШИЕ буквы. Это соглашение между программистами.\n",
    "</div>"
   ]
  },
  {
   "cell_type": "markdown",
   "metadata": {},
   "source": [
    "<div class=\"alert alert-block alert-success\">\n",
    "<b>Успех (ревью 2):</b> Спасибо!\n",
    "</div>"
   ]
  },
  {
   "cell_type": "markdown",
   "metadata": {},
   "source": [
    "<b>Рассчет достаточного объёма сырья для безубыточной разработки новой скважины</b>"
   ]
  },
  {
   "cell_type": "code",
   "execution_count": 79,
   "metadata": {},
   "outputs": [
    {
     "name": "stdout",
     "output_type": "stream",
     "text": [
      "Минимальный объем ресурсов для разработки новой скважины:  111.11111111111111\n"
     ]
    }
   ],
   "source": [
    "budget_one_well = BUDGET / BEST_POINTS\n",
    "min_product_stock = budget_one_well / UNIT_PRIDUCT_PROFIT\n",
    "print('Минимальный объем ресурсов для разработки новой скважины: ', min_product_stock)"
   ]
  },
  {
   "cell_type": "markdown",
   "metadata": {},
   "source": [
    "### Вывод"
   ]
  },
  {
   "cell_type": "markdown",
   "metadata": {},
   "source": [
    "По результатам расчетов для безубыточной разработки в одной скважине должно содержаться минимум 112 тысяч баррелей нефти, что привышает рассчитанный выше среднестатистический запас."
   ]
  },
  {
   "cell_type": "markdown",
   "metadata": {},
   "source": [
    "<div class=\"alert alert-block alert-success\">\n",
    "<b>Успех:</b> Точка безубыточности найдена верно, сравнение проведено!\n",
    "</div>"
   ]
  },
  {
   "cell_type": "markdown",
   "metadata": {},
   "source": [
    "## Расчёт прибыли и рисков "
   ]
  },
  {
   "cell_type": "markdown",
   "metadata": {},
   "source": [
    "<b>Создание функции для расчёта прибыли по выбранным скважинам и предсказаниям модели</b>"
   ]
  },
  {
   "cell_type": "code",
   "execution_count": 80,
   "metadata": {},
   "outputs": [],
   "source": [
    "def profit_risk(target, probabilities, count):\n",
    "    #probs_top = probabilities.sort_values(ascending = False).head(count).index\n",
    "    #stock_summ = target[probs_top].sum() * unit_product_profit\n",
    "    \n",
    "    probs_top = probabilities.sort_values(ascending=False).index\n",
    "    stock_summ = target[probs_top][:count]\n",
    "    final_profit = stock_summ.sum() * unit_product_profit\n",
    "    return final_profit - BUDGET"
   ]
  },
  {
   "cell_type": "markdown",
   "metadata": {},
   "source": [
    "<div class=\"alert alert-block alert-danger\">\n",
    "<b>Ошибка:</b> Пожалуйста, напечатай размер target[probs_top] во время бутстраппирования, подумай, почему так произошло?\n",
    "</div>"
   ]
  },
  {
   "cell_type": "markdown",
   "metadata": {},
   "source": [
    "<div class=\"alert alert-block alert-warning\">\n",
    "Переписала немного функцию расчета прибыли, возможно, проблема в индексации, но я, если честно, не очень поняла)). Смотрела в нашем тренажере, там есть подобная задача, попробовала там вывести размер target[probs], тоже выходит ошибка: KeyError: 0. Ошибки нет, если в функции sample() я делаю replace=False, то есть отказываюсь от выборок с возвращенными элементами, но мне кажется, это не правильно, может привести к искаженным результатам. \n",
    "</div>"
   ]
  },
  {
   "cell_type": "markdown",
   "metadata": {},
   "source": [
    "<div class=\"alert alert-block alert-success\">\n",
    "<b>Успех (ревью 2):</b> Сейчас все верно. Ты права, проблемма в том, что индексы дублируются.\n",
    "</div>"
   ]
  },
  {
   "cell_type": "markdown",
   "metadata": {},
   "source": [
    "<b>Подсчет рисков и прибыли для каждого региона с применением техники Bootstrap</b>"
   ]
  },
  {
   "cell_type": "code",
   "execution_count": 81,
   "metadata": {},
   "outputs": [
    {
     "name": "stdout",
     "output_type": "stream",
     "text": [
      "Регион  1 : Средняя прибыль:  50.86\n",
      "Регион  1 : Доверительный интервал 95%:  (2.000674870515542, 104.31255663184396)\n",
      "Регион  1 : Риск убытков:  2.3\n",
      "\n",
      "\n",
      "Регион  2 : Средняя прибыль:  53.74\n",
      "Регион  2 : Доверительный интервал 95%:  (13.80409948288053, 95.7158372556443)\n",
      "Регион  2 : Риск убытков:  0.4\n",
      "\n",
      "\n",
      "Регион  3 : Средняя прибыль:  39.5\n",
      "Регион  3 : Доверительный интервал 95%:  (-16.65059205621542, 94.70073899384123)\n",
      "Регион  3 : Риск убытков:  8.5\n",
      "\n",
      "\n"
     ]
    }
   ],
   "source": [
    "for index, dictionary in enumerate(results_valid):\n",
    "    target_valid = dictionary.get('target_valid')\n",
    "    predictions = pd.Series(dictionary.get('predictions'), index=target_valid.index)\n",
    "    \n",
    "    values = []\n",
    "    \n",
    "    for i in range(1000):        \n",
    "        target_subsample = target_valid.sample(n=POINTS, replace=True, random_state=state)\n",
    "        probs_subsample = predictions[target_subsample.index]\n",
    "        #print(target_subsample[probs_subsample].shape)\n",
    "        \n",
    "        values.append(profit_risk(target_subsample, probs_subsample, BEST_POINTS))\n",
    "    \n",
    "    values = pd.Series(values)\n",
    "\n",
    "    mean = values.mean() / 10e6\n",
    "    lower = values.quantile(RISK) / 10e6\n",
    "    upper = values.quantile(1 - RISK) / 10e6\n",
    "    confidence_interval = (lower, upper)\n",
    "    risk_of_loss = (values < 0).sum() / values.count() * 100\n",
    "\n",
    "    print('Регион ', index+1,':', 'Средняя прибыль: ', mean.round(2))\n",
    "    print('Регион ', index+1,':', 'Доверительный интервал 95%: ', confidence_interval)\n",
    "    print('Регион ', index+1,':', 'Риск убытков: ', risk_of_loss)\n",
    "    print('\\n')"
   ]
  },
  {
   "cell_type": "markdown",
   "metadata": {},
   "source": [
    "<div class=\"alert alert-block alert-success\">\n",
    "<b>Успех:</b> Отлично, что для подсчета доверительного интервала использовался именно метод квантилей.\n",
    "</div>"
   ]
  },
  {
   "cell_type": "markdown",
   "metadata": {},
   "source": [
    "<div class=\"alert alert-block alert-info\">\n",
    "\n",
    "<b>Совет: </b> Риск можно было найти чуть проще: `(values < 0).mean()`, если объект типа pandas Series или numpy array.\n",
    "</div>"
   ]
  },
  {
   "cell_type": "markdown",
   "metadata": {},
   "source": [
    "## Вывод"
   ]
  },
  {
   "cell_type": "markdown",
   "metadata": {},
   "source": [
    "В ходе работы осуществлено проектирование модели, задача которой - определение региона, разработка месторождений в котором принесет наибольшую прибыль. По результату работы модели можно сделать вывод, что наибольшую прибыль принесет добыча нефти в Регионе 2, при этом риск убытков в данном регионе также является минимальным и составляет порядка 0.4%."
   ]
  },
  {
   "cell_type": "markdown",
   "metadata": {},
   "source": [
    "<div class=\"alert alert-block alert-success\">\n",
    "<b>Успех:</b> С выбором региона согласен.\n",
    "</div>"
   ]
  },
  {
   "cell_type": "markdown",
   "metadata": {},
   "source": [
    "## Чек-лист готовности проекта"
   ]
  },
  {
   "cell_type": "markdown",
   "metadata": {},
   "source": [
    "Поставьте 'x' в выполненных пунктах. Далее нажмите Shift+Enter."
   ]
  },
  {
   "cell_type": "markdown",
   "metadata": {},
   "source": [
    "- [x]  Jupyter Notebook открыт\n",
    "- [x]  Весь код выполняется без ошибок\n",
    "- [x]  Ячейки с кодом расположены в порядке исполнения\n",
    "- [x]  Выполнен шаг 1: данные подготовлены\n",
    "- [x]  Выполнен шаг 2: модели обучены и проверены\n",
    "    - [x]  Данные корректно разбиты на обучающую и валидационную выборки\n",
    "    - [x]  Модели обучены, предсказания сделаны\n",
    "    - [x]  Предсказания и правильные ответы на валидационной выборке сохранены\n",
    "    - [x]  На экране напечатаны результаты\n",
    "    - [x]  Сделаны выводы\n",
    "- [x]  Выполнен шаг 3: проведена подготовка к расчёту прибыли\n",
    "    - [x]  Для всех ключевых значений созданы константы Python\n",
    "    - [x]  Посчитано минимальное среднее количество продукта в месторождениях региона, достаточное для разработки\n",
    "    - [x]  По предыдущему пункту сделаны выводы\n",
    "    - [x]  Написана функция расчёта прибыли\n",
    "- [x]  Выполнен шаг 4: посчитаны риски и прибыль\n",
    "    - [x]  Проведена процедура *Bootstrap*\n",
    "    - [x]  Все параметры бутстрепа соответствуют условию\n",
    "    - [x]  Найдены все нужные величины\n",
    "    - [x]  Предложен регион для разработки месторождения\n",
    "    - [x]  Выбор региона обоснован"
   ]
  },
  {
   "cell_type": "code",
   "execution_count": null,
   "metadata": {},
   "outputs": [],
   "source": []
  }
 ],
 "metadata": {
  "ExecuteTimeLog": [
   {
    "duration": 346,
    "start_time": "2021-06-22T07:05:42.854Z"
   },
   {
    "duration": 748,
    "start_time": "2021-06-22T07:06:02.299Z"
   },
   {
    "duration": 472,
    "start_time": "2021-06-22T07:06:03.049Z"
   },
   {
    "duration": 22,
    "start_time": "2021-06-22T07:07:55.620Z"
   },
   {
    "duration": 13,
    "start_time": "2021-06-22T07:08:08.953Z"
   },
   {
    "duration": 13,
    "start_time": "2021-06-22T07:08:20.375Z"
   },
   {
    "duration": 15,
    "start_time": "2021-06-22T07:09:28.969Z"
   },
   {
    "duration": 14,
    "start_time": "2021-06-22T07:09:43.202Z"
   },
   {
    "duration": 14,
    "start_time": "2021-06-22T07:09:56.092Z"
   },
   {
    "duration": 388,
    "start_time": "2021-06-22T11:02:50.994Z"
   },
   {
    "duration": 722,
    "start_time": "2021-06-22T11:02:56.551Z"
   },
   {
    "duration": 3004,
    "start_time": "2021-06-22T11:02:57.275Z"
   },
   {
    "duration": 32,
    "start_time": "2021-06-22T11:03:00.282Z"
   },
   {
    "duration": 26,
    "start_time": "2021-06-22T11:03:00.316Z"
   },
   {
    "duration": 13,
    "start_time": "2021-06-22T11:03:00.344Z"
   },
   {
    "duration": 15,
    "start_time": "2021-06-22T11:03:00.359Z"
   },
   {
    "duration": 88,
    "start_time": "2021-06-22T11:03:00.376Z"
   },
   {
    "duration": 63,
    "start_time": "2021-06-22T11:03:13.352Z"
   },
   {
    "duration": 67,
    "start_time": "2021-06-22T11:03:20.821Z"
   },
   {
    "duration": 964,
    "start_time": "2021-06-22T11:12:01.876Z"
   },
   {
    "duration": 22,
    "start_time": "2021-06-22T11:14:04.821Z"
   },
   {
    "duration": 60,
    "start_time": "2021-06-22T11:14:17.905Z"
   },
   {
    "duration": 61,
    "start_time": "2021-06-22T11:15:41.432Z"
   },
   {
    "duration": 5,
    "start_time": "2021-06-22T11:18:39.353Z"
   },
   {
    "duration": 122,
    "start_time": "2021-06-22T11:18:48.430Z"
   },
   {
    "duration": 173,
    "start_time": "2021-06-22T11:18:55.059Z"
   },
   {
    "duration": 24,
    "start_time": "2021-06-22T11:19:07.390Z"
   },
   {
    "duration": 13,
    "start_time": "2021-06-22T11:19:15.988Z"
   },
   {
    "duration": 28,
    "start_time": "2021-06-22T11:25:57.906Z"
   },
   {
    "duration": 58,
    "start_time": "2021-06-22T11:27:12.995Z"
   },
   {
    "duration": 6,
    "start_time": "2021-06-22T11:27:21.196Z"
   },
   {
    "duration": 30,
    "start_time": "2021-06-22T11:27:45.479Z"
   },
   {
    "duration": 5,
    "start_time": "2021-06-22T11:28:22.469Z"
   },
   {
    "duration": 363,
    "start_time": "2021-06-22T11:30:48.745Z"
   },
   {
    "duration": 251,
    "start_time": "2021-06-22T11:31:05.358Z"
   },
   {
    "duration": 3,
    "start_time": "2021-06-22T11:33:33.197Z"
   },
   {
    "duration": 299,
    "start_time": "2021-06-22T11:34:35.779Z"
   },
   {
    "duration": 25,
    "start_time": "2021-06-22T11:35:11.236Z"
   },
   {
    "duration": 17,
    "start_time": "2021-06-22T11:35:33.086Z"
   },
   {
    "duration": 4,
    "start_time": "2021-06-22T11:35:35.926Z"
   },
   {
    "duration": 48,
    "start_time": "2021-06-22T11:35:38.826Z"
   },
   {
    "duration": 295,
    "start_time": "2021-06-22T11:36:33.075Z"
   },
   {
    "duration": 4,
    "start_time": "2021-06-22T11:36:48.986Z"
   },
   {
    "duration": 27,
    "start_time": "2021-06-22T11:36:52.148Z"
   },
   {
    "duration": 13,
    "start_time": "2021-06-22T11:47:51.330Z"
   },
   {
    "duration": 9,
    "start_time": "2021-06-22T11:48:13.160Z"
   },
   {
    "duration": 12,
    "start_time": "2021-06-22T11:49:28.894Z"
   },
   {
    "duration": 12,
    "start_time": "2021-06-22T11:49:51.175Z"
   },
   {
    "duration": 13,
    "start_time": "2021-06-22T11:50:20.376Z"
   },
   {
    "duration": 5,
    "start_time": "2021-06-22T11:50:28.833Z"
   },
   {
    "duration": 10,
    "start_time": "2021-06-22T11:51:02.820Z"
   },
   {
    "duration": 7,
    "start_time": "2021-06-22T11:51:04.418Z"
   },
   {
    "duration": 24,
    "start_time": "2021-06-22T11:51:28.188Z"
   },
   {
    "duration": 3,
    "start_time": "2021-06-22T12:15:05.388Z"
   },
   {
    "duration": 1253,
    "start_time": "2021-06-22T12:15:05.395Z"
   },
   {
    "duration": 11,
    "start_time": "2021-06-22T12:15:06.651Z"
   },
   {
    "duration": 17,
    "start_time": "2021-06-22T12:15:06.665Z"
   },
   {
    "duration": 37,
    "start_time": "2021-06-22T12:15:06.684Z"
   },
   {
    "duration": 17,
    "start_time": "2021-06-22T12:15:06.724Z"
   },
   {
    "duration": 216,
    "start_time": "2021-06-22T12:15:06.743Z"
   },
   {
    "duration": 73,
    "start_time": "2021-06-22T12:15:06.961Z"
   },
   {
    "duration": 6,
    "start_time": "2021-06-22T12:15:07.037Z"
   },
   {
    "duration": 15,
    "start_time": "2021-06-22T12:15:07.045Z"
   },
   {
    "duration": 7,
    "start_time": "2021-06-22T12:15:07.062Z"
   },
   {
    "duration": 56,
    "start_time": "2021-06-22T12:15:07.071Z"
   },
   {
    "duration": 13,
    "start_time": "2021-06-22T12:15:07.130Z"
   },
   {
    "duration": 99,
    "start_time": "2021-06-22T12:15:07.215Z"
   },
   {
    "duration": 3,
    "start_time": "2021-06-22T12:15:23.520Z"
   },
   {
    "duration": 459,
    "start_time": "2021-06-22T12:15:23.526Z"
   },
   {
    "duration": 23,
    "start_time": "2021-06-22T12:15:23.988Z"
   },
   {
    "duration": 13,
    "start_time": "2021-06-22T12:15:24.014Z"
   },
   {
    "duration": 15,
    "start_time": "2021-06-22T12:15:24.030Z"
   },
   {
    "duration": 14,
    "start_time": "2021-06-22T12:15:24.048Z"
   },
   {
    "duration": 235,
    "start_time": "2021-06-22T12:15:24.064Z"
   },
   {
    "duration": 65,
    "start_time": "2021-06-22T12:15:24.303Z"
   },
   {
    "duration": 6,
    "start_time": "2021-06-22T12:15:24.371Z"
   },
   {
    "duration": 40,
    "start_time": "2021-06-22T12:15:24.380Z"
   },
   {
    "duration": 8,
    "start_time": "2021-06-22T12:15:24.422Z"
   },
   {
    "duration": 28,
    "start_time": "2021-06-22T12:15:24.432Z"
   },
   {
    "duration": 156,
    "start_time": "2021-06-22T12:15:24.462Z"
   },
   {
    "duration": 97,
    "start_time": "2021-06-22T12:15:24.621Z"
   },
   {
    "duration": 268,
    "start_time": "2021-06-22T13:02:21.279Z"
   },
   {
    "duration": 294,
    "start_time": "2021-06-22T13:03:45.591Z"
   },
   {
    "duration": 4,
    "start_time": "2021-06-22T13:04:37.200Z"
   },
   {
    "duration": 23,
    "start_time": "2021-06-22T13:04:57.049Z"
   },
   {
    "duration": 279,
    "start_time": "2021-06-22T13:05:04.148Z"
   },
   {
    "duration": 22,
    "start_time": "2021-06-22T13:05:08.260Z"
   },
   {
    "duration": 3,
    "start_time": "2021-06-22T13:05:24.091Z"
   },
   {
    "duration": 247,
    "start_time": "2021-06-22T13:05:56.620Z"
   },
   {
    "duration": 3,
    "start_time": "2021-06-22T13:07:28.048Z"
   },
   {
    "duration": 4,
    "start_time": "2021-06-22T13:07:39.830Z"
   },
   {
    "duration": 3,
    "start_time": "2021-06-22T13:07:51.078Z"
   },
   {
    "duration": 4,
    "start_time": "2021-06-22T13:08:44.498Z"
   },
   {
    "duration": 50,
    "start_time": "2021-06-22T13:08:55.140Z"
   },
   {
    "duration": 419,
    "start_time": "2021-06-22T13:09:06.278Z"
   },
   {
    "duration": 3,
    "start_time": "2021-06-22T13:09:22.717Z"
   },
   {
    "duration": 477,
    "start_time": "2021-06-22T13:09:22.722Z"
   },
   {
    "duration": 12,
    "start_time": "2021-06-22T13:09:23.202Z"
   },
   {
    "duration": 17,
    "start_time": "2021-06-22T13:09:23.216Z"
   },
   {
    "duration": 13,
    "start_time": "2021-06-22T13:09:23.235Z"
   },
   {
    "duration": 12,
    "start_time": "2021-06-22T13:09:23.250Z"
   },
   {
    "duration": 217,
    "start_time": "2021-06-22T13:09:23.265Z"
   },
   {
    "duration": 3,
    "start_time": "2021-06-22T13:09:23.485Z"
   },
   {
    "duration": 72,
    "start_time": "2021-06-22T13:09:23.491Z"
   },
   {
    "duration": 4,
    "start_time": "2021-06-22T13:09:23.566Z"
   },
   {
    "duration": 16,
    "start_time": "2021-06-22T13:09:23.572Z"
   },
   {
    "duration": 26,
    "start_time": "2021-06-22T13:09:23.590Z"
   },
   {
    "duration": 339,
    "start_time": "2021-06-22T13:09:23.618Z"
   },
   {
    "duration": 616,
    "start_time": "2021-06-22T13:09:23.344Z"
   },
   {
    "duration": 614,
    "start_time": "2021-06-22T13:09:23.348Z"
   },
   {
    "duration": 585,
    "start_time": "2021-06-22T13:09:23.379Z"
   },
   {
    "duration": 280,
    "start_time": "2021-06-22T13:10:03.551Z"
   },
   {
    "duration": 286,
    "start_time": "2021-06-22T13:10:04.198Z"
   },
   {
    "duration": 4,
    "start_time": "2021-06-22T13:10:23.889Z"
   },
   {
    "duration": 4,
    "start_time": "2021-06-22T13:10:29.890Z"
   },
   {
    "duration": 392,
    "start_time": "2021-06-22T13:10:31.341Z"
   },
   {
    "duration": 1473,
    "start_time": "2021-06-22T13:24:26.949Z"
   },
   {
    "duration": 497,
    "start_time": "2021-06-22T13:24:28.425Z"
   },
   {
    "duration": 24,
    "start_time": "2021-06-22T13:24:28.925Z"
   },
   {
    "duration": 43,
    "start_time": "2021-06-22T13:24:28.952Z"
   },
   {
    "duration": 17,
    "start_time": "2021-06-22T13:24:28.998Z"
   },
   {
    "duration": 21,
    "start_time": "2021-06-22T13:24:29.018Z"
   },
   {
    "duration": 222,
    "start_time": "2021-06-22T13:24:29.042Z"
   },
   {
    "duration": 3,
    "start_time": "2021-06-22T13:24:29.267Z"
   },
   {
    "duration": 71,
    "start_time": "2021-06-22T13:24:29.274Z"
   },
   {
    "duration": 6,
    "start_time": "2021-06-22T13:24:29.348Z"
   },
   {
    "duration": 38,
    "start_time": "2021-06-22T13:24:29.357Z"
   },
   {
    "duration": 12,
    "start_time": "2021-06-22T13:24:29.398Z"
   },
   {
    "duration": 15,
    "start_time": "2021-06-22T13:24:29.413Z"
   },
   {
    "duration": 472,
    "start_time": "2021-06-22T13:24:29.430Z"
   },
   {
    "duration": 550,
    "start_time": "2021-06-22T13:24:29.356Z"
   },
   {
    "duration": 548,
    "start_time": "2021-06-22T13:24:29.359Z"
   },
   {
    "duration": 545,
    "start_time": "2021-06-22T13:24:29.364Z"
   },
   {
    "duration": 455,
    "start_time": "2021-06-22T13:25:10.358Z"
   },
   {
    "duration": 395,
    "start_time": "2021-06-22T13:26:18.186Z"
   },
   {
    "duration": 3,
    "start_time": "2021-06-22T13:26:36.817Z"
   },
   {
    "duration": 391,
    "start_time": "2021-06-22T13:26:37.811Z"
   },
   {
    "duration": 468,
    "start_time": "2021-06-22T13:27:47.355Z"
   },
   {
    "duration": 519,
    "start_time": "2021-06-22T13:27:58.568Z"
   },
   {
    "duration": 488,
    "start_time": "2021-06-22T13:29:30.301Z"
   },
   {
    "duration": 525,
    "start_time": "2021-06-22T13:29:52.766Z"
   },
   {
    "duration": 514,
    "start_time": "2021-06-22T13:30:41.680Z"
   },
   {
    "duration": 44,
    "start_time": "2021-06-22T13:30:50.115Z"
   },
   {
    "duration": 649,
    "start_time": "2021-06-22T13:33:20.237Z"
   },
   {
    "duration": 49,
    "start_time": "2021-06-22T13:33:24.069Z"
   },
   {
    "duration": 281,
    "start_time": "2021-06-22T13:34:04.742Z"
   },
   {
    "duration": 96,
    "start_time": "2021-06-22T13:34:57.018Z"
   },
   {
    "duration": 534,
    "start_time": "2021-06-22T13:36:01.852Z"
   },
   {
    "duration": 409,
    "start_time": "2021-06-22T13:36:17.508Z"
   },
   {
    "duration": 111,
    "start_time": "2021-06-22T13:36:32.444Z"
   },
   {
    "duration": 560,
    "start_time": "2021-06-22T13:36:37.529Z"
   },
   {
    "duration": 589,
    "start_time": "2021-06-22T13:36:52.595Z"
   },
   {
    "duration": 488,
    "start_time": "2021-06-22T13:37:01.800Z"
   },
   {
    "duration": 96,
    "start_time": "2021-06-22T13:44:44.841Z"
   },
   {
    "duration": 539,
    "start_time": "2021-06-22T13:45:14.553Z"
   },
   {
    "duration": 549,
    "start_time": "2021-06-22T13:45:34.244Z"
   },
   {
    "duration": 196,
    "start_time": "2021-06-22T13:45:39.449Z"
   },
   {
    "duration": 494,
    "start_time": "2021-06-22T13:46:27.195Z"
   },
   {
    "duration": 486,
    "start_time": "2021-06-22T13:46:50.202Z"
   },
   {
    "duration": 547,
    "start_time": "2021-06-22T13:47:08.146Z"
   },
   {
    "duration": 550,
    "start_time": "2021-06-22T13:47:20.342Z"
   },
   {
    "duration": 547,
    "start_time": "2021-06-22T13:48:58.444Z"
   },
   {
    "duration": 491,
    "start_time": "2021-06-22T13:49:46.896Z"
   },
   {
    "duration": 426,
    "start_time": "2021-06-22T13:50:59.802Z"
   },
   {
    "duration": 407,
    "start_time": "2021-06-22T13:51:21.200Z"
   },
   {
    "duration": 60,
    "start_time": "2021-06-22T13:51:30.144Z"
   },
   {
    "duration": 376,
    "start_time": "2021-06-22T13:51:48.534Z"
   },
   {
    "duration": 64,
    "start_time": "2021-06-22T13:51:50.847Z"
   },
   {
    "duration": 1409,
    "start_time": "2021-06-23T06:17:36.410Z"
   },
   {
    "duration": 478,
    "start_time": "2021-06-23T06:17:37.822Z"
   },
   {
    "duration": 22,
    "start_time": "2021-06-23T06:17:38.303Z"
   },
   {
    "duration": 23,
    "start_time": "2021-06-23T06:17:38.328Z"
   },
   {
    "duration": 14,
    "start_time": "2021-06-23T06:17:38.353Z"
   },
   {
    "duration": 42,
    "start_time": "2021-06-23T06:17:38.369Z"
   },
   {
    "duration": 206,
    "start_time": "2021-06-23T06:17:38.414Z"
   },
   {
    "duration": 3,
    "start_time": "2021-06-23T06:17:38.623Z"
   },
   {
    "duration": 6,
    "start_time": "2021-06-23T06:17:38.629Z"
   },
   {
    "duration": 7,
    "start_time": "2021-06-23T06:17:38.638Z"
   },
   {
    "duration": 565,
    "start_time": "2021-06-23T06:17:38.647Z"
   },
   {
    "duration": 4,
    "start_time": "2021-06-23T07:37:54.834Z"
   },
   {
    "duration": 468,
    "start_time": "2021-06-23T07:37:54.841Z"
   },
   {
    "duration": 12,
    "start_time": "2021-06-23T07:37:55.312Z"
   },
   {
    "duration": 32,
    "start_time": "2021-06-23T07:37:55.327Z"
   },
   {
    "duration": 16,
    "start_time": "2021-06-23T07:37:55.362Z"
   },
   {
    "duration": 41,
    "start_time": "2021-06-23T07:37:55.381Z"
   },
   {
    "duration": 212,
    "start_time": "2021-06-23T07:37:55.425Z"
   },
   {
    "duration": 7,
    "start_time": "2021-06-23T07:37:55.640Z"
   },
   {
    "duration": 5,
    "start_time": "2021-06-23T07:37:55.653Z"
   },
   {
    "duration": 9,
    "start_time": "2021-06-23T07:37:55.661Z"
   },
   {
    "duration": 536,
    "start_time": "2021-06-23T07:37:55.673Z"
   },
   {
    "duration": 5,
    "start_time": "2021-06-23T07:37:56.213Z"
   },
   {
    "duration": 7,
    "start_time": "2021-06-23T07:37:56.311Z"
   },
   {
    "duration": 6,
    "start_time": "2021-06-23T07:38:13.406Z"
   },
   {
    "duration": 6,
    "start_time": "2021-06-23T07:39:33.925Z"
   },
   {
    "duration": 5,
    "start_time": "2021-06-23T07:40:02.087Z"
   },
   {
    "duration": 6,
    "start_time": "2021-06-23T07:40:18.918Z"
   },
   {
    "duration": 6,
    "start_time": "2021-06-23T07:41:38.974Z"
   },
   {
    "duration": 6,
    "start_time": "2021-06-23T07:42:21.814Z"
   },
   {
    "duration": 4,
    "start_time": "2021-06-23T08:49:12.976Z"
   },
   {
    "duration": 484,
    "start_time": "2021-06-23T08:49:12.982Z"
   },
   {
    "duration": 13,
    "start_time": "2021-06-23T08:49:13.470Z"
   },
   {
    "duration": 32,
    "start_time": "2021-06-23T08:49:13.485Z"
   },
   {
    "duration": 14,
    "start_time": "2021-06-23T08:49:13.519Z"
   },
   {
    "duration": 14,
    "start_time": "2021-06-23T08:49:13.536Z"
   },
   {
    "duration": 224,
    "start_time": "2021-06-23T08:49:13.552Z"
   },
   {
    "duration": 6,
    "start_time": "2021-06-23T08:49:13.778Z"
   },
   {
    "duration": 23,
    "start_time": "2021-06-23T08:49:13.788Z"
   },
   {
    "duration": 9,
    "start_time": "2021-06-23T08:49:13.813Z"
   },
   {
    "duration": 489,
    "start_time": "2021-06-23T08:49:13.824Z"
   },
   {
    "duration": 93,
    "start_time": "2021-06-23T08:49:14.316Z"
   },
   {
    "duration": 36,
    "start_time": "2021-06-23T08:49:14.412Z"
   },
   {
    "duration": 13,
    "start_time": "2021-06-23T08:49:14.451Z"
   },
   {
    "duration": 21,
    "start_time": "2021-06-23T08:49:14.466Z"
   },
   {
    "duration": 7,
    "start_time": "2021-06-23T08:50:00.531Z"
   },
   {
    "duration": 6,
    "start_time": "2021-06-23T08:50:15.094Z"
   },
   {
    "duration": 502,
    "start_time": "2021-06-23T08:50:18.724Z"
   },
   {
    "duration": 12,
    "start_time": "2021-06-23T08:54:12.173Z"
   },
   {
    "duration": 12,
    "start_time": "2021-06-23T08:54:32.902Z"
   },
   {
    "duration": 4,
    "start_time": "2021-06-23T08:56:45.960Z"
   },
   {
    "duration": 4,
    "start_time": "2021-06-23T09:00:02.894Z"
   },
   {
    "duration": 314,
    "start_time": "2021-06-23T09:01:05.514Z"
   },
   {
    "duration": 4,
    "start_time": "2021-06-23T09:01:12.993Z"
   },
   {
    "duration": 9,
    "start_time": "2021-06-23T09:01:13.584Z"
   },
   {
    "duration": 10,
    "start_time": "2021-06-23T09:01:24.609Z"
   },
   {
    "duration": 10,
    "start_time": "2021-06-23T09:02:05.075Z"
   },
   {
    "duration": 4,
    "start_time": "2021-06-23T09:05:13.631Z"
   },
   {
    "duration": 10,
    "start_time": "2021-06-23T09:05:14.050Z"
   },
   {
    "duration": 4,
    "start_time": "2021-06-23T09:06:04.555Z"
   },
   {
    "duration": 10,
    "start_time": "2021-06-23T09:06:04.914Z"
   },
   {
    "duration": 950,
    "start_time": "2021-06-24T06:04:32.144Z"
   },
   {
    "duration": 367,
    "start_time": "2021-06-24T06:04:33.096Z"
   },
   {
    "duration": 23,
    "start_time": "2021-06-24T06:04:33.465Z"
   },
   {
    "duration": 10,
    "start_time": "2021-06-24T06:04:33.489Z"
   },
   {
    "duration": 9,
    "start_time": "2021-06-24T06:04:33.501Z"
   },
   {
    "duration": 9,
    "start_time": "2021-06-24T06:04:33.511Z"
   },
   {
    "duration": 127,
    "start_time": "2021-06-24T06:04:33.521Z"
   },
   {
    "duration": 3,
    "start_time": "2021-06-24T06:04:33.649Z"
   },
   {
    "duration": 5,
    "start_time": "2021-06-24T06:04:33.654Z"
   },
   {
    "duration": 3,
    "start_time": "2021-06-24T06:04:33.660Z"
   },
   {
    "duration": 430,
    "start_time": "2021-06-24T06:04:33.665Z"
   },
   {
    "duration": 89,
    "start_time": "2021-06-24T06:04:34.097Z"
   },
   {
    "duration": 97,
    "start_time": "2021-06-24T06:04:34.188Z"
   },
   {
    "duration": 4,
    "start_time": "2021-06-24T06:04:34.287Z"
   },
   {
    "duration": 4,
    "start_time": "2021-06-24T06:04:34.292Z"
   },
   {
    "duration": 12,
    "start_time": "2021-06-24T06:04:34.298Z"
   },
   {
    "duration": 3,
    "start_time": "2021-06-24T06:12:12.485Z"
   },
   {
    "duration": 7,
    "start_time": "2021-06-24T06:12:12.697Z"
   },
   {
    "duration": 19294,
    "start_time": "2021-06-24T06:13:33.614Z"
   },
   {
    "duration": 18699,
    "start_time": "2021-06-24T06:14:24.765Z"
   },
   {
    "duration": 19007,
    "start_time": "2021-06-24T06:15:12.515Z"
   },
   {
    "duration": 18706,
    "start_time": "2021-06-24T06:16:09.902Z"
   },
   {
    "duration": 18910,
    "start_time": "2021-06-24T06:24:01.055Z"
   },
   {
    "duration": 18438,
    "start_time": "2021-06-24T06:24:35.365Z"
   },
   {
    "duration": 3,
    "start_time": "2021-06-24T06:26:50.204Z"
   },
   {
    "duration": 197,
    "start_time": "2021-06-24T06:28:40.998Z"
   },
   {
    "duration": 3,
    "start_time": "2021-06-24T06:31:59.085Z"
   },
   {
    "duration": 1050,
    "start_time": "2021-06-24T06:32:21.314Z"
   },
   {
    "duration": 1015,
    "start_time": "2021-06-24T06:33:35.293Z"
   },
   {
    "duration": 768,
    "start_time": "2021-06-24T06:33:52.781Z"
   },
   {
    "duration": 1169,
    "start_time": "2021-06-24T06:34:12.719Z"
   },
   {
    "duration": 1015,
    "start_time": "2021-06-24T06:34:20.351Z"
   },
   {
    "duration": 3,
    "start_time": "2021-06-24T06:34:26.901Z"
   },
   {
    "duration": 391,
    "start_time": "2021-06-24T06:34:26.910Z"
   },
   {
    "duration": 10,
    "start_time": "2021-06-24T06:34:27.303Z"
   },
   {
    "duration": 13,
    "start_time": "2021-06-24T06:34:27.315Z"
   },
   {
    "duration": 9,
    "start_time": "2021-06-24T06:34:27.330Z"
   },
   {
    "duration": 10,
    "start_time": "2021-06-24T06:34:27.341Z"
   },
   {
    "duration": 124,
    "start_time": "2021-06-24T06:34:27.352Z"
   },
   {
    "duration": 9,
    "start_time": "2021-06-24T06:34:27.477Z"
   },
   {
    "duration": 4,
    "start_time": "2021-06-24T06:34:27.488Z"
   },
   {
    "duration": 6,
    "start_time": "2021-06-24T06:34:27.494Z"
   },
   {
    "duration": 393,
    "start_time": "2021-06-24T06:34:27.501Z"
   },
   {
    "duration": 89,
    "start_time": "2021-06-24T06:34:27.897Z"
   },
   {
    "duration": 5,
    "start_time": "2021-06-24T06:34:28.084Z"
   },
   {
    "duration": 3,
    "start_time": "2021-06-24T06:34:28.091Z"
   },
   {
    "duration": 6,
    "start_time": "2021-06-24T06:34:28.096Z"
   },
   {
    "duration": 1064,
    "start_time": "2021-06-24T06:34:28.104Z"
   },
   {
    "duration": 2,
    "start_time": "2021-06-24T06:37:55.003Z"
   },
   {
    "duration": 3,
    "start_time": "2021-06-24T06:38:59.120Z"
   },
   {
    "duration": 3,
    "start_time": "2021-06-24T06:40:23.411Z"
   },
   {
    "duration": 4,
    "start_time": "2021-06-24T06:40:44.960Z"
   },
   {
    "duration": 4,
    "start_time": "2021-06-24T06:40:51.573Z"
   },
   {
    "duration": 3,
    "start_time": "2021-06-24T06:42:55.938Z"
   },
   {
    "duration": 4,
    "start_time": "2021-06-24T06:43:04.442Z"
   },
   {
    "duration": 184,
    "start_time": "2021-06-24T06:44:08.051Z"
   },
   {
    "duration": 182,
    "start_time": "2021-06-24T06:44:28.602Z"
   },
   {
    "duration": 3,
    "start_time": "2021-06-24T06:45:02.884Z"
   },
   {
    "duration": 4,
    "start_time": "2021-06-24T06:45:17.777Z"
   },
   {
    "duration": 4,
    "start_time": "2021-06-24T06:45:33.992Z"
   },
   {
    "duration": 178,
    "start_time": "2021-06-24T06:47:54.408Z"
   },
   {
    "duration": 3,
    "start_time": "2021-06-24T06:48:06.153Z"
   },
   {
    "duration": 367,
    "start_time": "2021-06-24T06:48:06.158Z"
   },
   {
    "duration": 9,
    "start_time": "2021-06-24T06:48:06.527Z"
   },
   {
    "duration": 12,
    "start_time": "2021-06-24T06:48:06.538Z"
   },
   {
    "duration": 39,
    "start_time": "2021-06-24T06:48:06.552Z"
   },
   {
    "duration": 12,
    "start_time": "2021-06-24T06:48:06.593Z"
   },
   {
    "duration": 107,
    "start_time": "2021-06-24T06:48:06.607Z"
   },
   {
    "duration": 3,
    "start_time": "2021-06-24T06:48:06.716Z"
   },
   {
    "duration": 3,
    "start_time": "2021-06-24T06:48:06.722Z"
   },
   {
    "duration": 5,
    "start_time": "2021-06-24T06:48:06.727Z"
   },
   {
    "duration": 268,
    "start_time": "2021-06-24T06:48:06.733Z"
   },
   {
    "duration": 665,
    "start_time": "2021-06-24T06:48:06.338Z"
   },
   {
    "duration": 661,
    "start_time": "2021-06-24T06:48:06.343Z"
   },
   {
    "duration": 655,
    "start_time": "2021-06-24T06:48:06.349Z"
   },
   {
    "duration": 645,
    "start_time": "2021-06-24T06:48:06.360Z"
   },
   {
    "duration": 513,
    "start_time": "2021-06-24T06:48:20.872Z"
   },
   {
    "duration": 2,
    "start_time": "2021-06-24T06:48:41.096Z"
   },
   {
    "duration": 352,
    "start_time": "2021-06-24T06:48:41.111Z"
   },
   {
    "duration": 8,
    "start_time": "2021-06-24T06:48:41.465Z"
   },
   {
    "duration": 13,
    "start_time": "2021-06-24T06:48:41.475Z"
   },
   {
    "duration": 9,
    "start_time": "2021-06-24T06:48:41.490Z"
   },
   {
    "duration": 9,
    "start_time": "2021-06-24T06:48:41.500Z"
   },
   {
    "duration": 124,
    "start_time": "2021-06-24T06:48:41.511Z"
   },
   {
    "duration": 4,
    "start_time": "2021-06-24T06:48:41.637Z"
   },
   {
    "duration": 9,
    "start_time": "2021-06-24T06:48:41.642Z"
   },
   {
    "duration": 5,
    "start_time": "2021-06-24T06:48:41.653Z"
   },
   {
    "duration": 527,
    "start_time": "2021-06-24T06:48:41.659Z"
   },
   {
    "duration": 4,
    "start_time": "2021-06-24T06:48:42.189Z"
   },
   {
    "duration": 5,
    "start_time": "2021-06-24T06:48:42.285Z"
   },
   {
    "duration": 4,
    "start_time": "2021-06-24T06:48:42.291Z"
   },
   {
    "duration": 9,
    "start_time": "2021-06-24T06:48:42.297Z"
   },
   {
    "duration": 3,
    "start_time": "2021-06-24T06:49:17.208Z"
   },
   {
    "duration": 6,
    "start_time": "2021-06-24T06:49:31.051Z"
   },
   {
    "duration": 3,
    "start_time": "2021-06-24T06:49:50.851Z"
   },
   {
    "duration": 342,
    "start_time": "2021-06-24T06:51:46.925Z"
   },
   {
    "duration": 3,
    "start_time": "2021-06-24T06:51:59.433Z"
   },
   {
    "duration": 357,
    "start_time": "2021-06-24T06:51:59.439Z"
   },
   {
    "duration": 8,
    "start_time": "2021-06-24T06:51:59.798Z"
   },
   {
    "duration": 12,
    "start_time": "2021-06-24T06:51:59.808Z"
   },
   {
    "duration": 11,
    "start_time": "2021-06-24T06:51:59.822Z"
   },
   {
    "duration": 11,
    "start_time": "2021-06-24T06:51:59.835Z"
   },
   {
    "duration": 128,
    "start_time": "2021-06-24T06:51:59.847Z"
   },
   {
    "duration": 8,
    "start_time": "2021-06-24T06:51:59.978Z"
   },
   {
    "duration": 5,
    "start_time": "2021-06-24T06:51:59.988Z"
   },
   {
    "duration": 3,
    "start_time": "2021-06-24T06:51:59.996Z"
   },
   {
    "duration": 484,
    "start_time": "2021-06-24T06:52:00.001Z"
   },
   {
    "duration": 92,
    "start_time": "2021-06-24T06:52:00.493Z"
   },
   {
    "duration": 13,
    "start_time": "2021-06-24T06:52:00.587Z"
   },
   {
    "duration": 6,
    "start_time": "2021-06-24T06:52:00.602Z"
   },
   {
    "duration": 415,
    "start_time": "2021-06-24T06:52:00.609Z"
   },
   {
    "duration": 3068,
    "start_time": "2021-06-24T06:52:28.602Z"
   },
   {
    "duration": 3,
    "start_time": "2021-06-24T06:52:58.888Z"
   },
   {
    "duration": 354,
    "start_time": "2021-06-24T06:52:58.893Z"
   },
   {
    "duration": 9,
    "start_time": "2021-06-24T06:52:59.249Z"
   },
   {
    "duration": 10,
    "start_time": "2021-06-24T06:52:59.259Z"
   },
   {
    "duration": 23,
    "start_time": "2021-06-24T06:52:59.271Z"
   },
   {
    "duration": 11,
    "start_time": "2021-06-24T06:52:59.296Z"
   },
   {
    "duration": 116,
    "start_time": "2021-06-24T06:52:59.309Z"
   },
   {
    "duration": 6,
    "start_time": "2021-06-24T06:52:59.427Z"
   },
   {
    "duration": 4,
    "start_time": "2021-06-24T06:52:59.436Z"
   },
   {
    "duration": 4,
    "start_time": "2021-06-24T06:52:59.441Z"
   },
   {
    "duration": 441,
    "start_time": "2021-06-24T06:52:59.446Z"
   },
   {
    "duration": 94,
    "start_time": "2021-06-24T06:52:59.891Z"
   },
   {
    "duration": 6,
    "start_time": "2021-06-24T06:52:59.987Z"
   },
   {
    "duration": 3,
    "start_time": "2021-06-24T06:52:59.995Z"
   },
   {
    "duration": 3077,
    "start_time": "2021-06-24T06:52:59.999Z"
   },
   {
    "duration": 349,
    "start_time": "2021-06-24T06:53:19.314Z"
   },
   {
    "duration": 3,
    "start_time": "2021-06-24T06:53:58.154Z"
   },
   {
    "duration": 7043,
    "start_time": "2021-06-24T06:53:59.832Z"
   },
   {
    "duration": 3,
    "start_time": "2021-06-24T06:54:19.732Z"
   },
   {
    "duration": 358,
    "start_time": "2021-06-24T06:54:19.737Z"
   },
   {
    "duration": 9,
    "start_time": "2021-06-24T06:54:20.097Z"
   },
   {
    "duration": 11,
    "start_time": "2021-06-24T06:54:20.108Z"
   },
   {
    "duration": 11,
    "start_time": "2021-06-24T06:54:20.120Z"
   },
   {
    "duration": 10,
    "start_time": "2021-06-24T06:54:20.133Z"
   },
   {
    "duration": 130,
    "start_time": "2021-06-24T06:54:20.146Z"
   },
   {
    "duration": 9,
    "start_time": "2021-06-24T06:54:20.278Z"
   },
   {
    "duration": 5,
    "start_time": "2021-06-24T06:54:20.289Z"
   },
   {
    "duration": 4,
    "start_time": "2021-06-24T06:54:20.296Z"
   },
   {
    "duration": 400,
    "start_time": "2021-06-24T06:54:20.301Z"
   },
   {
    "duration": 4,
    "start_time": "2021-06-24T06:54:20.787Z"
   },
   {
    "duration": 97,
    "start_time": "2021-06-24T06:54:20.793Z"
   },
   {
    "duration": 5,
    "start_time": "2021-06-24T06:54:20.891Z"
   },
   {
    "duration": 7095,
    "start_time": "2021-06-24T06:54:20.898Z"
   },
   {
    "duration": 2598,
    "start_time": "2021-06-24T07:09:37.014Z"
   },
   {
    "duration": 3,
    "start_time": "2021-06-24T07:09:49.278Z"
   },
   {
    "duration": 353,
    "start_time": "2021-06-24T07:09:49.283Z"
   },
   {
    "duration": 8,
    "start_time": "2021-06-24T07:09:49.638Z"
   },
   {
    "duration": 11,
    "start_time": "2021-06-24T07:09:49.648Z"
   },
   {
    "duration": 25,
    "start_time": "2021-06-24T07:09:49.661Z"
   },
   {
    "duration": 9,
    "start_time": "2021-06-24T07:09:49.687Z"
   },
   {
    "duration": 111,
    "start_time": "2021-06-24T07:09:49.698Z"
   },
   {
    "duration": 4,
    "start_time": "2021-06-24T07:09:49.811Z"
   },
   {
    "duration": 4,
    "start_time": "2021-06-24T07:09:49.818Z"
   },
   {
    "duration": 5,
    "start_time": "2021-06-24T07:09:49.824Z"
   },
   {
    "duration": 372,
    "start_time": "2021-06-24T07:09:49.831Z"
   },
   {
    "duration": 5,
    "start_time": "2021-06-24T07:09:50.286Z"
   },
   {
    "duration": 93,
    "start_time": "2021-06-24T07:09:50.294Z"
   },
   {
    "duration": 4,
    "start_time": "2021-06-24T07:09:50.389Z"
   },
   {
    "duration": 7081,
    "start_time": "2021-06-24T07:09:50.394Z"
   },
   {
    "duration": 9,
    "start_time": "2021-06-24T07:10:46.982Z"
   },
   {
    "duration": 3,
    "start_time": "2021-06-24T07:12:31.520Z"
   },
   {
    "duration": 7265,
    "start_time": "2021-06-24T07:12:51.267Z"
   },
   {
    "duration": 7218,
    "start_time": "2021-06-24T07:13:24.035Z"
   },
   {
    "duration": 7171,
    "start_time": "2021-06-24T07:13:42.504Z"
   },
   {
    "duration": 62,
    "start_time": "2021-06-24T07:14:01.411Z"
   },
   {
    "duration": 7144,
    "start_time": "2021-06-24T07:14:06.247Z"
   },
   {
    "duration": 2,
    "start_time": "2021-06-24T07:14:14.306Z"
   },
   {
    "duration": 359,
    "start_time": "2021-06-24T07:14:14.310Z"
   },
   {
    "duration": 14,
    "start_time": "2021-06-24T07:14:14.671Z"
   },
   {
    "duration": 10,
    "start_time": "2021-06-24T07:14:14.687Z"
   },
   {
    "duration": 10,
    "start_time": "2021-06-24T07:14:14.698Z"
   },
   {
    "duration": 10,
    "start_time": "2021-06-24T07:14:14.709Z"
   },
   {
    "duration": 124,
    "start_time": "2021-06-24T07:14:14.720Z"
   },
   {
    "duration": 4,
    "start_time": "2021-06-24T07:14:14.846Z"
   },
   {
    "duration": 8,
    "start_time": "2021-06-24T07:14:14.853Z"
   },
   {
    "duration": 5,
    "start_time": "2021-06-24T07:14:14.862Z"
   },
   {
    "duration": 433,
    "start_time": "2021-06-24T07:14:14.868Z"
   },
   {
    "duration": 3,
    "start_time": "2021-06-24T07:14:15.386Z"
   },
   {
    "duration": 95,
    "start_time": "2021-06-24T07:14:15.393Z"
   },
   {
    "duration": 4,
    "start_time": "2021-06-24T07:14:15.490Z"
   },
   {
    "duration": 7128,
    "start_time": "2021-06-24T07:14:15.495Z"
   },
   {
    "duration": 4,
    "start_time": "2021-06-24T07:14:22.625Z"
   },
   {
    "duration": 3,
    "start_time": "2021-06-24T07:15:35.577Z"
   },
   {
    "duration": 4,
    "start_time": "2021-06-24T07:15:40.352Z"
   },
   {
    "duration": 3,
    "start_time": "2021-06-24T07:15:57.963Z"
   },
   {
    "duration": 4,
    "start_time": "2021-06-24T07:15:59.102Z"
   },
   {
    "duration": 3,
    "start_time": "2021-06-24T07:16:54.386Z"
   },
   {
    "duration": 3,
    "start_time": "2021-06-24T07:17:34.034Z"
   },
   {
    "duration": 7221,
    "start_time": "2021-06-24T07:17:37.435Z"
   },
   {
    "duration": 7130,
    "start_time": "2021-06-24T07:18:12.471Z"
   },
   {
    "duration": 4,
    "start_time": "2021-06-24T07:18:51.152Z"
   },
   {
    "duration": 3,
    "start_time": "2021-06-24T07:19:19.065Z"
   },
   {
    "duration": 3,
    "start_time": "2021-06-24T07:22:38.624Z"
   },
   {
    "duration": 7174,
    "start_time": "2021-06-24T07:23:30.487Z"
   },
   {
    "duration": 3,
    "start_time": "2021-06-24T07:28:47.241Z"
   },
   {
    "duration": 3,
    "start_time": "2021-06-24T07:28:51.654Z"
   },
   {
    "duration": 3,
    "start_time": "2021-06-24T07:29:30.799Z"
   },
   {
    "duration": 3,
    "start_time": "2021-06-24T07:29:31.667Z"
   },
   {
    "duration": 4,
    "start_time": "2021-06-24T07:29:53.997Z"
   },
   {
    "duration": 7093,
    "start_time": "2021-06-24T07:29:59.622Z"
   },
   {
    "duration": 3,
    "start_time": "2021-06-24T07:31:07.365Z"
   },
   {
    "duration": 7223,
    "start_time": "2021-06-24T07:31:18.874Z"
   },
   {
    "duration": 4,
    "start_time": "2021-06-24T07:31:51.479Z"
   },
   {
    "duration": 7115,
    "start_time": "2021-06-24T07:31:52.755Z"
   },
   {
    "duration": 2340,
    "start_time": "2021-06-24T07:32:38.418Z"
   },
   {
    "duration": 7439,
    "start_time": "2021-06-24T07:33:01.235Z"
   },
   {
    "duration": 7103,
    "start_time": "2021-06-24T07:34:27.138Z"
   },
   {
    "duration": 7,
    "start_time": "2021-06-24T07:36:13.131Z"
   },
   {
    "duration": 3,
    "start_time": "2021-06-24T07:36:36.622Z"
   },
   {
    "duration": 354,
    "start_time": "2021-06-24T07:36:36.627Z"
   },
   {
    "duration": 8,
    "start_time": "2021-06-24T07:36:36.983Z"
   },
   {
    "duration": 12,
    "start_time": "2021-06-24T07:36:36.993Z"
   },
   {
    "duration": 9,
    "start_time": "2021-06-24T07:36:37.007Z"
   },
   {
    "duration": 9,
    "start_time": "2021-06-24T07:36:37.017Z"
   },
   {
    "duration": 116,
    "start_time": "2021-06-24T07:36:37.028Z"
   },
   {
    "duration": 4,
    "start_time": "2021-06-24T07:36:37.147Z"
   },
   {
    "duration": 7,
    "start_time": "2021-06-24T07:36:37.153Z"
   },
   {
    "duration": 4,
    "start_time": "2021-06-24T07:36:37.161Z"
   },
   {
    "duration": 430,
    "start_time": "2021-06-24T07:36:37.166Z"
   },
   {
    "duration": 4,
    "start_time": "2021-06-24T07:36:37.686Z"
   },
   {
    "duration": 95,
    "start_time": "2021-06-24T07:36:37.692Z"
   },
   {
    "duration": 4,
    "start_time": "2021-06-24T07:36:37.789Z"
   },
   {
    "duration": 12,
    "start_time": "2021-06-24T07:36:37.795Z"
   },
   {
    "duration": 7224,
    "start_time": "2021-06-24T07:36:37.809Z"
   },
   {
    "duration": 3,
    "start_time": "2021-06-24T07:37:24.082Z"
   },
   {
    "duration": 19,
    "start_time": "2021-06-24T07:37:25.172Z"
   },
   {
    "duration": 4,
    "start_time": "2021-06-24T07:37:42.461Z"
   },
   {
    "duration": 18,
    "start_time": "2021-06-24T07:37:42.975Z"
   },
   {
    "duration": 3,
    "start_time": "2021-06-24T07:37:46.341Z"
   },
   {
    "duration": 350,
    "start_time": "2021-06-24T07:37:46.346Z"
   },
   {
    "duration": 9,
    "start_time": "2021-06-24T07:37:46.699Z"
   },
   {
    "duration": 12,
    "start_time": "2021-06-24T07:37:46.710Z"
   },
   {
    "duration": 10,
    "start_time": "2021-06-24T07:37:46.724Z"
   },
   {
    "duration": 10,
    "start_time": "2021-06-24T07:37:46.736Z"
   },
   {
    "duration": 124,
    "start_time": "2021-06-24T07:37:46.748Z"
   },
   {
    "duration": 13,
    "start_time": "2021-06-24T07:37:46.874Z"
   },
   {
    "duration": 4,
    "start_time": "2021-06-24T07:37:46.890Z"
   },
   {
    "duration": 5,
    "start_time": "2021-06-24T07:37:46.895Z"
   },
   {
    "duration": 401,
    "start_time": "2021-06-24T07:37:46.901Z"
   },
   {
    "duration": 7,
    "start_time": "2021-06-24T07:37:47.386Z"
   },
   {
    "duration": 94,
    "start_time": "2021-06-24T07:37:47.395Z"
   },
   {
    "duration": 4,
    "start_time": "2021-06-24T07:37:47.491Z"
   },
   {
    "duration": 24,
    "start_time": "2021-06-24T07:37:47.496Z"
   },
   {
    "duration": 4529,
    "start_time": "2021-06-24T07:37:47.521Z"
   },
   {
    "duration": 3,
    "start_time": "2021-06-24T07:37:59.569Z"
   },
   {
    "duration": 13,
    "start_time": "2021-06-24T07:38:00.029Z"
   },
   {
    "duration": 3,
    "start_time": "2021-06-24T07:38:04.129Z"
   },
   {
    "duration": 361,
    "start_time": "2021-06-24T07:38:04.135Z"
   },
   {
    "duration": 8,
    "start_time": "2021-06-24T07:38:04.498Z"
   },
   {
    "duration": 12,
    "start_time": "2021-06-24T07:38:04.508Z"
   },
   {
    "duration": 10,
    "start_time": "2021-06-24T07:38:04.522Z"
   },
   {
    "duration": 10,
    "start_time": "2021-06-24T07:38:04.533Z"
   },
   {
    "duration": 119,
    "start_time": "2021-06-24T07:38:04.545Z"
   },
   {
    "duration": 5,
    "start_time": "2021-06-24T07:38:04.665Z"
   },
   {
    "duration": 15,
    "start_time": "2021-06-24T07:38:04.672Z"
   },
   {
    "duration": 5,
    "start_time": "2021-06-24T07:38:04.688Z"
   },
   {
    "duration": 491,
    "start_time": "2021-06-24T07:38:04.695Z"
   },
   {
    "duration": 4,
    "start_time": "2021-06-24T07:38:05.188Z"
   },
   {
    "duration": 95,
    "start_time": "2021-06-24T07:38:05.194Z"
   },
   {
    "duration": 4,
    "start_time": "2021-06-24T07:38:05.291Z"
   },
   {
    "duration": 14,
    "start_time": "2021-06-24T07:38:05.296Z"
   },
   {
    "duration": 3042,
    "start_time": "2021-06-24T07:38:05.312Z"
   },
   {
    "duration": 3,
    "start_time": "2021-06-24T07:38:28.553Z"
   },
   {
    "duration": 9,
    "start_time": "2021-06-24T07:38:29.461Z"
   },
   {
    "duration": 3,
    "start_time": "2021-06-24T07:38:40.000Z"
   },
   {
    "duration": 7,
    "start_time": "2021-06-24T07:38:40.588Z"
   },
   {
    "duration": 7147,
    "start_time": "2021-06-24T07:38:42.781Z"
   },
   {
    "duration": 3,
    "start_time": "2021-06-24T07:39:51.927Z"
   },
   {
    "duration": 7,
    "start_time": "2021-06-24T07:39:53.560Z"
   },
   {
    "duration": 7,
    "start_time": "2021-06-24T07:40:15.105Z"
   },
   {
    "duration": 4,
    "start_time": "2021-06-24T07:40:33.895Z"
   },
   {
    "duration": 7,
    "start_time": "2021-06-24T07:40:34.216Z"
   },
   {
    "duration": 503,
    "start_time": "2021-06-24T07:42:11.283Z"
   },
   {
    "duration": 3,
    "start_time": "2021-06-24T07:42:18.138Z"
   },
   {
    "duration": 359,
    "start_time": "2021-06-24T07:42:18.143Z"
   },
   {
    "duration": 8,
    "start_time": "2021-06-24T07:42:18.504Z"
   },
   {
    "duration": 11,
    "start_time": "2021-06-24T07:42:18.514Z"
   },
   {
    "duration": 9,
    "start_time": "2021-06-24T07:42:18.527Z"
   },
   {
    "duration": 9,
    "start_time": "2021-06-24T07:42:18.538Z"
   },
   {
    "duration": 130,
    "start_time": "2021-06-24T07:42:18.549Z"
   },
   {
    "duration": 5,
    "start_time": "2021-06-24T07:42:18.680Z"
   },
   {
    "duration": 17,
    "start_time": "2021-06-24T07:42:18.688Z"
   },
   {
    "duration": 6,
    "start_time": "2021-06-24T07:42:18.706Z"
   },
   {
    "duration": 472,
    "start_time": "2021-06-24T07:42:18.714Z"
   },
   {
    "duration": 4,
    "start_time": "2021-06-24T07:42:19.189Z"
   },
   {
    "duration": 94,
    "start_time": "2021-06-24T07:42:19.195Z"
   },
   {
    "duration": 4,
    "start_time": "2021-06-24T07:42:19.291Z"
   },
   {
    "duration": 694,
    "start_time": "2021-06-24T07:42:19.297Z"
   },
   {
    "duration": 588,
    "start_time": "2021-06-24T07:42:19.405Z"
   },
   {
    "duration": 427,
    "start_time": "2021-06-24T07:43:33.663Z"
   },
   {
    "duration": 3,
    "start_time": "2021-06-24T07:43:40.137Z"
   },
   {
    "duration": 366,
    "start_time": "2021-06-24T07:43:40.142Z"
   },
   {
    "duration": 9,
    "start_time": "2021-06-24T07:43:40.510Z"
   },
   {
    "duration": 13,
    "start_time": "2021-06-24T07:43:40.521Z"
   },
   {
    "duration": 11,
    "start_time": "2021-06-24T07:43:40.535Z"
   },
   {
    "duration": 11,
    "start_time": "2021-06-24T07:43:40.547Z"
   },
   {
    "duration": 110,
    "start_time": "2021-06-24T07:43:40.586Z"
   },
   {
    "duration": 5,
    "start_time": "2021-06-24T07:43:40.699Z"
   },
   {
    "duration": 12,
    "start_time": "2021-06-24T07:43:40.706Z"
   },
   {
    "duration": 21,
    "start_time": "2021-06-24T07:43:40.720Z"
   },
   {
    "duration": 356,
    "start_time": "2021-06-24T07:43:40.743Z"
   },
   {
    "duration": 85,
    "start_time": "2021-06-24T07:43:41.101Z"
   },
   {
    "duration": 101,
    "start_time": "2021-06-24T07:43:41.189Z"
   },
   {
    "duration": 21,
    "start_time": "2021-06-24T07:43:41.291Z"
   },
   {
    "duration": 20,
    "start_time": "2021-06-24T07:43:41.313Z"
   },
   {
    "duration": 7228,
    "start_time": "2021-06-24T07:43:41.334Z"
   },
   {
    "duration": 3,
    "start_time": "2021-06-24T07:44:12.531Z"
   },
   {
    "duration": 8,
    "start_time": "2021-06-24T07:44:13.495Z"
   },
   {
    "duration": 3,
    "start_time": "2021-06-24T07:44:55.031Z"
   },
   {
    "duration": 347,
    "start_time": "2021-06-24T07:44:55.036Z"
   },
   {
    "duration": 8,
    "start_time": "2021-06-24T07:44:55.385Z"
   },
   {
    "duration": 13,
    "start_time": "2021-06-24T07:44:55.395Z"
   },
   {
    "duration": 9,
    "start_time": "2021-06-24T07:44:55.409Z"
   },
   {
    "duration": 9,
    "start_time": "2021-06-24T07:44:55.419Z"
   },
   {
    "duration": 117,
    "start_time": "2021-06-24T07:44:55.429Z"
   },
   {
    "duration": 4,
    "start_time": "2021-06-24T07:44:55.548Z"
   },
   {
    "duration": 5,
    "start_time": "2021-06-24T07:44:55.555Z"
   },
   {
    "duration": 5,
    "start_time": "2021-06-24T07:44:55.561Z"
   },
   {
    "duration": 519,
    "start_time": "2021-06-24T07:44:55.567Z"
   },
   {
    "duration": 4,
    "start_time": "2021-06-24T07:44:56.089Z"
   },
   {
    "duration": 7,
    "start_time": "2021-06-24T07:44:56.185Z"
   },
   {
    "duration": 6,
    "start_time": "2021-06-24T07:44:56.194Z"
   },
   {
    "duration": 343,
    "start_time": "2021-06-24T07:44:56.202Z"
   },
   {
    "duration": 550,
    "start_time": "2021-06-24T07:44:55.996Z"
   },
   {
    "duration": 3,
    "start_time": "2021-06-24T07:46:13.677Z"
   },
   {
    "duration": 349,
    "start_time": "2021-06-24T07:46:14.159Z"
   },
   {
    "duration": 2,
    "start_time": "2021-06-24T07:46:49.826Z"
   },
   {
    "duration": 7295,
    "start_time": "2021-06-24T07:46:53.250Z"
   },
   {
    "duration": 7294,
    "start_time": "2021-06-24T07:48:38.760Z"
   },
   {
    "duration": 7513,
    "start_time": "2021-06-24T07:49:22.018Z"
   },
   {
    "duration": 7296,
    "start_time": "2021-06-24T07:49:49.107Z"
   },
   {
    "duration": 7394,
    "start_time": "2021-06-24T07:50:40.849Z"
   },
   {
    "duration": 7620,
    "start_time": "2021-06-24T07:51:01.704Z"
   },
   {
    "duration": 7467,
    "start_time": "2021-06-24T07:56:17.821Z"
   },
   {
    "duration": 7462,
    "start_time": "2021-06-24T07:56:43.842Z"
   },
   {
    "duration": 7572,
    "start_time": "2021-06-24T07:58:23.465Z"
   },
   {
    "duration": 7382,
    "start_time": "2021-06-24T07:58:37.751Z"
   },
   {
    "duration": 3,
    "start_time": "2021-06-24T07:58:49.530Z"
   },
   {
    "duration": 366,
    "start_time": "2021-06-24T07:58:49.535Z"
   },
   {
    "duration": 9,
    "start_time": "2021-06-24T07:58:49.903Z"
   },
   {
    "duration": 13,
    "start_time": "2021-06-24T07:58:49.914Z"
   },
   {
    "duration": 9,
    "start_time": "2021-06-24T07:58:49.929Z"
   },
   {
    "duration": 9,
    "start_time": "2021-06-24T07:58:49.939Z"
   },
   {
    "duration": 135,
    "start_time": "2021-06-24T07:58:49.950Z"
   },
   {
    "duration": 6,
    "start_time": "2021-06-24T07:58:50.086Z"
   },
   {
    "duration": 4,
    "start_time": "2021-06-24T07:58:50.096Z"
   },
   {
    "duration": 4,
    "start_time": "2021-06-24T07:58:50.102Z"
   },
   {
    "duration": 478,
    "start_time": "2021-06-24T07:58:50.108Z"
   },
   {
    "duration": 4,
    "start_time": "2021-06-24T07:58:50.588Z"
   },
   {
    "duration": 95,
    "start_time": "2021-06-24T07:58:50.594Z"
   },
   {
    "duration": 8,
    "start_time": "2021-06-24T07:58:50.691Z"
   },
   {
    "duration": 7570,
    "start_time": "2021-06-24T07:58:50.700Z"
   },
   {
    "duration": 2743,
    "start_time": "2021-06-24T07:59:21.634Z"
   },
   {
    "duration": 63,
    "start_time": "2021-06-24T07:59:36.779Z"
   },
   {
    "duration": 7412,
    "start_time": "2021-06-24T07:59:41.223Z"
   },
   {
    "duration": 7514,
    "start_time": "2021-06-24T07:59:53.103Z"
   },
   {
    "duration": 3,
    "start_time": "2021-06-24T08:00:06.463Z"
   },
   {
    "duration": 360,
    "start_time": "2021-06-24T08:00:06.468Z"
   },
   {
    "duration": 9,
    "start_time": "2021-06-24T08:00:06.830Z"
   },
   {
    "duration": 13,
    "start_time": "2021-06-24T08:00:06.841Z"
   },
   {
    "duration": 31,
    "start_time": "2021-06-24T08:00:06.855Z"
   },
   {
    "duration": 10,
    "start_time": "2021-06-24T08:00:06.887Z"
   },
   {
    "duration": 118,
    "start_time": "2021-06-24T08:00:06.898Z"
   },
   {
    "duration": 5,
    "start_time": "2021-06-24T08:00:07.018Z"
   },
   {
    "duration": 5,
    "start_time": "2021-06-24T08:00:07.025Z"
   },
   {
    "duration": 5,
    "start_time": "2021-06-24T08:00:07.032Z"
   },
   {
    "duration": 546,
    "start_time": "2021-06-24T08:00:07.039Z"
   },
   {
    "duration": 4,
    "start_time": "2021-06-24T08:00:07.587Z"
   },
   {
    "duration": 95,
    "start_time": "2021-06-24T08:00:07.593Z"
   },
   {
    "duration": 6,
    "start_time": "2021-06-24T08:00:07.690Z"
   },
   {
    "duration": 7563,
    "start_time": "2021-06-24T08:00:07.698Z"
   },
   {
    "duration": 7504,
    "start_time": "2021-06-24T08:00:32.401Z"
   },
   {
    "duration": 2692,
    "start_time": "2021-06-24T08:00:51.162Z"
   },
   {
    "duration": 7522,
    "start_time": "2021-06-24T08:00:58.489Z"
   },
   {
    "duration": 7404,
    "start_time": "2021-06-24T08:02:37.633Z"
   },
   {
    "duration": 7504,
    "start_time": "2021-06-24T08:02:45.373Z"
   },
   {
    "duration": 7640,
    "start_time": "2021-06-24T08:02:59.486Z"
   },
   {
    "duration": 7425,
    "start_time": "2021-06-24T08:03:11.952Z"
   },
   {
    "duration": 7375,
    "start_time": "2021-06-24T08:03:41.653Z"
   },
   {
    "duration": 7649,
    "start_time": "2021-06-24T08:03:49.647Z"
   },
   {
    "duration": 7732,
    "start_time": "2021-06-24T08:04:01.433Z"
   },
   {
    "duration": 3,
    "start_time": "2021-06-24T08:04:31.014Z"
   },
   {
    "duration": 357,
    "start_time": "2021-06-24T08:04:31.020Z"
   },
   {
    "duration": 12,
    "start_time": "2021-06-24T08:04:31.379Z"
   },
   {
    "duration": 11,
    "start_time": "2021-06-24T08:04:31.393Z"
   },
   {
    "duration": 11,
    "start_time": "2021-06-24T08:04:31.406Z"
   },
   {
    "duration": 11,
    "start_time": "2021-06-24T08:04:31.418Z"
   },
   {
    "duration": 125,
    "start_time": "2021-06-24T08:04:31.431Z"
   },
   {
    "duration": 5,
    "start_time": "2021-06-24T08:04:31.557Z"
   },
   {
    "duration": 8,
    "start_time": "2021-06-24T08:04:31.564Z"
   },
   {
    "duration": 12,
    "start_time": "2021-06-24T08:04:31.573Z"
   },
   {
    "duration": 500,
    "start_time": "2021-06-24T08:04:31.586Z"
   },
   {
    "duration": 4,
    "start_time": "2021-06-24T08:04:32.088Z"
   },
   {
    "duration": 97,
    "start_time": "2021-06-24T08:04:32.094Z"
   },
   {
    "duration": 6,
    "start_time": "2021-06-24T08:04:32.193Z"
   },
   {
    "duration": 7443,
    "start_time": "2021-06-24T08:04:32.200Z"
   },
   {
    "duration": 7441,
    "start_time": "2021-06-24T08:05:07.063Z"
   },
   {
    "duration": 2,
    "start_time": "2021-06-24T08:07:03.602Z"
   },
   {
    "duration": 421,
    "start_time": "2021-06-24T08:07:03.609Z"
   },
   {
    "duration": 10,
    "start_time": "2021-06-24T08:07:04.032Z"
   },
   {
    "duration": 11,
    "start_time": "2021-06-24T08:07:04.045Z"
   },
   {
    "duration": 31,
    "start_time": "2021-06-24T08:07:04.059Z"
   },
   {
    "duration": 11,
    "start_time": "2021-06-24T08:07:04.092Z"
   },
   {
    "duration": 119,
    "start_time": "2021-06-24T08:07:04.105Z"
   },
   {
    "duration": 6,
    "start_time": "2021-06-24T08:07:04.226Z"
   },
   {
    "duration": 5,
    "start_time": "2021-06-24T08:07:04.234Z"
   },
   {
    "duration": 4,
    "start_time": "2021-06-24T08:07:04.242Z"
   },
   {
    "duration": 539,
    "start_time": "2021-06-24T08:07:04.247Z"
   },
   {
    "duration": 92,
    "start_time": "2021-06-24T08:07:04.793Z"
   },
   {
    "duration": 10,
    "start_time": "2021-06-24T08:07:04.887Z"
   },
   {
    "duration": 7,
    "start_time": "2021-06-24T08:07:04.898Z"
   },
   {
    "duration": 7471,
    "start_time": "2021-06-24T08:07:04.907Z"
   },
   {
    "duration": 1326,
    "start_time": "2021-06-24T11:45:27.722Z"
   },
   {
    "duration": 446,
    "start_time": "2021-06-24T11:45:29.051Z"
   },
   {
    "duration": 24,
    "start_time": "2021-06-24T11:45:29.501Z"
   },
   {
    "duration": 30,
    "start_time": "2021-06-24T11:45:29.527Z"
   },
   {
    "duration": 13,
    "start_time": "2021-06-24T11:45:29.560Z"
   },
   {
    "duration": 21,
    "start_time": "2021-06-24T11:45:29.576Z"
   },
   {
    "duration": 299,
    "start_time": "2021-06-24T11:45:29.599Z"
   },
   {
    "duration": 4,
    "start_time": "2021-06-24T11:45:29.901Z"
   },
   {
    "duration": 49,
    "start_time": "2021-06-24T11:45:29.909Z"
   },
   {
    "duration": 4,
    "start_time": "2021-06-24T11:45:29.960Z"
   },
   {
    "duration": 492,
    "start_time": "2021-06-24T11:45:29.967Z"
   },
   {
    "duration": 93,
    "start_time": "2021-06-24T11:45:30.463Z"
   },
   {
    "duration": 35,
    "start_time": "2021-06-24T11:45:30.559Z"
   },
   {
    "duration": 63,
    "start_time": "2021-06-24T11:45:30.596Z"
   },
   {
    "duration": 414,
    "start_time": "2021-06-24T11:45:30.661Z"
   },
   {
    "duration": 31,
    "start_time": "2021-06-24T11:45:45.091Z"
   },
   {
    "duration": 32,
    "start_time": "2021-06-24T11:46:23.507Z"
   },
   {
    "duration": 192,
    "start_time": "2021-06-24T11:46:56.891Z"
   },
   {
    "duration": 193,
    "start_time": "2021-06-24T11:47:04.833Z"
   },
   {
    "duration": 194,
    "start_time": "2021-06-24T11:47:25.280Z"
   },
   {
    "duration": 197,
    "start_time": "2021-06-24T11:47:38.415Z"
   },
   {
    "duration": 4,
    "start_time": "2021-06-24T11:47:48.203Z"
   },
   {
    "duration": 453,
    "start_time": "2021-06-24T11:47:48.209Z"
   },
   {
    "duration": 14,
    "start_time": "2021-06-24T11:47:48.665Z"
   },
   {
    "duration": 15,
    "start_time": "2021-06-24T11:47:48.682Z"
   },
   {
    "duration": 12,
    "start_time": "2021-06-24T11:47:48.700Z"
   },
   {
    "duration": 42,
    "start_time": "2021-06-24T11:47:48.714Z"
   },
   {
    "duration": 180,
    "start_time": "2021-06-24T11:47:48.759Z"
   },
   {
    "duration": 6,
    "start_time": "2021-06-24T11:47:48.942Z"
   },
   {
    "duration": 207,
    "start_time": "2021-06-24T11:47:48.957Z"
   },
   {
    "duration": 4,
    "start_time": "2021-06-24T11:47:49.166Z"
   },
   {
    "duration": 486,
    "start_time": "2021-06-24T11:47:49.172Z"
   },
   {
    "duration": 5,
    "start_time": "2021-06-24T11:47:49.661Z"
   },
   {
    "duration": 9,
    "start_time": "2021-06-24T11:47:49.758Z"
   },
   {
    "duration": 15,
    "start_time": "2021-06-24T11:47:49.769Z"
   },
   {
    "duration": 289,
    "start_time": "2021-06-24T11:47:49.786Z"
   },
   {
    "duration": 317,
    "start_time": "2021-06-24T11:50:03.546Z"
   },
   {
    "duration": 516,
    "start_time": "2021-06-24T11:50:21.244Z"
   },
   {
    "duration": 271,
    "start_time": "2021-06-24T11:51:36.173Z"
   },
   {
    "duration": 258,
    "start_time": "2021-06-24T11:52:40.190Z"
   },
   {
    "duration": 261,
    "start_time": "2021-06-24T11:52:59.514Z"
   },
   {
    "duration": 9,
    "start_time": "2021-06-24T11:53:45.352Z"
   },
   {
    "duration": 4,
    "start_time": "2021-06-24T11:53:57.870Z"
   },
   {
    "duration": 444,
    "start_time": "2021-06-24T11:53:57.877Z"
   },
   {
    "duration": 12,
    "start_time": "2021-06-24T11:53:58.324Z"
   },
   {
    "duration": 26,
    "start_time": "2021-06-24T11:53:58.338Z"
   },
   {
    "duration": 13,
    "start_time": "2021-06-24T11:53:58.366Z"
   },
   {
    "duration": 16,
    "start_time": "2021-06-24T11:53:58.381Z"
   },
   {
    "duration": 190,
    "start_time": "2021-06-24T11:53:58.401Z"
   },
   {
    "duration": 9,
    "start_time": "2021-06-24T11:53:58.594Z"
   },
   {
    "duration": 207,
    "start_time": "2021-06-24T11:53:58.605Z"
   },
   {
    "duration": 4,
    "start_time": "2021-06-24T11:53:58.814Z"
   },
   {
    "duration": 538,
    "start_time": "2021-06-24T11:53:58.821Z"
   },
   {
    "duration": 93,
    "start_time": "2021-06-24T11:53:59.363Z"
   },
   {
    "duration": 12,
    "start_time": "2021-06-24T11:53:59.459Z"
   },
   {
    "duration": 8,
    "start_time": "2021-06-24T11:53:59.473Z"
   },
   {
    "duration": 13,
    "start_time": "2021-06-24T11:53:59.483Z"
   },
   {
    "duration": 4,
    "start_time": "2021-06-24T11:54:43.983Z"
   },
   {
    "duration": 439,
    "start_time": "2021-06-24T11:54:43.990Z"
   },
   {
    "duration": 23,
    "start_time": "2021-06-24T11:54:44.432Z"
   },
   {
    "duration": 13,
    "start_time": "2021-06-24T11:54:44.458Z"
   },
   {
    "duration": 12,
    "start_time": "2021-06-24T11:54:44.474Z"
   },
   {
    "duration": 12,
    "start_time": "2021-06-24T11:54:44.489Z"
   },
   {
    "duration": 196,
    "start_time": "2021-06-24T11:54:44.504Z"
   },
   {
    "duration": 6,
    "start_time": "2021-06-24T11:54:44.702Z"
   },
   {
    "duration": 212,
    "start_time": "2021-06-24T11:54:44.711Z"
   },
   {
    "duration": 4,
    "start_time": "2021-06-24T11:54:44.926Z"
   },
   {
    "duration": 526,
    "start_time": "2021-06-24T11:54:44.933Z"
   },
   {
    "duration": 94,
    "start_time": "2021-06-24T11:54:45.462Z"
   },
   {
    "duration": 10,
    "start_time": "2021-06-24T11:54:45.559Z"
   },
   {
    "duration": 9,
    "start_time": "2021-06-24T11:54:45.571Z"
   },
   {
    "duration": 8,
    "start_time": "2021-06-24T11:54:45.582Z"
   },
   {
    "duration": 8,
    "start_time": "2021-06-24T11:55:29.443Z"
   },
   {
    "duration": 4,
    "start_time": "2021-06-24T11:55:45.937Z"
   },
   {
    "duration": 437,
    "start_time": "2021-06-24T11:55:45.943Z"
   },
   {
    "duration": 12,
    "start_time": "2021-06-24T11:55:46.382Z"
   },
   {
    "duration": 17,
    "start_time": "2021-06-24T11:55:46.397Z"
   },
   {
    "duration": 43,
    "start_time": "2021-06-24T11:55:46.416Z"
   },
   {
    "duration": 14,
    "start_time": "2021-06-24T11:55:46.462Z"
   },
   {
    "duration": 196,
    "start_time": "2021-06-24T11:55:46.480Z"
   },
   {
    "duration": 6,
    "start_time": "2021-06-24T11:55:46.679Z"
   },
   {
    "duration": 12,
    "start_time": "2021-06-24T11:55:46.687Z"
   },
   {
    "duration": 7,
    "start_time": "2021-06-24T11:55:46.701Z"
   },
   {
    "duration": 553,
    "start_time": "2021-06-24T11:55:46.710Z"
   },
   {
    "duration": 91,
    "start_time": "2021-06-24T11:55:47.266Z"
   },
   {
    "duration": 7,
    "start_time": "2021-06-24T11:55:47.360Z"
   },
   {
    "duration": 7,
    "start_time": "2021-06-24T11:55:47.369Z"
   },
   {
    "duration": 9,
    "start_time": "2021-06-24T11:55:47.379Z"
   },
   {
    "duration": 1241,
    "start_time": "2021-06-24T11:58:02.896Z"
   },
   {
    "duration": 441,
    "start_time": "2021-06-24T11:58:13.364Z"
   },
   {
    "duration": 559,
    "start_time": "2021-06-24T11:58:23.599Z"
   },
   {
    "duration": 583,
    "start_time": "2021-06-24T11:58:35.872Z"
   },
   {
    "duration": 4,
    "start_time": "2021-06-24T11:58:39.358Z"
   },
   {
    "duration": 458,
    "start_time": "2021-06-24T11:58:39.364Z"
   },
   {
    "duration": 12,
    "start_time": "2021-06-24T11:58:39.825Z"
   },
   {
    "duration": 15,
    "start_time": "2021-06-24T11:58:39.855Z"
   },
   {
    "duration": 13,
    "start_time": "2021-06-24T11:58:39.873Z"
   },
   {
    "duration": 19,
    "start_time": "2021-06-24T11:58:39.888Z"
   },
   {
    "duration": 207,
    "start_time": "2021-06-24T11:58:39.910Z"
   },
   {
    "duration": 7,
    "start_time": "2021-06-24T11:58:40.120Z"
   },
   {
    "duration": 24,
    "start_time": "2021-06-24T11:58:40.133Z"
   },
   {
    "duration": 6,
    "start_time": "2021-06-24T11:58:40.160Z"
   },
   {
    "duration": 492,
    "start_time": "2021-06-24T11:58:40.168Z"
   },
   {
    "duration": 92,
    "start_time": "2021-06-24T11:58:40.663Z"
   },
   {
    "duration": 22,
    "start_time": "2021-06-24T11:58:40.759Z"
   },
   {
    "duration": 19,
    "start_time": "2021-06-24T11:58:40.784Z"
   },
   {
    "duration": 14399,
    "start_time": "2021-06-24T11:58:40.805Z"
   },
   {
    "duration": 6,
    "start_time": "2021-06-24T11:59:45.519Z"
   },
   {
    "duration": 703,
    "start_time": "2021-06-24T11:59:45.528Z"
   },
   {
    "duration": 13,
    "start_time": "2021-06-24T11:59:46.236Z"
   },
   {
    "duration": 17,
    "start_time": "2021-06-24T11:59:46.257Z"
   },
   {
    "duration": 16,
    "start_time": "2021-06-24T11:59:46.276Z"
   },
   {
    "duration": 16,
    "start_time": "2021-06-24T11:59:46.295Z"
   },
   {
    "duration": 224,
    "start_time": "2021-06-24T11:59:46.313Z"
   },
   {
    "duration": 5,
    "start_time": "2021-06-24T11:59:46.540Z"
   },
   {
    "duration": 3,
    "start_time": "2021-06-24T11:59:46.557Z"
   },
   {
    "duration": 8,
    "start_time": "2021-06-24T11:59:46.562Z"
   },
   {
    "duration": 686,
    "start_time": "2021-06-24T11:59:46.572Z"
   },
   {
    "duration": 4,
    "start_time": "2021-06-24T11:59:47.261Z"
   },
   {
    "duration": 13,
    "start_time": "2021-06-24T11:59:47.267Z"
   },
   {
    "duration": 14,
    "start_time": "2021-06-24T11:59:47.282Z"
   },
   {
    "duration": 12576,
    "start_time": "2021-06-24T11:59:47.299Z"
   },
   {
    "duration": 4,
    "start_time": "2021-06-24T12:00:45.920Z"
   },
   {
    "duration": 450,
    "start_time": "2021-06-24T12:00:45.926Z"
   },
   {
    "duration": 16,
    "start_time": "2021-06-24T12:00:46.379Z"
   },
   {
    "duration": 16,
    "start_time": "2021-06-24T12:00:46.399Z"
   },
   {
    "duration": 47,
    "start_time": "2021-06-24T12:00:46.417Z"
   },
   {
    "duration": 13,
    "start_time": "2021-06-24T12:00:46.467Z"
   },
   {
    "duration": 185,
    "start_time": "2021-06-24T12:00:46.482Z"
   },
   {
    "duration": 6,
    "start_time": "2021-06-24T12:00:46.670Z"
   },
   {
    "duration": 6,
    "start_time": "2021-06-24T12:00:46.679Z"
   },
   {
    "duration": 7,
    "start_time": "2021-06-24T12:00:46.687Z"
   },
   {
    "duration": 461,
    "start_time": "2021-06-24T12:00:46.697Z"
   },
   {
    "duration": 93,
    "start_time": "2021-06-24T12:00:47.163Z"
   },
   {
    "duration": 9,
    "start_time": "2021-06-24T12:00:47.259Z"
   },
   {
    "duration": 5,
    "start_time": "2021-06-24T12:00:47.270Z"
   },
   {
    "duration": 12033,
    "start_time": "2021-06-24T12:00:47.277Z"
   },
   {
    "duration": 6,
    "start_time": "2021-06-24T12:01:21.089Z"
   },
   {
    "duration": 454,
    "start_time": "2021-06-24T12:01:21.099Z"
   },
   {
    "duration": 15,
    "start_time": "2021-06-24T12:01:21.557Z"
   },
   {
    "duration": 14,
    "start_time": "2021-06-24T12:01:21.575Z"
   },
   {
    "duration": 18,
    "start_time": "2021-06-24T12:01:21.592Z"
   },
   {
    "duration": 43,
    "start_time": "2021-06-24T12:01:21.613Z"
   },
   {
    "duration": 174,
    "start_time": "2021-06-24T12:01:21.658Z"
   },
   {
    "duration": 6,
    "start_time": "2021-06-24T12:01:21.834Z"
   },
   {
    "duration": 223,
    "start_time": "2021-06-24T12:01:21.844Z"
   },
   {
    "duration": 8,
    "start_time": "2021-06-24T12:01:22.069Z"
   },
   {
    "duration": 486,
    "start_time": "2021-06-24T12:01:22.080Z"
   },
   {
    "duration": 88,
    "start_time": "2021-06-24T12:01:22.569Z"
   },
   {
    "duration": 25,
    "start_time": "2021-06-24T12:01:22.659Z"
   },
   {
    "duration": 8,
    "start_time": "2021-06-24T12:01:22.687Z"
   },
   {
    "duration": 13397,
    "start_time": "2021-06-24T12:01:22.698Z"
   },
   {
    "duration": 499,
    "start_time": "2021-06-24T12:05:21.764Z"
   },
   {
    "duration": 4,
    "start_time": "2021-06-24T12:07:59.071Z"
   },
   {
    "duration": 5,
    "start_time": "2021-06-24T12:08:01.385Z"
   },
   {
    "duration": 5,
    "start_time": "2021-06-24T12:08:50.444Z"
   },
   {
    "duration": 12150,
    "start_time": "2021-06-24T12:09:53.796Z"
   },
   {
    "duration": 4,
    "start_time": "2021-06-24T12:10:08.833Z"
   },
   {
    "duration": 436,
    "start_time": "2021-06-24T12:10:08.840Z"
   },
   {
    "duration": 11,
    "start_time": "2021-06-24T12:10:09.279Z"
   },
   {
    "duration": 8,
    "start_time": "2021-06-24T12:10:09.293Z"
   },
   {
    "duration": 219,
    "start_time": "2021-06-24T12:10:09.304Z"
   },
   {
    "duration": 4,
    "start_time": "2021-06-24T12:10:09.525Z"
   },
   {
    "duration": 526,
    "start_time": "2021-06-24T12:10:09.532Z"
   },
   {
    "duration": 94,
    "start_time": "2021-06-24T12:10:10.062Z"
   },
   {
    "duration": 10,
    "start_time": "2021-06-24T12:10:10.160Z"
   },
   {
    "duration": 6,
    "start_time": "2021-06-24T12:10:10.172Z"
   },
   {
    "duration": 11977,
    "start_time": "2021-06-24T12:10:10.181Z"
   },
   {
    "duration": 4,
    "start_time": "2021-06-24T12:18:10.451Z"
   },
   {
    "duration": 460,
    "start_time": "2021-06-24T12:18:10.457Z"
   },
   {
    "duration": 13,
    "start_time": "2021-06-24T12:18:10.920Z"
   },
   {
    "duration": 21,
    "start_time": "2021-06-24T12:18:10.935Z"
   },
   {
    "duration": 203,
    "start_time": "2021-06-24T12:18:10.958Z"
   },
   {
    "duration": 4,
    "start_time": "2021-06-24T12:18:11.163Z"
   },
   {
    "duration": 489,
    "start_time": "2021-06-24T12:18:11.170Z"
   },
   {
    "duration": 93,
    "start_time": "2021-06-24T12:18:11.662Z"
   },
   {
    "duration": 8,
    "start_time": "2021-06-24T12:18:11.759Z"
   },
   {
    "duration": 9,
    "start_time": "2021-06-24T12:18:11.771Z"
   },
   {
    "duration": 12407,
    "start_time": "2021-06-24T12:18:11.782Z"
   },
   {
    "duration": 1429,
    "start_time": "2021-06-24T17:50:07.084Z"
   },
   {
    "duration": 524,
    "start_time": "2021-06-24T17:50:08.515Z"
   },
   {
    "duration": 25,
    "start_time": "2021-06-24T17:50:09.042Z"
   },
   {
    "duration": 10,
    "start_time": "2021-06-24T17:50:09.072Z"
   },
   {
    "duration": 292,
    "start_time": "2021-06-24T17:50:09.085Z"
   },
   {
    "duration": 6,
    "start_time": "2021-06-24T17:50:09.380Z"
   },
   {
    "duration": 467,
    "start_time": "2021-06-24T17:50:09.390Z"
   },
   {
    "duration": 11,
    "start_time": "2021-06-24T17:50:09.862Z"
   },
   {
    "duration": 21,
    "start_time": "2021-06-24T17:50:09.960Z"
   },
   {
    "duration": 11,
    "start_time": "2021-06-24T17:50:09.984Z"
   },
   {
    "duration": 14012,
    "start_time": "2021-06-24T17:50:09.998Z"
   },
   {
    "duration": 4,
    "start_time": "2021-06-24T17:51:03.370Z"
   },
   {
    "duration": 767,
    "start_time": "2021-06-24T17:51:03.380Z"
   },
   {
    "duration": 21,
    "start_time": "2021-06-24T17:51:04.155Z"
   },
   {
    "duration": 10,
    "start_time": "2021-06-24T17:51:04.181Z"
   },
   {
    "duration": 358,
    "start_time": "2021-06-24T17:51:04.195Z"
   },
   {
    "duration": 7,
    "start_time": "2021-06-24T17:51:04.557Z"
   },
   {
    "duration": 487,
    "start_time": "2021-06-24T17:51:04.576Z"
   },
   {
    "duration": 89,
    "start_time": "2021-06-24T17:51:05.067Z"
   },
   {
    "duration": 13,
    "start_time": "2021-06-24T17:51:05.160Z"
   },
   {
    "duration": 6,
    "start_time": "2021-06-24T17:51:05.176Z"
   },
   {
    "duration": 24907,
    "start_time": "2021-06-24T17:51:05.185Z"
   },
   {
    "duration": 3912,
    "start_time": "2021-06-24T17:54:36.694Z"
   },
   {
    "duration": 4194,
    "start_time": "2021-06-24T17:55:19.795Z"
   },
   {
    "duration": 8698,
    "start_time": "2021-06-24T17:59:53.846Z"
   },
   {
    "duration": 539,
    "start_time": "2021-06-24T18:01:08.673Z"
   },
   {
    "duration": 4,
    "start_time": "2021-06-24T18:02:08.941Z"
   },
   {
    "duration": 540,
    "start_time": "2021-06-24T18:02:12.619Z"
   },
   {
    "duration": 4,
    "start_time": "2021-06-24T18:02:29.791Z"
   },
   {
    "duration": 13322,
    "start_time": "2021-06-24T18:02:31.855Z"
   },
   {
    "duration": 3914,
    "start_time": "2021-06-24T18:03:10.787Z"
   },
   {
    "duration": 3908,
    "start_time": "2021-06-24T18:03:25.676Z"
   },
   {
    "duration": 311,
    "start_time": "2021-06-24T18:03:51.964Z"
   },
   {
    "duration": 542,
    "start_time": "2021-06-24T18:04:11.448Z"
   },
   {
    "duration": 84,
    "start_time": "2021-06-24T18:04:42.647Z"
   },
   {
    "duration": 5263,
    "start_time": "2021-06-24T18:04:47.172Z"
   },
   {
    "duration": 487,
    "start_time": "2021-06-24T18:06:08.376Z"
   },
   {
    "duration": 3,
    "start_time": "2021-06-24T18:06:21.705Z"
   },
   {
    "duration": 496,
    "start_time": "2021-06-24T18:06:21.711Z"
   },
   {
    "duration": 13,
    "start_time": "2021-06-24T18:06:22.210Z"
   },
   {
    "duration": 7,
    "start_time": "2021-06-24T18:06:22.226Z"
   },
   {
    "duration": 233,
    "start_time": "2021-06-24T18:06:22.255Z"
   },
   {
    "duration": 3,
    "start_time": "2021-06-24T18:06:22.491Z"
   },
   {
    "duration": 463,
    "start_time": "2021-06-24T18:06:22.497Z"
   },
   {
    "duration": 5,
    "start_time": "2021-06-24T18:06:22.963Z"
   },
   {
    "duration": 85,
    "start_time": "2021-06-24T18:06:22.975Z"
   },
   {
    "duration": 6,
    "start_time": "2021-06-24T18:06:23.064Z"
   },
   {
    "duration": 3916,
    "start_time": "2021-06-24T18:06:23.073Z"
   },
   {
    "duration": 531,
    "start_time": "2021-06-24T18:07:42.635Z"
   },
   {
    "duration": 4717,
    "start_time": "2021-06-24T18:08:30.905Z"
   },
   {
    "duration": 7,
    "start_time": "2021-06-24T18:09:37.577Z"
   },
   {
    "duration": 3997,
    "start_time": "2021-06-24T18:09:40.087Z"
   },
   {
    "duration": 1292,
    "start_time": "2021-06-24T18:11:15.992Z"
   },
   {
    "duration": 495,
    "start_time": "2021-06-24T18:11:17.286Z"
   },
   {
    "duration": 22,
    "start_time": "2021-06-24T18:11:17.783Z"
   },
   {
    "duration": 4,
    "start_time": "2021-06-24T18:11:17.809Z"
   },
   {
    "duration": 247,
    "start_time": "2021-06-24T18:11:17.815Z"
   },
   {
    "duration": 7,
    "start_time": "2021-06-24T18:11:18.065Z"
   },
   {
    "duration": 487,
    "start_time": "2021-06-24T18:11:18.076Z"
   },
   {
    "duration": 5,
    "start_time": "2021-06-24T18:11:18.570Z"
   },
   {
    "duration": 13,
    "start_time": "2021-06-24T18:11:18.658Z"
   },
   {
    "duration": 10,
    "start_time": "2021-06-24T18:11:18.674Z"
   },
   {
    "duration": 45937,
    "start_time": "2021-06-24T18:11:18.686Z"
   },
   {
    "duration": 49962,
    "start_time": "2021-06-24T18:12:13.839Z"
   },
   {
    "duration": 455,
    "start_time": "2021-06-24T18:13:03.804Z"
   },
   {
    "duration": 540,
    "start_time": "2021-06-24T18:13:15.221Z"
   },
   {
    "duration": 448,
    "start_time": "2021-06-24T18:13:45.629Z"
   },
   {
    "duration": 4244,
    "start_time": "2021-06-24T18:14:07.166Z"
   },
   {
    "duration": 3870,
    "start_time": "2021-06-24T18:14:26.676Z"
   },
   {
    "duration": 1415,
    "start_time": "2021-06-24T18:15:13.773Z"
   },
   {
    "duration": 507,
    "start_time": "2021-06-24T18:15:15.191Z"
   },
   {
    "duration": 25,
    "start_time": "2021-06-24T18:15:15.702Z"
   },
   {
    "duration": 7,
    "start_time": "2021-06-24T18:15:15.729Z"
   },
   {
    "duration": 248,
    "start_time": "2021-06-24T18:15:15.754Z"
   },
   {
    "duration": 5,
    "start_time": "2021-06-24T18:15:16.004Z"
   },
   {
    "duration": 545,
    "start_time": "2021-06-24T18:15:16.012Z"
   },
   {
    "duration": 5,
    "start_time": "2021-06-24T18:15:16.562Z"
   },
   {
    "duration": 91,
    "start_time": "2021-06-24T18:15:16.570Z"
   },
   {
    "duration": 7,
    "start_time": "2021-06-24T18:15:16.664Z"
   },
   {
    "duration": 1284,
    "start_time": "2021-06-24T18:15:52.286Z"
   },
   {
    "duration": 483,
    "start_time": "2021-06-24T18:15:53.573Z"
   },
   {
    "duration": 26,
    "start_time": "2021-06-24T18:15:54.060Z"
   },
   {
    "duration": 5,
    "start_time": "2021-06-24T18:15:54.090Z"
   },
   {
    "duration": 393,
    "start_time": "2021-06-24T18:15:54.098Z"
   },
   {
    "duration": 4,
    "start_time": "2021-06-24T18:15:54.494Z"
   },
   {
    "duration": 556,
    "start_time": "2021-06-24T18:15:54.501Z"
   },
   {
    "duration": 6,
    "start_time": "2021-06-24T18:15:55.060Z"
   },
   {
    "duration": 89,
    "start_time": "2021-06-24T18:15:55.074Z"
   },
   {
    "duration": 7,
    "start_time": "2021-06-24T18:15:55.167Z"
   },
   {
    "duration": 14452,
    "start_time": "2021-06-24T18:15:55.177Z"
   },
   {
    "duration": 1243,
    "start_time": "2021-06-25T05:38:28.129Z"
   },
   {
    "duration": 445,
    "start_time": "2021-06-25T05:38:29.375Z"
   },
   {
    "duration": 22,
    "start_time": "2021-06-25T05:38:29.823Z"
   },
   {
    "duration": 3,
    "start_time": "2021-06-25T05:38:29.847Z"
   },
   {
    "duration": 223,
    "start_time": "2021-06-25T05:38:29.853Z"
   },
   {
    "duration": 4,
    "start_time": "2021-06-25T05:38:30.082Z"
   },
   {
    "duration": 595,
    "start_time": "2021-06-25T05:38:30.088Z"
   },
   {
    "duration": 4,
    "start_time": "2021-06-25T05:38:30.686Z"
   },
   {
    "duration": 13,
    "start_time": "2021-06-25T05:38:30.693Z"
   },
   {
    "duration": 16,
    "start_time": "2021-06-25T05:38:30.708Z"
   },
   {
    "duration": 13019,
    "start_time": "2021-06-25T05:38:30.726Z"
   },
   {
    "duration": 4,
    "start_time": "2021-06-25T05:39:07.450Z"
   },
   {
    "duration": 442,
    "start_time": "2021-06-25T05:39:07.640Z"
   },
   {
    "duration": 12,
    "start_time": "2021-06-25T05:39:08.084Z"
   },
   {
    "duration": 13,
    "start_time": "2021-06-25T05:39:08.099Z"
   },
   {
    "duration": 201,
    "start_time": "2021-06-25T05:39:08.114Z"
   },
   {
    "duration": 4,
    "start_time": "2021-06-25T05:39:08.317Z"
   },
   {
    "duration": 466,
    "start_time": "2021-06-25T05:39:08.323Z"
   },
   {
    "duration": 92,
    "start_time": "2021-06-25T05:39:08.792Z"
   },
   {
    "duration": 9,
    "start_time": "2021-06-25T05:39:08.888Z"
   },
   {
    "duration": 6,
    "start_time": "2021-06-25T05:39:08.902Z"
   },
   {
    "duration": 3,
    "start_time": "2021-06-25T05:39:43.344Z"
   },
   {
    "duration": 447,
    "start_time": "2021-06-25T05:39:43.350Z"
   },
   {
    "duration": 13,
    "start_time": "2021-06-25T05:39:43.799Z"
   },
   {
    "duration": 6,
    "start_time": "2021-06-25T05:39:43.815Z"
   },
   {
    "duration": 227,
    "start_time": "2021-06-25T05:39:43.824Z"
   },
   {
    "duration": 4,
    "start_time": "2021-06-25T05:39:44.054Z"
   },
   {
    "duration": 624,
    "start_time": "2021-06-25T05:39:44.061Z"
   },
   {
    "duration": 4,
    "start_time": "2021-06-25T05:39:44.687Z"
   },
   {
    "duration": 7,
    "start_time": "2021-06-25T05:39:44.694Z"
   },
   {
    "duration": 4,
    "start_time": "2021-06-25T05:39:44.704Z"
   },
   {
    "duration": 119,
    "start_time": "2021-06-25T05:39:44.710Z"
   },
   {
    "duration": 4,
    "start_time": "2021-06-25T05:39:58.609Z"
   },
   {
    "duration": 473,
    "start_time": "2021-06-25T05:39:58.616Z"
   },
   {
    "duration": 13,
    "start_time": "2021-06-25T05:39:59.092Z"
   },
   {
    "duration": 9,
    "start_time": "2021-06-25T05:39:59.108Z"
   },
   {
    "duration": 240,
    "start_time": "2021-06-25T05:39:59.119Z"
   },
   {
    "duration": 4,
    "start_time": "2021-06-25T05:39:59.361Z"
   },
   {
    "duration": 510,
    "start_time": "2021-06-25T05:39:59.386Z"
   },
   {
    "duration": 5,
    "start_time": "2021-06-25T05:39:59.984Z"
   },
   {
    "duration": 8,
    "start_time": "2021-06-25T05:39:59.991Z"
   },
   {
    "duration": 6,
    "start_time": "2021-06-25T05:40:00.001Z"
   },
   {
    "duration": 38115,
    "start_time": "2021-06-25T05:40:00.009Z"
   },
   {
    "duration": 4417,
    "start_time": "2021-06-25T05:43:10.321Z"
   },
   {
    "duration": 6574,
    "start_time": "2021-06-25T05:48:52.007Z"
   },
   {
    "duration": 4,
    "start_time": "2021-06-25T05:50:04.654Z"
   },
   {
    "duration": 435,
    "start_time": "2021-06-25T05:50:04.660Z"
   },
   {
    "duration": 13,
    "start_time": "2021-06-25T05:50:05.099Z"
   },
   {
    "duration": 8,
    "start_time": "2021-06-25T05:50:05.115Z"
   },
   {
    "duration": 226,
    "start_time": "2021-06-25T05:50:05.126Z"
   },
   {
    "duration": 4,
    "start_time": "2021-06-25T05:50:05.355Z"
   },
   {
    "duration": 524,
    "start_time": "2021-06-25T05:50:05.362Z"
   },
   {
    "duration": 94,
    "start_time": "2021-06-25T05:50:05.890Z"
   },
   {
    "duration": 9,
    "start_time": "2021-06-25T05:50:05.987Z"
   },
   {
    "duration": 7,
    "start_time": "2021-06-25T05:50:05.998Z"
   },
   {
    "duration": 4794,
    "start_time": "2021-06-25T05:50:06.008Z"
   },
   {
    "duration": 5,
    "start_time": "2021-06-25T05:52:16.394Z"
   },
   {
    "duration": 425,
    "start_time": "2021-06-25T05:52:17.417Z"
   },
   {
    "duration": 13,
    "start_time": "2021-06-25T05:52:17.845Z"
   },
   {
    "duration": 21,
    "start_time": "2021-06-25T05:52:17.862Z"
   },
   {
    "duration": 203,
    "start_time": "2021-06-25T05:52:17.887Z"
   },
   {
    "duration": 5,
    "start_time": "2021-06-25T05:52:18.093Z"
   },
   {
    "duration": 487,
    "start_time": "2021-06-25T05:52:18.101Z"
   },
   {
    "duration": 92,
    "start_time": "2021-06-25T05:52:18.592Z"
   },
   {
    "duration": 7,
    "start_time": "2021-06-25T05:52:18.687Z"
   },
   {
    "duration": 4,
    "start_time": "2021-06-25T05:52:18.699Z"
   },
   {
    "duration": 4197,
    "start_time": "2021-06-25T05:52:18.707Z"
   },
   {
    "duration": 4,
    "start_time": "2021-06-25T05:52:46.365Z"
   },
   {
    "duration": 454,
    "start_time": "2021-06-25T05:52:46.371Z"
   },
   {
    "duration": 14,
    "start_time": "2021-06-25T05:52:46.828Z"
   },
   {
    "duration": 20,
    "start_time": "2021-06-25T05:52:46.844Z"
   },
   {
    "duration": 246,
    "start_time": "2021-06-25T05:52:46.866Z"
   },
   {
    "duration": 4,
    "start_time": "2021-06-25T05:52:47.115Z"
   },
   {
    "duration": 565,
    "start_time": "2021-06-25T05:52:47.121Z"
   },
   {
    "duration": 4,
    "start_time": "2021-06-25T05:52:47.689Z"
   },
   {
    "duration": 28,
    "start_time": "2021-06-25T05:52:47.695Z"
   },
   {
    "duration": 18,
    "start_time": "2021-06-25T05:52:47.726Z"
   },
   {
    "duration": 4254,
    "start_time": "2021-06-25T05:52:47.747Z"
   },
   {
    "duration": 4,
    "start_time": "2021-06-25T05:53:23.436Z"
   },
   {
    "duration": 458,
    "start_time": "2021-06-25T05:53:23.443Z"
   },
   {
    "duration": 16,
    "start_time": "2021-06-25T05:53:23.905Z"
   },
   {
    "duration": 10,
    "start_time": "2021-06-25T05:53:23.923Z"
   },
   {
    "duration": 250,
    "start_time": "2021-06-25T05:53:23.935Z"
   },
   {
    "duration": 5,
    "start_time": "2021-06-25T05:53:24.187Z"
   },
   {
    "duration": 492,
    "start_time": "2021-06-25T05:53:24.194Z"
   },
   {
    "duration": 94,
    "start_time": "2021-06-25T05:53:24.690Z"
   },
   {
    "duration": 8,
    "start_time": "2021-06-25T05:53:24.788Z"
   },
   {
    "duration": 9,
    "start_time": "2021-06-25T05:53:24.798Z"
   },
   {
    "duration": 371,
    "start_time": "2021-06-25T05:53:24.809Z"
   },
   {
    "duration": 5,
    "start_time": "2021-06-25T05:54:20.328Z"
   },
   {
    "duration": 502,
    "start_time": "2021-06-25T05:54:20.336Z"
   },
   {
    "duration": 13,
    "start_time": "2021-06-25T05:54:20.841Z"
   },
   {
    "duration": 26,
    "start_time": "2021-06-25T05:54:20.857Z"
   },
   {
    "duration": 227,
    "start_time": "2021-06-25T05:54:20.886Z"
   },
   {
    "duration": 4,
    "start_time": "2021-06-25T05:54:21.115Z"
   },
   {
    "duration": 470,
    "start_time": "2021-06-25T05:54:21.122Z"
   },
   {
    "duration": 6,
    "start_time": "2021-06-25T05:54:21.684Z"
   },
   {
    "duration": 11,
    "start_time": "2021-06-25T05:54:21.694Z"
   },
   {
    "duration": 6,
    "start_time": "2021-06-25T05:54:21.708Z"
   },
   {
    "duration": 4380,
    "start_time": "2021-06-25T05:54:21.718Z"
   },
   {
    "duration": 4,
    "start_time": "2021-06-25T05:55:03.958Z"
   },
   {
    "duration": 478,
    "start_time": "2021-06-25T05:55:03.966Z"
   },
   {
    "duration": 13,
    "start_time": "2021-06-25T05:55:04.448Z"
   },
   {
    "duration": 20,
    "start_time": "2021-06-25T05:55:04.465Z"
   },
   {
    "duration": 233,
    "start_time": "2021-06-25T05:55:04.488Z"
   },
   {
    "duration": 4,
    "start_time": "2021-06-25T05:55:04.724Z"
   },
   {
    "duration": 655,
    "start_time": "2021-06-25T05:55:04.732Z"
   },
   {
    "duration": 4,
    "start_time": "2021-06-25T05:55:05.389Z"
   },
   {
    "duration": 10,
    "start_time": "2021-06-25T05:55:05.396Z"
   },
   {
    "duration": 6,
    "start_time": "2021-06-25T05:55:05.408Z"
   },
   {
    "duration": 4119,
    "start_time": "2021-06-25T05:55:05.417Z"
   },
   {
    "duration": 4,
    "start_time": "2021-06-25T05:55:34.217Z"
   },
   {
    "duration": 424,
    "start_time": "2021-06-25T05:55:34.229Z"
   },
   {
    "duration": 12,
    "start_time": "2021-06-25T05:55:34.656Z"
   },
   {
    "duration": 16,
    "start_time": "2021-06-25T05:55:34.671Z"
   },
   {
    "duration": 217,
    "start_time": "2021-06-25T05:55:34.690Z"
   },
   {
    "duration": 3,
    "start_time": "2021-06-25T05:55:34.910Z"
   },
   {
    "duration": 472,
    "start_time": "2021-06-25T05:55:34.915Z"
   },
   {
    "duration": 93,
    "start_time": "2021-06-25T05:55:35.391Z"
   },
   {
    "duration": 9,
    "start_time": "2021-06-25T05:55:35.486Z"
   },
   {
    "duration": 8,
    "start_time": "2021-06-25T05:55:35.499Z"
   },
   {
    "duration": 285,
    "start_time": "2021-06-25T05:55:35.510Z"
   },
   {
    "duration": 3,
    "start_time": "2021-06-25T05:56:10.911Z"
   },
   {
    "duration": 453,
    "start_time": "2021-06-25T05:56:10.918Z"
   },
   {
    "duration": 17,
    "start_time": "2021-06-25T05:56:11.374Z"
   },
   {
    "duration": 6,
    "start_time": "2021-06-25T05:56:11.395Z"
   },
   {
    "duration": 225,
    "start_time": "2021-06-25T05:56:11.404Z"
   },
   {
    "duration": 4,
    "start_time": "2021-06-25T05:56:11.631Z"
   },
   {
    "duration": 547,
    "start_time": "2021-06-25T05:56:11.638Z"
   },
   {
    "duration": 95,
    "start_time": "2021-06-25T05:56:12.189Z"
   },
   {
    "duration": 6,
    "start_time": "2021-06-25T05:56:12.287Z"
   },
   {
    "duration": 7,
    "start_time": "2021-06-25T05:56:12.295Z"
   },
   {
    "duration": 274,
    "start_time": "2021-06-25T05:56:12.304Z"
   },
   {
    "duration": 4,
    "start_time": "2021-06-25T05:59:51.742Z"
   },
   {
    "duration": 4,
    "start_time": "2021-06-25T06:00:11.842Z"
   },
   {
    "duration": 455,
    "start_time": "2021-06-25T06:00:11.849Z"
   },
   {
    "duration": 13,
    "start_time": "2021-06-25T06:00:12.307Z"
   },
   {
    "duration": 8,
    "start_time": "2021-06-25T06:00:12.322Z"
   },
   {
    "duration": 225,
    "start_time": "2021-06-25T06:00:12.332Z"
   },
   {
    "duration": 4,
    "start_time": "2021-06-25T06:00:12.559Z"
   },
   {
    "duration": 619,
    "start_time": "2021-06-25T06:00:12.565Z"
   },
   {
    "duration": 3,
    "start_time": "2021-06-25T06:00:13.188Z"
   },
   {
    "duration": 18,
    "start_time": "2021-06-25T06:00:13.195Z"
   },
   {
    "duration": 18,
    "start_time": "2021-06-25T06:00:13.216Z"
   },
   {
    "duration": 4243,
    "start_time": "2021-06-25T06:00:13.237Z"
   },
   {
    "duration": 4,
    "start_time": "2021-06-25T06:02:03.742Z"
   },
   {
    "duration": 444,
    "start_time": "2021-06-25T06:02:03.749Z"
   },
   {
    "duration": 12,
    "start_time": "2021-06-25T06:02:04.196Z"
   },
   {
    "duration": 13,
    "start_time": "2021-06-25T06:02:04.211Z"
   },
   {
    "duration": 210,
    "start_time": "2021-06-25T06:02:04.227Z"
   },
   {
    "duration": 4,
    "start_time": "2021-06-25T06:02:04.439Z"
   },
   {
    "duration": 541,
    "start_time": "2021-06-25T06:02:04.445Z"
   },
   {
    "duration": 95,
    "start_time": "2021-06-25T06:02:04.989Z"
   },
   {
    "duration": 8,
    "start_time": "2021-06-25T06:02:05.087Z"
   },
   {
    "duration": 6,
    "start_time": "2021-06-25T06:02:05.098Z"
   },
   {
    "duration": 4206,
    "start_time": "2021-06-25T06:02:05.107Z"
   },
   {
    "duration": 4,
    "start_time": "2021-06-25T06:02:39.298Z"
   },
   {
    "duration": 431,
    "start_time": "2021-06-25T06:02:39.305Z"
   },
   {
    "duration": 13,
    "start_time": "2021-06-25T06:02:39.740Z"
   },
   {
    "duration": 27,
    "start_time": "2021-06-25T06:02:39.756Z"
   },
   {
    "duration": 191,
    "start_time": "2021-06-25T06:02:39.786Z"
   },
   {
    "duration": 5,
    "start_time": "2021-06-25T06:02:39.984Z"
   },
   {
    "duration": 412,
    "start_time": "2021-06-25T06:02:39.991Z"
   },
   {
    "duration": 5,
    "start_time": "2021-06-25T06:02:40.484Z"
   },
   {
    "duration": 95,
    "start_time": "2021-06-25T06:02:40.494Z"
   },
   {
    "duration": 5,
    "start_time": "2021-06-25T06:02:40.592Z"
   },
   {
    "duration": 4120,
    "start_time": "2021-06-25T06:02:40.599Z"
   },
   {
    "duration": 4,
    "start_time": "2021-06-25T06:03:11.941Z"
   },
   {
    "duration": 439,
    "start_time": "2021-06-25T06:03:11.948Z"
   },
   {
    "duration": 12,
    "start_time": "2021-06-25T06:03:12.390Z"
   },
   {
    "duration": 9,
    "start_time": "2021-06-25T06:03:12.405Z"
   },
   {
    "duration": 239,
    "start_time": "2021-06-25T06:03:12.417Z"
   },
   {
    "duration": 4,
    "start_time": "2021-06-25T06:03:12.659Z"
   },
   {
    "duration": 620,
    "start_time": "2021-06-25T06:03:12.665Z"
   },
   {
    "duration": 4,
    "start_time": "2021-06-25T06:03:13.287Z"
   },
   {
    "duration": 6,
    "start_time": "2021-06-25T06:03:13.296Z"
   },
   {
    "duration": 9,
    "start_time": "2021-06-25T06:03:13.304Z"
   },
   {
    "duration": 4283,
    "start_time": "2021-06-25T06:03:13.315Z"
   },
   {
    "duration": 4,
    "start_time": "2021-06-25T06:04:32.039Z"
   },
   {
    "duration": 440,
    "start_time": "2021-06-25T06:04:32.046Z"
   },
   {
    "duration": 12,
    "start_time": "2021-06-25T06:04:32.489Z"
   },
   {
    "duration": 7,
    "start_time": "2021-06-25T06:04:32.504Z"
   },
   {
    "duration": 235,
    "start_time": "2021-06-25T06:04:32.514Z"
   },
   {
    "duration": 4,
    "start_time": "2021-06-25T06:04:32.751Z"
   },
   {
    "duration": 628,
    "start_time": "2021-06-25T06:04:32.757Z"
   },
   {
    "duration": 4,
    "start_time": "2021-06-25T06:04:33.389Z"
   },
   {
    "duration": 10,
    "start_time": "2021-06-25T06:04:33.397Z"
   },
   {
    "duration": 6,
    "start_time": "2021-06-25T06:04:33.410Z"
   },
   {
    "duration": 15545,
    "start_time": "2021-06-25T06:04:33.419Z"
   },
   {
    "duration": 4,
    "start_time": "2021-06-25T06:05:12.320Z"
   },
   {
    "duration": 439,
    "start_time": "2021-06-25T06:05:12.326Z"
   },
   {
    "duration": 16,
    "start_time": "2021-06-25T06:05:12.768Z"
   },
   {
    "duration": 6,
    "start_time": "2021-06-25T06:05:12.788Z"
   },
   {
    "duration": 224,
    "start_time": "2021-06-25T06:05:12.796Z"
   },
   {
    "duration": 4,
    "start_time": "2021-06-25T06:05:13.022Z"
   },
   {
    "duration": 466,
    "start_time": "2021-06-25T06:05:13.028Z"
   },
   {
    "duration": 4,
    "start_time": "2021-06-25T06:05:13.586Z"
   },
   {
    "duration": 9,
    "start_time": "2021-06-25T06:05:13.593Z"
   },
   {
    "duration": 5,
    "start_time": "2021-06-25T06:05:13.604Z"
   },
   {
    "duration": 11826,
    "start_time": "2021-06-25T06:05:13.612Z"
   },
   {
    "duration": 4,
    "start_time": "2021-06-25T06:06:14.249Z"
   },
   {
    "duration": 447,
    "start_time": "2021-06-25T06:06:14.256Z"
   },
   {
    "duration": 12,
    "start_time": "2021-06-25T06:06:14.706Z"
   },
   {
    "duration": 8,
    "start_time": "2021-06-25T06:06:14.720Z"
   },
   {
    "duration": 217,
    "start_time": "2021-06-25T06:06:14.730Z"
   },
   {
    "duration": 4,
    "start_time": "2021-06-25T06:06:14.949Z"
   },
   {
    "duration": 630,
    "start_time": "2021-06-25T06:06:14.955Z"
   },
   {
    "duration": 4,
    "start_time": "2021-06-25T06:06:15.587Z"
   },
   {
    "duration": 7,
    "start_time": "2021-06-25T06:06:15.594Z"
   },
   {
    "duration": 9,
    "start_time": "2021-06-25T06:06:15.603Z"
   },
   {
    "duration": 582,
    "start_time": "2021-06-25T06:06:15.615Z"
   },
   {
    "duration": 4,
    "start_time": "2021-06-25T06:10:52.898Z"
   },
   {
    "duration": 453,
    "start_time": "2021-06-25T06:10:52.904Z"
   },
   {
    "duration": 23,
    "start_time": "2021-06-25T06:10:53.361Z"
   },
   {
    "duration": 7,
    "start_time": "2021-06-25T06:10:53.388Z"
   },
   {
    "duration": 246,
    "start_time": "2021-06-25T06:10:53.398Z"
   },
   {
    "duration": 5,
    "start_time": "2021-06-25T06:10:53.647Z"
   },
   {
    "duration": 532,
    "start_time": "2021-06-25T06:10:53.654Z"
   },
   {
    "duration": 94,
    "start_time": "2021-06-25T06:10:54.190Z"
   },
   {
    "duration": 12,
    "start_time": "2021-06-25T06:10:54.287Z"
   },
   {
    "duration": 15,
    "start_time": "2021-06-25T06:10:54.301Z"
   },
   {
    "duration": 15229,
    "start_time": "2021-06-25T06:10:54.318Z"
   },
   {
    "duration": 4,
    "start_time": "2021-06-25T06:23:02.722Z"
   },
   {
    "duration": 470,
    "start_time": "2021-06-25T06:23:02.728Z"
   },
   {
    "duration": 12,
    "start_time": "2021-06-25T06:23:03.201Z"
   },
   {
    "duration": 24,
    "start_time": "2021-06-25T06:23:03.216Z"
   },
   {
    "duration": 205,
    "start_time": "2021-06-25T06:23:03.243Z"
   },
   {
    "duration": 4,
    "start_time": "2021-06-25T06:23:03.450Z"
   },
   {
    "duration": 531,
    "start_time": "2021-06-25T06:23:03.457Z"
   },
   {
    "duration": 93,
    "start_time": "2021-06-25T06:23:03.992Z"
   },
   {
    "duration": 6,
    "start_time": "2021-06-25T06:23:04.089Z"
   },
   {
    "duration": 8,
    "start_time": "2021-06-25T06:23:04.098Z"
   },
   {
    "duration": 14840,
    "start_time": "2021-06-25T06:23:04.108Z"
   },
   {
    "duration": 4,
    "start_time": "2021-06-25T06:24:12.659Z"
   },
   {
    "duration": 461,
    "start_time": "2021-06-25T06:24:12.669Z"
   },
   {
    "duration": 11,
    "start_time": "2021-06-25T06:24:13.133Z"
   },
   {
    "duration": 9,
    "start_time": "2021-06-25T06:24:13.147Z"
   },
   {
    "duration": 233,
    "start_time": "2021-06-25T06:24:13.158Z"
   },
   {
    "duration": 4,
    "start_time": "2021-06-25T06:24:13.393Z"
   },
   {
    "duration": 487,
    "start_time": "2021-06-25T06:24:13.400Z"
   },
   {
    "duration": 93,
    "start_time": "2021-06-25T06:24:13.890Z"
   },
   {
    "duration": 11,
    "start_time": "2021-06-25T06:24:13.986Z"
   },
   {
    "duration": 7,
    "start_time": "2021-06-25T06:24:14.000Z"
   },
   {
    "duration": 5049,
    "start_time": "2021-06-25T06:24:14.009Z"
   },
   {
    "duration": 4,
    "start_time": "2021-06-25T06:26:44.136Z"
   },
   {
    "duration": 443,
    "start_time": "2021-06-25T06:26:44.144Z"
   },
   {
    "duration": 13,
    "start_time": "2021-06-25T06:26:44.590Z"
   },
   {
    "duration": 12,
    "start_time": "2021-06-25T06:26:44.606Z"
   },
   {
    "duration": 226,
    "start_time": "2021-06-25T06:26:44.620Z"
   },
   {
    "duration": 5,
    "start_time": "2021-06-25T06:26:44.849Z"
   },
   {
    "duration": 530,
    "start_time": "2021-06-25T06:26:44.856Z"
   },
   {
    "duration": 94,
    "start_time": "2021-06-25T06:26:45.390Z"
   },
   {
    "duration": 11,
    "start_time": "2021-06-25T06:26:45.488Z"
   },
   {
    "duration": 12,
    "start_time": "2021-06-25T06:26:45.501Z"
   },
   {
    "duration": 12770,
    "start_time": "2021-06-25T06:26:45.516Z"
   },
   {
    "duration": 5,
    "start_time": "2021-06-25T06:27:02.962Z"
   },
   {
    "duration": 452,
    "start_time": "2021-06-25T06:27:02.970Z"
   },
   {
    "duration": 13,
    "start_time": "2021-06-25T06:27:03.425Z"
   },
   {
    "duration": 9,
    "start_time": "2021-06-25T06:27:03.441Z"
   },
   {
    "duration": 222,
    "start_time": "2021-06-25T06:27:03.453Z"
   },
   {
    "duration": 8,
    "start_time": "2021-06-25T06:27:03.677Z"
   },
   {
    "duration": 495,
    "start_time": "2021-06-25T06:27:03.688Z"
   },
   {
    "duration": 96,
    "start_time": "2021-06-25T06:27:04.188Z"
   },
   {
    "duration": 4,
    "start_time": "2021-06-25T06:27:04.287Z"
   },
   {
    "duration": 8,
    "start_time": "2021-06-25T06:27:04.294Z"
   },
   {
    "duration": 1326,
    "start_time": "2021-06-25T06:27:48.730Z"
   },
   {
    "duration": 441,
    "start_time": "2021-06-25T06:27:50.059Z"
   },
   {
    "duration": 23,
    "start_time": "2021-06-25T06:27:50.503Z"
   },
   {
    "duration": 4,
    "start_time": "2021-06-25T06:27:50.529Z"
   },
   {
    "duration": 236,
    "start_time": "2021-06-25T06:27:50.535Z"
   },
   {
    "duration": 4,
    "start_time": "2021-06-25T06:27:50.782Z"
   },
   {
    "duration": 494,
    "start_time": "2021-06-25T06:27:50.789Z"
   },
   {
    "duration": 95,
    "start_time": "2021-06-25T06:27:51.289Z"
   },
   {
    "duration": 9,
    "start_time": "2021-06-25T06:27:51.386Z"
   },
   {
    "duration": 6,
    "start_time": "2021-06-25T06:27:51.397Z"
   },
   {
    "duration": 52882,
    "start_time": "2021-06-25T06:27:51.406Z"
   },
   {
    "duration": 4,
    "start_time": "2021-06-25T06:31:00.897Z"
   },
   {
    "duration": 482,
    "start_time": "2021-06-25T06:31:00.904Z"
   },
   {
    "duration": 14,
    "start_time": "2021-06-25T06:31:01.389Z"
   },
   {
    "duration": 16,
    "start_time": "2021-06-25T06:31:01.407Z"
   },
   {
    "duration": 300,
    "start_time": "2021-06-25T06:31:01.425Z"
   },
   {
    "duration": 5,
    "start_time": "2021-06-25T06:31:01.728Z"
   },
   {
    "duration": 552,
    "start_time": "2021-06-25T06:31:01.735Z"
   },
   {
    "duration": 93,
    "start_time": "2021-06-25T06:31:02.291Z"
   },
   {
    "duration": 26,
    "start_time": "2021-06-25T06:31:02.387Z"
   },
   {
    "duration": 24,
    "start_time": "2021-06-25T06:31:02.415Z"
   },
   {
    "duration": 17417,
    "start_time": "2021-06-25T06:31:02.441Z"
   },
   {
    "duration": 6075,
    "start_time": "2021-06-25T06:31:37.547Z"
   },
   {
    "duration": 124,
    "start_time": "2021-06-25T06:32:02.263Z"
   },
   {
    "duration": 6658,
    "start_time": "2021-06-25T06:32:20.866Z"
   },
   {
    "duration": 11697,
    "start_time": "2021-06-25T06:32:31.964Z"
   },
   {
    "duration": 4,
    "start_time": "2021-06-25T06:33:53.078Z"
   },
   {
    "duration": 470,
    "start_time": "2021-06-25T06:33:53.085Z"
   },
   {
    "duration": 12,
    "start_time": "2021-06-25T06:33:53.559Z"
   },
   {
    "duration": 16,
    "start_time": "2021-06-25T06:33:53.574Z"
   },
   {
    "duration": 218,
    "start_time": "2021-06-25T06:33:53.592Z"
   },
   {
    "duration": 4,
    "start_time": "2021-06-25T06:33:53.812Z"
   },
   {
    "duration": 566,
    "start_time": "2021-06-25T06:33:53.818Z"
   },
   {
    "duration": 4,
    "start_time": "2021-06-25T06:33:54.387Z"
   },
   {
    "duration": 19,
    "start_time": "2021-06-25T06:33:54.394Z"
   },
   {
    "duration": 16,
    "start_time": "2021-06-25T06:33:54.416Z"
   },
   {
    "duration": 14451,
    "start_time": "2021-06-25T06:33:54.435Z"
   },
   {
    "duration": 4,
    "start_time": "2021-06-25T06:34:09.323Z"
   },
   {
    "duration": 445,
    "start_time": "2021-06-25T06:34:09.330Z"
   },
   {
    "duration": 11,
    "start_time": "2021-06-25T06:34:09.778Z"
   },
   {
    "duration": 8,
    "start_time": "2021-06-25T06:34:09.792Z"
   },
   {
    "duration": 211,
    "start_time": "2021-06-25T06:34:09.802Z"
   },
   {
    "duration": 4,
    "start_time": "2021-06-25T06:34:10.016Z"
   },
   {
    "duration": 464,
    "start_time": "2021-06-25T06:34:10.022Z"
   },
   {
    "duration": 94,
    "start_time": "2021-06-25T06:34:10.489Z"
   },
   {
    "duration": 7,
    "start_time": "2021-06-25T06:34:10.587Z"
   },
   {
    "duration": 7,
    "start_time": "2021-06-25T06:34:10.596Z"
   },
   {
    "duration": 5618,
    "start_time": "2021-06-25T06:34:10.605Z"
   },
   {
    "duration": 4,
    "start_time": "2021-06-25T06:34:40.874Z"
   },
   {
    "duration": 467,
    "start_time": "2021-06-25T06:34:40.881Z"
   },
   {
    "duration": 14,
    "start_time": "2021-06-25T06:34:41.352Z"
   },
   {
    "duration": 17,
    "start_time": "2021-06-25T06:34:41.369Z"
   },
   {
    "duration": 214,
    "start_time": "2021-06-25T06:34:41.389Z"
   },
   {
    "duration": 3,
    "start_time": "2021-06-25T06:34:41.606Z"
   },
   {
    "duration": 478,
    "start_time": "2021-06-25T06:34:41.612Z"
   },
   {
    "duration": 91,
    "start_time": "2021-06-25T06:34:42.093Z"
   },
   {
    "duration": 8,
    "start_time": "2021-06-25T06:34:42.187Z"
   },
   {
    "duration": 9,
    "start_time": "2021-06-25T06:34:42.198Z"
   },
   {
    "duration": 15216,
    "start_time": "2021-06-25T06:34:42.209Z"
   },
   {
    "duration": 4,
    "start_time": "2021-06-25T06:38:17.206Z"
   },
   {
    "duration": 437,
    "start_time": "2021-06-25T06:38:17.213Z"
   },
   {
    "duration": 17,
    "start_time": "2021-06-25T06:38:17.654Z"
   },
   {
    "duration": 16,
    "start_time": "2021-06-25T06:38:17.673Z"
   },
   {
    "duration": 208,
    "start_time": "2021-06-25T06:38:17.691Z"
   },
   {
    "duration": 5,
    "start_time": "2021-06-25T06:38:17.902Z"
   },
   {
    "duration": 575,
    "start_time": "2021-06-25T06:38:17.909Z"
   },
   {
    "duration": 4,
    "start_time": "2021-06-25T06:38:18.487Z"
   },
   {
    "duration": 8,
    "start_time": "2021-06-25T06:38:18.494Z"
   },
   {
    "duration": 7,
    "start_time": "2021-06-25T06:38:18.505Z"
   },
   {
    "duration": 15575,
    "start_time": "2021-06-25T06:38:18.514Z"
   },
   {
    "duration": 6,
    "start_time": "2021-06-25T06:51:55.797Z"
   },
   {
    "duration": 453,
    "start_time": "2021-06-25T06:51:55.806Z"
   },
   {
    "duration": 23,
    "start_time": "2021-06-25T06:51:56.263Z"
   },
   {
    "duration": 15,
    "start_time": "2021-06-25T06:51:56.289Z"
   },
   {
    "duration": 235,
    "start_time": "2021-06-25T06:51:56.307Z"
   },
   {
    "duration": 4,
    "start_time": "2021-06-25T06:51:56.544Z"
   },
   {
    "duration": 538,
    "start_time": "2021-06-25T06:51:56.551Z"
   },
   {
    "duration": 83,
    "start_time": "2021-06-25T06:51:57.104Z"
   },
   {
    "duration": 7,
    "start_time": "2021-06-25T06:51:57.193Z"
   },
   {
    "duration": 6,
    "start_time": "2021-06-25T06:51:57.203Z"
   },
   {
    "duration": 15552,
    "start_time": "2021-06-25T06:51:57.212Z"
   }
  ],
  "kernelspec": {
   "display_name": "Python 3",
   "language": "python",
   "name": "python3"
  },
  "language_info": {
   "codemirror_mode": {
    "name": "ipython",
    "version": 3
   },
   "file_extension": ".py",
   "mimetype": "text/x-python",
   "name": "python",
   "nbconvert_exporter": "python",
   "pygments_lexer": "ipython3",
   "version": "3.7.8"
  },
  "toc": {
   "base_numbering": 1,
   "nav_menu": {},
   "number_sections": true,
   "sideBar": true,
   "skip_h1_title": true,
   "title_cell": "Table of Contents",
   "title_sidebar": "Contents",
   "toc_cell": false,
   "toc_position": {
    "height": "calc(100% - 180px)",
    "left": "10px",
    "top": "150px",
    "width": "189.391px"
   },
   "toc_section_display": true,
   "toc_window_display": false
  }
 },
 "nbformat": 4,
 "nbformat_minor": 2
}
