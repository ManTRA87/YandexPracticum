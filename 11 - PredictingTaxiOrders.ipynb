{
 "cells": [
  {
   "cell_type": "markdown",
   "metadata": {},
   "source": [
    "Привет, меня зовут Артем Хуршудов. Сегодня я проверю твой проект.\n",
    "<br> Дальнейшее общение будет происходить на \"ты\" если это не вызывает никаких проблем.\n",
    "<br> Желательно реагировать на каждый мой комментарий ('исправил', 'не понятно как исправить ошибку', ...)\n",
    "<br> Пожалуйста, не удаляй комментарии ревьюера, так как они повышают качество повторного ревью.\n",
    "\n",
    "Комментарии будут в <font color='green'>зеленой</font>, <font color='blue'>синей</font> или <font color='red'>красной</font> рамках:\n",
    "\n",
    "<div class=\"alert alert-block alert-success\">\n",
    "<b>Успех:</b> Если все сделано отлично\n",
    "</div>\n",
    "\n",
    "<div class=\"alert alert-block alert-info\">\n",
    "<b>Совет: </b> Если можно немного улучшить\n",
    "</div>\n",
    "\n",
    "<div class=\"alert alert-block alert-danger\">\n",
    "<b>Ошибка:</b> Если требуются исправления. Работа не может быть принята с красными комментариями.\n",
    "</div>\n",
    "\n",
    "-------------------\n",
    "\n",
    "Будет очень хорошо, если ты будешь помечать свои действия следующим образом:\n",
    "<div class=\"alert alert-block alert-warning\">\n",
    "<b>Комментарий студента:</b> ...\n",
    "</div>\n",
    "\n",
    "<div class=\"alert alert-block alert-warning\">\n",
    "<b>Изменения:</b> Были внесены следующие изменения ...\n",
    "</div>\n",
    "\n",
    "#### <font color='orange'>Полезные ссылки:</font>\n",
    "* Полезная лекция про временные ряды: https://www.youtube.com/watch?v=u433nrxdf5k .\n",
    "\n",
    "### <font color='orange'>Общее впечатление</font>\n",
    "* Большое спасибо за проделанную работу. Видно, что приложено много усилий.\n",
    "* Отлично, что ноутбук хорошо структурирован. Приятно проверять такие работы.\n",
    "* Над этим проектом нужно будет еще немного поработать. Однако, изменения не должны занять много времени.\n",
    "* В работе я оставил несколько советов. Буду рад, если ты учтешь их.\n",
    "* С радостью отвечу на твои вопросы, если они есть. Лучше всего их собрать в следующей ячейке. Жду новую версию проекта."
   ]
  },
  {
   "cell_type": "markdown",
   "metadata": {},
   "source": [
    "### <font color='orange'>Общее впечатление (ревью 2)</font>\n",
    "* После исправлений проект улучшился и теперь он может быть зачтен.\n",
    "* Все исправления корректны!\n",
    "* Удачи в дальнейшем обучении и следующих работах!"
   ]
  },
  {
   "cell_type": "markdown",
   "metadata": {
    "toc": true
   },
   "source": [
    "<h1>Содержание<span class=\"tocSkip\"></span></h1>\n",
    "<div class=\"toc\"><ul class=\"toc-item\"><li><ul class=\"toc-item\"><li><ul class=\"toc-item\"><li><span><a href=\"#Полезные-ссылки:\" data-toc-modified-id=\"Полезные-ссылки:-0.0.1\"><span class=\"toc-item-num\">0.0.1&nbsp;&nbsp;</span><font color=\"orange\">Полезные ссылки:</font></a></span></li></ul></li><li><span><a href=\"#Общее-впечатление\" data-toc-modified-id=\"Общее-впечатление-0.1\"><span class=\"toc-item-num\">0.1&nbsp;&nbsp;</span><font color=\"orange\">Общее впечатление</font></a></span></li><li><span><a href=\"#Общее-впечатление-(ревью-2)\" data-toc-modified-id=\"Общее-впечатление-(ревью-2)-0.2\"><span class=\"toc-item-num\">0.2&nbsp;&nbsp;</span><font color=\"orange\">Общее впечатление (ревью 2)</font></a></span></li></ul></li><li><span><a href=\"#Подготовка\" data-toc-modified-id=\"Подготовка-1\"><span class=\"toc-item-num\">1&nbsp;&nbsp;</span>Подготовка</a></span></li><li><span><a href=\"#Анализ\" data-toc-modified-id=\"Анализ-2\"><span class=\"toc-item-num\">2&nbsp;&nbsp;</span>Анализ</a></span></li><li><span><a href=\"#Обучение\" data-toc-modified-id=\"Обучение-3\"><span class=\"toc-item-num\">3&nbsp;&nbsp;</span>Обучение</a></span></li><li><span><a href=\"#Тестирование\" data-toc-modified-id=\"Тестирование-4\"><span class=\"toc-item-num\">4&nbsp;&nbsp;</span>Тестирование</a></span></li><li><span><a href=\"#Вывод\" data-toc-modified-id=\"Вывод-5\"><span class=\"toc-item-num\">5&nbsp;&nbsp;</span>Вывод</a></span></li><li><span><a href=\"#Чек-лист-проверки\" data-toc-modified-id=\"Чек-лист-проверки-6\"><span class=\"toc-item-num\">6&nbsp;&nbsp;</span>Чек-лист проверки</a></span></li></ul></div>"
   ]
  },
  {
   "cell_type": "markdown",
   "metadata": {},
   "source": [
    "#  Прогнозирование заказов такси"
   ]
  },
  {
   "cell_type": "markdown",
   "metadata": {},
   "source": [
    "Компания «Чётенькое такси» собрала исторические данные о заказах такси в аэропортах. Чтобы привлекать больше водителей в период пиковой нагрузки, нужно спрогнозировать количество заказов такси на следующий час. Постройте модель для такого предсказания.\n",
    "\n",
    "Значение метрики *RMSE* на тестовой выборке должно быть не больше 48.\n",
    "\n",
    "Вам нужно:\n",
    "\n",
    "1. Загрузить данные и выполнить их ресемплирование по одному часу.\n",
    "2. Проанализировать данные.\n",
    "3. Обучить разные модели с различными гиперпараметрами. Сделать тестовую выборку размером 10% от исходных данных.\n",
    "4. Проверить данные на тестовой выборке и сделать выводы.\n",
    "\n",
    "\n",
    "Данные лежат в файле `taxi.csv`. Количество заказов находится в столбце `num_orders` (от англ. *number of orders*, «число заказов»)."
   ]
  },
  {
   "cell_type": "markdown",
   "metadata": {},
   "source": [
    "## Подготовка"
   ]
  },
  {
   "cell_type": "code",
   "execution_count": 1,
   "metadata": {},
   "outputs": [],
   "source": [
    "import pandas as pd\n",
    "import numpy as np\n",
    "import matplotlib.pyplot as plt\n",
    "import lightgbm as lgb\n",
    "from sklearn.model_selection import train_test_split, TimeSeriesSplit, GridSearchCV\n",
    "from statsmodels.tsa.seasonal import seasonal_decompose\n",
    "from sklearn.linear_model import LinearRegression\n",
    "from sklearn.tree import DecisionTreeRegressor\n",
    "from sklearn.ensemble import RandomForestRegressor\n",
    "from lightgbm import LGBMRegressor\n",
    "from catboost import Pool, CatBoostRegressor, cv\n",
    "from sklearn.metrics import mean_squared_error\n",
    "from sklearn.preprocessing import StandardScaler\n",
    "import warnings\n",
    "warnings.filterwarnings(\"ignore\")"
   ]
  },
  {
   "cell_type": "markdown",
   "metadata": {},
   "source": [
    "<div class=\"alert alert-block alert-success\">\n",
    "<b>Успех:</b> Отлично, что все импорты собраны в первой ячейке ноутбука! Если у того, кто будет запускать твой ноутбук будут отсутствовать некоторые библиотеки, то он это увидит сразу, а не в процессе!\n",
    "</div>"
   ]
  },
  {
   "cell_type": "code",
   "execution_count": 2,
   "metadata": {},
   "outputs": [],
   "source": [
    "df = pd.read_csv('/datasets/taxi.csv')"
   ]
  },
  {
   "cell_type": "code",
   "execution_count": 3,
   "metadata": {},
   "outputs": [
    {
     "data": {
      "text/html": [
       "<div>\n",
       "<style scoped>\n",
       "    .dataframe tbody tr th:only-of-type {\n",
       "        vertical-align: middle;\n",
       "    }\n",
       "\n",
       "    .dataframe tbody tr th {\n",
       "        vertical-align: top;\n",
       "    }\n",
       "\n",
       "    .dataframe thead th {\n",
       "        text-align: right;\n",
       "    }\n",
       "</style>\n",
       "<table border=\"1\" class=\"dataframe\">\n",
       "  <thead>\n",
       "    <tr style=\"text-align: right;\">\n",
       "      <th></th>\n",
       "      <th>datetime</th>\n",
       "      <th>num_orders</th>\n",
       "    </tr>\n",
       "  </thead>\n",
       "  <tbody>\n",
       "    <tr>\n",
       "      <td>0</td>\n",
       "      <td>2018-03-01 00:00:00</td>\n",
       "      <td>9</td>\n",
       "    </tr>\n",
       "    <tr>\n",
       "      <td>1</td>\n",
       "      <td>2018-03-01 00:10:00</td>\n",
       "      <td>14</td>\n",
       "    </tr>\n",
       "    <tr>\n",
       "      <td>2</td>\n",
       "      <td>2018-03-01 00:20:00</td>\n",
       "      <td>28</td>\n",
       "    </tr>\n",
       "    <tr>\n",
       "      <td>3</td>\n",
       "      <td>2018-03-01 00:30:00</td>\n",
       "      <td>20</td>\n",
       "    </tr>\n",
       "    <tr>\n",
       "      <td>4</td>\n",
       "      <td>2018-03-01 00:40:00</td>\n",
       "      <td>32</td>\n",
       "    </tr>\n",
       "  </tbody>\n",
       "</table>\n",
       "</div>"
      ],
      "text/plain": [
       "              datetime  num_orders\n",
       "0  2018-03-01 00:00:00           9\n",
       "1  2018-03-01 00:10:00          14\n",
       "2  2018-03-01 00:20:00          28\n",
       "3  2018-03-01 00:30:00          20\n",
       "4  2018-03-01 00:40:00          32"
      ]
     },
     "execution_count": 3,
     "metadata": {},
     "output_type": "execute_result"
    }
   ],
   "source": [
    "df.head()"
   ]
  },
  {
   "cell_type": "code",
   "execution_count": 4,
   "metadata": {},
   "outputs": [
    {
     "name": "stdout",
     "output_type": "stream",
     "text": [
      "<class 'pandas.core.frame.DataFrame'>\n",
      "RangeIndex: 26496 entries, 0 to 26495\n",
      "Data columns (total 2 columns):\n",
      "datetime      26496 non-null object\n",
      "num_orders    26496 non-null int64\n",
      "dtypes: int64(1), object(1)\n",
      "memory usage: 414.1+ KB\n"
     ]
    }
   ],
   "source": [
    "df.info()"
   ]
  },
  {
   "cell_type": "markdown",
   "metadata": {},
   "source": [
    "Приведем значения столбца datetime к типу данных datetime64:"
   ]
  },
  {
   "cell_type": "code",
   "execution_count": 5,
   "metadata": {},
   "outputs": [],
   "source": [
    "df['datetime'] = pd.to_datetime(df['datetime'])"
   ]
  },
  {
   "cell_type": "code",
   "execution_count": 6,
   "metadata": {},
   "outputs": [
    {
     "data": {
      "text/plain": [
       "0"
      ]
     },
     "execution_count": 6,
     "metadata": {},
     "output_type": "execute_result"
    }
   ],
   "source": [
    "df.duplicated().sum()"
   ]
  },
  {
   "cell_type": "markdown",
   "metadata": {},
   "source": [
    "<b>Вывод<b>"
   ]
  },
  {
   "cell_type": "markdown",
   "metadata": {},
   "source": [
    "Данные содержат 26496 строк и 2 столбца, пропущенные значения и дубликаты отсутствуют.  "
   ]
  },
  {
   "cell_type": "markdown",
   "metadata": {},
   "source": [
    "<div class=\"alert alert-block alert-success\">\n",
    "<b>Успех:</b> Данные загружены корректно, первичный осмотр проведен.\n",
    "</div>"
   ]
  },
  {
   "cell_type": "markdown",
   "metadata": {},
   "source": [
    "## Анализ"
   ]
  },
  {
   "cell_type": "code",
   "execution_count": 7,
   "metadata": {},
   "outputs": [
    {
     "data": {
      "text/html": [
       "<div>\n",
       "<style scoped>\n",
       "    .dataframe tbody tr th:only-of-type {\n",
       "        vertical-align: middle;\n",
       "    }\n",
       "\n",
       "    .dataframe tbody tr th {\n",
       "        vertical-align: top;\n",
       "    }\n",
       "\n",
       "    .dataframe thead th {\n",
       "        text-align: right;\n",
       "    }\n",
       "</style>\n",
       "<table border=\"1\" class=\"dataframe\">\n",
       "  <thead>\n",
       "    <tr style=\"text-align: right;\">\n",
       "      <th></th>\n",
       "      <th>count</th>\n",
       "      <th>mean</th>\n",
       "      <th>std</th>\n",
       "      <th>min</th>\n",
       "      <th>25%</th>\n",
       "      <th>50%</th>\n",
       "      <th>75%</th>\n",
       "      <th>max</th>\n",
       "    </tr>\n",
       "  </thead>\n",
       "  <tbody>\n",
       "    <tr>\n",
       "      <td>num_orders</td>\n",
       "      <td>26496.0</td>\n",
       "      <td>14.070463</td>\n",
       "      <td>9.21133</td>\n",
       "      <td>0.0</td>\n",
       "      <td>8.0</td>\n",
       "      <td>13.0</td>\n",
       "      <td>19.0</td>\n",
       "      <td>119.0</td>\n",
       "    </tr>\n",
       "  </tbody>\n",
       "</table>\n",
       "</div>"
      ],
      "text/plain": [
       "              count       mean      std  min  25%   50%   75%    max\n",
       "num_orders  26496.0  14.070463  9.21133  0.0  8.0  13.0  19.0  119.0"
      ]
     },
     "execution_count": 7,
     "metadata": {},
     "output_type": "execute_result"
    }
   ],
   "source": [
    "df.describe().T"
   ]
  },
  {
   "cell_type": "markdown",
   "metadata": {},
   "source": [
    "Аномальные значения отсутсвуют."
   ]
  },
  {
   "cell_type": "markdown",
   "metadata": {},
   "source": [
    "Установим индекс таблицы равным столбцу datetime и проверим, в хронологическом ли порядке расположены даты и время:"
   ]
  },
  {
   "cell_type": "code",
   "execution_count": 8,
   "metadata": {},
   "outputs": [],
   "source": [
    "df = df.set_index('datetime')"
   ]
  },
  {
   "cell_type": "code",
   "execution_count": 9,
   "metadata": {},
   "outputs": [
    {
     "data": {
      "text/plain": [
       "True"
      ]
     },
     "execution_count": 9,
     "metadata": {},
     "output_type": "execute_result"
    }
   ],
   "source": [
    "df.index.is_monotonic"
   ]
  },
  {
   "cell_type": "markdown",
   "metadata": {},
   "source": [
    "Данные представлены в хронологипческом порядке."
   ]
  },
  {
   "cell_type": "markdown",
   "metadata": {},
   "source": [
    "Выполним ресемплирование с подсчетом суммы заказов по одному часу:"
   ]
  },
  {
   "cell_type": "code",
   "execution_count": 10,
   "metadata": {},
   "outputs": [],
   "source": [
    "df = df.resample('1H').sum()"
   ]
  },
  {
   "cell_type": "markdown",
   "metadata": {},
   "source": [
    "<div class=\"alert alert-block alert-success\">\n",
    "<b>Успех:</b> Ресемпилнг был сделан правильно.\n",
    "</div>"
   ]
  },
  {
   "cell_type": "markdown",
   "metadata": {},
   "source": [
    "Разложим временной ряд на тренд и сезонную компоненту:"
   ]
  },
  {
   "cell_type": "code",
   "execution_count": 11,
   "metadata": {},
   "outputs": [],
   "source": [
    "decomposed = seasonal_decompose(df)"
   ]
  },
  {
   "cell_type": "code",
   "execution_count": 12,
   "metadata": {},
   "outputs": [
    {
     "data": {
      "image/png": "[encoded data removed]",
      "text/plain": [
       "<Figure size 720x1080 with 1 Axes>"
      ]
     },
     "metadata": {
      "needs_background": "light"
     },
     "output_type": "display_data"
    }
   ],
   "source": [
    "plt.figure(figsize=(10, 15))\n",
    "plt.subplot(311)\n",
    "decomposed.trend.plot(ax=plt.gca())\n",
    "plt.title('Trend')\n",
    "plt.show()"
   ]
  },
  {
   "cell_type": "markdown",
   "metadata": {},
   "source": [
    "На вышепредставленном графике прослеживается тренд увеличесния количества заказов такси с каждым месяцем и их резкий рост к концу лета."
   ]
  },
  {
   "cell_type": "markdown",
   "metadata": {},
   "source": [
    "Проанализируем сезонность:"
   ]
  },
  {
   "cell_type": "code",
   "execution_count": 13,
   "metadata": {},
   "outputs": [
    {
     "data": {
      "image/png": "[encoded data removed]",
      "text/plain": [
       "<Figure size 720x1080 with 1 Axes>"
      ]
     },
     "metadata": {
      "needs_background": "light"
     },
     "output_type": "display_data"
    }
   ],
   "source": [
    "plt.figure(figsize=(10, 15))\n",
    "plt.subplot(312)\n",
    "decomposed.seasonal['2018-08-01':'2018-08-07'].plot(ax=plt.gca())\n",
    "plt.title('Seasonality')\n",
    "plt.show()"
   ]
  },
  {
   "cell_type": "markdown",
   "metadata": {},
   "source": [
    "Резкое увеличение нагрузки прослеживается к концу каждых суток."
   ]
  },
  {
   "cell_type": "markdown",
   "metadata": {},
   "source": [
    "<div class=\"alert alert-block alert-success\">\n",
    "<b>Успех:</b> Декомпозиция проведена. Отлично, что сезонность была визуализирована на более коротком интервале.\n",
    "</div>"
   ]
  },
  {
   "cell_type": "markdown",
   "metadata": {},
   "source": [
    "Напишем функцию создания дополнительных признаков для прогнозирования: \"календарные признаки\", \"отстающие значения\" и \"скользящее среднее\": "
   ]
  },
  {
   "cell_type": "code",
   "execution_count": 14,
   "metadata": {},
   "outputs": [],
   "source": [
    "def make_features(data, max_lag, rolling_mean_size):\n",
    "    data['year'] = data.index.year\n",
    "    data['month'] = data.index.month\n",
    "    data['day'] = data.index.day\n",
    "    data['dayofweek'] = data.index.dayofweek\n",
    "    \n",
    "    for lag in range(1, max_lag + 1):\n",
    "        data['lag_{}'.format(lag)] = data['num_orders'].shift(lag)\n",
    "\n",
    "    data['rolling_mean'] = data['num_orders'].shift().rolling(rolling_mean_size).mean()"
   ]
  },
  {
   "cell_type": "markdown",
   "metadata": {},
   "source": [
    "\n",
    "<div class=\"alert alert-block alert-info\">\n",
    "<b>Совет: </b> Желательно было написать функцию таким образом, чтобы она возвращала новый датафрейм, а не изменяла глобальную переменную.\n",
    "</div>"
   ]
  },
  {
   "cell_type": "markdown",
   "metadata": {},
   "source": [
    "<b>Вывод</b>"
   ]
  },
  {
   "cell_type": "markdown",
   "metadata": {},
   "source": [
    "Аномальные значения в данных не обнаружены, данные представлены в хронологическом порядке. Наблюдается тренд увеличения количества заказов с марта по август с резким всплеском к концу августа. Что касается посуточного анализа количества заказов, то максимальная нагрузка прослеживается к концу каждых суток.  \n",
    "Для возможности дальнейшего прогнозирования была создана функция, создающая дополнительные признаки: \"календарные признаки\", \"отстающие значения\" и \"скользящее среднее\"."
   ]
  },
  {
   "cell_type": "markdown",
   "metadata": {},
   "source": [
    "## Обучение"
   ]
  },
  {
   "cell_type": "markdown",
   "metadata": {},
   "source": [
    "Создадим дополнительные признаки:"
   ]
  },
  {
   "cell_type": "code",
   "execution_count": 15,
   "metadata": {},
   "outputs": [],
   "source": [
    "make_features(df, 24, 70)"
   ]
  },
  {
   "cell_type": "markdown",
   "metadata": {},
   "source": [
    "Разобъем датасет на обучающую и тестовую выборки в соотношении 5:1 без перемешивания данных."
   ]
  },
  {
   "cell_type": "code",
   "execution_count": 16,
   "metadata": {},
   "outputs": [],
   "source": [
    "train, test = train_test_split(df, shuffle=False, test_size=0.1)"
   ]
  },
  {
   "cell_type": "markdown",
   "metadata": {},
   "source": [
    "<div class=\"alert alert-block alert-success\">\n",
    "<b>Успех:</b> Данные разбиты правильно.\n",
    "</div>"
   ]
  },
  {
   "cell_type": "markdown",
   "metadata": {},
   "source": [
    "Удалим из обучающей выборки пустые значения:"
   ]
  },
  {
   "cell_type": "code",
   "execution_count": 17,
   "metadata": {},
   "outputs": [],
   "source": [
    "train = train.dropna()"
   ]
  },
  {
   "cell_type": "markdown",
   "metadata": {},
   "source": [
    "Выделим целевой признак и признаки:"
   ]
  },
  {
   "cell_type": "code",
   "execution_count": 18,
   "metadata": {},
   "outputs": [],
   "source": [
    "target_train = train['num_orders']\n",
    "features_train = train.drop(['num_orders'] , axis=1)\n",
    "\n",
    "target_test = test['num_orders']\n",
    "features_test = test.drop(['num_orders'] , axis=1)"
   ]
  },
  {
   "cell_type": "code",
   "execution_count": 19,
   "metadata": {},
   "outputs": [],
   "source": [
    "state=np.random.RandomState(12345)"
   ]
  },
  {
   "cell_type": "markdown",
   "metadata": {},
   "source": [
    "<div class=\"alert alert-block alert-info\">Применение TimeSeriesSplit</div>"
   ]
  },
  {
   "cell_type": "code",
   "execution_count": 20,
   "metadata": {},
   "outputs": [],
   "source": [
    "cv = TimeSeriesSplit(n_splits=8)"
   ]
  },
  {
   "cell_type": "code",
   "execution_count": 21,
   "metadata": {},
   "outputs": [],
   "source": [
    "models = [DecisionTreeRegressor(random_state = state), \n",
    "          RandomForestRegressor(random_state = state),\n",
    "          LGBMRegressor(random_state = 12345),\n",
    "          LinearRegression()]"
   ]
  },
  {
   "cell_type": "code",
   "execution_count": 22,
   "metadata": {},
   "outputs": [],
   "source": [
    "param_grid = [{'max_depth': [5, 10, 15]},\n",
    "              \n",
    "              {'max_depth': [5, 10, 15],\n",
    "               'n_estimators': [50, 100, 200]},\n",
    "             \n",
    "              {'max_depth': [5, 10, 15],\n",
    "               'n_estimators': [50, 100, 200],\n",
    "               'learning_rate': [0.05, 0.1, 0.5]},\n",
    "             \n",
    "              {}]"
   ]
  },
  {
   "cell_type": "code",
   "execution_count": 23,
   "metadata": {},
   "outputs": [],
   "source": [
    "results = []\n",
    "best_score = 100000\n",
    "best_model = None\n",
    "for i, model in enumerate(models):\n",
    "    grid_search = GridSearchCV(estimator=model,\n",
    "                          param_grid=param_grid[i],\n",
    "                          cv = cv,\n",
    "                          scoring = 'neg_mean_squared_error')\n",
    "    result = grid_search.fit(features_train, target_train)\n",
    "    cv_results = pd.DataFrame(result.cv_results_)[['mean_test_score']]\n",
    "    cv_results['Model'] = str(model).split('(')[0]\n",
    "    cv_results['RMSE'] = np.sqrt(abs(cv_results['mean_test_score']))\n",
    "    if cv_results['RMSE'].min() < best_score:\n",
    "        best_score = cv_results['RMSE'].min()\n",
    "        best_model = result.best_estimator_\n",
    "    results.append(cv_results)"
   ]
  },
  {
   "cell_type": "code",
   "execution_count": 24,
   "metadata": {},
   "outputs": [
    {
     "data": {
      "text/html": [
       "<div>\n",
       "<style scoped>\n",
       "    .dataframe tbody tr th:only-of-type {\n",
       "        vertical-align: middle;\n",
       "    }\n",
       "\n",
       "    .dataframe tbody tr th {\n",
       "        vertical-align: top;\n",
       "    }\n",
       "\n",
       "    .dataframe thead th {\n",
       "        text-align: right;\n",
       "    }\n",
       "</style>\n",
       "<table border=\"1\" class=\"dataframe\">\n",
       "  <thead>\n",
       "    <tr style=\"text-align: right;\">\n",
       "      <th></th>\n",
       "      <th>mean_test_score</th>\n",
       "      <th>Model</th>\n",
       "      <th>RMSE</th>\n",
       "    </tr>\n",
       "  </thead>\n",
       "  <tbody>\n",
       "    <tr>\n",
       "      <td>0</td>\n",
       "      <td>-644.179934</td>\n",
       "      <td>RandomForestRegressor</td>\n",
       "      <td>25.380700</td>\n",
       "    </tr>\n",
       "    <tr>\n",
       "      <td>1</td>\n",
       "      <td>-645.624917</td>\n",
       "      <td>RandomForestRegressor</td>\n",
       "      <td>25.409150</td>\n",
       "    </tr>\n",
       "    <tr>\n",
       "      <td>2</td>\n",
       "      <td>-652.574458</td>\n",
       "      <td>RandomForestRegressor</td>\n",
       "      <td>25.545537</td>\n",
       "    </tr>\n",
       "    <tr>\n",
       "      <td>3</td>\n",
       "      <td>-655.013111</td>\n",
       "      <td>LGBMRegressor</td>\n",
       "      <td>25.593224</td>\n",
       "    </tr>\n",
       "    <tr>\n",
       "      <td>4</td>\n",
       "      <td>-655.723351</td>\n",
       "      <td>RandomForestRegressor</td>\n",
       "      <td>25.607096</td>\n",
       "    </tr>\n",
       "    <tr>\n",
       "      <td>5</td>\n",
       "      <td>-655.763360</td>\n",
       "      <td>LGBMRegressor</td>\n",
       "      <td>25.607877</td>\n",
       "    </tr>\n",
       "    <tr>\n",
       "      <td>6</td>\n",
       "      <td>-657.128039</td>\n",
       "      <td>LGBMRegressor</td>\n",
       "      <td>25.634509</td>\n",
       "    </tr>\n",
       "    <tr>\n",
       "      <td>7</td>\n",
       "      <td>-658.244881</td>\n",
       "      <td>LGBMRegressor</td>\n",
       "      <td>25.656283</td>\n",
       "    </tr>\n",
       "    <tr>\n",
       "      <td>8</td>\n",
       "      <td>-659.167840</td>\n",
       "      <td>LGBMRegressor</td>\n",
       "      <td>25.674264</td>\n",
       "    </tr>\n",
       "    <tr>\n",
       "      <td>9</td>\n",
       "      <td>-659.544960</td>\n",
       "      <td>RandomForestRegressor</td>\n",
       "      <td>25.681607</td>\n",
       "    </tr>\n",
       "    <tr>\n",
       "      <td>10</td>\n",
       "      <td>-662.189004</td>\n",
       "      <td>LGBMRegressor</td>\n",
       "      <td>25.733033</td>\n",
       "    </tr>\n",
       "    <tr>\n",
       "      <td>11</td>\n",
       "      <td>-662.445282</td>\n",
       "      <td>LGBMRegressor</td>\n",
       "      <td>25.738012</td>\n",
       "    </tr>\n",
       "    <tr>\n",
       "      <td>12</td>\n",
       "      <td>-664.980971</td>\n",
       "      <td>RandomForestRegressor</td>\n",
       "      <td>25.787225</td>\n",
       "    </tr>\n",
       "    <tr>\n",
       "      <td>13</td>\n",
       "      <td>-665.279541</td>\n",
       "      <td>LGBMRegressor</td>\n",
       "      <td>25.793013</td>\n",
       "    </tr>\n",
       "    <tr>\n",
       "      <td>14</td>\n",
       "      <td>-665.984843</td>\n",
       "      <td>LGBMRegressor</td>\n",
       "      <td>25.806682</td>\n",
       "    </tr>\n",
       "    <tr>\n",
       "      <td>15</td>\n",
       "      <td>-666.062904</td>\n",
       "      <td>LGBMRegressor</td>\n",
       "      <td>25.808195</td>\n",
       "    </tr>\n",
       "    <tr>\n",
       "      <td>16</td>\n",
       "      <td>-669.132688</td>\n",
       "      <td>LGBMRegressor</td>\n",
       "      <td>25.867599</td>\n",
       "    </tr>\n",
       "    <tr>\n",
       "      <td>17</td>\n",
       "      <td>-670.267613</td>\n",
       "      <td>LGBMRegressor</td>\n",
       "      <td>25.889527</td>\n",
       "    </tr>\n",
       "    <tr>\n",
       "      <td>18</td>\n",
       "      <td>-672.920411</td>\n",
       "      <td>LGBMRegressor</td>\n",
       "      <td>25.940710</td>\n",
       "    </tr>\n",
       "    <tr>\n",
       "      <td>19</td>\n",
       "      <td>-677.592937</td>\n",
       "      <td>LGBMRegressor</td>\n",
       "      <td>26.030615</td>\n",
       "    </tr>\n",
       "    <tr>\n",
       "      <td>20</td>\n",
       "      <td>-679.228802</td>\n",
       "      <td>LGBMRegressor</td>\n",
       "      <td>26.062018</td>\n",
       "    </tr>\n",
       "    <tr>\n",
       "      <td>21</td>\n",
       "      <td>-689.316645</td>\n",
       "      <td>LGBMRegressor</td>\n",
       "      <td>26.254840</td>\n",
       "    </tr>\n",
       "    <tr>\n",
       "      <td>22</td>\n",
       "      <td>-691.309427</td>\n",
       "      <td>LGBMRegressor</td>\n",
       "      <td>26.292764</td>\n",
       "    </tr>\n",
       "    <tr>\n",
       "      <td>23</td>\n",
       "      <td>-716.132960</td>\n",
       "      <td>LGBMRegressor</td>\n",
       "      <td>26.760661</td>\n",
       "    </tr>\n",
       "    <tr>\n",
       "      <td>24</td>\n",
       "      <td>-728.033133</td>\n",
       "      <td>LinearRegression</td>\n",
       "      <td>26.982089</td>\n",
       "    </tr>\n",
       "    <tr>\n",
       "      <td>25</td>\n",
       "      <td>-751.614979</td>\n",
       "      <td>RandomForestRegressor</td>\n",
       "      <td>27.415597</td>\n",
       "    </tr>\n",
       "    <tr>\n",
       "      <td>26</td>\n",
       "      <td>-752.541553</td>\n",
       "      <td>RandomForestRegressor</td>\n",
       "      <td>27.432491</td>\n",
       "    </tr>\n",
       "    <tr>\n",
       "      <td>27</td>\n",
       "      <td>-759.226552</td>\n",
       "      <td>RandomForestRegressor</td>\n",
       "      <td>27.554066</td>\n",
       "    </tr>\n",
       "    <tr>\n",
       "      <td>28</td>\n",
       "      <td>-773.442159</td>\n",
       "      <td>LGBMRegressor</td>\n",
       "      <td>27.810828</td>\n",
       "    </tr>\n",
       "    <tr>\n",
       "      <td>29</td>\n",
       "      <td>-785.399393</td>\n",
       "      <td>LGBMRegressor</td>\n",
       "      <td>28.024978</td>\n",
       "    </tr>\n",
       "    <tr>\n",
       "      <td>30</td>\n",
       "      <td>-789.804903</td>\n",
       "      <td>LGBMRegressor</td>\n",
       "      <td>28.103468</td>\n",
       "    </tr>\n",
       "    <tr>\n",
       "      <td>31</td>\n",
       "      <td>-796.865749</td>\n",
       "      <td>LGBMRegressor</td>\n",
       "      <td>28.228811</td>\n",
       "    </tr>\n",
       "    <tr>\n",
       "      <td>32</td>\n",
       "      <td>-802.721058</td>\n",
       "      <td>LGBMRegressor</td>\n",
       "      <td>28.332332</td>\n",
       "    </tr>\n",
       "    <tr>\n",
       "      <td>33</td>\n",
       "      <td>-802.733712</td>\n",
       "      <td>LGBMRegressor</td>\n",
       "      <td>28.332556</td>\n",
       "    </tr>\n",
       "    <tr>\n",
       "      <td>34</td>\n",
       "      <td>-811.026326</td>\n",
       "      <td>LGBMRegressor</td>\n",
       "      <td>28.478524</td>\n",
       "    </tr>\n",
       "    <tr>\n",
       "      <td>35</td>\n",
       "      <td>-823.326654</td>\n",
       "      <td>LGBMRegressor</td>\n",
       "      <td>28.693669</td>\n",
       "    </tr>\n",
       "    <tr>\n",
       "      <td>36</td>\n",
       "      <td>-825.103795</td>\n",
       "      <td>LGBMRegressor</td>\n",
       "      <td>28.724620</td>\n",
       "    </tr>\n",
       "    <tr>\n",
       "      <td>37</td>\n",
       "      <td>-918.233984</td>\n",
       "      <td>DecisionTreeRegressor</td>\n",
       "      <td>30.302376</td>\n",
       "    </tr>\n",
       "    <tr>\n",
       "      <td>38</td>\n",
       "      <td>-1123.601984</td>\n",
       "      <td>DecisionTreeRegressor</td>\n",
       "      <td>33.520173</td>\n",
       "    </tr>\n",
       "    <tr>\n",
       "      <td>39</td>\n",
       "      <td>-1308.763203</td>\n",
       "      <td>DecisionTreeRegressor</td>\n",
       "      <td>36.176832</td>\n",
       "    </tr>\n",
       "  </tbody>\n",
       "</table>\n",
       "</div>"
      ],
      "text/plain": [
       "    mean_test_score                  Model       RMSE\n",
       "0       -644.179934  RandomForestRegressor  25.380700\n",
       "1       -645.624917  RandomForestRegressor  25.409150\n",
       "2       -652.574458  RandomForestRegressor  25.545537\n",
       "3       -655.013111          LGBMRegressor  25.593224\n",
       "4       -655.723351  RandomForestRegressor  25.607096\n",
       "5       -655.763360          LGBMRegressor  25.607877\n",
       "6       -657.128039          LGBMRegressor  25.634509\n",
       "7       -658.244881          LGBMRegressor  25.656283\n",
       "8       -659.167840          LGBMRegressor  25.674264\n",
       "9       -659.544960  RandomForestRegressor  25.681607\n",
       "10      -662.189004          LGBMRegressor  25.733033\n",
       "11      -662.445282          LGBMRegressor  25.738012\n",
       "12      -664.980971  RandomForestRegressor  25.787225\n",
       "13      -665.279541          LGBMRegressor  25.793013\n",
       "14      -665.984843          LGBMRegressor  25.806682\n",
       "15      -666.062904          LGBMRegressor  25.808195\n",
       "16      -669.132688          LGBMRegressor  25.867599\n",
       "17      -670.267613          LGBMRegressor  25.889527\n",
       "18      -672.920411          LGBMRegressor  25.940710\n",
       "19      -677.592937          LGBMRegressor  26.030615\n",
       "20      -679.228802          LGBMRegressor  26.062018\n",
       "21      -689.316645          LGBMRegressor  26.254840\n",
       "22      -691.309427          LGBMRegressor  26.292764\n",
       "23      -716.132960          LGBMRegressor  26.760661\n",
       "24      -728.033133       LinearRegression  26.982089\n",
       "25      -751.614979  RandomForestRegressor  27.415597\n",
       "26      -752.541553  RandomForestRegressor  27.432491\n",
       "27      -759.226552  RandomForestRegressor  27.554066\n",
       "28      -773.442159          LGBMRegressor  27.810828\n",
       "29      -785.399393          LGBMRegressor  28.024978\n",
       "30      -789.804903          LGBMRegressor  28.103468\n",
       "31      -796.865749          LGBMRegressor  28.228811\n",
       "32      -802.721058          LGBMRegressor  28.332332\n",
       "33      -802.733712          LGBMRegressor  28.332556\n",
       "34      -811.026326          LGBMRegressor  28.478524\n",
       "35      -823.326654          LGBMRegressor  28.693669\n",
       "36      -825.103795          LGBMRegressor  28.724620\n",
       "37      -918.233984  DecisionTreeRegressor  30.302376\n",
       "38     -1123.601984  DecisionTreeRegressor  33.520173\n",
       "39     -1308.763203  DecisionTreeRegressor  36.176832"
      ]
     },
     "execution_count": 24,
     "metadata": {},
     "output_type": "execute_result"
    }
   ],
   "source": [
    "pd.concat([result for result in results], axis=0).sort_values(by='RMSE', ascending = True).reset_index(drop=True)"
   ]
  },
  {
   "cell_type": "code",
   "execution_count": 25,
   "metadata": {},
   "outputs": [
    {
     "data": {
      "text/plain": [
       "RandomForestRegressor(bootstrap=True, criterion='mse', max_depth=15,\n",
       "                      max_features='auto', max_leaf_nodes=None,\n",
       "                      min_impurity_decrease=0.0, min_impurity_split=None,\n",
       "                      min_samples_leaf=1, min_samples_split=2,\n",
       "                      min_weight_fraction_leaf=0.0, n_estimators=200,\n",
       "                      n_jobs=None, oob_score=False,\n",
       "                      random_state=RandomState(MT19937) at 0x7F237B25A160,\n",
       "                      verbose=0, warm_start=False)"
      ]
     },
     "execution_count": 25,
     "metadata": {},
     "output_type": "execute_result"
    }
   ],
   "source": [
    "best_model"
   ]
  },
  {
   "cell_type": "code",
   "execution_count": 26,
   "metadata": {},
   "outputs": [],
   "source": [
    "predictions_train = best_model.predict(features_train)"
   ]
  },
  {
   "cell_type": "markdown",
   "metadata": {},
   "source": [
    "<b>Модель линейной регрессии</b>"
   ]
  },
  {
   "cell_type": "code",
   "execution_count": 27,
   "metadata": {},
   "outputs": [],
   "source": [
    "#model_lr = LinearRegression()\n",
    "#model_lr.fit(features_train, target_train)\n",
    "#predicted_train = model_lr.predict(features_train)\n",
    "#rmse = mean_squared_error(target_train, predicted_train) ** 0.5\n",
    "\n",
    "#result.append({'Модель': 'LinearRegression',\n",
    " #              'RMSE': rmse})"
   ]
  },
  {
   "cell_type": "markdown",
   "metadata": {},
   "source": [
    "<b>Модель дерева решений</b>"
   ]
  },
  {
   "cell_type": "code",
   "execution_count": 28,
   "metadata": {},
   "outputs": [],
   "source": [
    "#best_model_dr = None\n",
    "#best_rmse = 10000\n",
    "#best_depth = 0\n",
    "#for depth in range(1, 11):\n",
    "    #model_dr = DecisionTreeRegressor(random_state=12345, max_depth=depth)\n",
    "    #model_dr.fit(features_train, target_train)\n",
    " #   grid_search = GridSearchCV(estimator=DecisionTreeRegressor,\n",
    "  #                        param_grid={'max_depth': [5, 10, 15]},\n",
    "   #                       cv = cv,\n",
    "    #                      scoring = 'neg_mean_squared_error')\n",
    "    #predictions_train_dr = grid_search.predict(features_train)\n",
    "    #rmse = mean_squared_error(target_train, predictions_train_dr) ** 0.5\n",
    "    #if rmse < best_rmse:\n",
    "     #   best_model_dr = model_dr\n",
    "      #  best_rmse = rmse\n",
    "       # best_depth = depth\n",
    "        \n",
    "#result.append({'Модель': 'DecisionTreeRegressor',\n",
    " #                        'Параметры': {'best_depth': depth},\n",
    "  #             'RMSE': rmse})"
   ]
  },
  {
   "cell_type": "markdown",
   "metadata": {},
   "source": [
    "<div class=\"alert alert-block alert-danger\">\n",
    "<b>Ошибка:</b> Подбирать параметры на треине нельзя, так как это ведет к переобучению. Лучшее решение – исопльзовать кросс-валидацию. При работе с временными рядами нельзя использовать стандартную кросс-валидацию, так как в определенный момент тренировочная выборка окажется позже валидационной. Для решения этой проблемы стоит использовать <a href=\"https://scikit-learn.org/stable/modules/generated/sklearn.model_selection.TimeSeriesSplit.html\">TimeSeriesSplit</a>. Объект этого типа можно передать в параметр cv в метод основанный на кросс-валидации.\n",
    "</div>"
   ]
  },
  {
   "cell_type": "markdown",
   "metadata": {},
   "source": [
    "<b>Вывод</b>"
   ]
  },
  {
   "cell_type": "markdown",
   "metadata": {},
   "source": [
    "Лучший результат показала модель RandomForestRegressor, проверим ее на тестовой выборке."
   ]
  },
  {
   "cell_type": "markdown",
   "metadata": {},
   "source": [
    "<div class=\"alert alert-block alert-success\">\n",
    "<b>Успех:</b> Радует, что ты попробовала разные модели!\n",
    "</div>"
   ]
  },
  {
   "cell_type": "markdown",
   "metadata": {},
   "source": [
    "## Тестирование"
   ]
  },
  {
   "cell_type": "code",
   "execution_count": 29,
   "metadata": {},
   "outputs": [
    {
     "name": "stdout",
     "output_type": "stream",
     "text": [
      "RMSE на тестовой выборке:  42.44232311396745\n"
     ]
    }
   ],
   "source": [
    "predictions = best_model.predict(features_test)\n",
    "print('RMSE на тестовой выборке: ', np.sqrt(mean_squared_error(target_test, predictions)))"
   ]
  },
  {
   "cell_type": "markdown",
   "metadata": {},
   "source": [
    "<div class=\"alert alert-block alert-danger\">\n",
    "<b>Ошибка:</b> При тестирвовании катбуста допущена опечатка.\n",
    "</div>\n",
    "\n",
    "<div class=\"alert alert-block alert-info\">\n",
    "<b>Совет: </b> Можно было визуализировать предсказания и настоящие значения на одном графике.\n",
    "</div>"
   ]
  },
  {
   "cell_type": "code",
   "execution_count": 30,
   "metadata": {},
   "outputs": [
    {
     "data": {
      "image/png": "[encoded data removed]",
      "text/plain": [
       "<Figure size 1080x360 with 1 Axes>"
      ]
     },
     "metadata": {
      "needs_background": "light"
     },
     "output_type": "display_data"
    }
   ],
   "source": [
    "plt.figure(figsize=(15, 5))\n",
    "plt.plot(features_train.index, target_train, label='Actual values')\n",
    "plt.plot(features_train.index, predictions_train, label='Predictions')\n",
    "plt.legend()\n",
    "plt.show()"
   ]
  },
  {
   "cell_type": "markdown",
   "metadata": {},
   "source": [
    "## Вывод"
   ]
  },
  {
   "cell_type": "markdown",
   "metadata": {},
   "source": [
    "С помощью анализа данных удалось установить тренд ежемесячного увелимчения колиства заказов с максимальным всплеском во второй половине августа. Также была выделена сезонность: наибольшое количество заказов приходится на конец суток.  \n",
    "Для более качественного прогноза была написана функция создания дополнительных признаков, подобран шаг максимального размера отстования и размер скользящего среднего.  \n",
    "Во время обучения использвалось 4 модели, наилучшее качество показала модель случайного леса, RMSE которой на тестовых данных составило 42,44."
   ]
  },
  {
   "cell_type": "markdown",
   "metadata": {},
   "source": [
    "<div class=\"alert alert-block alert-success\">\n",
    "<b>Успех:</b> Приятно видеть вывод в конце проекта!\n",
    "</div>"
   ]
  },
  {
   "cell_type": "markdown",
   "metadata": {},
   "source": [
    "## Чек-лист проверки"
   ]
  },
  {
   "cell_type": "markdown",
   "metadata": {},
   "source": [
    "- [x]  Jupyter Notebook открыт\n",
    "- [x]  Весь код выполняется без ошибок\n",
    "- [x]  Ячейки с кодом расположены в порядке исполнения\n",
    "- [x]  Данные загружены и подготовлены\n",
    "- [x]  Данные проанализированы\n",
    "- [x]  Модель обучена, гиперпараметры подобраны\n",
    "- [x]  Качество моделей проверено, выводы сделаны\n",
    "- [x]  Значение *RMSE* на тестовой выборке не больше 48"
   ]
  },
  {
   "cell_type": "code",
   "execution_count": null,
   "metadata": {},
   "outputs": [],
   "source": []
  }
 ],
 "metadata": {
  "ExecuteTimeLog": [
   {
    "duration": 1434,
    "start_time": "2021-09-08T09:19:04.372Z"
   },
   {
    "duration": 39,
    "start_time": "2021-09-08T09:19:40.968Z"
   },
   {
    "duration": 13,
    "start_time": "2021-09-08T09:20:05.083Z"
   },
   {
    "duration": 11,
    "start_time": "2021-09-08T09:20:26.762Z"
   },
   {
    "duration": 25,
    "start_time": "2021-09-08T09:21:44.258Z"
   },
   {
    "duration": 24,
    "start_time": "2021-09-08T09:22:28.982Z"
   },
   {
    "duration": 9,
    "start_time": "2021-09-08T09:29:36.617Z"
   },
   {
    "duration": 3,
    "start_time": "2021-09-08T09:33:47.052Z"
   },
   {
    "duration": 6,
    "start_time": "2021-09-08T09:35:01.652Z"
   },
   {
    "duration": 6,
    "start_time": "2021-09-08T09:35:54.708Z"
   },
   {
    "duration": 5,
    "start_time": "2021-09-08T09:36:42.852Z"
   },
   {
    "duration": 1551,
    "start_time": "2021-09-08T09:38:06.751Z"
   },
   {
    "duration": 25635,
    "start_time": "2021-09-08T09:39:54.476Z"
   },
   {
    "duration": -45,
    "start_time": "2021-09-08T09:40:20.160Z"
   },
   {
    "duration": 1894,
    "start_time": "2021-09-08T09:41:15.952Z"
   },
   {
    "duration": 37,
    "start_time": "2021-09-08T09:41:17.849Z"
   },
   {
    "duration": 13,
    "start_time": "2021-09-08T09:41:17.889Z"
   },
   {
    "duration": 18,
    "start_time": "2021-09-08T09:41:17.905Z"
   },
   {
    "duration": 14,
    "start_time": "2021-09-08T09:41:17.927Z"
   },
   {
    "duration": 11,
    "start_time": "2021-09-08T09:41:17.962Z"
   },
   {
    "duration": 25,
    "start_time": "2021-09-08T09:41:17.975Z"
   },
   {
    "duration": 26,
    "start_time": "2021-09-08T09:41:18.004Z"
   },
   {
    "duration": 33,
    "start_time": "2021-09-08T09:41:18.033Z"
   },
   {
    "duration": 12,
    "start_time": "2021-09-08T09:41:18.068Z"
   },
   {
    "duration": 29,
    "start_time": "2021-09-08T09:41:18.082Z"
   },
   {
    "duration": 13,
    "start_time": "2021-09-08T09:41:18.114Z"
   },
   {
    "duration": 4,
    "start_time": "2021-09-08T09:43:01.104Z"
   },
   {
    "duration": 53,
    "start_time": "2021-09-08T09:43:01.111Z"
   },
   {
    "duration": 12,
    "start_time": "2021-09-08T09:43:01.168Z"
   },
   {
    "duration": 25,
    "start_time": "2021-09-08T09:43:01.183Z"
   },
   {
    "duration": 35,
    "start_time": "2021-09-08T09:43:01.211Z"
   },
   {
    "duration": 17,
    "start_time": "2021-09-08T09:43:01.248Z"
   },
   {
    "duration": 35,
    "start_time": "2021-09-08T09:43:01.268Z"
   },
   {
    "duration": 2278,
    "start_time": "2021-09-08T09:43:23.676Z"
   },
   {
    "duration": 38,
    "start_time": "2021-09-08T09:43:25.957Z"
   },
   {
    "duration": 13,
    "start_time": "2021-09-08T09:43:25.999Z"
   },
   {
    "duration": 9,
    "start_time": "2021-09-08T09:43:26.015Z"
   },
   {
    "duration": 35,
    "start_time": "2021-09-08T09:43:26.027Z"
   },
   {
    "duration": 7,
    "start_time": "2021-09-08T09:43:26.065Z"
   },
   {
    "duration": 12,
    "start_time": "2021-09-08T09:43:26.074Z"
   },
   {
    "duration": 21363,
    "start_time": "2021-09-08T09:43:26.089Z"
   },
   {
    "duration": 309,
    "start_time": "2021-09-08T09:43:47.146Z"
   },
   {
    "duration": 306,
    "start_time": "2021-09-08T09:43:47.150Z"
   },
   {
    "duration": 306,
    "start_time": "2021-09-08T09:43:47.152Z"
   },
   {
    "duration": 295,
    "start_time": "2021-09-08T09:43:47.164Z"
   },
   {
    "duration": 5,
    "start_time": "2021-09-08T09:44:37.290Z"
   },
   {
    "duration": 55,
    "start_time": "2021-09-08T09:44:37.313Z"
   },
   {
    "duration": 12,
    "start_time": "2021-09-08T09:44:37.372Z"
   },
   {
    "duration": 15,
    "start_time": "2021-09-08T09:44:37.387Z"
   },
   {
    "duration": 12,
    "start_time": "2021-09-08T09:44:37.404Z"
   },
   {
    "duration": 12,
    "start_time": "2021-09-08T09:44:37.418Z"
   },
   {
    "duration": 13,
    "start_time": "2021-09-08T09:44:37.463Z"
   },
   {
    "duration": 16,
    "start_time": "2021-09-08T09:44:37.480Z"
   },
   {
    "duration": 25,
    "start_time": "2021-09-08T09:44:37.501Z"
   },
   {
    "duration": 4,
    "start_time": "2021-09-08T09:44:37.563Z"
   },
   {
    "duration": 8,
    "start_time": "2021-09-08T09:44:37.570Z"
   },
   {
    "duration": 10,
    "start_time": "2021-09-08T09:44:37.580Z"
   },
   {
    "duration": 1816,
    "start_time": "2021-09-08T09:45:16.752Z"
   },
   {
    "duration": 1416,
    "start_time": "2021-09-08T09:45:31.937Z"
   },
   {
    "duration": 42,
    "start_time": "2021-09-08T09:45:33.355Z"
   },
   {
    "duration": 13,
    "start_time": "2021-09-08T09:45:33.400Z"
   },
   {
    "duration": 29,
    "start_time": "2021-09-08T09:45:33.416Z"
   },
   {
    "duration": 38,
    "start_time": "2021-09-08T09:45:33.447Z"
   },
   {
    "duration": 30,
    "start_time": "2021-09-08T09:45:33.488Z"
   },
   {
    "duration": 26,
    "start_time": "2021-09-08T09:45:33.520Z"
   },
   {
    "duration": 32,
    "start_time": "2021-09-08T09:45:33.549Z"
   },
   {
    "duration": 22,
    "start_time": "2021-09-08T09:45:33.584Z"
   },
   {
    "duration": 24,
    "start_time": "2021-09-08T09:45:33.608Z"
   },
   {
    "duration": 30,
    "start_time": "2021-09-08T09:45:33.634Z"
   },
   {
    "duration": 31,
    "start_time": "2021-09-08T09:45:33.666Z"
   },
   {
    "duration": 1457,
    "start_time": "2021-09-08T09:47:29.257Z"
   },
   {
    "duration": 37,
    "start_time": "2021-09-08T09:47:30.717Z"
   },
   {
    "duration": 33,
    "start_time": "2021-09-08T09:47:30.758Z"
   },
   {
    "duration": 51,
    "start_time": "2021-09-08T09:47:30.794Z"
   },
   {
    "duration": 30,
    "start_time": "2021-09-08T09:47:30.847Z"
   },
   {
    "duration": 29,
    "start_time": "2021-09-08T09:47:30.879Z"
   },
   {
    "duration": 20,
    "start_time": "2021-09-08T09:47:30.910Z"
   },
   {
    "duration": 24,
    "start_time": "2021-09-08T09:47:30.934Z"
   },
   {
    "duration": 16,
    "start_time": "2021-09-08T09:47:30.961Z"
   },
   {
    "duration": 27,
    "start_time": "2021-09-08T09:47:30.979Z"
   },
   {
    "duration": 25,
    "start_time": "2021-09-08T09:47:31.008Z"
   },
   {
    "duration": 26,
    "start_time": "2021-09-08T09:47:31.035Z"
   },
   {
    "duration": 468,
    "start_time": "2021-09-08T09:47:31.063Z"
   },
   {
    "duration": 426,
    "start_time": "2021-09-08T09:47:42.688Z"
   },
   {
    "duration": 1466,
    "start_time": "2021-09-08T09:48:06.538Z"
   },
   {
    "duration": 38,
    "start_time": "2021-09-08T09:48:08.007Z"
   },
   {
    "duration": 18,
    "start_time": "2021-09-08T09:48:08.049Z"
   },
   {
    "duration": 27,
    "start_time": "2021-09-08T09:48:08.070Z"
   },
   {
    "duration": 33,
    "start_time": "2021-09-08T09:48:08.099Z"
   },
   {
    "duration": 21,
    "start_time": "2021-09-08T09:48:08.135Z"
   },
   {
    "duration": 12,
    "start_time": "2021-09-08T09:48:08.159Z"
   },
   {
    "duration": 43,
    "start_time": "2021-09-08T09:48:08.174Z"
   },
   {
    "duration": 7,
    "start_time": "2021-09-08T09:48:08.219Z"
   },
   {
    "duration": 24,
    "start_time": "2021-09-08T09:48:08.228Z"
   },
   {
    "duration": 17,
    "start_time": "2021-09-08T09:48:08.255Z"
   },
   {
    "duration": 26,
    "start_time": "2021-09-08T09:48:08.274Z"
   },
   {
    "duration": 455,
    "start_time": "2021-09-08T09:48:08.302Z"
   },
   {
    "duration": 4,
    "start_time": "2021-09-08T09:48:25.630Z"
   },
   {
    "duration": 41,
    "start_time": "2021-09-08T09:48:25.636Z"
   },
   {
    "duration": 9,
    "start_time": "2021-09-08T09:48:25.680Z"
   },
   {
    "duration": 12,
    "start_time": "2021-09-08T09:48:25.691Z"
   },
   {
    "duration": 10,
    "start_time": "2021-09-08T09:48:25.705Z"
   },
   {
    "duration": 12,
    "start_time": "2021-09-08T09:48:25.717Z"
   },
   {
    "duration": 12,
    "start_time": "2021-09-08T09:48:25.782Z"
   },
   {
    "duration": 24,
    "start_time": "2021-09-08T09:48:25.797Z"
   },
   {
    "duration": 5,
    "start_time": "2021-09-08T09:48:25.824Z"
   },
   {
    "duration": 12,
    "start_time": "2021-09-08T09:48:25.831Z"
   },
   {
    "duration": 17,
    "start_time": "2021-09-08T09:48:25.845Z"
   },
   {
    "duration": 13,
    "start_time": "2021-09-08T09:48:25.865Z"
   },
   {
    "duration": 468,
    "start_time": "2021-09-08T09:48:25.880Z"
   },
   {
    "duration": 349,
    "start_time": "2021-09-08T11:55:03.739Z"
   },
   {
    "duration": 1228,
    "start_time": "2021-09-08T11:55:07.736Z"
   },
   {
    "duration": 34,
    "start_time": "2021-09-08T11:55:08.966Z"
   },
   {
    "duration": 10,
    "start_time": "2021-09-08T11:55:09.003Z"
   },
   {
    "duration": 35,
    "start_time": "2021-09-08T11:55:09.015Z"
   },
   {
    "duration": 12,
    "start_time": "2021-09-08T11:55:09.052Z"
   },
   {
    "duration": 23,
    "start_time": "2021-09-08T11:55:09.066Z"
   },
   {
    "duration": 15,
    "start_time": "2021-09-08T11:55:09.091Z"
   },
   {
    "duration": 17,
    "start_time": "2021-09-08T11:55:09.109Z"
   },
   {
    "duration": 13,
    "start_time": "2021-09-08T11:55:09.128Z"
   },
   {
    "duration": 23,
    "start_time": "2021-09-08T11:55:09.143Z"
   },
   {
    "duration": 19,
    "start_time": "2021-09-08T11:55:09.168Z"
   },
   {
    "duration": 5,
    "start_time": "2021-09-08T11:55:09.189Z"
   },
   {
    "duration": 310,
    "start_time": "2021-09-08T11:55:09.197Z"
   },
   {
    "duration": 8,
    "start_time": "2021-09-08T11:56:12.326Z"
   },
   {
    "duration": 332,
    "start_time": "2021-09-08T11:56:15.635Z"
   },
   {
    "duration": 8,
    "start_time": "2021-09-08T11:57:17.644Z"
   },
   {
    "duration": 330,
    "start_time": "2021-09-08T11:57:18.052Z"
   },
   {
    "duration": 9,
    "start_time": "2021-09-08T11:58:40.984Z"
   },
   {
    "duration": 9,
    "start_time": "2021-09-08T11:58:40.994Z"
   },
   {
    "duration": 528,
    "start_time": "2021-09-08T11:58:41.005Z"
   },
   {
    "duration": 14,
    "start_time": "2021-09-08T12:00:01.543Z"
   },
   {
    "duration": 5,
    "start_time": "2021-09-08T12:00:02.265Z"
   },
   {
    "duration": 467,
    "start_time": "2021-09-08T12:00:02.629Z"
   },
   {
    "duration": 5,
    "start_time": "2021-09-08T12:02:24.509Z"
   },
   {
    "duration": 465,
    "start_time": "2021-09-08T12:02:24.924Z"
   },
   {
    "duration": 3,
    "start_time": "2021-09-08T12:02:32.026Z"
   },
   {
    "duration": 41,
    "start_time": "2021-09-08T12:02:32.031Z"
   },
   {
    "duration": 8,
    "start_time": "2021-09-08T12:02:32.074Z"
   },
   {
    "duration": 24,
    "start_time": "2021-09-08T12:02:32.084Z"
   },
   {
    "duration": 22,
    "start_time": "2021-09-08T12:02:32.111Z"
   },
   {
    "duration": 22,
    "start_time": "2021-09-08T12:02:32.135Z"
   },
   {
    "duration": 9,
    "start_time": "2021-09-08T12:02:32.159Z"
   },
   {
    "duration": 21,
    "start_time": "2021-09-08T12:02:32.170Z"
   },
   {
    "duration": 5,
    "start_time": "2021-09-08T12:02:32.193Z"
   },
   {
    "duration": 12,
    "start_time": "2021-09-08T12:02:32.200Z"
   },
   {
    "duration": 12,
    "start_time": "2021-09-08T12:02:32.214Z"
   },
   {
    "duration": 23,
    "start_time": "2021-09-08T12:02:32.228Z"
   },
   {
    "duration": 347,
    "start_time": "2021-09-08T12:02:32.256Z"
   },
   {
    "duration": 77,
    "start_time": "2021-09-08T12:04:48.430Z"
   },
   {
    "duration": 471,
    "start_time": "2021-09-08T12:12:38.151Z"
   },
   {
    "duration": 1205,
    "start_time": "2021-09-08T12:14:16.091Z"
   },
   {
    "duration": 35,
    "start_time": "2021-09-08T12:14:17.299Z"
   },
   {
    "duration": 20,
    "start_time": "2021-09-08T12:14:17.336Z"
   },
   {
    "duration": 6,
    "start_time": "2021-09-08T12:14:17.359Z"
   },
   {
    "duration": 12,
    "start_time": "2021-09-08T12:14:17.367Z"
   },
   {
    "duration": 25,
    "start_time": "2021-09-08T12:14:17.381Z"
   },
   {
    "duration": 28,
    "start_time": "2021-09-08T12:14:17.408Z"
   },
   {
    "duration": 24,
    "start_time": "2021-09-08T12:14:17.438Z"
   },
   {
    "duration": 5,
    "start_time": "2021-09-08T12:14:17.466Z"
   },
   {
    "duration": 12,
    "start_time": "2021-09-08T12:14:17.473Z"
   },
   {
    "duration": 16,
    "start_time": "2021-09-08T12:14:17.487Z"
   },
   {
    "duration": 7,
    "start_time": "2021-09-08T12:14:17.505Z"
   },
   {
    "duration": 374,
    "start_time": "2021-09-08T12:14:17.513Z"
   },
   {
    "duration": 383,
    "start_time": "2021-09-08T12:14:17.889Z"
   },
   {
    "duration": 363,
    "start_time": "2021-09-08T12:14:17.912Z"
   },
   {
    "duration": 3,
    "start_time": "2021-09-08T12:17:44.596Z"
   },
   {
    "duration": 37,
    "start_time": "2021-09-08T12:17:44.601Z"
   },
   {
    "duration": 11,
    "start_time": "2021-09-08T12:17:44.641Z"
   },
   {
    "duration": 9,
    "start_time": "2021-09-08T12:17:44.658Z"
   },
   {
    "duration": 12,
    "start_time": "2021-09-08T12:17:44.668Z"
   },
   {
    "duration": 10,
    "start_time": "2021-09-08T12:17:44.682Z"
   },
   {
    "duration": 10,
    "start_time": "2021-09-08T12:17:44.694Z"
   },
   {
    "duration": 47,
    "start_time": "2021-09-08T12:17:44.707Z"
   },
   {
    "duration": 10,
    "start_time": "2021-09-08T12:17:44.757Z"
   },
   {
    "duration": 21,
    "start_time": "2021-09-08T12:17:44.769Z"
   },
   {
    "duration": 16,
    "start_time": "2021-09-08T12:17:44.791Z"
   },
   {
    "duration": 7,
    "start_time": "2021-09-08T12:17:44.809Z"
   },
   {
    "duration": 352,
    "start_time": "2021-09-08T12:17:44.818Z"
   },
   {
    "duration": 6,
    "start_time": "2021-09-08T12:17:45.172Z"
   },
   {
    "duration": 1215,
    "start_time": "2021-09-08T12:17:45.179Z"
   },
   {
    "duration": 1713,
    "start_time": "2021-09-08T12:19:19.211Z"
   },
   {
    "duration": 1084,
    "start_time": "2021-09-08T12:20:18.573Z"
   },
   {
    "duration": 849,
    "start_time": "2021-09-08T12:22:52.303Z"
   },
   {
    "duration": 839,
    "start_time": "2021-09-08T12:23:13.647Z"
   },
   {
    "duration": 449,
    "start_time": "2021-09-08T12:23:21.675Z"
   },
   {
    "duration": 327,
    "start_time": "2021-09-08T12:23:27.131Z"
   },
   {
    "duration": 349,
    "start_time": "2021-09-08T12:23:35.160Z"
   },
   {
    "duration": 501,
    "start_time": "2021-09-08T12:23:43.291Z"
   },
   {
    "duration": 360,
    "start_time": "2021-09-08T12:27:08.847Z"
   },
   {
    "duration": 309,
    "start_time": "2021-09-08T12:28:13.032Z"
   },
   {
    "duration": 308,
    "start_time": "2021-09-08T12:28:49.390Z"
   },
   {
    "duration": 220,
    "start_time": "2021-09-08T12:29:45.840Z"
   },
   {
    "duration": 312,
    "start_time": "2021-09-08T12:30:46.702Z"
   },
   {
    "duration": 314,
    "start_time": "2021-09-08T12:30:56.915Z"
   },
   {
    "duration": 329,
    "start_time": "2021-09-08T12:31:18.680Z"
   },
   {
    "duration": 329,
    "start_time": "2021-09-08T12:31:45.371Z"
   },
   {
    "duration": 1146,
    "start_time": "2021-09-09T07:03:25.288Z"
   },
   {
    "duration": 33,
    "start_time": "2021-09-09T07:03:26.436Z"
   },
   {
    "duration": 11,
    "start_time": "2021-09-09T07:03:26.471Z"
   },
   {
    "duration": 10,
    "start_time": "2021-09-09T07:03:26.484Z"
   },
   {
    "duration": 8,
    "start_time": "2021-09-09T07:03:26.496Z"
   },
   {
    "duration": 9,
    "start_time": "2021-09-09T07:03:26.506Z"
   },
   {
    "duration": 10,
    "start_time": "2021-09-09T07:03:26.516Z"
   },
   {
    "duration": 17,
    "start_time": "2021-09-09T07:03:26.528Z"
   },
   {
    "duration": 3,
    "start_time": "2021-09-09T07:03:26.548Z"
   },
   {
    "duration": 39,
    "start_time": "2021-09-09T07:03:26.553Z"
   },
   {
    "duration": 9,
    "start_time": "2021-09-09T07:03:26.594Z"
   },
   {
    "duration": 6,
    "start_time": "2021-09-09T07:03:26.605Z"
   },
   {
    "duration": 12,
    "start_time": "2021-09-09T07:03:26.612Z"
   },
   {
    "duration": 351,
    "start_time": "2021-09-09T07:03:26.626Z"
   },
   {
    "duration": 263,
    "start_time": "2021-09-09T07:03:26.979Z"
   },
   {
    "duration": 6,
    "start_time": "2021-09-09T07:09:39.654Z"
   },
   {
    "duration": 269,
    "start_time": "2021-09-09T07:11:05.242Z"
   },
   {
    "duration": 6084,
    "start_time": "2021-09-09T07:12:23.222Z"
   },
   {
    "duration": 405,
    "start_time": "2021-09-09T07:12:28.903Z"
   },
   {
    "duration": 4,
    "start_time": "2021-09-09T07:13:14.544Z"
   },
   {
    "duration": 38,
    "start_time": "2021-09-09T07:13:14.551Z"
   },
   {
    "duration": 8,
    "start_time": "2021-09-09T07:13:14.592Z"
   },
   {
    "duration": 7,
    "start_time": "2021-09-09T07:13:14.602Z"
   },
   {
    "duration": 9,
    "start_time": "2021-09-09T07:13:14.611Z"
   },
   {
    "duration": 10,
    "start_time": "2021-09-09T07:13:14.622Z"
   },
   {
    "duration": 13,
    "start_time": "2021-09-09T07:13:14.634Z"
   },
   {
    "duration": 44,
    "start_time": "2021-09-09T07:13:14.649Z"
   },
   {
    "duration": 4,
    "start_time": "2021-09-09T07:13:14.695Z"
   },
   {
    "duration": 7,
    "start_time": "2021-09-09T07:13:14.701Z"
   },
   {
    "duration": 9,
    "start_time": "2021-09-09T07:13:14.709Z"
   },
   {
    "duration": 5,
    "start_time": "2021-09-09T07:13:14.720Z"
   },
   {
    "duration": 412,
    "start_time": "2021-09-09T07:13:14.726Z"
   },
   {
    "duration": 353,
    "start_time": "2021-09-09T07:13:15.140Z"
   },
   {
    "duration": 6345,
    "start_time": "2021-09-09T07:13:15.495Z"
   },
   {
    "duration": 418,
    "start_time": "2021-09-09T07:13:21.424Z"
   },
   {
    "duration": 7120,
    "start_time": "2021-09-09T07:14:33.423Z"
   },
   {
    "duration": 3,
    "start_time": "2021-09-09T07:14:48.882Z"
   },
   {
    "duration": 36,
    "start_time": "2021-09-09T07:14:48.887Z"
   },
   {
    "duration": 6,
    "start_time": "2021-09-09T07:14:48.924Z"
   },
   {
    "duration": 6,
    "start_time": "2021-09-09T07:14:48.933Z"
   },
   {
    "duration": 7,
    "start_time": "2021-09-09T07:14:48.941Z"
   },
   {
    "duration": 9,
    "start_time": "2021-09-09T07:14:48.949Z"
   },
   {
    "duration": 7,
    "start_time": "2021-09-09T07:14:48.960Z"
   },
   {
    "duration": 31,
    "start_time": "2021-09-09T07:14:48.969Z"
   },
   {
    "duration": 3,
    "start_time": "2021-09-09T07:14:49.003Z"
   },
   {
    "duration": 10,
    "start_time": "2021-09-09T07:14:49.008Z"
   },
   {
    "duration": 12,
    "start_time": "2021-09-09T07:14:49.020Z"
   },
   {
    "duration": 7,
    "start_time": "2021-09-09T07:14:49.034Z"
   },
   {
    "duration": 337,
    "start_time": "2021-09-09T07:14:49.042Z"
   },
   {
    "duration": 285,
    "start_time": "2021-09-09T07:14:49.381Z"
   },
   {
    "duration": 6,
    "start_time": "2021-09-09T07:14:49.667Z"
   },
   {
    "duration": 6544,
    "start_time": "2021-09-09T07:14:49.674Z"
   },
   {
    "duration": 481,
    "start_time": "2021-09-09T07:14:55.740Z"
   },
   {
    "duration": 3,
    "start_time": "2021-09-09T07:15:11.482Z"
   },
   {
    "duration": 38,
    "start_time": "2021-09-09T07:15:11.487Z"
   },
   {
    "duration": 6,
    "start_time": "2021-09-09T07:15:11.527Z"
   },
   {
    "duration": 11,
    "start_time": "2021-09-09T07:15:11.535Z"
   },
   {
    "duration": 10,
    "start_time": "2021-09-09T07:15:11.548Z"
   },
   {
    "duration": 9,
    "start_time": "2021-09-09T07:15:11.560Z"
   },
   {
    "duration": 7,
    "start_time": "2021-09-09T07:15:11.571Z"
   },
   {
    "duration": 23,
    "start_time": "2021-09-09T07:15:11.579Z"
   },
   {
    "duration": 4,
    "start_time": "2021-09-09T07:15:11.604Z"
   },
   {
    "duration": 10,
    "start_time": "2021-09-09T07:15:11.609Z"
   },
   {
    "duration": 12,
    "start_time": "2021-09-09T07:15:11.621Z"
   },
   {
    "duration": 9,
    "start_time": "2021-09-09T07:15:11.634Z"
   },
   {
    "duration": 346,
    "start_time": "2021-09-09T07:15:11.645Z"
   },
   {
    "duration": 266,
    "start_time": "2021-09-09T07:15:11.993Z"
   },
   {
    "duration": 2,
    "start_time": "2021-09-09T07:15:12.261Z"
   },
   {
    "duration": 8,
    "start_time": "2021-09-09T07:15:12.266Z"
   },
   {
    "duration": 285,
    "start_time": "2021-09-09T07:15:12.275Z"
   },
   {
    "duration": 7,
    "start_time": "2021-09-09T07:15:32.021Z"
   },
   {
    "duration": 3,
    "start_time": "2021-09-09T07:41:22.032Z"
   },
   {
    "duration": 34,
    "start_time": "2021-09-09T07:41:22.038Z"
   },
   {
    "duration": 6,
    "start_time": "2021-09-09T07:41:22.074Z"
   },
   {
    "duration": 9,
    "start_time": "2021-09-09T07:41:22.081Z"
   },
   {
    "duration": 7,
    "start_time": "2021-09-09T07:41:22.114Z"
   },
   {
    "duration": 13,
    "start_time": "2021-09-09T07:41:22.123Z"
   },
   {
    "duration": 11,
    "start_time": "2021-09-09T07:41:22.138Z"
   },
   {
    "duration": 22,
    "start_time": "2021-09-09T07:41:22.151Z"
   },
   {
    "duration": 9,
    "start_time": "2021-09-09T07:41:22.175Z"
   },
   {
    "duration": 12,
    "start_time": "2021-09-09T07:41:22.185Z"
   },
   {
    "duration": 11,
    "start_time": "2021-09-09T07:41:22.199Z"
   },
   {
    "duration": 6,
    "start_time": "2021-09-09T07:41:22.212Z"
   },
   {
    "duration": 339,
    "start_time": "2021-09-09T07:41:22.219Z"
   },
   {
    "duration": 333,
    "start_time": "2021-09-09T07:41:22.560Z"
   },
   {
    "duration": 16,
    "start_time": "2021-09-09T07:41:22.895Z"
   },
   {
    "duration": 4,
    "start_time": "2021-09-09T07:41:48.850Z"
   },
   {
    "duration": 7,
    "start_time": "2021-09-09T07:49:50.293Z"
   },
   {
    "duration": 10,
    "start_time": "2021-09-09T07:51:12.002Z"
   },
   {
    "duration": 5,
    "start_time": "2021-09-09T07:52:06.984Z"
   },
   {
    "duration": 15,
    "start_time": "2021-09-09T07:56:11.054Z"
   },
   {
    "duration": 7,
    "start_time": "2021-09-09T07:56:48.377Z"
   },
   {
    "duration": 6,
    "start_time": "2021-09-09T07:57:29.207Z"
   },
   {
    "duration": 10,
    "start_time": "2021-09-09T07:58:51.367Z"
   },
   {
    "duration": 3,
    "start_time": "2021-09-09T07:58:54.483Z"
   },
   {
    "duration": 41,
    "start_time": "2021-09-09T07:58:54.488Z"
   },
   {
    "duration": 8,
    "start_time": "2021-09-09T07:58:54.532Z"
   },
   {
    "duration": 15,
    "start_time": "2021-09-09T07:58:54.542Z"
   },
   {
    "duration": 14,
    "start_time": "2021-09-09T07:58:54.560Z"
   },
   {
    "duration": 17,
    "start_time": "2021-09-09T07:58:54.576Z"
   },
   {
    "duration": 10,
    "start_time": "2021-09-09T07:58:54.595Z"
   },
   {
    "duration": 17,
    "start_time": "2021-09-09T07:58:54.606Z"
   },
   {
    "duration": 3,
    "start_time": "2021-09-09T07:58:54.625Z"
   },
   {
    "duration": 6,
    "start_time": "2021-09-09T07:58:54.630Z"
   },
   {
    "duration": 14,
    "start_time": "2021-09-09T07:58:54.637Z"
   },
   {
    "duration": 10,
    "start_time": "2021-09-09T07:58:54.652Z"
   },
   {
    "duration": 367,
    "start_time": "2021-09-09T07:58:54.664Z"
   },
   {
    "duration": 278,
    "start_time": "2021-09-09T07:58:55.033Z"
   },
   {
    "duration": 4,
    "start_time": "2021-09-09T07:58:55.313Z"
   },
   {
    "duration": 21,
    "start_time": "2021-09-09T07:58:55.318Z"
   },
   {
    "duration": 8,
    "start_time": "2021-09-09T07:58:55.341Z"
   },
   {
    "duration": 16,
    "start_time": "2021-09-09T07:58:55.350Z"
   },
   {
    "duration": 12,
    "start_time": "2021-09-09T07:58:55.369Z"
   },
   {
    "duration": 20,
    "start_time": "2021-09-09T07:58:55.383Z"
   },
   {
    "duration": 3,
    "start_time": "2021-09-09T08:35:39.051Z"
   },
   {
    "duration": 38,
    "start_time": "2021-09-09T08:35:39.056Z"
   },
   {
    "duration": 7,
    "start_time": "2021-09-09T08:35:39.096Z"
   },
   {
    "duration": 9,
    "start_time": "2021-09-09T08:35:39.104Z"
   },
   {
    "duration": 9,
    "start_time": "2021-09-09T08:35:39.115Z"
   },
   {
    "duration": 8,
    "start_time": "2021-09-09T08:35:39.126Z"
   },
   {
    "duration": 11,
    "start_time": "2021-09-09T08:35:39.135Z"
   },
   {
    "duration": 17,
    "start_time": "2021-09-09T08:35:39.148Z"
   },
   {
    "duration": 26,
    "start_time": "2021-09-09T08:35:39.168Z"
   },
   {
    "duration": 6,
    "start_time": "2021-09-09T08:35:39.196Z"
   },
   {
    "duration": 10,
    "start_time": "2021-09-09T08:35:39.204Z"
   },
   {
    "duration": 8,
    "start_time": "2021-09-09T08:35:39.215Z"
   },
   {
    "duration": 369,
    "start_time": "2021-09-09T08:35:39.224Z"
   },
   {
    "duration": 266,
    "start_time": "2021-09-09T08:35:39.595Z"
   },
   {
    "duration": 4,
    "start_time": "2021-09-09T08:35:39.864Z"
   },
   {
    "duration": 29,
    "start_time": "2021-09-09T08:35:39.870Z"
   },
   {
    "duration": 15,
    "start_time": "2021-09-09T08:35:39.900Z"
   },
   {
    "duration": 29,
    "start_time": "2021-09-09T08:35:39.916Z"
   },
   {
    "duration": 8,
    "start_time": "2021-09-09T08:35:39.946Z"
   },
   {
    "duration": 38,
    "start_time": "2021-09-09T08:35:39.956Z"
   },
   {
    "duration": 4,
    "start_time": "2021-09-09T08:37:09.209Z"
   },
   {
    "duration": 83,
    "start_time": "2021-09-09T08:47:06.878Z"
   },
   {
    "duration": 279,
    "start_time": "2021-09-09T08:48:05.499Z"
   },
   {
    "duration": 17,
    "start_time": "2021-09-09T08:48:25.099Z"
   },
   {
    "duration": 113,
    "start_time": "2021-09-09T08:48:30.695Z"
   },
   {
    "duration": 110,
    "start_time": "2021-09-09T08:49:16.308Z"
   },
   {
    "duration": 5,
    "start_time": "2021-09-09T08:49:58.012Z"
   },
   {
    "duration": 38,
    "start_time": "2021-09-09T08:49:58.019Z"
   },
   {
    "duration": 7,
    "start_time": "2021-09-09T08:49:58.059Z"
   },
   {
    "duration": 8,
    "start_time": "2021-09-09T08:49:58.069Z"
   },
   {
    "duration": 11,
    "start_time": "2021-09-09T08:49:58.079Z"
   },
   {
    "duration": 11,
    "start_time": "2021-09-09T08:49:58.092Z"
   },
   {
    "duration": 11,
    "start_time": "2021-09-09T08:49:58.105Z"
   },
   {
    "duration": 15,
    "start_time": "2021-09-09T08:49:58.120Z"
   },
   {
    "duration": 5,
    "start_time": "2021-09-09T08:49:58.138Z"
   },
   {
    "duration": 10,
    "start_time": "2021-09-09T08:49:58.145Z"
   },
   {
    "duration": 41,
    "start_time": "2021-09-09T08:49:58.157Z"
   },
   {
    "duration": 7,
    "start_time": "2021-09-09T08:49:58.200Z"
   },
   {
    "duration": 372,
    "start_time": "2021-09-09T08:49:58.209Z"
   },
   {
    "duration": 278,
    "start_time": "2021-09-09T08:49:58.583Z"
   },
   {
    "duration": 5,
    "start_time": "2021-09-09T08:49:58.863Z"
   },
   {
    "duration": 27,
    "start_time": "2021-09-09T08:49:58.871Z"
   },
   {
    "duration": 7,
    "start_time": "2021-09-09T08:49:58.900Z"
   },
   {
    "duration": 7,
    "start_time": "2021-09-09T08:49:58.909Z"
   },
   {
    "duration": 6,
    "start_time": "2021-09-09T08:49:58.918Z"
   },
   {
    "duration": 68,
    "start_time": "2021-09-09T08:49:58.926Z"
   },
   {
    "duration": 6,
    "start_time": "2021-09-09T08:49:58.997Z"
   },
   {
    "duration": 211,
    "start_time": "2021-09-09T08:49:59.005Z"
   },
   {
    "duration": 266,
    "start_time": "2021-09-09T08:51:23.868Z"
   },
   {
    "duration": 9,
    "start_time": "2021-09-09T08:51:49.239Z"
   },
   {
    "duration": 109,
    "start_time": "2021-09-09T08:52:23.676Z"
   },
   {
    "duration": 226,
    "start_time": "2021-09-09T08:52:38.065Z"
   },
   {
    "duration": 529,
    "start_time": "2021-09-09T08:52:50.225Z"
   },
   {
    "duration": 1323,
    "start_time": "2021-09-09T08:52:58.715Z"
   },
   {
    "duration": 5,
    "start_time": "2021-09-09T08:53:15.296Z"
   },
   {
    "duration": 6,
    "start_time": "2021-09-09T08:53:19.516Z"
   },
   {
    "duration": 4,
    "start_time": "2021-09-09T08:53:24.645Z"
   },
   {
    "duration": 42,
    "start_time": "2021-09-09T08:53:24.650Z"
   },
   {
    "duration": 6,
    "start_time": "2021-09-09T08:53:24.694Z"
   },
   {
    "duration": 8,
    "start_time": "2021-09-09T08:53:24.702Z"
   },
   {
    "duration": 9,
    "start_time": "2021-09-09T08:53:24.712Z"
   },
   {
    "duration": 9,
    "start_time": "2021-09-09T08:53:24.722Z"
   },
   {
    "duration": 9,
    "start_time": "2021-09-09T08:53:24.732Z"
   },
   {
    "duration": 14,
    "start_time": "2021-09-09T08:53:24.744Z"
   },
   {
    "duration": 33,
    "start_time": "2021-09-09T08:53:24.760Z"
   },
   {
    "duration": 10,
    "start_time": "2021-09-09T08:53:24.795Z"
   },
   {
    "duration": 10,
    "start_time": "2021-09-09T08:53:24.806Z"
   },
   {
    "duration": 10,
    "start_time": "2021-09-09T08:53:24.817Z"
   },
   {
    "duration": 438,
    "start_time": "2021-09-09T08:53:24.828Z"
   },
   {
    "duration": 269,
    "start_time": "2021-09-09T08:53:25.268Z"
   },
   {
    "duration": 4,
    "start_time": "2021-09-09T08:53:25.538Z"
   },
   {
    "duration": 17,
    "start_time": "2021-09-09T08:53:25.544Z"
   },
   {
    "duration": 5,
    "start_time": "2021-09-09T08:53:25.563Z"
   },
   {
    "duration": 21,
    "start_time": "2021-09-09T08:53:25.570Z"
   },
   {
    "duration": 12,
    "start_time": "2021-09-09T08:53:25.593Z"
   },
   {
    "duration": 86,
    "start_time": "2021-09-09T08:53:25.606Z"
   },
   {
    "duration": 96,
    "start_time": "2021-09-09T08:53:25.694Z"
   },
   {
    "duration": 6,
    "start_time": "2021-09-09T08:53:25.793Z"
   },
   {
    "duration": 9,
    "start_time": "2021-09-09T08:53:25.803Z"
   },
   {
    "duration": 10,
    "start_time": "2021-09-09T08:53:31.872Z"
   },
   {
    "duration": 1415,
    "start_time": "2021-09-10T13:22:36.587Z"
   },
   {
    "duration": 37,
    "start_time": "2021-09-10T13:22:38.004Z"
   },
   {
    "duration": 19,
    "start_time": "2021-09-10T13:22:38.044Z"
   },
   {
    "duration": 9,
    "start_time": "2021-09-10T13:22:38.065Z"
   },
   {
    "duration": 16,
    "start_time": "2021-09-10T13:22:38.075Z"
   },
   {
    "duration": 13,
    "start_time": "2021-09-10T13:22:38.093Z"
   },
   {
    "duration": 20,
    "start_time": "2021-09-10T13:22:38.108Z"
   },
   {
    "duration": 49,
    "start_time": "2021-09-10T13:22:38.130Z"
   },
   {
    "duration": 5,
    "start_time": "2021-09-10T13:22:38.182Z"
   },
   {
    "duration": 11,
    "start_time": "2021-09-10T13:22:38.190Z"
   },
   {
    "duration": 20,
    "start_time": "2021-09-10T13:22:38.204Z"
   },
   {
    "duration": 38,
    "start_time": "2021-09-10T13:22:38.226Z"
   },
   {
    "duration": 588,
    "start_time": "2021-09-10T13:22:38.267Z"
   },
   {
    "duration": 460,
    "start_time": "2021-09-10T13:22:38.857Z"
   },
   {
    "duration": 6,
    "start_time": "2021-09-10T13:22:39.319Z"
   },
   {
    "duration": 39,
    "start_time": "2021-09-10T13:22:39.327Z"
   },
   {
    "duration": 6,
    "start_time": "2021-09-10T13:22:39.369Z"
   },
   {
    "duration": 9,
    "start_time": "2021-09-10T13:22:39.378Z"
   },
   {
    "duration": 12,
    "start_time": "2021-09-10T13:22:39.389Z"
   },
   {
    "duration": 7,
    "start_time": "2021-09-10T13:22:39.404Z"
   },
   {
    "duration": 466,
    "start_time": "2021-09-10T13:24:31.479Z"
   },
   {
    "duration": 10,
    "start_time": "2021-09-10T13:24:41.570Z"
   },
   {
    "duration": 5,
    "start_time": "2021-09-10T13:24:43.325Z"
   },
   {
    "duration": 3,
    "start_time": "2021-09-10T13:24:44.444Z"
   },
   {
    "duration": 10,
    "start_time": "2021-09-10T13:25:07.583Z"
   },
   {
    "duration": 152,
    "start_time": "2021-09-10T13:28:16.802Z"
   },
   {
    "duration": 15,
    "start_time": "2021-09-10T13:28:18.913Z"
   },
   {
    "duration": 14,
    "start_time": "2021-09-10T13:38:36.683Z"
   },
   {
    "duration": 14137,
    "start_time": "2021-09-10T13:40:51.036Z"
   },
   {
    "duration": 21,
    "start_time": "2021-09-10T13:41:05.175Z"
   },
   {
    "duration": 5,
    "start_time": "2021-09-10T13:41:32.391Z"
   },
   {
    "duration": 38,
    "start_time": "2021-09-10T13:41:32.403Z"
   },
   {
    "duration": 8,
    "start_time": "2021-09-10T13:41:32.444Z"
   },
   {
    "duration": 10,
    "start_time": "2021-09-10T13:41:32.456Z"
   },
   {
    "duration": 14,
    "start_time": "2021-09-10T13:41:32.469Z"
   },
   {
    "duration": 14,
    "start_time": "2021-09-10T13:41:32.485Z"
   },
   {
    "duration": 10,
    "start_time": "2021-09-10T13:41:32.501Z"
   },
   {
    "duration": 48,
    "start_time": "2021-09-10T13:41:32.513Z"
   },
   {
    "duration": 5,
    "start_time": "2021-09-10T13:41:32.564Z"
   },
   {
    "duration": 8,
    "start_time": "2021-09-10T13:41:32.573Z"
   },
   {
    "duration": 13,
    "start_time": "2021-09-10T13:41:32.583Z"
   },
   {
    "duration": 8,
    "start_time": "2021-09-10T13:41:32.598Z"
   },
   {
    "duration": 625,
    "start_time": "2021-09-10T13:41:32.609Z"
   },
   {
    "duration": 517,
    "start_time": "2021-09-10T13:41:33.236Z"
   },
   {
    "duration": 9,
    "start_time": "2021-09-10T13:41:33.756Z"
   },
   {
    "duration": 21,
    "start_time": "2021-09-10T13:41:33.767Z"
   },
   {
    "duration": 6,
    "start_time": "2021-09-10T13:41:33.790Z"
   },
   {
    "duration": 9,
    "start_time": "2021-09-10T13:41:33.799Z"
   },
   {
    "duration": 11,
    "start_time": "2021-09-10T13:41:33.811Z"
   },
   {
    "duration": 6,
    "start_time": "2021-09-10T13:41:33.824Z"
   },
   {
    "duration": 46,
    "start_time": "2021-09-10T13:41:33.832Z"
   },
   {
    "duration": 271,
    "start_time": "2021-09-10T13:41:33.963Z"
   },
   {
    "duration": 14153,
    "start_time": "2021-09-10T13:41:34.236Z"
   },
   {
    "duration": 20,
    "start_time": "2021-09-10T13:41:48.391Z"
   },
   {
    "duration": 19,
    "start_time": "2021-09-10T13:42:43.162Z"
   },
   {
    "duration": 5,
    "start_time": "2021-09-10T13:42:46.379Z"
   },
   {
    "duration": 33,
    "start_time": "2021-09-10T13:42:46.394Z"
   },
   {
    "duration": 9,
    "start_time": "2021-09-10T13:42:46.430Z"
   },
   {
    "duration": 11,
    "start_time": "2021-09-10T13:42:46.442Z"
   },
   {
    "duration": 9,
    "start_time": "2021-09-10T13:42:46.463Z"
   },
   {
    "duration": 14,
    "start_time": "2021-09-10T13:42:46.474Z"
   },
   {
    "duration": 11,
    "start_time": "2021-09-10T13:42:46.490Z"
   },
   {
    "duration": 22,
    "start_time": "2021-09-10T13:42:46.503Z"
   },
   {
    "duration": 5,
    "start_time": "2021-09-10T13:42:46.564Z"
   },
   {
    "duration": 8,
    "start_time": "2021-09-10T13:42:46.572Z"
   },
   {
    "duration": 15,
    "start_time": "2021-09-10T13:42:46.582Z"
   },
   {
    "duration": 12,
    "start_time": "2021-09-10T13:42:46.599Z"
   },
   {
    "duration": 583,
    "start_time": "2021-09-10T13:42:46.613Z"
   },
   {
    "duration": 432,
    "start_time": "2021-09-10T13:42:47.199Z"
   },
   {
    "duration": 6,
    "start_time": "2021-09-10T13:42:47.633Z"
   },
   {
    "duration": 34,
    "start_time": "2021-09-10T13:42:47.641Z"
   },
   {
    "duration": 7,
    "start_time": "2021-09-10T13:42:47.677Z"
   },
   {
    "duration": 7,
    "start_time": "2021-09-10T13:42:47.687Z"
   },
   {
    "duration": 12,
    "start_time": "2021-09-10T13:42:47.696Z"
   },
   {
    "duration": 6,
    "start_time": "2021-09-10T13:42:47.710Z"
   },
   {
    "duration": 48,
    "start_time": "2021-09-10T13:42:47.718Z"
   },
   {
    "duration": 318,
    "start_time": "2021-09-10T13:42:47.768Z"
   },
   {
    "duration": 16120,
    "start_time": "2021-09-10T13:42:48.088Z"
   },
   {
    "duration": 20,
    "start_time": "2021-09-10T13:43:04.212Z"
   },
   {
    "duration": 5,
    "start_time": "2021-09-10T13:43:37.119Z"
   },
   {
    "duration": 5,
    "start_time": "2021-09-10T13:43:39.752Z"
   },
   {
    "duration": 5,
    "start_time": "2021-09-10T13:43:42.423Z"
   },
   {
    "duration": 74,
    "start_time": "2021-09-10T13:43:42.430Z"
   },
   {
    "duration": 9,
    "start_time": "2021-09-10T13:43:42.507Z"
   },
   {
    "duration": 11,
    "start_time": "2021-09-10T13:43:42.519Z"
   },
   {
    "duration": 11,
    "start_time": "2021-09-10T13:43:42.533Z"
   },
   {
    "duration": 20,
    "start_time": "2021-09-10T13:43:42.547Z"
   },
   {
    "duration": 15,
    "start_time": "2021-09-10T13:43:42.569Z"
   },
   {
    "duration": 22,
    "start_time": "2021-09-10T13:43:42.586Z"
   },
   {
    "duration": 5,
    "start_time": "2021-09-10T13:43:42.611Z"
   },
   {
    "duration": 44,
    "start_time": "2021-09-10T13:43:42.619Z"
   },
   {
    "duration": 11,
    "start_time": "2021-09-10T13:43:42.666Z"
   },
   {
    "duration": 11,
    "start_time": "2021-09-10T13:43:42.679Z"
   },
   {
    "duration": 617,
    "start_time": "2021-09-10T13:43:42.693Z"
   },
   {
    "duration": 433,
    "start_time": "2021-09-10T13:43:43.312Z"
   },
   {
    "duration": 14,
    "start_time": "2021-09-10T13:43:43.748Z"
   },
   {
    "duration": 18,
    "start_time": "2021-09-10T13:43:43.764Z"
   },
   {
    "duration": 8,
    "start_time": "2021-09-10T13:43:43.784Z"
   },
   {
    "duration": 13,
    "start_time": "2021-09-10T13:43:43.794Z"
   },
   {
    "duration": 12,
    "start_time": "2021-09-10T13:43:43.809Z"
   },
   {
    "duration": 10,
    "start_time": "2021-09-10T13:43:43.824Z"
   },
   {
    "duration": 39,
    "start_time": "2021-09-10T13:43:43.836Z"
   },
   {
    "duration": 350,
    "start_time": "2021-09-10T13:43:43.878Z"
   },
   {
    "duration": 14339,
    "start_time": "2021-09-10T13:43:44.230Z"
   },
   {
    "duration": 21,
    "start_time": "2021-09-10T13:43:58.571Z"
   },
   {
    "duration": 7,
    "start_time": "2021-09-10T13:44:17.482Z"
   },
   {
    "duration": 53,
    "start_time": "2021-09-10T13:44:17.492Z"
   },
   {
    "duration": 13,
    "start_time": "2021-09-10T13:44:17.550Z"
   },
   {
    "duration": 23,
    "start_time": "2021-09-10T13:44:17.567Z"
   },
   {
    "duration": 19,
    "start_time": "2021-09-10T13:44:17.593Z"
   },
   {
    "duration": 21,
    "start_time": "2021-09-10T13:44:17.615Z"
   },
   {
    "duration": 33,
    "start_time": "2021-09-10T13:44:17.639Z"
   },
   {
    "duration": 33,
    "start_time": "2021-09-10T13:44:17.676Z"
   },
   {
    "duration": 6,
    "start_time": "2021-09-10T13:44:17.715Z"
   },
   {
    "duration": 39,
    "start_time": "2021-09-10T13:44:17.725Z"
   },
   {
    "duration": 12,
    "start_time": "2021-09-10T13:44:17.768Z"
   },
   {
    "duration": 11,
    "start_time": "2021-09-10T13:44:17.783Z"
   },
   {
    "duration": 621,
    "start_time": "2021-09-10T13:44:17.796Z"
   },
   {
    "duration": 455,
    "start_time": "2021-09-10T13:44:18.421Z"
   },
   {
    "duration": 7,
    "start_time": "2021-09-10T13:44:18.879Z"
   },
   {
    "duration": 32,
    "start_time": "2021-09-10T13:44:18.889Z"
   },
   {
    "duration": 9,
    "start_time": "2021-09-10T13:44:18.924Z"
   },
   {
    "duration": 9,
    "start_time": "2021-09-10T13:44:18.962Z"
   },
   {
    "duration": 10,
    "start_time": "2021-09-10T13:44:18.974Z"
   },
   {
    "duration": 10,
    "start_time": "2021-09-10T13:44:18.987Z"
   },
   {
    "duration": 65,
    "start_time": "2021-09-10T13:44:18.999Z"
   },
   {
    "duration": 324,
    "start_time": "2021-09-10T13:44:19.071Z"
   },
   {
    "duration": 44719,
    "start_time": "2021-09-10T13:44:19.398Z"
   },
   {
    "duration": 20,
    "start_time": "2021-09-10T13:45:04.120Z"
   },
   {
    "duration": 15212,
    "start_time": "2021-09-10T13:45:20.898Z"
   },
   {
    "duration": 21,
    "start_time": "2021-09-10T13:45:36.113Z"
   },
   {
    "duration": 5,
    "start_time": "2021-09-10T13:49:35.698Z"
   },
   {
    "duration": 46,
    "start_time": "2021-09-10T13:49:35.706Z"
   },
   {
    "duration": 9,
    "start_time": "2021-09-10T13:49:35.756Z"
   },
   {
    "duration": 20,
    "start_time": "2021-09-10T13:49:35.768Z"
   },
   {
    "duration": 16,
    "start_time": "2021-09-10T13:49:35.791Z"
   },
   {
    "duration": 23,
    "start_time": "2021-09-10T13:49:35.809Z"
   },
   {
    "duration": 31,
    "start_time": "2021-09-10T13:49:35.835Z"
   },
   {
    "duration": 30,
    "start_time": "2021-09-10T13:49:35.869Z"
   },
   {
    "duration": 4,
    "start_time": "2021-09-10T13:49:35.904Z"
   },
   {
    "duration": 22,
    "start_time": "2021-09-10T13:49:35.911Z"
   },
   {
    "duration": 26,
    "start_time": "2021-09-10T13:49:35.936Z"
   },
   {
    "duration": 23,
    "start_time": "2021-09-10T13:49:35.965Z"
   },
   {
    "duration": 686,
    "start_time": "2021-09-10T13:49:35.990Z"
   },
   {
    "duration": 466,
    "start_time": "2021-09-10T13:49:36.678Z"
   },
   {
    "duration": 15,
    "start_time": "2021-09-10T13:49:37.147Z"
   },
   {
    "duration": 19,
    "start_time": "2021-09-10T13:49:37.164Z"
   },
   {
    "duration": 7,
    "start_time": "2021-09-10T13:49:37.185Z"
   },
   {
    "duration": 6,
    "start_time": "2021-09-10T13:49:37.195Z"
   },
   {
    "duration": 10,
    "start_time": "2021-09-10T13:49:37.203Z"
   },
   {
    "duration": 7,
    "start_time": "2021-09-10T13:49:37.215Z"
   },
   {
    "duration": 52,
    "start_time": "2021-09-10T13:49:37.224Z"
   },
   {
    "duration": 265,
    "start_time": "2021-09-10T13:49:37.363Z"
   },
   {
    "duration": 15513,
    "start_time": "2021-09-10T13:49:37.630Z"
   },
   {
    "duration": 34,
    "start_time": "2021-09-10T13:49:53.145Z"
   },
   {
    "duration": 6,
    "start_time": "2021-09-10T13:50:14.683Z"
   },
   {
    "duration": 66,
    "start_time": "2021-09-10T13:50:14.692Z"
   },
   {
    "duration": 9,
    "start_time": "2021-09-10T13:50:14.761Z"
   },
   {
    "duration": 16,
    "start_time": "2021-09-10T13:50:14.774Z"
   },
   {
    "duration": 20,
    "start_time": "2021-09-10T13:50:14.793Z"
   },
   {
    "duration": 24,
    "start_time": "2021-09-10T13:50:14.815Z"
   },
   {
    "duration": 33,
    "start_time": "2021-09-10T13:50:14.842Z"
   },
   {
    "duration": 25,
    "start_time": "2021-09-10T13:50:14.879Z"
   },
   {
    "duration": 5,
    "start_time": "2021-09-10T13:50:14.907Z"
   },
   {
    "duration": 21,
    "start_time": "2021-09-10T13:50:14.915Z"
   },
   {
    "duration": 29,
    "start_time": "2021-09-10T13:50:14.938Z"
   },
   {
    "duration": 10,
    "start_time": "2021-09-10T13:50:14.969Z"
   },
   {
    "duration": 633,
    "start_time": "2021-09-10T13:50:14.982Z"
   },
   {
    "duration": 473,
    "start_time": "2021-09-10T13:50:15.617Z"
   },
   {
    "duration": 6,
    "start_time": "2021-09-10T13:50:16.092Z"
   },
   {
    "duration": 33,
    "start_time": "2021-09-10T13:50:16.100Z"
   },
   {
    "duration": 8,
    "start_time": "2021-09-10T13:50:16.135Z"
   },
   {
    "duration": 35,
    "start_time": "2021-09-10T13:50:16.146Z"
   },
   {
    "duration": 8,
    "start_time": "2021-09-10T13:50:16.184Z"
   },
   {
    "duration": 11,
    "start_time": "2021-09-10T13:50:16.194Z"
   },
   {
    "duration": 154,
    "start_time": "2021-09-10T13:50:16.208Z"
   },
   {
    "duration": 184,
    "start_time": "2021-09-10T13:50:16.365Z"
   },
   {
    "duration": 15004,
    "start_time": "2021-09-10T13:50:16.554Z"
   },
   {
    "duration": 19,
    "start_time": "2021-09-10T13:50:31.562Z"
   },
   {
    "duration": 5,
    "start_time": "2021-09-10T13:50:43.474Z"
   },
   {
    "duration": 37,
    "start_time": "2021-09-10T13:50:43.483Z"
   },
   {
    "duration": 10,
    "start_time": "2021-09-10T13:50:43.524Z"
   },
   {
    "duration": 27,
    "start_time": "2021-09-10T13:50:43.537Z"
   },
   {
    "duration": 12,
    "start_time": "2021-09-10T13:50:43.567Z"
   },
   {
    "duration": 12,
    "start_time": "2021-09-10T13:50:43.582Z"
   },
   {
    "duration": 20,
    "start_time": "2021-09-10T13:50:43.596Z"
   },
   {
    "duration": 51,
    "start_time": "2021-09-10T13:50:43.619Z"
   },
   {
    "duration": 5,
    "start_time": "2021-09-10T13:50:43.675Z"
   },
   {
    "duration": 14,
    "start_time": "2021-09-10T13:50:43.684Z"
   },
   {
    "duration": 13,
    "start_time": "2021-09-10T13:50:43.701Z"
   },
   {
    "duration": 12,
    "start_time": "2021-09-10T13:50:43.717Z"
   },
   {
    "duration": 610,
    "start_time": "2021-09-10T13:50:43.732Z"
   },
   {
    "duration": 470,
    "start_time": "2021-09-10T13:50:44.344Z"
   },
   {
    "duration": 6,
    "start_time": "2021-09-10T13:50:44.816Z"
   },
   {
    "duration": 41,
    "start_time": "2021-09-10T13:50:44.824Z"
   },
   {
    "duration": 7,
    "start_time": "2021-09-10T13:50:44.867Z"
   },
   {
    "duration": 7,
    "start_time": "2021-09-10T13:50:44.877Z"
   },
   {
    "duration": 7,
    "start_time": "2021-09-10T13:50:44.886Z"
   },
   {
    "duration": 7,
    "start_time": "2021-09-10T13:50:44.895Z"
   },
   {
    "duration": 66,
    "start_time": "2021-09-10T13:50:44.904Z"
   },
   {
    "duration": 266,
    "start_time": "2021-09-10T13:50:44.974Z"
   },
   {
    "duration": 14634,
    "start_time": "2021-09-10T13:50:45.242Z"
   },
   {
    "duration": 20,
    "start_time": "2021-09-10T13:50:59.879Z"
   },
   {
    "duration": 5,
    "start_time": "2021-09-10T13:52:13.635Z"
   },
   {
    "duration": 56,
    "start_time": "2021-09-10T13:52:13.643Z"
   },
   {
    "duration": 9,
    "start_time": "2021-09-10T13:52:13.702Z"
   },
   {
    "duration": 22,
    "start_time": "2021-09-10T13:52:13.714Z"
   },
   {
    "duration": 11,
    "start_time": "2021-09-10T13:52:13.739Z"
   },
   {
    "duration": 20,
    "start_time": "2021-09-10T13:52:13.752Z"
   },
   {
    "duration": 12,
    "start_time": "2021-09-10T13:52:13.775Z"
   },
   {
    "duration": 22,
    "start_time": "2021-09-10T13:52:13.790Z"
   },
   {
    "duration": 5,
    "start_time": "2021-09-10T13:52:13.816Z"
   },
   {
    "duration": 6,
    "start_time": "2021-09-10T13:52:13.864Z"
   },
   {
    "duration": 13,
    "start_time": "2021-09-10T13:52:13.873Z"
   },
   {
    "duration": 10,
    "start_time": "2021-09-10T13:52:13.888Z"
   },
   {
    "duration": 628,
    "start_time": "2021-09-10T13:52:13.901Z"
   },
   {
    "duration": 477,
    "start_time": "2021-09-10T13:52:14.531Z"
   },
   {
    "duration": 6,
    "start_time": "2021-09-10T13:52:15.010Z"
   },
   {
    "duration": 34,
    "start_time": "2021-09-10T13:52:15.018Z"
   },
   {
    "duration": 8,
    "start_time": "2021-09-10T13:52:15.061Z"
   },
   {
    "duration": 12,
    "start_time": "2021-09-10T13:52:15.071Z"
   },
   {
    "duration": 8,
    "start_time": "2021-09-10T13:52:15.085Z"
   },
   {
    "duration": 12,
    "start_time": "2021-09-10T13:52:15.095Z"
   },
   {
    "duration": 13,
    "start_time": "2021-09-10T13:52:15.110Z"
   },
   {
    "duration": 253,
    "start_time": "2021-09-10T13:52:15.180Z"
   },
   {
    "duration": 15244,
    "start_time": "2021-09-10T13:52:15.436Z"
   },
   {
    "duration": 17,
    "start_time": "2021-09-10T13:52:30.686Z"
   },
   {
    "duration": 5,
    "start_time": "2021-09-10T13:52:55.544Z"
   },
   {
    "duration": 45,
    "start_time": "2021-09-10T13:52:55.551Z"
   },
   {
    "duration": 11,
    "start_time": "2021-09-10T13:52:55.599Z"
   },
   {
    "duration": 15,
    "start_time": "2021-09-10T13:52:55.613Z"
   },
   {
    "duration": 37,
    "start_time": "2021-09-10T13:52:55.630Z"
   },
   {
    "duration": 13,
    "start_time": "2021-09-10T13:52:55.669Z"
   },
   {
    "duration": 13,
    "start_time": "2021-09-10T13:52:55.685Z"
   },
   {
    "duration": 59,
    "start_time": "2021-09-10T13:52:55.704Z"
   },
   {
    "duration": 5,
    "start_time": "2021-09-10T13:52:55.767Z"
   },
   {
    "duration": 6,
    "start_time": "2021-09-10T13:52:55.775Z"
   },
   {
    "duration": 13,
    "start_time": "2021-09-10T13:52:55.783Z"
   },
   {
    "duration": 11,
    "start_time": "2021-09-10T13:52:55.799Z"
   },
   {
    "duration": 782,
    "start_time": "2021-09-10T13:52:55.813Z"
   },
   {
    "duration": 502,
    "start_time": "2021-09-10T13:52:56.599Z"
   },
   {
    "duration": 8,
    "start_time": "2021-09-10T13:52:57.103Z"
   },
   {
    "duration": 35,
    "start_time": "2021-09-10T13:52:57.114Z"
   },
   {
    "duration": 16,
    "start_time": "2021-09-10T13:52:57.151Z"
   },
   {
    "duration": 7,
    "start_time": "2021-09-10T13:52:57.170Z"
   },
   {
    "duration": 10,
    "start_time": "2021-09-10T13:52:57.180Z"
   },
   {
    "duration": 9,
    "start_time": "2021-09-10T13:52:57.194Z"
   },
   {
    "duration": 57,
    "start_time": "2021-09-10T13:52:57.206Z"
   },
   {
    "duration": 262,
    "start_time": "2021-09-10T13:52:57.265Z"
   },
   {
    "duration": 14914,
    "start_time": "2021-09-10T13:52:57.532Z"
   },
   {
    "duration": 20,
    "start_time": "2021-09-10T13:53:12.449Z"
   },
   {
    "duration": 5,
    "start_time": "2021-09-10T13:54:59.208Z"
   },
   {
    "duration": 41,
    "start_time": "2021-09-10T13:54:59.220Z"
   },
   {
    "duration": 10,
    "start_time": "2021-09-10T13:54:59.263Z"
   },
   {
    "duration": 19,
    "start_time": "2021-09-10T13:54:59.276Z"
   },
   {
    "duration": 20,
    "start_time": "2021-09-10T13:54:59.298Z"
   },
   {
    "duration": 16,
    "start_time": "2021-09-10T13:54:59.321Z"
   },
   {
    "duration": 33,
    "start_time": "2021-09-10T13:54:59.340Z"
   },
   {
    "duration": 24,
    "start_time": "2021-09-10T13:54:59.376Z"
   },
   {
    "duration": 6,
    "start_time": "2021-09-10T13:54:59.405Z"
   },
   {
    "duration": 47,
    "start_time": "2021-09-10T13:54:59.414Z"
   },
   {
    "duration": 15,
    "start_time": "2021-09-10T13:54:59.464Z"
   },
   {
    "duration": 14,
    "start_time": "2021-09-10T13:54:59.482Z"
   },
   {
    "duration": 651,
    "start_time": "2021-09-10T13:54:59.499Z"
   },
   {
    "duration": 470,
    "start_time": "2021-09-10T13:55:00.153Z"
   },
   {
    "duration": 6,
    "start_time": "2021-09-10T13:55:00.625Z"
   },
   {
    "duration": 45,
    "start_time": "2021-09-10T13:55:00.634Z"
   },
   {
    "duration": 13,
    "start_time": "2021-09-10T13:55:00.681Z"
   },
   {
    "duration": 21,
    "start_time": "2021-09-10T13:55:00.697Z"
   },
   {
    "duration": 33,
    "start_time": "2021-09-10T13:55:00.720Z"
   },
   {
    "duration": 17,
    "start_time": "2021-09-10T13:55:00.755Z"
   },
   {
    "duration": 43,
    "start_time": "2021-09-10T13:55:00.774Z"
   },
   {
    "duration": 269,
    "start_time": "2021-09-10T13:55:00.864Z"
   },
   {
    "duration": 15377,
    "start_time": "2021-09-10T13:55:01.135Z"
   },
   {
    "duration": 14,
    "start_time": "2021-09-10T13:55:16.516Z"
   },
   {
    "duration": 202,
    "start_time": "2021-09-10T13:57:51.408Z"
   },
   {
    "duration": 1469,
    "start_time": "2021-09-11T10:45:26.277Z"
   },
   {
    "duration": 37,
    "start_time": "2021-09-11T10:45:27.749Z"
   },
   {
    "duration": 14,
    "start_time": "2021-09-11T10:45:27.790Z"
   },
   {
    "duration": 8,
    "start_time": "2021-09-11T10:45:27.808Z"
   },
   {
    "duration": 10,
    "start_time": "2021-09-11T10:45:27.819Z"
   },
   {
    "duration": 41,
    "start_time": "2021-09-11T10:45:27.831Z"
   },
   {
    "duration": 15,
    "start_time": "2021-09-11T10:45:27.875Z"
   },
   {
    "duration": 21,
    "start_time": "2021-09-11T10:45:27.894Z"
   },
   {
    "duration": 6,
    "start_time": "2021-09-11T10:45:27.918Z"
   },
   {
    "duration": 40,
    "start_time": "2021-09-11T10:45:27.926Z"
   },
   {
    "duration": 13,
    "start_time": "2021-09-11T10:45:27.969Z"
   },
   {
    "duration": 8,
    "start_time": "2021-09-11T10:45:27.985Z"
   },
   {
    "duration": 593,
    "start_time": "2021-09-11T10:45:27.996Z"
   },
   {
    "duration": 445,
    "start_time": "2021-09-11T10:45:28.591Z"
   },
   {
    "duration": 6,
    "start_time": "2021-09-11T10:45:29.038Z"
   },
   {
    "duration": 33,
    "start_time": "2021-09-11T10:45:29.046Z"
   },
   {
    "duration": 7,
    "start_time": "2021-09-11T10:45:29.081Z"
   },
   {
    "duration": 8,
    "start_time": "2021-09-11T10:45:29.090Z"
   },
   {
    "duration": 7,
    "start_time": "2021-09-11T10:45:29.101Z"
   },
   {
    "duration": 5,
    "start_time": "2021-09-11T10:45:29.110Z"
   },
   {
    "duration": 47,
    "start_time": "2021-09-11T10:45:29.117Z"
   },
   {
    "duration": 337,
    "start_time": "2021-09-11T10:45:29.168Z"
   },
   {
    "duration": 14423,
    "start_time": "2021-09-11T10:45:29.509Z"
   },
   {
    "duration": 12,
    "start_time": "2021-09-11T10:45:43.934Z"
   },
   {
    "duration": 1111,
    "start_time": "2021-09-11T10:56:14.806Z"
   },
   {
    "duration": 5,
    "start_time": "2021-09-11T10:56:38.153Z"
   },
   {
    "duration": 1090,
    "start_time": "2021-09-11T10:56:43.783Z"
   },
   {
    "duration": 13,
    "start_time": "2021-09-11T10:57:01.666Z"
   },
   {
    "duration": 5,
    "start_time": "2021-09-11T10:59:00.991Z"
   },
   {
    "duration": 48,
    "start_time": "2021-09-11T10:59:00.999Z"
   },
   {
    "duration": 10,
    "start_time": "2021-09-11T10:59:01.049Z"
   },
   {
    "duration": 16,
    "start_time": "2021-09-11T10:59:01.061Z"
   },
   {
    "duration": 13,
    "start_time": "2021-09-11T10:59:01.079Z"
   },
   {
    "duration": 21,
    "start_time": "2021-09-11T10:59:01.094Z"
   },
   {
    "duration": 15,
    "start_time": "2021-09-11T10:59:01.117Z"
   },
   {
    "duration": 37,
    "start_time": "2021-09-11T10:59:01.135Z"
   },
   {
    "duration": 5,
    "start_time": "2021-09-11T10:59:01.176Z"
   },
   {
    "duration": 40,
    "start_time": "2021-09-11T10:59:01.183Z"
   },
   {
    "duration": 20,
    "start_time": "2021-09-11T10:59:01.225Z"
   },
   {
    "duration": 18,
    "start_time": "2021-09-11T10:59:01.247Z"
   },
   {
    "duration": 590,
    "start_time": "2021-09-11T10:59:01.268Z"
   },
   {
    "duration": 611,
    "start_time": "2021-09-11T10:59:01.863Z"
   },
   {
    "duration": 6,
    "start_time": "2021-09-11T10:59:02.476Z"
   },
   {
    "duration": 49,
    "start_time": "2021-09-11T10:59:02.484Z"
   },
   {
    "duration": 20,
    "start_time": "2021-09-11T10:59:02.535Z"
   },
   {
    "duration": 23,
    "start_time": "2021-09-11T10:59:02.558Z"
   },
   {
    "duration": 21,
    "start_time": "2021-09-11T10:59:02.583Z"
   },
   {
    "duration": 23,
    "start_time": "2021-09-11T10:59:02.606Z"
   },
   {
    "duration": 30,
    "start_time": "2021-09-11T10:59:02.631Z"
   },
   {
    "duration": 357,
    "start_time": "2021-09-11T10:59:02.663Z"
   },
   {
    "duration": 13944,
    "start_time": "2021-09-11T10:59:03.023Z"
   },
   {
    "duration": 1295,
    "start_time": "2021-09-11T10:59:16.969Z"
   },
   {
    "duration": 12,
    "start_time": "2021-09-11T10:59:18.267Z"
   },
   {
    "duration": 5,
    "start_time": "2021-09-11T11:02:07.591Z"
   },
   {
    "duration": 41,
    "start_time": "2021-09-11T11:02:07.599Z"
   },
   {
    "duration": 8,
    "start_time": "2021-09-11T11:02:07.643Z"
   },
   {
    "duration": 13,
    "start_time": "2021-09-11T11:02:07.653Z"
   },
   {
    "duration": 11,
    "start_time": "2021-09-11T11:02:07.669Z"
   },
   {
    "duration": 12,
    "start_time": "2021-09-11T11:02:07.683Z"
   },
   {
    "duration": 12,
    "start_time": "2021-09-11T11:02:07.699Z"
   },
   {
    "duration": 56,
    "start_time": "2021-09-11T11:02:07.714Z"
   },
   {
    "duration": 6,
    "start_time": "2021-09-11T11:02:07.772Z"
   },
   {
    "duration": 15,
    "start_time": "2021-09-11T11:02:07.780Z"
   },
   {
    "duration": 16,
    "start_time": "2021-09-11T11:02:07.798Z"
   },
   {
    "duration": 10,
    "start_time": "2021-09-11T11:02:07.816Z"
   },
   {
    "duration": 590,
    "start_time": "2021-09-11T11:02:07.828Z"
   },
   {
    "duration": 436,
    "start_time": "2021-09-11T11:02:08.421Z"
   },
   {
    "duration": 5,
    "start_time": "2021-09-11T11:02:08.862Z"
   },
   {
    "duration": 23,
    "start_time": "2021-09-11T11:02:08.870Z"
   },
   {
    "duration": 7,
    "start_time": "2021-09-11T11:02:08.895Z"
   },
   {
    "duration": 28,
    "start_time": "2021-09-11T11:02:08.905Z"
   },
   {
    "duration": 7,
    "start_time": "2021-09-11T11:02:08.938Z"
   },
   {
    "duration": 3,
    "start_time": "2021-09-11T11:02:08.963Z"
   },
   {
    "duration": 94,
    "start_time": "2021-09-11T11:02:08.969Z"
   },
   {
    "duration": 268,
    "start_time": "2021-09-11T11:02:09.066Z"
   },
   {
    "duration": 14155,
    "start_time": "2021-09-11T11:02:09.336Z"
   },
   {
    "duration": 56376,
    "start_time": "2021-09-11T11:02:23.494Z"
   },
   {
    "duration": 12,
    "start_time": "2021-09-11T11:03:19.873Z"
   },
   {
    "duration": 5,
    "start_time": "2021-09-11T11:10:08.627Z"
   },
   {
    "duration": 44,
    "start_time": "2021-09-11T11:10:08.635Z"
   },
   {
    "duration": 9,
    "start_time": "2021-09-11T11:10:08.682Z"
   },
   {
    "duration": 17,
    "start_time": "2021-09-11T11:10:08.693Z"
   },
   {
    "duration": 16,
    "start_time": "2021-09-11T11:10:08.712Z"
   },
   {
    "duration": 33,
    "start_time": "2021-09-11T11:10:08.730Z"
   },
   {
    "duration": 14,
    "start_time": "2021-09-11T11:10:08.767Z"
   },
   {
    "duration": 21,
    "start_time": "2021-09-11T11:10:08.783Z"
   },
   {
    "duration": 5,
    "start_time": "2021-09-11T11:10:08.807Z"
   },
   {
    "duration": 49,
    "start_time": "2021-09-11T11:10:08.814Z"
   },
   {
    "duration": 11,
    "start_time": "2021-09-11T11:10:08.866Z"
   },
   {
    "duration": 11,
    "start_time": "2021-09-11T11:10:08.880Z"
   },
   {
    "duration": 593,
    "start_time": "2021-09-11T11:10:08.894Z"
   },
   {
    "duration": 437,
    "start_time": "2021-09-11T11:10:09.490Z"
   },
   {
    "duration": 6,
    "start_time": "2021-09-11T11:10:09.929Z"
   },
   {
    "duration": 37,
    "start_time": "2021-09-11T11:10:09.938Z"
   },
   {
    "duration": 6,
    "start_time": "2021-09-11T11:10:09.978Z"
   },
   {
    "duration": 12,
    "start_time": "2021-09-11T11:10:09.986Z"
   },
   {
    "duration": 16,
    "start_time": "2021-09-11T11:10:10.000Z"
   },
   {
    "duration": 11,
    "start_time": "2021-09-11T11:10:10.019Z"
   },
   {
    "duration": 34,
    "start_time": "2021-09-11T11:10:10.032Z"
   },
   {
    "duration": 348,
    "start_time": "2021-09-11T11:10:10.070Z"
   },
   {
    "duration": 61948,
    "start_time": "2021-09-11T11:10:10.421Z"
   },
   {
    "duration": 56595,
    "start_time": "2021-09-11T11:11:12.371Z"
   },
   {
    "duration": 13,
    "start_time": "2021-09-11T11:12:08.968Z"
   },
   {
    "duration": 116,
    "start_time": "2021-09-11T11:13:06.640Z"
   },
   {
    "duration": 316,
    "start_time": "2021-09-11T11:17:20.293Z"
   },
   {
    "duration": 13,
    "start_time": "2021-09-11T11:17:21.174Z"
   },
   {
    "duration": 74,
    "start_time": "2021-09-11T11:18:11.746Z"
   },
   {
    "duration": 6,
    "start_time": "2021-09-11T11:18:20.241Z"
   },
   {
    "duration": 56,
    "start_time": "2021-09-11T11:18:20.250Z"
   },
   {
    "duration": 14,
    "start_time": "2021-09-11T11:18:20.312Z"
   },
   {
    "duration": 13,
    "start_time": "2021-09-11T11:18:20.330Z"
   },
   {
    "duration": 15,
    "start_time": "2021-09-11T11:18:20.363Z"
   },
   {
    "duration": 14,
    "start_time": "2021-09-11T11:18:20.381Z"
   },
   {
    "duration": 18,
    "start_time": "2021-09-11T11:18:20.398Z"
   },
   {
    "duration": 62,
    "start_time": "2021-09-11T11:18:20.419Z"
   },
   {
    "duration": 5,
    "start_time": "2021-09-11T11:18:20.484Z"
   },
   {
    "duration": 7,
    "start_time": "2021-09-11T11:18:20.492Z"
   },
   {
    "duration": 15,
    "start_time": "2021-09-11T11:18:20.501Z"
   },
   {
    "duration": 9,
    "start_time": "2021-09-11T11:18:20.519Z"
   },
   {
    "duration": 656,
    "start_time": "2021-09-11T11:18:20.530Z"
   },
   {
    "duration": 543,
    "start_time": "2021-09-11T11:18:21.188Z"
   },
   {
    "duration": 6,
    "start_time": "2021-09-11T11:18:21.733Z"
   },
   {
    "duration": 37,
    "start_time": "2021-09-11T11:18:21.741Z"
   },
   {
    "duration": 10,
    "start_time": "2021-09-11T11:18:21.782Z"
   },
   {
    "duration": 16,
    "start_time": "2021-09-11T11:18:21.794Z"
   },
   {
    "duration": 7,
    "start_time": "2021-09-11T11:18:21.813Z"
   },
   {
    "duration": 6,
    "start_time": "2021-09-11T11:18:21.822Z"
   },
   {
    "duration": 49,
    "start_time": "2021-09-11T11:18:21.831Z"
   },
   {
    "duration": 317,
    "start_time": "2021-09-11T11:18:21.882Z"
   },
   {
    "duration": 61786,
    "start_time": "2021-09-11T11:18:22.201Z"
   },
   {
    "duration": 64487,
    "start_time": "2021-09-11T11:19:23.989Z"
   },
   {
    "duration": 39566,
    "start_time": "2021-09-11T11:20:28.478Z"
   },
   {
    "duration": 20,
    "start_time": "2021-09-11T11:21:08.046Z"
   },
   {
    "duration": 40627,
    "start_time": "2021-09-11T11:28:18.120Z"
   },
   {
    "duration": 21,
    "start_time": "2021-09-11T11:28:58.750Z"
   },
   {
    "duration": 5,
    "start_time": "2021-09-11T11:29:15.746Z"
   },
   {
    "duration": 56,
    "start_time": "2021-09-11T11:29:15.754Z"
   },
   {
    "duration": 10,
    "start_time": "2021-09-11T11:29:15.813Z"
   },
   {
    "duration": 9,
    "start_time": "2021-09-11T11:29:15.827Z"
   },
   {
    "duration": 11,
    "start_time": "2021-09-11T11:29:15.839Z"
   },
   {
    "duration": 19,
    "start_time": "2021-09-11T11:29:15.853Z"
   },
   {
    "duration": 13,
    "start_time": "2021-09-11T11:29:15.874Z"
   },
   {
    "duration": 23,
    "start_time": "2021-09-11T11:29:15.890Z"
   },
   {
    "duration": 6,
    "start_time": "2021-09-11T11:29:15.916Z"
   },
   {
    "duration": 5,
    "start_time": "2021-09-11T11:29:15.962Z"
   },
   {
    "duration": 19,
    "start_time": "2021-09-11T11:29:15.970Z"
   },
   {
    "duration": 13,
    "start_time": "2021-09-11T11:29:15.992Z"
   },
   {
    "duration": 599,
    "start_time": "2021-09-11T11:29:16.008Z"
   },
   {
    "duration": 438,
    "start_time": "2021-09-11T11:29:16.610Z"
   },
   {
    "duration": 13,
    "start_time": "2021-09-11T11:29:17.051Z"
   },
   {
    "duration": 37,
    "start_time": "2021-09-11T11:29:17.067Z"
   },
   {
    "duration": 7,
    "start_time": "2021-09-11T11:29:17.107Z"
   },
   {
    "duration": 9,
    "start_time": "2021-09-11T11:29:17.117Z"
   },
   {
    "duration": 10,
    "start_time": "2021-09-11T11:29:17.129Z"
   },
   {
    "duration": 7,
    "start_time": "2021-09-11T11:29:17.141Z"
   },
   {
    "duration": 32,
    "start_time": "2021-09-11T11:29:17.163Z"
   },
   {
    "duration": 270,
    "start_time": "2021-09-11T11:29:17.266Z"
   },
   {
    "duration": 62997,
    "start_time": "2021-09-11T11:29:17.538Z"
   },
   {
    "duration": 79042,
    "start_time": "2021-09-11T11:30:20.538Z"
   },
   {
    "duration": 123931,
    "start_time": "2021-09-11T11:31:39.582Z"
   },
   {
    "duration": 13,
    "start_time": "2021-09-11T11:33:43.515Z"
   },
   {
    "duration": 383276,
    "start_time": "2021-09-11T11:52:32.390Z"
   },
   {
    "duration": 1144,
    "start_time": "2021-09-13T05:39:16.516Z"
   },
   {
    "duration": 31,
    "start_time": "2021-09-13T05:39:17.662Z"
   },
   {
    "duration": 10,
    "start_time": "2021-09-13T05:39:17.695Z"
   },
   {
    "duration": 7,
    "start_time": "2021-09-13T05:39:17.707Z"
   },
   {
    "duration": 11,
    "start_time": "2021-09-13T05:39:17.715Z"
   },
   {
    "duration": 12,
    "start_time": "2021-09-13T05:39:17.728Z"
   },
   {
    "duration": 7,
    "start_time": "2021-09-13T05:39:17.742Z"
   },
   {
    "duration": 39,
    "start_time": "2021-09-13T05:39:17.751Z"
   },
   {
    "duration": 3,
    "start_time": "2021-09-13T05:39:17.793Z"
   },
   {
    "duration": 11,
    "start_time": "2021-09-13T05:39:17.797Z"
   },
   {
    "duration": 10,
    "start_time": "2021-09-13T05:39:17.809Z"
   },
   {
    "duration": 5,
    "start_time": "2021-09-13T05:39:17.820Z"
   },
   {
    "duration": 365,
    "start_time": "2021-09-13T05:39:17.827Z"
   },
   {
    "duration": 284,
    "start_time": "2021-09-13T05:39:18.193Z"
   },
   {
    "duration": 8,
    "start_time": "2021-09-13T05:39:18.478Z"
   },
   {
    "duration": 16,
    "start_time": "2021-09-13T05:39:18.487Z"
   },
   {
    "duration": 5,
    "start_time": "2021-09-13T05:39:18.505Z"
   },
   {
    "duration": 9,
    "start_time": "2021-09-13T05:39:18.512Z"
   },
   {
    "duration": 14,
    "start_time": "2021-09-13T05:39:18.522Z"
   },
   {
    "duration": 4,
    "start_time": "2021-09-13T05:39:18.537Z"
   },
   {
    "duration": 49,
    "start_time": "2021-09-13T05:39:18.543Z"
   },
   {
    "duration": 270,
    "start_time": "2021-09-13T05:39:18.594Z"
   },
   {
    "duration": 47465,
    "start_time": "2021-09-13T05:39:18.866Z"
   },
   {
    "duration": 48963,
    "start_time": "2021-09-13T05:40:06.333Z"
   },
   {
    "duration": 27281,
    "start_time": "2021-09-13T05:40:55.298Z"
   },
   {
    "duration": 10,
    "start_time": "2021-09-13T05:41:22.581Z"
   },
   {
    "duration": 1694,
    "start_time": "2021-09-13T05:41:22.594Z"
   },
   {
    "duration": 6,
    "start_time": "2021-09-13T05:41:24.290Z"
   },
   {
    "duration": 15,
    "start_time": "2021-09-13T05:41:24.297Z"
   },
   {
    "duration": 18,
    "start_time": "2021-09-13T05:41:24.313Z"
   },
   {
    "duration": 56,
    "start_time": "2021-09-13T05:41:24.332Z"
   },
   {
    "duration": 6,
    "start_time": "2021-09-13T05:41:24.389Z"
   },
   {
    "duration": 75529,
    "start_time": "2021-09-13T05:44:55.861Z"
   },
   {
    "duration": 9,
    "start_time": "2021-09-13T05:46:11.391Z"
   },
   {
    "duration": 18,
    "start_time": "2021-09-13T05:46:11.402Z"
   },
   {
    "duration": 139120,
    "start_time": "2021-09-13T05:46:48.066Z"
   },
   {
    "duration": 9,
    "start_time": "2021-09-13T05:49:07.188Z"
   },
   {
    "duration": 18,
    "start_time": "2021-09-13T05:49:07.199Z"
   },
   {
    "duration": 9624,
    "start_time": "2021-09-13T05:50:14.570Z"
   },
   {
    "duration": 10,
    "start_time": "2021-09-13T05:50:24.196Z"
   },
   {
    "duration": 83,
    "start_time": "2021-09-13T05:50:24.207Z"
   },
   {
    "duration": 14227,
    "start_time": "2021-09-13T05:53:59.963Z"
   },
   {
    "duration": 10,
    "start_time": "2021-09-13T05:54:14.192Z"
   },
   {
    "duration": 81,
    "start_time": "2021-09-13T05:54:14.204Z"
   },
   {
    "duration": 4,
    "start_time": "2021-09-13T05:56:38.930Z"
   },
   {
    "duration": 33,
    "start_time": "2021-09-13T05:56:38.936Z"
   },
   {
    "duration": 5,
    "start_time": "2021-09-13T05:56:38.971Z"
   },
   {
    "duration": 7,
    "start_time": "2021-09-13T05:56:38.978Z"
   },
   {
    "duration": 7,
    "start_time": "2021-09-13T05:56:38.987Z"
   },
   {
    "duration": 9,
    "start_time": "2021-09-13T05:56:38.996Z"
   },
   {
    "duration": 10,
    "start_time": "2021-09-13T05:56:39.006Z"
   },
   {
    "duration": 14,
    "start_time": "2021-09-13T05:56:39.018Z"
   },
   {
    "duration": 3,
    "start_time": "2021-09-13T05:56:39.035Z"
   },
   {
    "duration": 6,
    "start_time": "2021-09-13T05:56:39.039Z"
   },
   {
    "duration": 39,
    "start_time": "2021-09-13T05:56:39.047Z"
   },
   {
    "duration": 9,
    "start_time": "2021-09-13T05:56:39.087Z"
   },
   {
    "duration": 359,
    "start_time": "2021-09-13T05:56:39.097Z"
   },
   {
    "duration": 274,
    "start_time": "2021-09-13T05:56:39.458Z"
   },
   {
    "duration": 5,
    "start_time": "2021-09-13T05:56:39.734Z"
   },
   {
    "duration": 14,
    "start_time": "2021-09-13T05:56:39.741Z"
   },
   {
    "duration": 6,
    "start_time": "2021-09-13T05:56:39.757Z"
   },
   {
    "duration": 6,
    "start_time": "2021-09-13T05:56:39.784Z"
   },
   {
    "duration": 296,
    "start_time": "2021-09-13T05:56:39.792Z"
   },
   {
    "duration": 578,
    "start_time": "2021-09-13T05:56:39.514Z"
   },
   {
    "duration": 574,
    "start_time": "2021-09-13T05:56:39.519Z"
   },
   {
    "duration": 572,
    "start_time": "2021-09-13T05:56:39.523Z"
   },
   {
    "duration": 569,
    "start_time": "2021-09-13T05:56:39.527Z"
   },
   {
    "duration": 567,
    "start_time": "2021-09-13T05:56:39.530Z"
   },
   {
    "duration": 566,
    "start_time": "2021-09-13T05:56:39.533Z"
   },
   {
    "duration": 564,
    "start_time": "2021-09-13T05:56:39.536Z"
   },
   {
    "duration": 563,
    "start_time": "2021-09-13T05:56:39.539Z"
   },
   {
    "duration": 561,
    "start_time": "2021-09-13T05:56:39.542Z"
   },
   {
    "duration": 560,
    "start_time": "2021-09-13T05:56:39.545Z"
   },
   {
    "duration": 558,
    "start_time": "2021-09-13T05:56:39.548Z"
   },
   {
    "duration": 557,
    "start_time": "2021-09-13T05:56:39.550Z"
   },
   {
    "duration": 1123,
    "start_time": "2021-09-13T05:57:33.552Z"
   },
   {
    "duration": 31,
    "start_time": "2021-09-13T05:57:34.677Z"
   },
   {
    "duration": 9,
    "start_time": "2021-09-13T05:57:34.712Z"
   },
   {
    "duration": 12,
    "start_time": "2021-09-13T05:57:34.722Z"
   },
   {
    "duration": 10,
    "start_time": "2021-09-13T05:57:34.735Z"
   },
   {
    "duration": 11,
    "start_time": "2021-09-13T05:57:34.746Z"
   },
   {
    "duration": 8,
    "start_time": "2021-09-13T05:57:34.759Z"
   },
   {
    "duration": 28,
    "start_time": "2021-09-13T05:57:34.768Z"
   },
   {
    "duration": 3,
    "start_time": "2021-09-13T05:57:34.798Z"
   },
   {
    "duration": 5,
    "start_time": "2021-09-13T05:57:34.803Z"
   },
   {
    "duration": 15,
    "start_time": "2021-09-13T05:57:34.810Z"
   },
   {
    "duration": 5,
    "start_time": "2021-09-13T05:57:34.826Z"
   },
   {
    "duration": 370,
    "start_time": "2021-09-13T05:57:34.833Z"
   },
   {
    "duration": 284,
    "start_time": "2021-09-13T05:57:35.205Z"
   },
   {
    "duration": 4,
    "start_time": "2021-09-13T05:57:35.491Z"
   },
   {
    "duration": 38,
    "start_time": "2021-09-13T05:57:35.496Z"
   },
   {
    "duration": 12,
    "start_time": "2021-09-13T05:57:35.535Z"
   },
   {
    "duration": 29,
    "start_time": "2021-09-13T05:57:35.548Z"
   },
   {
    "duration": 301,
    "start_time": "2021-09-13T05:57:35.578Z"
   },
   {
    "duration": 569,
    "start_time": "2021-09-13T05:57:35.312Z"
   },
   {
    "duration": 564,
    "start_time": "2021-09-13T05:57:35.318Z"
   },
   {
    "duration": 555,
    "start_time": "2021-09-13T05:57:35.328Z"
   },
   {
    "duration": 549,
    "start_time": "2021-09-13T05:57:35.335Z"
   },
   {
    "duration": 533,
    "start_time": "2021-09-13T05:57:35.352Z"
   },
   {
    "duration": 527,
    "start_time": "2021-09-13T05:57:35.359Z"
   },
   {
    "duration": 519,
    "start_time": "2021-09-13T05:57:35.367Z"
   },
   {
    "duration": 514,
    "start_time": "2021-09-13T05:57:35.373Z"
   },
   {
    "duration": 505,
    "start_time": "2021-09-13T05:57:35.383Z"
   },
   {
    "duration": 497,
    "start_time": "2021-09-13T05:57:35.392Z"
   },
   {
    "duration": 487,
    "start_time": "2021-09-13T05:57:35.402Z"
   },
   {
    "duration": 482,
    "start_time": "2021-09-13T05:57:35.408Z"
   },
   {
    "duration": 12,
    "start_time": "2021-09-13T05:58:34.978Z"
   },
   {
    "duration": 190,
    "start_time": "2021-09-13T05:59:12.718Z"
   },
   {
    "duration": 4,
    "start_time": "2021-09-13T05:59:47.107Z"
   },
   {
    "duration": 52,
    "start_time": "2021-09-13T05:59:47.113Z"
   },
   {
    "duration": 7,
    "start_time": "2021-09-13T05:59:47.167Z"
   },
   {
    "duration": 16,
    "start_time": "2021-09-13T05:59:47.177Z"
   },
   {
    "duration": 21,
    "start_time": "2021-09-13T05:59:47.196Z"
   },
   {
    "duration": 18,
    "start_time": "2021-09-13T05:59:47.219Z"
   },
   {
    "duration": 23,
    "start_time": "2021-09-13T05:59:47.239Z"
   },
   {
    "duration": 31,
    "start_time": "2021-09-13T05:59:47.263Z"
   },
   {
    "duration": 5,
    "start_time": "2021-09-13T05:59:47.297Z"
   },
   {
    "duration": 26,
    "start_time": "2021-09-13T05:59:47.304Z"
   },
   {
    "duration": 190,
    "start_time": "2021-09-13T05:59:47.332Z"
   },
   {
    "duration": 490,
    "start_time": "2021-09-13T05:59:47.034Z"
   },
   {
    "duration": 487,
    "start_time": "2021-09-13T05:59:47.038Z"
   },
   {
    "duration": 483,
    "start_time": "2021-09-13T05:59:47.043Z"
   },
   {
    "duration": 480,
    "start_time": "2021-09-13T05:59:47.046Z"
   },
   {
    "duration": 477,
    "start_time": "2021-09-13T05:59:47.050Z"
   },
   {
    "duration": 475,
    "start_time": "2021-09-13T05:59:47.053Z"
   },
   {
    "duration": 473,
    "start_time": "2021-09-13T05:59:47.056Z"
   },
   {
    "duration": 471,
    "start_time": "2021-09-13T05:59:47.059Z"
   },
   {
    "duration": 470,
    "start_time": "2021-09-13T05:59:47.061Z"
   },
   {
    "duration": 467,
    "start_time": "2021-09-13T05:59:47.065Z"
   },
   {
    "duration": 465,
    "start_time": "2021-09-13T05:59:47.068Z"
   },
   {
    "duration": 462,
    "start_time": "2021-09-13T05:59:47.072Z"
   },
   {
    "duration": 459,
    "start_time": "2021-09-13T05:59:47.076Z"
   },
   {
    "duration": 456,
    "start_time": "2021-09-13T05:59:47.080Z"
   },
   {
    "duration": 453,
    "start_time": "2021-09-13T05:59:47.084Z"
   },
   {
    "duration": 450,
    "start_time": "2021-09-13T05:59:47.087Z"
   },
   {
    "duration": 448,
    "start_time": "2021-09-13T05:59:47.090Z"
   },
   {
    "duration": 446,
    "start_time": "2021-09-13T05:59:47.093Z"
   },
   {
    "duration": 435,
    "start_time": "2021-09-13T05:59:47.105Z"
   },
   {
    "duration": 432,
    "start_time": "2021-09-13T05:59:47.109Z"
   },
   {
    "duration": 432,
    "start_time": "2021-09-13T05:59:47.111Z"
   },
   {
    "duration": 4,
    "start_time": "2021-09-13T06:02:53.565Z"
   },
   {
    "duration": 50,
    "start_time": "2021-09-13T06:02:53.571Z"
   },
   {
    "duration": 6,
    "start_time": "2021-09-13T06:02:53.623Z"
   },
   {
    "duration": 16,
    "start_time": "2021-09-13T06:02:53.631Z"
   },
   {
    "duration": 15,
    "start_time": "2021-09-13T06:02:53.648Z"
   },
   {
    "duration": 20,
    "start_time": "2021-09-13T06:02:53.664Z"
   },
   {
    "duration": 18,
    "start_time": "2021-09-13T06:02:53.685Z"
   },
   {
    "duration": 27,
    "start_time": "2021-09-13T06:02:53.704Z"
   },
   {
    "duration": 3,
    "start_time": "2021-09-13T06:02:53.734Z"
   },
   {
    "duration": 18,
    "start_time": "2021-09-13T06:02:53.739Z"
   },
   {
    "duration": 17,
    "start_time": "2021-09-13T06:02:53.758Z"
   },
   {
    "duration": 11,
    "start_time": "2021-09-13T06:02:53.777Z"
   },
   {
    "duration": 345,
    "start_time": "2021-09-13T06:02:53.790Z"
   },
   {
    "duration": 331,
    "start_time": "2021-09-13T06:02:54.136Z"
   },
   {
    "duration": 4,
    "start_time": "2021-09-13T06:02:54.469Z"
   },
   {
    "duration": 23,
    "start_time": "2021-09-13T06:02:54.475Z"
   },
   {
    "duration": 6,
    "start_time": "2021-09-13T06:02:54.500Z"
   },
   {
    "duration": 6,
    "start_time": "2021-09-13T06:02:54.507Z"
   },
   {
    "duration": 172,
    "start_time": "2021-09-13T06:02:54.514Z"
   },
   {
    "duration": 584,
    "start_time": "2021-09-13T06:02:54.104Z"
   },
   {
    "duration": 581,
    "start_time": "2021-09-13T06:02:54.108Z"
   },
   {
    "duration": 577,
    "start_time": "2021-09-13T06:02:54.113Z"
   },
   {
    "duration": 575,
    "start_time": "2021-09-13T06:02:54.116Z"
   },
   {
    "duration": 571,
    "start_time": "2021-09-13T06:02:54.120Z"
   },
   {
    "duration": 567,
    "start_time": "2021-09-13T06:02:54.125Z"
   },
   {
    "duration": 565,
    "start_time": "2021-09-13T06:02:54.128Z"
   },
   {
    "duration": 561,
    "start_time": "2021-09-13T06:02:54.133Z"
   },
   {
    "duration": 558,
    "start_time": "2021-09-13T06:02:54.137Z"
   },
   {
    "duration": 556,
    "start_time": "2021-09-13T06:02:54.140Z"
   },
   {
    "duration": 553,
    "start_time": "2021-09-13T06:02:54.144Z"
   },
   {
    "duration": 551,
    "start_time": "2021-09-13T06:02:54.147Z"
   },
   {
    "duration": 548,
    "start_time": "2021-09-13T06:02:54.151Z"
   },
   {
    "duration": 4,
    "start_time": "2021-09-13T06:03:10.237Z"
   },
   {
    "duration": 40,
    "start_time": "2021-09-13T06:03:10.242Z"
   },
   {
    "duration": 6,
    "start_time": "2021-09-13T06:03:10.284Z"
   },
   {
    "duration": 15,
    "start_time": "2021-09-13T06:03:10.291Z"
   },
   {
    "duration": 15,
    "start_time": "2021-09-13T06:03:10.308Z"
   },
   {
    "duration": 15,
    "start_time": "2021-09-13T06:03:10.324Z"
   },
   {
    "duration": 19,
    "start_time": "2021-09-13T06:03:10.341Z"
   },
   {
    "duration": 17,
    "start_time": "2021-09-13T06:03:10.362Z"
   },
   {
    "duration": 4,
    "start_time": "2021-09-13T06:03:10.382Z"
   },
   {
    "duration": 5,
    "start_time": "2021-09-13T06:03:10.389Z"
   },
   {
    "duration": 8,
    "start_time": "2021-09-13T06:03:10.395Z"
   },
   {
    "duration": 6,
    "start_time": "2021-09-13T06:03:10.404Z"
   },
   {
    "duration": 376,
    "start_time": "2021-09-13T06:03:10.411Z"
   },
   {
    "duration": 270,
    "start_time": "2021-09-13T06:03:10.788Z"
   },
   {
    "duration": 4,
    "start_time": "2021-09-13T06:03:11.059Z"
   },
   {
    "duration": 22,
    "start_time": "2021-09-13T06:03:11.065Z"
   },
   {
    "duration": 5,
    "start_time": "2021-09-13T06:03:11.088Z"
   },
   {
    "duration": 6,
    "start_time": "2021-09-13T06:03:11.094Z"
   },
   {
    "duration": 178,
    "start_time": "2021-09-13T06:03:11.102Z"
   },
   {
    "duration": 567,
    "start_time": "2021-09-13T06:03:10.715Z"
   },
   {
    "duration": 562,
    "start_time": "2021-09-13T06:03:10.721Z"
   },
   {
    "duration": 560,
    "start_time": "2021-09-13T06:03:10.724Z"
   },
   {
    "duration": 558,
    "start_time": "2021-09-13T06:03:10.727Z"
   },
   {
    "duration": 554,
    "start_time": "2021-09-13T06:03:10.732Z"
   },
   {
    "duration": 553,
    "start_time": "2021-09-13T06:03:10.734Z"
   },
   {
    "duration": 550,
    "start_time": "2021-09-13T06:03:10.737Z"
   },
   {
    "duration": 548,
    "start_time": "2021-09-13T06:03:10.740Z"
   },
   {
    "duration": 546,
    "start_time": "2021-09-13T06:03:10.743Z"
   },
   {
    "duration": 544,
    "start_time": "2021-09-13T06:03:10.746Z"
   },
   {
    "duration": 542,
    "start_time": "2021-09-13T06:03:10.749Z"
   },
   {
    "duration": 540,
    "start_time": "2021-09-13T06:03:10.752Z"
   },
   {
    "duration": 3,
    "start_time": "2021-09-13T06:03:28.396Z"
   },
   {
    "duration": 36,
    "start_time": "2021-09-13T06:03:28.401Z"
   },
   {
    "duration": 6,
    "start_time": "2021-09-13T06:03:28.439Z"
   },
   {
    "duration": 9,
    "start_time": "2021-09-13T06:03:28.446Z"
   },
   {
    "duration": 11,
    "start_time": "2021-09-13T06:03:28.456Z"
   },
   {
    "duration": 8,
    "start_time": "2021-09-13T06:03:28.468Z"
   },
   {
    "duration": 11,
    "start_time": "2021-09-13T06:03:28.478Z"
   },
   {
    "duration": 13,
    "start_time": "2021-09-13T06:03:28.491Z"
   },
   {
    "duration": 3,
    "start_time": "2021-09-13T06:03:28.507Z"
   },
   {
    "duration": 7,
    "start_time": "2021-09-13T06:03:28.512Z"
   },
   {
    "duration": 9,
    "start_time": "2021-09-13T06:03:28.521Z"
   },
   {
    "duration": 6,
    "start_time": "2021-09-13T06:03:28.531Z"
   },
   {
    "duration": 374,
    "start_time": "2021-09-13T06:03:28.538Z"
   },
   {
    "duration": 273,
    "start_time": "2021-09-13T06:03:28.914Z"
   },
   {
    "duration": 4,
    "start_time": "2021-09-13T06:03:29.189Z"
   },
   {
    "duration": 16,
    "start_time": "2021-09-13T06:03:29.194Z"
   },
   {
    "duration": 5,
    "start_time": "2021-09-13T06:03:29.212Z"
   },
   {
    "duration": 5,
    "start_time": "2021-09-13T06:03:29.218Z"
   },
   {
    "duration": 175,
    "start_time": "2021-09-13T06:03:29.225Z"
   },
   {
    "duration": 595,
    "start_time": "2021-09-13T06:03:28.807Z"
   },
   {
    "duration": 593,
    "start_time": "2021-09-13T06:03:28.810Z"
   },
   {
    "duration": 591,
    "start_time": "2021-09-13T06:03:28.813Z"
   },
   {
    "duration": 590,
    "start_time": "2021-09-13T06:03:28.815Z"
   },
   {
    "duration": 589,
    "start_time": "2021-09-13T06:03:28.818Z"
   },
   {
    "duration": 587,
    "start_time": "2021-09-13T06:03:28.821Z"
   },
   {
    "duration": 585,
    "start_time": "2021-09-13T06:03:28.824Z"
   },
   {
    "duration": 584,
    "start_time": "2021-09-13T06:03:28.826Z"
   },
   {
    "duration": 582,
    "start_time": "2021-09-13T06:03:28.829Z"
   },
   {
    "duration": 580,
    "start_time": "2021-09-13T06:03:28.832Z"
   },
   {
    "duration": 579,
    "start_time": "2021-09-13T06:03:28.834Z"
   },
   {
    "duration": 578,
    "start_time": "2021-09-13T06:03:28.837Z"
   },
   {
    "duration": 5,
    "start_time": "2021-09-13T06:05:14.470Z"
   },
   {
    "duration": 56,
    "start_time": "2021-09-13T06:05:14.477Z"
   },
   {
    "duration": 6,
    "start_time": "2021-09-13T06:05:14.536Z"
   },
   {
    "duration": 28,
    "start_time": "2021-09-13T06:05:14.544Z"
   },
   {
    "duration": 20,
    "start_time": "2021-09-13T06:05:14.574Z"
   },
   {
    "duration": 28,
    "start_time": "2021-09-13T06:05:14.596Z"
   },
   {
    "duration": 21,
    "start_time": "2021-09-13T06:05:14.625Z"
   },
   {
    "duration": 29,
    "start_time": "2021-09-13T06:05:14.647Z"
   },
   {
    "duration": 17,
    "start_time": "2021-09-13T06:05:14.678Z"
   },
   {
    "duration": 16,
    "start_time": "2021-09-13T06:05:14.697Z"
   },
   {
    "duration": 22,
    "start_time": "2021-09-13T06:05:14.715Z"
   },
   {
    "duration": 19,
    "start_time": "2021-09-13T06:05:14.739Z"
   },
   {
    "duration": 367,
    "start_time": "2021-09-13T06:05:14.759Z"
   },
   {
    "duration": 284,
    "start_time": "2021-09-13T06:05:15.128Z"
   },
   {
    "duration": 3,
    "start_time": "2021-09-13T06:05:15.414Z"
   },
   {
    "duration": 54,
    "start_time": "2021-09-13T06:05:15.419Z"
   },
   {
    "duration": 6,
    "start_time": "2021-09-13T06:05:15.475Z"
   },
   {
    "duration": 23,
    "start_time": "2021-09-13T06:05:15.483Z"
   },
   {
    "duration": 20,
    "start_time": "2021-09-13T06:05:15.507Z"
   },
   {
    "duration": 16,
    "start_time": "2021-09-13T06:05:15.528Z"
   },
   {
    "duration": 139,
    "start_time": "2021-09-13T06:05:15.546Z"
   },
   {
    "duration": 429,
    "start_time": "2021-09-13T06:05:15.688Z"
   },
   {
    "duration": 130088,
    "start_time": "2021-09-13T06:05:16.119Z"
   },
   {
    "duration": 69280,
    "start_time": "2021-09-13T06:07:26.209Z"
   },
   {
    "duration": 47886,
    "start_time": "2021-09-13T06:08:35.490Z"
   },
   {
    "duration": 10,
    "start_time": "2021-09-13T06:09:23.378Z"
   },
   {
    "duration": 13,
    "start_time": "2021-09-13T06:09:23.391Z"
   },
   {
    "duration": 98,
    "start_time": "2021-09-13T06:09:23.487Z"
   },
   {
    "duration": 20,
    "start_time": "2021-09-13T06:09:23.587Z"
   },
   {
    "duration": 15,
    "start_time": "2021-09-13T06:09:23.608Z"
   },
   {
    "duration": 33,
    "start_time": "2021-09-13T06:09:23.624Z"
   },
   {
    "duration": 3,
    "start_time": "2021-09-13T06:11:11.759Z"
   },
   {
    "duration": 6,
    "start_time": "2021-09-13T06:17:10.080Z"
   },
   {
    "duration": 6,
    "start_time": "2021-09-13T06:17:35.539Z"
   },
   {
    "duration": 33,
    "start_time": "2021-09-13T06:17:35.547Z"
   },
   {
    "duration": 6,
    "start_time": "2021-09-13T06:17:35.582Z"
   },
   {
    "duration": 9,
    "start_time": "2021-09-13T06:17:35.590Z"
   },
   {
    "duration": 11,
    "start_time": "2021-09-13T06:17:35.600Z"
   },
   {
    "duration": 9,
    "start_time": "2021-09-13T06:17:35.612Z"
   },
   {
    "duration": 13,
    "start_time": "2021-09-13T06:17:35.622Z"
   },
   {
    "duration": 15,
    "start_time": "2021-09-13T06:17:35.638Z"
   },
   {
    "duration": 29,
    "start_time": "2021-09-13T06:17:35.655Z"
   },
   {
    "duration": 3,
    "start_time": "2021-09-13T06:17:35.686Z"
   },
   {
    "duration": 11,
    "start_time": "2021-09-13T06:17:35.691Z"
   },
   {
    "duration": 5,
    "start_time": "2021-09-13T06:17:35.703Z"
   },
   {
    "duration": 360,
    "start_time": "2021-09-13T06:17:35.710Z"
   },
   {
    "duration": 276,
    "start_time": "2021-09-13T06:17:36.072Z"
   },
   {
    "duration": 4,
    "start_time": "2021-09-13T06:17:36.349Z"
   },
   {
    "duration": 34,
    "start_time": "2021-09-13T06:17:36.354Z"
   },
   {
    "duration": 5,
    "start_time": "2021-09-13T06:17:36.390Z"
   },
   {
    "duration": 7,
    "start_time": "2021-09-13T06:17:36.397Z"
   },
   {
    "duration": 6,
    "start_time": "2021-09-13T06:17:36.405Z"
   },
   {
    "duration": 4,
    "start_time": "2021-09-13T06:17:36.413Z"
   },
   {
    "duration": 71,
    "start_time": "2021-09-13T06:17:36.419Z"
   },
   {
    "duration": 424,
    "start_time": "2021-09-13T06:17:36.493Z"
   },
   {
    "duration": 130083,
    "start_time": "2021-09-13T06:17:36.920Z"
   },
   {
    "duration": 67893,
    "start_time": "2021-09-13T06:19:47.005Z"
   },
   {
    "duration": 48351,
    "start_time": "2021-09-13T06:20:54.900Z"
   },
   {
    "duration": 9,
    "start_time": "2021-09-13T06:21:43.253Z"
   },
   {
    "duration": 5,
    "start_time": "2021-09-13T06:21:43.264Z"
   },
   {
    "duration": 7,
    "start_time": "2021-09-13T06:21:43.271Z"
   },
   {
    "duration": 9,
    "start_time": "2021-09-13T06:21:43.281Z"
   },
   {
    "duration": 105,
    "start_time": "2021-09-13T06:21:43.292Z"
   },
   {
    "duration": 97,
    "start_time": "2021-09-13T06:21:43.399Z"
   },
   {
    "duration": 7,
    "start_time": "2021-09-13T06:21:43.498Z"
   },
   {
    "duration": 11,
    "start_time": "2021-09-13T06:21:43.507Z"
   },
   {
    "duration": 1165,
    "start_time": "2021-09-13T06:55:54.388Z"
   },
   {
    "duration": 33,
    "start_time": "2021-09-13T06:55:55.555Z"
   },
   {
    "duration": 11,
    "start_time": "2021-09-13T06:55:55.590Z"
   },
   {
    "duration": 10,
    "start_time": "2021-09-13T06:55:55.603Z"
   },
   {
    "duration": 10,
    "start_time": "2021-09-13T06:55:55.614Z"
   },
   {
    "duration": 8,
    "start_time": "2021-09-13T06:55:55.625Z"
   },
   {
    "duration": 51,
    "start_time": "2021-09-13T06:55:55.635Z"
   },
   {
    "duration": 4,
    "start_time": "2021-09-13T06:55:55.689Z"
   },
   {
    "duration": 7,
    "start_time": "2021-09-13T06:55:55.695Z"
   },
   {
    "duration": 10,
    "start_time": "2021-09-13T06:55:55.704Z"
   },
   {
    "duration": 7,
    "start_time": "2021-09-13T06:55:55.715Z"
   },
   {
    "duration": 387,
    "start_time": "2021-09-13T06:55:55.723Z"
   },
   {
    "duration": 283,
    "start_time": "2021-09-13T06:55:56.112Z"
   },
   {
    "duration": 5,
    "start_time": "2021-09-13T06:55:56.397Z"
   },
   {
    "duration": 30,
    "start_time": "2021-09-13T06:55:56.404Z"
   },
   {
    "duration": 7,
    "start_time": "2021-09-13T06:55:56.436Z"
   },
   {
    "duration": 7,
    "start_time": "2021-09-13T06:55:56.444Z"
   },
   {
    "duration": 6,
    "start_time": "2021-09-13T06:55:56.453Z"
   },
   {
    "duration": 24,
    "start_time": "2021-09-13T06:55:56.461Z"
   },
   {
    "duration": 15,
    "start_time": "2021-09-13T06:55:56.486Z"
   },
   {
    "duration": 491,
    "start_time": "2021-09-13T06:55:56.503Z"
   },
   {
    "duration": 130152,
    "start_time": "2021-09-13T06:55:56.996Z"
   },
   {
    "duration": 69336,
    "start_time": "2021-09-13T06:58:07.151Z"
   },
   {
    "duration": 47522,
    "start_time": "2021-09-13T06:59:16.489Z"
   },
   {
    "duration": 10,
    "start_time": "2021-09-13T07:00:04.012Z"
   },
   {
    "duration": 23,
    "start_time": "2021-09-13T07:00:04.023Z"
   },
   {
    "duration": 16,
    "start_time": "2021-09-13T07:00:04.047Z"
   },
   {
    "duration": 131,
    "start_time": "2021-09-13T07:00:04.065Z"
   },
   {
    "duration": 36,
    "start_time": "2021-09-13T07:00:04.198Z"
   },
   {
    "duration": 16,
    "start_time": "2021-09-13T07:00:04.236Z"
   },
   {
    "duration": 31,
    "start_time": "2021-09-13T07:00:04.258Z"
   },
   {
    "duration": 12,
    "start_time": "2021-09-13T07:00:04.291Z"
   },
   {
    "duration": 1647,
    "start_time": "2021-09-14T06:34:26.297Z"
   },
   {
    "duration": 41,
    "start_time": "2021-09-14T06:34:27.946Z"
   },
   {
    "duration": 14,
    "start_time": "2021-09-14T06:34:27.990Z"
   },
   {
    "duration": 20,
    "start_time": "2021-09-14T06:34:28.006Z"
   },
   {
    "duration": 15,
    "start_time": "2021-09-14T06:34:28.029Z"
   },
   {
    "duration": 31,
    "start_time": "2021-09-14T06:34:28.046Z"
   },
   {
    "duration": 45,
    "start_time": "2021-09-14T06:34:28.080Z"
   },
   {
    "duration": 7,
    "start_time": "2021-09-14T06:34:28.128Z"
   },
   {
    "duration": 6,
    "start_time": "2021-09-14T06:34:28.141Z"
   },
   {
    "duration": 18,
    "start_time": "2021-09-14T06:34:28.151Z"
   },
   {
    "duration": 55,
    "start_time": "2021-09-14T06:34:28.173Z"
   },
   {
    "duration": 624,
    "start_time": "2021-09-14T06:34:28.231Z"
   },
   {
    "duration": 475,
    "start_time": "2021-09-14T06:34:28.858Z"
   },
   {
    "duration": 6,
    "start_time": "2021-09-14T06:34:29.335Z"
   },
   {
    "duration": 41,
    "start_time": "2021-09-14T06:34:29.343Z"
   },
   {
    "duration": 30,
    "start_time": "2021-09-14T06:34:29.387Z"
   },
   {
    "duration": 10,
    "start_time": "2021-09-14T06:34:29.419Z"
   },
   {
    "duration": 9,
    "start_time": "2021-09-14T06:34:29.432Z"
   },
   {
    "duration": 6,
    "start_time": "2021-09-14T06:34:29.444Z"
   },
   {
    "duration": 7,
    "start_time": "2021-09-14T06:34:29.453Z"
   },
   {
    "duration": 7,
    "start_time": "2021-09-14T06:34:29.462Z"
   },
   {
    "duration": 5,
    "start_time": "2021-09-14T06:34:29.518Z"
   },
   {
    "duration": 558,
    "start_time": "2021-09-14T06:34:29.526Z"
   },
   {
    "duration": 473,
    "start_time": "2021-09-14T06:34:29.614Z"
   },
   {
    "duration": 6,
    "start_time": "2021-09-14T06:37:38.707Z"
   },
   {
    "duration": 44,
    "start_time": "2021-09-14T06:37:38.716Z"
   },
   {
    "duration": 9,
    "start_time": "2021-09-14T06:37:38.763Z"
   },
   {
    "duration": 10,
    "start_time": "2021-09-14T06:37:38.775Z"
   },
   {
    "duration": 32,
    "start_time": "2021-09-14T06:37:38.788Z"
   },
   {
    "duration": 18,
    "start_time": "2021-09-14T06:37:38.867Z"
   },
   {
    "duration": 24,
    "start_time": "2021-09-14T06:37:38.889Z"
   },
   {
    "duration": 5,
    "start_time": "2021-09-14T06:37:38.917Z"
   },
   {
    "duration": 9,
    "start_time": "2021-09-14T06:37:38.924Z"
   },
   {
    "duration": 14,
    "start_time": "2021-09-14T06:37:38.935Z"
   },
   {
    "duration": 8,
    "start_time": "2021-09-14T06:37:38.951Z"
   },
   {
    "duration": 661,
    "start_time": "2021-09-14T06:37:38.975Z"
   },
   {
    "duration": 618,
    "start_time": "2021-09-14T06:37:39.639Z"
   },
   {
    "duration": 6,
    "start_time": "2021-09-14T06:37:40.260Z"
   },
   {
    "duration": 61,
    "start_time": "2021-09-14T06:37:40.268Z"
   },
   {
    "duration": 8,
    "start_time": "2021-09-14T06:37:40.332Z"
   },
   {
    "duration": 9,
    "start_time": "2021-09-14T06:37:40.343Z"
   },
   {
    "duration": 8,
    "start_time": "2021-09-14T06:37:40.356Z"
   },
   {
    "duration": 6,
    "start_time": "2021-09-14T06:37:40.367Z"
   },
   {
    "duration": 39,
    "start_time": "2021-09-14T06:37:40.377Z"
   },
   {
    "duration": 4,
    "start_time": "2021-09-14T06:37:40.419Z"
   },
   {
    "duration": 9,
    "start_time": "2021-09-14T06:37:40.425Z"
   },
   {
    "duration": 6,
    "start_time": "2021-09-14T06:37:40.437Z"
   },
   {
    "duration": 206077,
    "start_time": "2021-09-14T06:37:40.445Z"
   },
   {
    "duration": 468,
    "start_time": "2021-09-14T06:41:06.056Z"
   },
   {
    "duration": 5,
    "start_time": "2021-09-14T06:44:56.327Z"
   },
   {
    "duration": 42,
    "start_time": "2021-09-14T06:44:56.457Z"
   },
   {
    "duration": 10,
    "start_time": "2021-09-14T06:44:56.501Z"
   },
   {
    "duration": 14,
    "start_time": "2021-09-14T06:44:56.514Z"
   },
   {
    "duration": 19,
    "start_time": "2021-09-14T06:44:56.531Z"
   },
   {
    "duration": 18,
    "start_time": "2021-09-14T06:44:56.552Z"
   },
   {
    "duration": 45,
    "start_time": "2021-09-14T06:44:56.572Z"
   },
   {
    "duration": 6,
    "start_time": "2021-09-14T06:44:56.620Z"
   },
   {
    "duration": 8,
    "start_time": "2021-09-14T06:44:56.628Z"
   },
   {
    "duration": 23,
    "start_time": "2021-09-14T06:44:56.640Z"
   },
   {
    "duration": 23,
    "start_time": "2021-09-14T06:44:56.666Z"
   },
   {
    "duration": 631,
    "start_time": "2021-09-14T06:44:56.691Z"
   },
   {
    "duration": 450,
    "start_time": "2021-09-14T06:44:57.324Z"
   },
   {
    "duration": 5,
    "start_time": "2021-09-14T06:44:57.777Z"
   },
   {
    "duration": 58,
    "start_time": "2021-09-14T06:44:57.785Z"
   },
   {
    "duration": 8,
    "start_time": "2021-09-14T06:44:57.846Z"
   },
   {
    "duration": 9,
    "start_time": "2021-09-14T06:44:57.856Z"
   },
   {
    "duration": 7,
    "start_time": "2021-09-14T06:44:57.868Z"
   },
   {
    "duration": 11,
    "start_time": "2021-09-14T06:44:57.877Z"
   },
   {
    "duration": 27,
    "start_time": "2021-09-14T06:44:57.890Z"
   },
   {
    "duration": 3,
    "start_time": "2021-09-14T06:44:57.920Z"
   },
   {
    "duration": 8,
    "start_time": "2021-09-14T06:44:57.926Z"
   },
   {
    "duration": 6,
    "start_time": "2021-09-14T06:44:57.936Z"
   },
   {
    "duration": 200193,
    "start_time": "2021-09-14T06:44:57.945Z"
   },
   {
    "duration": 22,
    "start_time": "2021-09-14T06:48:18.141Z"
   },
   {
    "duration": 6,
    "start_time": "2021-09-14T06:52:39.724Z"
   },
   {
    "duration": 40,
    "start_time": "2021-09-14T06:52:39.848Z"
   },
   {
    "duration": 10,
    "start_time": "2021-09-14T06:52:39.891Z"
   },
   {
    "duration": 25,
    "start_time": "2021-09-14T06:52:39.903Z"
   },
   {
    "duration": 20,
    "start_time": "2021-09-14T06:52:39.930Z"
   },
   {
    "duration": 15,
    "start_time": "2021-09-14T06:52:39.952Z"
   },
   {
    "duration": 28,
    "start_time": "2021-09-14T06:52:39.969Z"
   },
   {
    "duration": 6,
    "start_time": "2021-09-14T06:52:40.018Z"
   },
   {
    "duration": 15,
    "start_time": "2021-09-14T06:52:40.027Z"
   },
   {
    "duration": 21,
    "start_time": "2021-09-14T06:52:40.045Z"
   },
   {
    "duration": 12,
    "start_time": "2021-09-14T06:52:40.068Z"
   },
   {
    "duration": 644,
    "start_time": "2021-09-14T06:52:40.083Z"
   },
   {
    "duration": 469,
    "start_time": "2021-09-14T06:52:40.730Z"
   },
   {
    "duration": 6,
    "start_time": "2021-09-14T06:52:41.202Z"
   },
   {
    "duration": 38,
    "start_time": "2021-09-14T06:52:41.217Z"
   },
   {
    "duration": 8,
    "start_time": "2021-09-14T06:52:41.257Z"
   },
   {
    "duration": 7,
    "start_time": "2021-09-14T06:52:41.268Z"
   },
   {
    "duration": 41,
    "start_time": "2021-09-14T06:52:41.277Z"
   },
   {
    "duration": 15,
    "start_time": "2021-09-14T06:52:41.320Z"
   },
   {
    "duration": 14,
    "start_time": "2021-09-14T06:52:41.338Z"
   },
   {
    "duration": 16,
    "start_time": "2021-09-14T06:52:41.354Z"
   },
   {
    "duration": 17,
    "start_time": "2021-09-14T06:52:41.372Z"
   },
   {
    "duration": 14,
    "start_time": "2021-09-14T06:52:41.391Z"
   },
   {
    "duration": 199447,
    "start_time": "2021-09-14T06:52:41.408Z"
   },
   {
    "duration": 58,
    "start_time": "2021-09-14T06:56:00.860Z"
   },
   {
    "duration": 6,
    "start_time": "2021-09-14T07:04:15.604Z"
   },
   {
    "duration": 47,
    "start_time": "2021-09-14T07:04:15.613Z"
   },
   {
    "duration": 9,
    "start_time": "2021-09-14T07:04:15.663Z"
   },
   {
    "duration": 13,
    "start_time": "2021-09-14T07:04:15.675Z"
   },
   {
    "duration": 34,
    "start_time": "2021-09-14T07:04:15.690Z"
   },
   {
    "duration": 23,
    "start_time": "2021-09-14T07:04:15.727Z"
   },
   {
    "duration": 24,
    "start_time": "2021-09-14T07:04:15.753Z"
   },
   {
    "duration": 5,
    "start_time": "2021-09-14T07:04:15.780Z"
   },
   {
    "duration": 29,
    "start_time": "2021-09-14T07:04:15.789Z"
   },
   {
    "duration": 14,
    "start_time": "2021-09-14T07:04:15.822Z"
   },
   {
    "duration": 11,
    "start_time": "2021-09-14T07:04:15.838Z"
   },
   {
    "duration": 660,
    "start_time": "2021-09-14T07:04:15.851Z"
   },
   {
    "duration": 469,
    "start_time": "2021-09-14T07:04:16.517Z"
   },
   {
    "duration": 6,
    "start_time": "2021-09-14T07:04:16.988Z"
   },
   {
    "duration": 50,
    "start_time": "2021-09-14T07:04:16.996Z"
   },
   {
    "duration": 8,
    "start_time": "2021-09-14T07:04:17.049Z"
   },
   {
    "duration": 7,
    "start_time": "2021-09-14T07:04:17.059Z"
   },
   {
    "duration": 8,
    "start_time": "2021-09-14T07:04:17.068Z"
   },
   {
    "duration": 38,
    "start_time": "2021-09-14T07:04:17.078Z"
   },
   {
    "duration": 13,
    "start_time": "2021-09-14T07:04:17.119Z"
   },
   {
    "duration": 7,
    "start_time": "2021-09-14T07:04:17.135Z"
   },
   {
    "duration": 6,
    "start_time": "2021-09-14T07:04:17.144Z"
   },
   {
    "duration": 9,
    "start_time": "2021-09-14T07:04:17.153Z"
   },
   {
    "duration": 199845,
    "start_time": "2021-09-14T07:04:17.164Z"
   },
   {
    "duration": 4,
    "start_time": "2021-09-14T07:07:37.012Z"
   },
   {
    "duration": 6,
    "start_time": "2021-09-14T07:44:47.098Z"
   },
   {
    "duration": 48,
    "start_time": "2021-09-14T07:44:47.107Z"
   },
   {
    "duration": 9,
    "start_time": "2021-09-14T07:44:47.158Z"
   },
   {
    "duration": 10,
    "start_time": "2021-09-14T07:44:47.169Z"
   },
   {
    "duration": 42,
    "start_time": "2021-09-14T07:44:47.182Z"
   },
   {
    "duration": 13,
    "start_time": "2021-09-14T07:44:47.227Z"
   },
   {
    "duration": 23,
    "start_time": "2021-09-14T07:44:47.242Z"
   },
   {
    "duration": 5,
    "start_time": "2021-09-14T07:44:47.269Z"
   },
   {
    "duration": 39,
    "start_time": "2021-09-14T07:44:47.277Z"
   },
   {
    "duration": 12,
    "start_time": "2021-09-14T07:44:47.319Z"
   },
   {
    "duration": 9,
    "start_time": "2021-09-14T07:44:47.333Z"
   },
   {
    "duration": 622,
    "start_time": "2021-09-14T07:44:47.344Z"
   },
   {
    "duration": 474,
    "start_time": "2021-09-14T07:44:47.969Z"
   },
   {
    "duration": 6,
    "start_time": "2021-09-14T07:44:48.445Z"
   },
   {
    "duration": 45,
    "start_time": "2021-09-14T07:44:48.453Z"
   },
   {
    "duration": 21,
    "start_time": "2021-09-14T07:44:48.500Z"
   },
   {
    "duration": 7,
    "start_time": "2021-09-14T07:44:48.524Z"
   },
   {
    "duration": 7,
    "start_time": "2021-09-14T07:44:48.534Z"
   },
   {
    "duration": 8,
    "start_time": "2021-09-14T07:44:48.544Z"
   },
   {
    "duration": 8,
    "start_time": "2021-09-14T07:44:48.554Z"
   },
   {
    "duration": 8,
    "start_time": "2021-09-14T07:44:48.564Z"
   },
   {
    "duration": 42,
    "start_time": "2021-09-14T07:44:48.574Z"
   },
   {
    "duration": 5,
    "start_time": "2021-09-14T07:44:48.621Z"
   },
   {
    "duration": 199954,
    "start_time": "2021-09-14T07:44:48.629Z"
   },
   {
    "duration": 526,
    "start_time": "2021-09-14T07:48:08.059Z"
   },
   {
    "duration": 6,
    "start_time": "2021-09-14T07:50:14.826Z"
   },
   {
    "duration": 6,
    "start_time": "2021-09-14T07:52:04.689Z"
   },
   {
    "duration": 45,
    "start_time": "2021-09-14T07:52:04.697Z"
   },
   {
    "duration": 9,
    "start_time": "2021-09-14T07:52:04.745Z"
   },
   {
    "duration": 20,
    "start_time": "2021-09-14T07:52:04.757Z"
   },
   {
    "duration": 13,
    "start_time": "2021-09-14T07:52:04.779Z"
   },
   {
    "duration": 12,
    "start_time": "2021-09-14T07:52:04.817Z"
   },
   {
    "duration": 23,
    "start_time": "2021-09-14T07:52:04.832Z"
   },
   {
    "duration": 6,
    "start_time": "2021-09-14T07:52:04.859Z"
   },
   {
    "duration": 9,
    "start_time": "2021-09-14T07:52:04.867Z"
   },
   {
    "duration": 12,
    "start_time": "2021-09-14T07:52:04.916Z"
   },
   {
    "duration": 8,
    "start_time": "2021-09-14T07:52:04.931Z"
   },
   {
    "duration": 718,
    "start_time": "2021-09-14T07:52:04.942Z"
   },
   {
    "duration": 462,
    "start_time": "2021-09-14T07:52:05.663Z"
   },
   {
    "duration": 6,
    "start_time": "2021-09-14T07:52:06.127Z"
   },
   {
    "duration": 43,
    "start_time": "2021-09-14T07:52:06.135Z"
   },
   {
    "duration": 8,
    "start_time": "2021-09-14T07:52:06.180Z"
   },
   {
    "duration": 32,
    "start_time": "2021-09-14T07:52:06.190Z"
   },
   {
    "duration": 14,
    "start_time": "2021-09-14T07:52:06.226Z"
   },
   {
    "duration": 5,
    "start_time": "2021-09-14T07:52:06.242Z"
   },
   {
    "duration": 9,
    "start_time": "2021-09-14T07:52:06.249Z"
   },
   {
    "duration": 19,
    "start_time": "2021-09-14T07:52:06.261Z"
   },
   {
    "duration": 12,
    "start_time": "2021-09-14T07:52:06.282Z"
   },
   {
    "duration": 14,
    "start_time": "2021-09-14T07:52:06.296Z"
   },
   {
    "duration": 202736,
    "start_time": "2021-09-14T07:52:06.313Z"
   },
   {
    "duration": 516,
    "start_time": "2021-09-14T07:55:28.536Z"
   },
   {
    "duration": 8,
    "start_time": "2021-09-14T08:01:39.557Z"
   },
   {
    "duration": 6,
    "start_time": "2021-09-14T08:02:45.787Z"
   },
   {
    "duration": 693,
    "start_time": "2021-09-14T08:02:45.795Z"
   },
   {
    "duration": 11,
    "start_time": "2021-09-14T08:02:46.492Z"
   },
   {
    "duration": 13,
    "start_time": "2021-09-14T08:02:46.506Z"
   },
   {
    "duration": 15,
    "start_time": "2021-09-14T08:02:46.522Z"
   },
   {
    "duration": 13,
    "start_time": "2021-09-14T08:02:46.540Z"
   },
   {
    "duration": 24,
    "start_time": "2021-09-14T08:02:46.556Z"
   },
   {
    "duration": 6,
    "start_time": "2021-09-14T08:02:46.617Z"
   },
   {
    "duration": 7,
    "start_time": "2021-09-14T08:02:46.626Z"
   },
   {
    "duration": 11,
    "start_time": "2021-09-14T08:02:46.636Z"
   },
   {
    "duration": 8,
    "start_time": "2021-09-14T08:02:46.650Z"
   },
   {
    "duration": 646,
    "start_time": "2021-09-14T08:02:46.661Z"
   },
   {
    "duration": 454,
    "start_time": "2021-09-14T08:02:47.317Z"
   },
   {
    "duration": 6,
    "start_time": "2021-09-14T08:02:47.773Z"
   },
   {
    "duration": 57,
    "start_time": "2021-09-14T08:02:47.781Z"
   },
   {
    "duration": 8,
    "start_time": "2021-09-14T08:02:47.840Z"
   },
   {
    "duration": 9,
    "start_time": "2021-09-14T08:02:47.851Z"
   },
   {
    "duration": 7,
    "start_time": "2021-09-14T08:02:47.863Z"
   },
   {
    "duration": 7,
    "start_time": "2021-09-14T08:02:47.873Z"
   },
   {
    "duration": 5,
    "start_time": "2021-09-14T08:02:47.918Z"
   },
   {
    "duration": 7,
    "start_time": "2021-09-14T08:02:47.925Z"
   },
   {
    "duration": 7,
    "start_time": "2021-09-14T08:02:47.934Z"
   },
   {
    "duration": 7,
    "start_time": "2021-09-14T08:02:47.945Z"
   },
   {
    "duration": 199596,
    "start_time": "2021-09-14T08:02:47.954Z"
   },
   {
    "duration": 6,
    "start_time": "2021-09-14T08:07:32.086Z"
   },
   {
    "duration": 52,
    "start_time": "2021-09-14T08:07:32.095Z"
   },
   {
    "duration": 10,
    "start_time": "2021-09-14T08:07:32.150Z"
   },
   {
    "duration": 15,
    "start_time": "2021-09-14T08:07:32.162Z"
   },
   {
    "duration": 15,
    "start_time": "2021-09-14T08:07:32.180Z"
   },
   {
    "duration": 13,
    "start_time": "2021-09-14T08:07:32.215Z"
   },
   {
    "duration": 24,
    "start_time": "2021-09-14T08:07:32.970Z"
   },
   {
    "duration": 5,
    "start_time": "2021-09-14T08:07:32.997Z"
   },
   {
    "duration": 9,
    "start_time": "2021-09-14T08:07:33.005Z"
   },
   {
    "duration": 15,
    "start_time": "2021-09-14T08:07:34.270Z"
   },
   {
    "duration": 11,
    "start_time": "2021-09-14T08:07:34.288Z"
   },
   {
    "duration": 687,
    "start_time": "2021-09-14T08:07:34.303Z"
   },
   {
    "duration": 462,
    "start_time": "2021-09-14T08:07:34.993Z"
   },
   {
    "duration": 6,
    "start_time": "2021-09-14T08:07:35.457Z"
   },
   {
    "duration": 56,
    "start_time": "2021-09-14T08:07:35.466Z"
   },
   {
    "duration": 9,
    "start_time": "2021-09-14T08:07:35.525Z"
   },
   {
    "duration": 15,
    "start_time": "2021-09-14T08:07:35.536Z"
   },
   {
    "duration": 7,
    "start_time": "2021-09-14T08:07:35.554Z"
   },
   {
    "duration": 8,
    "start_time": "2021-09-14T08:07:35.564Z"
   },
   {
    "duration": 16,
    "start_time": "2021-09-14T08:07:35.575Z"
   },
   {
    "duration": 23,
    "start_time": "2021-09-14T08:07:35.593Z"
   },
   {
    "duration": 10,
    "start_time": "2021-09-14T08:07:35.618Z"
   },
   {
    "duration": 13,
    "start_time": "2021-09-14T08:07:35.631Z"
   },
   {
    "duration": 199364,
    "start_time": "2021-09-14T08:07:35.647Z"
   },
   {
    "duration": 6,
    "start_time": "2021-09-14T08:12:27.046Z"
   },
   {
    "duration": 46,
    "start_time": "2021-09-14T08:12:27.055Z"
   },
   {
    "duration": 9,
    "start_time": "2021-09-14T08:12:27.104Z"
   },
   {
    "duration": 12,
    "start_time": "2021-09-14T08:12:27.116Z"
   },
   {
    "duration": 12,
    "start_time": "2021-09-14T08:12:27.130Z"
   },
   {
    "duration": 14,
    "start_time": "2021-09-14T08:12:27.145Z"
   },
   {
    "duration": 61,
    "start_time": "2021-09-14T08:12:27.161Z"
   },
   {
    "duration": 4,
    "start_time": "2021-09-14T08:12:27.225Z"
   },
   {
    "duration": 12,
    "start_time": "2021-09-14T08:12:27.233Z"
   },
   {
    "duration": 20,
    "start_time": "2021-09-14T08:12:27.247Z"
   },
   {
    "duration": 22,
    "start_time": "2021-09-14T08:12:27.269Z"
   },
   {
    "duration": 702,
    "start_time": "2021-09-14T08:12:27.294Z"
   },
   {
    "duration": 471,
    "start_time": "2021-09-14T08:12:27.999Z"
   },
   {
    "duration": 6,
    "start_time": "2021-09-14T08:12:28.473Z"
   },
   {
    "duration": 62,
    "start_time": "2021-09-14T08:12:28.481Z"
   },
   {
    "duration": 8,
    "start_time": "2021-09-14T08:12:28.545Z"
   },
   {
    "duration": 8,
    "start_time": "2021-09-14T08:12:28.557Z"
   },
   {
    "duration": 7,
    "start_time": "2021-09-14T08:12:28.567Z"
   },
   {
    "duration": 14,
    "start_time": "2021-09-14T08:12:28.577Z"
   },
   {
    "duration": 22,
    "start_time": "2021-09-14T08:12:28.594Z"
   },
   {
    "duration": 4,
    "start_time": "2021-09-14T08:12:28.619Z"
   },
   {
    "duration": 8,
    "start_time": "2021-09-14T08:12:28.625Z"
   },
   {
    "duration": 13,
    "start_time": "2021-09-14T08:12:28.636Z"
   },
   {
    "duration": 199328,
    "start_time": "2021-09-14T08:12:28.652Z"
   },
   {
    "duration": 5,
    "start_time": "2021-09-14T08:22:21.738Z"
   },
   {
    "duration": 51,
    "start_time": "2021-09-14T08:22:21.746Z"
   },
   {
    "duration": 9,
    "start_time": "2021-09-14T08:22:21.800Z"
   },
   {
    "duration": 20,
    "start_time": "2021-09-14T08:22:21.812Z"
   },
   {
    "duration": 16,
    "start_time": "2021-09-14T08:22:21.835Z"
   },
   {
    "duration": 20,
    "start_time": "2021-09-14T08:22:21.854Z"
   },
   {
    "duration": 26,
    "start_time": "2021-09-14T08:22:21.877Z"
   },
   {
    "duration": 6,
    "start_time": "2021-09-14T08:22:21.917Z"
   },
   {
    "duration": 8,
    "start_time": "2021-09-14T08:22:21.929Z"
   },
   {
    "duration": 15,
    "start_time": "2021-09-14T08:22:21.941Z"
   },
   {
    "duration": 14,
    "start_time": "2021-09-14T08:22:21.958Z"
   },
   {
    "duration": 653,
    "start_time": "2021-09-14T08:22:21.974Z"
   },
   {
    "duration": 472,
    "start_time": "2021-09-14T08:22:22.630Z"
   },
   {
    "duration": 16,
    "start_time": "2021-09-14T08:22:23.105Z"
   },
   {
    "duration": 49,
    "start_time": "2021-09-14T08:22:23.124Z"
   },
   {
    "duration": 11,
    "start_time": "2021-09-14T08:22:23.176Z"
   },
   {
    "duration": 28,
    "start_time": "2021-09-14T08:22:23.189Z"
   },
   {
    "duration": 44,
    "start_time": "2021-09-14T08:22:23.220Z"
   },
   {
    "duration": 99,
    "start_time": "2021-09-14T08:22:23.266Z"
   },
   {
    "duration": 47,
    "start_time": "2021-09-14T08:22:23.368Z"
   },
   {
    "duration": 104,
    "start_time": "2021-09-14T08:22:23.417Z"
   },
   {
    "duration": 16,
    "start_time": "2021-09-14T08:22:23.524Z"
   },
   {
    "duration": 23,
    "start_time": "2021-09-14T08:22:23.543Z"
   },
   {
    "duration": 200813,
    "start_time": "2021-09-14T08:22:23.568Z"
   },
   {
    "duration": 64,
    "start_time": "2021-09-14T08:25:44.384Z"
   },
   {
    "duration": 43,
    "start_time": "2021-09-14T08:27:06.975Z"
   },
   {
    "duration": 6,
    "start_time": "2021-09-14T08:27:36.724Z"
   },
   {
    "duration": 57,
    "start_time": "2021-09-14T08:27:36.732Z"
   },
   {
    "duration": 9,
    "start_time": "2021-09-14T08:27:36.792Z"
   },
   {
    "duration": 17,
    "start_time": "2021-09-14T08:27:36.804Z"
   },
   {
    "duration": 14,
    "start_time": "2021-09-14T08:27:36.823Z"
   },
   {
    "duration": 17,
    "start_time": "2021-09-14T08:27:36.840Z"
   },
   {
    "duration": 58,
    "start_time": "2021-09-14T08:27:36.859Z"
   },
   {
    "duration": 6,
    "start_time": "2021-09-14T08:27:36.919Z"
   },
   {
    "duration": 21,
    "start_time": "2021-09-14T08:27:36.930Z"
   },
   {
    "duration": 21,
    "start_time": "2021-09-14T08:27:36.956Z"
   },
   {
    "duration": 15,
    "start_time": "2021-09-14T08:27:36.979Z"
   },
   {
    "duration": 619,
    "start_time": "2021-09-14T08:27:36.997Z"
   },
   {
    "duration": 543,
    "start_time": "2021-09-14T08:27:37.618Z"
   },
   {
    "duration": 6,
    "start_time": "2021-09-14T08:27:38.164Z"
   },
   {
    "duration": 57,
    "start_time": "2021-09-14T08:27:38.172Z"
   },
   {
    "duration": 8,
    "start_time": "2021-09-14T08:27:38.231Z"
   },
   {
    "duration": 12,
    "start_time": "2021-09-14T08:27:38.242Z"
   },
   {
    "duration": 9,
    "start_time": "2021-09-14T08:27:38.257Z"
   },
   {
    "duration": 9,
    "start_time": "2021-09-14T08:27:38.269Z"
   },
   {
    "duration": 11,
    "start_time": "2021-09-14T08:27:38.280Z"
   },
   {
    "duration": 27,
    "start_time": "2021-09-14T08:27:38.293Z"
   },
   {
    "duration": 11,
    "start_time": "2021-09-14T08:27:38.322Z"
   },
   {
    "duration": 8,
    "start_time": "2021-09-14T08:27:38.335Z"
   },
   {
    "duration": 101,
    "start_time": "2021-09-14T08:27:38.346Z"
   },
   {
    "duration": 359,
    "start_time": "2021-09-14T08:27:38.090Z"
   },
   {
    "duration": 357,
    "start_time": "2021-09-14T08:27:38.094Z"
   },
   {
    "duration": 6,
    "start_time": "2021-09-14T08:27:58.835Z"
   },
   {
    "duration": 43,
    "start_time": "2021-09-14T08:27:58.846Z"
   },
   {
    "duration": 9,
    "start_time": "2021-09-14T08:27:58.892Z"
   },
   {
    "duration": 15,
    "start_time": "2021-09-14T08:27:58.904Z"
   },
   {
    "duration": 12,
    "start_time": "2021-09-14T08:27:58.922Z"
   },
   {
    "duration": 13,
    "start_time": "2021-09-14T08:27:58.936Z"
   },
   {
    "duration": 23,
    "start_time": "2021-09-14T08:27:58.951Z"
   },
   {
    "duration": 41,
    "start_time": "2021-09-14T08:27:58.977Z"
   },
   {
    "duration": 8,
    "start_time": "2021-09-14T08:27:59.020Z"
   },
   {
    "duration": 11,
    "start_time": "2021-09-14T08:27:59.031Z"
   },
   {
    "duration": 8,
    "start_time": "2021-09-14T08:27:59.045Z"
   },
   {
    "duration": 680,
    "start_time": "2021-09-14T08:27:59.056Z"
   },
   {
    "duration": 467,
    "start_time": "2021-09-14T08:27:59.739Z"
   },
   {
    "duration": 6,
    "start_time": "2021-09-14T08:28:00.217Z"
   },
   {
    "duration": 44,
    "start_time": "2021-09-14T08:28:00.225Z"
   },
   {
    "duration": 9,
    "start_time": "2021-09-14T08:28:00.272Z"
   },
   {
    "duration": 33,
    "start_time": "2021-09-14T08:28:00.283Z"
   },
   {
    "duration": 20,
    "start_time": "2021-09-14T08:28:00.319Z"
   },
   {
    "duration": 14,
    "start_time": "2021-09-14T08:28:00.341Z"
   },
   {
    "duration": 14,
    "start_time": "2021-09-14T08:28:00.357Z"
   },
   {
    "duration": 17,
    "start_time": "2021-09-14T08:28:00.373Z"
   },
   {
    "duration": 9,
    "start_time": "2021-09-14T08:28:00.392Z"
   },
   {
    "duration": 10,
    "start_time": "2021-09-14T08:28:00.404Z"
   },
   {
    "duration": 199999,
    "start_time": "2021-09-14T08:28:00.417Z"
   },
   {
    "duration": 20,
    "start_time": "2021-09-14T08:31:20.418Z"
   },
   {
    "duration": 21,
    "start_time": "2021-09-14T08:31:20.441Z"
   },
   {
    "duration": 6,
    "start_time": "2021-09-14T08:32:47.870Z"
   },
   {
    "duration": 49,
    "start_time": "2021-09-14T08:32:47.879Z"
   },
   {
    "duration": 10,
    "start_time": "2021-09-14T08:32:47.931Z"
   },
   {
    "duration": 20,
    "start_time": "2021-09-14T08:32:47.944Z"
   },
   {
    "duration": 15,
    "start_time": "2021-09-14T08:32:47.967Z"
   },
   {
    "duration": 40,
    "start_time": "2021-09-14T08:32:47.986Z"
   },
   {
    "duration": 34,
    "start_time": "2021-09-14T08:32:48.029Z"
   },
   {
    "duration": 7,
    "start_time": "2021-09-14T08:32:48.066Z"
   },
   {
    "duration": 40,
    "start_time": "2021-09-14T08:32:48.082Z"
   },
   {
    "duration": 19,
    "start_time": "2021-09-14T08:32:48.124Z"
   },
   {
    "duration": 10,
    "start_time": "2021-09-14T08:32:48.146Z"
   },
   {
    "duration": 641,
    "start_time": "2021-09-14T08:32:48.159Z"
   },
   {
    "duration": 482,
    "start_time": "2021-09-14T08:32:48.803Z"
   },
   {
    "duration": 8,
    "start_time": "2021-09-14T08:32:49.288Z"
   },
   {
    "duration": 57,
    "start_time": "2021-09-14T08:32:49.317Z"
   },
   {
    "duration": 13,
    "start_time": "2021-09-14T08:32:49.377Z"
   },
   {
    "duration": 10,
    "start_time": "2021-09-14T08:32:49.396Z"
   },
   {
    "duration": 11,
    "start_time": "2021-09-14T08:32:49.418Z"
   },
   {
    "duration": 7,
    "start_time": "2021-09-14T08:32:49.431Z"
   },
   {
    "duration": 9,
    "start_time": "2021-09-14T08:32:49.440Z"
   },
   {
    "duration": 9,
    "start_time": "2021-09-14T08:32:49.451Z"
   },
   {
    "duration": 7,
    "start_time": "2021-09-14T08:32:49.463Z"
   },
   {
    "duration": 12,
    "start_time": "2021-09-14T08:32:49.473Z"
   },
   {
    "duration": 9753,
    "start_time": "2021-09-14T08:32:49.488Z"
   },
   {
    "duration": 345,
    "start_time": "2021-09-14T08:32:58.898Z"
   },
   {
    "duration": 7,
    "start_time": "2021-09-14T08:33:25.566Z"
   },
   {
    "duration": 41,
    "start_time": "2021-09-14T08:33:25.576Z"
   },
   {
    "duration": 9,
    "start_time": "2021-09-14T08:33:25.620Z"
   },
   {
    "duration": 10,
    "start_time": "2021-09-14T08:33:25.632Z"
   },
   {
    "duration": 12,
    "start_time": "2021-09-14T08:33:25.645Z"
   },
   {
    "duration": 12,
    "start_time": "2021-09-14T08:33:25.660Z"
   },
   {
    "duration": 24,
    "start_time": "2021-09-14T08:33:25.716Z"
   },
   {
    "duration": 5,
    "start_time": "2021-09-14T08:33:25.743Z"
   },
   {
    "duration": 5,
    "start_time": "2021-09-14T08:33:25.752Z"
   },
   {
    "duration": 11,
    "start_time": "2021-09-14T08:33:25.760Z"
   },
   {
    "duration": 49,
    "start_time": "2021-09-14T08:33:25.773Z"
   },
   {
    "duration": 714,
    "start_time": "2021-09-14T08:33:25.825Z"
   },
   {
    "duration": 471,
    "start_time": "2021-09-14T08:33:26.541Z"
   },
   {
    "duration": 5,
    "start_time": "2021-09-14T08:33:27.016Z"
   },
   {
    "duration": 42,
    "start_time": "2021-09-14T08:33:27.023Z"
   },
   {
    "duration": 8,
    "start_time": "2021-09-14T08:33:27.067Z"
   },
   {
    "duration": 7,
    "start_time": "2021-09-14T08:33:27.078Z"
   },
   {
    "duration": 35,
    "start_time": "2021-09-14T08:33:27.087Z"
   },
   {
    "duration": 6,
    "start_time": "2021-09-14T08:33:27.125Z"
   },
   {
    "duration": 6,
    "start_time": "2021-09-14T08:33:27.133Z"
   },
   {
    "duration": 7,
    "start_time": "2021-09-14T08:33:27.141Z"
   },
   {
    "duration": 11,
    "start_time": "2021-09-14T08:33:27.150Z"
   },
   {
    "duration": 7,
    "start_time": "2021-09-14T08:33:27.163Z"
   },
   {
    "duration": 199217,
    "start_time": "2021-09-14T08:33:27.172Z"
   },
   {
    "duration": 17,
    "start_time": "2021-09-14T08:38:45.077Z"
   },
   {
    "duration": 326,
    "start_time": "2021-09-14T08:40:47.643Z"
   },
   {
    "duration": 303,
    "start_time": "2021-09-14T08:42:25.731Z"
   },
   {
    "duration": 4,
    "start_time": "2021-09-14T08:43:07.354Z"
   },
   {
    "duration": 4,
    "start_time": "2021-09-14T08:43:16.808Z"
   },
   {
    "duration": 6,
    "start_time": "2021-09-14T08:44:10.005Z"
   },
   {
    "duration": 57,
    "start_time": "2021-09-14T08:44:10.018Z"
   },
   {
    "duration": 10,
    "start_time": "2021-09-14T08:44:10.078Z"
   },
   {
    "duration": 25,
    "start_time": "2021-09-14T08:44:10.091Z"
   },
   {
    "duration": 14,
    "start_time": "2021-09-14T08:44:10.119Z"
   },
   {
    "duration": 19,
    "start_time": "2021-09-14T08:44:10.135Z"
   },
   {
    "duration": 24,
    "start_time": "2021-09-14T08:44:10.156Z"
   },
   {
    "duration": 36,
    "start_time": "2021-09-14T08:44:10.183Z"
   },
   {
    "duration": 11,
    "start_time": "2021-09-14T08:44:10.223Z"
   },
   {
    "duration": 14,
    "start_time": "2021-09-14T08:44:10.238Z"
   },
   {
    "duration": 12,
    "start_time": "2021-09-14T08:44:10.255Z"
   },
   {
    "duration": 619,
    "start_time": "2021-09-14T08:44:10.270Z"
   },
   {
    "duration": 439,
    "start_time": "2021-09-14T08:44:10.892Z"
   },
   {
    "duration": 6,
    "start_time": "2021-09-14T08:44:11.335Z"
   },
   {
    "duration": 40,
    "start_time": "2021-09-14T08:44:11.345Z"
   },
   {
    "duration": 37,
    "start_time": "2021-09-14T08:44:11.387Z"
   },
   {
    "duration": 9,
    "start_time": "2021-09-14T08:44:11.426Z"
   },
   {
    "duration": 10,
    "start_time": "2021-09-14T08:44:11.438Z"
   },
   {
    "duration": 12,
    "start_time": "2021-09-14T08:44:11.450Z"
   },
   {
    "duration": 11,
    "start_time": "2021-09-14T08:44:11.464Z"
   },
   {
    "duration": 40,
    "start_time": "2021-09-14T08:44:11.478Z"
   },
   {
    "duration": 6,
    "start_time": "2021-09-14T08:44:11.521Z"
   },
   {
    "duration": 13,
    "start_time": "2021-09-14T08:44:11.530Z"
   },
   {
    "duration": 201660,
    "start_time": "2021-09-14T08:44:11.546Z"
   },
   {
    "duration": 24,
    "start_time": "2021-09-14T08:47:33.208Z"
   },
   {
    "duration": 9,
    "start_time": "2021-09-14T08:47:33.235Z"
   },
   {
    "duration": 6,
    "start_time": "2021-09-14T08:47:33.247Z"
   },
   {
    "duration": 5,
    "start_time": "2021-09-14T08:48:59.180Z"
   },
   {
    "duration": 6,
    "start_time": "2021-09-14T08:53:56.122Z"
   },
   {
    "duration": 51,
    "start_time": "2021-09-14T08:53:56.131Z"
   },
   {
    "duration": 9,
    "start_time": "2021-09-14T08:53:56.186Z"
   },
   {
    "duration": 11,
    "start_time": "2021-09-14T08:53:56.216Z"
   },
   {
    "duration": 15,
    "start_time": "2021-09-14T08:53:56.229Z"
   },
   {
    "duration": 12,
    "start_time": "2021-09-14T08:53:56.246Z"
   },
   {
    "duration": 57,
    "start_time": "2021-09-14T08:53:56.260Z"
   },
   {
    "duration": 6,
    "start_time": "2021-09-14T08:53:56.320Z"
   },
   {
    "duration": 9,
    "start_time": "2021-09-14T08:53:56.328Z"
   },
   {
    "duration": 11,
    "start_time": "2021-09-14T08:53:56.340Z"
   },
   {
    "duration": 8,
    "start_time": "2021-09-14T08:53:56.353Z"
   },
   {
    "duration": 727,
    "start_time": "2021-09-14T08:53:56.363Z"
   },
   {
    "duration": 471,
    "start_time": "2021-09-14T08:53:57.092Z"
   },
   {
    "duration": 6,
    "start_time": "2021-09-14T08:53:57.565Z"
   },
   {
    "duration": 55,
    "start_time": "2021-09-14T08:53:57.574Z"
   },
   {
    "duration": 9,
    "start_time": "2021-09-14T08:53:57.631Z"
   },
   {
    "duration": 8,
    "start_time": "2021-09-14T08:53:57.643Z"
   },
   {
    "duration": 7,
    "start_time": "2021-09-14T08:53:57.653Z"
   },
   {
    "duration": 5,
    "start_time": "2021-09-14T08:53:57.662Z"
   },
   {
    "duration": 6,
    "start_time": "2021-09-14T08:53:57.670Z"
   },
   {
    "duration": 40,
    "start_time": "2021-09-14T08:53:57.679Z"
   },
   {
    "duration": 6,
    "start_time": "2021-09-14T08:53:57.721Z"
   },
   {
    "duration": 10,
    "start_time": "2021-09-14T08:53:57.731Z"
   },
   {
    "duration": 200796,
    "start_time": "2021-09-14T08:53:57.743Z"
   },
   {
    "duration": 17,
    "start_time": "2021-09-14T08:57:18.542Z"
   },
   {
    "duration": 5,
    "start_time": "2021-09-14T08:58:58.611Z"
   },
   {
    "duration": 6,
    "start_time": "2021-09-14T08:59:50.338Z"
   },
   {
    "duration": 46,
    "start_time": "2021-09-14T08:59:50.347Z"
   },
   {
    "duration": 9,
    "start_time": "2021-09-14T08:59:50.396Z"
   },
   {
    "duration": 16,
    "start_time": "2021-09-14T08:59:50.408Z"
   },
   {
    "duration": 14,
    "start_time": "2021-09-14T08:59:50.426Z"
   },
   {
    "duration": 13,
    "start_time": "2021-09-14T08:59:50.443Z"
   },
   {
    "duration": 65,
    "start_time": "2021-09-14T08:59:50.458Z"
   },
   {
    "duration": 7,
    "start_time": "2021-09-14T08:59:50.526Z"
   },
   {
    "duration": 10,
    "start_time": "2021-09-14T08:59:50.539Z"
   },
   {
    "duration": 16,
    "start_time": "2021-09-14T08:59:50.553Z"
   },
   {
    "duration": 17,
    "start_time": "2021-09-14T08:59:50.572Z"
   },
   {
    "duration": 655,
    "start_time": "2021-09-14T08:59:50.592Z"
   },
   {
    "duration": 457,
    "start_time": "2021-09-14T08:59:51.250Z"
   },
   {
    "duration": 6,
    "start_time": "2021-09-14T08:59:51.716Z"
   },
   {
    "duration": 58,
    "start_time": "2021-09-14T08:59:51.725Z"
   },
   {
    "duration": 9,
    "start_time": "2021-09-14T08:59:51.786Z"
   },
   {
    "duration": 25,
    "start_time": "2021-09-14T08:59:51.797Z"
   },
   {
    "duration": 13,
    "start_time": "2021-09-14T08:59:51.825Z"
   },
   {
    "duration": 18,
    "start_time": "2021-09-14T08:59:51.841Z"
   },
   {
    "duration": 23,
    "start_time": "2021-09-14T08:59:51.861Z"
   },
   {
    "duration": 21,
    "start_time": "2021-09-14T08:59:51.887Z"
   },
   {
    "duration": 15,
    "start_time": "2021-09-14T08:59:51.910Z"
   },
   {
    "duration": 26,
    "start_time": "2021-09-14T08:59:51.928Z"
   },
   {
    "duration": 203077,
    "start_time": "2021-09-14T08:59:51.956Z"
   },
   {
    "duration": 24,
    "start_time": "2021-09-14T09:03:15.036Z"
   },
   {
    "duration": 9,
    "start_time": "2021-09-14T09:03:15.064Z"
   },
   {
    "duration": 6,
    "start_time": "2021-09-14T09:06:09.626Z"
   },
   {
    "duration": 6,
    "start_time": "2021-09-14T09:06:13.170Z"
   },
   {
    "duration": 48,
    "start_time": "2021-09-14T09:06:13.179Z"
   },
   {
    "duration": 11,
    "start_time": "2021-09-14T09:06:13.231Z"
   },
   {
    "duration": 13,
    "start_time": "2021-09-14T09:06:13.246Z"
   },
   {
    "duration": 15,
    "start_time": "2021-09-14T09:06:13.262Z"
   },
   {
    "duration": 14,
    "start_time": "2021-09-14T09:06:13.316Z"
   },
   {
    "duration": 25,
    "start_time": "2021-09-14T09:06:13.333Z"
   },
   {
    "duration": 6,
    "start_time": "2021-09-14T09:06:13.361Z"
   },
   {
    "duration": 5,
    "start_time": "2021-09-14T09:06:13.417Z"
   },
   {
    "duration": 14,
    "start_time": "2021-09-14T09:06:13.427Z"
   },
   {
    "duration": 11,
    "start_time": "2021-09-14T09:06:13.444Z"
   },
   {
    "duration": 640,
    "start_time": "2021-09-14T09:06:13.458Z"
   },
   {
    "duration": 478,
    "start_time": "2021-09-14T09:06:14.101Z"
   },
   {
    "duration": 7,
    "start_time": "2021-09-14T09:06:14.582Z"
   },
   {
    "duration": 74,
    "start_time": "2021-09-14T09:06:14.592Z"
   },
   {
    "duration": 8,
    "start_time": "2021-09-14T09:06:14.669Z"
   },
   {
    "duration": 8,
    "start_time": "2021-09-14T09:06:14.680Z"
   },
   {
    "duration": 28,
    "start_time": "2021-09-14T09:06:14.691Z"
   },
   {
    "duration": 7,
    "start_time": "2021-09-14T09:06:14.722Z"
   },
   {
    "duration": 6,
    "start_time": "2021-09-14T09:06:14.731Z"
   },
   {
    "duration": 6,
    "start_time": "2021-09-14T09:06:14.739Z"
   },
   {
    "duration": 6,
    "start_time": "2021-09-14T09:06:14.748Z"
   },
   {
    "duration": 10,
    "start_time": "2021-09-14T09:06:14.756Z"
   },
   {
    "duration": 203988,
    "start_time": "2021-09-14T09:06:14.769Z"
   },
   {
    "duration": 17,
    "start_time": "2021-09-14T09:09:38.759Z"
   },
   {
    "duration": 7,
    "start_time": "2021-09-14T09:09:38.778Z"
   },
   {
    "duration": 46,
    "start_time": "2021-09-14T09:10:14.437Z"
   },
   {
    "duration": 6,
    "start_time": "2021-09-14T12:53:20.609Z"
   },
   {
    "duration": 44,
    "start_time": "2021-09-14T12:53:20.625Z"
   },
   {
    "duration": 10,
    "start_time": "2021-09-14T12:53:20.671Z"
   },
   {
    "duration": 21,
    "start_time": "2021-09-14T12:53:20.684Z"
   },
   {
    "duration": 21,
    "start_time": "2021-09-14T12:53:20.708Z"
   },
   {
    "duration": 24,
    "start_time": "2021-09-14T12:53:20.731Z"
   },
   {
    "duration": 43,
    "start_time": "2021-09-14T12:53:20.757Z"
   },
   {
    "duration": 15,
    "start_time": "2021-09-14T12:53:20.802Z"
   },
   {
    "duration": 25,
    "start_time": "2021-09-14T12:53:20.820Z"
   },
   {
    "duration": 22,
    "start_time": "2021-09-14T12:53:20.850Z"
   },
   {
    "duration": 18,
    "start_time": "2021-09-14T12:53:20.875Z"
   },
   {
    "duration": 691,
    "start_time": "2021-09-14T12:53:20.896Z"
   },
   {
    "duration": 459,
    "start_time": "2021-09-14T12:53:21.590Z"
   },
   {
    "duration": 5,
    "start_time": "2021-09-14T12:53:22.051Z"
   },
   {
    "duration": 57,
    "start_time": "2021-09-14T12:53:22.059Z"
   },
   {
    "duration": 9,
    "start_time": "2021-09-14T12:53:22.118Z"
   },
   {
    "duration": 11,
    "start_time": "2021-09-14T12:53:22.129Z"
   },
   {
    "duration": 10,
    "start_time": "2021-09-14T12:53:22.142Z"
   },
   {
    "duration": 17,
    "start_time": "2021-09-14T12:53:22.154Z"
   },
   {
    "duration": 12,
    "start_time": "2021-09-14T12:53:22.174Z"
   },
   {
    "duration": 10,
    "start_time": "2021-09-14T12:53:22.188Z"
   },
   {
    "duration": 118,
    "start_time": "2021-09-14T12:53:22.200Z"
   },
   {
    "duration": 632,
    "start_time": "2021-09-14T12:53:21.689Z"
   },
   {
    "duration": 627,
    "start_time": "2021-09-14T12:53:21.695Z"
   },
   {
    "duration": 622,
    "start_time": "2021-09-14T12:53:21.701Z"
   },
   {
    "duration": 619,
    "start_time": "2021-09-14T12:53:21.706Z"
   },
   {
    "duration": 6,
    "start_time": "2021-09-14T12:54:18.087Z"
   },
   {
    "duration": 69,
    "start_time": "2021-09-14T12:54:18.095Z"
   },
   {
    "duration": 10,
    "start_time": "2021-09-14T12:54:18.167Z"
   },
   {
    "duration": 22,
    "start_time": "2021-09-14T12:54:18.180Z"
   },
   {
    "duration": 22,
    "start_time": "2021-09-14T12:54:18.204Z"
   },
   {
    "duration": 14,
    "start_time": "2021-09-14T12:54:18.229Z"
   },
   {
    "duration": 26,
    "start_time": "2021-09-14T12:54:18.247Z"
   },
   {
    "duration": 7,
    "start_time": "2021-09-14T12:54:18.276Z"
   },
   {
    "duration": 33,
    "start_time": "2021-09-14T12:54:18.286Z"
   },
   {
    "duration": 24,
    "start_time": "2021-09-14T12:54:18.322Z"
   },
   {
    "duration": 20,
    "start_time": "2021-09-14T12:54:18.348Z"
   },
   {
    "duration": 607,
    "start_time": "2021-09-14T12:54:18.372Z"
   },
   {
    "duration": 449,
    "start_time": "2021-09-14T12:54:18.982Z"
   },
   {
    "duration": 5,
    "start_time": "2021-09-14T12:54:19.433Z"
   },
   {
    "duration": 51,
    "start_time": "2021-09-14T12:54:19.441Z"
   },
   {
    "duration": 22,
    "start_time": "2021-09-14T12:54:19.494Z"
   },
   {
    "duration": 7,
    "start_time": "2021-09-14T12:54:19.518Z"
   },
   {
    "duration": 21,
    "start_time": "2021-09-14T12:54:19.528Z"
   },
   {
    "duration": 14,
    "start_time": "2021-09-14T12:54:19.551Z"
   },
   {
    "duration": 12,
    "start_time": "2021-09-14T12:54:19.567Z"
   },
   {
    "duration": 15,
    "start_time": "2021-09-14T12:54:19.582Z"
   },
   {
    "duration": 17,
    "start_time": "2021-09-14T12:54:19.599Z"
   },
   {
    "duration": 203479,
    "start_time": "2021-09-14T12:54:19.618Z"
   },
   {
    "duration": 445,
    "start_time": "2021-09-14T12:57:42.656Z"
   },
   {
    "duration": 442,
    "start_time": "2021-09-14T12:57:42.661Z"
   },
   {
    "duration": 439,
    "start_time": "2021-09-14T12:57:42.666Z"
   },
   {
    "duration": 6,
    "start_time": "2021-09-14T13:05:54.160Z"
   },
   {
    "duration": 51,
    "start_time": "2021-09-14T13:05:54.168Z"
   },
   {
    "duration": 10,
    "start_time": "2021-09-14T13:05:54.221Z"
   },
   {
    "duration": 14,
    "start_time": "2021-09-14T13:05:54.233Z"
   },
   {
    "duration": 13,
    "start_time": "2021-09-14T13:05:54.249Z"
   },
   {
    "duration": 14,
    "start_time": "2021-09-14T13:05:54.266Z"
   },
   {
    "duration": 23,
    "start_time": "2021-09-14T13:05:54.318Z"
   },
   {
    "duration": 5,
    "start_time": "2021-09-14T13:05:54.344Z"
   },
   {
    "duration": 10,
    "start_time": "2021-09-14T13:05:54.351Z"
   },
   {
    "duration": 15,
    "start_time": "2021-09-14T13:05:54.363Z"
   },
   {
    "duration": 48,
    "start_time": "2021-09-14T13:05:54.381Z"
   },
   {
    "duration": 665,
    "start_time": "2021-09-14T13:05:54.431Z"
   },
   {
    "duration": 480,
    "start_time": "2021-09-14T13:05:55.099Z"
   },
   {
    "duration": 6,
    "start_time": "2021-09-14T13:05:55.582Z"
   },
   {
    "duration": 54,
    "start_time": "2021-09-14T13:05:55.591Z"
   },
   {
    "duration": 9,
    "start_time": "2021-09-14T13:05:55.647Z"
   },
   {
    "duration": 7,
    "start_time": "2021-09-14T13:05:55.659Z"
   },
   {
    "duration": 8,
    "start_time": "2021-09-14T13:05:55.669Z"
   },
   {
    "duration": 38,
    "start_time": "2021-09-14T13:05:55.679Z"
   },
   {
    "duration": 11,
    "start_time": "2021-09-14T13:05:55.719Z"
   },
   {
    "duration": 7,
    "start_time": "2021-09-14T13:05:55.733Z"
   },
   {
    "duration": 9,
    "start_time": "2021-09-14T13:05:55.742Z"
   },
   {
    "duration": 287975,
    "start_time": "2021-09-14T13:05:55.754Z"
   },
   {
    "duration": 86,
    "start_time": "2021-09-14T13:10:43.732Z"
   },
   {
    "duration": 4,
    "start_time": "2021-09-14T13:10:43.821Z"
   },
   {
    "duration": 340,
    "start_time": "2021-09-14T13:10:43.827Z"
   },
   {
    "duration": 6,
    "start_time": "2021-09-14T13:11:59.589Z"
   },
   {
    "duration": 47,
    "start_time": "2021-09-14T13:11:59.597Z"
   },
   {
    "duration": 9,
    "start_time": "2021-09-14T13:11:59.737Z"
   },
   {
    "duration": 20,
    "start_time": "2021-09-14T13:11:59.749Z"
   },
   {
    "duration": 12,
    "start_time": "2021-09-14T13:11:59.772Z"
   },
   {
    "duration": 29,
    "start_time": "2021-09-14T13:11:59.786Z"
   },
   {
    "duration": 24,
    "start_time": "2021-09-14T13:11:59.817Z"
   },
   {
    "duration": 5,
    "start_time": "2021-09-14T13:11:59.844Z"
   },
   {
    "duration": 6,
    "start_time": "2021-09-14T13:11:59.909Z"
   },
   {
    "duration": 25,
    "start_time": "2021-09-14T13:11:59.917Z"
   },
   {
    "duration": 14,
    "start_time": "2021-09-14T13:11:59.946Z"
   },
   {
    "duration": 712,
    "start_time": "2021-09-14T13:12:00.099Z"
   },
   {
    "duration": 476,
    "start_time": "2021-09-14T13:12:00.817Z"
   },
   {
    "duration": 5,
    "start_time": "2021-09-14T13:12:01.297Z"
   },
   {
    "duration": 42,
    "start_time": "2021-09-14T13:12:01.317Z"
   },
   {
    "duration": 12,
    "start_time": "2021-09-14T13:12:01.362Z"
   },
   {
    "duration": 14,
    "start_time": "2021-09-14T13:12:01.377Z"
   },
   {
    "duration": 24,
    "start_time": "2021-09-14T13:12:01.393Z"
   },
   {
    "duration": 15,
    "start_time": "2021-09-14T13:12:01.420Z"
   },
   {
    "duration": 10,
    "start_time": "2021-09-14T13:12:01.439Z"
   },
   {
    "duration": 14,
    "start_time": "2021-09-14T13:12:01.451Z"
   },
   {
    "duration": 10,
    "start_time": "2021-09-14T13:12:01.467Z"
   },
   {
    "duration": 543962,
    "start_time": "2021-09-14T13:12:01.480Z"
   },
   {
    "duration": 92,
    "start_time": "2021-09-14T13:21:05.444Z"
   },
   {
    "duration": 8,
    "start_time": "2021-09-14T13:21:05.539Z"
   },
   {
    "duration": 397,
    "start_time": "2021-09-14T13:21:05.549Z"
   },
   {
    "duration": 6,
    "start_time": "2021-09-14T13:22:56.708Z"
   },
   {
    "duration": 41,
    "start_time": "2021-09-14T13:22:56.726Z"
   },
   {
    "duration": 11,
    "start_time": "2021-09-14T13:22:56.770Z"
   },
   {
    "duration": 31,
    "start_time": "2021-09-14T13:22:56.786Z"
   },
   {
    "duration": 18,
    "start_time": "2021-09-14T13:22:56.823Z"
   },
   {
    "duration": 12,
    "start_time": "2021-09-14T13:22:56.843Z"
   },
   {
    "duration": 76,
    "start_time": "2021-09-14T13:22:56.858Z"
   },
   {
    "duration": 5,
    "start_time": "2021-09-14T13:22:56.937Z"
   },
   {
    "duration": 15,
    "start_time": "2021-09-14T13:22:56.945Z"
   },
   {
    "duration": 24,
    "start_time": "2021-09-14T13:22:56.962Z"
   },
   {
    "duration": 12,
    "start_time": "2021-09-14T13:22:56.988Z"
   },
   {
    "duration": 804,
    "start_time": "2021-09-14T13:22:57.018Z"
   },
   {
    "duration": 497,
    "start_time": "2021-09-14T13:22:57.827Z"
   },
   {
    "duration": 7,
    "start_time": "2021-09-14T13:22:58.328Z"
   },
   {
    "duration": 44,
    "start_time": "2021-09-14T13:22:58.338Z"
   },
   {
    "duration": 38,
    "start_time": "2021-09-14T13:22:58.384Z"
   },
   {
    "duration": 10,
    "start_time": "2021-09-14T13:22:58.426Z"
   },
   {
    "duration": 707,
    "start_time": "2021-09-14T13:24:28.891Z"
   },
   {
    "duration": 11,
    "start_time": "2021-09-14T13:25:11.262Z"
   },
   {
    "duration": 7,
    "start_time": "2021-09-14T13:26:11.697Z"
   },
   {
    "duration": 7,
    "start_time": "2021-09-14T13:31:33.578Z"
   },
   {
    "duration": 38,
    "start_time": "2021-09-14T13:31:33.594Z"
   },
   {
    "duration": 10,
    "start_time": "2021-09-14T13:31:33.634Z"
   },
   {
    "duration": 10,
    "start_time": "2021-09-14T13:31:33.648Z"
   },
   {
    "duration": 13,
    "start_time": "2021-09-14T13:31:33.942Z"
   },
   {
    "duration": 25,
    "start_time": "2021-09-14T13:31:33.958Z"
   },
   {
    "duration": 27,
    "start_time": "2021-09-14T13:31:33.986Z"
   },
   {
    "duration": 6,
    "start_time": "2021-09-14T13:31:34.016Z"
   },
   {
    "duration": 22,
    "start_time": "2021-09-14T13:31:34.024Z"
   },
   {
    "duration": 21,
    "start_time": "2021-09-14T13:31:34.048Z"
   },
   {
    "duration": 18,
    "start_time": "2021-09-14T13:31:34.072Z"
   },
   {
    "duration": 629,
    "start_time": "2021-09-14T13:31:34.111Z"
   },
   {
    "duration": 477,
    "start_time": "2021-09-14T13:31:34.743Z"
   },
   {
    "duration": 7,
    "start_time": "2021-09-14T13:31:35.224Z"
   },
   {
    "duration": 57,
    "start_time": "2021-09-14T13:31:35.233Z"
   },
   {
    "duration": 8,
    "start_time": "2021-09-14T13:31:35.293Z"
   },
   {
    "duration": 9,
    "start_time": "2021-09-14T13:32:39.910Z"
   },
   {
    "duration": 3,
    "start_time": "2021-09-14T13:32:54.032Z"
   },
   {
    "duration": 3,
    "start_time": "2021-09-14T13:32:54.713Z"
   },
   {
    "duration": 9,
    "start_time": "2021-09-14T13:33:15.323Z"
   },
   {
    "duration": 495,
    "start_time": "2021-09-14T13:33:26.270Z"
   },
   {
    "duration": 8,
    "start_time": "2021-09-14T13:34:22.154Z"
   },
   {
    "duration": 56,
    "start_time": "2021-09-14T13:34:22.166Z"
   },
   {
    "duration": 14,
    "start_time": "2021-09-14T13:34:22.227Z"
   },
   {
    "duration": 15,
    "start_time": "2021-09-14T13:34:22.244Z"
   },
   {
    "duration": 16,
    "start_time": "2021-09-14T13:34:22.262Z"
   },
   {
    "duration": 42,
    "start_time": "2021-09-14T13:34:22.280Z"
   },
   {
    "duration": 29,
    "start_time": "2021-09-14T13:34:22.325Z"
   },
   {
    "duration": 6,
    "start_time": "2021-09-14T13:34:22.357Z"
   },
   {
    "duration": 47,
    "start_time": "2021-09-14T13:34:22.369Z"
   },
   {
    "duration": 14,
    "start_time": "2021-09-14T13:34:22.419Z"
   },
   {
    "duration": 13,
    "start_time": "2021-09-14T13:34:22.436Z"
   },
   {
    "duration": 746,
    "start_time": "2021-09-14T13:34:22.451Z"
   },
   {
    "duration": 509,
    "start_time": "2021-09-14T13:34:23.201Z"
   },
   {
    "duration": 5,
    "start_time": "2021-09-14T13:34:23.717Z"
   },
   {
    "duration": 42,
    "start_time": "2021-09-14T13:34:23.725Z"
   },
   {
    "duration": 11,
    "start_time": "2021-09-14T13:34:23.770Z"
   },
   {
    "duration": 44,
    "start_time": "2021-09-14T13:34:23.784Z"
   },
   {
    "duration": 9,
    "start_time": "2021-09-14T13:34:23.830Z"
   },
   {
    "duration": 7,
    "start_time": "2021-09-14T13:34:23.841Z"
   },
   {
    "duration": 10,
    "start_time": "2021-09-14T13:34:23.850Z"
   },
   {
    "duration": 366,
    "start_time": "2021-09-14T13:34:23.863Z"
   },
   {
    "duration": 9,
    "start_time": "2021-09-14T13:35:40.123Z"
   },
   {
    "duration": 50,
    "start_time": "2021-09-14T13:35:40.136Z"
   },
   {
    "duration": 28,
    "start_time": "2021-09-14T13:35:40.191Z"
   },
   {
    "duration": 11,
    "start_time": "2021-09-14T13:35:40.222Z"
   },
   {
    "duration": 13,
    "start_time": "2021-09-14T13:35:40.236Z"
   },
   {
    "duration": 25,
    "start_time": "2021-09-14T13:35:40.252Z"
   },
   {
    "duration": 53,
    "start_time": "2021-09-14T13:35:40.279Z"
   },
   {
    "duration": 6,
    "start_time": "2021-09-14T13:35:40.335Z"
   },
   {
    "duration": 17,
    "start_time": "2021-09-14T13:35:40.346Z"
   },
   {
    "duration": 16,
    "start_time": "2021-09-14T13:35:40.366Z"
   },
   {
    "duration": 35,
    "start_time": "2021-09-14T13:35:40.385Z"
   },
   {
    "duration": 638,
    "start_time": "2021-09-14T13:35:40.422Z"
   },
   {
    "duration": 496,
    "start_time": "2021-09-14T13:35:41.062Z"
   },
   {
    "duration": 6,
    "start_time": "2021-09-14T13:35:41.560Z"
   },
   {
    "duration": 58,
    "start_time": "2021-09-14T13:35:41.569Z"
   },
   {
    "duration": 11,
    "start_time": "2021-09-14T13:35:41.630Z"
   },
   {
    "duration": 9,
    "start_time": "2021-09-14T13:35:41.644Z"
   },
   {
    "duration": 8,
    "start_time": "2021-09-14T13:35:51.122Z"
   },
   {
    "duration": 460,
    "start_time": "2021-09-14T13:35:52.342Z"
   },
   {
    "duration": 8,
    "start_time": "2021-09-14T13:36:05.962Z"
   },
   {
    "duration": 6,
    "start_time": "2021-09-14T13:37:35.851Z"
   },
   {
    "duration": 61,
    "start_time": "2021-09-14T13:37:35.860Z"
   },
   {
    "duration": 10,
    "start_time": "2021-09-14T13:37:35.924Z"
   },
   {
    "duration": 12,
    "start_time": "2021-09-14T13:37:35.937Z"
   },
   {
    "duration": 12,
    "start_time": "2021-09-14T13:37:35.952Z"
   },
   {
    "duration": 15,
    "start_time": "2021-09-14T13:37:35.967Z"
   },
   {
    "duration": 24,
    "start_time": "2021-09-14T13:37:36.017Z"
   },
   {
    "duration": 5,
    "start_time": "2021-09-14T13:37:36.044Z"
   },
   {
    "duration": 16,
    "start_time": "2021-09-14T13:37:36.054Z"
   },
   {
    "duration": 47,
    "start_time": "2021-09-14T13:37:36.073Z"
   },
   {
    "duration": 13,
    "start_time": "2021-09-14T13:37:36.123Z"
   },
   {
    "duration": 652,
    "start_time": "2021-09-14T13:37:36.139Z"
   },
   {
    "duration": 475,
    "start_time": "2021-09-14T13:37:36.794Z"
   },
   {
    "duration": 6,
    "start_time": "2021-09-14T13:37:37.272Z"
   },
   {
    "duration": 59,
    "start_time": "2021-09-14T13:37:37.281Z"
   },
   {
    "duration": 8,
    "start_time": "2021-09-14T13:37:37.342Z"
   },
   {
    "duration": 8,
    "start_time": "2021-09-14T13:37:37.353Z"
   },
   {
    "duration": 4,
    "start_time": "2021-09-14T13:37:37.364Z"
   },
   {
    "duration": 6,
    "start_time": "2021-09-14T13:37:37.370Z"
   },
   {
    "duration": 39,
    "start_time": "2021-09-14T13:37:37.378Z"
   },
   {
    "duration": 7,
    "start_time": "2021-09-14T13:37:37.419Z"
   },
   {
    "duration": 9,
    "start_time": "2021-09-14T13:37:37.429Z"
   },
   {
    "duration": 374,
    "start_time": "2021-09-14T13:37:37.440Z"
   },
   {
    "duration": 0,
    "start_time": "2021-09-14T13:37:37.817Z"
   },
   {
    "duration": 5,
    "start_time": "2021-09-14T13:38:07.902Z"
   },
   {
    "duration": 459,
    "start_time": "2021-09-14T13:38:09.633Z"
   },
   {
    "duration": 6,
    "start_time": "2021-09-14T13:38:10.490Z"
   },
   {
    "duration": 350,
    "start_time": "2021-09-14T13:38:20.109Z"
   },
   {
    "duration": 6,
    "start_time": "2021-09-14T13:40:03.030Z"
   },
   {
    "duration": 56,
    "start_time": "2021-09-14T13:40:03.039Z"
   },
   {
    "duration": 10,
    "start_time": "2021-09-14T13:40:03.098Z"
   },
   {
    "duration": 23,
    "start_time": "2021-09-14T13:40:03.111Z"
   },
   {
    "duration": 28,
    "start_time": "2021-09-14T13:40:03.137Z"
   },
   {
    "duration": 17,
    "start_time": "2021-09-14T13:40:03.169Z"
   },
   {
    "duration": 55,
    "start_time": "2021-09-14T13:40:03.190Z"
   },
   {
    "duration": 6,
    "start_time": "2021-09-14T13:40:03.248Z"
   },
   {
    "duration": 10,
    "start_time": "2021-09-14T13:40:03.260Z"
   },
   {
    "duration": 43,
    "start_time": "2021-09-14T13:40:03.273Z"
   },
   {
    "duration": 14,
    "start_time": "2021-09-14T13:40:03.320Z"
   },
   {
    "duration": 1014,
    "start_time": "2021-09-14T13:40:03.337Z"
   },
   {
    "duration": 586,
    "start_time": "2021-09-14T13:40:04.354Z"
   },
   {
    "duration": 6,
    "start_time": "2021-09-14T13:40:04.943Z"
   },
   {
    "duration": 66,
    "start_time": "2021-09-14T13:40:04.952Z"
   },
   {
    "duration": 12,
    "start_time": "2021-09-14T13:40:05.021Z"
   },
   {
    "duration": 10,
    "start_time": "2021-09-14T13:40:05.036Z"
   },
   {
    "duration": 346,
    "start_time": "2021-09-14T13:40:05.049Z"
   },
   {
    "duration": 744,
    "start_time": "2021-09-14T13:40:11.123Z"
   },
   {
    "duration": 375,
    "start_time": "2021-09-14T13:40:12.334Z"
   },
   {
    "duration": 7,
    "start_time": "2021-09-14T13:40:22.123Z"
   },
   {
    "duration": 43,
    "start_time": "2021-09-14T13:40:22.134Z"
   },
   {
    "duration": 9,
    "start_time": "2021-09-14T13:40:22.181Z"
   },
   {
    "duration": 29,
    "start_time": "2021-09-14T13:40:22.192Z"
   },
   {
    "duration": 16,
    "start_time": "2021-09-14T13:40:22.223Z"
   },
   {
    "duration": 12,
    "start_time": "2021-09-14T13:40:22.242Z"
   },
   {
    "duration": 146,
    "start_time": "2021-09-14T13:40:22.256Z"
   },
   {
    "duration": 16,
    "start_time": "2021-09-14T13:40:22.404Z"
   },
   {
    "duration": 16,
    "start_time": "2021-09-14T13:40:22.423Z"
   },
   {
    "duration": 11,
    "start_time": "2021-09-14T13:40:22.442Z"
   },
   {
    "duration": 8,
    "start_time": "2021-09-14T13:40:22.456Z"
   },
   {
    "duration": 655,
    "start_time": "2021-09-14T13:40:22.467Z"
   },
   {
    "duration": 484,
    "start_time": "2021-09-14T13:40:23.125Z"
   },
   {
    "duration": 6,
    "start_time": "2021-09-14T13:40:23.616Z"
   },
   {
    "duration": 48,
    "start_time": "2021-09-14T13:40:23.625Z"
   },
   {
    "duration": 10,
    "start_time": "2021-09-14T13:40:23.676Z"
   },
   {
    "duration": 32,
    "start_time": "2021-09-14T13:40:23.689Z"
   },
   {
    "duration": 8,
    "start_time": "2021-09-14T13:40:23.724Z"
   },
   {
    "duration": 7,
    "start_time": "2021-09-14T13:42:00.783Z"
   },
   {
    "duration": 38,
    "start_time": "2021-09-14T13:42:00.942Z"
   },
   {
    "duration": 9,
    "start_time": "2021-09-14T13:42:00.983Z"
   },
   {
    "duration": 25,
    "start_time": "2021-09-14T13:42:00.995Z"
   },
   {
    "duration": 25,
    "start_time": "2021-09-14T13:42:01.022Z"
   },
   {
    "duration": 38,
    "start_time": "2021-09-14T13:42:01.050Z"
   },
   {
    "duration": 33,
    "start_time": "2021-09-14T13:42:01.091Z"
   },
   {
    "duration": 26,
    "start_time": "2021-09-14T13:42:01.127Z"
   },
   {
    "duration": 29,
    "start_time": "2021-09-14T13:42:01.156Z"
   },
   {
    "duration": 38,
    "start_time": "2021-09-14T13:42:01.188Z"
   },
   {
    "duration": 34,
    "start_time": "2021-09-14T13:42:01.231Z"
   },
   {
    "duration": 641,
    "start_time": "2021-09-14T13:42:01.268Z"
   },
   {
    "duration": 479,
    "start_time": "2021-09-14T13:42:01.912Z"
   },
   {
    "duration": 5,
    "start_time": "2021-09-14T13:42:02.394Z"
   },
   {
    "duration": 50,
    "start_time": "2021-09-14T13:42:02.402Z"
   },
   {
    "duration": 9,
    "start_time": "2021-09-14T13:42:02.454Z"
   },
   {
    "duration": 25,
    "start_time": "2021-09-14T13:42:02.466Z"
   },
   {
    "duration": 27,
    "start_time": "2021-09-14T13:42:02.493Z"
   },
   {
    "duration": 21,
    "start_time": "2021-09-14T13:42:02.522Z"
   },
   {
    "duration": 21,
    "start_time": "2021-09-14T13:42:02.546Z"
   },
   {
    "duration": 12,
    "start_time": "2021-09-14T13:42:02.570Z"
   },
   {
    "duration": 10,
    "start_time": "2021-09-14T13:42:02.585Z"
   },
   {
    "duration": 632718,
    "start_time": "2021-09-14T13:42:02.599Z"
   },
   {
    "duration": 19,
    "start_time": "2021-09-14T13:52:35.320Z"
   },
   {
    "duration": 4,
    "start_time": "2021-09-14T13:52:35.342Z"
   },
   {
    "duration": 406,
    "start_time": "2021-09-14T13:52:35.349Z"
   },
   {
    "duration": 6,
    "start_time": "2021-09-14T13:57:28.327Z"
   },
   {
    "duration": 46,
    "start_time": "2021-09-14T13:57:28.340Z"
   },
   {
    "duration": 9,
    "start_time": "2021-09-14T13:57:28.389Z"
   },
   {
    "duration": 13,
    "start_time": "2021-09-14T13:57:28.418Z"
   },
   {
    "duration": 17,
    "start_time": "2021-09-14T13:57:28.435Z"
   },
   {
    "duration": 18,
    "start_time": "2021-09-14T13:57:28.454Z"
   },
   {
    "duration": 59,
    "start_time": "2021-09-14T13:57:28.475Z"
   },
   {
    "duration": 5,
    "start_time": "2021-09-14T13:57:28.537Z"
   },
   {
    "duration": 14,
    "start_time": "2021-09-14T13:57:28.545Z"
   },
   {
    "duration": 17,
    "start_time": "2021-09-14T13:57:28.563Z"
   },
   {
    "duration": 41,
    "start_time": "2021-09-14T13:57:28.583Z"
   },
   {
    "duration": 664,
    "start_time": "2021-09-14T13:57:28.628Z"
   },
   {
    "duration": 500,
    "start_time": "2021-09-14T13:57:29.295Z"
   },
   {
    "duration": 6,
    "start_time": "2021-09-14T13:57:29.797Z"
   },
   {
    "duration": 56,
    "start_time": "2021-09-14T13:57:29.805Z"
   },
   {
    "duration": 10,
    "start_time": "2021-09-14T13:57:29.864Z"
   },
   {
    "duration": 17,
    "start_time": "2021-09-14T13:57:29.877Z"
   },
   {
    "duration": 25,
    "start_time": "2021-09-14T13:57:29.897Z"
   },
   {
    "duration": 13,
    "start_time": "2021-09-14T13:57:29.925Z"
   },
   {
    "duration": 9,
    "start_time": "2021-09-14T13:57:29.941Z"
   },
   {
    "duration": 12,
    "start_time": "2021-09-14T13:57:29.953Z"
   },
   {
    "duration": 16,
    "start_time": "2021-09-14T13:57:29.968Z"
   },
   {
    "duration": 458841,
    "start_time": "2021-09-14T13:57:29.986Z"
   },
   {
    "duration": 21,
    "start_time": "2021-09-14T14:05:08.831Z"
   },
   {
    "duration": 4,
    "start_time": "2021-09-14T14:05:08.854Z"
   },
   {
    "duration": 410,
    "start_time": "2021-09-14T14:05:08.861Z"
   },
   {
    "duration": 6,
    "start_time": "2021-09-14T14:05:29.841Z"
   },
   {
    "duration": 48,
    "start_time": "2021-09-14T14:05:29.850Z"
   },
   {
    "duration": 9,
    "start_time": "2021-09-14T14:05:29.948Z"
   },
   {
    "duration": 20,
    "start_time": "2021-09-14T14:05:29.960Z"
   },
   {
    "duration": 20,
    "start_time": "2021-09-14T14:05:29.984Z"
   },
   {
    "duration": 19,
    "start_time": "2021-09-14T14:05:30.007Z"
   },
   {
    "duration": 31,
    "start_time": "2021-09-14T14:05:30.028Z"
   },
   {
    "duration": 8,
    "start_time": "2021-09-14T14:05:30.062Z"
   },
   {
    "duration": 29,
    "start_time": "2021-09-14T14:05:30.073Z"
   },
   {
    "duration": 14,
    "start_time": "2021-09-14T14:05:30.165Z"
   },
   {
    "duration": 30,
    "start_time": "2021-09-14T14:05:30.182Z"
   },
   {
    "duration": 643,
    "start_time": "2021-09-14T14:05:30.215Z"
   },
   {
    "duration": 485,
    "start_time": "2021-09-14T14:05:30.861Z"
   },
   {
    "duration": 6,
    "start_time": "2021-09-14T14:05:31.349Z"
   },
   {
    "duration": 55,
    "start_time": "2021-09-14T14:05:31.357Z"
   },
   {
    "duration": 13,
    "start_time": "2021-09-14T14:05:31.414Z"
   },
   {
    "duration": 21,
    "start_time": "2021-09-14T14:05:31.430Z"
   },
   {
    "duration": 24,
    "start_time": "2021-09-14T14:05:31.457Z"
   },
   {
    "duration": 31,
    "start_time": "2021-09-14T14:05:31.484Z"
   },
   {
    "duration": 30,
    "start_time": "2021-09-14T14:05:31.519Z"
   },
   {
    "duration": 13,
    "start_time": "2021-09-14T14:05:31.552Z"
   },
   {
    "duration": 38,
    "start_time": "2021-09-14T14:05:31.567Z"
   },
   {
    "duration": 765032,
    "start_time": "2021-09-14T14:05:31.608Z"
   },
   {
    "duration": 86,
    "start_time": "2021-09-14T14:18:16.643Z"
   },
   {
    "duration": 4,
    "start_time": "2021-09-14T14:18:16.732Z"
   },
   {
    "duration": 486,
    "start_time": "2021-09-14T14:18:16.738Z"
   },
   {
    "duration": 7,
    "start_time": "2021-09-14T14:19:47.165Z"
   },
   {
    "duration": 50,
    "start_time": "2021-09-14T14:19:47.175Z"
   },
   {
    "duration": 10,
    "start_time": "2021-09-14T14:19:47.261Z"
   },
   {
    "duration": 10,
    "start_time": "2021-09-14T14:19:47.273Z"
   },
   {
    "duration": 13,
    "start_time": "2021-09-14T14:19:47.286Z"
   },
   {
    "duration": 14,
    "start_time": "2021-09-14T14:19:47.302Z"
   },
   {
    "duration": 29,
    "start_time": "2021-09-14T14:19:47.324Z"
   },
   {
    "duration": 5,
    "start_time": "2021-09-14T14:19:47.355Z"
   },
   {
    "duration": 9,
    "start_time": "2021-09-14T14:19:47.362Z"
   },
   {
    "duration": 52,
    "start_time": "2021-09-14T14:19:47.375Z"
   },
   {
    "duration": 9,
    "start_time": "2021-09-14T14:19:47.431Z"
   },
   {
    "duration": 683,
    "start_time": "2021-09-14T14:19:47.443Z"
   },
   {
    "duration": 471,
    "start_time": "2021-09-14T14:19:48.129Z"
   },
   {
    "duration": 17,
    "start_time": "2021-09-14T14:19:48.604Z"
   },
   {
    "duration": 47,
    "start_time": "2021-09-14T14:19:48.624Z"
   },
   {
    "duration": 8,
    "start_time": "2021-09-14T14:19:48.674Z"
   },
   {
    "duration": 9,
    "start_time": "2021-09-14T14:19:48.686Z"
   },
   {
    "duration": 28,
    "start_time": "2021-09-14T14:19:48.698Z"
   },
   {
    "duration": 4,
    "start_time": "2021-09-14T14:19:48.729Z"
   },
   {
    "duration": 5,
    "start_time": "2021-09-14T14:19:48.736Z"
   },
   {
    "duration": 6,
    "start_time": "2021-09-14T14:19:48.743Z"
   },
   {
    "duration": 10,
    "start_time": "2021-09-14T14:19:48.751Z"
   },
   {
    "duration": 209395,
    "start_time": "2021-09-14T14:19:48.764Z"
   },
   {
    "duration": 17,
    "start_time": "2021-09-14T14:23:18.161Z"
   },
   {
    "duration": 7,
    "start_time": "2021-09-14T14:23:18.180Z"
   },
   {
    "duration": 465,
    "start_time": "2021-09-14T14:23:18.189Z"
   },
   {
    "duration": 8,
    "start_time": "2021-09-14T14:25:50.824Z"
   },
   {
    "duration": 63,
    "start_time": "2021-09-14T14:25:50.835Z"
   },
   {
    "duration": 10,
    "start_time": "2021-09-14T14:25:50.902Z"
   },
   {
    "duration": 17,
    "start_time": "2021-09-14T14:25:50.915Z"
   },
   {
    "duration": 13,
    "start_time": "2021-09-14T14:25:50.934Z"
   },
   {
    "duration": 19,
    "start_time": "2021-09-14T14:25:50.949Z"
   },
   {
    "duration": 54,
    "start_time": "2021-09-14T14:25:50.970Z"
   },
   {
    "duration": 5,
    "start_time": "2021-09-14T14:25:51.027Z"
   },
   {
    "duration": 9,
    "start_time": "2021-09-14T14:25:51.036Z"
   },
   {
    "duration": 13,
    "start_time": "2021-09-14T14:25:51.048Z"
   },
   {
    "duration": 9,
    "start_time": "2021-09-14T14:25:51.064Z"
   },
   {
    "duration": 651,
    "start_time": "2021-09-14T14:25:51.075Z"
   },
   {
    "duration": 539,
    "start_time": "2021-09-14T14:25:51.729Z"
   },
   {
    "duration": 6,
    "start_time": "2021-09-14T14:25:52.270Z"
   },
   {
    "duration": 67,
    "start_time": "2021-09-14T14:25:52.279Z"
   },
   {
    "duration": 9,
    "start_time": "2021-09-14T14:25:52.348Z"
   },
   {
    "duration": 15,
    "start_time": "2021-09-14T14:25:52.359Z"
   },
   {
    "duration": 8,
    "start_time": "2021-09-14T14:25:52.377Z"
   },
   {
    "duration": 10,
    "start_time": "2021-09-14T14:25:52.387Z"
   },
   {
    "duration": 17,
    "start_time": "2021-09-14T14:25:52.400Z"
   },
   {
    "duration": 9,
    "start_time": "2021-09-14T14:25:52.420Z"
   },
   {
    "duration": 11,
    "start_time": "2021-09-14T14:25:52.432Z"
   },
   {
    "duration": 210757,
    "start_time": "2021-09-14T14:25:52.445Z"
   },
   {
    "duration": 30,
    "start_time": "2021-09-14T14:29:23.204Z"
   },
   {
    "duration": 36,
    "start_time": "2021-09-14T14:29:23.236Z"
   },
   {
    "duration": 56,
    "start_time": "2021-09-14T14:29:23.275Z"
   },
   {
    "duration": 9,
    "start_time": "2021-09-14T14:30:25.699Z"
   },
   {
    "duration": 56,
    "start_time": "2021-09-14T14:30:25.712Z"
   },
   {
    "duration": 10,
    "start_time": "2021-09-14T14:30:25.771Z"
   },
   {
    "duration": 18,
    "start_time": "2021-09-14T14:30:25.784Z"
   },
   {
    "duration": 30,
    "start_time": "2021-09-14T14:30:25.805Z"
   },
   {
    "duration": 12,
    "start_time": "2021-09-14T14:30:25.838Z"
   },
   {
    "duration": 23,
    "start_time": "2021-09-14T14:30:25.853Z"
   },
   {
    "duration": 5,
    "start_time": "2021-09-14T14:30:25.879Z"
   },
   {
    "duration": 41,
    "start_time": "2021-09-14T14:30:25.888Z"
   },
   {
    "duration": 11,
    "start_time": "2021-09-14T14:30:25.933Z"
   },
   {
    "duration": 8,
    "start_time": "2021-09-14T14:30:25.947Z"
   },
   {
    "duration": 916,
    "start_time": "2021-09-14T14:30:25.958Z"
   },
   {
    "duration": 704,
    "start_time": "2021-09-14T14:30:26.877Z"
   },
   {
    "duration": 8,
    "start_time": "2021-09-14T14:30:27.584Z"
   },
   {
    "duration": 57,
    "start_time": "2021-09-14T14:30:27.595Z"
   },
   {
    "duration": 10,
    "start_time": "2021-09-14T14:30:27.655Z"
   },
   {
    "duration": 15,
    "start_time": "2021-09-14T14:30:27.667Z"
   },
   {
    "duration": 34,
    "start_time": "2021-09-14T14:30:27.685Z"
   },
   {
    "duration": 17,
    "start_time": "2021-09-14T14:30:27.722Z"
   },
   {
    "duration": 17,
    "start_time": "2021-09-14T14:30:27.742Z"
   },
   {
    "duration": 14,
    "start_time": "2021-09-14T14:30:27.762Z"
   },
   {
    "duration": 20,
    "start_time": "2021-09-14T14:30:27.779Z"
   },
   {
    "duration": 1556124,
    "start_time": "2021-09-14T14:30:27.802Z"
   },
   {
    "duration": 21,
    "start_time": "2021-09-14T14:56:23.929Z"
   },
   {
    "duration": 65,
    "start_time": "2021-09-14T14:56:23.953Z"
   },
   {
    "duration": 55,
    "start_time": "2021-09-14T14:56:24.020Z"
   },
   {
    "duration": 1206,
    "start_time": "2021-09-16T03:20:36.922Z"
   },
   {
    "duration": 31,
    "start_time": "2021-09-16T03:20:38.129Z"
   },
   {
    "duration": 9,
    "start_time": "2021-09-16T03:20:38.162Z"
   },
   {
    "duration": 8,
    "start_time": "2021-09-16T03:20:38.173Z"
   },
   {
    "duration": 11,
    "start_time": "2021-09-16T03:20:38.182Z"
   },
   {
    "duration": 10,
    "start_time": "2021-09-16T03:20:38.194Z"
   },
   {
    "duration": 14,
    "start_time": "2021-09-16T03:20:38.205Z"
   },
   {
    "duration": 21,
    "start_time": "2021-09-16T03:20:38.221Z"
   },
   {
    "duration": 4,
    "start_time": "2021-09-16T03:20:38.244Z"
   },
   {
    "duration": 17,
    "start_time": "2021-09-16T03:20:38.250Z"
   },
   {
    "duration": 5,
    "start_time": "2021-09-16T03:20:38.269Z"
   },
   {
    "duration": 351,
    "start_time": "2021-09-16T03:20:38.275Z"
   },
   {
    "duration": 288,
    "start_time": "2021-09-16T03:20:38.628Z"
   },
   {
    "duration": 5,
    "start_time": "2021-09-16T03:20:38.918Z"
   },
   {
    "duration": 43,
    "start_time": "2021-09-16T03:20:38.924Z"
   },
   {
    "duration": 8,
    "start_time": "2021-09-16T03:20:38.969Z"
   },
   {
    "duration": 17,
    "start_time": "2021-09-16T03:20:38.978Z"
   },
   {
    "duration": 9,
    "start_time": "2021-09-16T03:20:38.997Z"
   },
   {
    "duration": 12,
    "start_time": "2021-09-16T03:20:39.008Z"
   },
   {
    "duration": 17,
    "start_time": "2021-09-16T03:20:39.022Z"
   },
   {
    "duration": 17,
    "start_time": "2021-09-16T03:20:39.041Z"
   },
   {
    "duration": 21,
    "start_time": "2021-09-16T03:20:39.059Z"
   },
   {
    "duration": 1188,
    "start_time": "2021-09-16T03:43:56.137Z"
   },
   {
    "duration": 31,
    "start_time": "2021-09-16T03:43:57.327Z"
   },
   {
    "duration": 9,
    "start_time": "2021-09-16T03:43:57.360Z"
   },
   {
    "duration": 10,
    "start_time": "2021-09-16T03:43:57.371Z"
   },
   {
    "duration": 8,
    "start_time": "2021-09-16T03:43:57.383Z"
   },
   {
    "duration": 17,
    "start_time": "2021-09-16T03:43:57.393Z"
   },
   {
    "duration": 29,
    "start_time": "2021-09-16T03:43:57.412Z"
   },
   {
    "duration": 3,
    "start_time": "2021-09-16T03:43:57.444Z"
   },
   {
    "duration": 6,
    "start_time": "2021-09-16T03:43:57.449Z"
   },
   {
    "duration": 11,
    "start_time": "2021-09-16T03:43:57.457Z"
   },
   {
    "duration": 5,
    "start_time": "2021-09-16T03:43:57.469Z"
   },
   {
    "duration": 350,
    "start_time": "2021-09-16T03:43:57.476Z"
   },
   {
    "duration": 257,
    "start_time": "2021-09-16T03:43:57.828Z"
   },
   {
    "duration": 4,
    "start_time": "2021-09-16T03:43:58.086Z"
   },
   {
    "duration": 26,
    "start_time": "2021-09-16T03:43:58.091Z"
   },
   {
    "duration": 6,
    "start_time": "2021-09-16T03:43:58.119Z"
   },
   {
    "duration": 18,
    "start_time": "2021-09-16T03:43:58.126Z"
   },
   {
    "duration": 5,
    "start_time": "2021-09-16T03:43:58.146Z"
   },
   {
    "duration": 6,
    "start_time": "2021-09-16T03:43:58.152Z"
   },
   {
    "duration": 5,
    "start_time": "2021-09-16T03:43:58.159Z"
   },
   {
    "duration": 5,
    "start_time": "2021-09-16T03:43:58.165Z"
   },
   {
    "duration": 6,
    "start_time": "2021-09-16T03:43:58.171Z"
   },
   {
    "duration": 1180,
    "start_time": "2021-09-16T04:39:13.233Z"
   },
   {
    "duration": 31,
    "start_time": "2021-09-16T04:39:14.415Z"
   },
   {
    "duration": 11,
    "start_time": "2021-09-16T04:39:14.448Z"
   },
   {
    "duration": 9,
    "start_time": "2021-09-16T04:39:14.461Z"
   },
   {
    "duration": 8,
    "start_time": "2021-09-16T04:39:14.472Z"
   },
   {
    "duration": 9,
    "start_time": "2021-09-16T04:39:14.481Z"
   },
   {
    "duration": 15,
    "start_time": "2021-09-16T04:39:14.492Z"
   },
   {
    "duration": 4,
    "start_time": "2021-09-16T04:39:14.510Z"
   },
   {
    "duration": 29,
    "start_time": "2021-09-16T04:39:14.515Z"
   },
   {
    "duration": 9,
    "start_time": "2021-09-16T04:39:14.546Z"
   },
   {
    "duration": 5,
    "start_time": "2021-09-16T04:39:14.557Z"
   },
   {
    "duration": 366,
    "start_time": "2021-09-16T04:39:14.563Z"
   },
   {
    "duration": 260,
    "start_time": "2021-09-16T04:39:14.931Z"
   },
   {
    "duration": 4,
    "start_time": "2021-09-16T04:39:15.192Z"
   },
   {
    "duration": 31,
    "start_time": "2021-09-16T04:39:15.197Z"
   },
   {
    "duration": 10,
    "start_time": "2021-09-16T04:39:15.230Z"
   },
   {
    "duration": 5,
    "start_time": "2021-09-16T04:39:15.242Z"
   },
   {
    "duration": 6,
    "start_time": "2021-09-16T04:39:15.248Z"
   },
   {
    "duration": 5,
    "start_time": "2021-09-16T04:39:15.256Z"
   },
   {
    "duration": 4,
    "start_time": "2021-09-16T04:39:15.263Z"
   },
   {
    "duration": 5,
    "start_time": "2021-09-16T04:39:15.269Z"
   },
   {
    "duration": 8,
    "start_time": "2021-09-16T04:39:15.276Z"
   },
   {
    "duration": 1153,
    "start_time": "2021-09-16T04:53:42.178Z"
   },
   {
    "duration": 31,
    "start_time": "2021-09-16T04:53:43.332Z"
   },
   {
    "duration": 9,
    "start_time": "2021-09-16T04:53:43.366Z"
   },
   {
    "duration": 10,
    "start_time": "2021-09-16T04:53:43.377Z"
   },
   {
    "duration": 9,
    "start_time": "2021-09-16T04:53:43.389Z"
   },
   {
    "duration": 9,
    "start_time": "2021-09-16T04:53:43.399Z"
   },
   {
    "duration": 33,
    "start_time": "2021-09-16T04:53:43.409Z"
   },
   {
    "duration": 4,
    "start_time": "2021-09-16T04:53:43.444Z"
   },
   {
    "duration": 8,
    "start_time": "2021-09-16T04:53:43.450Z"
   },
   {
    "duration": 10,
    "start_time": "2021-09-16T04:53:43.460Z"
   },
   {
    "duration": 10,
    "start_time": "2021-09-16T04:53:43.472Z"
   },
   {
    "duration": 365,
    "start_time": "2021-09-16T04:53:43.483Z"
   },
   {
    "duration": 264,
    "start_time": "2021-09-16T04:53:43.849Z"
   },
   {
    "duration": 4,
    "start_time": "2021-09-16T04:53:44.115Z"
   },
   {
    "duration": 35,
    "start_time": "2021-09-16T04:53:44.121Z"
   },
   {
    "duration": 6,
    "start_time": "2021-09-16T04:53:44.157Z"
   },
   {
    "duration": 5,
    "start_time": "2021-09-16T04:53:44.164Z"
   },
   {
    "duration": 4,
    "start_time": "2021-09-16T04:53:44.171Z"
   },
   {
    "duration": 5,
    "start_time": "2021-09-16T04:53:44.177Z"
   },
   {
    "duration": 4,
    "start_time": "2021-09-16T04:53:44.183Z"
   },
   {
    "duration": 5,
    "start_time": "2021-09-16T04:53:44.189Z"
   },
   {
    "duration": 104,
    "start_time": "2021-09-16T04:53:44.196Z"
   },
   {
    "duration": 817,
    "start_time": "2021-09-16T04:53:43.485Z"
   },
   {
    "duration": 811,
    "start_time": "2021-09-16T04:53:43.492Z"
   },
   {
    "duration": 808,
    "start_time": "2021-09-16T04:53:43.496Z"
   },
   {
    "duration": 804,
    "start_time": "2021-09-16T04:53:43.501Z"
   },
   {
    "duration": 4,
    "start_time": "2021-09-16T04:54:01.157Z"
   },
   {
    "duration": 46,
    "start_time": "2021-09-16T04:54:01.163Z"
   },
   {
    "duration": 13,
    "start_time": "2021-09-16T04:54:01.212Z"
   },
   {
    "duration": 18,
    "start_time": "2021-09-16T04:54:01.228Z"
   },
   {
    "duration": 18,
    "start_time": "2021-09-16T04:54:01.247Z"
   },
   {
    "duration": 17,
    "start_time": "2021-09-16T04:54:01.267Z"
   },
   {
    "duration": 18,
    "start_time": "2021-09-16T04:54:01.287Z"
   },
   {
    "duration": 27,
    "start_time": "2021-09-16T04:54:01.307Z"
   },
   {
    "duration": 19,
    "start_time": "2021-09-16T04:54:01.336Z"
   },
   {
    "duration": 22,
    "start_time": "2021-09-16T04:54:01.357Z"
   },
   {
    "duration": 29,
    "start_time": "2021-09-16T04:54:01.380Z"
   },
   {
    "duration": 348,
    "start_time": "2021-09-16T04:54:01.411Z"
   },
   {
    "duration": 315,
    "start_time": "2021-09-16T04:54:01.760Z"
   },
   {
    "duration": 3,
    "start_time": "2021-09-16T04:54:02.077Z"
   },
   {
    "duration": 51,
    "start_time": "2021-09-16T04:54:02.082Z"
   },
   {
    "duration": 6,
    "start_time": "2021-09-16T04:54:02.135Z"
   },
   {
    "duration": 15,
    "start_time": "2021-09-16T04:54:02.142Z"
   },
   {
    "duration": 15,
    "start_time": "2021-09-16T04:54:02.159Z"
   },
   {
    "duration": 21,
    "start_time": "2021-09-16T04:54:02.177Z"
   },
   {
    "duration": 20,
    "start_time": "2021-09-16T04:54:02.200Z"
   },
   {
    "duration": 23,
    "start_time": "2021-09-16T04:54:02.222Z"
   },
   {
    "duration": 6,
    "start_time": "2021-09-16T04:54:02.247Z"
   },
   {
    "duration": 365989,
    "start_time": "2021-09-16T04:54:02.254Z"
   },
   {
    "duration": 13,
    "start_time": "2021-09-16T05:00:08.244Z"
   },
   {
    "duration": 15,
    "start_time": "2021-09-16T05:00:08.258Z"
   },
   {
    "duration": 36,
    "start_time": "2021-09-16T05:00:08.274Z"
   },
   {
    "duration": 6,
    "start_time": "2021-09-16T05:02:41.265Z"
   },
   {
    "duration": 36,
    "start_time": "2021-09-16T05:02:41.273Z"
   },
   {
    "duration": 7,
    "start_time": "2021-09-16T05:02:41.311Z"
   },
   {
    "duration": 13,
    "start_time": "2021-09-16T05:02:41.319Z"
   },
   {
    "duration": 10,
    "start_time": "2021-09-16T05:02:41.334Z"
   },
   {
    "duration": 8,
    "start_time": "2021-09-16T05:02:41.346Z"
   },
   {
    "duration": 25,
    "start_time": "2021-09-16T05:02:41.357Z"
   },
   {
    "duration": 4,
    "start_time": "2021-09-16T05:02:41.385Z"
   },
   {
    "duration": 12,
    "start_time": "2021-09-16T05:02:41.391Z"
   },
   {
    "duration": 9,
    "start_time": "2021-09-16T05:02:41.405Z"
   },
   {
    "duration": 9,
    "start_time": "2021-09-16T05:02:41.416Z"
   },
   {
    "duration": 374,
    "start_time": "2021-09-16T05:02:41.427Z"
   },
   {
    "duration": 341,
    "start_time": "2021-09-16T05:02:41.803Z"
   },
   {
    "duration": 4,
    "start_time": "2021-09-16T05:02:42.145Z"
   },
   {
    "duration": 37,
    "start_time": "2021-09-16T05:02:42.151Z"
   },
   {
    "duration": 7,
    "start_time": "2021-09-16T05:02:42.190Z"
   },
   {
    "duration": 30,
    "start_time": "2021-09-16T05:02:42.199Z"
   },
   {
    "duration": 19,
    "start_time": "2021-09-16T05:02:42.231Z"
   },
   {
    "duration": 25,
    "start_time": "2021-09-16T05:02:42.252Z"
   },
   {
    "duration": 7,
    "start_time": "2021-09-16T05:02:42.279Z"
   },
   {
    "duration": 13,
    "start_time": "2021-09-16T05:02:42.288Z"
   },
   {
    "duration": 23,
    "start_time": "2021-09-16T05:02:42.302Z"
   },
   {
    "duration": 594914,
    "start_time": "2021-09-16T05:02:42.327Z"
   },
   {
    "duration": 104,
    "start_time": "2021-09-16T05:12:37.245Z"
   },
   {
    "duration": 3,
    "start_time": "2021-09-16T05:12:37.351Z"
   },
   {
    "duration": 31,
    "start_time": "2021-09-16T05:12:37.355Z"
   },
   {
    "duration": 616,
    "start_time": "2021-09-16T05:29:36.665Z"
   },
   {
    "duration": 113,
    "start_time": "2021-09-16T05:31:02.279Z"
   },
   {
    "duration": 215,
    "start_time": "2021-09-16T05:31:19.340Z"
   },
   {
    "duration": 460,
    "start_time": "2021-09-16T05:33:55.881Z"
   },
   {
    "duration": 309,
    "start_time": "2021-09-16T05:34:14.253Z"
   },
   {
    "duration": 244,
    "start_time": "2021-09-16T05:34:22.146Z"
   },
   {
    "duration": 259,
    "start_time": "2021-09-16T05:34:27.895Z"
   },
   {
    "duration": 117,
    "start_time": "2021-09-16T05:35:06.207Z"
   },
   {
    "duration": 187,
    "start_time": "2021-09-16T05:35:11.237Z"
   },
   {
    "duration": 287,
    "start_time": "2021-09-16T05:35:20.010Z"
   },
   {
    "duration": 1172,
    "start_time": "2021-09-16T05:35:37.758Z"
   },
   {
    "duration": 31,
    "start_time": "2021-09-16T05:35:38.932Z"
   },
   {
    "duration": 9,
    "start_time": "2021-09-16T05:35:38.965Z"
   },
   {
    "duration": 14,
    "start_time": "2021-09-16T05:35:38.976Z"
   },
   {
    "duration": 9,
    "start_time": "2021-09-16T05:35:38.992Z"
   },
   {
    "duration": 9,
    "start_time": "2021-09-16T05:35:39.002Z"
   },
   {
    "duration": 28,
    "start_time": "2021-09-16T05:35:39.013Z"
   },
   {
    "duration": 3,
    "start_time": "2021-09-16T05:35:39.043Z"
   },
   {
    "duration": 7,
    "start_time": "2021-09-16T05:35:39.048Z"
   },
   {
    "duration": 11,
    "start_time": "2021-09-16T05:35:39.056Z"
   },
   {
    "duration": 6,
    "start_time": "2021-09-16T05:35:39.068Z"
   },
   {
    "duration": 360,
    "start_time": "2021-09-16T05:35:39.075Z"
   },
   {
    "duration": 260,
    "start_time": "2021-09-16T05:35:39.441Z"
   },
   {
    "duration": 5,
    "start_time": "2021-09-16T05:35:39.703Z"
   },
   {
    "duration": 39,
    "start_time": "2021-09-16T05:35:39.709Z"
   },
   {
    "duration": 8,
    "start_time": "2021-09-16T05:35:39.750Z"
   },
   {
    "duration": 6,
    "start_time": "2021-09-16T05:35:39.759Z"
   },
   {
    "duration": 6,
    "start_time": "2021-09-16T05:35:39.767Z"
   },
   {
    "duration": 13,
    "start_time": "2021-09-16T05:35:39.774Z"
   },
   {
    "duration": 7,
    "start_time": "2021-09-16T05:35:39.789Z"
   },
   {
    "duration": 14,
    "start_time": "2021-09-16T05:35:39.797Z"
   },
   {
    "duration": 9,
    "start_time": "2021-09-16T05:35:39.813Z"
   },
   {
    "duration": 368615,
    "start_time": "2021-09-16T05:35:39.826Z"
   },
   {
    "duration": 106,
    "start_time": "2021-09-16T05:41:48.444Z"
   },
   {
    "duration": 8,
    "start_time": "2021-09-16T05:41:48.552Z"
   },
   {
    "duration": 124,
    "start_time": "2021-09-16T05:41:48.562Z"
   },
   {
    "duration": 2,
    "start_time": "2021-09-16T05:41:48.688Z"
   },
   {
    "duration": 7,
    "start_time": "2021-09-16T05:41:48.692Z"
   },
   {
    "duration": 41,
    "start_time": "2021-09-16T05:41:48.701Z"
   },
   {
    "duration": 268,
    "start_time": "2021-09-16T05:41:48.743Z"
   }
  ],
  "kernelspec": {
   "display_name": "Python 3",
   "language": "python",
   "name": "python3"
  },
  "language_info": {
   "codemirror_mode": {
    "name": "ipython",
    "version": 3
   },
   "file_extension": ".py",
   "mimetype": "text/x-python",
   "name": "python",
   "nbconvert_exporter": "python",
   "pygments_lexer": "ipython3",
   "version": "3.7.8"
  },
  "toc": {
   "base_numbering": 1,
   "nav_menu": {},
   "number_sections": true,
   "sideBar": true,
   "skip_h1_title": true,
   "title_cell": "Содержание",
   "title_sidebar": "Contents",
   "toc_cell": true,
   "toc_position": {
    "height": "calc(100% - 180px)",
    "left": "10px",
    "top": "150px",
    "width": "270.391px"
   },
   "toc_section_display": true,
   "toc_window_display": true
  }
 },
 "nbformat": 4,
 "nbformat_minor": 2
}
